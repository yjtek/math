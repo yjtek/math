{
 "cells": [
  {
   "cell_type": "markdown",
   "metadata": {},
   "source": [
    "### Matrix exponentiation"
   ]
  },
  {
   "cell_type": "markdown",
   "metadata": {},
   "source": [
    "- Given a matrix $M$, and exponent $N$, compute $A^N$\n",
    "- Naive Time complexity: $O(M^3 * N)$, assuming M is the dimension of the matrix (assuming square matrix)\n",
    "    - $M^3$ comes from the usual algorithm for matrix multiplication (for each value, you have $M$ products, and there are $M$ columns and $M$ rows)\n",
    "    - $N$ because you multiply the matrix $N$ times\n",
    "- Optimised Time Complexity: $O(M^3 * \\log(N))$\n",
    "\n",
    "- Recall our previous discussion of binary exponentiation. \n",
    "    - In the naive case, with inputs `base`, and `exponent`, we run a loop `exponent` times and multiply base iteratively taking $O(N)$ time\n",
    "    - We next found that by halving the exponent and squaring the base where possible, we can speed things up to $O(\\log(N))$\n",
    "\n",
    "- The exact same idea is used here! Except instead of having the initial value as 1, we have the identity matrix instead. (This is known as the **identity element**)"
   ]
  },
  {
   "cell_type": "code",
   "execution_count": 16,
   "metadata": {},
   "outputs": [
    {
     "data": {
      "text/plain": [
       "827240261886336764177"
      ]
     },
     "execution_count": 16,
     "metadata": {},
     "output_type": "execute_result"
    }
   ],
   "source": [
    "def binary_exponentiation(base: int, exponent: int) -> int:\n",
    "    result = 1\n",
    "    while exponent != 0:\n",
    "        # print(f\"{result=}, {base=}, {exponent=}\")\n",
    "        if exponent % 2 == 1:\n",
    "            result *= base\n",
    "            exponent -= 1\n",
    "        \n",
    "        base = base**2\n",
    "        exponent //= 2\n",
    "    return result\n",
    "\n",
    "binary_exponentiation(17, 17)"
   ]
  },
  {
   "cell_type": "code",
   "execution_count": 50,
   "metadata": {},
   "outputs": [
    {
     "data": {
      "text/plain": [
       "array([[1069., 1558.],\n",
       "       [2337., 3406.]])"
      ]
     },
     "execution_count": 50,
     "metadata": {},
     "output_type": "execute_result"
    }
   ],
   "source": [
    "import numpy as np\n",
    "matrix = np.arange(1,5).reshape(2,2)\n",
    "exponent = 5\n",
    "\n",
    "def matrix_exponentiation(matrix: np.array, exponent: int) -> np.array:\n",
    "    row, col = matrix.shape\n",
    "    assert row == col, f'Input shape ({row=}, {col=}) is not square'\n",
    "    \n",
    "    result = np.identity(row)\n",
    "    while exponent > 0:\n",
    "        if exponent % 2 == 1:\n",
    "            result = np.dot(result, matrix)\n",
    "            exponent -= 1\n",
    "        \n",
    "        matrix = np.dot(matrix, matrix)\n",
    "        exponent /= 2\n",
    "\n",
    "    return result\n",
    "\n",
    "matrix_exponentiation(matrix, exponent)"
   ]
  }
 ],
 "metadata": {
  "kernelspec": {
   "display_name": "kaggle",
   "language": "python",
   "name": "python3"
  },
  "language_info": {
   "codemirror_mode": {
    "name": "ipython",
    "version": 3
   },
   "file_extension": ".py",
   "mimetype": "text/x-python",
   "name": "python",
   "nbconvert_exporter": "python",
   "pygments_lexer": "ipython3",
   "version": "3.10.4"
  }
 },
 "nbformat": 4,
 "nbformat_minor": 2
}
