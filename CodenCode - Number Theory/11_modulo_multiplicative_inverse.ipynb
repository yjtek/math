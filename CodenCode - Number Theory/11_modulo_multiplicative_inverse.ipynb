{
 "cells": [
  {
   "cell_type": "markdown",
   "metadata": {},
   "source": [
    "### Modulo Multiplicative Inverse"
   ]
  },
  {
   "cell_type": "markdown",
   "metadata": {},
   "source": [
    "- We have established 2 things so far from modular arithmetic\n",
    "    - $(A \\pm B) \\mod P = (A \\mod P \\pm B \\mod P) \\mod P$\n",
    "    - $(A * B) \\mod P = (A \\mod P * B \\mod P) \\mod P$\n",
    "\n",
    "- What about division? Is this true: $(A / B) \\mod P = (A \\mod P / B \\mod P) \\mod P$? Simple example shows us that it isn't \n",
    "    - $(6 / 2) \\mod 5 = 3$\n",
    "    - $((6 \\mod 5) / (2 \\mod 5)) \\mod 5 = \\left \\lfloor 1/2 \\right \\rfloor \\mod 5 = 0$\n",
    "\n",
    "- Instead of division, we use a modulo multiplicative inverse!"
   ]
  },
  {
   "cell_type": "markdown",
   "metadata": {},
   "source": [
    "- What is an inverse? \n",
    "    - Let there exist some expression $A$. The inverse of $A$ is $A'$, and is defined such that $A \\times A' = 1$\n",
    "    - As we can see, the definition of an inverse is actually based on multiplicative identity! \n",
    "        - Division is simply inverse multiplication\n",
    "\n",
    "- Since the inverse can be defined using the multiplication operator, we can restate our previous division identity differently. \n",
    "    - Instead of trying to prove $(A / B) \\mod P = (A \\mod P / B \\mod P) \\mod P$, we rewrite this as $(A * X) \\mod P = ((A \\mod P) * (X \\mod P)) \\mod P$\n",
    "    - We want to find some value $X$ such that $A * X \\equiv 1 (\\mod P)$"
   ]
  },
  {
   "cell_type": "markdown",
   "metadata": {},
   "source": [
    "- Does modulo inverse exist for every number?\n",
    "    - No obviously\n",
    "    - Let $A = 12, P = 6$. Then there is no possible value of $X$ such that $12 * X \\equiv 1 (\\mod 6)$\n",
    "\n",
    "    - A modulo multiplicative inverse of A under P exists when $\\text{GCD}(A, P) = 1$. i.e. it exists when $A$ and $P$ are co-prime!"
   ]
  },
  {
   "cell_type": "markdown",
   "metadata": {},
   "source": [
    "- How do we compute modulo multiplicative inverse?\n",
    "    - 1. Brute force: Looping over values from 1 to $P-1$, multiply with $A$ and take $\\mod P$ to check whether it is 1\n",
    "    - There is obviously a better way"
   ]
  }
 ],
 "metadata": {
  "language_info": {
   "name": "python"
  }
 },
 "nbformat": 4,
 "nbformat_minor": 2
}
