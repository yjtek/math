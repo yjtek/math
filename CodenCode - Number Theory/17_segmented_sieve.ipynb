{
 "cells": [
  {
   "cell_type": "markdown",
   "metadata": {},
   "source": [
    "### Segmented Sieve"
   ]
  },
  {
   "cell_type": "markdown",
   "metadata": {},
   "source": [
    "- What is a segmented sieve?\n",
    "    - This is another way to generate prime numbers in a given range, similar to Eratosthenes Sieve\n",
    "    - But the usual sieve has a memory issue; if we want to generate large prime numbers, we need to initialise a large array! \n",
    "        - Imagine if we want to find primes between some small range of values $10^{12} - 100$ and $10^{12} + 100$.\n",
    "        - Although the value range is small, the array needed is still large!\n",
    "    - This is where segmented sieve comes in. If we have some manageable range of values, regardless of how large the numbers are, we only need to create an array with the size of the range of values we're interested in. In the case of $10^{12} - 100$ and $10^{12} + 100$, our array size is only 200!\n",
    "\n",
    "- Overview of implementation\n",
    "    - Let $L, R$ be the left and right boundaries of the values\n",
    "    - Generate all primes up to $\\sqrt{R}$\n",
    "    - Create an array $A$ of 0s with size $R - L + 1$. 0 represents composite number, and 1 represents prime number\n",
    "    - For each prime $p$ in range 2 to $\\sqrt{R}$, for every multiple $m$ of $p$ in between $[L,R]$, mark index $A[m-L]$ as 1\n",
    "    - Example: Let $L= 11, R=20$\n",
    "        - Then create array with $20-11+1 = 10$ elements, representing each index from 11 to 20\n",
    "        - So if number $x=11$ is prime, then mark position $x-L = 11 - 11 = 0$ in the array. This examples the $m-L$ term\n",
    "\n",
    "- Explanation\n",
    "    1. Why do we only generate primes up to $\\sqrt{R}$?\n",
    "        - Let's say we want to know the prime divisors of a number $X$\n",
    "        - We only need to search up to $\\sqrt{X}$ to see if there are any other divisors besides 1 and X\n",
    "        - Because if there are no divisors betwteen 1 and $\\sqrt{X}$, there can't be any above $\\sqrt{X}$. Because if a divisor exists above $\\sqrt{X}$, it must be paired with a value below $\\sqrt{X}$\n",
    "        - e.g. For $X=100$, for divisor $50 > \\sqrt{100}=10$, it must be paired with a divisor $2 < \\sqrt{100}$"
   ]
  },
  {
   "cell_type": "code",
   "execution_count": 26,
   "metadata": {},
   "outputs": [
    {
     "data": {
      "text/plain": [
       "[101, 103, 107, 109, 113, 127, 131, 137, 139, 149]"
      ]
     },
     "execution_count": 26,
     "metadata": {},
     "output_type": "execute_result"
    }
   ],
   "source": [
    "import numpy as np\n",
    "\n",
    "def sieve_primes_to_root_r(R):\n",
    "    rlim = int(R ** 0.5 // 1) + 1\n",
    "    sieve = [-1] * rlim\n",
    "    sieve[0], sieve[1] = 0, 1\n",
    "    for i in range(2, rlim):\n",
    "        if sieve[i] == -1:\n",
    "            sieve[i**i: rlim: i] = [i] * len(sieve[i**i: rlim: i])\n",
    "    return [index for index, value in enumerate(sieve) if value == -1]\n",
    "\n",
    "L = 101\n",
    "R = 150\n",
    "\n",
    "def make_segmented_sieve(L, R):\n",
    "    sieve = [-1] * (R - L + 1)\n",
    "    primes_to_root_r = sieve_primes_to_root_r(R=R)\n",
    "    for prime in primes_to_root_r:\n",
    "        start = max(\n",
    "            prime**2,\n",
    "            (L // prime) * prime\n",
    "        )\n",
    "        if start < L:\n",
    "            start += prime\n",
    "        \n",
    "        composite_number_indices = [x-L for x in range(start, R+1, prime)]\n",
    "        for index in composite_number_indices:\n",
    "            if sieve[index] == -1:\n",
    "                sieve[index] = prime\n",
    "\n",
    "    return [index+L for index, value in enumerate(sieve) if value == -1]\n",
    "\n",
    "make_segmented_sieve(L, R)"
   ]
  }
 ],
 "metadata": {
  "kernelspec": {
   "display_name": "kaggle",
   "language": "python",
   "name": "python3"
  },
  "language_info": {
   "codemirror_mode": {
    "name": "ipython",
    "version": 3
   },
   "file_extension": ".py",
   "mimetype": "text/x-python",
   "name": "python",
   "nbconvert_exporter": "python",
   "pygments_lexer": "ipython3",
   "version": "3.10.4"
  }
 },
 "nbformat": 4,
 "nbformat_minor": 2
}
