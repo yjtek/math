{
 "cells": [
  {
   "cell_type": "code",
   "execution_count": 2,
   "metadata": {},
   "outputs": [],
   "source": [
    "import scipy\n",
    "import numpy as np\n",
    "import matplotlib.pyplot as plt"
   ]
  },
  {
   "cell_type": "markdown",
   "metadata": {},
   "source": [
    "### 1. Consider a grain of pollen suspended in water, whose horizontal position can be modeled by Brownian motion $\\{ B(t)\\}$ with parameter $\\alpha = 4 \\text{mm}^2/\\text{s}$, as in Example 49.1. Calculate the autocovariance function of $\\{ B(s,t) \\}$. Check that this autocovariance function agrees with the variance function you derived in Lesson 51."
   ]
  },
  {
   "cell_type": "markdown",
   "metadata": {},
   "source": [
    "- By Brownian motion definition, \n",
    "    - $B(t) - B(0) \\sim \\text{Normal}(\\mu=0, \\sigma=\\sqrt{4 \\cdot [t_1 - t_0]} ) $\n",
    "    - $V(t) = Var[B(t)] = 4 \\cdot (t_1 - t_0)$ \n",
    "\n",
    "- Assume $0 \\lt s \\lt t \\lt \\inf$\n",
    "\n",
    "- We will follow Example 52.2, and rewrite $t$ in terms of $s$ to get 2 independent time periods. This lets us use the fact that Brownian motion is independent between time periods\n",
    "    - $\\{B(s)\\} = B(s) - B(0)$\n",
    "    - $\\{B(t)\\} = B(s) + B(t-s)$\n",
    "\n",
    "$$\\begin{align}\n",
    "    C_{B}(s,t) &= Cov[B(s), B(s) + B(t-s)] \\\\\n",
    "    &= Cov[B(s), B(s)] + Cov[B(s) + B(t-s)] \\\\\n",
    "    &= Cov[B(s), B(s)] & \\text{by independence } Cov[B(s) + B(t-s)] = 0 \\\\ \n",
    "    &= Var[B(s)] \\\\\n",
    "    &= V(s) \\\\\n",
    "    &= 4 \\cdot (s - 0)\n",
    "\\end{align}$$\n",
    "\n",
    "- In general, $C_{B}(s,t) = V(min(s,t)) = 4 \\cdot (min(s,t) - 0)$\n",
    "\n",
    "- When $s=t$, then $V(t) = 4 \\cdot (t-0)$, which matches the variance result we got in section 51 Q1"
   ]
  },
  {
   "cell_type": "code",
   "execution_count": 55,
   "metadata": {},
   "outputs": [],
   "source": [
    "# STEPS = 100\n",
    "# instantiations = np.array([np.random.normal(0,1,size=STEPS).cumsum() for _ in range(500)])\n",
    "# s = 20\n",
    "# t = 50\n",
    "# for smaller_val in range(30):\n",
    "#     step_s= [i[smaller_val] for i in instantiations]\n",
    "#     step_t = [i[t] for i in instantiations]\n",
    "#     print(np.cov(step_s, step_t)[0,1])"
   ]
  },
  {
   "cell_type": "markdown",
   "metadata": {},
   "source": [
    "### 2. Radioactive particles hit a Geiger counter according to a Poisson process at a rate of $\\lambda = 0.8$ particles per second. Let $\\{ N(t); t \\ge 0 \\}$ represent this Poisson process. Define the new process $\\{ D(t); t \\ge 3 \\}$ by $$D(t) = N(t) - N(t-3)$$ This process represents the number of particles that hit the Geiger counter in the last 3 seconds. Calculate the autocovariance function of $\\{ D(t); t \\ge 3 \\}$. Check that this autocovariance function agrees with the variance function you derived in Lesson 51.\n",
    "\n",
    "### (Hint: Start by calculating $Cov[D(s), D(t)]$ when $s \\gt t$. What happens when $s \\gt t + 3$? What happens when $t \\lt s \\lt t+3$? Once you’ve worked this out, it should be straightforward to extend this to the case $s \\lt t$.)"
   ]
  },
  {
   "cell_type": "markdown",
   "metadata": {},
   "source": [
    "- For this poisson process, the arrivals for any time interval $t$ is distributed according to $\\text{Poisson}(\\lambda = 0.8)$ distribution\n",
    "\n",
    "- Since non-overlapping time periods are independent in a Poisson process, the count of particles that hit the Geiger counter in the last 3 seconds $D(t) = N(t) - N(t-3)$ follows the same distribution across any 3 second period\n",
    "    - $N(t) \\sim \\text{Poisson}(\\lambda = 0.8 * 3 = 2.4)$\n",
    "\n",
    "- In this case, $D(t) = N(t) - N(t-3)$\n",
    "    - From section 50 Q2, $E[D(t)] = 3 \\lambda$\n",
    "    - From section 51 Q2, $Var[D(t)] = 3 \\lambda$\n",
    "\n",
    "- We know that non-overlapping time periods are independent in a Poisson process. So there must be some overlapping time period between $N(t) - N(t-3)$ and $N(s) - N(s-3)$\n",
    "    - If there isn't, then $Cov[N(s) - N(s-3), N(t) - N(t-3)] = 0$\n",
    "\n",
    "    - $$\\begin{align}\n",
    "        C_{D}(s,t) &= Cov[D(s), D(t)] \\\\\n",
    "        &= Cov[N(t) - N(t-3), N(s) - N(s-3)] \\\\\n",
    "        &= Cov[N(t), N(s)] - Cov[N(t-3), N(s)] - Cov[N(t), N(s-3)] + Cov[N(t-3), N(s-3)] \\\\\n",
    "        \\end{align}$$\n",
    "\n",
    "- Assuming $s < t$\n",
    "    - $$\\begin{align}\n",
    "        Cov[N(s), N(t)] &= Cov[N(s), N(s + (t-s))] \\\\\n",
    "        &= Cov[N(s), N(s)] + Cov[N(s), N(t-s)] \\\\\n",
    "        &= Var[N(s)] & \\text{by independence of } s, t-s  \\\\\n",
    "        &= \\text{min}(s,t) \\lambda\n",
    "        \\end{align}$$\n",
    "\n",
    "- Substituting\n",
    "    - $$\\begin{align}\n",
    "        C_{D}(s,t) &= Cov[N(t), N(s)] - Cov[N(t-3), N(s)] - Cov[N(t), N(s-3)] + Cov[N(t-3), N(s-3)] \\\\\n",
    "        &= \\text{min}(s,t) \\lambda - \\text{min}(s,t-3) \\lambda - \\text{min}(s-3,t) \\lambda + \\text{min}(s-3,t-3) \\lambda \\\\\n",
    "        &= s \\lambda - (t-3) \\lambda - (s-3) \\lambda + (s-3) \\lambda \\\\\n",
    "        &= s \\lambda - t \\lambda + 3 \\lambda \\\\\n",
    "        &= (s - t + 3) \\lambda\n",
    "        \\end{align}$$\n",
    "\n",
    "- So the conclusion here is that, when $s < t$ AND $|s - t| < 3$\n",
    "    - $C_{D}(s,t) = (s - t + 3) \\lambda$\n",
    "    - If and ONLY IF the above conditions are met, $(s - t + 3)$ is simply the overlapping time period between $s$ and $t$\n",
    "\n",
    "- Notice that when $s = t$, then $C_{D}(s,t) = (s - t + 3) \\lambda = 3 \\lambda = Var[t]$"
   ]
  },
  {
   "cell_type": "code",
   "execution_count": 92,
   "metadata": {},
   "outputs": [
    {
     "data": {
      "text/plain": [
       "array([[2.97986295, 0.97714127],\n",
       "       [0.97714127, 2.96453836]])"
      ]
     },
     "execution_count": 92,
     "metadata": {},
     "output_type": "execute_result"
    }
   ],
   "source": [
    "LAM = 1\n",
    "t = 8\n",
    "s = 6\n",
    "size = 10_000\n",
    "\n",
    "first_3 = np.random.poisson(lam=LAM * 3, size=size)\n",
    "following_2 = np.random.poisson(lam=LAM * 2, size=size)\n",
    "overlapping_1 = np.random.poisson(lam=LAM * 1, size=size)\n",
    "non_overlapping_2 = np.random.poisson(lam=LAM * 2, size=size)\n",
    "\n",
    "t = first_3 + following_2 + overlapping_1 + non_overlapping_2\n",
    "tm3 = first_3 + following_2\n",
    "s = first_3 + following_2 + overlapping_1\n",
    "sm3 = first_3\n",
    "\n",
    "dt = t - tm3 \n",
    "ds = s - sm3\n",
    "\n",
    "np.cov(dt, ds)"
   ]
  },
  {
   "cell_type": "markdown",
   "metadata": {},
   "source": [
    "### 3. Consider the moving average process $\\{ X[n]\\}$ of example 48.2, defined by $$X[n] = 0.5 Z[n] + 0.5 Z[n-1]$$ where $\\{ Z[n]\\}$ is a sequence of i.i.d. standard normal random variables. Calculate the autocovariance function of $\\{ X[n] \\}$.  Check that this autocovariance function agrees with the variance function you derived in Lesson 51.\n",
    "\n",
    "### (Hint: Consider the following cases: (1) m = n, (2) m = n+1, (3) m = n-1, (4) m > n+1, (5) m < n-1)"
   ]
  },
  {
   "cell_type": "markdown",
   "metadata": {},
   "source": [
    "- Let's consider all distinct cases: \n",
    "\n",
    "- If m=n\n",
    "    - $$\\begin{align}\n",
    "        C_{X}(m,n) &= Cov[X[m], X[n]] \\\\\n",
    "        &= Cov[X[m], X[n]] \\\\\n",
    "        &= Cov[X[m], X[m]] \\\\\n",
    "        &= Var[X[m]] \\\\\n",
    "        &= Var[0.5 Z[n] + 0.5Z[n-1]] \\\\\n",
    "        &= 0.25 Var[Z[n] + Z[n-1]] \\\\\n",
    "        &= 0.25 * (Var[Z[n]] + Var[Z[n-1]]) \\\\\n",
    "        &= 0.25 * (2) \\\\\n",
    "        &= 0.5\n",
    "        \\end{align}$$\n",
    "\n",
    "- If m=n+1\n",
    "    - $$\\begin{align}\n",
    "        C_{X}(m,n) &= Cov[X[m], X[n]] \\\\\n",
    "        &= Cov[X[n+1], X[n]] \\\\\n",
    "        &= Cov[0.5 Z[n+1] + 0.5 Z[n], 0.5 Z[n] + 0.5 Z[n-1]] \\\\\n",
    "        &= 0.25 Cov[Z[n+1] + Z[n], Z[n] + Z[n-1]] \\\\\n",
    "        &= 0.25 (Cov[Z[n+1],Z[n]] + Cov[Z[n], Z[n]] + Cov[Z[n+1], Z[n]] + Cov[Z[n+1], Z[n-1]]) \\\\\n",
    "        &= 0.25 (Cov[Z[n], Z[n]]) \\\\\n",
    "        &= 0.25 Var[Z[n] \\\\\n",
    "        &= 0.25\n",
    "        \\end{align}$$\n",
    "\n",
    "- If m=n-1\n",
    "    - Same logic as m=n+1\n",
    "    - $$\\begin{align}\n",
    "        C_{X}(m,n) &= Cov[X[m], X[n]] \\\\\n",
    "        &= Cov[X[n-1], X[n]] \\\\\n",
    "        &= 0.25 Var[Z[n-1] \\\\\n",
    "        &= 0.25\n",
    "        \\end{align}$$\n",
    "\n",
    "- If m>n+1\n",
    "    - Same logic as m < n-1\n",
    "    - $$\\begin{align}\n",
    "        C_{X}(m,n) &= Cov[X[m], X[n]] \\\\\n",
    "        &= Cov[X[n+c], X[n]] & c > 1 \\\\\n",
    "        &= Cov[0.5 Z[n+c] + 0.5 Z[n+c-1], 0.5 Z[n] + 0.5 Z[n-1]] \\\\\n",
    "        &= 0.25 Cov[Z[n+c] + Z[n+c-1], Z[n] + Z[n-1]] \\\\\n",
    "        &= 0.25 \\cdot 0 \\\\\n",
    "        &= 0\n",
    "        \\end{align}$$"
   ]
  },
  {
   "cell_type": "markdown",
   "metadata": {},
   "source": [
    "$$\\begin{align}\n",
    "    V(t) &= Var[X[n]] \\\\\n",
    "    &= Var[\\omega Z[n] + (1-\\omega) Z[n-1]] \\\\\n",
    "    &= Var[\\omega Z[n]] + Var[(1-\\omega) Z[n-1]] \\\\\n",
    "    &= \\omega^2 Var[Z[n]] + (1-\\omega)^2 Var[Z[n-1]] \\\\\n",
    "    &= \\omega^2 Var[Z[n]] + (1 - 2\\omega + \\omega^2) Var[Z[n-1]] \\\\\n",
    "    &= \\omega^2 Var[Z[n]] + Var[Z[n-1]] - 2\\omega Var[Z[n-1]] + \\omega^2 Var[Z[n-1]] \\\\\n",
    "    &= 2 \\omega^2 \\sigma^2 - 2\\omega \\sigma^2 + \\sigma^2 \\\\\n",
    "    &= (2 \\omega^2 - 2\\omega + 1) \\sigma^2 \\\\\n",
    "\\end{align}$$"
   ]
  },
  {
   "cell_type": "code",
   "execution_count": 196,
   "metadata": {},
   "outputs": [
    {
     "data": {
      "text/plain": [
       "0.2537431731326134"
      ]
     },
     "execution_count": 196,
     "metadata": {},
     "output_type": "execute_result"
    }
   ],
   "source": [
    "zvals = [np.random.normal(0,1,size=100) for _ in range(500)]\n",
    "w = np.repeat(0.5,2)\n",
    "\n",
    "instantiations = np.array([np.convolve(z, w, 'same') for z in zvals])\n",
    "\n",
    "m = 10\n",
    "n = 11\n",
    "\n",
    "lower = np.array([i[m] for i in instantiations])\n",
    "upper = np.array([i[n] for i in instantiations])\n",
    "np.cov(lower, upper)[0,1]"
   ]
  },
  {
   "cell_type": "markdown",
   "metadata": {},
   "source": [
    "### 4. Let $\\Theta$ be a $\\text{Uniform}(a= -\\pi, b = \\pi)$ random variables, and let $f$ be a constant. Define the random phase process $\\{ X(t) \\}$ by $$ X(t) = \\cos(2 \\pi f t + \\Theta) $$ Calculate the autocovariance function of $\\{ X(t) \\}$. Check that this agrees with the variance function you derived in Section 51 Q4 (Hint: Use the shortcut formula for covariance, calculate E[X(s)X(t)] by LOTUS)"
   ]
  },
  {
   "cell_type": "markdown",
   "metadata": {},
   "source": [
    "$$\\begin{align}\n",
    "    Cov[X(s), X(t)] &= Cov[\\cos(2 \\pi ft + \\Theta), \\cos(2 \\pi f s + \\Theta)] \\\\\n",
    "    &= E[\\cos(2 \\pi ft + \\Theta) \\cdot \\cos(2 \\pi f s + \\Theta)] - E[\\cos(2 \\pi ft + \\Theta)]E[\\cos(2 \\pi f s + \\Theta)] \\\\\n",
    "    &= E[\\cos(2 \\pi ft + \\Theta) \\cdot \\cos(2 \\pi f s + \\Theta)] & \\text{From exercise 50 Q4 } E[\\cos(2 \\pi ft + \\Theta)] = 0 \\\\\n",
    "    &= \\int_{-\\pi}^{\\pi} \\cos(2 \\pi ft + \\Theta) \\cdot \\cos(2 \\pi f s + \\Theta) f(\\Theta) \\text{ } d \\Theta \\\\\n",
    "    &= \\int_{-\\pi}^{\\pi} \\cos(2 \\pi ft + \\Theta) \\cdot \\cos(2 \\pi f s + \\Theta) \\frac{1}{2\\pi} \\text{ } d \\Theta \\\\\n",
    "    &= \\frac{1}{2\\pi} \\cdot \\int_{-\\pi}^{\\pi} \\cos(2 \\pi ft + \\Theta) \\cdot \\cos(2 \\pi f s + \\Theta) \\text{ } d \\Theta \\\\\n",
    "    &= \\frac{1}{2\\pi} \\cdot \\int_{-\\pi}^{\\pi} \\frac{1}{2} [\\cos(2 \\pi ft + \\Theta + 2 \\pi fs + \\Theta) + \\cos(2 \\pi ft + \\Theta - 2 \\pi fs - \\Theta)] \\text{ } d \\Theta \\\\\n",
    "    &= \\frac{1}{4\\pi} \\cdot \\int_{-\\pi}^{\\pi} [\\cos(2 \\pi ft + 2 \\pi fs + 2 \\Theta) + \\cos(2 \\pi ft - 2 \\pi fs)] \\text{ } d \\Theta \\\\\n",
    "    &= \\frac{1}{4\\pi} \\cdot \\int_{-\\pi}^{\\pi} \\cos(2 \\pi ft + 2 \\pi fs + 2 \\Theta) \\text{ } d \\Theta + \\int_{-\\pi}^{\\pi} \\cos(2 \\pi ft - 2 \\pi fs) \\text{ } d \\Theta \\\\\n",
    "    &= \\frac{1}{4\\pi} [\\frac{1}{2} [\\sin(2 \\pi ft + 2 \\pi fs + 2 \\Theta)]^{\\pi}_{-\\pi} + [\\cos(2 \\pi ft - 2 \\pi fs) \\Theta]^{\\pi}_{-\\pi}] \\\\\n",
    "    &= \\frac{1}{4\\pi} [[\\cos(2 \\pi ft - 2 \\pi fs) \\Theta]^{\\pi}_{-\\pi}] & \\text{because } \\sin(a+2\\pi) = \\sin(a - 2\\pi) \\\\\n",
    "    &= \\frac{\\cos(2 \\pi ft - 2 \\pi fs)}{4\\pi} [2\\pi] \\\\\n",
    "    &= \\frac{\\cos(2 \\pi ft - 2 \\pi fs)}{2} \\\\\n",
    "\\end{align}$$"
   ]
  },
  {
   "cell_type": "markdown",
   "metadata": {},
   "source": [
    "- When $s=t$, $Cov[X(s), X(t)] = \\frac{\\cos(0)}{2} = \\frac{1}{2} = Var[X(s)]$"
   ]
  }
 ],
 "metadata": {
  "kernelspec": {
   "display_name": "kaggle",
   "language": "python",
   "name": "python3"
  },
  "language_info": {
   "codemirror_mode": {
    "name": "ipython",
    "version": 3
   },
   "file_extension": ".py",
   "mimetype": "text/x-python",
   "name": "python",
   "nbconvert_exporter": "python",
   "pygments_lexer": "ipython3",
   "version": "3.10.4"
  },
  "orig_nbformat": 4
 },
 "nbformat": 4,
 "nbformat_minor": 2
}
