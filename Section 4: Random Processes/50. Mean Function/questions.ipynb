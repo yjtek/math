{
 "cells": [
  {
   "cell_type": "code",
   "execution_count": 1,
   "metadata": {},
   "outputs": [],
   "source": [
    "import scipy\n",
    "import numpy as np\n",
    "import matplotlib.pyplot as plt"
   ]
  },
  {
   "cell_type": "markdown",
   "metadata": {},
   "source": [
    "### 1. Consider a grain of pollen suspended in water, whose horizontal position can be modeled by Brownian motion $\\{ B(t)\\}$ with parameter $\\alpha = 4 \\text{mm}^2/\\text{s}$, as in Example 49.1. Calculate the mean function of $\\{ B(t) \\}$."
   ]
  },
  {
   "cell_type": "markdown",
   "metadata": {},
   "source": [
    "- By Brownian motion definition, \n",
    "    - $B(t) - B(0) \\sim \\text{Normal}(\\mu=0, \\sigma=\\sqrt{4 \\cdot (t_1 - t_0)} $\n",
    "    - $E[B(t)] = E[B(t) - B(0)] = \\mu_{B}(t) = 0$ "
   ]
  },
  {
   "cell_type": "markdown",
   "metadata": {},
   "source": [
    "### 2. Radioactive particles hit a Geiger counter according to a Poisson process at a rate of $\\lambda = 0.8$ particles per second. Let $\\{ N(t); t \\ge 0 \\}$ represent this Poisson process. Define the new process $\\{ D(t); t \\ge 3 \\}$ by $$D(t) = N(t) - N(t-3)$$ This process represents the number of particles that hit the Geiger counter in the last 3 seconds. Calculate the mean function of $\\{ D(t); t \\ge 3 \\}$"
   ]
  },
  {
   "cell_type": "markdown",
   "metadata": {},
   "source": [
    "- For this poisson process, the arrivals for any time interval $t$ is distributed according to $\\text{Poisson}(\\lambda = 0.8)$ distribution\n",
    "- Since non-overlapping time periods are independent in a Poisson process, the count of particles that hit the Geiger counter in the last 3 seconds $D(t) = N(t) - N(t-3)$ follows the same distribution across any 3 second period\n",
    "    - $D(t) \\sim \\text{Poisson}(\\lambda = 0.8 * 3 = 2.4)$\n",
    "\n",
    "- $\\mu_{D(t)}(t) = E[D(t)] = \\lambda \\cdot t = 0.8 * 3 = 2.4$"
   ]
  },
  {
   "cell_type": "markdown",
   "metadata": {},
   "source": [
    "### 3. Consider the moving average process $\\{ X[n]\\}$ of example 48.2, defined by $$X[n] = 0.5 Z[n] + 0.5 Z[n-1]$$ where $\\{ Z[n]\\}$ is a sequence of i.i.d. standard normal random variables. Calculate the mean function of $\\{ X[n] \\}$"
   ]
  },
  {
   "cell_type": "markdown",
   "metadata": {},
   "source": [
    "$$\\begin{align}\n",
    "    E[X[n]] &= E[0.5 Z[n] + 0.5 E[Z[n-1]]] \\\\\n",
    "    &= 0.5 E[Z[n]] + 0.5 E[Z[n-1]] \\\\\n",
    "    &= 0.5 \\cdot 0 + 0.5 \\cdot 0 & \\text{by IID standard normal definition} \\\\\n",
    "    &= 0\n",
    "\\end{align}$$"
   ]
  },
  {
   "cell_type": "markdown",
   "metadata": {},
   "source": [
    "### 4. Let $\\Theta$ be a $\\text{Uniform}(a= -\\pi, b = \\pi)$ random variables, and let $f$ be a constant. Define the random phase process $\\{ X(t) \\}$ by $$ X(t) = \\cos(2 \\pi f t + \\Theta) $$ Calculate the mean function of $\\{ X(t) \\}$. (Hint: Use LOTUS)"
   ]
  },
  {
   "cell_type": "markdown",
   "metadata": {},
   "source": [
    "- First, notice that since $f$ and $t$ are constants for a given $t$, the expectation for $X(t)$ can be simplified\n",
    "\n",
    "$$\\begin{align}\n",
    "    E[X(t)] &= E[\\cos (2\\pi f t) + \\Theta] \\\\\n",
    "    &= E[\\cos (2\\pi f t) \\cos(\\Theta) + \\sin(2\\pi f t) \\sin(\\Theta)] & \\text{Using } \\cos(a+b) = \\cos(a)\\cos(b) + \\sin(a)\\sin(b) \\\\\n",
    "    &= E[\\cos (2\\pi f t) \\cos(\\Theta)] + E[\\sin(2\\pi f t) \\sin(\\Theta)] \\\\\n",
    "    &= \\cos (2\\pi f t) E[\\cos(\\Theta)] + \\sin(2\\pi f t) E[\\sin(\\Theta)] \\\\\n",
    "\\end{align}$$\n",
    "\n",
    "- Now, the problem reduces to finding $E[\\cos(\\Theta)]$ and $E[\\sin(\\Theta)]$\n",
    "    - As tempting as it might be, note that $E[\\cos(\\Theta)] \\neq \\cos(E[\\Theta])$ and $E[\\sin(\\Theta)] \\neq \\sin(E[\\Theta])$\n",
    "\n",
    "- The PDF of the uniform distribution $\\Theta$ here is \n",
    "    - $f(\\Theta) = \\frac{1}{b-a} = \\frac{1}{2\\pi}$\n",
    "\n",
    "$$\\begin{align}\n",
    "    E[\\cos(\\Theta)] &= \\int_{\\Theta} \\cos(\\Theta) f(\\Theta) d \\Theta \\\\\n",
    "    &= \\int_{\\Theta} \\cos(\\Theta) \\frac{1}{2\\pi} d \\Theta \\\\\n",
    "    &= \\frac{1}{2\\pi} \\int_{\\Theta} \\cos(\\Theta) d \\Theta \\\\\n",
    "    &= \\frac{1}{2\\pi} [sin(\\Theta)]^{\\pi}_{-\\pi} \\\\\n",
    "    &= \\frac{1}{2\\pi} \\cdot 0 \\\\\n",
    "    &= 0\n",
    "\\end{align}$$\n",
    "\n",
    "$$\\begin{align}\n",
    "    E[\\sin(\\Theta)] &= \\int_{\\Theta} \\sin(\\Theta) f(\\Theta) d \\Theta \\\\\n",
    "    &= \\int_{\\Theta} \\sin(\\Theta) \\frac{1}{2\\pi} d \\Theta \\\\\n",
    "    &= \\frac{1}{2\\pi} \\int_{\\Theta} \\sin(\\Theta) d \\Theta \\\\\n",
    "    &= \\frac{1}{2\\pi} [-\\cos(\\Theta)]^{\\pi}_{-\\pi} \\\\\n",
    "    &= \\frac{1}{2\\pi} \\cdot [-1 + 1] \\\\\n",
    "    &= 0\n",
    "\\end{align}$$\n",
    "\n",
    "- Hence\n",
    "\n",
    "$$\\begin{align}\n",
    "    E[X(t)] &= \\cos (2\\pi f t) E[\\cos(\\Theta)] + \\sin(2\\pi f t) E[\\sin(\\Theta)] \\\\\n",
    "    &= \\cos (2\\pi f t) \\cdot 0 + \\sin(2\\pi f t) \\cdot 0 \\\\\n",
    "    &= 0\n",
    "\\end{align}$$\n"
   ]
  },
  {
   "cell_type": "code",
   "execution_count": 26,
   "metadata": {},
   "outputs": [
    {
     "data": {
      "text/plain": [
       "-1.3915535390651712e-14"
      ]
     },
     "execution_count": 26,
     "metadata": {},
     "output_type": "execute_result"
    }
   ],
   "source": [
    "unif=np.random.uniform(low=-np.pi, high=np.pi, size=1)\n",
    "tvals = np.arange(-10,10,0.05)\n",
    "xvals = np.cos((2 * np.pi * tvals) + unif[0])\n",
    "np.mean(xvals) ##close to 0"
   ]
  },
  {
   "cell_type": "markdown",
   "metadata": {},
   "source": []
  }
 ],
 "metadata": {
  "kernelspec": {
   "display_name": "kaggle",
   "language": "python",
   "name": "python3"
  },
  "language_info": {
   "codemirror_mode": {
    "name": "ipython",
    "version": 3
   },
   "file_extension": ".py",
   "mimetype": "text/x-python",
   "name": "python",
   "nbconvert_exporter": "python",
   "pygments_lexer": "ipython3",
   "version": "3.10.4"
  },
  "orig_nbformat": 4
 },
 "nbformat": 4,
 "nbformat_minor": 2
}
