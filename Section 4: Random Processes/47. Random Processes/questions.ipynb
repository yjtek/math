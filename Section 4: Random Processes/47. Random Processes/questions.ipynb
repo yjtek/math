{
 "cells": [
  {
   "cell_type": "code",
   "execution_count": 3,
   "metadata": {},
   "outputs": [],
   "source": [
    "import scipy\n",
    "import numpy as np\n",
    "import matplotlib.pyplot as plt"
   ]
  },
  {
   "cell_type": "markdown",
   "metadata": {},
   "source": [
    "### 1. Radioactive particles hit a Geiger counter according to a Poisson process at a rate of $\\lambda = 0.8$ particles per second. Let $\\{N(t); t \\ge 0 \\}$ represent this Poisson process."
   ]
  },
  {
   "cell_type": "markdown",
   "metadata": {},
   "source": [
    "#### a. What is the distribution of $N(1.2)$? (Hint: Translate this into a statement about the number of arrivals on some interval.) Calculate $P(N(1.2) > 1)$."
   ]
  },
  {
   "cell_type": "markdown",
   "metadata": {},
   "source": [
    "- $N(t)$ represents the number of particles seen at $t=1.2$ across many instantiations of the process.\n",
    "- For every value of $t$, $N(t) \\sim \\text{Poisson}(\\lambda = 0.8t)$ for a Poisson process\n",
    "- As such, $N(1.2) \\sim \\text{Poisson}(\\lambda = 0.96)$\n",
    "- $$\\begin{align}\n",
    "    P(N(1.2) > 1) &= 1 - P(N(1.2) \\le 1) \\\\\n",
    "    &= 1 - e^{-0.96} \\frac{0.96^0}{0!} - e^{-0.96} \\frac{0.96^1}{1!} \\\\\n",
    "    &= 0.2495\n",
    "    \\end{align}$$"
   ]
  },
  {
   "cell_type": "markdown",
   "metadata": {},
   "source": [
    "#### b. What is $P(N(2.0) > N(1.2))$? (Hint: Translate this into a statement about the number of arrivals on some interval.)"
   ]
  },
  {
   "cell_type": "markdown",
   "metadata": {},
   "source": [
    "- This is the same as asking for $P(N(2.0) - N(1.2) > 0)$\n",
    "- Since this is a poisson process, $N(2.0) - N(1.2) = N(0.8)$ because all non-overlapping time periods are independent\n",
    "- $N(0.8) \\sim \\text{Poisson}(\\lambda = 0.64)$\n",
    "\n",
    "$$\\begin{align}\n",
    "    P(N(0.8) > 0) &= 1 - P(N(0.8) \\le 0) \\\\\n",
    "    &= 1 - e^{-0.64} \\frac{0.64^0}{0!} \\\\\n",
    "    &= 0.473\n",
    "\\end{align}$$\n",
    "\n"
   ]
  },
  {
   "cell_type": "markdown",
   "metadata": {},
   "source": [
    "### 2. Let $\\{ Z[n]\\}$ be white noise consisting of i.i.d. $\\text{Exponential}(\\lambda = 0.5)$ random variables."
   ]
  },
  {
   "cell_type": "markdown",
   "metadata": {},
   "source": [
    "#### a. What is $P(Z[2] > 1.0)$?"
   ]
  },
  {
   "cell_type": "markdown",
   "metadata": {},
   "source": [
    "- $Z \\sim \\text{Exp}(\\lambda = 0.5)$\n",
    "- Recall that for an exponential distribution Z, $P(Z > c)$ is equivalent to asking for the probability that there are no arrivals between 0 and c\n",
    "    - Arrivals between $[0,c]$ follow a poisson distribution. Lets call this $H$\n",
    "    - $H \\sim \\text{Poisson}(\\lambda = 0.5 * c)$\n",
    "\n",
    "$$\\begin{align}\n",
    "    P(Z[2] > 1.0) &= 1 - P(Z[2] <= 1.0) \\\\\n",
    "    &= 1 - P(Z <= 1.0) & \\text{by iid} \\\\\n",
    "    &= 1 - (1 - e^{-\\lambda \\cdot 1.0}) \\\\\n",
    "    &= e^{-\\lambda} \\\\\n",
    "    &= e^{-0.5} \\\\\n",
    "    &= 0.6065\n",
    "\\end{align}$$"
   ]
  },
  {
   "cell_type": "code",
   "execution_count": 41,
   "metadata": {},
   "outputs": [
    {
     "data": {
      "text/plain": [
       "0.6066"
      ]
     },
     "execution_count": 41,
     "metadata": {},
     "output_type": "execute_result"
    }
   ],
   "source": [
    "arrival_times = np.random.exponential(scale=2, size=100_000)\n",
    "len(arrival_times[arrival_times > 1]) / len(arrival_times)"
   ]
  },
  {
   "cell_type": "markdown",
   "metadata": {},
   "source": [
    "#### b. What is $P(Z[3] > Z[2])$?"
   ]
  },
  {
   "cell_type": "markdown",
   "metadata": {},
   "source": [
    "- By independence, it should be 0.5"
   ]
  },
  {
   "cell_type": "code",
   "execution_count": 47,
   "metadata": {},
   "outputs": [
    {
     "data": {
      "text/plain": [
       "0.50026"
      ]
     },
     "execution_count": 47,
     "metadata": {},
     "output_type": "execute_result"
    }
   ],
   "source": [
    "arrival_times = [np.random.exponential(scale=2, size=3) for _ in range(100_000)]\n",
    "z3_gt_z2 = [arr for arr in arrival_times if arr[2] > arr[1]]\n",
    "len(z3_gt_z2) / len(arrival_times)\n",
    "# len(arrival_times[arrival_times > 1]) / len(arrival_times)"
   ]
  },
  {
   "cell_type": "markdown",
   "metadata": {},
   "source": [
    "### 3. Let $\\{ X[n] \\}$ be a random walk, where the steps are i.i.d. standard normal random variables. What is the distribution of $X[n]$? (Your answer should depend on n.) What is $P(X[100] > 20)$? (Hint: What do you know about the sum of independent normal random variables?)"
   ]
  },
  {
   "cell_type": "markdown",
   "metadata": {},
   "source": [
    "- If $\\{ X[n] \\}$ is random walk, $X[n] = X[n-1] + Z[n] = X[n-2] + Z[n-1] + Z[n] = ...$\n",
    "- From Exercise 45 Q2, we know that the sum of independent normal random variables are also random\n",
    "- So $X[n] \\sim \\text{Normal}(\\mu_x, \\sigma_x)$\n",
    "    - $\\mu_x = E[Z[n]] + E[Z[n-1]] + ...E[Z[0]] = 0$ \n",
    "    - $\\sigma_x^2 = n \\cdot Var[Z[n]] = n$\n",
    "\n",
    "$$\\begin{align}\n",
    "    P(X[100] > 20) &= P(Z > \\frac{20 - 0}{\\sqrt{100}}) \\\\\n",
    "    &= P(Z > 2) \\\\\n",
    "    &= 1 - P(Z \\le 2) \\\\\n",
    "    &= 1 - 0.977 \\\\\n",
    "    &= 0.02275\n",
    "\\end{align}$$\n"
   ]
  },
  {
   "cell_type": "code",
   "execution_count": 78,
   "metadata": {},
   "outputs": [
    {
     "data": {
      "text/plain": [
       "0.02279"
      ]
     },
     "execution_count": 78,
     "metadata": {},
     "output_type": "execute_result"
    }
   ],
   "source": [
    "x100_values = np.array([np.random.normal(loc=0, scale=1, size=100).cumsum()[-1] for _  in range(100_000)])\n",
    "len(x100_values[x100_values > 20]) / len(x100_values)"
   ]
  }
 ],
 "metadata": {
  "kernelspec": {
   "display_name": "leetcode",
   "language": "python",
   "name": "python3"
  },
  "language_info": {
   "codemirror_mode": {
    "name": "ipython",
    "version": 3
   },
   "file_extension": ".py",
   "mimetype": "text/x-python",
   "name": "python",
   "nbconvert_exporter": "python",
   "pygments_lexer": "ipython3",
   "version": "3.10.4"
  },
  "orig_nbformat": 4
 },
 "nbformat": 4,
 "nbformat_minor": 2
}
