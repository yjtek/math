{
 "cells": [
  {
   "attachments": {},
   "cell_type": "markdown",
   "metadata": {},
   "source": [
    "### 1. Show that the expected value of a $\\text{Poisson}(\\mu)$ random variable is $\\mu$. (In other words, I am asking you to derive the result in the table above. You should be able to follow Example 22.2 closely, except using a Poisson PMF"
   ]
  },
  {
   "attachments": {},
   "cell_type": "markdown",
   "metadata": {},
   "source": [
    "- Let $X \\sim \\text{Poisson}(\\mu)$\n",
    "- $f(x) = e^{-\\mu} \\frac{\\mu^{x}}{x!}$\n",
    "\n",
    "- $\\begin{align}\n",
    "    E[X] &= \\sum_{x=0}^{\\inf} e^{-\\mu} \\frac{\\mu^{x}}{x!} \\cdot x \\\\\n",
    "    &= e^{-\\mu} \\sum_{x=0}^{\\inf} \\frac{\\mu^{x}}{(x-1)!} \\\\\n",
    "    &= \\mu e^{-\\mu} \\sum_{x=0}^{\\inf} \\frac{\\mu^{x-1}}{(x-1)!} & \\text{Note: }\\sum_{x=0}^{\\inf} e^{-\\mu} \\frac{\\mu^{x-1}}{(x-1)!} = 1 \\\\\n",
    "    &= \\mu e^{-\\mu} e^{\\mu} \\\\\n",
    "    &= \\mu\n",
    "    \\end{align}$"
   ]
  },
  {
   "attachments": {},
   "cell_type": "markdown",
   "metadata": {},
   "source": [
    "### 2. Let’s calculate the expected winnings of some other roulette bets: A bet on reds pays 1-to-1. Calculate your expected net winnings from this bet. A “corner” bet is a bet that one of four numbers will come up. It pays 8-to-1. Calculate your expected net winnings from this bet. What do you notice about the expected winnings from the different bets?"
   ]
  },
  {
   "attachments": {},
   "cell_type": "markdown",
   "metadata": {},
   "source": [
    "- Probability of reds = $\\frac{18}{38}$\n",
    "    - If win: +1\n",
    "    - If lose: -1\n",
    "    - Expected winnings: $\\frac{18}{38} - \\frac{20}{38} = -\\frac{1}{19}$\n",
    "\n",
    "- Probability of corner bet = $\\frac{4}{38}$\n",
    "    - If win: +8\n",
    "    - If lose: -1\n",
    "    - Expected winnings: $\\frac{4}{38} * 8 - \\frac{34}{38} = \\frac{1}{19}$\n",
    "\n",
    "- The expected winnings are all negative? lol"
   ]
  },
  {
   "attachments": {},
   "cell_type": "markdown",
   "metadata": {},
   "source": [
    "### 3. One minigame in The Legend of Zelda: A Link to the Past invites you to open one of three treasure chests and keep whatever prize is inside. (See the screenshot below.) The treasure chests contain 1, 20, and 300 rupees, but the prizes are shuffled so you do not which chest contains which prize. The game costs 100 rupees to play. Is this a game you want to play?"
   ]
  },
  {
   "attachments": {},
   "cell_type": "markdown",
   "metadata": {},
   "source": [
    "- Expected value of bet is $\\frac{1}{3} * 300 + \\frac{1}{3} * 20 \\frac{1}{3} * 1 = 100 + 20/3 + 1/3 > 100$\n",
    "- So yes, positive expected value"
   ]
  },
  {
   "attachments": {},
   "cell_type": "markdown",
   "metadata": {},
   "source": [
    "### 4. In the carnival game chuck-a-luck, three dice are rolled. You make a bet on a particular number (1, 2, 3, 4, 5, 6) showing up. The payout is 1 to 1 if that number shows on (exactly) one die, 2 to 1 if it shows on two dice, and 3 to 1 if it shows up on all three. (You lose your initial stake if your number does not show on any of the dice.) If you make a $1 bet on the number three, what is your expected net winnings?"
   ]
  },
  {
   "attachments": {},
   "cell_type": "markdown",
   "metadata": {},
   "source": [
    "- No three\n",
    "    - $P(\\text{no three}): \\frac{5^3}{6^3} = 0.579$\n",
    "    - Payout: -1\n",
    "\n",
    "- One three\n",
    "    - $P(\\text{one three}): \\binom{3}{1} \\frac{1}{6} \\frac{5^2}{6^2} = 0.347$\n",
    "    - Payout: 1\n",
    "\n",
    "- Two three\n",
    "    - $P(\\text{two three}): \\binom{3}{2} \\frac{1^2}{6^2} \\frac{5}{6} = 0.0694$\n",
    "    - Payout: 2\n",
    "\n",
    "- Three three\n",
    "    - $P(\\text{three three}): \\binom{3}{3} \\frac{1^3}{6^3} = 0.00462$\n",
    "    - Payout: 3\n",
    "\n",
    "- Expected payout: $0.579*-1 + 0.347*1 + 0.0694*2 + 0.00462*3 = -0.0793$"
   ]
  },
  {
   "attachments": {},
   "cell_type": "markdown",
   "metadata": {},
   "source": [
    "### 5. Packets arrive at a certain node on the university’s intranet at 10 packets per minute, on average. Assume packet arrivals meet the assumptions of a Poisson process. How many arrivals would you expect to see over a period of 5 minutes?"
   ]
  },
  {
   "attachments": {},
   "cell_type": "markdown",
   "metadata": {},
   "source": [
    "- 50, because poisson assumes independence across time period, and expectation of poisson is just $\\mu$ of the process"
   ]
  },
  {
   "attachments": {},
   "cell_type": "markdown",
   "metadata": {},
   "source": [
    "### 6. In craps, one of the most popular side bets is the “field”. In a field bet, you are betting on a 2, 3, 4, 9, 10, 11, or 12 on the very next roll. The payout is 1 to 1, except if you roll “snake eyes” (double 1s) or “boxcars” (double 6s), in which case the payout is 2 to 1. Calculate your expected (net) winnings if you make a $1 bet on the field. (As you might expect, this is a negative number.) What would the payout for “snake eyes” and “boxcars” have to be to make this a fair game (i.e., so that your expected net winnings is zero)?"
   ]
  },
  {
   "attachments": {},
   "cell_type": "markdown",
   "metadata": {},
   "source": [
    "- Probability of outcomes: \n",
    "    - P(2) = 1/36\n",
    "    - P(3) = 2/36\n",
    "    - P(4) = 3/36\n",
    "    - P(5) = 4/36\n",
    "    - P(6) = 5/36\n",
    "    - P(7) = 6/36\n",
    "    - P(8) = 5/36\n",
    "    - P(9) = 4/36\n",
    "    - P(10) = 3/36\n",
    "    - P(11) = 2/36\n",
    "    - P(12) = 1/36\n",
    "\n",
    "- Betting on 2,3,4,9,10,11,12\n",
    "    - P(win field bet with 3,4,9,10,11) = 14/36, Payout = 1\n",
    "    - P(win field bet with 2,12) = 2/36, Payout = 2\n",
    "    - P(lose field bet with 5,6,7,8) = 20/36, Payout=-1\n",
    "\n",
    "- Expected payout: 14/36 + 4/36 - 20/36 = -2/36\n",
    "\n",
    "- For fair game i.e. expected payout = 0; 2 and 12 should pay out 3 to 1\n",
    "\n"
   ]
  },
  {
   "attachments": {},
   "cell_type": "markdown",
   "metadata": {},
   "source": [
    "### 7. Show that the expected value of a $\\text{Hypergeom}(n, N1, N0)$ random variable is $n \\frac{N1}{N}$, which is the same as the expected value of a binomial random variable. (In other words, the expected value is the same, whether you draw with or without replacement.)"
   ]
  },
  {
   "attachments": {},
   "cell_type": "markdown",
   "metadata": {},
   "source": [
    "- $X \\sim \\text{Hypergeom}(n, N_1, N_0)$\n",
    "- $f(x) = \\frac{\\binom{N_1}{x} \\binom{N_0}{n-x}}{\\binom{N}{n}}$\n",
    "\n",
    "$$\\begin{align}\n",
    "    E[X] &= \\sum_{x=0}^{n} \\frac{\\binom{N_1}{x} \\binom{N_0}{n-x}}{\\binom{N}{n}} \\cdot x \\\\\n",
    "    &= \\sum_{x=1}^{n} \\frac{\\frac{N_1!}{x! (N_1-x)!} \\frac{N_0!}{(n-x)! (N_0 - n + x)!}}{\\frac{N!}{(N-n)!n!}} \\cdot x & \\text{Rewriting} \\\\\n",
    "    &= \\sum_{x=1}^{n} \\frac{\\binom{N_1}{x} \\binom{N_0}{n-x}}{\\binom{N}{n}} \\cdot x & \\text{x=0 evaluates to 0, so sum from 1} \\\\\n",
    "    &= \\sum_{x=1}^{n} \\frac{N_1 \\frac{(N_1-1)!}{(x-1)! (N_1-x)!} \\frac{N_0!}{(n-x)! (N_0 - n + x)!}}{\\frac{N \\cdot (N-1)!}{n \\cdot (N-n)!(n-1)!}} & \\text{Pulling in the x product} \\\\\n",
    "    &= \\frac{n \\cdot N_1}{N} \\sum_{x=1}^{n} \\frac{\\frac{(N_1-1)!}{(x-1)! (N_1-x)!} \\frac{N_0!}{(n-x)! (N_0 - n + x)!}}{\\frac{(N-1)!}{(N-n)!(n-1)!}} & \\sum_x \\text{is hypergeometric pmf = 1} \\\\\n",
    "    &= \\frac{n \\cdot N_1}{N} \n",
    "\\end{align}$$"
   ]
  },
  {
   "attachments": {},
   "cell_type": "markdown",
   "metadata": {},
   "source": [
    "### 8. Show that the expected value of a $\\text{NB}\\sim(r,p)$ random variable is $\\frac{r}{p}$. Why does this also imply that the expected value of a $\\text{Geom}(p)$ random variable is $\\frac{1}{p}$?"
   ]
  },
  {
   "attachments": {},
   "cell_type": "markdown",
   "metadata": {},
   "source": [
    "- It implies this because $\\text{Geom}(p) == \\text{NB}(1,p)$ where r=1\n",
    "\n",
    "- $X \\sim \\text{NB}(r,p)$\n",
    "- $X = \\binom{x-1}{r-1} p^{r} (1-p)^{x-r}$\n",
    "\n",
    "$$\\begin{align}\n",
    "    E[X] &= \\sum_{x=r}^{\\inf} \\binom{x-1}{r-1} p^{r} (1-p)^{x-r} \\cdot x \\\\\n",
    "    &= \\sum_{x=r}^{\\inf} \\frac{(x-1)!}{(r-1)! (x-r)!} p^{r} (1-p)^{x-r} \\cdot x \\\\\n",
    "    &= \\frac{r}{p} \\cdot \\sum_{x=r}^{\\inf} \\frac{x!}{r! (x-r)!} p^{r+1} (1-p)^{x-r} \\\\\n",
    "    &= \\frac{r}{p} \\cdot \\sum_{x=r}^{\\inf} \\binom{x}{r} p^{r+1} (1-p)^{x-r} \\\\\n",
    "    &= \\frac{r}{p} \\cdot \\sum_{x=0}^{\\inf} \\binom{x}{r} p^{r+1} (1-p)^{x-r} & \\text{sub x=r -> x=0, since p=0 for all x < r by defn}\\\\\n",
    "    &= \\frac{r}{p} & \\sum \\text{ is just another negative binomial, so sum to 1}\n",
    "\\end{align}$$"
   ]
  }
 ],
 "metadata": {
  "kernelspec": {
   "display_name": "leetcode",
   "language": "python",
   "name": "python3"
  },
  "language_info": {
   "codemirror_mode": {
    "name": "ipython",
    "version": 3
   },
   "file_extension": ".py",
   "mimetype": "text/x-python",
   "name": "python",
   "nbconvert_exporter": "python",
   "pygments_lexer": "ipython3",
   "version": "3.10.4"
  },
  "orig_nbformat": 4
 },
 "nbformat": 4,
 "nbformat_minor": 2
}
