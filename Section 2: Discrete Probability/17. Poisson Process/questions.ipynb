{
 "cells": [
  {
   "attachments": {},
   "cell_type": "markdown",
   "metadata": {},
   "source": [
    "### 1. Packets arrive at a certain node on the university’s intranet at 10 packets per minute, on average. Assume packet arrivals meet the assumptions of a Poisson process.\n",
    "- Calculate the probability that exactly 15 packets arrive in the next 2 minutes.\n",
    "- Calculate the probability that more than 60 packets arrive in the next 5 minutes.\n",
    "- Calculate the probability that the next packet will arrive in within 15 seconds."
   ]
  },
  {
   "cell_type": "code",
   "execution_count": 4,
   "metadata": {},
   "outputs": [
    {
     "name": "stdout",
     "output_type": "stream",
     "text": [
      "0.05164885353175814\n",
      "0.07216017981326406\n",
      "0.205212496559747\n"
     ]
    }
   ],
   "source": [
    "import scipy\n",
    "import numpy as np\n",
    "\n",
    "'''\n",
    "Calculate the probability that exactly 15 packets arrive in the next 2 minutes.\n",
    "'''\n",
    "print(scipy.stats.poisson.pmf(mu=10*2, k=15))\n",
    "\n",
    "'''\n",
    "Calculate the probability that more than 60 packets arrive in the next 5 minutes.\n",
    "'''\n",
    "print(1 - np.sum(scipy.stats.poisson.pmf(mu=10*5, k=range(61))))\n",
    "\n",
    "'''\n",
    "Calculate the probability that the next packet will arrive in within 15 seconds.\n",
    "'''\n",
    "print(scipy.stats.poisson.pmf(mu=10*0.25, k=1))"
   ]
  },
  {
   "attachments": {},
   "cell_type": "markdown",
   "metadata": {},
   "source": [
    "### 2. Small aircraft arrive at San Luis Obispo airport according to a Poisson process at a rate of 6 per hour.\n",
    "\n",
    "- What is the probability that exactly 5 small aircraft arrive in the first hour (after opening) and exactly 7 arrive in the hour after that?\n",
    "- What is the probability that fewer than 5 small aircraft arrive in the first hour and at least 10 arrive in the hour after that?\n",
    "- What is the probability that exactly 5 small aircraft arrive in the first hour and exactly 12 aircraft arrive in the first two hours?"
   ]
  },
  {
   "cell_type": "code",
   "execution_count": 6,
   "metadata": {},
   "outputs": [
    {
     "name": "stdout",
     "output_type": "stream",
     "text": [
      "0.022114108662959372\n",
      "0.02392308657707279\n",
      "0.022114108662959372\n"
     ]
    }
   ],
   "source": [
    "import scipy\n",
    "import numpy as np\n",
    "\n",
    "'''\n",
    "What is the probability that exactly 5 small aircraft arrive in the first hour (after opening) \n",
    "and exactly 7 arrive in the hour after that?\n",
    "'''\n",
    "print(scipy.stats.poisson.pmf(mu=6, k=5) * scipy.stats.poisson.pmf(mu=6, k=7))\n",
    "\n",
    "'''\n",
    "What is the probability that fewer than 5 small aircraft arrive in the first hour \n",
    "and at least 10 arrive in the hour after that?\n",
    "'''\n",
    "print(scipy.stats.poisson.cdf(mu=6, k=4) * (1 - scipy.stats.poisson.cdf(mu=6, k=9)))\n",
    "\n",
    "'''\n",
    "What is the probability that exactly 5 small aircraft arrive in the first hour \n",
    "and exactly 12 aircraft arrive in the first two hours?\n",
    "'''\n",
    "print(scipy.stats.poisson.pmf(mu=6, k=5) * scipy.stats.poisson.pmf(mu=6, k=7))"
   ]
  },
  {
   "cell_type": "code",
   "execution_count": null,
   "metadata": {},
   "outputs": [],
   "source": []
  }
 ],
 "metadata": {
  "kernelspec": {
   "display_name": "leetcode",
   "language": "python",
   "name": "python3"
  },
  "language_info": {
   "codemirror_mode": {
    "name": "ipython",
    "version": 3
   },
   "file_extension": ".py",
   "mimetype": "text/x-python",
   "name": "python",
   "nbconvert_exporter": "python",
   "pygments_lexer": "ipython3",
   "version": "3.10.4"
  },
  "orig_nbformat": 4
 },
 "nbformat": 4,
 "nbformat_minor": 2
}
