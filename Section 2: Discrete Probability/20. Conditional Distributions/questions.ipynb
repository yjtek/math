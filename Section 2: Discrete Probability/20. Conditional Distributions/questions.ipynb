{
 "cells": [
  {
   "attachments": {},
   "cell_type": "markdown",
   "metadata": {},
   "source": [
    "### 1.  Let X be the number of times a certain numerical control machine will malfunction on a given day. Let Y be the number of times a technician is called on an emergency call. Their joint p.m.f. is given by\n",
    "\n",
    "$$\\begin{array}{rr|ccc}\n",
    " & 5 & 0 & 0.20 & 0.10 \\\\\n",
    "y & 3 & 0.05 & 0.10 & 0.35 \\\\\n",
    " & 1 & 0.05 & 0.05 & 0.10 \\\\\n",
    " \\hline\n",
    " & & 1 & 2 & 3 \\\\\n",
    " & & & x & \n",
    "\\end{array}$$\n",
    "\n",
    "1. Calculate the conditional distribution of X given Y = 3\n",
    "2. Calculate the conditional distribution of Y given X = 2\n",
    "3. Is P(Y=3 | X=2) the same as P(X=2 | Y=3)?"
   ]
  },
  {
   "attachments": {},
   "cell_type": "markdown",
   "metadata": {},
   "source": [
    "- Q1\n",
    "    - P(X=1 | Y=3) = 0.1\n",
    "    - P(X=2 | Y=3) = 0.2\n",
    "    - P(X=3 | Y=3) = 0.7\n",
    "\n",
    "- Q2\n",
    "    - P(Y=1 | X=2) = 1/7\n",
    "    - P(Y=3 | X=2) = 2/7\n",
    "    - P(Y=5 | X=2) = 4/7\n",
    "\n",
    "- Q3\n",
    "    - P(Y=3 | X=2) = 2/7\n",
    "    - P(X=2 | Y=3) = 0.2\n",
    "    - Not the same\n"
   ]
  },
  {
   "attachments": {},
   "cell_type": "markdown",
   "metadata": {},
   "source": [
    "### 2. Small aircraft arrive at San Luis Obispo airport according to a Poisson process at a rate of 6 per hour. What is the probability that (exactly) 5 small aircraft arrived in the first hour, given that (exactly) 12 aircraft arrived in the first two hours? First calculate an appropriate conditional distribution; then, use this conditional distribution to answer the question."
   ]
  },
  {
   "attachments": {},
   "cell_type": "markdown",
   "metadata": {},
   "source": [
    "- Let X be the number of aircraft arriving in first 2 hours\n",
    "    - $X \\sim \\text{Poisson}(\\mu=12)$\n",
    "- Let Y be the number of aircraft arriving in first hour\n",
    "    - $Y \\sim \\text{Poisson}(\\mu=6) = e^{-6} \\frac{6^y}{y!}$\n",
    "- Let Z be the number of aircraft arriving in second hour\n",
    "    - $Z \\sim \\text{Poisson}(\\mu=6) = e^{-6} \\frac{6^{12-y}}{(12-y)!}$\n",
    "\n",
    "\n",
    "- Since X = 12, then Y must be between 0 and 12, and Z = 12 - Y\n",
    "\n",
    "- Joint PMF \n",
    "    - $$\\begin{align}\n",
    "        f(Y,Z) &= e^{-6} \\frac{6^y}{y!} \\cdot e^{-6} \\frac{6^{12-y}}{(12-y)!} \\\\\n",
    "        \\end{align}$$\n",
    "\n",
    "- Marginal distribution of X=12\n",
    "    - $$\\begin{align}\n",
    "        f_{X}(x) = P(X=12) = e^{-12} \\frac{12^{12}}{12!}\n",
    "        \\end{align}$$\n",
    "\n",
    "- If Y = 5, then Z = 7\n",
    "    - $$\\begin{align}\n",
    "        f(Y,Z) &= e^{-6} \\frac{6^5}{5!} \\cdot e^{-6} \\frac{6^{7}}{7!} \\\\\n",
    "        &= 0.0221\n",
    "        \\end{align}$$\n",
    "\n",
    "- If X = 12\n",
    "    - $$\\begin{align}\n",
    "        f_{X}(x=12) &= e^{-12} \\frac{12^12}{12!} \\\\\n",
    "        &= 0.114\n",
    "        \\end{align}$$\n",
    "\n",
    "- Hence conditional probability is\n",
    "    - $$\\frac{0.0221}{0.114} = 0.194$$"
   ]
  },
  {
   "attachments": {},
   "cell_type": "markdown",
   "metadata": {},
   "source": [
    "### 3. A fair coin is tossed 10 times. Let X be the total number of heads in the 10 tosses. Let Y be the number of heads in the first 6 tosses. Find the conditional distribution of Y, given X=7. This is a named distribution we have learned. Which is it? Specify all parameters of this distribution. (Hint: In order to identify the named distribution, it is easier to work with formulas rather than tables.)"
   ]
  },
  {
   "attachments": {},
   "cell_type": "markdown",
   "metadata": {},
   "source": [
    "- $X \\sim \\text{Binom}(n=10, p=0.5)$\n",
    "- $Y \\sim \\text{Binom}(n=6, p=0.5)$\n",
    "- Let Z = X-Y\n",
    "    - $Z \\sim \\text{Binom}(n=4 p=0.5)$\n",
    "\n",
    "- We want to know $f_{Y|X}(y|x) = P(Y=y|X=x) = \\frac{f(y,x)}{f_{X}(x)}$\n",
    "\n",
    "- $f(x=7) = \\binom{10}{7} 0.5^7 0.5^3$\n",
    "\n",
    "- We know that if X is 7:\n",
    "    - Y is at most 6\n",
    "    - Y must be at least 3 (because there are only 4 tosses after Y, so even if all 4 are heads, there are still 3 heads unaccounted for)\n",
    "    - So possible joint PMF for $f(Y=y,X=7) = f(Y=y,Z=7-y)$ are:\n",
    "        - $f(6,1) = \\binom{6}{6} 0.5^6 0.5^0 \\cdot \\binom{4}{1} 0.5^1 0.5^3$ \n",
    "        - $f(5,2) = \\binom{6}{5} 0.5^5 0.5^1 \\cdot \\binom{4}{2} 0.5^2 0.5^2$\n",
    "        - $f(4,3) = \\binom{6}{4} 0.5^4 0.5^2 \\cdot \\binom{4}{3} 0.5^3 0.5^1$\n",
    "        - $f(3,4) = \\binom{6}{3} 0.5^3 0.5^3 \\cdot \\binom{4}{4} 0.5^4 0.5^0$\n",
    "\n",
    "    - In general form, the joint PMF is \n",
    "        - $f(Y=y, Z=7-y) = \\binom{6}{y} 0.5^y 0.5^{6-y} \\cdot \\binom{4}{7-y} 0.5^{7-y} 0.5^{4-7+y} = \\binom{6}{y} \\binom{4}{7-y} 0.5^{10}$\n",
    "\n",
    "- So the conditional probability evalutes to:\n",
    "    - $\\begin{align}\n",
    "        \\frac{\\binom{6}{y} \\binom{4}{7-y} 0.5^{10}}{\\binom{10}{7} 0.5^7 0.5^3} &= \\frac{\\binom{6}{y} \\binom{4}{7-y}}{\\binom{10}{7}} \\\\\n",
    "        &\\sim \\text{Hypergeom}(10, 6, 4)\n",
    "        \\end{align}$"
   ]
  },
  {
   "attachments": {},
   "cell_type": "markdown",
   "metadata": {},
   "source": [
    "### 4. Use the joint p.m.f. of the smaller and the larger of two dice rolls that you calculated in Lesson 18 to find the conditional distribution of the smaller number, given that the larger number was 4"
   ]
  },
  {
   "attachments": {},
   "cell_type": "markdown",
   "metadata": {},
   "source": [
    "- Min, Max, Sum\n",
    "\n",
    "$$\\begin{array}{rr|cccccc}\n",
    " & 1 & (1,1,2) & (1,2,3) & (1,3,4) & (1,4,5) & (1,5,6) & (1,6,7) \\\\\n",
    " & 2 & (2,1,3) & (2,2,4) & (2,3,5) & (2,4,6) & (2,5,7) & (2,6,8) \\\\\n",
    "\\text{dice 1} & 3 & (3,1,4) & (3,2,5) & (3,3,6) & (3,4,7) & (3,5,8) & (3,6,9) \\\\\n",
    " & 4 & (4,1,5) & (4,2,6) & (4,3,7) & (4,4,8) & (4,5,9) & (4,6,10) \\\\\n",
    " & 5 & (5,1,6) & (5,2,7) & (5,3,8) & (5,4,9) & (5,5,10) & (5,6,11) \\\\\n",
    " & 6 & (6,1,7) & (6,2,8) & (6,3,9) & (6,4,10) & (6,5,11) & (6,6,12) \\\\\n",
    "\\hline\n",
    "& & 1 & 2 & 3 & 4 & 5 & 6 \\\\\n",
    "& & & & & \\text{dice 2} & & \n",
    "\\end{array}$$\n",
    "\n",
    "- Highlighting all the cases that are relevant, once given that the larger number is 4\n",
    "\n",
    "$$\\begin{array}{rr|cccccc}\n",
    " & 1 & (1,1,2) & (1,2,3) & (1,3,4) & \\textcolor{blue}{(1,4,5)} & (1,5,6) & (1,6,7) \\\\\n",
    " & 2 & (2,1,3) & (2,2,4) & (2,3,5) & \\textcolor{blue}{(2,4,6)} & (2,5,7) & (2,6,8) \\\\\n",
    "\\text{dice 1} & 3 & (3,1,4) & (3,2,5) & (3,3,6) & \\textcolor{blue}{(3,4,7)} & (3,5,8) & (3,6,9) \\\\\n",
    " & 4 & \\textcolor{blue}{(4,1,5)} & \\textcolor{blue}{(4,2,6)} & \\textcolor{blue}{(4,3,7)} & \\textcolor{blue}{(4,4,8)} & (4,5,9) & (4,6,10) \\\\\n",
    " & 5 & (5,1,6) & (5,2,7) & (5,3,8) & (5,4,9) & (5,5,10) & (5,6,11) \\\\\n",
    " & 6 & (6,1,7) & (6,2,8) & (6,3,9) & (6,4,10) & (6,5,11) & (6,6,12) \\\\\n",
    "\\hline\n",
    "& & 1 & 2 & 3 & 4 & 5 & 6 \\\\\n",
    "& & & & & \\text{dice 2} & & \n",
    "\\end{array}$$\n",
    "\n",
    "- There are 7 possible outcomes, of which in 2 cases the smaller value is 1, 2, or 3, and 1 where the smaller value is 4\n",
    "    - This translates to probability 2/7 for 1,2,3 and 1/7 for 4"
   ]
  },
  {
   "cell_type": "code",
   "execution_count": null,
   "metadata": {},
   "outputs": [],
   "source": []
  }
 ],
 "metadata": {
  "kernelspec": {
   "display_name": "leetcode",
   "language": "python",
   "name": "python3"
  },
  "language_info": {
   "codemirror_mode": {
    "name": "ipython",
    "version": 3
   },
   "file_extension": ".py",
   "mimetype": "text/x-python",
   "name": "python",
   "nbconvert_exporter": "python",
   "pygments_lexer": "ipython3",
   "version": "3.10.4"
  },
  "orig_nbformat": 4
 },
 "nbformat": 4,
 "nbformat_minor": 2
}
