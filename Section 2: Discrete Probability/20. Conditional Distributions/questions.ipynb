{
 "cells": [
  {
   "attachments": {},
   "cell_type": "markdown",
   "metadata": {},
   "source": [
    "### 1.  Let X be the number of times a certain numerical control machine will malfunction on a given day. Let Y be the number of times a technician is called on an emergency call. Their joint p.m.f. is given by\n",
    "\n",
    "$$\\begin{array}{rr|ccc}\n",
    " & 5 & 0 & 0.20 & 0.10 \\\\\n",
    "y & 3 & 0.05 & 0.10 & 0.35 \\\\\n",
    " & 1 & 0.05 & 0.05 & 0.10 \\\\\n",
    " \\hline\n",
    " & & 1 & 2 & 3 \\\\\n",
    " & & & x & \n",
    "\\end{array}$$\n",
    "\n",
    "1. Calculate the conditional distribution of X given Y = 3\n",
    "2. Calculate the conditional distribution of Y given X = 2\n",
    "3. Is P(Y=3 | X=2) the same as P(X=2 | Y=3)?"
   ]
  },
  {
   "attachments": {},
   "cell_type": "markdown",
   "metadata": {},
   "source": [
    "- Q1\n",
    "    - P(X=1 | Y=3) = 0.1\n",
    "    - P(X=2 | Y=3) = 0.2\n",
    "    - P(X=3 | Y=3) = 0.7\n",
    "\n",
    "- Q2\n",
    "    - P(Y=1 | X=2) = 1/7\n",
    "    - P(Y=3 | X=2) = 2/7\n",
    "    - P(Y=5 | X=2) = 4/7\n",
    "\n",
    "- Q3\n",
    "    - P(Y=3 | X=2) = 2/7\n",
    "    - P(X=2 | Y=3) = 0.2\n",
    "    - Not the same\n"
   ]
  },
  {
   "attachments": {},
   "cell_type": "markdown",
   "metadata": {},
   "source": [
    "### 2. Small aircraft arrive at San Luis Obispo airport according to a Poisson process at a rate of 6 per hour. What is the probability that (exactly) 5 small aircraft arrived in the first hour, given that (exactly) 12 aircraft arrived in the first two hours? First calculate an appropriate conditional distribution; then, use this conditional distribution to answer the question."
   ]
  },
  {
   "attachments": {},
   "cell_type": "markdown",
   "metadata": {},
   "source": [
    "- Let X be the number of aircraft arriving in first 2 hours\n",
    "    - $X \\sim \\text{Poisson}(\\mu=12)$\n",
    "- Let Y be the number of aircraft arriving in first hour\n",
    "    - $Y \\sim \\text{Poisson}(\\mu=6) = e^{-6} \\frac{6^y}{y!}$\n",
    "- Let Z be the number of aircraft arriving in second hour\n",
    "    - $Z \\sim \\text{Poisson}(\\mu=6) = e^{-6} \\frac{6^{12-y}}{(12-y)!}$\n",
    "\n",
    "\n",
    "- Since X = 12, then Y must be between 0 and 12, and Z = 12 - Y\n",
    "\n",
    "- Joint PMF \n",
    "    - $$\\begin{align}\n",
    "        f(Y,Z) &= e^{-6} \\frac{6^y}{y!} \\cdot e^{-6} \\frac{6^{12-y}}{(12-y)!} \\\\\n",
    "        \\end{align}$$\n",
    "\n",
    "- If Y = 5, then Z = 7\n",
    "    - $$\\begin{align}\n",
    "        f(Y,Z) &= e^{-6} \\frac{6^y}{y!} \\cdot e^{-6} \\frac{6^{12-y}}{(12-y)!} \\\\\n",
    "        \\end{align}$$"
   ]
  },
  {
   "attachments": {},
   "cell_type": "markdown",
   "metadata": {},
   "source": []
  }
 ],
 "metadata": {
  "language_info": {
   "name": "python"
  },
  "orig_nbformat": 4
 },
 "nbformat": 4,
 "nbformat_minor": 2
}
