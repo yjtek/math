{
 "cells": [
  {
   "attachments": {},
   "cell_type": "markdown",
   "metadata": {},
   "source": [
    "## Motivating Example"
   ]
  },
  {
   "attachments": {},
   "cell_type": "markdown",
   "metadata": {},
   "source": [
    "Continuing with the example from Lessons 18 and 19, suppose Xavier and Yolanda meet up later for coffee. Xavier has forgotten how many bets he won at roulette, but Yolanda clearly remembers that she won 3 bets. What information does this give Xavier about how many bets he won?\n",
    "\n",
    "First, if Yolanda won 3 bets, Xavier knows that he had to have won at least once, since Yolanda only made two more bets than he did. But he cannot be sure whether he won 1, 2, or 3 bets. All he can do is assign probabilities to these possible values based on the information he has been given."
   ]
  },
  {
   "attachments": {},
   "cell_type": "markdown",
   "metadata": {},
   "source": [
    "## Theory"
   ]
  },
  {
   "attachments": {},
   "cell_type": "markdown",
   "metadata": {},
   "source": [
    "- Solving the motivating example\n",
    "    - Let's look at the same table of probabilities from section 18 and 19\n",
    "\n",
    "    - $\\begin{array}{rr|cccc}\n",
    "    & 0 & 0.040386\t& 0.072695 & 0.032713 & 0.000000 & 0.000000 & 0.000000 \\\\\n",
    "    X & 1 & 0.000000 & 0.109042 & 0.196276 & 0.088324 & 0.000000 & 0.000000 \\\\\n",
    "    & 2 & 0.000000 & 0.000000 & 0.098138 & 0.176649 & 0.079492 & 0.000000 \\\\\n",
    "    & 3 & 0.000000 & 0.000000 & 0.000000 & 0.029441 & 0.052995 & 0.023848 \\\\\n",
    "    \\hline\n",
    "    & & 0 & 1 & 2 & 3 & 4 & 5 \\\\\n",
    "    & & & & & Y &\n",
    "    \\end{array}$\n",
    "\n",
    "    - Since we know that Y is 3, we only have to focus on the column Y=3\n",
    "\n",
    "    - Thus, X can take on value of 0 with probability 0, 1 with probability 0.088, 2 with probability 0.177, and 3 with probability 0.0294\n",
    "        - Since we are **given** that Y is 3, we should ensure that our probabilities sum to 1\n",
    "        - We can do this by dividing each f(X,Y) by the column sum\n",
    "        - This gives us 0=0/0.2943, 1=0.088/0.2943=0.3, 2=0.177/0.2943=0.6, 3=0.0294/0.2943=0.1\n",
    "    "
   ]
  },
  {
   "attachments": {},
   "cell_type": "markdown",
   "metadata": {},
   "source": [
    "- Definition 20.1 (Conditional Distribution): Formally, we define what we have done above: The conditional p.m.f. of X given Y is defined as\n",
    "\n",
    "$$\n",
    "    f_{X|Y}(x|y) = P(X=x|Y=y) = \\frac{f(x,y)}{f_Y(y)}\n",
    "$$"
   ]
  },
  {
   "attachments": {},
   "cell_type": "markdown",
   "metadata": {},
   "source": [
    "### Example 20.1"
   ]
  },
  {
   "attachments": {},
   "cell_type": "markdown",
   "metadata": {},
   "source": [
    "In San Luis Obispo, radioactive particles hit a Geiger counter according to a Poisson process at a rate of $\\lambda = 0.8$ particles per second. Suppose that 7 particles are detected in the first 5 seconds. What is the distribution of the number of particles that are detected in the first 3 seconds?"
   ]
  },
  {
   "attachments": {},
   "cell_type": "markdown",
   "metadata": {},
   "source": [
    "- Definitions\n",
    "    - Let X be the number of particles detected in first 5 seconds\n",
    "        - $X \\sim \\text{Poisson}(\\mu = 4)$\n",
    "        - X = 7\n",
    "    - Let Y be the number of particles detected in first 3 seconds\n",
    "        - $Y \\sim \\text{Poisson}(\\mu = 2.4)$\n",
    "    - Let Z = X-Y be the number of particles detected in the 2 seconds after the first 3\n",
    "        - $Z \\sim \\text{Poisson}(\\mu = 1.6)$\n",
    "\n",
    "- We know that there are 7 particles in 5 seconds\n",
    "    - So Y can be anywhere between 0 and 7\n",
    "    - This will indirectly also determine how many particles are found in Z\n",
    "        - e.g. If Y = 5, then Z = 2 = 7 - Y\n",
    "        - Let $f(Y=y,Z=z)$ be the joint probability of observing $y$ particles in Y and $z$ particles in Z\n",
    "        - Since both time periods are independent:\n",
    "            $$f(Y,Z) = e^{-2.4} \\frac{2.4^{y}}{y!} \\cdot e^{-1.6} \\frac{1.6^{7-y}}{(7-y)!}$$\n",
    "\n",
    "- Next, we want to find out the probability that we observe y=7\n",
    "    - $$ f_Y(7) = e^{-4} \\frac{4^7}{7!}$$\n",
    "\n",
    "- Dividing to get conditional distribution\n",
    "    - $$\\begin{align}\n",
    "        f_{Y|X}(y | 7) &= \\frac{f(y,z)}{f(x=7)} \\\\\n",
    "        &= \\frac{e^{-2.4} \\frac{2.4^{y}}{y!} \\cdot e^{-1.6} \\frac{1.6^{7-y}}{(7-y)!}}{e^{-4} \\frac{4^7}{7!}} \\\\\n",
    "        &= \\frac{7!}{y! (7-y)!} \\frac{2.4^{y} \\cdot 1.6^{7-y}}{4^7} \\\\\n",
    "        &= \\frac{7!}{y! (7-y)!} \\frac{(0.8 \\cdot 3)^{y} \\cdot (0.8 \\cdot 2)^{7-y}}{(0.8 \\cdot 5)^7} \\\\\n",
    "        &= \\frac{7!}{y! (7-y)!} \\frac{(3)^{y} \\cdot (2)^{7-y}}{(5)^7} \\\\\n",
    "        &= \\binom{7}{y} \\frac{(3)^{y} \\cdot (2)^{7-y}}{5^y \\cdot 5^{7-y}} \\\\\n",
    "        &= \\text{Binom}(n=7, p=0.6)\n",
    "        \\end{align}$$\n",
    "\n",
    "- Intuitively, since the rate per second is the same in all 5 seconds, there must be 60% of falling in the first 3 seconds because it is 60% of the total measurement time "
   ]
  },
  {
   "attachments": {},
   "cell_type": "markdown",
   "metadata": {},
   "source": []
  }
 ],
 "metadata": {
  "language_info": {
   "name": "python"
  },
  "orig_nbformat": 4
 },
 "nbformat": 4,
 "nbformat_minor": 2
}
