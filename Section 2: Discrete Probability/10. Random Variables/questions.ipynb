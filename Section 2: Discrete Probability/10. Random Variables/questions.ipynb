{
 "cells": [
  {
   "attachments": {},
   "cell_type": "markdown",
   "metadata": {},
   "source": [
    "### 1. Continuing with the example from the lesson, let $Y$ be the number of Jacks in the community cards. Calculate and graph the p.m.f. of $Y$."
   ]
  },
  {
   "attachments": {},
   "cell_type": "markdown",
   "metadata": {},
   "source": [
    "- There are $\\binom{48}{5}$ possible community card combinations\n",
    "- There are 2 remaining Jacks in the deck of 48\n",
    "    - Count ways 0 J: $\\binom{46}{5} * \\binom{2}{0}$\n",
    "        - Prob 0 J: 0.801\n",
    "    - Count ways 1 J: $\\binom{46}{4} * \\binom{2}{1}$\n",
    "        - Prob 1 J: 0.191\n",
    "    - Count ways 2 J: $\\binom{46}{3} * \\binom{2}{2}$\n",
    "        - Prob 2 J: 0.009"
   ]
  },
  {
   "cell_type": "code",
   "execution_count": 4,
   "metadata": {},
   "outputs": [
    {
     "data": {
      "text/plain": [
       "0.008865248226950355"
      ]
     },
     "execution_count": 4,
     "metadata": {},
     "output_type": "execute_result"
    }
   ],
   "source": [
    "from math import comb\n",
    "(comb(46,5) * comb(2,0))/comb(48,5)\n",
    "(comb(46,4) * comb(2,1))/comb(48,5)\n",
    "(comb(46,3) * comb(2,2))/comb(48,5)"
   ]
  },
  {
   "attachments": {},
   "cell_type": "markdown",
   "metadata": {},
   "source": [
    "### 2. Two fair, six-sided dice are rolled. Let S be the sum of the two numbers. Calculate and graph the p.m.f. of S. Let D be the absolute difference between the two numbers. (That is, D is always a positive number.) Calculate and graph the p.m.f. of D."
   ]
  },
  {
   "attachments": {},
   "cell_type": "markdown",
   "metadata": {},
   "source": [
    "- S can take on values between 2 and 12\n",
    "- D can take on values between 0 and 5\n",
    "- Let cols be dice 2 and rows be dice 1\n",
    "\n",
    "- Table of S\n",
    "\n",
    "| | 1 | 2 | 3 | 4 | 5 | 6 |\n",
    "| --- | --- | --- | --- | --- | --- | --- |\n",
    "| 1 | 2 | 3 | 4 | 5 | 6 | 7 |\n",
    "| 2 | 3 | 4 | 5 | 6 | 7 | 8 |\n",
    "| 3 | 4 | 5 | 6 | 7 | 8 | 9 |\n",
    "| 4 | 5 | 6 | 7 | 8 | 9 | 10 |\n",
    "| 5 | 6 | 7 | 8 | 9 | 10 | 11 |\n",
    "| 6 | 7 | 8 | 9 | 10 | 11 | 12 |\n",
    "\n",
    "- Table of D\n",
    "\n",
    "| | 1 | 2 | 3 | 4 | 5 | 6 |\n",
    "| --- | --- | --- | --- | --- | --- | --- |\n",
    "| 1 | 0 | 1 | 2 | 3 | 4 | 5 |\n",
    "| 2 | 1 | 0 | 1 | 2 | 3 | 4 |\n",
    "| 3 | 2 | 1 | 0 | 1 | 2 | 3 |\n",
    "| 4 | 3 | 2 | 1 | 0 | 1 | 2 |\n",
    "| 5 | 4 | 3 | 2 | 1 | 0 | 1 |\n",
    "| 6 | 5 | 4 | 3 | 2 | 1 | 0 |\n",
    "\n",
    "- PMF S\n",
    "    - 2: 1/36\n",
    "    - 3: 2/36\n",
    "    - 4: 3/36\n",
    "    - 5: 4/36\n",
    "    - 6: 5/36\n",
    "    - 7: 6/36\n",
    "    - 8: 5/36\n",
    "    - 9: 4/36\n",
    "    - 10: 3/36\n",
    "    - 11: 2/36\n",
    "    - 12: 1/36\n",
    "\n",
    "- PMF T\n",
    "    - 0: 6/36\n",
    "    - 1: 10/36\n",
    "    - 2: 8/36\n",
    "    - 3: 6/36\n",
    "    - 4: 4/36\n",
    "    - 5: 2/36"
   ]
  },
  {
   "attachments": {},
   "cell_type": "markdown",
   "metadata": {},
   "source": [
    "### 3. A fair coin is tossed 5 times. Let Z be the number of heads. Calculate and graph the p.m.f. of Z. Use the p.m.f. to calculate the probability of getting at least 2 heads."
   ]
  },
  {
   "attachments": {},
   "cell_type": "markdown",
   "metadata": {},
   "source": [
    "- Z = 0\n",
    "    - $\\binom{5}{0} * 0.5^0 * 0.5^5 = 0.5^5$\n",
    "- Z = 1\n",
    "    - $\\binom{5}{1} * 0.5^1 * 0.5^4 = 5 * 0.5^5$\n",
    "- Z = 2\n",
    "    - $\\binom{5}{2} * 0.5^2 * 0.5^3 = 10 * 0.5^5$\n",
    "- Z = 3\n",
    "    - $\\binom{5}{3} * 0.5^3 * 0.5^2 = 10 * 0.5^5$\n",
    "- Z = 4\n",
    "    - $\\binom{5}{4} * 0.5^4 * 0.5^1 = 5 * 0.5^5$\n",
    "- Z = 5\n",
    "    - $\\binom{5}{4} * 0.5^5 * 0.5^0 = 0.5^5$\n",
    "\n",
    "- At least 2 heads\n",
    "    - 26 * 0.5^5 = 0.81"
   ]
  },
  {
   "attachments": {},
   "cell_type": "markdown",
   "metadata": {},
   "source": [
    "### 4. In college basketball, when a player is fouled while not in the act of shooting and the opposing team is “in the penalty,” the player is awarded a “1 and 1.” In the 1 and 1, the player is awarded one free throw, and if that free throw goes in, the player is awarded a second free throw. Find the p.m.f. of Y, the number of points scored in a 1 and 1 given that any free throw goes in with probability 0.7, independent of any other free throw.\n",
    "\n"
   ]
  },
  {
   "attachments": {},
   "cell_type": "markdown",
   "metadata": {},
   "source": [
    "- There are 3 distinct events\n",
    "\n",
    "- 2 points: Score first, score second\n",
    "    - 0.7 * 0.7 ~ 0.49\n",
    "- Score first, miss second\n",
    "    - 0.7 * 0.3 ~ 0.21\n",
    "- Miss first\n",
    "    - 0.3"
   ]
  }
 ],
 "metadata": {
  "kernelspec": {
   "display_name": "leetcode",
   "language": "python",
   "name": "python3"
  },
  "language_info": {
   "codemirror_mode": {
    "name": "ipython",
    "version": 3
   },
   "file_extension": ".py",
   "mimetype": "text/x-python",
   "name": "python",
   "nbconvert_exporter": "python",
   "pygments_lexer": "ipython3",
   "version": "3.10.4"
  },
  "orig_nbformat": 4
 },
 "nbformat": 4,
 "nbformat_minor": 2
}
