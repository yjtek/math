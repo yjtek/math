{
 "cells": [
  {
   "attachments": {},
   "cell_type": "markdown",
   "metadata": {},
   "source": [
    "## Motivating Example"
   ]
  },
  {
   "attachments": {},
   "cell_type": "markdown",
   "metadata": {},
   "source": [
    "- We revisit the Texas Hold’em example from Lesson 10, when we first learned about random variables. In that example, Alice was dealt Queen and 3 Diamond (QD, 3D)\n",
    "\n",
    "- She wanted to know the distribution of the number of diamonds among the community cards. If this random variable is at least 3, then she has a flush.\n",
    "\n",
    "- In Lesson 10, we derived the p.m.f. of the number of diamonds from scratch. In this lesson, we will derive the p.m.f. by matching this random variable to a template."
   ]
  },
  {
   "attachments": {},
   "cell_type": "markdown",
   "metadata": {},
   "source": [
    "## Theory"
   ]
  },
  {
   "attachments": {},
   "cell_type": "markdown",
   "metadata": {},
   "source": [
    "- Theorem 12.1: If a random variable $X$ can be described as the number of $1$ in $n$ random draws, without replacement, from a box, then its PMF is given by \n",
    "\n",
    "    - $$\n",
    "        f(x) = \\frac{\\binom{N_1}{x} \\binom{N_0}{n-x}}{\\binom{N}{n}}, \\text{x=0, ... , n}\n",
    "    $$\n",
    "    - where $N=N_0 + N_1$ is the number of tickets in the box\n",
    "    - We say that the random variable X follows distribution $\\text{Hypergeometric}(n, N_1, N_0)$, and $n$, $N_1$, $N_0$ are parameters of the distribution\n",
    "    - Note that hypergeometric applies when draws are made **without replacement** from a box"
   ]
  },
  {
   "attachments": {},
   "cell_type": "markdown",
   "metadata": {},
   "source": [
    "- Example 12.1: In Alice’s case, the community cards are 5 cards taken at random, without replacement, from a deck of 48 cards. So we can represent it by a box model with $n = 5$, $N_1 = 11$ diamonds, and $N_0 = 37$ non-diamonds\n",
    "    - i.e. X ~ Hypergeometric(5,11,37)\n",
    "    - So for all values X=x, we can compute the PMF by using the formula above\n",
    "        - $f(x) = \\frac{\\binom{11}{x} \\binom{37}{5-x}}{\\binom{48}{5}}$"
   ]
  },
  {
   "attachments": {},
   "cell_type": "markdown",
   "metadata": {},
   "source": [
    "- Theorem 12.2: We want to prove the hypergeometric distribution\n",
    "    - Here, we are simply making use of counts as covered in Section 1\n",
    "    - With 11 diamonds in the deck, there must be $\\binom{11}{x}$ combinations of $x$ diamonds \n",
    "    - Similarly, with 37 non-diamonds in the deck, there must be $\\binom{37}{5-x}$ combinations of $5-x$ non-diamonds\n",
    "    - Every unique combination of diamonds can be paired with every unique combination of the non-diamonds\n",
    "    - So there must be $\\binom{11}{x} * \\binom{37}{5-x}$ ways to pick out the river with $x$ diamonds\n",
    "    - Finally, we divide this by the number of unique rivers, which is simply $\\binom{48}{5}$"
   ]
  },
  {
   "attachments": {},
   "cell_type": "markdown",
   "metadata": {},
   "source": [
    "- Let's do some simulations to get some intuition about how the hypergeometric distribution shifts when the hyperparameters shift"
   ]
  },
  {
   "attachments": {},
   "cell_type": "markdown",
   "metadata": {},
   "source": [
    "- Distribution shifts right as the number of $N_1$ increases. Obviously, because there are more positive cases for you to draw, so the probability of higher counts go up"
   ]
  },
  {
   "cell_type": "code",
   "execution_count": 19,
   "metadata": {},
   "outputs": [
    {
     "data": {
      "text/plain": [
       "[0.2545675300647549,\n",
       " 0.4242792167745915,\n",
       " 0.24957600986740675,\n",
       " 0.06417668825161887,\n",
       " 0.007130743139068763,\n",
       " 0.0002698119025593586]"
      ]
     },
     "metadata": {},
     "output_type": "display_data"
    },
    {
     "data": {
      "text/plain": [
       "[0.024822695035460984,\n",
       " 0.14893617021276592,\n",
       " 0.32624113475177297,\n",
       " 0.32624113475177297,\n",
       " 0.14893617021276592,\n",
       " 0.024822695035460987]"
      ]
     },
     "metadata": {},
     "output_type": "display_data"
    },
    {
     "data": {
      "text/plain": [
       "[0.00026981190255935864,\n",
       " 0.007130743139068763,\n",
       " 0.06417668825161886,\n",
       " 0.2495760098674067,\n",
       " 0.4242792167745914,\n",
       " 0.2545675300647549]"
      ]
     },
     "metadata": {},
     "output_type": "display_data"
    }
   ],
   "source": [
    "from scipy.stats import hypergeom\n",
    "N, n, n1 = 48, 5, 11\n",
    "n2 = N-n1\n",
    "display([hypergeom(N, n1, n).pmf(x) for x in range(6)])\n",
    "\n",
    "N, n, n1 = 48, 5, 24\n",
    "n2 = N-n1\n",
    "display([hypergeom(N, n1, n).pmf(x) for x in range(6)])\n",
    "\n",
    "N, n, n1 = 48, 5, 37\n",
    "n2 = N-n1\n",
    "display([hypergeom(N, n1, n).pmf(x) for x in range(6)])"
   ]
  },
  {
   "attachments": {},
   "cell_type": "markdown",
   "metadata": {},
   "source": [
    "- Distribution sharpens as $n$ increases relative to $N$"
   ]
  },
  {
   "cell_type": "code",
   "execution_count": 21,
   "metadata": {},
   "outputs": [
    {
     "data": {
      "text/plain": [
       "[0.2545675300647549,\n",
       " 0.4242792167745915,\n",
       " 0.24957600986740675,\n",
       " 0.06417668825161887,\n",
       " 0.007130743139068763,\n",
       " 0.0002698119025593586]"
      ]
     },
     "metadata": {},
     "output_type": "display_data"
    },
    {
     "data": {
      "text/plain": [
       "[0.03027950310559006,\n",
       " 0.18504140786749484,\n",
       " 0.37008281573498963,\n",
       " 0.3027950310559006,\n",
       " 0.10093167701863354,\n",
       " 0.010869565217391304]"
      ]
     },
     "metadata": {},
     "output_type": "display_data"
    },
    {
     "data": {
      "text/plain": [
       "[0.0, 0.0, 0.0, 0.0, 0.4166666666666667, 0.5833333333333334]"
      ]
     },
     "metadata": {},
     "output_type": "display_data"
    }
   ],
   "source": [
    "from scipy.stats import hypergeom\n",
    "N, n, n1 = 48, 5, 11\n",
    "n2 = N-n1\n",
    "display([hypergeom(N, n1, n).pmf(x) for x in range(6)])\n",
    "\n",
    "N, n, n1 = 24, 5, 11\n",
    "n2 = N-n1\n",
    "display([hypergeom(N, n1, n).pmf(x) for x in range(6)])\n",
    "\n",
    "N, n, n1 = 12, 5, 11\n",
    "n2 = N-n1\n",
    "display([hypergeom(N, n1, n).pmf(x) for x in range(6)])"
   ]
  },
  {
   "attachments": {},
   "cell_type": "markdown",
   "metadata": {},
   "source": [
    "### Example 12.2: Capture-Recapture"
   ]
  },
  {
   "attachments": {},
   "cell_type": "markdown",
   "metadata": {},
   "source": [
    "- A good application of the hypergeometric distribution is in probabilistically estimating the population of a species through capture-recapture. Obviously, the best way is to catch all the animals and count them. Equally obviously, that is too difficult. So there is an ingenious workaround\n",
    "    - You capture some number $m$ of the total population\n",
    "    - These are tagged and released \n",
    "    - After the tagged and untagged population has had a chance to mix again, you capture another $n$ of the population\n",
    "    - Some of this $n$ will be tagged, some will not\n",
    "    - We know that the number of tagged animals in $n$ will follow a hypergeometric population, so we can say probabilistically what is the total population, based on the number of tagged animals we see in the second catch!\n",
    "\n",
    "- Suppose there are $N=100$ fishes in a lake, but this is not known to you\n",
    "    - We catch $m=20$ and tag them\n",
    "    - We next catch $n=30$ and find that 10 are tagged\n",
    "    - We know that n >= 40, because there must be at least 20 tagged fishes, assuming we have caught all the untagged fishes in our 30. Let's try to guess what N is\n",
    "        - If N = 40\n",
    "            - $$\\begin{align}\n",
    "                f(x=10) &= \\frac{\\binom{20}{10} \\binom{20}{20}}{\\binom{40}{30}} \\\\\n",
    "                &\\approx 0.00022 \n",
    "                \\end{align}$$\n",
    "        - If N = 80\n",
    "            - $$\\begin{align}\n",
    "                f(x=10) &= \\frac{\\binom{20}{10} \\binom{60}{20}}{\\binom{80}{30}} \\\\\n",
    "                &\\approx 0.087\n",
    "                \\end{align}$$\n",
    "        - ..."
   ]
  },
  {
   "cell_type": "code",
   "execution_count": 31,
   "metadata": {},
   "outputs": [],
   "source": [
    "from math import comb\n",
    "N = 100\n",
    "n1 = 20\n",
    "n0 = N-n1\n",
    "\n",
    "n1_samples_found = 7\n",
    "total_samples_taken=30\n",
    "{x: (comb(n1,n1_samples_found) * comb(x-n1,total_samples_taken-n1_samples_found))/(comb(x,total_samples_taken)) for x in range(50,150)};"
   ]
  },
  {
   "attachments": {},
   "cell_type": "markdown",
   "metadata": {},
   "source": [
    "- Suppose we know that there are N=100 fishes in the pond\n",
    "- What is the probability that we see at least 7 of the $n=30$ fishes tagged?\n",
    "\n",
    "$$\\begin{align}\n",
    "    F(7) &= P(X >= 7) \\\\\n",
    "    &= 1 - P(X <= 6) \\\\\n",
    "    &= 1 - f(6) - f(5) - f(4) - f(3) - f(2) - f(1)\n",
    "\\end{align}$$\n",
    "\n",
    "- Let's not compute this by hand:"
   ]
  },
  {
   "cell_type": "code",
   "execution_count": 37,
   "metadata": {},
   "outputs": [
    {
     "data": {
      "text/plain": [
       "0.3849201437663008"
      ]
     },
     "execution_count": 37,
     "metadata": {},
     "output_type": "execute_result"
    }
   ],
   "source": [
    "from scipy import stats\n",
    "import numpy as np\n",
    "1 - np.sum(stats.hypergeom(100, 20, 30).pmf(range(7)))"
   ]
  },
  {
   "attachments": {},
   "cell_type": "markdown",
   "metadata": {},
   "source": [
    "### Alternate hypergeom definition"
   ]
  },
  {
   "attachments": {},
   "cell_type": "markdown",
   "metadata": {},
   "source": [
    "- Let's assume the following situation\n",
    "    - Population of size N\n",
    "    - There are N1 positive cases\n",
    "    - There are N0 non-positive cases\n",
    "    - You wish to draw $n$ from the population\n",
    "    - What is the probability of getting $x$ positives in $n$ draws?\n",
    "\n",
    "- Approach so far:\n",
    "    - Segment the combinations into distinct groups, and choose within the group\n",
    "    - $\\frac{\\binom{N_1}{x} \\binom{N_0}{n-x}}{\\binom{N}{n}}$\n",
    "\n",
    "- Another way to think about it is to count permutations in both the numerator and denominator! These are equivalent approaches, so use whatever is more intuitive\n",
    "    - There are $\\frac{N_1!}{(N_1-x)!}$ ordered ways to choose $x$ positive cases\n",
    "    - There are $\\frac{N_0!}{(N_0-(n-x))!}$ ordered ways to choose $n-x$ negative cases\n",
    "    - There are $\\frac{N!}{(N-n)!}$ ordered ways to choose $n$ cases\n",
    "    - This gives us $\\frac{\\frac{N_1!}{(N_1-x)!} \\cdot \\frac{N_0!}{(N_0-(n-x))!}}{\\frac{N!}{(N-n)!}}$\n",
    "    - This is still not sufficient. Notice that in the numerator, we have counted the number of permutations in selecting the $N_1$ cases, followed by the $N_0$ cases. However, it is entirely feasible that you don't draw all $N_1$ followed by $N_0$. So we need to account for the number of arrangements for the $N_1$ and $N_0$ cases\n",
    "    - We do this by multiplying the product by $\\binom{n}{x}$\n",
    "    - This gives us the final form:\n",
    "        - $\\frac{\\binom{n}{x} \\cdot \\frac{N_1!}{(N_1-x)!} \\cdot \\frac{N_0!}{(N_0-(n-x))!}}{\\frac{N!}{(N-n)!}}$"
   ]
  }
 ],
 "metadata": {
  "kernelspec": {
   "display_name": "leetcode",
   "language": "python",
   "name": "python3"
  },
  "language_info": {
   "codemirror_mode": {
    "name": "ipython",
    "version": 3
   },
   "file_extension": ".py",
   "mimetype": "text/x-python",
   "name": "python",
   "nbconvert_exporter": "python",
   "pygments_lexer": "ipython3",
   "version": "3.10.4"
  },
  "orig_nbformat": 4
 },
 "nbformat": 4,
 "nbformat_minor": 2
}
