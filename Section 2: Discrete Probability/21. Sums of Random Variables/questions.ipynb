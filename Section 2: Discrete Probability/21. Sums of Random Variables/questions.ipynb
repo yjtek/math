{
 "cells": [
  {
   "attachments": {},
   "cell_type": "markdown",
   "metadata": {},
   "source": [
    "### 1. Let X and Y be independent $Poisson(\\mu)$ and $Poisson(\\nu)$ random variables. Use convolution to find the distribution of X+Y given that X+Y=t (Hint: It is a named distribution.) Then, by making an analogy to a Poisson process, explain why this must be the distribution of X+Y\n",
    "\n",
    "Hint: The binomial theorem will come in handy:\n",
    "\n",
    "$$\n",
    "    \\sum_{x=0}^{n} \\binom{n}{x} a^x b^{n-x} = (a+b)^n\n",
    "$$"
   ]
  },
  {
   "attachments": {},
   "cell_type": "markdown",
   "metadata": {},
   "source": [
    "- $X = e^{-\\mu} \\frac{\\mu^{x}}{x!}$\n",
    "- $Y = e^{-\\nu} \\frac{\\nu^{y}}{y!}$\n",
    "\n",
    "- $$\\begin{align}\n",
    "    P(X+Y = k) &= \\sum_{i=0}^{k} P(X+Y = k, X=i) \\\\\n",
    "    &= \\sum_{i=0}^{k} P(X = i, Y = k-i) \\\\\n",
    "    &= \\sum_{i=0}^{k} P(X = i) \\cdot P(Y = k-i) \\\\\n",
    "    &= \\sum_{i=0}^{k} e^{-\\mu} \\frac{\\mu^{i}}{i!} \\cdot e^{-\\nu} \\frac{\\nu^{k-i}}{(k-i)!} \\\\\n",
    "    &= e^{-\\mu-\\nu} \\sum_{i=0}^{k} \\frac{\\mu^{i}}{i!} \\cdot \\frac{\\nu^{k-i}}{(k-i)!} \\\\\n",
    "    &= e^{-\\mu-\\nu} \\frac{1}{k!} \\sum_{i=0}^{k} \\frac{k!}{i! (k-i)!} \\mu^{i} \\nu^{k-i} \\\\\n",
    "    &= e^{-\\mu-\\nu} \\frac{1}{k!} \\sum_{i=0}^{k} \\binom{k}{i} \\mu^{i} \\nu^{k-i} \\\\\n",
    "    &= e^{-\\mu-\\nu} \\frac{(\\mu+\\nu)^k}{k!} & \\text{by binomial theorem in hint}\\\\\n",
    "    \\end{align}$$\n",
    "\n",
    "- So we find that the sum of 2 independent poisson variables are also Poisson, where the new mean is the sum of the original mean"
   ]
  },
  {
   "attachments": {},
   "cell_type": "markdown",
   "metadata": {},
   "source": [
    "### 2. Let X and Y be independent $\\text{Geometric}(p)$ random variables. Use convolution to find the distribution of X+Y. (Hint: It is a named distribution. It may help to remember that $\\sum_{i=1}^{m} 1 = m = \\binom{m}{1}$. Then, by making an analogy to a box model, explain why this has to be the distribution of X+Y"
   ]
  },
  {
   "attachments": {},
   "cell_type": "markdown",
   "metadata": {},
   "source": [
    "- $f(x) = \\frac{N_0^{x-1} N_1}{N}$\n",
    "- $f(y) = \\frac{N_0^{y-1} N_1}{N}$\n",
    "- Let's assume X+Y=T. For every value T=t, we can rewrite Y=T-X\n",
    "- Since X and Y are independent:\n",
    "    - $\\begin{align}\n",
    "        P(X+Y=t) &= \\sum_{x=1}^{t-1} P(X=x, y=t-x) & \\text{Note that 1 <= x <= t-1 because X, Y >= 1} \\\\\n",
    "        &= \\sum_{x=1}^{t-1} f_X(x) \\cdot f_Y(t-x) \\\\\n",
    "        &= \\sum_{x=1}^{t-1} (1-p)^{x-1} p \\cdot (1-p)^{t-x-1} p \\\\\n",
    "        &= p^2 (1-p)^{t-2} \\sum_{x=1}^{t-1} 1 \\\\\n",
    "        &= (t-1) p^2 (1-p)^{t-2}\n",
    "    \\end{align}$\n",
    "\n",
    "- This is simply the a negative binomial distribution NB(r=2, p=p)\n",
    "    - This is because X+Y can simply be combined into a single sequence that ends when you have two 1s drawn, rather than 2 seqeunces that end with one 1 drawn"
   ]
  },
  {
   "attachments": {},
   "cell_type": "markdown",
   "metadata": {},
   "source": [
    "### 3. Give an example of two $\\text{Binom}(n=3, p=0.5)$ random variables X and Y, where T=X+Y does not follow a $\\text{Binom}(n=6,p=0.5)$ distribution. Why does this not contradict Theorem 21.2?"
   ]
  },
  {
   "attachments": {},
   "cell_type": "markdown",
   "metadata": {},
   "source": [
    "- When X and Y overlap i.e. X is the first 3 of 4 tosses, and Y is the last 3 of 4 tosses\n",
    "- When X and Y are opposite i.e. X and Y refer to the same 3 tosses, but Y is the number of tails and X is the number of heads\n",
    "\n",
    "- No contradiction because 21.1 requires X and Y to be independent"
   ]
  },
  {
   "attachments": {},
   "cell_type": "markdown",
   "metadata": {},
   "source": [
    "### 4. Let X and Y be independent random variables with the p.m.f.\n",
    "\n",
    "| x | 1 | 2 | 3 | 4 | 5 | 6 |\n",
    "| --- | --- | --- | --- | --- | --- | --- |\n",
    "| f(x) | $\\frac{1}{6}$ | $\\frac{1}{6}$ | $\\frac{1}{6}$ | $\\frac{1}{6}$ | $\\frac{1}{6}$ | $\\frac{1}{6}$ |\n",
    "\n",
    "Use convolution to find the p.m.f. of $T = X+Y$. Why does the answer make sense? "
   ]
  },
  {
   "attachments": {},
   "cell_type": "markdown",
   "metadata": {},
   "source": [
    "$$\\begin{array}{rr|cccccc}\n",
    "& 1 & 2 & 3 & 4 & 5 & 6 & 7 \\\\\n",
    "& 2 & 3 & 4 & 5 & 6 & 7 & 8 \\\\\n",
    "x & 3 & 4 & 5 & 6 & 7 & 8 & 9 \\\\\n",
    "& 4 & 5 & 6 & 7 & 8 & 9 & 10 \\\\\n",
    "& 5 & 6 & 7 & 8 & 9 & 10 & 11 \\\\\n",
    "& 6 & 7 & 8 & 9 & 10 & 11 & 12 \\\\\n",
    "\\hline\n",
    "& & 1 & 2 & 3 & 4 & 5 & 6 \\\\\n",
    "& & & & & y & & &\n",
    "\\end{array}$$\n",
    "\n",
    "- Since X and Y are independent tosses of the dice, $P(X+Y=t) = \\sum_{x=1}^{t} P(X=x) * P(Y=t-x)$\n",
    "    - $P(X=x) = \\frac{1}{6}$ for all values of x\n",
    "    - $P(Y=t-x) = \\frac{1}{6}$ for all values of x\n",
    "\n",
    "- Hence:\n",
    "    - P(X+Y=2) = P(X=1) * P(Y=1) = 1/36\n",
    "    - P(X+Y=3) = P(X=1) * P(Y=2) + P(X=2) * P(Y=1) = 2/36\n",
    "    - ..."
   ]
  }
 ],
 "metadata": {
  "language_info": {
   "name": "python"
  },
  "orig_nbformat": 4
 },
 "nbformat": 4,
 "nbformat_minor": 2
}
