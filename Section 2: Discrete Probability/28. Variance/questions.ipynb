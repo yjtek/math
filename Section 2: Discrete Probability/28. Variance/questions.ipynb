{
 "cells": [
  {
   "attachments": {},
   "cell_type": "markdown",
   "metadata": {},
   "source": [
    "### 1. Show that the variance of a $\\text{Poisson}(\\mu)$ random variable is $\\mu$. (In other words, I am asking you to derive the result in the table above.) (Hint: In Lesson 24, you derived E[X(X-1)] for Poisson random variable. Use that result and follow example 28.3)"
   ]
  },
  {
   "attachments": {},
   "cell_type": "markdown",
   "metadata": {},
   "source": [
    "- We know that the expectation of a Poisson random variable X is $E[X] = \\mu$\n",
    "- From section 24 Q2, we found that when X is poisson, $E[X(X-1)] = E[X^2] - E[X] = \\mu^2$\n",
    "- As such, $E[X^2] = \\mu^2 + \\mu$\n",
    "- $\\begin{align}\n",
    "    Var[X] &= E[X^2] - E[X]^2 \\\\\n",
    "    &= \\mu^2 + \\mu - \\mu^2 \\\\\n",
    "    &= \\mu\n",
    "    \\end{align}$"
   ]
  },
  {
   "attachments": {},
   "cell_type": "markdown",
   "metadata": {},
   "source": [
    "### 2. Describe a random variable X with Var[X] = 0"
   ]
  },
  {
   "attachments": {},
   "cell_type": "markdown",
   "metadata": {},
   "source": [
    "- If Var[X] = 0, $E[(X-E[X])^2] = 0$\n",
    "- Thus, $X = E[X]$ for all values of X\n",
    "- This means that X must be constant for variance to be 0"
   ]
  },
  {
   "attachments": {},
   "cell_type": "markdown",
   "metadata": {},
   "source": [
    "### 3. In the carnival game chuck-a-luck, three dice are rolled. You make a bet on a particular number (1, 2, 3, 4, 5, 6) showing up. The payout is 1 to 1 if that number shows on (exactly) one die, 2 to 1 if it shows on two dice, and 3 to 1 if it shows up on all three. (You lose your initial stake if your number does not show on any of the dice.) If you make a $1 bet on the number three, what is the standard deviation of your net winnings? (Hint: You already calculated the expected value in Lesson 22. Use that, in conjunction with the shortcut formula (28.2).)"
   ]
  },
  {
   "attachments": {},
   "cell_type": "markdown",
   "metadata": {},
   "source": [
    "- Let X be random variable showing the payout from the $1 bet\n",
    "- From Lesson 22 Q4, $E[X] = \\$-0.0793$\n",
    "\n",
    "- Computing $E[X^2]$ for a given bet (assume it is 3):\n",
    "    - No three\n",
    "        - $P(\\text{no three}): \\frac{5^3}{6^3} = 0.579$\n",
    "        - Payout: -1\n",
    "        - Payout^2: 1\n",
    "\n",
    "    - One three\n",
    "        - $P(\\text{one three}): \\binom{3}{1} \\frac{1}{6} \\frac{5^2}{6^2} = 0.347$\n",
    "        - Payout: 1\n",
    "        - Payout^2: 1\n",
    "\n",
    "    - Two three\n",
    "        - $P(\\text{two three}): \\binom{3}{2} \\frac{1^2}{6^2} \\frac{5}{6} = 0.0694$\n",
    "        - Payout: 2\n",
    "        - Payout^2: 4\n",
    "\n",
    "    - Three three\n",
    "        - $P(\\text{three three}): \\binom{3}{3} \\frac{1^3}{6^3} = 0.00462$\n",
    "        - Payout: 3\n",
    "        - Payout^2: 9\n",
    "\n",
    "    - $E[X^2] = 0.579*1 + 0.347*1 + 0.0694*4 + 0.00462*9 = 1.245$\n",
    "\n",
    "- $Var[X] = E[X^2] - E[X]^2 = 1.245 - (-0.0793)^2 = 1.239$"
   ]
  },
  {
   "cell_type": "code",
   "execution_count": 9,
   "metadata": {},
   "outputs": [
    {
     "name": "stdout",
     "output_type": "stream",
     "text": [
      "-0.0764\n",
      "1.24816\n",
      "1.2423230400000003\n"
     ]
    }
   ],
   "source": [
    "import numpy as np\n",
    "population = [x for x in range(1,7)]\n",
    "bet_num = 3\n",
    "payouts = []\n",
    "payouts_squared = []\n",
    "\n",
    "for _ in range(50_000):\n",
    "    sample=np.random.choice(population, 3, replace=True)\n",
    "    payout=len([x for x in sample if x == bet_num]) if  len([x for x in sample if x == bet_num]) != 0 else -1\n",
    "    payouts.append(payout)\n",
    "    payouts_squared.append(payout**2)\n",
    "\n",
    "print(np.mean(payouts))\n",
    "print(np.mean(payouts_squared))\n",
    "print(np.var(payouts))\n"
   ]
  },
  {
   "attachments": {},
   "cell_type": "markdown",
   "metadata": {},
   "source": [
    "### 4. Packets arrive at a certain node on the university’s intranet at 10 packets per minute, on average. Assume packet arrivals meet the assumptions of a Poisson process. What is the standard deviation of the number of arrivals you expect to see over a 5-minute period?"
   ]
  },
  {
   "attachments": {},
   "cell_type": "markdown",
   "metadata": {},
   "source": [
    "- $Var[X] = \\mu$ when X is poisson\n",
    "- Hence, $SD[X] = \\sqrt{Var[X]} = \\sqrt{50} = 7.07$"
   ]
  },
  {
   "cell_type": "code",
   "execution_count": 10,
   "metadata": {},
   "outputs": [
    {
     "data": {
      "text/plain": [
       "7.0710678118654755"
      ]
     },
     "execution_count": 10,
     "metadata": {},
     "output_type": "execute_result"
    }
   ],
   "source": [
    "import numpy as np\n",
    "np.sqrt(50)"
   ]
  },
  {
   "attachments": {},
   "cell_type": "markdown",
   "metadata": {},
   "source": [
    "### 5. Show that the variance of a $\\text{Hypergeometric}(n, N1, N0)$ random variable is $n \\cdot \\frac{N_1}{N} \\cdot \\frac{N_0}{N} \\cdot \\frac{N-n}{N-1}$. (Hint: You calculated E[X(X-1)] for a hypergeometric random variable in lesson 24)"
   ]
  },
  {
   "attachments": {},
   "cell_type": "markdown",
   "metadata": {},
   "source": [
    "- Recall that $E[X] = n \\cdot \\frac{N_1}{N}$ when X is hypergeometric\n",
    "- Using result from chapter 24 Q5:\n",
    "    - $E[X(X-1)] = E[X^2] - E[X] = \\frac{N_1}{N} \\cdot \\frac{N_1 - 1}{N-1} \\cdot n(n-1)$\n",
    "- Rearranging\n",
    "    $E[X^2] = \\frac{N_1}{N} \\cdot \\frac{N_1 - 1}{N-1} \\cdot n(n-1) + n \\frac{N_1}{N}$\n",
    "\n",
    "- Using result in Theorem 28.1, $Var[X] = E[X^2] - E[X]^2$\n",
    "    - $\\begin{align}\n",
    "        Var[X] &= \\frac{N_1}{N} \\cdot \\frac{N_1 - 1}{N-1} \\cdot n(n-1) + \\frac{n N_1}{N} - \\frac{n^2 N_1^2}{N^2} \\\\\n",
    "        &= n \\frac{N_1}{N} (\\frac{(N_1 - 1) \\cdot (n-1)}{N-1} + 1 - n \\frac{N_1}{N}) \\\\\n",
    "        &= n \\frac{N_1}{N} (\\frac{(N_1 - 1) \\cdot (n-1) \\cdot N}{N(N-1)} + \\frac{N(N-1)}{N(N-1)} - n \\frac{N_1(N-1)}{N(N-1)}) \\\\\n",
    "        &= n \\frac{N_1}{N} (\\frac{nNN_1 - NN_1 - nN + N + N^2 - N - nNN_1 + nN_1}{N(N-1)}) \\\\\n",
    "        &= n \\frac{N_1}{N} (\\frac{N^2 - NN_1 - nN + nN_1}{N(N-1)}) \\\\\n",
    "        &= n \\frac{N_1}{N} \\frac{(N-n)(N-N_1)}{N(N-1)} \\\\\n",
    "        &= n \\frac{N_1}{N} \\frac{(N-N_1)}{N} \\frac{N-n}{N-1} \\\\\n",
    "        &= n \\frac{N_1}{N} \\frac{N_0}{N} \\frac{N-n}{N-1} \\\\\n",
    "        \\end{align}$"
   ]
  },
  {
   "attachments": {},
   "cell_type": "markdown",
   "metadata": {},
   "source": [
    "### 6. Show that the variance of a $\\text{NegativeBinomial}(r,p)$ random variable is $\\frac{r(1-p)}{p^2}$. (Hint: You calculated $E[(X+1)X]$ for a negative binomial random variable in Lesson 24.)"
   ]
  },
  {
   "attachments": {},
   "cell_type": "markdown",
   "metadata": {},
   "source": [
    "- $Var[X] = E[X^2] - E[X]^2$\n",
    "- From lesson 24 Q7:\n",
    "    - $E[(X+1)X] = E[X^2] + E[X] = \\frac{r(r+1)}{p^2}$\n",
    "    - Hence, $E[X^2] = \\frac{r(r+1)}{p^2} - E[X] = \\frac{r(r+1)}{p^2} - \\frac{r}{p} = \\frac{r}{p} (\\frac{r+1-p}{p})$ \n",
    "\n",
    "$\\begin{align}\n",
    "    Var[X] &= E[X^2] - E[X]^2 \\\\\n",
    "    &= \\frac{r}{p} (\\frac{r+1-p}{p}) - \\frac{r^2}{p^2} \\\\\n",
    "    &= \\frac{r^2 + r - rp - r^2}{p^2} \\\\\n",
    "    &= \\frac{r(1-p)}{p^2}\n",
    "\\end{align}$"
   ]
  }
 ],
 "metadata": {
  "kernelspec": {
   "display_name": "leetcode",
   "language": "python",
   "name": "python3"
  },
  "language_info": {
   "codemirror_mode": {
    "name": "ipython",
    "version": 3
   },
   "file_extension": ".py",
   "mimetype": "text/x-python",
   "name": "python",
   "nbconvert_exporter": "python",
   "pygments_lexer": "ipython3",
   "version": "3.10.4"
  },
  "orig_nbformat": 4
 },
 "nbformat": 4,
 "nbformat_minor": 2
}
