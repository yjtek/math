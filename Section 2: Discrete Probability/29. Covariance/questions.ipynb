{
 "cells": [
  {
   "attachments": {},
   "cell_type": "markdown",
   "metadata": {},
   "source": [
    "### 1. Suppose X and Y are random variables with joint PMF below. Are X and Y independent? What is Cov[X,Y]?\n",
    "\n",
    "$$\\begin{array}{rr|ccc}\n",
    "y & 1 & 0.3 & 0 & 0.3 \\\\\n",
    " & 0 & 0 & 0.4 & 0 \\\\\n",
    "\\hline\n",
    " & & 0 & 1 & 2 \\\\\n",
    " & & & x & & \n",
    "\\end{array}$$"
   ]
  },
  {
   "attachments": {},
   "cell_type": "markdown",
   "metadata": {},
   "source": [
    "- $E[XY] = 0.3 * 0 * 1 + 0.4 * 1 * 0 + 0.3 * 2 * 1 = 0.6$\n",
    "- $E[X] = 0.3*0 + 0.4*1 + 0.3*2 = 1$\n",
    "- $E[Y] = 0.4*0 + 0.6*1 = 0.6$\n",
    "\n",
    "- $Cov[X,Y] = E[XY] - E[X]E[Y] = 0.6 - 0.6 = 0$\n",
    "\n",
    "- X and Y are not independent\n",
    "    - Knowing Y gives no information about X\n",
    "        - E[X | Y=0] = 1\n",
    "        - E[X | Y=1] = 1\n",
    "    - But knowing X gives information about Y\n",
    "        - E[Y | X=0] = 1\n",
    "        - E[Y | X=1] = 0\n",
    "        - E[Y | X=2] = 1"
   ]
  },
  {
   "attachments": {},
   "cell_type": "markdown",
   "metadata": {},
   "source": [
    "### 2. Two tickets are drawn from a box with N1 1s and N0 0s. Let X be the number of 1s on the first draw and Y be the number of 1s on the second draw. Note that X and Y can only be 0 or 1 \n",
    "\n",
    "### - Calculate Cov[X,Y] when the draws are made with replacement.\n",
    "### - Calculate Cov[X,Y] when the draws are made without replacement.\n",
    "\n",
    "### (Hint: You worked out E[XY] in lesson 25. Use it!)"
   ]
  },
  {
   "attachments": {},
   "cell_type": "markdown",
   "metadata": {},
   "source": [
    "- With replacement:\n",
    "    - $\\begin{align}\n",
    "        Cov[X,Y] &= E[XY] - E[X]E[Y] \\\\\n",
    "        &= \\frac{N_1^2}{N^2} - \\frac{N_1^2}{N^2} \\\\\n",
    "        &= 0\n",
    "        \\end{align}$\n",
    "\n",
    "- Without replacement:\n",
    "    - $\\begin{align}\n",
    "        Cov[X,Y] &= E[XY] - E[X]E[Y] \\\\\n",
    "        &= \\frac{N_1}{N} \\cdot \\frac{N_1-1}{N-1} - \\frac{N_1^2}{N^2} \\\\\n",
    "        &= \\frac{N_1(N_1-1)}{N(N-1)} - \\frac{N_1^2}{N^2} \\\\\n",
    "        &= \\frac{N_1(N_1-1)N}{N^2(N-1)} - \\frac{N_1^2(N-1)}{N^2(N-1)} \\\\\n",
    "        &= \\frac{NN_1^2 - NN_1 - NN_1^2 + N_1^2}{N^2(N-1)} \\\\\n",
    "        &= \\frac{N_1^2 - NN_1}{N^2(N-1)} \\\\\n",
    "        &= \\frac{N_1 (N_1 - N)}{N^2(N-1)} \\\\\n",
    "        &= \\frac{N_1}{N} \\frac{(N_1 - N)}{N(N-1)} \\\\\n",
    "        &= \\frac{N_1}{N} -\\frac{N - N_1}{N} \\frac{1}{N-1} \\\\\n",
    "        &= - \\frac{N_1}{N} \\frac{N_0}{N} \\frac{1}{N-1} \\\\\n",
    "        \\end{align}$\n",
    "\n",
    "- Note that when drawing without replacement, the covariance is negative! This is because, if you draw a 1 without replacement the first time, it is less likely that Y is 1 (because there are fewer 1s)"
   ]
  },
  {
   "attachments": {},
   "cell_type": "markdown",
   "metadata": {},
   "source": [
    "### 3. At Diablo Canyon nuclear plant, radioactive particles hit a Geiger counter according to a Poisson process with a rate of 3.5 particles per second. Let X be the number of particles detected in the first 2 seconds. Let Y be the number of particles detected in the second after that (i.e., the 3rd second). Calculate Cov[X,Y]"
   ]
  },
  {
   "attachments": {},
   "cell_type": "markdown",
   "metadata": {},
   "source": [
    "- $Cov[X,Y] = 0$ because X and Y are independent\n",
    "\n",
    "- $E[XY]=E[X]E[Y]$ in this case, because the Poisson is independent across different time periods\n",
    "- $Cov[X,Y] = E[X]E[Y] - E[X]E[Y] = \\mu_x\\mu_y - \\mu_x\\mu_y = 7*3.5 - 7*3.5 = 0$"
   ]
  },
  {
   "attachments": {},
   "cell_type": "markdown",
   "metadata": {},
   "source": [
    "### 4. Consider the following three scenarios:\n",
    "\n",
    "### - A fair coin is tossed 3 times. X is the number of heads and Y is the number of tails.\n",
    "### - A fair coin is tossed 4 times. X is the number of heads in the first 3 tosses, Y is the number of heads in the last 3 tosses.\n",
    "### - A fair coin is tossed 6 times. X is the number of heads in the first 3 tosses, Y is the number of heads in the last 3 tosses.\n",
    "\n",
    "### Calculate Cov[X,Y] for each of these three scenarios. Interpret the sign of the covariance. "
   ]
  },
  {
   "attachments": {},
   "cell_type": "markdown",
   "metadata": {},
   "source": [
    "- In Section 25 Q3, we computed E[XY] for each of the scenarios. We use the results here:\n",
    "\n",
    "- Scenario 1:\n",
    "    - $E[XY] = \\frac{4}{3}$\n",
    "    - $E[X] = 1.5$\n",
    "    - $E[Y] = E[3-X] = 3 - E[X] = 1.5$\n",
    "    - $Cov[X,Y] = E[XY] - E[X]E[Y] = \\frac{4}{3} - 2.25 = -0.92$\n",
    "    \n",
    "    - Covariance is negative, because the more heads you get in 3 tosses (X), the fewer tails you get in the same 3 tosses (Y) \n",
    "\n",
    "- Scenario 2:\n",
    "    - $E[XY] = 2.75$\n",
    "    - $E[X] = 1.5$\n",
    "    - $E[Y] = 1.5$\n",
    "    - $Cov[X,Y] = E[XY] - E[X]E[Y] = 2.75 - 2.25 = 0.5$\n",
    "\n",
    "    - Covariance is positive, because the more heads you get in toss 1-3 (X), the more heads you should generally get in toss 2-4 (Y) \n",
    "\n",
    "- Scenario 3:\n",
    "    - $E[XY] = 2.25$\n",
    "    - $E[X] = 1.5$\n",
    "    - $E[Y] = 1.5$\n",
    "    - $Cov[X,Y] = E[XY] - E[X]E[Y] = 2.25 - 2.25 = 0$\n",
    "\n",
    "    - Covariance is zero because X and Y are independent\n"
   ]
  },
  {
   "cell_type": "code",
   "execution_count": null,
   "metadata": {},
   "outputs": [],
   "source": []
  }
 ],
 "metadata": {
  "kernelspec": {
   "display_name": "leetcode",
   "language": "python",
   "name": "python3"
  },
  "language_info": {
   "codemirror_mode": {
    "name": "ipython",
    "version": 3
   },
   "file_extension": ".py",
   "mimetype": "text/x-python",
   "name": "python",
   "nbconvert_exporter": "python",
   "pygments_lexer": "ipython3",
   "version": "3.10.4"
  },
  "orig_nbformat": 4
 },
 "nbformat": 4,
 "nbformat_minor": 2
}
