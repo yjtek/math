{
 "cells": [
  {
   "attachments": {},
   "cell_type": "markdown",
   "metadata": {},
   "source": [
    "## Theory"
   ]
  },
  {
   "attachments": {},
   "cell_type": "markdown",
   "metadata": {},
   "source": [
    "- Covariance is the measure of how 2 random variables relate to each other\n",
    "\n",
    "- Definition 29.1 (Covariance): Let X and Y be random variables. Then, the covariance of X and Y, symbolized Cov[X,Y] is defined as:\n",
    "    - $Cov[X,Y] = E[(X - E[X]) (Y - E[Y])]$\n",
    "\n",
    "    - The sign of the covariance is useful:\n",
    "        - Cov[X,Y] > 0: X increases as Y increases\n",
    "        - Cov[X,Y] = 0: X does not move with Y. Does not mean independence!!\n",
    "        - Cov[X,Y] < 0: X decreases as Y increases\n",
    "\n",
    "- Theorem 29.1 (Covariance-Variance Relationship): Let X be a random variable. Then\n",
    "    - $Var[X] = Cov[X,X]$\n",
    "\n",
    "- Theorem 29.2 (Shortcut formula for Covariance):\n",
    "    - $Cov[X,Y] = E[XY] - E[X]E[Y]$\n",
    "\n",
    "    - Proof\n",
    "        - $\\begin{align}\n",
    "            Cov[X,Y] &= E[(X - E[X]) (Y-E[Y])] \\\\\n",
    "            &= E[(XY - YE[X] - XE[Y] + E[X]E[Y])] \\\\\n",
    "            &= E[XY] - E[Y]E[X] - E[X]E[Y] + E[X]E[Y] \\\\\n",
    "            &= E[XY] - E[Y]E[X] \n",
    "            \\end{align}$\n",
    "\n",
    "- Theorem 29.3: (Independence implies 0 Covariance):\n",
    "    - If X and Y are independent, then $Cov[X,Y] = 0$\n",
    "    - Proof\n",
    "        - $\\begin{align}\n",
    "            Cov[X,Y] &= E[XY] - E[X]E[Y] \\\\\n",
    "            &= E[X]E[Y] - E[X]E[Y], & E[XY]=E[X]E[Y] \\text{ if X, Y independent} \\\\\n",
    "            &= 0\n",
    "            \\end{align}$\n",
    "\n",
    "    - $Cov[X,Y] = 0$ **DOES NOT** imply X and Y are independent"
   ]
  },
  {
   "attachments": {},
   "cell_type": "markdown",
   "metadata": {},
   "source": [
    "### Example 29.1 (Roulette Covariance)"
   ]
  },
  {
   "attachments": {},
   "cell_type": "markdown",
   "metadata": {},
   "source": [
    "- We use the same example with Xavier and Yolanda playing roulette (recall that X and Y place the same bets for the first 3 rolls, and Y subsequently plays 2 more rolls alone)\n",
    "\n",
    "- We computed in Examples 25.1 and 27.1 that $E[XY] = 4.11$\n",
    "\n",
    "- Recall that $X \\sim \\text{Binom}(3, \\frac{18}{38})$ and $Y \\sim \\text{Binom}(5, \\frac{18}{38})$ \n",
    "    - So $E[X] = 3 * \\frac{18}{38}$ \n",
    "    - So $E[Y] = 5 * \\frac{18}{38}$ \n",
    "\n",
    "- Therefore $Cov[X,Y] = E[XY] - E[X]E[Y] = 4.11 - 3.366 \\approx 0.744$\n",
    "    - Note that covariance is positive, and this is sensible because the more Y wins, the more X must win (since first 3 rolls are common)"
   ]
  },
  {
   "attachments": {},
   "cell_type": "markdown",
   "metadata": {},
   "source": []
  }
 ],
 "metadata": {
  "kernelspec": {
   "display_name": "leetcode",
   "language": "python",
   "name": "python3"
  },
  "language_info": {
   "codemirror_mode": {
    "name": "ipython",
    "version": 3
   },
   "file_extension": ".py",
   "mimetype": "text/x-python",
   "name": "python",
   "nbconvert_exporter": "python",
   "pygments_lexer": "ipython3",
   "version": "3.10.4"
  },
  "orig_nbformat": 4
 },
 "nbformat": 4,
 "nbformat_minor": 2
}
