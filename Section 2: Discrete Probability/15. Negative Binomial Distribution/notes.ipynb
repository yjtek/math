{
 "cells": [
  {
   "attachments": {},
   "cell_type": "markdown",
   "metadata": {},
   "source": [
    "## Motivating Example"
   ]
  },
  {
   "attachments": {},
   "cell_type": "markdown",
   "metadata": {},
   "source": [
    "On a (American) roulette wheel, there are 38 spaces: 18 black, 18 red, and 2 green. You’ve been at the casino for a while now and decide to leave after you have won 3 bets on red. What is the probability that you leave the casino after placing exactly 5 bets on red?\n",
    "\n"
   ]
  },
  {
   "attachments": {},
   "cell_type": "markdown",
   "metadata": {},
   "source": [
    "## Theory"
   ]
  },
  {
   "attachments": {},
   "cell_type": "markdown",
   "metadata": {},
   "source": [
    "- In the earlier geometric distribution, the PMF $f(x)$ was computed as: for a given probability $p$ of drawing 1s, what is the probability of making $x-1$ draws of 0s before we get a 1 on the $x$-th draw\n",
    "    - Recall that this is simply $(1-p)^{x-1} * p$\n",
    "\n",
    "- The negative binomial distribution is simply a generalisation of the geometric distribution\n",
    "    - In this case, the PMF $f(x)$ was computed as: for a given probability $p$ of drawing 1s, what is the probability of making $x$ draws before getting $r$ 1s\n",
    "\n",
    "- Theorem 15.1: If the random variable can be described as the number of draws with replacement from a box of size $N$ until $r$ 1s have been drawn, the PMF is given by:\n",
    "    - $$\n",
    "        f(X) = \\frac{\\binom{x-1}{r-1} N_0^{x-r} \\cdot N_1^r}{N^x} = \\binom{x-1}{r-1} (1-p)^{x-r} \\cdot p^r\n",
    "        $$"
   ]
  },
  {
   "attachments": {},
   "cell_type": "markdown",
   "metadata": {},
   "source": [
    "### Proof of formula"
   ]
  },
  {
   "attachments": {},
   "cell_type": "markdown",
   "metadata": {},
   "source": [
    "- The $(1-p)^{x-r} \\cdot p^r$ portion is obvious by now, so it doesn't require more explanation\n",
    "- The $\\binom{x-1}{r-1}$ may need some explanation. Why not $\\binom{x}{r}$\n",
    "    - Recall that the sequence ends upon seeing $r$ 1s\n",
    "    - So the last value in any sequence must be a 1. Hence, the position of one of the 1s is fixed!!\n",
    "    - This leaves us with $r-1$ 1s, and $x-1$ positions\n",
    "    - Hence, we find the number of ways to arrange $r-1$ 1s in $x-1$ positions"
   ]
  },
  {
   "attachments": {},
   "cell_type": "markdown",
   "metadata": {},
   "source": [
    "### Visualising distribution"
   ]
  },
  {
   "attachments": {},
   "cell_type": "markdown",
   "metadata": {},
   "source": [
    "- Fixing the total number of objects $N$ in a box AND the number of 1s needed to end the sequence $r$, what happens when you have more 1s in the box?\n",
    "    - Higher prob where the sequence ends with no 0s drawn (k=0) before n=3"
   ]
  },
  {
   "cell_type": "code",
   "execution_count": 17,
   "metadata": {},
   "outputs": [
    {
     "data": {
      "text/plain": [
       "array([0.008     , 0.0192    , 0.03072   , 0.04096   , 0.049152  ,\n",
       "       0.05505024, 0.05872026, 0.06039798, 0.06039798, 0.0590558 ])"
      ]
     },
     "metadata": {},
     "output_type": "display_data"
    },
    {
     "data": {
      "text/plain": [
       "array([0.125     , 0.1875    , 0.1875    , 0.15625   , 0.1171875 ,\n",
       "       0.08203125, 0.0546875 , 0.03515625, 0.02197266, 0.01342773])"
      ]
     },
     "metadata": {},
     "output_type": "display_data"
    },
    {
     "data": {
      "text/plain": [
       "array([5.120000e-01, 3.072000e-01, 1.228800e-01, 4.096000e-02,\n",
       "       1.228800e-02, 3.440640e-03, 9.175040e-04, 2.359296e-04,\n",
       "       5.898240e-05, 1.441792e-05])"
      ]
     },
     "metadata": {},
     "output_type": "display_data"
    }
   ],
   "source": [
    "import scipy\n",
    "display(scipy.stats.nbinom.pmf(k=range(10), n=3, p=0.2))\n",
    "display(scipy.stats.nbinom.pmf(k=range(10), n=3, p=0.5))\n",
    "display(scipy.stats.nbinom.pmf(k=range(10), n=3, p=0.8))"
   ]
  },
  {
   "attachments": {},
   "cell_type": "markdown",
   "metadata": {},
   "source": [
    "- What happens when we wish to draw more 1s before terminating the sequence?\n",
    "    - With more 1s needed, the PMF shifts right, because there is less chance of getting no 0s in the sequence (since you are necessarily making more draws)"
   ]
  },
  {
   "cell_type": "code",
   "execution_count": 18,
   "metadata": {},
   "outputs": [
    {
     "data": {
      "text/plain": [
       "array([0.125     , 0.1875    , 0.1875    , 0.15625   , 0.1171875 ,\n",
       "       0.08203125, 0.0546875 , 0.03515625, 0.02197266, 0.01342773])"
      ]
     },
     "metadata": {},
     "output_type": "display_data"
    },
    {
     "data": {
      "text/plain": [
       "array([0.00390625, 0.015625  , 0.03515625, 0.05859375, 0.08056641,\n",
       "       0.09667969, 0.10473633, 0.10473633, 0.09819031, 0.08728027])"
      ]
     },
     "metadata": {},
     "output_type": "display_data"
    },
    {
     "data": {
      "text/plain": [
       "array([0.00012207, 0.00079346, 0.0027771 , 0.00694275, 0.0138855 ,\n",
       "       0.02360535, 0.03540802, 0.04805374, 0.06006718, 0.07007837])"
      ]
     },
     "metadata": {},
     "output_type": "display_data"
    }
   ],
   "source": [
    "import scipy\n",
    "display(scipy.stats.nbinom.pmf(k=range(10), n=3, p=0.5))\n",
    "display(scipy.stats.nbinom.pmf(k=range(10), n=8, p=0.5))\n",
    "display(scipy.stats.nbinom.pmf(k=range(10), n=13, p=0.5))\n"
   ]
  },
  {
   "attachments": {},
   "cell_type": "markdown",
   "metadata": {},
   "source": [
    "## Worked examples"
   ]
  },
  {
   "attachments": {},
   "cell_type": "markdown",
   "metadata": {},
   "source": [
    "- We solve the motivating example\n",
    "    - There are 38 numbers, and 18 are red\n",
    "    - Let X be the number of draws needed to get 3 reds\n",
    "    - X ~ NB(3, 18/38)\n",
    "    - We want to know P(X = 5) = f(5)\n",
    "\n",
    "    - Proven that formula and simulation give the same result"
   ]
  },
  {
   "cell_type": "code",
   "execution_count": 47,
   "metadata": {},
   "outputs": [
    {
     "name": "stdout",
     "output_type": "stream",
     "text": [
      "0.17664883350786867\n",
      "0.17508\n"
     ]
    }
   ],
   "source": [
    "import scipy\n",
    "import numpy as np\n",
    "print(scipy.stats.nbinom.pmf(k=2, n=3, p=18/38))\n",
    "\n",
    "population=[1]*18 + [0]*20\n",
    "n=25_000\n",
    "counter=0\n",
    "for _ in range(n):\n",
    "    sample=np.random.choice(population, size=5, replace=True)\n",
    "    if (np.sum(sample) == 3) & (sample[-1] == 1):\n",
    "        counter+=1\n",
    "print(counter/n)\n"
   ]
  },
  {
   "attachments": {},
   "cell_type": "markdown",
   "metadata": {},
   "source": [
    "- Example 15.2: Suppose a telemarketer has a 15% chance of making a sale on any given phone call. He is required to make 10 successful sales before leaving for the day. What is the probability that he needs to make more than 40 calls?\n",
    "    - Let X be the number of calls made before hitting 10 successful calls\n",
    "    - X~NB(10, 0.15)\n",
    "    - Find P(X>=40) = 1 - P(X <= 39) = 1 - f(39) - f(38) ..."
   ]
  },
  {
   "cell_type": "code",
   "execution_count": 59,
   "metadata": {},
   "outputs": [
    {
     "name": "stdout",
     "output_type": "stream",
     "text": [
      "0.06722026138784819\n",
      "0.0672202613878481\n",
      "0.9327797386121519\n"
     ]
    },
    {
     "data": {
      "text/plain": [
       "0.9317"
      ]
     },
     "execution_count": 59,
     "metadata": {},
     "output_type": "execute_result"
    }
   ],
   "source": [
    "import scipy\n",
    "import numpy as np\n",
    "\n",
    "print(np.sum(scipy.stats.nbinom.pmf(k=range(31), n=10, p=0.15)))\n",
    "print(scipy.stats.nbinom.cdf(k=30, n=10, p=0.15)) ##equal\n",
    "\n",
    "p_more_than_40 = 1 - scipy.stats.nbinom.cdf(k=30, n=10, p=0.15)\n",
    "print(p_more_than_40)\n",
    "\n",
    "## Proof by simulation\n",
    "population=[1]*15 + [0]*85\n",
    "np.mean([np.sum(np.random.choice(population, size=40, replace=True)) < 10 for _ in range(10_000)])"
   ]
  }
 ],
 "metadata": {
  "kernelspec": {
   "display_name": "leetcode",
   "language": "python",
   "name": "python3"
  },
  "language_info": {
   "codemirror_mode": {
    "name": "ipython",
    "version": 3
   },
   "file_extension": ".py",
   "mimetype": "text/x-python",
   "name": "python",
   "nbconvert_exporter": "python",
   "pygments_lexer": "ipython3",
   "version": "3.10.4"
  },
  "orig_nbformat": 4
 },
 "nbformat": 4,
 "nbformat_minor": 2
}
