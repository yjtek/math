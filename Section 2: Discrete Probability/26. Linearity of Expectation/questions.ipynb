{
 "cells": [
  {
   "attachments": {},
   "cell_type": "markdown",
   "metadata": {},
   "source": [
    "### 1. Each year, as part of a “Secret Santa” tradition, a group of 4 friends write their names on slips of papers and place the slips into a hat. Each member of the group draws a name at random from the hat and must buy a gift for that person. Of course, it is possible that they draw their own name, in which case they buy a gift for themselves. What is the expected number of people who draw their own name?\n",
    "\n",
    "- Hint: Express this complicated random variable as a sum of indicator random variables (i.e., that only take on the values 0 or 1), and use linearity of expectation."
   ]
  },
  {
   "attachments": {},
   "cell_type": "markdown",
   "metadata": {},
   "source": [
    "- Let $X_{ij}$ be a random variable representing person $i$ drawing name $j$\n",
    "    - $X_{ij}$ is 1 when $i=j$, and 0 otherwise\n",
    "\n",
    "- Let Y represent the total count of people who draw their own name\n",
    "    - $E[Y] = \\sum_{i} E[X_{ij}]$\n",
    "    \n",
    "- Note that these are not independent binomial draws. If one person does not draw his/her own name, that makes it impossible for another person to draw his/her own name\n",
    "    - BUT\n",
    "    - We know that each $X \\sim \\text{Binom}(n=1, p=0.25)$, so $E[X_{ij}] = 0.25$\n",
    "    - And by linearity of expectations, $E[Y] = \\sum_{i} E[X_{ij}]$\n",
    "    - So $E[Y] = 0.25 + 0.25 + 0.25 + 0.25 = 1$\n",
    "\n",
    "- Proof by simulation below gives the same answer"
   ]
  },
  {
   "cell_type": "code",
   "execution_count": 49,
   "metadata": {},
   "outputs": [
    {
     "data": {
      "text/plain": [
       "0.9792"
      ]
     },
     "execution_count": 49,
     "metadata": {},
     "output_type": "execute_result"
    }
   ],
   "source": [
    "import numpy as np\n",
    "\n",
    "names=np.array([x for x in range(4)])\n",
    "n = 10_000\n",
    "count_draw_own_name = []\n",
    "for _ in range(10_000):\n",
    "    draw = np.random.choice(names, 4, replace=False)\n",
    "    count_draw_own_name.append(np.sum(draw == names))\n",
    "np.mean(count_draw_own_name)"
   ]
  },
  {
   "attachments": {},
   "cell_type": "markdown",
   "metadata": {},
   "source": [
    "### 2. McDonald’s decides to give a Pokemon toy with every Happy Meal. Each time you buy a Happy Meal, you are equally likely to get any one of the 6 types of Pokemon. What is the expected number of Happy Meals that you have to buy until you “catch ’em all”?\n",
    "\n",
    "- Hint: Express this complicated random variable as a sum of geometric random variables, and use linearity of expectation.\n"
   ]
  },
  {
   "attachments": {},
   "cell_type": "markdown",
   "metadata": {},
   "source": [
    "- Let X be the number of happy meals you buy until you collect all 6\n",
    "- This is too complicated to represent as a single distribution, so let $Y_{i}$ be the number of happy meals you buy until you collect a pokemon of type $i$\n",
    "- $Y_{i}$ is a geometric random variable\n",
    "    - $f_Y(y) = (1-p)^{y-1} p$\n",
    "    - $\\begin{align}\n",
    "        E[Y] &= \\sum_{y=1}^{\\inf} (1-p)^{y-1} p \\cdot y \\\\\n",
    "        &= p \\sum_{y=1}^{\\inf} (1-p)^{y-1} \\cdot y \\\\\n",
    "        &= p \\cdot -\\frac{\\partial }{\\partial p} (\\sum_{y=1}^{\\inf} (1-p)^{y}) \\\\\n",
    "        &= p \\cdot -\\frac{\\partial }{\\partial p} \\sum_{y=1}^{\\inf} \\frac{1}{1 - 1 + p} & \\text{By geometric sum relation proven in Q3 of section 24 questions}\\\\\n",
    "        &= p \\cdot -\\frac{\\partial }{\\partial p}( \\frac{1-p}{p}) \\\\\n",
    "        &= p \\cdot \\frac{\\partial }{\\partial p} (1 - \\frac{1}{p}) \\\\\n",
    "        &= p \\cdot \\frac{1}{p^2} \\\\\n",
    "        &= \\frac{1}{p}\n",
    "        \\end{align}$\n",
    "\n",
    "- There is one additional nuance here:\n",
    "    - If you have nothing collected, it will only take you 1 purchase to collect your first, because any of the 6 options will be new\n",
    "    - If you have collected 1 type, then each draw has probability $\\frac{6-1}{6}$ of throwing up something you need\n",
    "    - If you have collected 2 types, then each draw has probability $\\frac{6-2}{6}$ of throwing up something you need\n",
    "    - etc.\n",
    "    - So \n",
    "        - $Y_1 \\sim \\text{Geom}(p=6/6)$\n",
    "        - $Y_2 \\sim \\text{Geom}(p=5/6)$\n",
    "        - $Y_3 \\sim \\text{Geom}(p=4/6)$\n",
    "        - ...\n",
    "\n",
    "\n",
    "- $X = Y_{1} + Y_{2} + ... Y_{6}$   \n",
    "    - $\\begin{align}\n",
    "        E[X] &= E[Y_{1}] + E[Y_{2}] + ... E[Y_{6}] \\\\\n",
    "        &= \\frac{6}{6} + \\frac{6}{5} + ... \\\\\n",
    "        &= 14.7\n",
    "        \\end{align}$\n",
    "\n",
    "- Proof by simulation"
   ]
  },
  {
   "cell_type": "code",
   "execution_count": 1,
   "metadata": {},
   "outputs": [
    {
     "data": {
      "text/plain": [
       "14.7202"
      ]
     },
     "execution_count": 1,
     "metadata": {},
     "output_type": "execute_result"
    }
   ],
   "source": [
    "import numpy as np\n",
    "\n",
    "types = [x for x in range(6)]\n",
    "purchases_made = []\n",
    "\n",
    "for _ in range(10_000):\n",
    "    collected = set()\n",
    "    purchases=0\n",
    "    while len(collected) != 6:\n",
    "        collected.add(np.random.choice(types, 1, replace=True)[0])\n",
    "        purchases+=1\n",
    "    purchases_made.append(purchases)\n",
    "np.mean(purchases_made)"
   ]
  },
  {
   "attachments": {},
   "cell_type": "markdown",
   "metadata": {},
   "source": [
    "### 3. A group of 60 people are comparing their birthdays (as usual, assume that their birthdays are independent, all 365 days are equally likely, etc.). Find the expected number of days in the year on which at least two of these people were born.\n",
    "\n",
    "- Hint: Express this complicated random variable as a sum of indicator random variables, and use linearity of expectation."
   ]
  },
  {
   "attachments": {},
   "cell_type": "markdown",
   "metadata": {},
   "source": [
    "- Let X be the count of days where multiple people share birthdays\n",
    "- Let $Y_{i}$ be an indiator variable that is 1 when day $i$ is birthday for more than 1 person \n",
    "    - So $E[X] = \\sum_{i=0}^{365} Y_i$\n",
    "\n",
    "- For any given day $Y_i$, the probability of having 2 or more people having a birthday on $Y_i$ is the complement of the probability of having 1 or less person having a birthday on $Y_i$, i.e. 1 - f(1) - f(0)\n",
    "    - $f(0) = \\frac{364^{60}}{365^{60}} $\n",
    "    - $f(1) = \\binom{60}{1} \\cdot \\frac{1}{365} \\cdot \\frac{364^{59}}{365^{59}} $\n",
    "    - So $E[Y_i] = 1 - f(0) - f(1) \\approx 1 - 0.848 - 0.140 = 0.012$\n",
    "\n",
    "- $E[X] = \\sum_{i=0}^{365} Y_i = 0.012 * 365 = 4.38$"
   ]
  },
  {
   "cell_type": "code",
   "execution_count": 70,
   "metadata": {},
   "outputs": [
    {
     "data": {
      "text/plain": [
       "4.352"
      ]
     },
     "execution_count": 70,
     "metadata": {},
     "output_type": "execute_result"
    }
   ],
   "source": [
    "import numpy as np\n",
    "population = [x for x in range(1, 366)]\n",
    "count_multi_birthdays=[]\n",
    "for _ in range(10_000):\n",
    "    sample=np.random.choice(population, 60, replace=True)\n",
    "    days, counts = np.unique(sample, return_counts=True)\n",
    "    count_multi_birthdays.append(len([x for x,y in zip(days, counts) if y > 1]))\n",
    "np.mean(count_multi_birthdays)"
   ]
  },
  {
   "attachments": {},
   "cell_type": "markdown",
   "metadata": {},
   "source": [
    "### 4. A hash table is a commonly used data structure in computer science, allowing for fast information retrieval. For example, suppose we want to store some people’s phone numbers. Assume that no two of the people have the same name. For each name x, a hash function h is used, where $h(x)$ is the location to store x’s phone number. After such a table has been computed, to look up x’s phone number one just recomputes $h(x)$ and then looks up what is stored in that location.\n",
    "\n",
    "### Typically, $h$ is chosen to be (pseudo)random. Suppose there are 100 people, with each person’s phone number stored in a random location (independently), represented by an integer between 1 and 1000. It then might happen that one location has more than one phone number stored there, if two different people x and y end up with the same random location for their information to be stored.\n",
    "\n",
    "### Find the expected number of locations with no phone numbers stored, the expected number with exactly one phone number, and the expected number with more than one phone number."
   ]
  },
  {
   "attachments": {},
   "cell_type": "markdown",
   "metadata": {},
   "source": [
    "- With no phone numbers\n",
    "    - Let $X$ be the number of locations with no phone numbers\n",
    "    - Let $Y_i$ be an indicator variable that is 1 when there is at least 1 phone number in position $i$, and 0 otherwise\n",
    "        - For a given individual, probability that he/she is put into Y_i is $\\frac{1}{1000} = 0.001$\n",
    "        - Since there are 100 people, probability that position $i$ is empty is $(1-0.001)^{100} = 0.905$ \n",
    "        - So the complement probability (that there is at least 1 number in position i), is $1 - 0.905 = 0.095$\n",
    "\n",
    "    - $E[X] = E[Y_1] + E[Y_2] + ... = 0.905 * 1000 = 905$"
   ]
  },
  {
   "attachments": {},
   "cell_type": "markdown",
   "metadata": {},
   "source": [
    "- With 1 phone number\n",
    "    - Let $X$ be the number of locations with exactly 1 phone number \n",
    "    - Let $Y_i$ be an indicator variable that is 1 when there is exactly 1 phone number in position $i$, and 0 otherwise\n",
    "\n",
    "    - For a given position $i$, the probability of getting exactly 1 phone number is:\n",
    "        $Pr(Y_i = 1) = E[Y_i] = \\binom{100}{1} \\cdot \\frac{1}{1000} \\cdot \\frac{999^{99}}{1000^{99}} = 0.0906$\n",
    "    \n",
    "    - E[X] = E[Y_1] + E[Y_2] + ... = 0.0906 * 1000 = 90.6"
   ]
  },
  {
   "attachments": {},
   "cell_type": "markdown",
   "metadata": {},
   "source": [
    "- With more than 1 phone number\n",
    "    - Let X be the number of locations with more than 1 phone number\n",
    "    - Let $Y_i$ be an indicator variable hat is 1 where that is more than 1 phone number in position $i$ and 0 otherwise\n",
    "    - For a given position $i$, the probability of getting more than 1 phone number is the complement of the probabilities of no phone numbers + probaiblity of 1 phone number, both of which we computed above\n",
    "    - $Pr(Y_i > 1) = 1 - P(Y_1 = 1) - P(Y_1 = 0) = E[Y_i] = 1 - 0.905 - 0.0906 = 0.0044\n",
    "- E[X] = E[Y_1] + E[Y_2] + ... = 0.0044 * 1000 = 4.4"
   ]
  },
  {
   "cell_type": "code",
   "execution_count": 78,
   "metadata": {},
   "outputs": [
    {
     "name": "stdout",
     "output_type": "stream",
     "text": [
      "904.728\n",
      "90.7\n",
      "4.572\n"
     ]
    }
   ],
   "source": [
    "import numpy as np\n",
    "population=[x for x in range(1000)]\n",
    "locations_without_numbers = []\n",
    "locations_with_one_number = []\n",
    "locations_with_gt_one_numbers = []\n",
    "\n",
    "for _ in range(1_000):\n",
    "    sample=np.random.choice(population, 100, replace=True)\n",
    "    locations_without_numbers.append(len([x for x in population if x not in sample]))\n",
    "\n",
    "    positions, counts = np.unique(sample, return_counts=True)\n",
    "    \n",
    "    locations_with_one_number.append(len([x for x,y in zip(positions, counts) if y == 1]))\n",
    "    locations_with_gt_one_numbers.append(len([x for x,y in zip(positions, counts) if y > 1]))\n",
    "\n",
    "    \n",
    "\n",
    "print(np.mean(locations_without_numbers))\n",
    "print(np.mean(locations_with_one_number))\n",
    "print(np.mean(locations_with_gt_one_numbers))"
   ]
  },
  {
   "attachments": {},
   "cell_type": "markdown",
   "metadata": {},
   "source": [
    "### 5. Calculate E[X(X-1)] for a Hypergeometric(n,N1, N0) random variable X using linearity (Hint: Follow Example 26.4.)"
   ]
  },
  {
   "attachments": {},
   "cell_type": "markdown",
   "metadata": {},
   "source": [
    "- X(X-1) is akin to drawing two 1s consecutively\n",
    "- Let $Y_{ij}$ represent an indicator variable that is 1 when draws $i$ and $j$ are both 1\n",
    "- As such, $X(X-1) = \\sum_{i,j} Y_{ij} = \\sum_{i,j} E[Y_{ij}] = \\frac{N_1}{N_1+N_0} \\cdot \\frac{N_1-1}{N_1+N_0-1} * n(n-1)$"
   ]
  },
  {
   "cell_type": "code",
   "execution_count": 103,
   "metadata": {},
   "outputs": [
    {
     "name": "stdout",
     "output_type": "stream",
     "text": [
      "60.6372\n"
     ]
    },
    {
     "data": {
      "text/plain": [
       "60.80000000000001"
      ]
     },
     "execution_count": 103,
     "metadata": {},
     "output_type": "execute_result"
    }
   ],
   "source": [
    "import numpy as np\n",
    "import scipy\n",
    "\n",
    "'''\n",
    "For each sample, take 20 samples from a box of 100 items, 40 of which are N1, and counts the number of 1s.\n",
    "Do this `size` times\n",
    "'''\n",
    "X = scipy.stats.binom.rvs(20, 0.4, size=10_000) \n",
    "def compute_e_x_xminus1(X):\n",
    "    gx = X * (X-1)\n",
    "    return np.mean(gx)\n",
    "print(compute_e_x_xminus1(X))\n",
    "20 * 19 * 0.4**2"
   ]
  },
  {
   "cell_type": "code",
   "execution_count": 132,
   "metadata": {},
   "outputs": [
    {
     "name": "stdout",
     "output_type": "stream",
     "text": [
      "59.7222\n"
     ]
    },
    {
     "data": {
      "text/plain": [
       "59.87878787878788"
      ]
     },
     "execution_count": 132,
     "metadata": {},
     "output_type": "execute_result"
    }
   ],
   "source": [
    "X = scipy.stats.hypergeom.rvs(100, 20, 40, size=10_000)\n",
    "print(compute_e_x_xminus1(X))\n",
    "20 * 19 * (40/100 * 39/99)"
   ]
  }
 ],
 "metadata": {
  "kernelspec": {
   "display_name": "leetcode",
   "language": "python",
   "name": "python3"
  },
  "language_info": {
   "codemirror_mode": {
    "name": "ipython",
    "version": 3
   },
   "file_extension": ".py",
   "mimetype": "text/x-python",
   "name": "python",
   "nbconvert_exporter": "python",
   "pygments_lexer": "ipython3",
   "version": "3.10.4"
  },
  "orig_nbformat": 4
 },
 "nbformat": 4,
 "nbformat_minor": 2
}
