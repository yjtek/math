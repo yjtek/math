{
 "cells": [
  {
   "attachments": {},
   "cell_type": "markdown",
   "metadata": {},
   "source": [
    "## Theory"
   ]
  },
  {
   "attachments": {},
   "cell_type": "markdown",
   "metadata": {},
   "source": [
    "- We show the properties of covariance and their associated proof\n",
    "\n",
    "- Theorem 30.1: Let X, Y, Z be random variables, and let c be a constant. Then:\n",
    "    - **Property 1**: $Var[X] = Cov[X,X]$ also Theorem 29.1\n",
    "        - $\\begin{align}\n",
    "            Cov[X,X] &= E[(X-E[X])(X-E[X])] \\\\\n",
    "            &= E[(X-E[X])^2] \\\\\n",
    "            &= Var[X]\n",
    "            \\end{align}$\n",
    "    - **Property 2**: $Cov[cX, Y] = c \\cdot Cov[X,Y] = Cov[X, cY]$\n",
    "        - $\\begin{align}\n",
    "            Cov[cX,Y] &= E[(cX-E[cX])(Y-E[Y])] \\\\\n",
    "            &= E[cXY - cXE[Y] - E[cX]Y + E[cX]E[Y]] \\\\\n",
    "            &= cE[XY] - cE[X]E[Y] - cE[X]E[Y] + cE[X]E[Y]] \\\\\n",
    "            &= cE[XY] - cE[X]E[Y] \\\\\n",
    "            &= c \\cdot (E[XY] - E[X]E[Y]) \\\\\n",
    "            &= c \\cdot Cov[X,Y] \\\\\n",
    "            \\end{align}$\n",
    "    - **Property 3**: $Cov[X+Y, Z] = Cov[X,Z] + Cov[Y,Z]$\n",
    "        - $\\begin{align}\n",
    "            Cov[X+Y,Z] &= E[(X+Y - E[X+Y])(Z-E[Z])] \\\\\n",
    "            &= E[(X+Y)Z - (X+Y)E[Z] - ZE[X+Y] + E[X+Y]E[Z]] \\\\\n",
    "            &= E[XZ + YZ - XE[Z] - YE[Z] - ZE[X] - ZE[Y] + E[X]E[Z] + E[Y]E[Z]] \\\\\n",
    "            &= E[XZ] + E[YZ] - E[X]E[Z] - E[Y]E[Z] - E[Z]E[X] - E[Z]E[Y] + E[X]E[Z] + E[Y]E[Z] \\\\\n",
    "            &= E[XZ] + E[YZ] - E[X]E[Z] - E[Y]E[Z] \\\\\n",
    "            &= (E[XZ] - E[X]E[Z]) + (E[YZ] - E[Y]E[Z]) \\\\\n",
    "            &= Cov[X,Z] + Cov[Y,Z]\n",
    "            \\end{align}$\n",
    "\n",
    "    - **Property 4**: $Cov[X,Y] = Cov[Y,X]$\n",
    "        - $\\begin{align}\n",
    "            Cov[X,Y] &= E[(X - E[X])(Y-E[Y])] \\\\\n",
    "            &= E[(Y - E[Y])(X-E[X])] \\\\\n",
    "            &= Cov[Y,X]\n",
    "            \\end{align}$\n",
    "\n",
    "    - **Property 5**: $Cov[X,c] = 0$\n",
    "        - $\\begin{align}\n",
    "            Cov[X,c] &= E[(X - E[X])(c-E[c])] \\\\\n",
    "            &= E[(X - E[X])(c-c)] \\\\\n",
    "            &= E[(X - E[X])0] \\\\\n",
    "            &= E[0] \\\\\n",
    "            &= 0\n",
    "            \\end{align}$"
   ]
  },
  {
   "attachments": {},
   "cell_type": "markdown",
   "metadata": {},
   "source": [
    "### Example 30.1"
   ]
  },
  {
   "attachments": {},
   "cell_type": "markdown",
   "metadata": {},
   "source": [
    "- How does the variance change, when we multiply the random variable by a constant a?\n",
    "\n",
    "- $\\begin{align}\n",
    "    Var[aX] &= Cov[aX, aX] \\\\\n",
    "    &= E[(aX - E[aX])(aX - E[aX])] \\\\\n",
    "    &= E[a^2X^2 - aXE[aX] - aXE[aX] + E[aX]E[aX]] \\\\\n",
    "    &= E[a^2X^2] - E[aX]E[aX] - E[aX]E[aX] + E[aX]E[aX] \\\\\n",
    "    &= a^2E[X^2] - a^2E[X]^2 \\\\\n",
    "    &= a^2 (E[X^2] - E[X]^2) \\\\\n",
    "    &= a^2 Var(X) \\\\\n",
    "    \\end{align}$"
   ]
  },
  {
   "attachments": {},
   "cell_type": "markdown",
   "metadata": {},
   "source": [
    "### Example 30.2"
   ]
  },
  {
   "attachments": {},
   "cell_type": "markdown",
   "metadata": {},
   "source": [
    "- Let X,Y,Z,W be random variables. What is $Cov[X+Y, Z+W]$?\n",
    "\n",
    "$\\begin{align}\n",
    "    Cov[X+Y, Z+W] &= E[((X+Y) - E[X+Y])((Z+W) - E[Z+W])] \\\\\n",
    "    &= E[(X+Y)(Z+W) - (X+Y)E[Z+W] - \\\\ \n",
    "    & (Z+W)E[X+Y] + E[X+Y]E[Z+W]] \\\\\n",
    "    &= E[(XZ+XW+YZ+YW) - XE[Z+W] - YE[Z+W] - \\\\\n",
    "    & ZE[X+Y] - WE[X+Y] + (E[X]+E[Y])(E[Z]+E[W])] \\\\\n",
    "    &= E[XZ + XW + YZ + YW - XE[Z+W] - YE[Z+W] - ZE[X+Y] - \\\\\n",
    "    & WE[X+Y] + E[X]E[Z] + E[X]E[W] + E[Y]E[Z] + E[Y]E[W]] \\\\\n",
    "    &= E[XZ + XW + YZ + YW - XE[Z] - XE[W] - YE[Z] - YE[W] - ZE[X] - ZE[Y] - \\\\\n",
    "    & WE[X] - WE[Y] + E[X]E[Z] + E[X]E[W] + E[Y]E[Z] + E[Y]E[W]] \\\\\n",
    "    &= E[XZ] + E[XW] + E[YZ] + E[YW] - E[X]E[Z] - E[X]E[W] - E[Y]E[Z] - \\\\ \n",
    "    & E[Y]E[W] - E[Z]E[X] - E[Z]E[Y] - E[W]E[X] - E[W]E[Y] + E[X]E[Z] + \\\\ \n",
    "    & E[X]E[W] + E[Y]E[Z] + E[Y]E[W] \\\\\n",
    "    &= E[XZ] + E[XW] + E[YZ] + E[YW] - E[Z]E[X] - E[Z]E[Y] - E[W]E[X] - E[W]E[Y] \\\\\n",
    "    &= (E[XZ] - E[X]E[Z]) + (E[XW] - E[X]E[W]) + (E[YZ] - E[Y]E[Z]) + (E[YW] - E[Y]E[W]) \\\\\n",
    "    &= Cov[X,Z] + Cov[X,W] + Cov[Y,Z] + Cov[W,Y] \\\\\n",
    "\\end{align}$"
   ]
  },
  {
   "attachments": {},
   "cell_type": "markdown",
   "metadata": {},
   "source": [
    "### Example 30.3 (Covariance between the Sum and the Difference)"
   ]
  },
  {
   "attachments": {},
   "cell_type": "markdown",
   "metadata": {},
   "source": [
    "- Two fair six-sided dice are rolled. Let X be the number on the first die. Let Y be the number on the second die. If S = X+Y and D = X-Y, what is Cov[S,D]?\n",
    "\n",
    "$$\\begin{align}\n",
    "    Cov[S,D] &= Cov[X+Y, X-Y] \\\\\n",
    "    &= E[((X+Y) - E[X+Y])((X-Y) - E[X-Y])] \\\\\n",
    "    &= E[(X+Y)(X-Y) - (X+Y)E[X-Y] - (X-Y)E[X+Y] + E[X+Y]E[X-Y]] \\\\\n",
    "    &= E[X^2-XY+XY-Y^2 - (X+Y)(E[X] - E[Y]) - (X-Y)(E[X] + E[Y]) + (E[X] + E[Y])(E[X] - E[Y])] \\\\\n",
    "    &= E[X^2-Y^2 - XE[X] - YE[X] + XE[Y] + YE[Y] - XE[X] - YE[X] + XE[Y] + YE[Y] + E[X]^2 - E[Y]^2] \\\\\n",
    "    &= E[X^2] - E[Y^2] - E[X]^2 + E[Y]^2 \\\\\n",
    "    &= (E[X^2] - E[X]^2) - (E[Y^2] - E[Y]^2) \\\\\n",
    "    &= Var[X] - Var[Y] \\\\\n",
    "    &= 0\n",
    "\\end{align}$$\n",
    "\n",
    "- This is a good example of a situation where covariance is 0, but the random variables are not independent\n",
    "    - For example, if I know that X+Y is 12, then X-Y must be 0, because the only way to get 12 is to roll (6,6)\n",
    "    - Hence, they are not independent because knowing X+Y gives information about X-Y"
   ]
  },
  {
   "attachments": {},
   "cell_type": "markdown",
   "metadata": {},
   "source": [
    "### 30.4 (Variance of the Binomial Distribution)"
   ]
  },
  {
   "attachments": {},
   "cell_type": "markdown",
   "metadata": {},
   "source": [
    "- In Example 26.3, we showed that $X\\sim\\text{Binomial}(n,p)$ can be broken down into $X = Y_1 + Y_2 + ... Y_n$, where $Y_i$ is the i-th draw from a box\n",
    "\n",
    "- Since draws are made with replacement, the $Y_i$ s are independent, and each $Y_i$ is 1 with probability $\\frac{N_1}{N}$\n",
    "\n",
    "- We know that $Var[X] = E[X^2] - E[X]^2 = (0^2 \\cdot \\frac{N_0}{N}) + 1^2 \\cdot \\frac{N_1}{N} - \\frac{N_1^2}{N^2} = \\frac{N_1}{N} \\frac{N_0}{N}$\n",
    "\n",
    "$\\begin{align}\n",
    "    Var[X] &= Cov[X,X] \\\\\n",
    "    &= Cov[Y_1 + Y_2 + ... Y_n, Y_1 + Y_2 + ... Y_n] \\\\\n",
    "    &= Cov[Y_1,Y_1] + Cov[Y_1, Y_2] + ... + Cov[Y_2, Y_1] + \\\\ \n",
    "    & Cov[Y_2, Y_2] + ... + Cov[Y_{n-1}, Y_n] + Cov[Y_n, Y_n] \\\\\n",
    "    &= Cov[Y_1,Y_1] + Cov[Y_2, Y_2] + ... + Cov[Y_n, Y_n] & \\text{because Ys are i.i.d., so } Cov[Y_i, Y_j]=0, \\forall i \\neq j \\\\\n",
    "    &= n \\cdot Var[Y_i] \\\\\n",
    "    &= n \\frac{N_1}{N} \\frac{N_0}{N} \\\\\n",
    "\\end{align}$\n"
   ]
  },
  {
   "attachments": {},
   "cell_type": "markdown",
   "metadata": {},
   "source": [
    "### Example 30.5 (Variance of the Hypergeometric Distribution)"
   ]
  },
  {
   "attachments": {},
   "cell_type": "markdown",
   "metadata": {},
   "source": [
    "- In Example 26.3, we saw that $X \\sim \\text{Hypergeometric}(n, N1, N0)$ can be broken down in exactly the same way as a binomial random variable $X = Y_1 + Y_2 + ... + Y_n$, except the $Y_i$ s are not independent\n",
    "\n",
    "- From example 30.4, we found that $Var[X] = Cov[X,X] = \\sum_{i=1}^{n} \\sum_{j=1}^{n} Cov[Y_{ij}]$\n",
    "    - In the case of a binomial, since draws are made with replacement, $Cov[Y_{ij}] = 0, \\forall i \\neq j$\n",
    "    - In the hypergeometric case, this is no longer true\n",
    "\n",
    "- In Section 29 Q2, we found that $Cov[Y_i, Y_j] = -\\frac{1}{N-1} \\frac{N_1}{N} \\frac{N_0}{N}, \\forall i \\neq j$\n",
    "    - There are $n^2 - n$ such terms (n^2 covariance terms - n terms where i=j)\n",
    "\n",
    "- Similarly, we know that $Cov[Y_i, Y_j] = \\frac{N_1}{N} \\frac{N_0}{N}, \\forall i=j$\n",
    "    - There are $n$ such terms\n",
    "\n",
    "$\\begin{align}\n",
    "    Var[X] &= Cov[X,X] \\\\\n",
    "    &= \\sum_{i=1}^{n} \\sum_{j=1}^{n} Cov[Y_{ij, i \\neq j}] + \\sum_{i=1}^{n} \\sum_{j=1}^{n} Cov[Y_{ij, i = j}]\\\\\n",
    "    &= (n^2 - n) \\cdot -\\frac{1}{N-1} \\frac{N_1}{N} \\frac{N_0}{N} + n \\cdot \\frac{N_1}{N} \\frac{N_0}{N} \\\\\n",
    "    &= -\\frac{n^2}{N-1} \\frac{N_1}{N} \\frac{N_0}{N} + \\frac{n}{N-1} \\frac{N_1}{N} \\frac{N_0}{N} + n \\cdot \\frac{N_1}{N} \\frac{N_0}{N} \\\\\n",
    "    &= n \\frac{N_1}{N} \\frac{N_0}{N} (\\frac{1}{N-1} - \\frac{n}{N-1} + 1) \\\\\n",
    "    &= n \\frac{N_1}{N} \\frac{N_0}{N} (\\frac{1}{N-1} - \\frac{n}{N-1} + \\frac{N-1}{N-1}) \\\\\n",
    "    &= n \\frac{N_1}{N} \\frac{N_0}{N} (\\frac{1-n+N-1}{N-1}) \\\\\n",
    "    &= n \\frac{N_1}{N} \\frac{N_0}{N} (1 - \\frac{n-1}{N-1}) \\\\\n",
    "\\end{align}$\n",
    "\n",
    "- Compare the variances where X is binomial vs hypergeometric:\n",
    "    - Binomial: $n \\frac{N_1}{N} \\frac{N_0}{N}$\n",
    "    - Hypergeometric: $n \\frac{N_1}{N} \\frac{N_0}{N} (1 - \\frac{n-1}{N-1})$\n",
    "    - The difference here is the fraction $1 - \\frac{n-1}{N-1}$, which is always between 0 and 1 (you cannot draw n items from a box of N items without replacement if n > N)\n",
    "        - So the variance of drawing without replacement is always smaller than drawing with replacement\n",
    "        - Because if you don't replace the 0s when you draw them out, you are always subsequently more likely to draw a 1 compared to if you do\n",
    "\n",
    "- Note that $1 - \\frac{n-1}{N-1}$ is also know as the **finite population correction**\n",
    "    - As N tends to infinity, this correction tends to 1\n",
    "    - i.e. If I have an infinitely large population, it becomes negligible whether or not I replace the values that I draw"
   ]
  },
  {
   "attachments": {},
   "cell_type": "markdown",
   "metadata": {},
   "source": []
  }
 ],
 "metadata": {
  "language_info": {
   "name": "python"
  },
  "orig_nbformat": 4
 },
 "nbformat": 4,
 "nbformat_minor": 2
}
