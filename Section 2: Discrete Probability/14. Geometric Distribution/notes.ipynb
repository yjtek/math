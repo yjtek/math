{
 "cells": [
  {
   "attachments": {},
   "cell_type": "markdown",
   "metadata": {},
   "source": [
    "## Motivating Example"
   ]
  },
  {
   "attachments": {},
   "cell_type": "markdown",
   "metadata": {},
   "source": [
    "In the casino game craps, after the “point” has been set, two dice are rolled repeatedly until either the “point” or a 7 comes up, at which time the round ends. Suppose the point is 4. What is the probability that it takes more than 6 rolls for the round to end?\n",
    "\n",
    "We can calculate the probability that the round ends on a given roll by directly counting the 36 possible outcomes of two dice: $P(\\text{roll a 4 or a 7})=\\frac{9}{36}$\n",
    " \n",
    "But how do we use this to determine the probability that it takes more than 6 rolls for the round to end?"
   ]
  },
  {
   "attachments": {},
   "cell_type": "markdown",
   "metadata": {},
   "source": [
    "## Theory"
   ]
  },
  {
   "attachments": {},
   "cell_type": "markdown",
   "metadata": {},
   "source": [
    "- This logic is actually exactly the same as the binomial one. We are drawing from a box with replacement, **until** we get a 1\n",
    "\n",
    "- Theorem 14.1: Unsurprisingly, the PMF for the geometric distribution look almost identical to the binomial\n",
    "    - $$\n",
    "        f(x) = \\frac{N_0^{x-1} N_1}{N^x}\n",
    "        $$\n",
    "    - main difference: there is no permutation term\n",
    "    - This is because the sequence ends the moment you get a 1, so the 1 MUST be at the end of the sequence"
   ]
  },
  {
   "attachments": {},
   "cell_type": "markdown",
   "metadata": {},
   "source": [
    "### Proving the theorem"
   ]
  },
  {
   "attachments": {},
   "cell_type": "markdown",
   "metadata": {},
   "source": [
    "- Total ways to draw make $x$ draws from $N$ with replacement: $N^x$\n",
    "- The first $x-1$ draws must be 0s, else you will not get to make the $x$-th draw\n",
    "- The last draw must be 1 by definition"
   ]
  },
  {
   "attachments": {},
   "cell_type": "markdown",
   "metadata": {},
   "source": [
    "### Visualising distribution"
   ]
  },
  {
   "attachments": {},
   "cell_type": "markdown",
   "metadata": {},
   "source": [
    "- What happens when $\\frac{N_1}{N}$ increases?\n",
    "    - The higher the proportion of 1s, the more likely the sequence terminates early, so higher density in the lower values of X"
   ]
  },
  {
   "cell_type": "code",
   "execution_count": 32,
   "metadata": {},
   "outputs": [
    {
     "data": {
      "text/plain": [
       "array([0.        , 0.2       , 0.16      , 0.128     , 0.1024    ,\n",
       "       0.08192   , 0.065536  , 0.0524288 , 0.04194304, 0.03355443])"
      ]
     },
     "metadata": {},
     "output_type": "display_data"
    },
    {
     "data": {
      "text/plain": [
       "array([0.        , 0.5       , 0.25      , 0.125     , 0.0625    ,\n",
       "       0.03125   , 0.015625  , 0.0078125 , 0.00390625, 0.00195312])"
      ]
     },
     "metadata": {},
     "output_type": "display_data"
    },
    {
     "data": {
      "text/plain": [
       "array([0.000e+00, 8.000e-01, 1.600e-01, 3.200e-02, 6.400e-03, 1.280e-03,\n",
       "       2.560e-04, 5.120e-05, 1.024e-05, 2.048e-06])"
      ]
     },
     "metadata": {},
     "output_type": "display_data"
    }
   ],
   "source": [
    "import numpy as np\n",
    "import scipy\n",
    "\n",
    "display(scipy.stats.geom.pmf(range(10), 0.2))\n",
    "display(scipy.stats.geom.pmf(range(10), 0.5))\n",
    "display(scipy.stats.geom.pmf(range(10), 0.8))"
   ]
  },
  {
   "attachments": {},
   "cell_type": "markdown",
   "metadata": {},
   "source": [
    "## Solving the example"
   ]
  },
  {
   "attachments": {},
   "cell_type": "markdown",
   "metadata": {},
   "source": [
    "- When rolling 2 dice, there are 36 possible outcomes\n",
    "- There is a $\\frac{6}{36}$ chance of a 7, and a $\\frac{3}{36}$ chance of a 4, so each roll have a $\\frac{9}{36}$ chance of ending the sequence\n",
    "- We want to know the probability that it takes more than 6 rolls, or $F(6)$\n",
    "- To find this, we take $1 - F(5) = 1 - f(5) - f(4) - ... f(0)$\n",
    "- Simulation and calculation below"
   ]
  },
  {
   "cell_type": "code",
   "execution_count": 87,
   "metadata": {},
   "outputs": [
    {
     "name": "stdout",
     "output_type": "stream",
     "text": [
      "0.177978515625\n"
     ]
    },
    {
     "data": {
      "text/plain": [
       "0.17955212479395327"
      ]
     },
     "execution_count": 87,
     "metadata": {},
     "output_type": "execute_result"
    }
   ],
   "source": [
    "import numpy as np\n",
    "import scipy\n",
    "\n",
    "print(1 - np.sum(scipy.stats.geom.pmf(range(7), 9/36)))\n",
    "\n",
    "population=range(1,7)\n",
    "samples=np.array([int(np.sum(np.random.choice(population, size=2, replace=True)) in [4,7]) for _ in range(100_000)])\n",
    "split_index=np.where(samples==True)[0]\n",
    "split_samples=np.split(samples, split_index+1)\n",
    "len_split_samples = [len(x) > 6 for x in split_samples]\n",
    "np.mean(len_split_samples)"
   ]
  }
 ],
 "metadata": {
  "kernelspec": {
   "display_name": "leetcode",
   "language": "python",
   "name": "python3"
  },
  "language_info": {
   "codemirror_mode": {
    "name": "ipython",
    "version": 3
   },
   "file_extension": ".py",
   "mimetype": "text/x-python",
   "name": "python",
   "nbconvert_exporter": "python",
   "pygments_lexer": "ipython3",
   "version": "3.10.4"
  },
  "orig_nbformat": 4
 },
 "nbformat": 4,
 "nbformat_minor": 2
}
