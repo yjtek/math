{
 "cells": [
  {
   "attachments": {},
   "cell_type": "markdown",
   "metadata": {},
   "source": [
    "## Motivating Example"
   ]
  },
  {
   "attachments": {},
   "cell_type": "markdown",
   "metadata": {},
   "source": [
    "In 1693, Samuel Pepys wrote a letter to Isaac Newton inquiring about a wager that Pepys was planning to make. Pepys wanted to know which of the following events had the highest probability of occurring.\n",
    "\n",
    "A. 6 dice are thrown and at least 1 is a 6\n",
    "\n",
    "B. 12 dice are thrown and at least 2 are 6s\n",
    "\n",
    "C. 18 dice are thrown and at least 3 are 6s\n",
    "\n",
    "Pepys thought that C had the highest probability, but Newton disagreed.\n",
    "\n",
    "The probability of A is straightforward to calculate. We use the Complement Rule (Theorem 5.2), much like we did in the Chevalier de Méré example from Lesson 5.\n",
    "\n",
    "$$\\begin{align}\n",
    "    P(\\text{at least one `6` in six rolls}) &= 1 - P(\\text{no `6` in six rolls}) \\\\\n",
    "    &= 1 - \\frac{5^6}{6^6} \\\\\n",
    "    &= 0.665\n",
    "\\end{align}$$\n",
    "\n",
    "What about the other 2 events?\n",
    "\n"
   ]
  },
  {
   "attachments": {},
   "cell_type": "markdown",
   "metadata": {},
   "source": [
    "## Theory"
   ]
  },
  {
   "attachments": {},
   "cell_type": "markdown",
   "metadata": {},
   "source": [
    "- We covered hypergeometric distribution\n",
    "    - This happens when draws are made from a box **without replacement**\n",
    "\n",
    "- Here we cover the binomial distribution\n",
    "    - This happens when draws are made from a box **with replacement**\n",
    "\n",
    "- Theorem 13.1: If a random variable can be described as the number of 1s in $n$ random draws, with replacement, from the box of size $N$ with $N_0$ 0s and $N_1$ 1s, then its PMF is given by \n",
    "    - $$\\begin{align}\n",
    "        f(x) &= \\frac{\\binom{n}{x} N_1^{x} N_0^{n-x}}{N^n} \\\\\n",
    "        &= \\binom{n}{x} p^{x} (1-p)^{n-x}\n",
    "        \\end{align}$$\n",
    "    - where $p = \\frac{N_1}{N}$\n",
    "    - We say that the random variable follows distribution Binomial(n, N1, N0)\n",
    "\n",
    "- Proof of theorem 13.1\n",
    "    - Imagine you have a box of $N$ items, with $N_1$ 1s and $N_0$ 0s\n",
    "    - Let's count the number of ways to get $x$ 1s in $n$ draws\n",
    "        - i.e. When drawing $n$ times from the box with replacement, I want to get $x$ 1s, and $n-x$ 0s\n",
    "    - Each 1 is drawn with probability $\\frac{N_1}{N}$, and 0 is drawn with probability $\\frac{N_0}{N}$\n",
    "    - So to have $x$ 1s, probablity is $\\frac{N_1^x}{N^x}$. Similarly, $n-x$ 0s has probability $\\frac{N_0^{n-x}}{N^{n-x}}$\n",
    "    - Finally, count the number of ways to arrange the 1s and 0s you just drew\n",
    "        - Think of this as choosing positions for your $x$ 1s out of $n$ spaces\n",
    "        - So $\\binom{n}{x}$\n",
    "    - Taking the product gives us the binomial formula in 13.1"
   ]
  },
  {
   "attachments": {},
   "cell_type": "markdown",
   "metadata": {},
   "source": [
    "### Visualising distribution"
   ]
  },
  {
   "attachments": {},
   "cell_type": "markdown",
   "metadata": {},
   "source": [
    "- Holding the count of draws constant, what happens when we increase the number of 1s in the box?\n",
    "    - More weight at the tails"
   ]
  },
  {
   "cell_type": "code",
   "execution_count": 14,
   "metadata": {},
   "outputs": [
    {
     "data": {
      "text/plain": [
       "array([1.07374182e-01, 2.68435456e-01, 3.01989888e-01, 2.01326592e-01,\n",
       "       8.80803840e-02, 2.64241152e-02, 5.50502400e-03, 7.86432000e-04,\n",
       "       7.37280000e-05, 4.09600000e-06])"
      ]
     },
     "metadata": {},
     "output_type": "display_data"
    },
    {
     "data": {
      "text/plain": [
       "array([0.00097656, 0.00976563, 0.04394531, 0.1171875 , 0.20507812,\n",
       "       0.24609375, 0.20507812, 0.1171875 , 0.04394531, 0.00976563])"
      ]
     },
     "metadata": {},
     "output_type": "display_data"
    },
    {
     "data": {
      "text/plain": [
       "array([1.02400000e-07, 4.09600000e-06, 7.37280000e-05, 7.86432000e-04,\n",
       "       5.50502400e-03, 2.64241152e-02, 8.80803840e-02, 2.01326592e-01,\n",
       "       3.01989888e-01, 2.68435456e-01])"
      ]
     },
     "metadata": {},
     "output_type": "display_data"
    }
   ],
   "source": [
    "import numpy as np\n",
    "import scipy\n",
    "\n",
    "display(scipy.stats.binom.pmf(range(10), 10, 0.2))\n",
    "display(scipy.stats.binom.pmf(range(10), 10, 0.5))\n",
    "display(scipy.stats.binom.pmf(range(10), 10, 0.8))"
   ]
  },
  {
   "attachments": {},
   "cell_type": "markdown",
   "metadata": {},
   "source": [
    "- Does it matter if you increase the total number of units in the box while keeping the proportion constant?\n",
    "    - No. Clearly, from the scipy implementation, you don't even need to specify the total counts, only the proportion of 1s\n",
    "    - Intuitively, you are always replacing after sampling, so it doesn't matter if you have 1 out of 2, or 100 out of 200"
   ]
  },
  {
   "attachments": {},
   "cell_type": "markdown",
   "metadata": {},
   "source": [
    "### Solving motivating question"
   ]
  },
  {
   "attachments": {},
   "cell_type": "markdown",
   "metadata": {},
   "source": [
    "- Solving 18 dice with 3 6s\n",
    "    - $$\\begin{align}\n",
    "        f(3) &= \\binom{18}{3} \\frac{1^{3}}{6^{3}} \\frac{5^{15}}{6^{15}} \\\\\n",
    "        &\\approx 0.245\n",
    "        \\end{align}$$"
   ]
  },
  {
   "cell_type": "code",
   "execution_count": 16,
   "metadata": {},
   "outputs": [
    {
     "data": {
      "text/plain": [
       "0.24519844796019247"
      ]
     },
     "execution_count": 16,
     "metadata": {},
     "output_type": "execute_result"
    }
   ],
   "source": [
    "import numpy as np\n",
    "import scipy\n",
    "scipy.stats.binom.pmf(3, 18, 1/6)"
   ]
  },
  {
   "cell_type": "code",
   "execution_count": null,
   "metadata": {},
   "outputs": [],
   "source": []
  }
 ],
 "metadata": {
  "kernelspec": {
   "display_name": "leetcode",
   "language": "python",
   "name": "python3"
  },
  "language_info": {
   "codemirror_mode": {
    "name": "ipython",
    "version": 3
   },
   "file_extension": ".py",
   "mimetype": "text/x-python",
   "name": "python",
   "nbconvert_exporter": "python",
   "pygments_lexer": "ipython3",
   "version": "3.10.4"
  },
  "orig_nbformat": 4
 },
 "nbformat": 4,
 "nbformat_minor": 2
}
