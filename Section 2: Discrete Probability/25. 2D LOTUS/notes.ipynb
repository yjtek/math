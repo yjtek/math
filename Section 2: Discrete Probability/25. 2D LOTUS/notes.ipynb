{
 "cells": [
  {
   "attachments": {},
   "cell_type": "markdown",
   "metadata": {},
   "source": [
    "## Theory"
   ]
  },
  {
   "attachments": {},
   "cell_type": "markdown",
   "metadata": {},
   "source": [
    "- In the previous section, we covered how we can make use of LOTUS to compute the expectation of some random variable, particularly when the marginal distribution is not available\n",
    "    - e.g. We have a random variable X. The expectation of X is $E[X] = \\sum_x x \\cdot f_X(x)$\n",
    "    - Let's suppose $f_X(x)$ is not known. However, we know that $X = g(Y)$, where $g()$ is an arbitrary function\n",
    "    - By LOTUS, $E[X] = \\sum_x x \\cdot f_X(x) = \\sum_x g(Y) \\cdot f_Y(x) = E[g(Y)]$"
   ]
  },
  {
   "attachments": {},
   "cell_type": "markdown",
   "metadata": {},
   "source": [
    "- Is there a more general version of LOTUS that can generalise to multiple dimensions? \n",
    "    - That is, what if we want to find E[Z], but we don't know $f_Z(z)$?\n",
    "    - If we know $Z=X+Y$, then we can apply 2D LOTUS\n",
    "    - $E[Z] = \\sum_{z} z f_Z(z) = E[X+Y] = \\sum_{x,y} (x+y) \\cdot f(x,y)$"
   ]
  },
  {
   "attachments": {},
   "cell_type": "markdown",
   "metadata": {},
   "source": [
    "- Theorem 25.1: Let X and Y be random variables with joint PMF f(x,y). Let g be some function. Then:\n",
    "    - $E[g(X,Y)] = \\sum_x \\sum_y g(x,y) \\cdot f(x,y)$\n",
    "    - g(.) is some function of x and y\n",
    "    - f(x,y) is the joint PMF of x and y"
   ]
  },
  {
   "attachments": {},
   "cell_type": "markdown",
   "metadata": {},
   "source": [
    "### Example 25.1"
   ]
  },
  {
   "attachments": {},
   "cell_type": "markdown",
   "metadata": {},
   "source": [
    "In lesson 18, we looked at the following joint PMF of Xavier (X) and Yolanda (Y)\n",
    "\n",
    "$$\\begin{array}{rr|cccc}\n",
    "& 5 & 0 & 0 & 0 & .0238 \\\\\n",
    "& 4 & 0 & 0 & .0795 & .0530 \\\\\n",
    "y & 3 & 0 & .0883 & .1766 & .0294 \\\\\n",
    "& 2 & .0327 & .1963 & .0981 & 0 \\\\\n",
    "& 1 & .0727 & .1090 & 0 & 0 \\\\\n",
    "& 0 & 0.0404 & 0 & 0 & 0 \\\\\n",
    "\\hline\n",
    "& & 0 & 1 & 2 & 3 \\\\\n",
    "& & & & x & &\n",
    "\n",
    "\n",
    "\\end{array}$$"
   ]
  },
  {
   "attachments": {},
   "cell_type": "markdown",
   "metadata": {},
   "source": [
    "- What if we want to calculate $E[Y-X]$ using our new 2D LOTUS approach?\n",
    "    - $\\begin{align}\n",
    "        E[g(x,y)] &= \\sum_{x,y} g(x,y) f(x,y) \\\\\n",
    "        &= \\sum_{x,y} g(x,y) f(x,y) \\\\\n",
    "        &= 0.0238 * (5-3) + 0.0530 * (4-3) + 0.0795 * (4-2) + ... & \\text{starting from top right} \\\\\n",
    "        &= 0.947\n",
    "        \\end{align}$\n",
    "\n",
    "- To verify that this is right, note that Y-X is simply a binomial distribution where n=2 (because it is simply the last 2 of 5 roulette spins)\n",
    "    - And the expectation of a binomial variable is $n \\cdot p = 2 \\cdot 18/38 = 0.947$, which matches what we got"
   ]
  },
  {
   "attachments": {},
   "cell_type": "markdown",
   "metadata": {},
   "source": [
    "- Let's try computing E[XY] in the same manner\n",
    "    - $E[XY] = \\sum_{x,y} x \\cdot y \\cdot f(x,y) = 0.0238 * 15 + 0.0530 * 12 + ... = 4.11$\n"
   ]
  },
  {
   "attachments": {},
   "cell_type": "markdown",
   "metadata": {},
   "source": []
  }
 ],
 "metadata": {
  "language_info": {
   "name": "python"
  },
  "orig_nbformat": 4
 },
 "nbformat": 4,
 "nbformat_minor": 2
}
