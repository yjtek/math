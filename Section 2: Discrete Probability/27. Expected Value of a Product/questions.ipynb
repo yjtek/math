{
 "cells": [
  {
   "attachments": {},
   "cell_type": "markdown",
   "metadata": {},
   "source": [
    "### 1. Consider the following three scenarios:\n",
    "\n",
    "### - A fair coin is tossed 3 times. X is the number of heads and Y is the number of tails.\n",
    "### - A fair coin is tossed 4 times. X is the number of heads in the first 3 tosses, Y is the number of heads in the last 3 tosses.\n",
    "### - A fair coin is tossed 6 times. X is the number of heads in the first 3 tosses, Y is the number of heads in the last 3 tosses.\n",
    "\n",
    "### In Lesson 25, you showed that E[X+Y] was the same for all three scenarios, but E[XY] was different. In light of Theorems 26.2 and 27.1, explain why this makes sense."
   ]
  },
  {
   "attachments": {},
   "cell_type": "markdown",
   "metadata": {},
   "source": [
    "- Makes sense because X and Y are not independent\n",
    "\n",
    "- In the first scenario\n",
    "    - Y = 3-X\n",
    "    - $E[X] = 3 * 0.5 = 1.5$\n",
    "    - $E[X^2] = \\binom{3}{0} * 0.5^3 * 0^2 + \\binom{3}{1} 0.5^3 * 1^2 + \\binom{3}{2} 0.5^3 * 2^2 + \\binom{3}{3} 0.5^3 * 3^2 = 3$\n",
    "    - $\\begin{align}\n",
    "        E[XY] &= E[3X - X^2] \\\\\n",
    "        &= E[3X - X^2] \\\\\n",
    "        &= 3 \\times 1.5 - 3\n",
    "        &= 1.5\n",
    "        \\end{align}$\n",
    "\n",
    "- In the second scenario\n",
    "    - Let A be outcome of first toss, B be outcome of middle 2 tosses, C be outcome of last toss\n",
    "    - X = A + B, Y = B + C\n",
    "    - $E[X] = E[A+B] = 0.5*1 + 2 * 0.5 = 1.5$\n",
    "    - $E[Y] = E[B+C] = 0.5*1 + 2 * 0.5 = 1.5$\n",
    "    - $E[A] = E[C] = 0.5*1$\n",
    "    - $E[B] = 0.5*2$\n",
    "    - $E[B^2] = 2 * 0.5 * 0.5 * 1^2 + 0.5^2 * 2^2 = 1.5$\n",
    "\n",
    "    - $\\begin{align}\n",
    "        E[XY] &= E[AB + AC + B^2 + BC] \\\\\n",
    "        &= E[A]E[B] + E[A]E[C] + E[B]E[C] + E[B^2]\n",
    "        &= 0.5 + 0.25 + 0.5 + 1.5 \\\\\n",
    "        &= 2.75\n",
    "        \\end{align}$\n",
    "\n",
    "- In the third scenario\n",
    "    - X and Y are independent, so E[XY] = E[X]E[Y] = 1.5*1.5 = 2.25"
   ]
  },
  {
   "cell_type": "code",
   "execution_count": 20,
   "metadata": {},
   "outputs": [
    {
     "data": {
      "text/plain": [
       "1.5084"
      ]
     },
     "execution_count": 20,
     "metadata": {},
     "output_type": "execute_result"
    }
   ],
   "source": [
    "import numpy as np\n",
    "population = ['H','T']\n",
    "\n",
    "## Scenario 1\n",
    "exy = []\n",
    "for _ in range(10_000):\n",
    "    sample=np.random.choice(population, size=3, replace=True)\n",
    "    X = len([x for x in sample if x == 'H'])\n",
    "    Y = len([x for x in sample if x == 'T'])\n",
    "    exy.append(X*Y)\n",
    "np.mean(exy)"
   ]
  },
  {
   "cell_type": "code",
   "execution_count": 29,
   "metadata": {},
   "outputs": [
    {
     "data": {
      "text/plain": [
       "2.7213"
      ]
     },
     "execution_count": 29,
     "metadata": {},
     "output_type": "execute_result"
    }
   ],
   "source": [
    "## Scenario 2\n",
    "exy = []\n",
    "for _ in range(10_000):\n",
    "    sample=np.random.choice(population, size=4, replace=True)\n",
    "    X = len([x for x in sample[:3] if x == 'H'])\n",
    "    Y = len([x for x in sample[1:] if x == 'H'])\n",
    "    exy.append(X*Y)\n",
    "np.mean(exy)"
   ]
  },
  {
   "cell_type": "code",
   "execution_count": 30,
   "metadata": {},
   "outputs": [
    {
     "data": {
      "text/plain": [
       "2.2405"
      ]
     },
     "execution_count": 30,
     "metadata": {},
     "output_type": "execute_result"
    }
   ],
   "source": [
    "## Scenario 3\n",
    "exy = []\n",
    "for _ in range(10_000):\n",
    "    sample=np.random.choice(population, size=6, replace=True)\n",
    "    X = len([x for x in sample[:3] if x == 'H'])\n",
    "    Y = len([x for x in sample[3:] if x == 'H'])\n",
    "    exy.append(X*Y)\n",
    "np.mean(exy)"
   ]
  },
  {
   "attachments": {},
   "cell_type": "markdown",
   "metadata": {},
   "source": [
    "### 2. Two fair dice are rolled. Let X be the outcome of the first die. Let Y be the outcome of the second die. Calculate the expected ratio between the numbers on the two dice, E[X/Y]. (You can use Theorem 27.1, since X and Y are independent. However, be careful because E[X/Y] != E[X]/E[Y])\n",
    "\n",
    "### What is E[Y/X]? Why does this seem paradoxical?"
   ]
  },
  {
   "attachments": {},
   "cell_type": "markdown",
   "metadata": {},
   "source": [
    "- E[X] = E[Y] = 3.5\n",
    "- E[X/Y] = E[X] * E[1/Y]\n",
    "= E[1/Y] = 1/6 * 1/1 + 1/6 * 1/2 + ... 1/6*1/6 = 1/6 + 1/12 + 1/18 + 1/24 + 1/30 + 1/36 = 0.408\n",
    "\n",
    "- Hence, E[X/Y] = 3.5 * 0.408 = 1.428"
   ]
  },
  {
   "attachments": {},
   "cell_type": "markdown",
   "metadata": {},
   "source": [
    "- E[Y/X] = E[Y] * E[1/X] = 1.428"
   ]
  },
  {
   "attachments": {},
   "cell_type": "markdown",
   "metadata": {},
   "source": [
    "- Paradoxical because it seems like E[Y/X] is the inverse of E[X/Y], which should not have the same value"
   ]
  },
  {
   "cell_type": "code",
   "execution_count": 34,
   "metadata": {},
   "outputs": [
    {
     "data": {
      "text/plain": [
       "1.427563333333333"
      ]
     },
     "execution_count": 34,
     "metadata": {},
     "output_type": "execute_result"
    }
   ],
   "source": [
    "import numpy as np\n",
    "\n",
    "population=[x for x in range(1,7)]\n",
    "exy=[]\n",
    "for _ in range(10_000):\n",
    "    x,y = np.random.choice(population, 2, replace=True)\n",
    "    exy.append(x/y)\n",
    "np.mean(exy)"
   ]
  },
  {
   "attachments": {},
   "cell_type": "markdown",
   "metadata": {},
   "source": [
    "### 3. At Diablo Canyon nuclear plant, radioactive particles hit a Geiger counter according to a Poisson process with a rate of 3.5 particles per second. Let X be the number of particles detected in the first 2 seconds. Let Y be the number of particles detected in the second after that (i.e., the 3rd second). Find E[XY]"
   ]
  },
  {
   "attachments": {},
   "cell_type": "markdown",
   "metadata": {},
   "source": [
    "- E[X] = 7\n",
    "- E[Y] = 3.5\n",
    "- E[XY] = 7 * 3.5 = 24.5 by independence"
   ]
  },
  {
   "cell_type": "code",
   "execution_count": 49,
   "metadata": {},
   "outputs": [
    {
     "data": {
      "text/plain": [
       "24.6374"
      ]
     },
     "execution_count": 49,
     "metadata": {},
     "output_type": "execute_result"
    }
   ],
   "source": [
    "import scipy\n",
    "x=scipy.stats.poisson(7).rvs(10_000)\n",
    "y=scipy.stats.poisson(3.5).rvs(10_000)\n",
    "xy = x*y\n",
    "np.mean(xy)"
   ]
  }
 ],
 "metadata": {
  "kernelspec": {
   "display_name": "leetcode",
   "language": "python",
   "name": "python3"
  },
  "language_info": {
   "codemirror_mode": {
    "name": "ipython",
    "version": 3
   },
   "file_extension": ".py",
   "mimetype": "text/x-python",
   "name": "python",
   "nbconvert_exporter": "python",
   "pygments_lexer": "ipython3",
   "version": "3.10.4"
  },
  "orig_nbformat": 4
 },
 "nbformat": 4,
 "nbformat_minor": 2
}
