{
 "cells": [
  {
   "attachments": {},
   "cell_type": "markdown",
   "metadata": {},
   "source": [
    "### 1. Continuing with the example from the lesson, let Y be the number of Jacks among the community cards. Calculate and graph the c.d.f. of Y."
   ]
  },
  {
   "attachments": {},
   "cell_type": "markdown",
   "metadata": {},
   "source": [
    "- Recall that there are $\\binom{48}{5}$ possible community cards\n",
    "- Recall that there are 2 Js left in the deck\n",
    "- Probability for each J outcome\n",
    "    - f(0): $\\binom{46}{5} * \\binom{2}{0} \\approx 0.801$\n",
    "    - f(1): $\\binom{46}{4} * \\binom{2}{1} \\approx 0.191$\n",
    "    - f(2): $\\binom{46}{3} * \\binom{2}{2} \\approx 0.009$\n",
    "\n",
    "- CDF  \n",
    "    - F(0) = 0.801\n",
    "    - F(1) = 0.801 + 0.191 = 0.992\n",
    "    - F(2) = 1"
   ]
  },
  {
   "cell_type": "code",
   "execution_count": 7,
   "metadata": {},
   "outputs": [
    {
     "data": {
      "text/plain": [
       "0.008865248226950355"
      ]
     },
     "execution_count": 7,
     "metadata": {},
     "output_type": "execute_result"
    }
   ],
   "source": [
    "from math import comb\n",
    "(comb(46, 5) * comb(2,0)) / comb(48,5)\n",
    "(comb(46, 4) * comb(2,1)) / comb(48,5)\n",
    "(comb(46, 3) * comb(2,2)) / comb(48,5)"
   ]
  },
  {
   "attachments": {},
   "cell_type": "markdown",
   "metadata": {},
   "source": [
    "### 2. Consider random variable Z given by formula\n",
    "\n",
    "$$\n",
    "    F(x) = \\left \\{ \\begin{matrix}\n",
    "        1 - 3^{-\\left \\lfloor x \\right \\rfloor} & x \\geq 0 \\\\\n",
    "        0 & \\text{otherwise}\n",
    "    \\end{matrix} \\right . \n",
    "$$\n",
    "\n",
    "Note that $\\left \\lfloor x \\right \\rfloor$ refers to the floor operator, which rounds x down to the nearest integer\n",
    "\n",
    "Graph CDF F(x) and compute\n",
    "- P(Z > 3)\n",
    "- P(Z = 2)"
   ]
  },
  {
   "attachments": {},
   "cell_type": "markdown",
   "metadata": {},
   "source": [
    "- P(Z > 3)\n",
    "    - Same as 1 - P(Z <= 2) = 1 - F(2) = 0.111\n",
    "- P(Z = 2)\n",
    "    - f(2) = F(2) - F(1) = 0.222"
   ]
  },
  {
   "cell_type": "code",
   "execution_count": 15,
   "metadata": {},
   "outputs": [
    {
     "name": "stdout",
     "output_type": "stream",
     "text": [
      "[0, 0.6666666666666667, 0.8888888888888888, 0.962962962962963, 0.9876543209876543, 0.9958847736625515, 0.9986282578875172, 0.9995427526291724, 0.9998475842097241, 0.9999491947365747]\n"
     ]
    },
    {
     "data": {
      "text/plain": [
       "0.2222222222222221"
      ]
     },
     "execution_count": 15,
     "metadata": {},
     "output_type": "execute_result"
    },
    {
     "data": {
      "image/png": "[encoded data removed]",
      "text/plain": [
       "<Figure size 640x480 with 1 Axes>"
      ]
     },
     "metadata": {},
     "output_type": "display_data"
    }
   ],
   "source": [
    "import math\n",
    "import matplotlib.pyplot as plt\n",
    "def cdf(x: float):\n",
    "    if x < 0:\n",
    "        return 0\n",
    "    x_floor = math.floor(x)\n",
    "    cdfx = 1 - 3**(-x_floor)\n",
    "    return cdfx\n",
    "\n",
    "plt.bar(range(10), [cdf(x) for x in range(10)])\n",
    "print([cdf(x) for x in range(10)])\n",
    "1 - cdf(2)\n",
    "cdf(2) - cdf(1)"
   ]
  }
 ],
 "metadata": {
  "kernelspec": {
   "display_name": "leetcode",
   "language": "python",
   "name": "python3"
  },
  "language_info": {
   "codemirror_mode": {
    "name": "ipython",
    "version": 3
   },
   "file_extension": ".py",
   "mimetype": "text/x-python",
   "name": "python",
   "nbconvert_exporter": "python",
   "pygments_lexer": "ipython3",
   "version": "3.10.4"
  },
  "orig_nbformat": 4
 },
 "nbformat": 4,
 "nbformat_minor": 2
}
