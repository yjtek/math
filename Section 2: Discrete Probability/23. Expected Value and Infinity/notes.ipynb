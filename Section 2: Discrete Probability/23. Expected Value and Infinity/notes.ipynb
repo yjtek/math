{
 "cells": [
  {
   "attachments": {},
   "cell_type": "markdown",
   "metadata": {},
   "source": [
    "## Motivating Example"
   ]
  },
  {
   "attachments": {},
   "cell_type": "markdown",
   "metadata": {},
   "source": [
    "Expectation can give funny answers when dealing with infnity. For example, in Pascal's wager!\n",
    "\n",
    "| | Believe in God | Don't believe in god |\n",
    "| --- | --- | --- |\n",
    "| God exists | $p \\cdot +\\inf$ | $p \\cdot -\\inf$ |\n",
    "| God doesn't exist | $(1-p) \\cdot j$ | $(1-p) \\cdot k$ |\n",
    "\n",
    "- Expected value of believing: $p \\cdot +\\inf + (1-p) \\cdot j = +\\inf$\n",
    "- Expected value of not believing: $p \\cdot -\\inf + (1-p) \\cdot k = -\\inf$"
   ]
  },
  {
   "attachments": {},
   "cell_type": "markdown",
   "metadata": {},
   "source": [
    "## Theory"
   ]
  },
  {
   "attachments": {},
   "cell_type": "markdown",
   "metadata": {},
   "source": [
    "- There is a competing issue iw"
   ]
  }
 ],
 "metadata": {
  "language_info": {
   "name": "python"
  },
  "orig_nbformat": 4
 },
 "nbformat": 4,
 "nbformat_minor": 2
}
