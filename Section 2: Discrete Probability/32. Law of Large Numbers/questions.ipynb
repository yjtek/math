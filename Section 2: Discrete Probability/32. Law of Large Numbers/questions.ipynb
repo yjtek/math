{
 "cells": [
  {
   "attachments": {},
   "cell_type": "markdown",
   "metadata": {},
   "source": [
    "### 1. These questions make reference to the opening scene from the Tom Stoppard play Rosencrantz and Guildenstern are Dead (a retelling of Shakespeare’s Hamlet). You do not need to watch the scene to answer these questions, but I’ve included it just for fun."
   ]
  },
  {
   "attachments": {},
   "cell_type": "markdown",
   "metadata": {},
   "source": [
    "### Rosencrantz and Guildenstern have just learned the Law of Large Numbers. It turns out that they have a different understanding of what the law says…\n",
    "\n",
    "Guildenstern: The Law of Large Numbers says that in the long run, the coin will land heads as often as it lands tails.\n",
    "\n",
    "Rosencrantz: I don’t think that’s what it says. The Law of Large Numbers says that the fraction of heads will get closer and closer to 1/2, which is the expected value of each toss.\n",
    "\n",
    "Guildenstern: Isn’t that the same as what I said?\n",
    "\n",
    "Rosencrantz: No, you said, “The coin will land heads as often as it lands tails,” which implies that the difference between the number of heads and the number of tails will get smaller as we toss the coin more and more. I don’t think the number of heads will be close to the number of tails.\n",
    "\n",
    "Guildenstern: If the fraction of heads is close to 1/2, then the number of heads must be close to the number of tails. How could it be otherwise?\n",
    "\n",
    "Who is right: Rosencrantz or Guildenstern? Calculate the variance of \n",
    "$$\\text{number of heads in n tosses} − \\text{number of tails in n tosses}$$ \n",
    "as a function of n. In light of this calculation, do you agree with Guildenstern that the difference between the number of heads and the number of tails approaches 0 as the number of tosses increases?"
   ]
  },
  {
   "attachments": {},
   "cell_type": "markdown",
   "metadata": {},
   "source": [
    "- Let X be the number of heads in N tosses\n",
    "- Let Y be the number of tails in N tosses, where Y = N - X\n",
    "- $X \\sim \\text{Binom}(N, 0.5)$\n",
    "\n",
    "- $\\begin{align}\n",
    "    Var[X - Y] &= Var[X - N + X] \\\\\n",
    "    &= Var[2X - N] \\\\\n",
    "    &= Cov[2X-N, 2X-N] \\\\\n",
    "    &= Cov[2X,2X] + 2 \\cdot Cov[2X,-N] + Cov[-N,-N] \\\\\n",
    "    &= 4 \\cdot Cov[X,X] \\\\\n",
    "    &= 4 Var[X] \\\\\n",
    "    &= 4 * N * 0.5 * 0.5 \\\\\n",
    "    &= N\n",
    "    \\end{align}$\n",
    "\n",
    "- Based on the above, X-Y approaches expectation of 0, but with variance equal to the sample size N\n",
    "\n",
    "- $\\begin{align}\n",
    "    Var[X/Y] &= Var[X * \\frac{1}{Y}] \\\\\n",
    "    &= Var[\\frac{X}{N-X}] \\\\\n",
    "    &= E[\\frac{X^2}{(N-X)^2}] - E[\\frac{X}{N-X}]^2 \\\\\n",
    "    \\end{align}$\n",
    "\n",
    "- $\\begin{align}\n",
    "    E[\\frac{X^2}{(N-X)^2}] &= \\sum_x \\frac{x^2}{(N-x)^2} * \\binom{N}{x} 0.5^x 0.5^{N-x} \\\\\n",
    "    &= \\sum_x \\frac{x^2}{(N-x)^2} * \\frac{N!}{x!(N-x)!} 0.5^x 0.5^{N-x}\n",
    "    \\end{align}$"
   ]
  },
  {
   "cell_type": "code",
   "execution_count": 31,
   "metadata": {},
   "outputs": [
    {
     "name": "stdout",
     "output_type": "stream",
     "text": [
      "0.1856 497.73435264\n",
      "1.0047581063125213 0.008125158562046852\n"
     ]
    }
   ],
   "source": [
    "import numpy as np\n",
    "population=['H', 'T']\n",
    "diff = []\n",
    "ratio = []\n",
    "\n",
    "sample_size=500\n",
    "for _ in range(10_000):\n",
    "    \n",
    "    sample=np.random.choice(population, sample_size, replace=True)\n",
    "    X = len([x for x in sample if x == 'H'])\n",
    "    Y = sample_size - X\n",
    "    diff.append(X-Y)\n",
    "    ratio.append(X/Y)\n",
    "\n",
    "print(np.mean(diff), np.var(diff))\n",
    "print(np.mean(ratio), np.var(ratio))"
   ]
  },
  {
   "attachments": {},
   "cell_type": "markdown",
   "metadata": {},
   "source": [
    "### 2. Rosencrantz and Guildenstern are tossing a coin. The coin has landed heads 85 times in a row. They discuss the probability that the next toss is heads.\n",
    "\n",
    "Rosencrantz: We are due for tails! We have had so many heads that the next toss has to be more likely to land tails.\n",
    "\n",
    "Guildenstern: Not so fast. Didn’t we call this the “gambler’s fallacy” in Lesson 7? The coin tosses are independent, so each toss is still equally likely to land heads or tails, regardless of past experience.\n",
    "\n",
    "Rosencrantz: But what about the Law of Large Numbers? It says that we have to end up with 50% tails eventually. We are in a deep hole from the 85 heads in a row. How can we get back to 50% tails if the coin is not more likely now to land tails?\n",
    "\n",
    "Of course, Guildenstern is right. The coin is not more likely to land tails. But how would you answer Rosencrantz’s question? Why does the Law of Large Numbers not contradict the gambler’s fallacy?"
   ]
  },
  {
   "attachments": {},
   "cell_type": "markdown",
   "metadata": {},
   "source": [
    "- Conditional on you having 85 heads, the next toss is 50-50. \n",
    "- Flips are independent, so the coin does not \"remember\" that it has already produced 85 heads in a row\n",
    "- So in the unlikely event that it has already produced 85 heads in a row, the next flip is still 50-50\n",
    "- Eventually, if you flip it enough times, the 85 heads in a row will be diluted purely by the fact that the odds are of heads remain at 50-50\n",
    "    - You may think that, for you to get to 50-50, the subsequent flips must contain more heads than tails\n",
    "    - This is wrong. The marginal flip is always at 50-50. However, by virtue of the fact that it is 50-50, in the long run, the average will be brought down. "
   ]
  },
  {
   "attachments": {},
   "cell_type": "markdown",
   "metadata": {},
   "source": []
  }
 ],
 "metadata": {
  "kernelspec": {
   "display_name": "leetcode",
   "language": "python",
   "name": "python3"
  },
  "language_info": {
   "codemirror_mode": {
    "name": "ipython",
    "version": 3
   },
   "file_extension": ".py",
   "mimetype": "text/x-python",
   "name": "python",
   "nbconvert_exporter": "python",
   "pygments_lexer": "ipython3",
   "version": "3.10.4"
  },
  "orig_nbformat": 4
 },
 "nbformat": 4,
 "nbformat_minor": 2
}
