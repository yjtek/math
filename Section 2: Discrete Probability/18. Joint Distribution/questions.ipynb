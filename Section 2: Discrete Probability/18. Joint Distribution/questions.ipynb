{
 "cells": [
  {
   "attachments": {},
   "cell_type": "markdown",
   "metadata": {},
   "source": [
    "### 1. Two tickets are drawn from a box with $N_1$ 1s and $N_0$ 0s. Let X be the number of 1s on the first draw, and Y be the number of 1s on the second draw. (Note that X and Y can only be 0 or 1) \n",
    "\n",
    "- Find the joint PMF of X and Y when the draws are made with replacement\n",
    "- Find the joint PMF of X and Y when the draws are made without replacement\n",
    "\n",
    "You may specify the joint p.m.f. as a table or a formula, whichever is more convenient for you."
   ]
  },
  {
   "attachments": {},
   "cell_type": "markdown",
   "metadata": {},
   "source": [
    "(\\frac{N!}{x! (N-x)!} (\\frac{N_1}{N})^{x} (\\frac{N_0}{N})^{N-x})^2"
   ]
  },
  {
   "attachments": {},
   "cell_type": "markdown",
   "metadata": {},
   "source": [
    "- X follows binomial\n",
    "    - $X\\sim\\text{Binomial}(n=1, p=\\frac{N_1}{N})$\n",
    "- Y follows binomial\n",
    "    - If with replacement: $Y\\sim\\text{Binomial}(n=1, p=\\frac{N_1}{N})$\n",
    "    - If without replacement: $Y\\sim\\text{Binomial}(n=1, p=\\frac{N_1}{N})$ if X = 0, $Y\\sim\\text{Binomial}(n=1, p=\\frac{N_1-1}{N})$ if X = 1\n",
    "\n",
    "- With replacement\n",
    "    - X and Y are independent\n",
    "    - $\\begin{align}\n",
    "        P(X,Y) &= P(X) \\cdot P(Y) \\\\ \n",
    "        &= (\\frac{1!}{1!0!} (\\frac{N_1}{N})^{x} (\\frac{N_0}{N})^{N-x})^2 \\\\\n",
    "        &= ( (\\frac{N_1}{N})^{x} (\\frac{N_0}{N})^{1-x})^2\n",
    "        \\end{align} $\n",
    "\n",
    "- Without replacement\n",
    "    - $\n",
    "        P(X=x) = \\frac{X!}{x! (N-x)!} (\\frac{N_1}{N})^x (\\frac{N_0}{N})^{N-x}\n",
    "    $\n",
    "        - $\n",
    "            P(X=0) = \\frac{N_0}{N}\n",
    "        $\n",
    "        - $\n",
    "            P(X=1) = N \\cdot \\frac{N_1}{N} = N_1\n",
    "        $"
   ]
  },
  {
   "attachments": {},
   "cell_type": "markdown",
   "metadata": {},
   "source": [
    "### 2. Two fair, six-sided dice are rolled. Let S be the smaller of the numbers on the two dice. Let L be the larger of the numbers on the two dice. (Note: If doubles are rolled, then S=L)\n",
    "\n",
    "- Find the joint p.m.f. of S and L\n",
    "- Use the joint p.m.f. to calculate $P(S+L >= 2)$\n",
    "- Repeat for $P(S+L >= k), k = 3,4,...12$. Why does the answer make sense?"
   ]
  },
  {
   "attachments": {},
   "cell_type": "markdown",
   "metadata": {},
   "source": [
    "### 3. A fair coin is tossed 3 times. Let X be the number of heads in these three tosses. Let Y be the number of tails in these three tosses. Find the joint p.m.f. of X and Y. (You may specify the joint p.m.f. as a table or a formula, whichever is more convenient for you.)"
   ]
  },
  {
   "attachments": {},
   "cell_type": "markdown",
   "metadata": {},
   "source": [
    "### 4. At Diablo Canyon nuclear plant, radioactive particles hit a Geiger counter according to a Poisson process with a rate of 3.5 particles per second. Let X be the number of particles detected in the first 2 seconds. Let Y be the number of particles detected in the second after that (i.e., the 3rd second). Find the joint p.m.f. of X and Y. (You may specify the joint p.m.f. as a table or a formula, whichever is more convenient for you.)\n",
    "\n"
   ]
  },
  {
   "attachments": {},
   "cell_type": "markdown",
   "metadata": {},
   "source": [
    "### 5. A fair coin is tossed 4 times. Let X be the number of heads in the first three tosses. Let Y be the number of heads in the last three tosses. Find the joint p.m.f. of X and Y. (Hint: There are only $2^4 = 16$ equally likely outcomes when you toss 4 coins. If you are unable to calculate the probabilities using rules we have learned, just list all the possible outcomes!)\n"
   ]
  },
  {
   "attachments": {},
   "cell_type": "markdown",
   "metadata": {},
   "source": [
    "### 6. At Diablo Canyon nuclear plant, radioactive particles hit a Geiger counter according to a Poisson process with a rate of 3.5 particles per second. Let X be the number of particles detected in the first 2 seconds. Let Z be the number of particles detected in the first 3 seconds. Find the joint p.m.f. of X and Z."
   ]
  },
  {
   "attachments": {},
   "cell_type": "markdown",
   "metadata": {},
   "source": []
  }
 ],
 "metadata": {
  "kernelspec": {
   "display_name": "leetcode",
   "language": "python",
   "name": "python3"
  },
  "language_info": {
   "codemirror_mode": {
    "name": "ipython",
    "version": 3
   },
   "file_extension": ".py",
   "mimetype": "text/x-python",
   "name": "python",
   "nbconvert_exporter": "python",
   "pygments_lexer": "ipython3",
   "version": "3.10.4"
  },
  "orig_nbformat": 4
 },
 "nbformat": 4,
 "nbformat_minor": 2
}
