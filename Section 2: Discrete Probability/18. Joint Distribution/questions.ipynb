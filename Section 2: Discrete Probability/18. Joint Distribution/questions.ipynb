{
 "cells": [
  {
   "attachments": {},
   "cell_type": "markdown",
   "metadata": {},
   "source": [
    "### 1. Two tickets are drawn from a box with $N_1$ 1s and $N_0$ 0s. Let X be the number of 1s on the first draw, and Y be the number of 1s on the second draw. (Note that X and Y can only be 0 or 1) \n",
    "\n",
    "- Find the joint PMF of X and Y when the draws are made with replacement\n",
    "- Find the joint PMF of X and Y when the draws are made without replacement\n",
    "\n",
    "You may specify the joint p.m.f. as a table or a formula, whichever is more convenient for you."
   ]
  },
  {
   "attachments": {},
   "cell_type": "markdown",
   "metadata": {},
   "source": [
    "- X follows binomial\n",
    "    - $X\\sim\\text{Binomial}(n=1, p=\\frac{N_1}{N})$\n",
    "- Y follows binomial\n",
    "    - If with replacement: $Y\\sim\\text{Binomial}(n=1, p=\\frac{N_1}{N})$\n",
    "    - If without replacement: \n",
    "        - $Y\\sim\\text{Binomial}(n=1, p=\\frac{N_1}{N})$ if X = 0, \n",
    "        - $Y\\sim\\text{Binomial}(n=1, p=\\frac{N_1-1}{N-1})$ if X = 1\n",
    "\n",
    "- With replacement\n",
    "    - X and Y are independent\n",
    "    - $\\begin{align}\n",
    "        P(X,Y) &= P(X) \\cdot P(Y) \\\\ \n",
    "        &= (\\frac{1!}{1!0!} (\\frac{N_1}{N})^{x} (\\frac{N_0}{N})^{1-x})^2 \\\\\n",
    "        &= ( (\\frac{N_1}{N})^{x} (\\frac{N_0}{N})^{1-x})^2\n",
    "        \\end{align} $\n",
    "\n",
    "- Without replacement\n",
    "    - $\n",
    "        P(X=x) = \\frac{1!}{x! (1-x)!} (\\frac{N_1}{N})^x (\\frac{N_0}{N})^{1-x}\n",
    "    $\n",
    "        - $\n",
    "            P(X=0) = \\frac{N_0}{N}\n",
    "        $\n",
    "        - $\n",
    "            P(X=1) = \\frac{N_1}{N}\n",
    "        $\n",
    "    - $\n",
    "        P(X=0, Y=0) = \\frac{N_0}{N} \\cdot \\frac{N_0 - 1}{N-1} \\\\\n",
    "        P(X=0, Y=1) = \\frac{N_0}{N} \\cdot \\frac{N_1}{N-1} \\\\\n",
    "        P(X=1, Y=0) = \\frac{N_1}{N} \\cdot \\frac{N_0}{N-1} \\\\\n",
    "        P(X=1, Y=1) = \\frac{N_1}{N} \\cdot \\frac{N_1 - 1}{N-1}\n",
    "    $"
   ]
  },
  {
   "attachments": {},
   "cell_type": "markdown",
   "metadata": {},
   "source": [
    "### 2. Two fair, six-sided dice are rolled. Let S be the smaller of the numbers on the two dice. Let L be the larger of the numbers on the two dice. (Note: If doubles are rolled, then S=L)\n",
    "\n",
    "- Find the joint p.m.f. of S and L\n",
    "- Use the joint p.m.f. to calculate $P(S+L = 2)$\n",
    "- Repeat for $P(S+L = k), k = 3,4,...12$. Why does the answer make sense?"
   ]
  },
  {
   "attachments": {},
   "cell_type": "markdown",
   "metadata": {},
   "source": [
    "- All outcomes in the 2x2 table below. \n",
    "    - All pairs are equally likely, and both dice are independent\n",
    "    - So each cell has probability $\\frac{1}{6} * \\frac{1}{6}$\n",
    "\n",
    "$$\\begin{array}{rr|cccccc}\n",
    " & 1 & f(1,1) & f(1,2) & f(1,3) & f(1,4) & f(1,5) & f(1,6) \\\\\n",
    " & 2 & f(2,1) & f(2,2) & f(2,3) & f(2,4) & f(2,5) & f(2,6) \\\\\n",
    "\\text{dice 2} & 3 & f(3,1) & f(3,2) & f(3,3) & f(3,4) & f(3,5) & f(3,6) \\\\\n",
    " & 4 & f(4,1) & f(4,2) & f(4,3) & f(4,4) & f(4,5) & f(4,6) \\\\\n",
    " & 5 & f(5,1) & f(5,2) & f(5,3) & f(5,4) & f(5,5) & f(5,6) \\\\\n",
    " & 6 & f(6,1) & f(6,2) & f(6,3) & f(6,4) & f(6,5) & f(6,6) \\\\\n",
    "\\hline\n",
    "& & 1 & 2 & 3 & 4 & 5 & 6 \\\\\n",
    "& & & & & \\text{dice 1} & & \n",
    "\\end{array}$$\n",
    "\n",
    "- Changing elements to (S,L, Sum) values for each outcome\n",
    "    - Since each cell has probability $\\frac{1}{36}$, and only 1 cell has S + L = 2, $P(S+L =2)$ is $\\frac{1}{36}$\n",
    "    - For S + L = 3, there are 2 cells\n",
    "    - For S + L = 4, there are 3 cells\n",
    "    - ...\n",
    "    - For S + L = 7, there are 6 cells\n",
    "    - For S + L = 8, there are 5 cells\n",
    "    - ...\n",
    "    - For S + L = 12, there is 1 cells\n",
    "\n",
    "$$\\begin{array}{rr|cccccc}\n",
    " & 1 & (1,1,2) & (1,2,3) & (1,3,4) & (1,4,5) & (1,5,6) & (1,6,7) \\\\\n",
    " & 2 & (2,1,3) & (2,2,4) & (2,3,5) & (2,4,6) & (2,5,7) & (2,6,8) \\\\\n",
    "\\text{dice 1} & 3 & (3,1,4) & (3,2,5) & (3,3,6) & (3,4,7) & (3,5,8) & (3,6,9) \\\\\n",
    " & 4 & (4,1,5) & (4,2,6) & (4,3,7) & (4,4,8) & (4,5,9) & (4,6,10) \\\\\n",
    " & 5 & (5,1,6) & (5,2,7) & (5,3,8) & (5,4,9) & (5,5,10) & (5,6,11) \\\\\n",
    " & 6 & (6,1,7) & (6,2,8) & (6,3,9) & (6,4,10) & (6,5,11) & (6,6,12) \\\\\n",
    "\\hline\n",
    "& & 1 & 2 & 3 & 4 & 5 & 6 \\\\\n",
    "& & & & & \\text{dice 2} & & \n",
    "\\end{array}$$\n",
    "    \n",
    "- The number of ways to get 7 exceeds the number of ways to get 12 or 2, so the probaiblity is higher "
   ]
  },
  {
   "attachments": {},
   "cell_type": "markdown",
   "metadata": {},
   "source": [
    "### 3. A fair coin is tossed 3 times. Let X be the number of heads in these three tosses. Let Y be the number of tails in these three tosses. Find the joint p.m.f. of X and Y. (You may specify the joint p.m.f. as a table or a formula, whichever is more convenient for you.)"
   ]
  },
  {
   "attachments": {},
   "cell_type": "markdown",
   "metadata": {},
   "source": [
    "- $X \\sim \\text{Binom}(n=3, p=0.5) = \\binom{3}{x} 0.5^x 0.5^{3-x}$\n",
    "- Y is wholly determined by X\n",
    "    - i.e. you must either get a heads or tails on each toss\n",
    "    - If you don't get heads, it is a given you get tails\n",
    "    - So if X = 3, Y = 0 by definition. There is no other value that Y can take\n",
    "    - Hence P(X,Y) = P(X)\n",
    "    - "
   ]
  },
  {
   "attachments": {},
   "cell_type": "markdown",
   "metadata": {},
   "source": [
    "### 4. At Diablo Canyon nuclear plant, radioactive particles hit a Geiger counter according to a Poisson process with a rate of 3.5 particles per second. Let X be the number of particles detected in the first 2 seconds. Let Y be the number of particles detected in the second after that (i.e., the 3rd second). Find the joint p.m.f. of X and Y. (You may specify the joint p.m.f. as a table or a formula, whichever is more convenient for you.)\n",
    "\n"
   ]
  },
  {
   "attachments": {},
   "cell_type": "markdown",
   "metadata": {},
   "source": [
    "- $X \\sim \\text{Poisson}(\\mu=3.5 * 2)$\n",
    "- $Y \\sim \\text{Poisson}(\\mu=3.5 * 1)$\n",
    "\n",
    "- $\n",
    "    P(X=x) = e^{-7} \\frac{7^{x}}{x!} \\\\\n",
    "    P(Y=y) = e^{-3.5} \\frac{3.5^{x}}{x!} \\\\\n",
    "$\n",
    "\n",
    "- X and Y are independent\n",
    "    - $\n",
    "        P(X,Y) = P(X=x) \\cdot P(Y=y) = e^{-7} \\frac{7^{x}}{x!} \\cdot e^{-3.5} \\frac{3.5^{x}}{x!}\n",
    "    $    "
   ]
  },
  {
   "attachments": {},
   "cell_type": "markdown",
   "metadata": {},
   "source": [
    "### 5. A fair coin is tossed 4 times. Let X be the number of heads in the first three tosses. Let Y be the number of heads in the last three tosses. Find the joint p.m.f. of X and Y. (Hint: There are only $2^4 = 16$ equally likely outcomes when you toss 4 coins. If you are unable to calculate the probabilities using rules we have learned, just list all the possible outcomes!)\n"
   ]
  },
  {
   "attachments": {},
   "cell_type": "markdown",
   "metadata": {},
   "source": [
    "- X and Y cannot differ by more than 1 \n",
    "- Let's list all outcomes\n",
    "    - f(3,3)\n",
    "        - HHHH: P(X=3, Y=3)\n",
    "    \n",
    "    - f(3,2)\n",
    "        - HHHT: P(X=3, Y=2)\n",
    "    \n",
    "    - f(2,2,)\n",
    "        - HHTH: P(X=2, Y=2)\n",
    "        - HTHH: P(X=2, Y=2)\n",
    "        - THHT: P(X=2, Y=2)\n",
    "\n",
    "    - f(2,1)\n",
    "        - HHTT: P(X=2, Y=1)\n",
    "        - HTHT: P(X=2, Y=1)\n",
    "    \n",
    "    - f(1,1)\n",
    "        - HTTH: P(X=1, Y=1)\n",
    "        - THTH: P(X=1, Y=1)\n",
    "        - THTT: P(X=1, Y=1)\n",
    "        - TTHT: P(X=1, Y=1)\n",
    "\n",
    "    - f(0,0)\n",
    "        - TTTT: P(X=0, Y=0)\n",
    "\n",
    "    - f(0,1)\n",
    "        - TTTH: P(X=0, Y=1)\n",
    "\n",
    "    - f(1,2)\n",
    "        - TTHH: P(X=1, Y=2)\n",
    "    \n",
    "    - f(1,0)\n",
    "        - HTTT: P(X=1, Y=0)\n",
    "    \n",
    "    - THHH: P(X=2, Y=3)\n",
    "\n",
    "- Since each toss is independent, every unique outcome has probability 0.5^4 = 0.0625"
   ]
  },
  {
   "attachments": {},
   "cell_type": "markdown",
   "metadata": {},
   "source": [
    "### 6. At Diablo Canyon nuclear plant, radioactive particles hit a Geiger counter according to a Poisson process with a rate of 3.5 particles per second. Let X be the number of particles detected in the first 2 seconds. Let Z be the number of particles detected in the first 3 seconds. Find the joint p.m.f. of X and Z."
   ]
  },
  {
   "attachments": {},
   "cell_type": "markdown",
   "metadata": {},
   "source": [
    "- Let Y be the number of particles detected in the [2,3] second\n",
    "    - $Y \\sim \\text{Poisson}(\\mu=3.5)$\n",
    "    - $X \\sim \\text{Poisson}(\\mu=7)$\n",
    "\n",
    "- Z >= X\n",
    "\n",
    "- PMF of X: $e^{-7} \\frac{7^{x}}{x!}$\n",
    "- PMF of Y: $e^{-3.5} \\frac{3.5^{y}}{y!}$\n",
    "    - Rewrite Y = Z - X: $e^{-3.5} \\frac{3.5^{z-x}}{(z-x)!}$\n",
    "- PMF of Z: $e^{-7} \\frac{7^{x}}{x!} \\cdot e^{-3.5} \\frac{3.5^{z-x}}{(z-x)!}$"
   ]
  }
 ],
 "metadata": {
  "kernelspec": {
   "display_name": "leetcode",
   "language": "python",
   "name": "python3"
  },
  "language_info": {
   "codemirror_mode": {
    "name": "ipython",
    "version": 3
   },
   "file_extension": ".py",
   "mimetype": "text/x-python",
   "name": "python",
   "nbconvert_exporter": "python",
   "pygments_lexer": "ipython3",
   "version": "3.10.4"
  },
  "orig_nbformat": 4
 },
 "nbformat": 4,
 "nbformat_minor": 2
}
