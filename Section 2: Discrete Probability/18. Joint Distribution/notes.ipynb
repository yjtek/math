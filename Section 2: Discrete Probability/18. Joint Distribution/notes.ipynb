{
 "cells": [
  {
   "attachments": {},
   "cell_type": "markdown",
   "metadata": {},
   "source": [
    "## Motivating Example"
   ]
  },
  {
   "attachments": {},
   "cell_type": "markdown",
   "metadata": {},
   "source": [
    "Xavier and Yolanda head to the roulette table at a casino. They both place bets on red on 3 spins of the roulette wheel before Xavier has to leave. After Xavier leaves, Yolanda places bets on red on 2 more spins of the wheel. Let X be the number of bets that Xavier wins and Y be the number that Yolanda wins.\n",
    "\n",
    "We know that $X \\sim \\text{Binomial}(n=3, p=\\frac{18}{38})$ distribution so its p.m.f. is \n",
    "\n",
    "$$\n",
    "    f(x) = \\binom{3}{x} (\\frac{18}{38})^x (1 - \\frac{18}{38})^{3-x}\n",
    "$$\n",
    "\n",
    "which we can write in tabular form as\n",
    "\n",
    "| x | 0 | 1 | 2 | 3 |\n",
    "| --- | --- | --- | --- | --- |\n",
    "| f(x) | 0.1458 | 0.3936 | 0.3543 | 0.1063 |\n",
    "\n",
    "We also know that $Y \\sim \\text{Binomial}(n=5, p=\\frac{18}{38})$ so its p.m.f. is \n",
    "\n",
    "| x | 0 | 1 | 2 | 3 | 4 | 5\n",
    "| --- | --- | --- | --- | --- | --- | --- |\n",
    "| f(x) | 0.0404 | .1817 | .3271 | .2944 | .1325 | .0238 |\n",
    "\n",
    "But this does not tell us how X and Y are related to each other. In fact, the two random variables have a very distinctive relationship. For example, Y must be greater than or equal to X, since Yolanda made the same three bets that Xavier did, plus two more. In this lesson, we will learn a way to describe the distribution of two (or more) random variables.\n",
    "\n",
    "\n"
   ]
  },
  {
   "attachments": {},
   "cell_type": "markdown",
   "metadata": {},
   "source": [
    "## Theory"
   ]
  },
  {
   "attachments": {},
   "cell_type": "markdown",
   "metadata": {},
   "source": [
    "- So far, we have learnt how to deal with independent binomial events\n",
    "- But in the motivating example, it is clear that the two processes X and Y are NOT independent. Yolanda cannot win fewer bets than Xavier, because they bet on the same outcome on the same roll!\n",
    "    - To see how X and Y are related to each other, we can draw them out in a 2D table\n",
    "\n",
    "- Definition 18.1: The joint relationship between 2 variables is also called the joint distribution of two random variables X and Y, and it is described by the joint p.m.f.\n",
    "    - $f(x,y) = P(X=x, Y=y)$"
   ]
  },
  {
   "attachments": {},
   "cell_type": "markdown",
   "metadata": {},
   "source": [
    "### Example 18.1"
   ]
  },
  {
   "attachments": {},
   "cell_type": "markdown",
   "metadata": {},
   "source": [
    "- Example 18.1: Let’s work out the joint p.m.f. of X, the number of bets that Xavier wins, and Y, the number of bets that Yolanda wins. To do this, we will lay out the values of $f(x,y)$ in a table\n",
    "\n",
    "$$\n",
    "\\begin{equation}\n",
    "\\begin{array}{rr|cccc}\n",
    "  & 5 & f(0, 5) & f(1, 5) & f(2, 5) & f(3, 5) \\\\\n",
    "  & 4 & f(0, 4) & f(1, 4) & f(2, 4) & f(3, 4) \\\\\n",
    "y & 3 & f(0, 3) & f(1, 3) & f(2, 3) & f(3, 3) \\\\\n",
    "  & 2 & f(0, 2) & f(1, 2) & f(2, 2) & f(3, 2) \\\\\n",
    "  & 1 & f(0, 1) & f(1, 1) & f(2, 1) & f(3, 1) \\\\\n",
    "  & 0 & f(0, 0) & f(1, 0) & f(2, 0) & f(3, 0) \\\\\n",
    "\\hline\n",
    "& & 0 & 1 & 2 & 3\\\\\n",
    "& &   & & x\n",
    "\\end{array}\n",
    "\\end{equation}\n",
    "$$\n",
    "\n",
    "- Observe that some combinations in the table above are impossible. For example, y cannot be 0 if x is non-zero! Let's set the impossible ones to 0\n",
    "\n",
    "$$\n",
    "\\begin{equation}\n",
    "\\begin{array}{rr|cccc}\n",
    "  & 5 & 0 & 0 & 0 & f(3, 5) \\\\\n",
    "  & 4 & 0 & 0 & f(2, 4) & f(3, 4) \\\\\n",
    "y & 3 & 0 & f(1, 3) & f(2, 3) & f(3, 3) \\\\\n",
    "  & 2 & f(0, 2) & f(1, 2) & f(2, 2) & 0 \\\\\n",
    "  & 1 & f(0, 1) & f(1, 1) & 0 & 0 \\\\\n",
    "  & 0 & f(0, 0) & 0 & 0 & 0 \\\\\n",
    "\\hline\n",
    "& & 0 & 1 & 2 & 3\\\\\n",
    "& &   & & x\n",
    "\\end{array}\n",
    "\\end{equation}\n",
    "$$"
   ]
  },
  {
   "attachments": {},
   "cell_type": "markdown",
   "metadata": {},
   "source": [
    "- So we understand what a joint distribution is now; it is the distribution of two random variables across all their possible values! In this case, the value is discrete, but in others is may be continuous\n",
    "\n",
    "- But how can we compute the joint distribution? Let's take an example of $f(1,2)$ in the table above\n",
    "    - We know that $f(1,2) = P(\\text{x=1 and y=2})$ \n",
    "    - For x=1, it means that there was 1 win in the first 3 spins\n",
    "    - This means that, in the last 2 spins, y=1 \n",
    "    - Rewriting:\n",
    "\n",
    "$$\\begin{align}\n",
    "    f(1,2) &= P(\\text{x=1 and y=2}) \\\\\n",
    "    &= P(\\text{1 red in first 3 spins and 1 red in next 2 spins}) \\\\\n",
    "    &= P(\\text{1 red in first 3 spins}) \\cdot P(\\text{1 red in next 2 spins}) & \\text{(spins are independent)} \\\\\n",
    "    &= \\binom{3}{1} (\\frac{18^1}{38^1}) (\\frac{20^2}{38^2}) \\cdot \\binom{2}{1} (\\frac{18^1}{38^1}) (\\frac{20^1}{38^1})\n",
    "\\end{align}$$\n",
    "\n",
    "- Computing for all values in the table above:"
   ]
  },
  {
   "cell_type": "code",
   "execution_count": 27,
   "metadata": {},
   "outputs": [],
   "source": [
    "import scipy\n",
    "import pandas as pd\n",
    "\n",
    "X=[x for x in range(4)]\n",
    "Y=[x for x in range(6)]\n",
    "joint=[(x,y) for x in X for y in Y]\n",
    "probs = {}\n",
    "probsum=0\n",
    "for pair in joint:\n",
    "    x,y=pair[0], pair[1]\n",
    "    if x > y:\n",
    "        probs[pair] = 0\n",
    "    elif y - x > 2:\n",
    "        probs[pair] = 0\n",
    "    else:\n",
    "        probs[pair] = scipy.stats.binom.pmf(n=3, p=18/38, k=x) * scipy.stats.binom.pmf(n=2, p=18/38, k=y-x)\n"
   ]
  },
  {
   "cell_type": "code",
   "execution_count": 29,
   "metadata": {},
   "outputs": [
    {
     "data": {
      "text/html": [
       "<div>\n",
       "<style scoped>\n",
       "    .dataframe tbody tr th:only-of-type {\n",
       "        vertical-align: middle;\n",
       "    }\n",
       "\n",
       "    .dataframe tbody tr th {\n",
       "        vertical-align: top;\n",
       "    }\n",
       "\n",
       "    .dataframe thead th {\n",
       "        text-align: right;\n",
       "    }\n",
       "</style>\n",
       "<table border=\"1\" class=\"dataframe\">\n",
       "  <thead>\n",
       "    <tr style=\"text-align: right;\">\n",
       "      <th></th>\n",
       "      <th>0</th>\n",
       "      <th>1</th>\n",
       "      <th>2</th>\n",
       "      <th>3</th>\n",
       "      <th>4</th>\n",
       "      <th>5</th>\n",
       "    </tr>\n",
       "  </thead>\n",
       "  <tbody>\n",
       "    <tr>\n",
       "      <th>0</th>\n",
       "      <td>0.040386</td>\n",
       "      <td>0.072695</td>\n",
       "      <td>0.032713</td>\n",
       "      <td>0.000000</td>\n",
       "      <td>0.000000</td>\n",
       "      <td>0.000000</td>\n",
       "    </tr>\n",
       "    <tr>\n",
       "      <th>1</th>\n",
       "      <td>0.000000</td>\n",
       "      <td>0.109042</td>\n",
       "      <td>0.196276</td>\n",
       "      <td>0.088324</td>\n",
       "      <td>0.000000</td>\n",
       "      <td>0.000000</td>\n",
       "    </tr>\n",
       "    <tr>\n",
       "      <th>2</th>\n",
       "      <td>0.000000</td>\n",
       "      <td>0.000000</td>\n",
       "      <td>0.098138</td>\n",
       "      <td>0.176649</td>\n",
       "      <td>0.079492</td>\n",
       "      <td>0.000000</td>\n",
       "    </tr>\n",
       "    <tr>\n",
       "      <th>3</th>\n",
       "      <td>0.000000</td>\n",
       "      <td>0.000000</td>\n",
       "      <td>0.000000</td>\n",
       "      <td>0.029441</td>\n",
       "      <td>0.052995</td>\n",
       "      <td>0.023848</td>\n",
       "    </tr>\n",
       "  </tbody>\n",
       "</table>\n",
       "</div>"
      ],
      "text/plain": [
       "          0         1         2         3         4         5\n",
       "0  0.040386  0.072695  0.032713  0.000000  0.000000  0.000000\n",
       "1  0.000000  0.109042  0.196276  0.088324  0.000000  0.000000\n",
       "2  0.000000  0.000000  0.098138  0.176649  0.079492  0.000000\n",
       "3  0.000000  0.000000  0.000000  0.029441  0.052995  0.023848"
      ]
     },
     "execution_count": 29,
     "metadata": {},
     "output_type": "execute_result"
    }
   ],
   "source": [
    "import numpy as np\n",
    "def dict_to_joint_table(probs: dict, X: list, Y: list):\n",
    "    probs_array=np.zeros((len(X), len(Y)))\n",
    "    for key,val in probs.items():\n",
    "        probs_array[key] = val\n",
    "    assert(np.abs(np.sum(probs_array) - 1) < 0.0001)\n",
    "    return pd.DataFrame(probs_array)\n",
    "\n",
    "dict_to_joint_table(probs, X, Y)"
   ]
  },
  {
   "attachments": {},
   "cell_type": "markdown",
   "metadata": {},
   "source": [
    "### Example 18.2"
   ]
  },
  {
   "attachments": {},
   "cell_type": "markdown",
   "metadata": {},
   "source": [
    "A fair coin is tossed 6 times. Let X be the number of heads in the first 3 tosses. Let Y be the number of heads in the last 3 tosses. Calculate the joint p.m.f. of X and Y, and use it to calculate $P(X+Y \\leq 2)$"
   ]
  },
  {
   "attachments": {},
   "cell_type": "markdown",
   "metadata": {},
   "source": [
    "- We know that X and Y are independent, because it is a fair coin\n",
    "\n",
    "- We want to know the join pmf of X and Y, or $f(X,Y)$\n",
    "\n",
    "- X and Y can both take on values [0,1,2,3]\n",
    "\n",
    "- So the joint PMF can be represented as:\n",
    "\n",
    "$$\n",
    "\\begin{array}{rr|cccc}\n",
    " & 3 & f(0,3) & f(1,3) & f(2,3) & f(3,3) \\\\\n",
    "y  & 2 & f(0,2) & f(1,2) & f(2,2) & f(3,2) \\\\\n",
    " & 1 & f(0,1) & f(1,1) & f(2,1) & f(3,1) \\\\\n",
    " & 0 & f(0,0) & f(1,0) & f(2,0) & f(3,0) \\\\\n",
    "\\hline\n",
    "& & 0 & 1 & 2 & 3 \\\\\n",
    "& & & & x & \n",
    "\\end{array}\n",
    "$$\n",
    "\n",
    "- X,Y follow binomial distribution\n",
    "    - $\\binom{3}{x} 0.5^x 0.5^{3-x}$"
   ]
  },
  {
   "cell_type": "code",
   "execution_count": 33,
   "metadata": {},
   "outputs": [
    {
     "data": {
      "text/html": [
       "<div>\n",
       "<style scoped>\n",
       "    .dataframe tbody tr th:only-of-type {\n",
       "        vertical-align: middle;\n",
       "    }\n",
       "\n",
       "    .dataframe tbody tr th {\n",
       "        vertical-align: top;\n",
       "    }\n",
       "\n",
       "    .dataframe thead th {\n",
       "        text-align: right;\n",
       "    }\n",
       "</style>\n",
       "<table border=\"1\" class=\"dataframe\">\n",
       "  <thead>\n",
       "    <tr style=\"text-align: right;\">\n",
       "      <th></th>\n",
       "      <th>0</th>\n",
       "      <th>1</th>\n",
       "      <th>2</th>\n",
       "      <th>3</th>\n",
       "    </tr>\n",
       "  </thead>\n",
       "  <tbody>\n",
       "    <tr>\n",
       "      <th>0</th>\n",
       "      <td>0.015625</td>\n",
       "      <td>0.046875</td>\n",
       "      <td>0.046875</td>\n",
       "      <td>0.015625</td>\n",
       "    </tr>\n",
       "    <tr>\n",
       "      <th>1</th>\n",
       "      <td>0.046875</td>\n",
       "      <td>0.140625</td>\n",
       "      <td>0.140625</td>\n",
       "      <td>0.046875</td>\n",
       "    </tr>\n",
       "    <tr>\n",
       "      <th>2</th>\n",
       "      <td>0.046875</td>\n",
       "      <td>0.140625</td>\n",
       "      <td>0.140625</td>\n",
       "      <td>0.046875</td>\n",
       "    </tr>\n",
       "    <tr>\n",
       "      <th>3</th>\n",
       "      <td>0.015625</td>\n",
       "      <td>0.046875</td>\n",
       "      <td>0.046875</td>\n",
       "      <td>0.015625</td>\n",
       "    </tr>\n",
       "  </tbody>\n",
       "</table>\n",
       "</div>"
      ],
      "text/plain": [
       "          0         1         2         3\n",
       "0  0.015625  0.046875  0.046875  0.015625\n",
       "1  0.046875  0.140625  0.140625  0.046875\n",
       "2  0.046875  0.140625  0.140625  0.046875\n",
       "3  0.015625  0.046875  0.046875  0.015625"
      ]
     },
     "execution_count": 33,
     "metadata": {},
     "output_type": "execute_result"
    }
   ],
   "source": [
    "X=Y=[x for x in range(4)]\n",
    "joint=[(x,y) for x in X for y in Y]\n",
    "probs={}\n",
    "for pair in joint:\n",
    "    x,y=pair[0],pair[1]\n",
    "    probs[pair] = scipy.stats.binom.pmf(n=3, p=1/2, k=x) * scipy.stats.binom.pmf(n=3, p=1/2, k=y)\n",
    "\n",
    "def dict_to_joint_table(probs: dict, X: list, Y: list):\n",
    "    probs_array=np.zeros((len(X), len(Y)))\n",
    "    for key,val in probs.items():\n",
    "        probs_array[key] = val\n",
    "    assert(np.abs(np.sum(probs_array) - 1) < 0.0001)\n",
    "    return pd.DataFrame(probs_array)\n",
    "\n",
    "dict_to_joint_table(probs, X, Y)"
   ]
  },
  {
   "attachments": {},
   "cell_type": "markdown",
   "metadata": {},
   "source": [
    "- Using the joint PMF, we can simply sum the cells where X+Y <= 2!"
   ]
  },
  {
   "cell_type": "code",
   "execution_count": 38,
   "metadata": {},
   "outputs": [
    {
     "data": {
      "text/plain": [
       "0.3437500000000001"
      ]
     },
     "execution_count": 38,
     "metadata": {},
     "output_type": "execute_result"
    }
   ],
   "source": [
    "np.sum([value for key, value in probs.items() if key[0]+key[1] <= 2])"
   ]
  },
  {
   "attachments": {},
   "cell_type": "markdown",
   "metadata": {},
   "source": [
    "- Notice that, due to independence, this is the same as checking what the probaiblity of getting 2 or less heads in 6 tosses!"
   ]
  },
  {
   "cell_type": "code",
   "execution_count": 39,
   "metadata": {},
   "outputs": [
    {
     "data": {
      "text/plain": [
       "0.34375"
      ]
     },
     "execution_count": 39,
     "metadata": {},
     "output_type": "execute_result"
    }
   ],
   "source": [
    "import scipy\n",
    "scipy.stats.binom.cdf(n=6, p=1/2, k=2)"
   ]
  },
  {
   "attachments": {},
   "cell_type": "markdown",
   "metadata": {},
   "source": [
    "### Example 18.3"
   ]
  },
  {
   "attachments": {},
   "cell_type": "markdown",
   "metadata": {},
   "source": [
    "The number of eggs laid by a hen, N, is a Poisson(μ) random variable. Each egg hatches with probability p, independently of any other egg. Let X be the number of eggs that hatch into baby chickens. Find the joint p.m.f. of N and X"
   ]
  },
  {
   "attachments": {},
   "cell_type": "markdown",
   "metadata": {},
   "source": [
    "- Since $N$ is poisson, the domain of $N$ ranges between 0 and infinity. So there is no way to list the joint probabilities are a table in the same manner we have done so far. Instead, let's write the PMF as a formula:\n",
    "    - $P(N) = e^{-\\mu} \\frac{\\mu^{N}}{N!}$\n",
    "\n",
    "- $X$ can take on any number between 0 and $N$. So again, we express the binomial distribution of X as a formula\n",
    "    - $P(X|N) = \\binom{N}{x} p^{x} (1-p)^{N-x}$\n",
    "\n",
    "- Unlike the previous 2 examples, we cannot re-cast $X$ and $N$ as independent events! However, recall from the earlier section that $P(X | N) = \\frac{P(X,N)}{P(N)}$\n",
    "    - So $f(X,N) = P(X,N) = P(X|N)P(N)$\n",
    "\n",
    "- Applying this relationship:\n",
    "    - $$\\begin{align}\n",
    "        f(X,N) &= e^{-\\mu} \\frac{\\mu^{N}}{N!} \\cdot \\binom{N}{x} p^{x} (1-p)^{N-x} \\\\\n",
    "        &= e^{-\\mu} \\frac{\\mu^{N}}{N!} \\cdot \\frac{N!}{x! (N-x)!} p^{x} (1-p)^{N-x}\n",
    "        \\end{align} $$\n",
    "    - This applies only when x <= N, so more precisely:\n",
    "        - $$\n",
    "            f(X,N) = \\left \\{ \\begin{matrix}\n",
    "                e^{-\\mu} \\frac{\\mu^{N}}{N!} \\cdot \\frac{N!}{x! (N-x)!} p^{x} (1-p)^{N-x} & 0 \\leq x \\leq n \\lt \\inf \\\\\n",
    "                0 & \\text{otherwise}\n",
    "            \\end{matrix} \\right .\n",
    "            $$\n",
    "\n"
   ]
  },
  {
   "attachments": {},
   "cell_type": "markdown",
   "metadata": {},
   "source": []
  }
 ],
 "metadata": {
  "kernelspec": {
   "display_name": "leetcode",
   "language": "python",
   "name": "python3"
  },
  "language_info": {
   "codemirror_mode": {
    "name": "ipython",
    "version": 3
   },
   "file_extension": ".py",
   "mimetype": "text/x-python",
   "name": "python",
   "nbconvert_exporter": "python",
   "pygments_lexer": "ipython3",
   "version": "3.10.4"
  },
  "orig_nbformat": 4
 },
 "nbformat": 4,
 "nbformat_minor": 2
}
