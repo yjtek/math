{
 "cells": [
  {
   "attachments": {},
   "cell_type": "markdown",
   "metadata": {},
   "source": [
    "1. Each year, as part of a “Secret Santa” tradition, a group of 4 friends write their names on slips of papers and place the slips into a hat. Each member of the group draws a name at random from the hat and must by a gift for that person. Of course, it is possible that they draw their own name, in which case they buy a gift for themselves. What is the probability that everyone in the group ends up buying a gift for themselves? (Note that the names are not placed back in the hat once they are drawn, so each person receives exactly one gift.)\n",
    "    - $\\frac{1}{4!} = \\frac{1}{24}$"
   ]
  },
  {
   "attachments": {},
   "cell_type": "markdown",
   "metadata": {},
   "source": [
    "2. A deck of 52 cards is shuffled thoroughly. What is the probability that the four aces are all next to each other? (Hint: First, count the number of positions that the block of four aces can go, then multiply this by the number of ways of ordering the four aces.)\n",
    "    - Total ways to arrange all cards: $52!$\n",
    "    - Total ways 4 aces next to each other: $48! \\cdot 4!$\n",
    "        - Think of this as the number of ways to arrange the 4 aces (4!) and the number of ways to arrange the 48 remaining cards\n",
    "    - Total number of positions the 4 aces can take: $49$\n",
    "        - Because the consecutive aces can start from any position from 1-49, after which there are not enough cards left to have 4 aces\n",
    "    - Probability 4 aces next to each other: $\\frac{49 \\cdot 48! \\cdot 4! }{52!}$\n"
   ]
  },
  {
   "attachments": {},
   "cell_type": "markdown",
   "metadata": {},
   "source": [
    "3. If a five-letter word is formed at random (meaning that all sequences of five letters are equally likely), what is the probability that no letter occurs more than once?\n",
    "    - 26 letters in english alphabet. For no repeats:\n",
    "        - $\\frac{26}{26} * \\frac{25}{26} * \\frac{24}{26} * \\frac{23}{26} * \\frac{22}{26}$"
   ]
  },
  {
   "attachments": {},
   "cell_type": "markdown",
   "metadata": {},
   "source": [
    "4. The “bootstrap” is a statistical method for generating a new data set that is like an existing one. Suppose we have a data set consisting of 6 observations: $[x_1, x_2, x_3, x_4, x_5, x_6]$ . To generate a “bootstrap” data set, we sample from the original data set with replacement, meaning that it is possible for each observation to be sampled more than once. Examples of bootstrap data sets include:\n",
    "    \n",
    "- $[x_1, x_1, x_4, x_4, x_6, x_6]$\n",
    "- $[x_3, x_3, x_3, x_3, x_3, x_3]$\n",
    "- $[x_1, x_2, x_3, x_4, x_5, x_6]$\n",
    "    \n",
    "    Notice that in the last example, each observation appears exactly once. What is the probability that the bootstrap data set contains each observation exactly once?\n",
    "\n",
    "    - Approach 1:\n",
    "        - To have this specific combination [1,2,3,4,5,6] of each, the probability is $\\frac{1}{6}^6$\n",
    "        - To account for all possible arrangements, multiply by `6!`\n",
    "\n",
    "    - Approach 2:\n",
    "        - There are 6 ways to choose the first position, 5 ways for the second, etc.\n",
    "        - This gives us `6!` combinations\n",
    "        - We should divide this by the total number of arrangements, which is 6^6"
   ]
  }
 ],
 "metadata": {
  "language_info": {
   "name": "python"
  },
  "orig_nbformat": 4
 },
 "nbformat": 4,
 "nbformat_minor": 2
}
