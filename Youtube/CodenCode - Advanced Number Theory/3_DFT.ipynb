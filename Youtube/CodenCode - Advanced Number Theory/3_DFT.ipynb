{
 "cells": [
  {
   "cell_type": "markdown",
   "id": "911c6a9b",
   "metadata": {},
   "source": [
    "## 3. Using Discrete Fourier Transform (DFT) to Convert Between Coefficient and Value Forms"
   ]
  },
  {
   "cell_type": "markdown",
   "id": "9ee768da",
   "metadata": {},
   "source": [
    "### Introduction"
   ]
  },
  {
   "cell_type": "markdown",
   "id": "cebed26b",
   "metadata": {},
   "source": [
    "- So far, we know that the broad picture of FFT is as follows:\n",
    "    1. We want to multiply 2 polynomials of degree $N$\n",
    "    2. Doing this the regular way takes us $O(N^2)$ time\n",
    "    3. But we can convert polynomials from coefficient form to value form in $O(N \\log N)$ time using DFT\n",
    "    4. Then multiply the polynomials together in $O(N)$ time\n",
    "    5. Then convert back to coefficient form in $O(N \\log N)$ time using inverse DFT\n",
    "\n",
    "- In this section, we will focus on step 3, and get into the guts of the DFT implementation"
   ]
  },
  {
   "cell_type": "markdown",
   "id": "5fae9355",
   "metadata": {},
   "source": [
    "### Convert from Coefficient to Value Form Using Recursion: Discrete Fourier Transform (DFT) "
   ]
  },
  {
   "cell_type": "markdown",
   "id": "d252f6cf",
   "metadata": {},
   "source": [
    "- Let's assume we have the following polynomial\n",
    "\n",
    "$$\\begin{aligned}\n",
    "    P(x) &= 3 - 5x + 2x^2 - 3x^3 + x^4\n",
    "\\end{aligned}$$\n",
    "\n",
    "- So suppose we want to create the value form. Since this polynomial is of degree 4, we need to evaluate it at 5 different points \n",
    "    - Why 5 points? Because to re-derive the coefficients, you need to solve for 5 unknowns, and so you need 5 equations to solve for them\n",
    "\n",
    "- Can we pick points that will make it more convenient for us to evaluate this equation? Yes we can! \n",
    "    - For example, let's suppose we're evaluating something like $P(x) = x^2$. Then we know that for any value $a$, $P(a) = P(-a)$\n",
    "    - Functions that exhibit this behaviour are known as **even functions**\n",
    "    - For polynomials, so long as they only have even degree terms (i.e. $P(x) = a + bx^2 + cx^4 + ...$ ), they are **even functions**\n",
    "\n",
    "- So why is this useful? Remember we stated above that we need to evaluate $P(x)$ at 5 points. But if our function $P(x)$ happens to be an even function, evaluating it at any arbitrary point $a$ will also give us the value for the function as $-a$, effectively halving the number of evaluations we need to make!\n",
    "\n",
    "- Ok, so that's all well and good. But $P(x) = 3 - 5x + 2x^2 - 3x^3 + x^4$ is not an even function, so how can we make use of this insight? \n",
    "\n",
    "- Turns out, any arbitrary polynomial $P(x)$ can be rewritten as a function of even functions! For example:\n",
    "\n",
    "$$\\begin{aligned}\n",
    "    P(x) &= 3 - 5x + 2x^2 - 3x^3 + x^4 \\\\\n",
    "    &= (3 + 2x^2 + x^4) + (-5x - 3x^3) \\\\\n",
    "    &= (3 + 2x^2 + x^4) + x \\cdot (-5 - 3x^2) \\\\\n",
    "    &= P_E(x^2) + x \\cdot P_O(x^2) \\\\ \\\\\n",
    "\n",
    "    &\\text{where} \\\\\n",
    "    &\\quad P_E(x^2) = 3 + 2x^2 + x^4 \\\\\n",
    "    &\\quad P_O(x^2) = -5 - 3x^2 \\\\\n",
    "\\end{aligned}$$\n",
    "\n",
    "- Let's suppose we wish to evaluate $P(a)$ and $P(-a)$\n",
    "    - Instead of simply calling the polynomial twice (which may be expensive), we can use the breakdown to compute $P_E(a^2)$ and $P_O(a^2)$\n",
    "    - Then, we can evaluate $P(a) = $ and $P(-a)$ by taking\n",
    "        - $P(a) = P_E(a^2) + a \\cdot P_O(a^2)$\n",
    "        - $P(-a) = P_E((-a)^2) - a \\cdot P_O((-a)^2)$\n",
    "    - The key point here is that, because $P_E$ and $P_O$ are even functions, $P_E(a^2) = P_E((-a)^2)$ and $P_O(a^2) = P_O((-a)^2)$\n",
    "\n",
    "- Suppose we evaluate $P(x)$ at some arbitrary set of points $[-1, 1, -2, 2]$\n",
    "    - Then we just need to evaluate $P_E, P_O$ at points $[1, 4]$. \n",
    "    - That is, we evaluate 2 functions at 2 points each, instead of 1 function at 4 points.\n",
    "        - $P_E(1) = 6$, $P_E(4) = 27$, $P_O(1) = -8$, $P_O(4) = -17$\n",
    "    - Then, to compute the 4 points required, we simply sum the existing results, instead of evaluating the function\n",
    "        - $P(1) = 6 + -8 = -2$\n",
    "        - $P(-1) = 6 - -8 = 14$\n",
    "        - $P(2) = 27 + 2(-17) = -7$\n",
    "        - $P(-2) = 27 - 2(-17) = 61$\n",
    "\n",
    "- Naive algorithm: In the naive case of evaluating $N$ points for an $N$-degree polynomial, we compute $x^0, x^1 ..., x^N$ across $N$ values of $x$\n",
    "    - Therefore, since we compute $N$ polynomials for $N$ different $x$ values, this ends up being $O(N^2)$\n",
    "    - So converting from coefficient to value form naively takes $O(N^2)$\n",
    "\n",
    "- DFT Algorithm:\n",
    "    - For any $N$ points we wish to evaluate from polynomial $P(x)$, we can partition this into subproblems of $N/2$ points of 2 even sub-polynomials $P_E(x)$ and $P_O(x)$\n",
    "    - Visualising this as a binary tree, this gives us a tree of height $\\log_2(N)$\n",
    "    - At each level of the tree, we still perform $N$ operations\n",
    "        - We halve the number of points to evaluate as we go down each level\n",
    "        - However, we are still computing the same number of powers of $x$ (i.e. Let each $x^0, x^1, etc.$ be 1 operation)\n",
    "    - So this is why our time complexity is $O(N \\log N)$ when converting from coefficient to value form"
   ]
  },
  {
   "cell_type": "markdown",
   "id": "0029f72b",
   "metadata": {},
   "source": [
    "### DFT: Choosing points to evaluate"
   ]
  },
  {
   "cell_type": "markdown",
   "id": "244b8072",
   "metadata": {},
   "source": [
    "- We've seen DFT in action in the section above when evaluated on some arbitrary set of values $[-1,1,-2,2]$ above, and we claimed that the approach generalises to any arbitrary polynomial of degree $N$ But does it really? \n",
    "\n",
    "    - Let's see what happens when we actually need to do more than 1 recursive call by studying a polynomial of degree 7. For convenience, I'll show only the $P_E$ split for every recursion level\n",
    "\n",
    "    $$\\begin{aligned}\n",
    "        P(x) &= 3 - 5x + 2x^2 - 3x^3 + x^4 + 2x^5 - x^6 + x^7 \\\\ \\\\\n",
    "\n",
    "        P_{E_1}(x^2) &= 3 + 2x^2 + x^4 - x^6 \\\\\n",
    "        &= 3 + 2x^2 + (x^2)^2 - (x^2)^3 \\\\ \\\\\n",
    "\n",
    "        P_{E_2}(x^4) &= 3 + x^4 \n",
    "\n",
    "    \\end{aligned}$$\n",
    "\n",
    "    - Let's suppose we wish to evaluate $P(x)$ on the same set of points $[-1,1,-2,2]$. Therefore\n",
    "        - $P(x) => [-1,1,-2,2]$\n",
    "        - $P_{E_1}(x^2) => [1, 4]$\n",
    "        - $P_{E_2}(x^4) => [A]$ --> **WHAT SHOULD $A$ BE?** \n",
    "\n",
    "    - We know that we are halving the number of points we evaluate as we go down the recursive stack, which can be achieved by evaluating the sub-polynomials on points that map to 2 values in the stack above\n",
    "        - That is, $P(-2)$ and $P(2)$ both make use of $P_{E_1}(4)$ in their evaluation\n",
    "\n",
    "    - Therefore, by this logic, we need to choose $A$ such that $\\sqrt{A} = 1$ is true, and $\\sqrt{A} = 4$ is also true. Which, of course, is a blatent logical contradiction\n",
    "\n",
    "- So we have a problem. DFT must be called recursively, but we can't seem to find a set of values that will allow us to meet the condition for recursion. How do we solve this contradiction?\n",
    "    - Simple! Instead of using real numbers, we use **complex numbers** instead!\n",
    "        - Let's say we want to evaluate $P(x)$ at $[-1, 1, -i, i]$ instead\n",
    "        - Then, going one level down, we evaluate at $[1, -1]$\n",
    "        - Then, going one more level down, we evaluate at $[1]$\n",
    "        - This lets us do do recursion for a tree of height 3, one more level than before!\n"
   ]
  },
  {
   "cell_type": "markdown",
   "id": "d35a7604",
   "metadata": {},
   "source": [
    "- Generalising this, if we have a tree of arbitrary height $\\log(N)$, on which real or complex values should we evaluate the sub-polynomials?\n",
    "\n",
    "- Turns out, the answer is to evaluate all solutions to the following equation, also known as the **roots of unity**\n",
    "\n",
    "$$\\begin{aligned}\n",
    "    x^n &= 1\n",
    "\\end{aligned}"
   ]
  },
  {
   "cell_type": "markdown",
   "id": "016388d3",
   "metadata": {},
   "source": [
    "### DFT: Why evaluate the polynomials at the roots of unity?"
   ]
  },
  {
   "cell_type": "markdown",
   "id": "5704511c",
   "metadata": {},
   "source": [
    "- There is quite a lot of fundamentals that's needed here, so if you **really** have no time, you can just accept by rote that we choose to evaluate $P(x)$ at points where $x^n = 1$ to ensure that DFT works. But strongly suggest that you work through this, it's worth it"
   ]
  },
  {
   "cell_type": "markdown",
   "id": "7f32fc22",
   "metadata": {},
   "source": [
    "- Let's re-articulate the problem above\n",
    "    - We need to pick $N$ different values of $x$, and for each point evaluate $P(x)$. This will give us the value form of $P(x)$\n",
    "    - We also showed that these values of $x$ cannot be real; they must be complex\n",
    "\n",
    "- Any complex value can be expressed as the sum of its real and complex parts. \n",
    "$$\\begin{aligned}\n",
    "    \\zeta &= a + i b\n",
    "\\end{aligned}$$\n",
    "\n",
    "- And any complex value can be rewritten in polar form, if we imagine the real component being on the x-axis and the imaginary component on the y-axis\n",
    "$$\\begin{aligned}\n",
    "    \\zeta &= a + i b \\\\\n",
    "    &= r (\\cos \\theta + i \\cdot \\sin \\theta) \\\\\n",
    "    &= r e^{i \\theta} \\qquad \\because e^{i \\theta} = \\cos \\theta + i \\cdot \\sin \\theta\n",
    "\\end{aligned}$$\n",
    "\n",
    "- Let $\\omega$ be the v\n",
    "\n",
    "Then, we want to pick $\\zeta$ such that $\\zeta^{\\frac{1}{n}}$ gives us real values\n",
    "$$\\begin{aligned}\n",
    "    \\zeta^{\\frac{1}{n}} &= r^{\\frac{1}{n}} e^{\\frac{i \\theta}{n}}\n",
    "\\end{aligned}$$\n",
    "\n",
    "- Now, in theory, "
   ]
  }
 ],
 "metadata": {
  "kernelspec": {
   "display_name": ".venv",
   "language": "python",
   "name": "python3"
  },
  "language_info": {
   "codemirror_mode": {
    "name": "ipython",
    "version": 3
   },
   "file_extension": ".py",
   "mimetype": "text/x-python",
   "name": "python",
   "nbconvert_exporter": "python",
   "pygments_lexer": "ipython3",
   "version": "3.11.10"
  }
 },
 "nbformat": 4,
 "nbformat_minor": 5
}
