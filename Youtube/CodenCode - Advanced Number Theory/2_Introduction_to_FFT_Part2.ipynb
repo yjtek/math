{
 "cells": [
  {
   "cell_type": "markdown",
   "id": "911c6a9b",
   "metadata": {},
   "source": [
    "## 2. Introduction to Fast Fourier Transform (FFT): Part 2"
   ]
  },
  {
   "cell_type": "markdown",
   "id": "9ee768da",
   "metadata": {},
   "source": [
    "### Introduction"
   ]
  },
  {
   "cell_type": "markdown",
   "id": "cebed26b",
   "metadata": {},
   "source": [
    "- In the previous section, we saw how an arbitrary polynomial of degree $N$ can be represented as either a coefficient or value representation\n",
    "\n",
    "- In this section, we'll expand on these 2 forms, and how they relate to FFT at a high level\n",
    "\n",
    "- We'll also touch on the discrete fourier transform"
   ]
  },
  {
   "cell_type": "markdown",
   "id": "5fae9355",
   "metadata": {},
   "source": [
    "### Polynomial Multiplication in Coefficient vs Value Form"
   ]
  },
  {
   "cell_type": "markdown",
   "id": "0e01f05e",
   "metadata": {},
   "source": [
    "- Let's suppose we have 2 arbitrary polynomials of degree $N$\n",
    "    - $P_1 = 7 + 2x$\n",
    "    - $P_2 = 4 - 3x$\n",
    "\n",
    "- Then, to multiply both together, we need to do 4 multiplications (7*4, 7 * -3x, 2x * 4, 2x * -3x)\n",
    "\n",
    "$$\\begin{aligned}\n",
    "    P_1 \\cdot P_2 &= (7 + 2x) \\cdot (4 - 3x) \\\\\n",
    "    &= 7 (4 - 3x) + 2x (4 - 3x) \\\\\n",
    "    &= 28 - 21x + 8x - 6x^2 \\\\\n",
    "    &= 28 - 13x - 6x^2 \n",
    "\\end{aligned}$$\n",
    "\n",
    "- Therefore, this is done in $N^2$ time"
   ]
  },
  {
   "cell_type": "markdown",
   "id": "8a1fb287",
   "metadata": {},
   "source": [
    "#### In Coefficient Form"
   ]
  },
  {
   "cell_type": "markdown",
   "id": "fd555a6a",
   "metadata": {},
   "source": [
    "- Multiplying out a polynomial in coefficient form is exactly what we showed above, with an $O(N^2)$ time complexity"
   ]
  },
  {
   "cell_type": "code",
   "execution_count": 9,
   "id": "91e0e33e",
   "metadata": {},
   "outputs": [
    {
     "data": {
      "text/plain": [
       "[28, -13, -6]"
      ]
     },
     "execution_count": 9,
     "metadata": {},
     "output_type": "execute_result"
    }
   ],
   "source": [
    "p1_coefficient_form = [7, 2]\n",
    "p2_coefficient_form = [4, -3]\n",
    "ans_coefs = [0]*(len(p1_coefficient_form) + len(p2_coefficient_form) - 1)\n",
    "\n",
    "X = 1\n",
    "for exp1, c1 in enumerate(p1_coefficient_form):\n",
    "    for exp2, c2 in enumerate(p2_coefficient_form):\n",
    "        index = exp1 + exp2\n",
    "        ans_coefs[index] += c1 * c2\n",
    "ans_coefs"
   ]
  },
  {
   "cell_type": "markdown",
   "id": "530a8fba",
   "metadata": {},
   "source": [
    "#### In Value Form"
   ]
  },
  {
   "cell_type": "markdown",
   "id": "5024acfe",
   "metadata": {},
   "source": [
    "- In value form representation, however, multiplying out 2 polynomials actually takes $O(N)$ time!\n",
    "- This, of course, comes with the caveat that we have not yet discussed how to recover the form of the polynomial"
   ]
  },
  {
   "cell_type": "code",
   "execution_count": 12,
   "id": "aad21008",
   "metadata": {},
   "outputs": [
    {
     "data": {
      "text/plain": [
       "[(-1, 35), (0, 28), (1, 9)]"
      ]
     },
     "execution_count": 12,
     "metadata": {},
     "output_type": "execute_result"
    }
   ],
   "source": [
    "p1_value_form = [\n",
    "    (-1, 5), # At x=-1, p1(-1) = 7 + -2 = 5\n",
    "    (0, 7), # At x=0, p1(0) = 7 + 2x = 7\n",
    "    (1, 9) # At x=1, p1(1) = 7 + 2x = 9\n",
    "]\n",
    "\n",
    "p2_value_form = [\n",
    "    (-1, 7), # At x=-1, p2(-1) = 4 - (-3) = 7\n",
    "    (0, 4), # At x=0, p2(0) = 4 - 0 = 4\n",
    "    (1, 1) # At x=1, p2(1) = 4 - 3 = 1\n",
    "]\n",
    "\n",
    "ans_value_form = [\n",
    "    (x[0], x[1]*y[1]) for x,y in zip(p1_value_form, p2_value_form)    \n",
    "]\n",
    "\n",
    "ans_value_form ## You can validate this by plugging in -1, 0, and 1 into the multiplied polynomial"
   ]
  },
  {
   "cell_type": "markdown",
   "id": "dc8e194f",
   "metadata": {},
   "source": [
    "### FFT: High Level Idea"
   ]
  },
  {
   "cell_type": "markdown",
   "id": "8d352f91",
   "metadata": {},
   "source": [
    "- As we've seen, it is MUCH cheaper to multiply a polynomial in value form $O(N)$ compared to coefficient form $O(N^2)$\n",
    "\n",
    "- Therefore, if there were a way to cheaply convert a polynomial from coefficient to value form, perform multiplication, then convert it back to coefficient form, we could benefit from the linear time multiplication without losing too much from the conversion!\n",
    "\n",
    "- This method of converting to and from coefficient and value form is exactly the starting point of **FFT**\n",
    "    - FFT transforms polynomials from coefficient to value form\n",
    "    - Multiplies the polynomials in value form\n",
    "    - Then transforms it back to coefficient form"
   ]
  },
  {
   "cell_type": "markdown",
   "id": "1ce0837b",
   "metadata": {},
   "source": [
    "### Transform Between Coefficient and Value Form: Discrete Fourier Transform (DFT)"
   ]
  },
  {
   "cell_type": "markdown",
   "id": "b591f41a",
   "metadata": {},
   "source": [
    "- So how do we convert between coefficient and value form?\n",
    "    - Coefficient --> Value: Discrete Fourier Transform (DFT)\n",
    "    - Value --> Coefficient: Inverse Discrete Fourier Transform (Inverse DFT)\n",
    "\n",
    "- And as it turns out, the transformation between coefficient and value form only takes $O(N \\log N)$ time, which makes FFT significantly faster than the $O(N^2)$ of the naive approach"
   ]
  },
  {
   "cell_type": "markdown",
   "id": "6240c8e5",
   "metadata": {},
   "source": [
    "- As discussed, DFT converts coefficient form of a polynomial to value form. That is, DFT evaluates the polynomial on some specific points.\n",
    "\n",
    "- But which points should we use? Turns out, not every point in a polynomial gives us equal information\n",
    "\n",
    "- We'll talk about how DFT works in the upcoming sections"
   ]
  }
 ],
 "metadata": {
  "kernelspec": {
   "display_name": ".venv",
   "language": "python",
   "name": "python3"
  },
  "language_info": {
   "codemirror_mode": {
    "name": "ipython",
    "version": 3
   },
   "file_extension": ".py",
   "mimetype": "text/x-python",
   "name": "python",
   "nbconvert_exporter": "python",
   "pygments_lexer": "ipython3",
   "version": "3.11.10"
  }
 },
 "nbformat": 4,
 "nbformat_minor": 5
}
