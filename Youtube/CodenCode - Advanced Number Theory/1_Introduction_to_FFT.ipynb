{
 "cells": [
  {
   "cell_type": "markdown",
   "id": "911c6a9b",
   "metadata": {},
   "source": [
    "## 1. Introduction to Fast Fourier Transform (FFT)"
   ]
  },
  {
   "cell_type": "markdown",
   "id": "9ee768da",
   "metadata": {},
   "source": [
    "### Introduction"
   ]
  },
  {
   "cell_type": "markdown",
   "id": "cebed26b",
   "metadata": {},
   "source": [
    "- What is FFT?\n",
    "    - An algorithm that lets you multiply 2 polynomials of degree $N$ in $O(N \\log N)$ time, compared to the brute force way which takes $O(N^2)$\n",
    "    \n",
    "- How does it work? Big picture: it uses complex numbers to make the multiplication faster \n",
    "    - See \"Roots of Unity\""
   ]
  },
  {
   "cell_type": "markdown",
   "id": "5fae9355",
   "metadata": {},
   "source": [
    "### Polynomial Representation"
   ]
  },
  {
   "cell_type": "markdown",
   "id": "0e01f05e",
   "metadata": {},
   "source": [
    "- Imagine we have a polynomial of degree $N$. Let's call this $P(x) = p_0 + p_1 \\cdot x + p_2 \\cdot x^2 + ... p_n \\cdot x^n$\n",
    "\n",
    "- A polynomial can be represented in computer memory in 2 forms; coefficient representation, and value representation\n",
    "    - Coefficient Represetation: As the name suggests, just store the coefficients. For polynomial of degree $N$, we store $N+1$ coefficients\n",
    "\n",
    "    - Value Representation: Store the values at specific points of the polynomial. For a polynomial of degree $N$, we store $N+1$ different points, and the value of $P(x)$ evaluated at each of the $N+1$ points\n",
    "        - Why do we need $N+1$ points? Because a polynomial of degree $N$ must have $N+1$ unknowns (i.e. $x^0, x^1, ... x^n$). So to solve for $N+1$ unknowns, we need $N+1$ equations\n",
    "\n",
    "- Both these representations have their pros and cons\n",
    "    - Coefficient Represetation: Easy to restore the original polynomial, but harder to do polynomial multiplication\n",
    "    - Value Representation: Super easy to do polynomial multiplication, but hard to reconstruct the original polynomial\n",
    "\n",
    "- Example: $P(x) = 3 - 5x + 7x^3$\n",
    "    - Coefficient representation: $[3, -5, 0, 7]$\n",
    "    - Value representation: $[(0, 3), (1, 5), (-1, 1), (2, 49)]$"
   ]
  }
 ],
 "metadata": {
  "language_info": {
   "name": "python"
  }
 },
 "nbformat": 4,
 "nbformat_minor": 5
}
