{
 "cells": [
  {
   "cell_type": "markdown",
   "metadata": {},
   "source": [
    "### Sieve of Eratosthenes"
   ]
  },
  {
   "cell_type": "markdown",
   "metadata": {},
   "source": [
    "- We previously saw how we can check the primality of a number\n",
    "- Now imagine we are given a large number of numbers to check (say 100 million numbers). Obviously, we don't want to call `is_prime()` 100 million times. This is where the sieve comes in handy\n",
    "\n",
    "- The idea behind the sieve is simple. Imagine a set of numbers $\\{1, 2, ... 50 \\}$\n",
    "    - Starting from 2 (which is prime), we multiply 2 by all integers up and terminate when $2 * x > 50$. For each value of the multiplication, we mark the number as non-prime.\n",
    "    - Next, we find that 3 is prime (since it has not yet been marked as non-prime), and do the same thing.\n",
    "        - Notice that we only need to start marking numbers as non-prime from $3^2$. This is because all multiples of 3 less than $3^2$ (i.e. 3*2) are already marked as non-prime!\n",
    "    - 4 is non-prime (already marked by 2*2), so we skip.\n",
    "    - Once we reach a value $x$ where $x^2$ exceeds 50, we can terminate the loop\n",
    "\n",
    "- Time complexity\n",
    "    - The time complexity of the Eratosthenes sieve is somewhat tricky to calculate\n",
    "    - We first highlight that, at number 2, we need to loop over $\\frac{N}{2}$ other numbers\n",
    "    - Then for number 3, we need to loop over $\\frac{N}{3}$\n",
    "    - Then for prime number $i$, we need to loop over $\\frac{N}{i}$ numbers\n",
    "    - As $N$ gets very large, we will loop over $\\frac{N}{2} + \\frac{N}{3} + \\frac{N}{5} + ... = N * [\\frac{1}{2} + \\frac{1}{3} + ...]$\n",
    "\n",
    "    - It has been proven (https://en.wikipedia.org/wiki/Divergence_of_the_sum_of_the_reciprocals_of_the_primes) that the sum of prime reciprocals up to some prime $i$ is bounded by $\\log \\log(n)$\n",
    "\n",
    "    - Therefore, the limit of this goes to $O(N \\cdot \\log \\log(n))$"
   ]
  },
  {
   "cell_type": "code",
   "execution_count": 1,
   "metadata": {},
   "outputs": [
    {
     "data": {
      "text/plain": [
       "array([ 2,  3,  5,  7, 11, 13, 17, 19, 23, 29, 31, 37, 41, 43, 47])"
      ]
     },
     "execution_count": 1,
     "metadata": {},
     "output_type": "execute_result"
    }
   ],
   "source": [
    "import numpy as np\n",
    "\n",
    "def sieve_of_eratosthenes(largest_number: int) -> np.array:\n",
    "    '''\n",
    "    Time complexity: O(N log log(N)), by sum of prime reciprocals\n",
    "    '''\n",
    "    is_prime = [True] * (largest_number+1)\n",
    "    is_prime[0] = False\n",
    "    is_prime[1] = False\n",
    "\n",
    "    for num in range(2, largest_number):\n",
    "        if is_prime[num]:\n",
    "            ## Note that we start from n**2 instead of num. This is because, for any given prime number, the intermediate multiples involving smaller values must already have been acounted for in the earlier part of the loop. For example, if we want to sieve out multiples of 5, there is no reason to look at 5*2 and 5*3, because it will already have been resolved in earlier loops involving the 2 and 3 primes. 5*4 is also done, because 5*4 = 5*2*2 = 2*10, which was resolved in the 2 loop\n",
    "            for num_multiple in np.arange(num**2, largest_number+1, num):\n",
    "                is_prime[num_multiple] = False\n",
    "                \n",
    "    return np.where(is_prime)[0]\n",
    "    \n",
    "sieve_of_eratosthenes(50)"
   ]
  },
  {
   "cell_type": "markdown",
   "metadata": {},
   "source": [
    "### Find the N-th prime"
   ]
  },
  {
   "cell_type": "markdown",
   "metadata": {},
   "source": [
    "- Assume N takes on a maximum of 1 million\n",
    "- The first 1 million primes are within the first 20million numbers"
   ]
  },
  {
   "cell_type": "code",
   "execution_count": 22,
   "metadata": {},
   "outputs": [
    {
     "data": {
      "text/plain": [
       "1987"
      ]
     },
     "execution_count": 22,
     "metadata": {},
     "output_type": "execute_result"
    }
   ],
   "source": [
    "def find_nth_prime(n: int) -> int:\n",
    "    lim = 20_000_000\n",
    "    is_prime = np.ones(lim+1)\n",
    "    is_prime[0], is_prime[1] = 0, 0\n",
    "    \n",
    "    for num in range(2, n):\n",
    "        if is_prime[num]:\n",
    "            is_prime[num**2 : lim+1 : num] = 0\n",
    "    \n",
    "    # primes = np.where(is_prime)[0]\n",
    "    primes = np.flatnonzero(is_prime)\n",
    "    return primes[n-1]\n",
    "\n",
    "find_nth_prime(300)"
   ]
  }
 ],
 "metadata": {
  "kernelspec": {
   "display_name": ".venv",
   "language": "python",
   "name": "python3"
  },
  "language_info": {
   "codemirror_mode": {
    "name": "ipython",
    "version": 3
   },
   "file_extension": ".py",
   "mimetype": "text/x-python",
   "name": "python",
   "nbconvert_exporter": "python",
   "pygments_lexer": "ipython3",
   "version": "3.11.10"
  }
 },
 "nbformat": 4,
 "nbformat_minor": 2
}
