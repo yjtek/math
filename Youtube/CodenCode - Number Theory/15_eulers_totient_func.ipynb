{
 "cells": [
  {
   "cell_type": "markdown",
   "metadata": {},
   "source": [
    "### Euler's Totient Function (ETF)"
   ]
  },
  {
   "cell_type": "markdown",
   "metadata": {},
   "source": [
    "- Euler's Totient Function (ETF) counts the number of positive integers up to $N$ which are co-prime with $N$\n",
    "    - Notation wise, let's call this $\\phi(N)$\n",
    "    - Example: $\\phi(5) = 4$ --> 1, 2, 3, 4 are co-prime with 5\n",
    "    - Example: $\\phi(10) = 4$ --> 1,3,7,9 are co-prime with 10\n",
    "\n",
    "- Again, a brute force method is simply to find the gcd between $N$ and all numbers between $1$ and $N-1$. Is there a better way?\n",
    "    - Recall that you can compute `gcd()` of two numbers using the Euclidean algorithm i.e. $\\text{gcd}(a,b) = \\text{gcd}(b \\mod a, a)$\n",
    "    - Time complexity: We need $O(N)$ time to loop over all numbers between 1 and $N-1$, and Euclidean algorithm will run in $O(\\log(\\min(a,b)))$.\n",
    "        - Why? Because $a \\mod b$ at least halves the value of the larger of a and b at each step, if not more. \n",
    "        - Why? Because a % b cannot have a larger remainder than half the value of $a$, i.e. 10 mod 5 = 5, 10 mod 6 = 10 mod 4 = 4 etc.\n",
    "    - This gives an overall time complexity of $O(N \\log(\\min(a,b)))$"
   ]
  },
  {
   "cell_type": "markdown",
   "metadata": {},
   "source": [
    "### Primes and Totient Function"
   ]
  },
  {
   "cell_type": "markdown",
   "metadata": {},
   "source": [
    "- Notice a pattern in the totient function with prime numbers\n",
    "    - $\\phi(2) = 1$\n",
    "    - $\\phi(3) = 2$\n",
    "    - $\\phi(5) = 4$\n",
    "    - $\\phi(7) = 6$\n",
    "    - $\\phi(11) = 10$\n",
    "\n",
    "    - In general, for any prime number $P$, ETF returns $\\phi(P) = P-1$\n",
    "        - This is obvious if you think about it. All numbers smaller than any prime number $P$ must be co-prime with it, or P won't be a prime\n",
    "\n",
    "- What about $\\phi(P^x)$\n",
    "    - Example: $\\phi(2^5) = \\phi(32) = 16$\n",
    "    - Example: $\\phi(3^5) = \\phi(243) = 162$\n",
    "    - Example: $\\phi(5^5) = \\phi(3125) = 2500$\n",
    "\n",
    "    - There doesn't seem to be an obvious pattern, but we can actually figure it out logically:\n",
    "        - Of all numbers up to $P^x - 1$, those that are not coprime with $P^x$ are exactly the set of numbers that are not coprime with $P$\n",
    "            - Why? Because $P^x$ only contains $P$ as a prime factor!\n",
    "            - So there is no need to consider any other prime factors besides $P$\n",
    "        - Of the $P^x - 1$ numbers, how many are not coprime with $P$? That is the same as asking, how many multiples of $P$ are there ins $P^x - 1$?\n",
    "            - This is simply $\\lfloor \\frac{P^x - 1}{P} \\rfloor$ \n",
    "            - e.g. Between 1 and 100, how many multiples of 3 are there? 100//3 = 33\n",
    "        - So the total count of numbers that are co-prime with $P^x$ is simply $$\\phi(P^x) = P^x - 1 - \\lfloor \\frac{P^x - 1}{P} \\rfloor$$\n",
    "        - More elegantly, let's suppose we consider numbers including $P^x$\n",
    "            - Then we know that there are $P^x$ total numbers, minus $\\frac{P^x}{P}$ multiples of $P$\n",
    "            - Therefore $$\\phi(P^x) = P^x - P^{x-1}$$\n",
    "            - This works because the extra term $P^x$ that we included must also be a multiple of $P$, and so it gets subtracted as well.\n"
   ]
  },
  {
   "cell_type": "markdown",
   "metadata": {},
   "source": [
    "### Generalising Euler's Totient Function"
   ]
  },
  {
   "cell_type": "markdown",
   "metadata": {},
   "source": [
    "- We saw how we can compute Euler's totient function for primes. Let's derive a general function that can be applied for both primes and non-primes!\n",
    "\n",
    "- Let's start with definitions\n",
    "    - An arithmetic function $f(x)$ is multiplicative if $f(N*M) = f(N) * f(M)$ where $\\text{gcd}(N,M) = 1$\n",
    "    - And it can be shown that Euler's Totient function is multiplicative!! Let's just take this as a given without proof\n",
    "\n",
    "- Let $f(x)$ be multiplicative function, and $N = P_1^{x_1} * P_2^{x_2} * ... P_k^{x_k}$\n",
    "    - Then, it must be true that $f(N) = f(P_1^{x_1} * P_2^{x_2} * ... P_k^{x_k}) = f(P_1^{x_1}) + ... f(P_k)^{x_k}$\n",
    "\n",
    "- We've already seen this applied in section 13 when counting total divisors!\n",
    "    - Let the total divisors of some number $N$ be $d(N)$\n",
    "    - Rewrite $N$ as a product of its prime divisors; $N = P_1^{x_1} * P_2^{x_2} * ...$\n",
    "    - Since divisor count is multiplicative, $d(N) = d(P_1^{x_1} * P_2^{x_2} * ...) = d(P_1^{x_1}) * d(P_2^{x_2}) = (x_1+1)(x_2+2)...$"
   ]
  },
  {
   "cell_type": "markdown",
   "metadata": {},
   "source": [
    "- So in the case of Euler's Totient Function\n",
    "$$\\begin{aligned}\n",
    "    N &= P_1^{x_1} * P_2^{x_2} * ... P_k^{x_k} \\\\\n",
    "    \\phi(P^x) &= P^{x} - P^{x-1} & \\text{shown previously} \\\\ \\\\\n",
    "    \\therefore \\phi(N) &= \\phi(P_1^{x_1} * P_2^{x_2} * ... P_k^{x_k}) \\\\\n",
    "    &= \\phi(P_1^{x_1}) * \\phi(P_2^{x_2}) ... \\\\\n",
    "    &= (P_1^{x_1} - P_1^{x_1 - 1}) * (P_2^{x_2} - P_2^{x_2 - 1}) ...\n",
    "\\end{aligned}$$\n",
    "\n",
    "- Let's think through the time complexity of this approach:\n",
    "    - First, for a given $N$, we must find the prime factorisation of $N$, which takes $O(\\log(N))$ time [see section 5 on prime factorisation with Eratosthenes Sieve]\n",
    "    - We know that a value $N$ cannot have more than $\\log(N)$ primes (worst case, because the smallest prime is 2, so $N$ must at least halve in value for each prime)\n",
    "    - For each of the $\\log(N)$ primes, we need to take the exponent, which again takes $\\log(x_i)$ time \n",
    "    - This gives us a total of $\\log(N) + \\log(N) * \\log(x_i)$ time\n",
    "\n",
    "- But notice that you can write $N$ in a more intelligent way! We multiply each term by $1 = \\frac{P_i^{x_i}}{P_i^{x_i}}$ term:\n",
    "    - Why is this better? Because you completely skip the step needed for exponentiation! \n",
    "$$\\begin{aligned}\n",
    "    N &= (P_1^{x_1} - P_1^{x_1 - 1}) * (P_2^{x_2} - P_2^{x_2 - 1}) ... \\\\\n",
    "    &= \\frac{P_1^{x_1}}{P_1^{x_1}} \\cdot (P_1^{x_1} - P_1^{x_1 - 1}) * \\frac{P_2^{x_2}}{P_2^{x_2}} \\cdot (P_2^{x_2} - P_2^{x_2 - 1}) ... \\\\\n",
    "    &= N \\cdot (\\frac{P_1 - 1}{P_1}) \\cdot (\\frac{P_2 - 1}{P_2}) ... & \\text{Collecting terms into N} \n",
    "\\end{aligned}$$\n"
   ]
  },
  {
   "cell_type": "markdown",
   "metadata": {},
   "source": [
    "### Implementation!"
   ]
  },
  {
   "cell_type": "markdown",
   "metadata": {},
   "source": [
    "- We've already explored how to implement prime factorisation using sieve. We'll implement 2 versions here; with the sieve, and without"
   ]
  },
  {
   "cell_type": "code",
   "execution_count": 90,
   "metadata": {},
   "outputs": [
    {
     "name": "stdout",
     "output_type": "stream",
     "text": [
      "72.0\n",
      "72.0\n"
     ]
    }
   ],
   "source": [
    "import numpy as np\n",
    "from collections import Counter\n",
    "\n",
    "n = 100\n",
    "\n",
    "def get_sieve(n):\n",
    "    smallest_prime_factors = [-1] * (n+1)\n",
    "    smallest_prime_factors[0], smallest_prime_factors[1] = 0, 1\n",
    "    for i in range(2, n+1):\n",
    "        if smallest_prime_factors[i] == -1:\n",
    "            # smallest_prime_factors[i**2: n+1: i] = np.where(smallest_prime_factors[i**2: n+1: i] == -1, int(i), smallest_prime_factors[i**2: n+1: i])\n",
    "            smallest_prime_factors[i**2: n+1: i] = [int(i)] * len(smallest_prime_factors[i**2: n+1: i])\n",
    "    return smallest_prime_factors\n",
    "\n",
    "sieve = get_sieve(n)\n",
    "# print(sieve)\n",
    "\n",
    "def get_prime_factors(n):\n",
    "    prime_factors = []\n",
    "    while n != 1:\n",
    "        curr_smallest_prime = sieve[n]\n",
    "        if curr_smallest_prime == -1:\n",
    "            prime_factors.append(int(n))\n",
    "            n = 1\n",
    "            continue\n",
    "        prime_factors.append(curr_smallest_prime)\n",
    "        n = int(n/curr_smallest_prime)\n",
    "    return prime_factors\n",
    "    \n",
    "def eulers_totient_function_brute_force(n):\n",
    "    '''\n",
    "    Time complexity: O(sqrt(N)), because we are looping from 1 to sqrt(N) to check for prime factors\n",
    "    '''\n",
    "    result = n\n",
    "    for factor in range(2, (int(n**0.5 // 1)+1)):\n",
    "\n",
    "        ## if factor divides n, it must be a prime factor\n",
    "        ## How do we know factor is a prime?\n",
    "        ## It must be prime, because we are looping upwards from 2, and exhausting all earlier numbers as divisors.\n",
    "        ## So for a value `factor` to divide n, it must cannot divide any of the earlier numbers, i.e. `factor` is prime\n",
    "        if n % factor == 0:\n",
    "            result = result * (factor - 1)\n",
    "            result = result / factor\n",
    "        \n",
    "            while n % factor == 0:\n",
    "                n = n/factor\n",
    "    \n",
    "    ## Remember, you want to find all prime factors. There is no guarantee that a prime factor must be less than sqrt(N). \n",
    "    ## But it must be true that any number leftover from the division must itself be prime factor\n",
    "    ## Therefore, we multiply this remainder to the result if applicable\n",
    "    if n > 1:\n",
    "        result = result * (n-1) / n\n",
    "    return result\n",
    "\n",
    "def eulers_totient_function_with_sieve(n):\n",
    "    '''\n",
    "    Time complexity: O(N log log(N)), thanks to the sieve method of prime factorisation\n",
    "    '''\n",
    "    prime_factors = set(get_prime_factors(n))\n",
    "    result = n\n",
    "    for p in prime_factors:\n",
    "        result = result * ((p-1)/p)\n",
    "    return result\n",
    "\n",
    "print(eulers_totient_function_brute_force(91))\n",
    "print(eulers_totient_function_with_sieve(91))"
   ]
  }
 ],
 "metadata": {
  "kernelspec": {
   "display_name": "kaggle",
   "language": "python",
   "name": "python3"
  },
  "language_info": {
   "codemirror_mode": {
    "name": "ipython",
    "version": 3
   },
   "file_extension": ".py",
   "mimetype": "text/x-python",
   "name": "python",
   "nbconvert_exporter": "python",
   "pygments_lexer": "ipython3",
   "version": "3.10.4"
  }
 },
 "nbformat": 4,
 "nbformat_minor": 2
}
