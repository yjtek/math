{
 "cells": [
  {
   "cell_type": "markdown",
   "metadata": {},
   "source": [
    "### Modulo Arithmetic"
   ]
  },
  {
   "cell_type": "markdown",
   "metadata": {},
   "source": [
    "- Modulo congruence\n",
    "    - $A$ and $B$ are congruent under $\\mod M$ if $A \\mod M = B \\mod M$; i.e. $A \\equiv B (\\mod M)$\n",
    "    - $(A+B) \\mod M = (A \\mod M + B \\mod M) \\mod M$\n",
    "        - See section 8 for proof\n",
    "    - If $A \\equiv B (\\mod M)$, then $A-B \\equiv A \\equiv B \\equiv A \\mod B (\\mod M)$\n",
    "        - See section 8 for proof\n",
    "    - If $A*B = C$, then $(A \\mod M) * (B \\mod M) \\equiv C \\mod M$\n",
    "        - See section 8 for proof\n",
    "    - If $A \\equiv B (\\mod M)$ then $A^k \\equiv B^k (\\mod M)$\n",
    "        - Write $A = xM + r_1$, and $B = yM + r_2$\n",
    "        - Since $A \\equiv B (\\mod M)$, $r_1 = r_2$\n",
    "        - By binomial theorem, $A^k = \\sum \\binom{n}{k} (xM)^k \\cdot r^{n-k}$\n",
    "        - For all values of $k \\neq 0$, the terms inthe summation will be divisible by $M$\n",
    "        - So the only term that may not be divisible by $k$ is $r^{n}$\n",
    "        - But this is common for both A and B, thus proving the identity above"
   ]
  },
  {
   "cell_type": "markdown",
   "metadata": {},
   "source": [
    "### Exercise: Find last digit"
   ]
  },
  {
   "cell_type": "markdown",
   "metadata": {},
   "source": [
    "- Can we find the last digit of a long multiplication without actually doing the full mutliplication?\n",
    "    - e.g. Find the last digit of 2573 * 34268\n",
    "\n",
    "- Notice 2 things\n",
    "    - The last digit of any number is just the number modulo 10\n",
    "        - Last 2 digits is number modulo 100 etc.\n",
    "    - Recall that $(A*B) \\mod M = (A \\mod M * B \\mod M) \\mod M$"
   ]
  },
  {
   "cell_type": "code",
   "execution_count": 3,
   "metadata": {},
   "outputs": [
    {
     "data": {
      "text/plain": [
       "4"
      ]
     },
     "execution_count": 3,
     "metadata": {},
     "output_type": "execute_result"
    }
   ],
   "source": [
    "def get_last_digit_product(A, B):\n",
    "    return ((A % 10) * (B % 10)) % 10\n",
    "\n",
    "get_last_digit_product(2573, 34268)"
   ]
  },
  {
   "cell_type": "markdown",
   "metadata": {},
   "source": [
    "### Exercise: Modulo of sum"
   ]
  },
  {
   "cell_type": "markdown",
   "metadata": {},
   "source": [
    "- $(1928 + 3974+ 0385 + 1937 + 21936) \\mod 24$?\n",
    "- Simply, take modulo for each individual term and add!!"
   ]
  },
  {
   "cell_type": "markdown",
   "metadata": {},
   "source": [
    "### Exercise: Divisibility by 9 and 3"
   ]
  },
  {
   "cell_type": "markdown",
   "metadata": {},
   "source": [
    "- There is a neat trick when testing whether a number is divisible by 9 or 3; sum all the digits in the number; if the sum is divisible by 9 or 3, the whole number is divisible by 9 or 3\n",
    "    - Why does this work?\n",
    "    - Let some number $A = abcd = a * 10^3 + b * 10^2 + c * 10^1 + d * 10^0$\n",
    "    - Thereby\n",
    "    $$\\begin{aligned}\n",
    "        A \\mod 3 &= (a * 10^3) \\mod 3 + (b * 10^2) \\mod 3 + (c * 10^1) \\mod 3 + (d * 10^0) \\mod 3 \\\\\n",
    "        &= (a \\mod 3 * 10^3 \\mod 3) \\mod 3 + (b \\mod 3 * 10^2 \\mod 3) \\mod 3 + (c \\mod 3 * 10^1 \\mod 3) \\mod 3 + (d \\mod 3 * 10^0 \\mod 3) \\mod 3 \\\\\n",
    "        &= (a \\mod 3) \\mod 3 + (b \\mod 3) \\mod 3 + (c \\mod 3) \\mod 3 + (4 \\mod 3) \\mod 3 \\\\\n",
    "        &= (a \\mod 3) + (b \\mod 3) + (c \\mod 3) + (d \\mod 3) \\\\\n",
    "        &= (a + b + c + d) \\mod 3\n",
    "    \\end{aligned}$$\n",
    "    \n",
    "    - This only works for 3 and 9, because $10^k \\mod 3 = 10^k \\mod 9 \\ = 1$ for all values of $k$\n",
    "\n",
    "- There is another way to prove this that is actually quite elegant\n",
    "    - $$\\begin{aligned}\n",
    "            A &= abcd \\\\\n",
    "            &= a * 10^3 + b * 10^2 + c * 10^1 + d * 10^0 \\\\\n",
    "            &= a * (10^3 - 1) + b * (10^2 - 1) + c * (10^1 - 1) + d * (10^0 - 1) + (a+b+c+d) \\\\\n",
    "            &= a * (9999) + b * (999) + c * (99) + d * (9) + (a+b+c+d) \n",
    "        \\end{aligned}$$\n",
    "    \n",
    "    - Each of the 9999/999/99/9 terms must be divisible by 3 and 9\n",
    "        - So for $A$ to be divisible by 3 and/or 9, $a+b+c+d$ must be divisible by 3 and/or 9\n",
    "    \n",
    "\n"
   ]
  },
  {
   "cell_type": "markdown",
   "metadata": {},
   "source": [
    "### Exercise: Modulo of large exponentials"
   ]
  },
  {
   "cell_type": "markdown",
   "metadata": {},
   "source": [
    "- Find $29^{10} \\mod 3$\n",
    "    - Notice that $29 \\equiv 2 (\\mod 3)$\n",
    "    - So $29^{10} \\equiv 2^{10} (\\mod 3)$\n",
    "    - $\\therefore 2^{10} = 1024 \\mod 3 = 1$"
   ]
  },
  {
   "cell_type": "markdown",
   "metadata": {},
   "source": [
    "- Find $2^{123456789} \\mod 7$\n",
    "    - $2^{123456789} \\mod 7 = (2^3)^{41152263} = (8)^{41152263}$\n",
    "    - $8 \\mod 7 = 1$\n",
    "    - Therefore, $(8)^{41152263} \\mod 7 = (8 \\mod 7)^{41152263} \\mod 7 = 1$"
   ]
  },
  {
   "cell_type": "markdown",
   "metadata": {},
   "source": [
    "### Exercise: Arpa's Hard Exam"
   ]
  },
  {
   "cell_type": "markdown",
   "metadata": {},
   "source": [
    "- https://codeforces.com/problemset/problem/742/A\n",
    "- Mehrdad wants to become minister of Arpa’s land. Arpa has prepared an exam. Exam has only one question, given n, print the last digit of 1378n\n",
    "\n",
    "- Recall that $A*B \\mod M = (A \\mod M * B \\mod M) \\mod M$"
   ]
  },
  {
   "cell_type": "code",
   "execution_count": 7,
   "metadata": {},
   "outputs": [
    {
     "data": {
      "text/plain": [
       "1898884"
      ]
     },
     "execution_count": 7,
     "metadata": {},
     "output_type": "execute_result"
    }
   ],
   "source": [
    "1378 ** 2"
   ]
  },
  {
   "cell_type": "code",
   "execution_count": 17,
   "metadata": {},
   "outputs": [
    {
     "data": {
      "text/plain": [
       "4"
      ]
     },
     "execution_count": 17,
     "metadata": {},
     "output_type": "execute_result"
    }
   ],
   "source": [
    "def get_last_digit_1378_exponent_n(n: int) -> int:\n",
    "    digit = 1378 % 10\n",
    "    result = 1\n",
    "\n",
    "    while n > 0:\n",
    "        if n % 2 == 1:\n",
    "            n -= 1\n",
    "            result = (result * digit) % 10\n",
    "        \n",
    "        digit = (digit * digit) % 10\n",
    "        n //= 2\n",
    "    return result\n",
    "\n",
    "get_last_digit_1378_exponent_n(2)"
   ]
  }
 ],
 "metadata": {
  "kernelspec": {
   "display_name": "kaggle",
   "language": "python",
   "name": "python3"
  },
  "language_info": {
   "codemirror_mode": {
    "name": "ipython",
    "version": 3
   },
   "file_extension": ".py",
   "mimetype": "text/x-python",
   "name": "python",
   "nbconvert_exporter": "python",
   "pygments_lexer": "ipython3",
   "version": "3.10.4"
  }
 },
 "nbformat": 4,
 "nbformat_minor": 2
}
