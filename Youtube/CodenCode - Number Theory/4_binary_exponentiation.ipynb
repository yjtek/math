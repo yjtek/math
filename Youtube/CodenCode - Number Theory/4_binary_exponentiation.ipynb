{
 "cells": [
  {
   "cell_type": "markdown",
   "metadata": {},
   "source": [
    "### Binary Exponentiation"
   ]
  },
  {
   "cell_type": "markdown",
   "metadata": {},
   "source": [
    "- Imagine we are asked to compute $a^n$\n",
    "\n",
    "- Of course, in the usual brute force approach, we need to run a loop n times"
   ]
  },
  {
   "cell_type": "code",
   "execution_count": 5,
   "metadata": {},
   "outputs": [
    {
     "data": {
      "text/plain": [
       "8192"
      ]
     },
     "execution_count": 5,
     "metadata": {},
     "output_type": "execute_result"
    }
   ],
   "source": [
    "def binary_exponentiation_naive(base: int, exponent: int) -> int:\n",
    "    '''\n",
    "    Time complexity: O(N), where N is the value of the exponent\n",
    "    '''\n",
    "    retval = 1\n",
    "    for i in range(exponent):\n",
    "        retval *= base\n",
    "    return retval\n",
    "\n",
    "binary_exponentiation_naive(2, 13)"
   ]
  },
  {
   "cell_type": "markdown",
   "metadata": {},
   "source": [
    "- Notice that most of the time comes from the loop! So we want to rewrite the exponentiation such that the loop is minimised. \n",
    "    - Imagine we want to do exponentiation of $2^{13}$. Rules:\n",
    "        - Whenever exponent is odd, multiply the `result` by the base, and subtract one from the exponent \n",
    "        - Whenever exponent is even, square the base, and halve the power \n",
    "        - Keep going until power reaches 0 \n",
    "\n",
    "    - Example: Recall that 2^13 previously took 13 steps (because it loops 13 times). Now, we simply take 7 steps!  \n",
    "        - result = 1; base = 2; power = 13\n",
    "        - result = 2; base = 2; power = 12\n",
    "        - result = 2; base = 4; power = 6\n",
    "        - result = 2; base = 16; power = 3\n",
    "        - result = 32; base = 16; power = 2\n",
    "        - result = 32; base = 256; power = 1\n",
    "        - result = 8192; base = 256; power = 0\n",
    "\n",
    "    - Time complexity:\n",
    "        - Let the exponent be $N$\n",
    "        - We reduce the exponent by half every step, so we have complexity of $O(\\log_2(N))$"
   ]
  },
  {
   "cell_type": "code",
   "execution_count": 4,
   "metadata": {},
   "outputs": [
    {
     "data": {
      "text/plain": [
       "8192"
      ]
     },
     "execution_count": 4,
     "metadata": {},
     "output_type": "execute_result"
    }
   ],
   "source": [
    "def binary_exponentiation(base: int, exponent: int) -> int:\n",
    "    '''\n",
    "    Time complexity: O(log(N)) due to halving of exponent every step\n",
    "    '''\n",
    "    result = 1\n",
    "\n",
    "    while exponent > 0:\n",
    "        if exponent % 2 == 1:\n",
    "            result *= base\n",
    "        \n",
    "        exponent = exponent // 2\n",
    "        base *= base\n",
    "    \n",
    "    return result\n",
    "\n",
    "binary_exponentiation(2, 13)"
   ]
  },
  {
   "cell_type": "markdown",
   "metadata": {},
   "source": [
    "### Extension: Modular Exponentiation"
   ]
  },
  {
   "cell_type": "markdown",
   "metadata": {},
   "source": [
    "- A simple extension of this exponentiation is when we wish to take the mod of the exponentiation; $A^B \\mod C$\n",
    "    - $A^B \\mod C = (A \\mod C)^B \\mod C$\n",
    "        - Write $A$ as some multiple of $C$ plus a remainder $r$; $A = x \\cdot C + r$\n",
    "        - Then $A^2 =  x^2 \\cdot C^2 + 2 \\cdot r \\cdot x \\cdot C + r^2$\n",
    "        - Taking modulo of C, notice that the first 2 terms of $A^2$ are guaranteed to be divisible by $C$\n",
    "        - Then $A^2 \\mod C = r^2 \\mod C = (A \\mod C)^2 \\mod C$\n",
    "        - The same argument applies to all powers $k$ of A, because if you expand A according to the binomial theorem, all terms will contain C except for the $r^k$ term"
   ]
  },
  {
   "cell_type": "code",
   "execution_count": 60,
   "metadata": {},
   "outputs": [],
   "source": [
    "def modular_exponentiation(base: int, exponent: int, modulo: int) -> int:\n",
    "    result = 1\n",
    "\n",
    "    while exponent > 0:\n",
    "        if exponent % 2 != 0:\n",
    "            result = (result * base) % modulo\n",
    "            exponent -= 1\n",
    "        \n",
    "        base = ((base % modulo) * (base % modulo)) % modulo\n",
    "        exponent = exponent//2\n",
    "    return result % modulo"
   ]
  },
  {
   "cell_type": "code",
   "execution_count": 61,
   "metadata": {},
   "outputs": [],
   "source": [
    "import numpy as np\n",
    "\n",
    "for _ in range(10_000):\n",
    "    base = int(np.random.randint(1, 50, 1)[0])\n",
    "    exponent = int(np.random.randint(10, 60, 1)[0])\n",
    "    modulo = int(np.random.randint(7, 77, 1)[0])\n",
    "\n",
    "    manual = (base**exponent) % modulo\n",
    "    function = modular_exponentiation(base, exponent, modulo)\n",
    "    \n",
    "    assert manual == function, f'{base=}, {exponent=}, {modulo=}, {manual=}, {function=}'\n"
   ]
  },
  {
   "cell_type": "markdown",
   "metadata": {},
   "source": [
    "### Example: Prime Interval"
   ]
  },
  {
   "cell_type": "markdown",
   "metadata": {},
   "source": [
    "- Given left and right bounds, print all primes within the bounds"
   ]
  },
  {
   "cell_type": "code",
   "execution_count": 123,
   "metadata": {},
   "outputs": [
    {
     "data": {
      "text/plain": [
       "array([101, 103, 107, 109, 113, 127, 131, 137, 139, 149, 151, 157, 163,\n",
       "       167, 173, 179, 181, 191, 193, 197, 199, 211, 223, 227, 229, 233,\n",
       "       239, 241, 251, 257, 263, 269, 271, 277, 281, 283, 293, 307, 311,\n",
       "       313, 317, 331, 337, 347, 349, 353, 359, 367, 373, 379, 383, 389,\n",
       "       397, 401, 409, 419, 421, 431, 433, 439, 443, 449, 457, 461, 463,\n",
       "       467, 479, 487, 491, 499, 503, 509, 521, 523, 541, 547, 557, 563,\n",
       "       569, 571, 577, 587, 593, 599, 601, 607, 613, 617, 619, 631, 641,\n",
       "       643, 647, 653, 659, 661, 673, 677, 683, 691, 701, 709, 719, 727,\n",
       "       733, 739, 743, 751, 757, 761, 769, 773, 787, 797, 809, 811, 821,\n",
       "       823, 827, 829, 839, 853, 857, 859, 863, 877, 881, 883, 887, 907,\n",
       "       911, 919, 929, 937, 941, 947, 953, 967, 971, 977, 983, 991, 997])"
      ]
     },
     "execution_count": 123,
     "metadata": {},
     "output_type": "execute_result"
    }
   ],
   "source": [
    "def is_prime(num: int) -> bool:\n",
    "    if num in [0,1]:\n",
    "        return False\n",
    "    \n",
    "    if num in [2,3]:\n",
    "        return True\n",
    "\n",
    "    for i in range(2, int(num**0.5 // 1)+1):\n",
    "        if num % i == 0:\n",
    "            return False\n",
    "    return True\n",
    " \n",
    "def primes_in_interval_naive(left: int, right: int) -> list[int]:\n",
    "    '''\n",
    "    Time complexity: O(N * sqrt(N)), where N is the interval length between left and right, and the sqrt(N) comes from the primality test for each number\n",
    "    '''\n",
    "    results = []\n",
    "    for i in range(left, right+1):\n",
    "        # print(f'testing value: {i: ^20}')\n",
    "        if is_prime(i):\n",
    "            results.append(i)\n",
    "\n",
    "    return results\n",
    "\n",
    "def primes_in_interval_eratosthenes(left: int, right: int) -> np.array:\n",
    "    '''\n",
    "    Time complexity: O(N log log(N)). \n",
    "    Space complexity: O(N)\n",
    "    '''\n",
    "    is_prime = np.ones(right+1)\n",
    "    is_prime[0], is_prime[1] = 0, 0\n",
    "\n",
    "    for i in range(2, right+1):\n",
    "        if is_prime[i]:\n",
    "            is_prime[i**2 : right+1 : i] = 0\n",
    "    \n",
    "    return np.where(is_prime[left:])[0] + left\n",
    "\n",
    "\n",
    "primes_in_interval_eratosthenes(100, 1000)"
   ]
  },
  {
   "cell_type": "markdown",
   "metadata": {},
   "source": [
    "### Example: Prime Prime"
   ]
  },
  {
   "cell_type": "markdown",
   "metadata": {},
   "source": [
    "- We define a new type of number called Prime Prime\n",
    "- A number X is a prime prime if the number of prime numbers from 1 to X (inclusive) is prime \n",
    "- How many prime prime numbers are there in some range L and R?\n",
    "\n",
    "- Naive approach:\n",
    "    - Iterate through all numbers between 1 and $X$ [$O(X)$]\n",
    "    - For each value $x \\in [1,X]$, check `is_prime(x)` [$O(\\sqrt{x})$]. If yes, append to an array\n",
    "    - Finally, count length of array, and check if length is prime [$O(\\sqrt{L})$]\n",
    "    - $O(X^2 + L)$\n",
    "\n",
    "- Better approach:\n",
    "    - Using Eratosthenes sieve; \n",
    "        a. init 2 arrays, `is_prime` and `is_prime_prime`\n",
    "        b. init a counter, `count_cumulative_prime`\n",
    "        c. Get all primes between 1 and X [$O(X log log X)$]\n",
    "            - For each value $i$ between 1 and X, we check if `is_prime[i]` (this is just the standard Eratosthenes sieve loop)\n",
    "            - If `is_prime[i]`\n",
    "                - increment `count_cumulative_prime`\n",
    "                - If `is_prime[count_cumulative_prime]`, then set `is_prime_prime[i]` to 1\n",
    "                - Do the standard sieve while loop, setting all multiples of the prime value to false"
   ]
  },
  {
   "cell_type": "code",
   "execution_count": 33,
   "metadata": {},
   "outputs": [
    {
     "data": {
      "text/plain": [
       "array([ 3,  5, 11, 17, 31, 41, 59, 67, 83])"
      ]
     },
     "execution_count": 33,
     "metadata": {},
     "output_type": "execute_result"
    }
   ],
   "source": [
    "import numpy as np\n",
    "\n",
    "def is_prime(num: int) -> bool:\n",
    "    if num <= 1:\n",
    "        return False\n",
    "\n",
    "    if num in [2,3]:\n",
    "        return True\n",
    "\n",
    "    for j in range(2, int((num**0.5) // 1)+1):\n",
    "        if num % j == 0:\n",
    "            return False\n",
    "    return True\n",
    "\n",
    "\n",
    "def get_prime_prime_naive(left: int, right: int) -> list[int]:\n",
    "    primes = []\n",
    "    prime_primes = []\n",
    "    for num in range(2, right+1):\n",
    "        if is_prime(num):\n",
    "            primes.append(num)\n",
    "            if len(primes) in primes:\n",
    "                prime_primes.append(num)\n",
    "\n",
    "    # return primes, prime_primes\n",
    "    return len([x for x in prime_primes if x >= left])\n",
    "    \n",
    "def get_prime_prime_eratosthenes(left: int, right: int) -> list[int]:\n",
    "    is_prime = np.ones(right+1)\n",
    "    is_prime[0], is_prime[1] = 0,0 \n",
    "    \n",
    "    is_prime_prime = np.zeros(right+1)\n",
    "    count_primes = 0\n",
    "\n",
    "    for num in range(2, right+1):\n",
    "        if is_prime[num]:\n",
    "            count_primes += 1\n",
    "            if is_prime[count_primes]:\n",
    "                is_prime_prime[num] = 1\n",
    "            \n",
    "            is_prime[num**2: right+1: num] = 0\n",
    "\n",
    "    primes = np.where(is_prime)[0]\n",
    "    prime_primes = primes[is_prime_prime[primes].astype('bool')]\n",
    "    return prime_primes\n",
    "\n",
    "# get_prime_prime_naive(1, 100)\n",
    "# get_prime_prime_eratosthenes(1, 100)"
   ]
  }
 ],
 "metadata": {
  "kernelspec": {
   "display_name": "kaggle",
   "language": "python",
   "name": "python3"
  },
  "language_info": {
   "codemirror_mode": {
    "name": "ipython",
    "version": 3
   },
   "file_extension": ".py",
   "mimetype": "text/x-python",
   "name": "python",
   "nbconvert_exporter": "python",
   "pygments_lexer": "ipython3",
   "version": "3.10.4"
  }
 },
 "nbformat": 4,
 "nbformat_minor": 2
}
