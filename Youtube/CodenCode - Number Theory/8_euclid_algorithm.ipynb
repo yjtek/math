{
 "cells": [
  {
   "cell_type": "markdown",
   "metadata": {},
   "source": [
    "### Modulo Arithmetic for Euclid Algorithm"
   ]
  },
  {
   "cell_type": "markdown",
   "metadata": {},
   "source": [
    "- Given any 2 integers A and B, we can write $A = Bx + r$, where x is some integer and r is the remainder of A % B \n",
    "\n",
    "- Identity: $(A + B) \\mod C = (A \\mod C + B \\mod C) \\mod C$\n",
    "    - Let's write $A = Cx + r_1$, and $B = Cy + r_2$\n",
    "    - Then $A \\mod C = r_1$, and $B \\mod C = r_2$, because the $Cx \\mod C = Cy \\mod C = 0$\n",
    "    - Also, $A + B = C(x+y) + r_1 + r_2$\n",
    "    - So $(A+B) \\mod C = (C(x+y) + r_1 + r_2) \\mod C = (r_1 + r_2) \\mod C = (A \\mod C + B \\mod C) \\mod C$\n",
    "\n",
    "- Identity: $(A * B) \\mod C = (A \\mod C * B \\mod C) \\mod C$\n",
    "    - Let's write $A = Cx + r_1$, and $B = Cy + r_2$\n",
    "    - Then $A \\mod C = r_1$, and $B \\mod C = r_2$, because the $Cx \\mod C = Cy \\mod C = 0$\n",
    "    - Also, $A * B = C^2 xy + Cx r_2 + Cy r_1 + r_1 r_2$\n",
    "    - So $(A*B) \\mod C = (C^2 xy + Cx r_2 + Cy r_1 + r_1 r_2) \\mod C = (r_1 \\cdot r_2) \\mod C = (A \\mod C \\cdot B \\mod C) \\mod C$\n"
   ]
  },
  {
   "cell_type": "markdown",
   "metadata": {},
   "source": [
    "- Euclid algorithm: Let $A, B$ be 2 integers, where $A > B$. Let $\\text{gcd}(A,B) = d$ be the greatest common denominator of $A$ and $B$. Then $\\text{gcd}(A,B) = \\text{gcd}(B, A \\mod B)$\n",
    "    - Since $d$ divides both $A$ and $B$, it must be true that $d$ also divides any linear combination of $A$ and $B$\n",
    "        - Since $A = ad$ and $B = bd$, then $xad + ybd = d (xa + yb)$ must be divisible by $d$ regardless of the values of $x$ and $y$\n",
    "    - Let's write $A = xB + r$, where $r = A \\mod B$\n",
    "    - Then $r = A - xB$ is a linear combination of $A$ and $B$, and therefore it is also divisible by $d$\n",
    "    - Therefore, it must be true that $\\text{gcd}(A,B) = \\text{gcd}(B, r) = \\text{gcd}(B, A \\mod B)$\n",
    "\n",
    "- Euclid Algorithm 2: Let $A, B$ be 2 integers, where $A > B$. Let $\\text{gcd}(A,B) = d$ be the greatest common denominator of $A$ and $B$. Then $\\text{gcd}(A,B) = \\text{gcd}(B, A - B)$\n",
    "    - Same argument. If $A = xD$ and $B = yD$, then $A - B = (x-y)D$ must be divisible by D\n",
    "\n"
   ]
  },
  {
   "cell_type": "markdown",
   "metadata": {},
   "source": [
    "### GCD Queries"
   ]
  },
  {
   "cell_type": "markdown",
   "metadata": {},
   "source": [
    "- Given array of size $N$, and $Q$ queries of $L$ and $R$, you have to print a GCD of array excluding the elements within the range $L ... R$ of the array\n",
    "\n",
    "- Idea: Since we want to exclude the range $L ... R$, we can take the GCD of range $0 ... L-1$ and GCD of range $L+1 ... R$, then find the $\\text{GCD}(\\text{GCD}_L, \\text{GCD}_R)$ \n",
    "    - To be able to do this, we need an additional data structure(s) that can give us the value of the gcd of some range $[0,L-1]$ and the $[L+1 , R]$\n",
    "    - Let's implement this by creating 2 arrays\n",
    "        - Prefix array: where each element $i$ of the array represents the gcd up to and including element $i$\n",
    "        - Suffix array: where each element $i$ of the array represents the gcd from and including element $i$\n",
    "\n",
    "    - Then for every query $L, R$, we can simply get the gcd up to L-1 in constant time, and the gcd from R+1 in constant time\n",
    "    - We incur a cost of creating the prefix and suffix, and this creation is linear time. This is considered scalable, since the number of queries can be extremely large"
   ]
  },
  {
   "cell_type": "code",
   "execution_count": 47,
   "metadata": {},
   "outputs": [],
   "source": [
    "# gcd(0,0)"
   ]
  },
  {
   "cell_type": "code",
   "execution_count": 52,
   "metadata": {},
   "outputs": [
    {
     "data": {
      "text/plain": [
       "2"
      ]
     },
     "execution_count": 52,
     "metadata": {},
     "output_type": "execute_result"
    }
   ],
   "source": [
    "input_arr = [2,6,9]\n",
    "\n",
    "def gcd(a, b):\n",
    "    '''\n",
    "    Time complexity: O(log(min(a,b)))\n",
    "        - Logic: since we are taking a%b at each step in the loop, the remainder is at best a/2 - 1. \n",
    "            - e.g. 100 % 51 = 49\n",
    "        - So at each step, even in the worst case, you are halving the value\n",
    "        - Since loop terminates when one of the values reaches 1, the log only applies to the smallest value\n",
    "        - This works because gcd(a,b) = gcd(b, a%b)\n",
    "            - w.l.o.g, assume a > b, and let gcd(a,b) = d\n",
    "            - Since `d` divides both `a` and `b`, it must also divide any linear combination of `a` and `b`\n",
    "                - Let's write `a = bx + r`. Then `r = a - bx`\n",
    "                - Then the remainder r must be also be divisible by `d`\n",
    "                - But r = a % b by definition\n",
    "            - Therefore, gcd(a,b) must also be gcd(b,r)\n",
    "    '''\n",
    "    if (a == 0) & (b == 0):\n",
    "        return None\n",
    "\n",
    "    try: \n",
    "        if a % b == 0:\n",
    "            return b\n",
    "    except:\n",
    "        pass\n",
    "    \n",
    "    try:\n",
    "        if b % a == 0:\n",
    "            return a\n",
    "    except:\n",
    "        pass\n",
    "\n",
    "    return gcd(b, a % b)\n",
    "\n",
    "def make_gcd_prefix_suffix(input_arr: list) -> list:\n",
    "    '''\n",
    "    Each point i can either be the gcd of the array up to and including i, or up to and excluding i. Both are fine, but you just need to tweak the implementation later when calling the array. Here, we make the suffix and prefix arrays at i inclusive\n",
    "\n",
    "    Time complexity: O(2*N) = O(N) where N is length of input arr\n",
    "    Space complexity: O(2*N) = O(N)\n",
    "    '''\n",
    "    gcd_prefix = [0] * len(input_arr)\n",
    "    gcd_prefix[0] = input_arr[0]\n",
    "    \n",
    "    for i in range(1, len(gcd_prefix)):\n",
    "        gcd_prefix[i] = gcd(gcd_prefix[i-1], input_arr[i])\n",
    "\n",
    "    gcd_suffix = [0] * len(input_arr)\n",
    "    gcd_suffix[-1] = input_arr[-1]\n",
    "    \n",
    "    for i in range(len(gcd_suffix)-2, -1, -1):\n",
    "        gcd_suffix[i] = gcd(gcd_suffix[i+1], input_arr[i]) \n",
    "\n",
    "    return gcd_prefix, gcd_suffix\n",
    "    \n",
    "gcd_prefix, gcd_suffix = make_gcd_prefix_suffix(input_arr)\n",
    "\n",
    "def process_gcd_query(input_arr: list, l: int, r: int) -> int:\n",
    "    l_remove_index = l-1\n",
    "    r_remove_index = r-1\n",
    "\n",
    "    gcd_left = 0 if l_remove_index <= 0 else gcd_prefix[l_remove_index-1]\n",
    "    gcd_right = 0 if r_remove_index >= (len(input_arr)-1) else gcd_suffix[r_remove_index+1]\n",
    "\n",
    "    return gcd(gcd_left, gcd_right)\n",
    "\n",
    "process_gcd_query(input_arr, 2, 3)"
   ]
  },
  {
   "cell_type": "code",
   "execution_count": null,
   "metadata": {},
   "outputs": [],
   "source": []
  }
 ],
 "metadata": {
  "kernelspec": {
   "display_name": "kaggle",
   "language": "python",
   "name": "python3"
  },
  "language_info": {
   "codemirror_mode": {
    "name": "ipython",
    "version": 3
   },
   "file_extension": ".py",
   "mimetype": "text/x-python",
   "name": "python",
   "nbconvert_exporter": "python",
   "pygments_lexer": "ipython3",
   "version": "3.10.4"
  }
 },
 "nbformat": 4,
 "nbformat_minor": 2
}
