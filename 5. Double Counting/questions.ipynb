{
 "cells": [
  {
   "attachments": {},
   "cell_type": "markdown",
   "metadata": {},
   "source": [
    "### 1. In poker, a “two pair” hand has 2 cards of one rank, 2 cards of another rank, and 1 card of a third rank. For example, the hand 2, 2, Q, Q, J is a “two pair”. Your friend calculates the probability of “two pair” as follows:\n",
    "\n",
    "- There are $\\binom{52}{5}$ equally likely hands where order does not matter. We count the number of ways to choose the first pair.\n",
    "    - There are 13 choices for the rank and $\\binom{4}{2}$ choices for the two cards within the rank so there are $13 * \\binom{4}{2}$ ways\n",
    "    - Next, we count the ways to choose the second pair. Since one rank has already been chosen, there are $12 * \\binom{4}{2}$ ways to do this\n",
    "    - Finally, we choose the remaining card. There are $11 * \\binom{4}{1} = 44$ ways to do this\n",
    "    - Your friend calculates the probability as $\\frac{13 * \\binom{4}{2} * 12 * \\binom{4}{2} * 44}{\\binom{52}{5}} \\approx 0.095$\n",
    "    \n",
    "- But the true probability of 2 pair is $0.0475$, or exactly half. Where is the double counting?"
   ]
  },
  {
   "attachments": {},
   "cell_type": "markdown",
   "metadata": {},
   "source": [
    "- The double counting occurs because, even after you choose the 2 pairs $13 * \\binom{4}{2} * 12 * \\binom{4}{2}$, you need to divide by 2 because for every 2 pairs, you can permute it twice\n",
    "    - Let pair 1 be AA and pair 2 be BB\n",
    "    - $13 * \\binom{4}{2} * 12 * \\binom{4}{2}$ counts AABB and BBAA as separate hands. But this is actually the same hand in poker! Hence, divide by $2!$ to discount this"
   ]
  },
  {
   "attachments": {},
   "cell_type": "markdown",
   "metadata": {},
   "source": [
    "### 2. Complete the calculation for the Chevalier de Méré. Calculate the probability of getting at least one in 24 rolls of two dice.\n",
    "\n",
    "- See notes\n",
    "\n"
   ]
  }
 ],
 "metadata": {
  "language_info": {
   "name": "python"
  },
  "orig_nbformat": 4
 },
 "nbformat": 4,
 "nbformat_minor": 2
}
