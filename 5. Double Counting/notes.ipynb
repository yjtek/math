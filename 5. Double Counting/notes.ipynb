{
 "cells": [
  {
   "attachments": {},
   "cell_type": "markdown",
   "metadata": {},
   "source": [
    "## Motivating Example"
   ]
  },
  {
   "attachments": {},
   "cell_type": "markdown",
   "metadata": {},
   "source": [
    "The French nobleman (and avid gambler) Chevalier de Méré knew that betting on at least one six in 4 rolls of a die was a favorable bet for him. Once other gamblers caught on, he devised a new bet: at least one double-six in 24 rolls of two dice. Although he did not know how to calculate the probabilities, he reasoned that the two bets should be equivalent, since\n",
    "\n",
    "- double-sixes are $\\frac{1}{6}$ as likely as a single six\n",
    "- but there are 6 times as many rolls to compensate\n",
    "\n",
    "Are the two bets equivalent?"
   ]
  },
  {
   "cell_type": "code",
   "execution_count": 21,
   "metadata": {},
   "outputs": [],
   "source": [
    "import numpy as np"
   ]
  },
  {
   "cell_type": "code",
   "execution_count": 22,
   "metadata": {},
   "outputs": [
    {
     "data": {
      "text/plain": [
       "0.4834"
      ]
     },
     "execution_count": 22,
     "metadata": {},
     "output_type": "execute_result"
    }
   ],
   "source": [
    "## at least 1 double six in 24 rolls\n",
    "rolls=[12 in [np.sum(np.random.choice(range(1,7), 2)) for _ in range(24)] for _ in range(10_000)]\n",
    "np.mean(rolls)"
   ]
  },
  {
   "cell_type": "code",
   "execution_count": 23,
   "metadata": {},
   "outputs": [
    {
     "data": {
      "text/plain": [
       "0.5158"
      ]
     },
     "execution_count": 23,
     "metadata": {},
     "output_type": "execute_result"
    }
   ],
   "source": [
    "## at least 1 six in 4 rolls\n",
    "rolls=[6 in list(np.random.choice(range(1,7), 4)) for _ in range(10_000)]\n",
    "np.mean(rolls)"
   ]
  },
  {
   "attachments": {},
   "cell_type": "markdown",
   "metadata": {},
   "source": [
    "## Theory"
   ]
  },
  {
   "attachments": {},
   "cell_type": "markdown",
   "metadata": {},
   "source": [
    "- Let's start by computing probability of at least 1 six in 4 rolls\n",
    "    - WRONG: This is a common error; at least 1 six in 4 rolls = 1/6 + 1/6 + 1/6 + 1/6 = 4/6\n",
    "        - This is not correct, beecause of **double counting**. Let's think of this as a venn diagram\n",
    "        - 1/6 is the probability of 6 in roll 1. Let's this be a circle A.\n",
    "        - Second 1/6 is the probability of 6 in roll 2. Let this be a circle B.\n",
    "        - If A and B do not intersect, (i.e. either first roll is 6, OR second roll is 6, but not both), then 1/6 + 1/6 is the probability of at least one 6 in 2 rolls\n",
    "        - But since it is entirely possible for both rolls to be 6, then A + B double counts the intersection of A and B!\n",
    "\n",
    "    - Generally, $Pr(A \\text{ or } B) \\ne Pr(A) + Pr(B)$\n",
    "\n",
    "- To compute the probability of **at least** 1 six in 4 rolls, we should rely on the complement rule\n",
    "    - Probablity of at least 1 six in 4 rolls is the same as 1 - Probability of no six in 4 rolls\n",
    "$$\\begin{align}\n",
    "    1 - Pr(\\text{No 6 in 4 rolls}) &= \\frac{5}{6} * \\frac{5}{6} * \\frac{5}{6} * \\frac{5}{6} \\\\\n",
    "    &= 1 - \\frac{625}{1296} \\\\\n",
    "    &\\approx 0.51\n",
    "\\end{align}$$\n",
    "\n",
    "- Similarly, probability of **at least** 1 pair of 2 sixes in 24 rolls is:\n",
    "$$\\begin{align}\n",
    "    1 - Pr(\\text{No 2-six in 24 rolls}) &= 1 - (\\frac{35^{24}}{36^{24}}) \\\\\n",
    "    &\\approx 0.49\n",
    "\\end{align}$$"
   ]
  }
 ],
 "metadata": {
  "kernelspec": {
   "display_name": "leetcode",
   "language": "python",
   "name": "python3"
  },
  "language_info": {
   "codemirror_mode": {
    "name": "ipython",
    "version": 3
   },
   "file_extension": ".py",
   "mimetype": "text/x-python",
   "name": "python",
   "nbconvert_exporter": "python",
   "pygments_lexer": "ipython3",
   "version": "3.10.4"
  },
  "orig_nbformat": 4
 },
 "nbformat": 4,
 "nbformat_minor": 2
}
