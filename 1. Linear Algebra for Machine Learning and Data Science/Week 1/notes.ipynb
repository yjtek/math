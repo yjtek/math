{
 "cells": [
  {
   "attachments": {},
   "cell_type": "markdown",
   "metadata": {},
   "source": [
    "- Slide 168: Constants do not matter in determining singularity of the system. Removing the constants, a singular matrix will still be singular\n",
    "\n",
    "- Slide 378: Compute determinant in 3x3 matrix; alternative visualisation"
   ]
  }
 ],
 "metadata": {
  "language_info": {
   "name": "python"
  },
  "orig_nbformat": 4
 },
 "nbformat": 4,
 "nbformat_minor": 2
}
