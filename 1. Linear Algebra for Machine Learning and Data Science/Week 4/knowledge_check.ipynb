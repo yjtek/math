{
 "cells": [
  {
   "attachments": {},
   "cell_type": "markdown",
   "metadata": {},
   "source": [
    "We want your learning experience to be as efficient as possible. If you already know some linear algebra you might be able to skip some of the lectures in this course. Have a look at the questions below. If you already know how to answer them feel free to skip the videos listed in parentheses.\n",
    "\n",
    "\n",
    "1. If $\\text{det } M = 20$ and $\\text{det } N = 10$, and $M$ and $N$ have the same size, what is the value of $\\text{det } M \\cdot N$ and $\\text{det }N^{-1}$\n",
    "\n",
    "2. Does the set $\\{(1,2), (4,8)\\}$ for a base for $\\mathbb{R}^{2}$?\n",
    "\n",
    "3. Compute the characteristic polynomial of the following matrix. Use it to find its eigenvalues and eigenvectors. \n",
    "\n",
    "$$\n",
    "M = \\begin{bmatrix}1 & 2 \\\\ 3 & 5 \\end{bmatrix}\n",
    "$$\n",
    "\n",
    "4. Does there exist an eigenbase for the linear transformation defined by $M$ above?"
   ]
  }
 ],
 "metadata": {
  "language_info": {
   "name": "python"
  },
  "orig_nbformat": 4
 },
 "nbformat": 4,
 "nbformat_minor": 2
}
