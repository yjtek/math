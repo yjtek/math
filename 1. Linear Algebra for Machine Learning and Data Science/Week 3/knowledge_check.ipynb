{
 "cells": [
  {
   "attachments": {},
   "cell_type": "markdown",
   "metadata": {},
   "source": [
    "We want your learning experience to be as efficient as possible. If you already know some linear algebra you might be able to skip some of the lectures in this course. Have a look at the questions below. If you already know how to answer them feel free to skip the videos listed in parentheses.\n",
    "\n",
    "\n",
    "1. If $\\vec{U} = (3, 6)$ and $\\vec{V} = (5,2)$, compute $\\vec{u} + \\vec{v}$  and $\\vec{u} - \\vec{v}$\n",
    "\n",
    "2. What is the distance between vectors $\\vec{U}$ and $\\vec{V}$\n",
    "\n",
    "3. If $\\vec{U} = (3,6)$, compute $6\\vec{U}$\n",
    "\n",
    "4. If $\\vec{U} = (1,2,3)$ and $\\vec{V} = (0,3,5)$, compute the dot produt $\\vec{U} \\cdot \\vec{V}$ \n",
    "\n",
    "5. If \n",
    "\n",
    "6. If find the matrix that represents this transformation. (Videos: Matrices as linear transformations, Linear transformations as matrices)\n",
    "\n",
    "7. If "
   ]
  }
 ],
 "metadata": {
  "language_info": {
   "name": "python"
  },
  "orig_nbformat": 4
 },
 "nbformat": 4,
 "nbformat_minor": 2
}
