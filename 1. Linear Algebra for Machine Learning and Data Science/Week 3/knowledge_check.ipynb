{
 "cells": [
  {
   "attachments": {},
   "cell_type": "markdown",
   "metadata": {},
   "source": [
    "We want your learning experience to be as efficient as possible. If you already know some linear algebra you might be able to skip some of the lectures in this course. Have a look at the questions below. If you already know how to answer them feel free to skip the videos listed in parentheses.\n",
    "\n",
    "\n",
    "1. If $\\vec{U} = \\begin{bmatrix} 3 & 6 \\end{bmatrix}$ and $\\vec{V} = \\begin{bmatrix} 5 & 2 \\end{bmatrix}$, compute $\\vec{u} + \\vec{v}$  and $\\vec{u} - \\vec{v}$\n",
    "    - $\\begin{bmatrix} 8 & 8 \\end{bmatrix}$\n",
    "    - $\\begin{bmatrix} -2 & 4 \\end{bmatrix}$\n",
    "\n",
    "2. What is the distance between vectors $\\vec{U}$ and $\\vec{V}$\n",
    "\n",
    "3. If $\\vec{U} = (3,6)$, compute $6\\vec{U}$\n",
    "\n",
    "4. If $\\vec{U} = (1,2,3)$ and $\\vec{V} = (0,3,5)$, compute the dot produt $\\vec{U} \\cdot \\vec{V}$ \n",
    "\n",
    "5. If $\\vec{V} = \\begin{bmatrix} 1 \\\\ 2 \\\\ 5 \\end{bmatrix}$ and $\\vec{M} = \\begin{bmatrix} 4 & 5 & 9 \\\\ 7 & 1 & 0 \\\\ 4 & 2 & 1 \\end{bmatrix}$, compute $\\vec{M} \\cdot \\vec{V}$\n",
    "\n",
    "6. If $\\text{T}$ is a linear transformation defined as $T(0,1) = (1,2)$ and $T(1,0)=(4,1)$, find the matrix that represents this transformation\n",
    "\n",
    "7. If $\\text{M} = \\begin{bmatrix}1 & 2 \\\\ 3 & 5 \\end{bmatrix}$ and $\\text{N} = \\begin{bmatrix}4 & 0 \\\\ 1 & 2 \\end{bmatrix}$, compute $\\text{M} \\cdot \\text{N}$ and $\\text{N}^{-1}$"
   ]
  }
 ],
 "metadata": {
  "language_info": {
   "name": "python"
  },
  "orig_nbformat": 4
 },
 "nbformat": 4,
 "nbformat_minor": 2
}
