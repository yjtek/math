{
 "cells": [
  {
   "attachments": {},
   "cell_type": "markdown",
   "metadata": {},
   "source": [
    "- Row echelon form \n",
    "    - 1s and 0s in the diagonal\n",
    "    - Anything below is 0\n",
    "    - Anything above can be anything\n",
    "    - Matrix is singular if diagonal contains 0s\n",
    "\n",
    "- Rank of a matrix is number of rows - dimension of solution space\n",
    "    - In a 2x2 matrix, there are 2 rows\n",
    "    - If the matrix is non-singular (i.e. the 2 lines intersect at a point), solution space has dimension 0, so rank is 2\n",
    "    - If matrix is singular because the lines are the same (i.e. the 2 lines intersect throughout), the solution space has dimension 1, so rank is 1\n",
    "    - if matrix is singular because lines don't intersect, the solution space has dimension 2, so rank is 0\n",
    "    - By definition only full rank matrices are singular"
   ]
  }
 ],
 "metadata": {
  "language_info": {
   "name": "python"
  },
  "orig_nbformat": 4
 },
 "nbformat": 4,
 "nbformat_minor": 2
}
