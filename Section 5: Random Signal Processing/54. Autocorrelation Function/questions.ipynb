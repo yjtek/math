{
 "cells": [
  {
   "cell_type": "code",
   "execution_count": 2,
   "metadata": {},
   "outputs": [],
   "source": [
    "import scipy\n",
    "import numpy as np\n",
    "import matplotlib.pyplot as plt"
   ]
  },
  {
   "cell_type": "markdown",
   "metadata": {},
   "source": [
    "### 1. Consider a grain of pollen suspended in water, whose horizontal position can be modeled by Brownian motion $\\{ B(t)\\}$ with parameter $\\alpha = 4 \\text{mm}^2/\\text{s}$, as in Example 49.1. Calculate the autocorrelation function of $\\{ B(t) \\}$"
   ]
  },
  {
   "cell_type": "markdown",
   "metadata": {},
   "source": [
    "- $E[B(t)] = 0$ by Brownian motion definition\n",
    "- $Cov[B(t), B(s)] = \\alpha \\cdot Var[min(s,t)]$, which is not a function of $t-s$\n",
    "\n",
    "$$\\begin{align}\n",
    "    R_X(t,x) &= C_X(s,t) + \\mu_X(s)\\mu_X(t) \\\\\n",
    "    &= \\alpha Var[\\text{min}(s,t)] \n",
    "\\end{align}$$"
   ]
  },
  {
   "cell_type": "markdown",
   "metadata": {},
   "source": [
    "### 2. Radioactive particles hit a Geiger counter according to a Poisson process at a rate of $\\lambda = 0.8$ particles per second. Let $\\{ N(t); t \\ge 0 \\}$ represent this Poisson process. Define the new process $\\{ D(t); t \\ge 3 \\}$ by $$D(t) = N(t) - N(t-3)$$ This process represents the number of particles that hit the Geiger counter in the last 3 seconds. Calculate autocorrelation function of $\\{ D(t); t \\ge 3 \\}$"
   ]
  },
  {
   "cell_type": "markdown",
   "metadata": {},
   "source": [
    "- $E[D(t)] = \\lambda \\cdot 3$ which is not a function of $t$\n",
    "- $Cov[D(t), D(t-3)] = (s - t + 3) \\lambda$, which is a function of $t-s$\n",
    "\n",
    "$$\\begin{align}\n",
    "    R_X(t,x) &= C_X(s,t) + \\mu_X(s)\\mu_X(t) \\\\\n",
    "    &= (s - t + 3) \\lambda + (3\\lambda)^2\n",
    "\\end{align}$$"
   ]
  },
  {
   "cell_type": "markdown",
   "metadata": {},
   "source": [
    "### 3. Consider the moving average process $\\{ X[n]\\}$ of example 48.2, defined by $$X[n] = 0.5 Z[n] + 0.5 Z[n-1]$$ where $\\{ Z[n]\\}$ is a sequence of i.i.d. standard normal random variables. Calculate the autocorrelation funciton of $\\{ X[n] \\}$"
   ]
  },
  {
   "cell_type": "markdown",
   "metadata": {},
   "source": [
    "- $E[X[n]]= 0$, which is not a function of $n$\n",
    "- $Cov[X[n], X[m]]$\n",
    "    - When $n-m=0$:\n",
    "        - $Cov[X[n], X[m]] = Var[X[n]] = 0.5$ \n",
    "    - When $\\|n-m\\|=1$:\n",
    "        - $Cov[X[n], X[m]] = 0.25$\n",
    "    - When $\\|n-m\\|>1$:\n",
    "        - $Cov[X[n], X[m]] = 0$\n",
    "    - Hence, $Cov[X[n], X[m]]$ is a function of $m-n$\n",
    "\n",
    "$$\\begin{align}\n",
    "    R_X(t,x) &= C_X(s,t) + \\mu_X(s)\\mu_X(t) \\\\\n",
    "    &= \\begin{Bmatrix} 0.5 & \\text{when } n-m=0 \\\\ 0.25 & \\text{when } |n-m|=1 \\\\ 0 & \\text{otherwise} \\end{Bmatrix}\n",
    "\\end{align}$$"
   ]
  },
  {
   "cell_type": "markdown",
   "metadata": {},
   "source": [
    "### 4. Let $\\Theta$ be a $\\text{Uniform}(a= -\\pi, b = \\pi)$ random variables, and let $f$ be a constant. Define the random phase process $\\{ X(t) \\}$ by $$ X(t) = \\cos(2 \\pi f t + \\Theta) $$ Calculate the autocorrelation function of $\\{ X(t) \\}$."
   ]
  },
  {
   "cell_type": "markdown",
   "metadata": {},
   "source": [
    "- $E[X(t)] = 0$ from exercise 50 Q4\n",
    "- $Cov[X(t), X(s)] = \\frac{\\cos(2 \\pi f (t-s))}{2}$, which is a function of $t-s$\n",
    "\n",
    "$$\\begin{align}\n",
    "    R_X(t,x) &= C_X(s,t) + \\mu_X(s)\\mu_X(t) \\\\\n",
    "    &= \\frac{\\cos(2 \\pi f (t-s))}{2}\n",
    "\\end{align}$$"
   ]
  },
  {
   "cell_type": "markdown",
   "metadata": {},
   "source": [
    "### 5. Let $\\{ X(t)\\}$ be a continuous-time random process with mean function $\\mu_X(t) = -1$ and autocovariance function $C_X(s,t) = 2 e^{-|s-t|/3}$. Calculate the autocorrelation function of $\\{ X(t) \\}$"
   ]
  },
  {
   "cell_type": "markdown",
   "metadata": {},
   "source": [
    "$$\\begin{align}\n",
    "    R_X(t,x) &= C_X(s,t) + \\mu_X(s)\\mu_X(t) \\\\\n",
    "    &= 2 e^{-|s-t|/3} + 1\n",
    "\\end{align}$$"
   ]
  }
 ],
 "metadata": {
  "kernelspec": {
   "display_name": "kaggle",
   "language": "python",
   "name": "python3"
  },
  "language_info": {
   "codemirror_mode": {
    "name": "ipython",
    "version": 3
   },
   "file_extension": ".py",
   "mimetype": "text/x-python",
   "name": "python",
   "nbconvert_exporter": "python",
   "pygments_lexer": "ipython3",
   "version": "3.10.4"
  },
  "orig_nbformat": 4
 },
 "nbformat": 4,
 "nbformat_minor": 2
}
