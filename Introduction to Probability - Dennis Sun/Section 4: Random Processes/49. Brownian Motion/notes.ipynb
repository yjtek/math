{
 "cells": [
  {
   "cell_type": "code",
   "execution_count": null,
   "metadata": {},
   "outputs": [],
   "source": [
    "import numpy as np\n",
    "import scipy\n",
    "import matplotlib.pyplot as plt"
   ]
  },
  {
   "attachments": {},
   "cell_type": "markdown",
   "metadata": {},
   "source": [
    "## Motivating Example"
   ]
  },
  {
   "cell_type": "markdown",
   "metadata": {},
   "source": [
    "- Intuitively, Brownian motion is the random motion of something as a result of getting bombarded by forces from all direections\n",
    "- Think: dust on a water surface"
   ]
  },
  {
   "attachments": {},
   "cell_type": "markdown",
   "metadata": {},
   "source": [
    "## Theory"
   ]
  },
  {
   "cell_type": "markdown",
   "metadata": {},
   "source": [
    "### Section 49.1 (Brownian Motion)"
   ]
  },
  {
   "cell_type": "markdown",
   "metadata": {},
   "source": [
    "- **Definition 49.1:** Brownian motion $\\{B(t); t \\ge 0\\}$ is a continuous-time process with the following properties\n",
    "    1. 'Particle' starts at origin $t=0: B(0) = 0$\n",
    "    2. The particle's displacement over interval $(t_0, t_1)$ is denoted by $B(t_1) - B(t_0)$\n",
    "        - $B(t_i)$ is the particle's position at $t_i$\n",
    "    3. The displacement over interval $(t_0, t_1)$, $B(t_1) - B(t_0)$ follows a $\\text{Normal}(\\mu = 0, \\sigma = \\sqrt{\\alpha (t_1 - t_0)})$ distribution\n",
    "    4. **Independent increments**: The displacements over non-overlapping intervals are independent\n",
    "\n",
    "- Let's think through what $\\alpha$ means here\n",
    "    - When $\\alpha$ is large, the variance of the displacement $\\sigma^2$ is large\n",
    "    - So $\\alpha$ controls the extent of displacement (i.e. how far away the particle moves once bombarded)"
   ]
  },
  {
   "cell_type": "markdown",
   "metadata": {},
   "source": [
    "#### Example 49.1 (Motion of a Pollen Grain)"
   ]
  },
  {
   "cell_type": "markdown",
   "metadata": {},
   "source": [
    "- The horizontal position of a grain of pollen suspended in water can be modeled by Brownian motion with scale $\\alpha = 4 mm^2/s$. \n",
    "    1. What is the probability the pollen grain moves by more than 10 mm (in the horizontal direction) between 1 and 4 seconds?\n",
    "    2. If the particle is more than 5 mm away from the origin after 1 second, what is the probability the pollen grain moves by more than 10 mm between 1 and 4 seconds?\n",
    "\n",
    "1. Displacement between 1 and 4 seconds is $B(t_1) - B(t_0)$\n",
    "    - $$\\begin{align}\n",
    "        P(\\left | B(t_1) - B(t_0) \\right | > 10) &= P(B(t_1) - B(t_0) > 10) + P(B(t_0) - B(t_1) > 10) \\\\\n",
    "        &= P(Z > \\frac{10 - 0}{\\sqrt{4(3)}}) + P(Z > \\frac{10 - 0}{\\sqrt{4(3)}}) & \\text{by symmetry of normal distribution} \\\\\n",
    "        &= 2 * P(Z > \\frac{10 - 0}{\\sqrt{4(3)}})  \\\\\n",
    "        &= 2 * (1 - P(Z \\le \\frac{10 - 0}{\\sqrt{4(3)}})) \\\\\n",
    "        &= 0.0039\n",
    "        \\end{align}$$\n",
    "\n",
    "2. By independence of non-overlapping period, it is also 0.0039"
   ]
  },
  {
   "cell_type": "markdown",
   "metadata": {},
   "source": [
    "### Section 49.2 (Brownian Motion as the Limit of a Random Walk)"
   ]
  },
  {
   "cell_type": "markdown",
   "metadata": {},
   "source": [
    "#### Recap of Random Walk"
   ]
  },
  {
   "cell_type": "markdown",
   "metadata": {},
   "source": [
    "- From chapter 47, a random walk $\\{ X[n]; n > 0 \\}$ is characterised by:\n",
    "    - $X[0] = 0$\n",
    "    - $X[n] = X[n-1] + Z[n]$\n",
    "    \n",
    "- Following the characteristics above, we have the following series\n",
    "    - $X[0] = 0$\n",
    "    - $X[1] = X[0] + Z[1] = Z[1]$\n",
    "    - $X[2] = X[1] + Z[2] = Z[1] + Z[2]$\n",
    "    - ...\n",
    "    - $X[n] = X[n-1] + Z[n] = Z[1] + Z[2] + ... Z[n]$\n",
    "\n",
    "- Let's suppose $Z = \\begin{Bmatrix} 1 & p = 0.5 \\\\ -1 & p = 0.5 \\end{Bmatrix}$ within some discrete time interval $t$ \n",
    "    - $E[Z] = 0$\n",
    "    - $Var[Z] = 0.5 * (1 - 0)^2 + 0.5 * (-1 - 0)^2 = 1$ \n",
    "\n",
    "- Hence, for a given step $n$\n",
    "    - $$\\begin{align}\n",
    "        E[X[n]] &= E[Z[1] + Z[2] + ... Z[n]] \\\\\n",
    "        &= E[Z[1]] + E[Z[2]] + ... E[Z[n]] \\\\\n",
    "        &= 0\n",
    "        \\end{align}$$\n",
    "    - $$\\begin{align}\n",
    "        Var[X[n]] &= Var[Z[1] + Z[2] + ... Z[n]] \\\\\n",
    "        &= Cov[Z[1] + ... Z[n], Z[1] + ... Z[n]] \\\\\n",
    "        &= n \\cdot Var[Z[1]] \\\\\n",
    "        &= n\n",
    "        \\end{align}$$\n",
    "\n",
    "- In a discrete random walk, at time step $n$, the expected value is always 0, regardless of $n$\n",
    "- In a discrete random walk, at time step $n$, the variance is $n$. The more steps have been taken, the larger the range of values that $X[n]$ can take on. This should be intuitive"
   ]
  },
  {
   "cell_type": "markdown",
   "metadata": {},
   "source": [
    "#### Recap of Brownian Motion"
   ]
  },
  {
   "cell_type": "markdown",
   "metadata": {},
   "source": [
    "- In Brownian motion $\\{ B(t); t \\ge 0 \\}$\n",
    "    - $B(0) = 0$\n",
    "    - Displacement over any time interval $(t_0, t_1)$, denoted by $B(t_1) - B(t_0)$, follows a distribution $\\text{Normal}(\\mu=0, \\sigma=\\sqrt{\\alpha (t_1 - t_0)}$\n",
    "    - Displacements in non overalpping time periods are independent"
   ]
  },
  {
   "cell_type": "markdown",
   "metadata": {},
   "source": [
    "#### Random walk to Brownian motion"
   ]
  },
  {
   "cell_type": "markdown",
   "metadata": {},
   "source": [
    "- So how do we show that the discrete random walk process $\\{ X[n]; n>0 \\}$ can be converted to a continuous time Brownian motion process $\\{ B(t); t \\ge 0\\}$?\n",
    "\n",
    "- We previously assumed $Z = \\begin{Bmatrix} 1 & p = 0.5 \\\\ -1 & p = 0.5 \\end{Bmatrix}$ within some discrete time interval $t$ \n",
    "    \n",
    "- The goal is to make $\\{ X[n]; n>0\\} \\rightarrow \\{ X(t); t \\ge 0\\}$ \n",
    "    - No matter what, $E[X[n]] = 0$ holds true, so $X[0] = 0 = X(0)$ for both the discrete and continuous case\n",
    "    - In the continuous case, $Var[X(t)] = \\alpha(t_1 - t_0)$, which is some function of time.\n",
    "    - However, in the discrete case, $Var[Z] = 1$, and so $Var[X[n]] = n$\n",
    "\n",
    "- To make $t$ appear in the discrete random walk, let's reframe the distribution of $Z$:\n",
    "    - $Z = \\begin{Bmatrix} \\sqrt{t} & p = 0.5 \\\\ -\\sqrt{t} & p = 0.5 \\end{Bmatrix}$ within some discrete time interval $t$ \n",
    "    - $E[Z] = 0$ \n",
    "    - $Var[Z] = t$ \n",
    "\n",
    "    - Nothing substantial has changed, all the intuition we built in the earlier segment still applies. But now, the variance of each draw $Z$ depends directly on time $t$\n",
    "    - Intuitively; as we reduce the time period $t$, the possible values within the smaller time period $\\triangle t$ must also be smaller\n",
    "\n",
    "- Using this new Z\n",
    "    - $E[X[n]] = 0$\n",
    "    - $Var[X[n]] = n \\cdot t$\n",
    "\n",
    "    - Taken to the limit where $\\triangle t \\rightarrow 0$, $n \\rightarrow \\inf$. The $n$ term still appears in $Var[X[n]]$ \n",
    "\n",
    "- To get rid of the pesky $n$ term, let's re-define $Z$ to be $Z = \\begin{Bmatrix} \\sqrt{\\frac{t}{n}} & p = 0.5 \\\\ -\\sqrt{\\frac{t}{n}} & p = 0.5 \\end{Bmatrix}$\n",
    "    - $E[X[n]] = 0$\n",
    "    - $Var[X[n]] = t$\n",
    "    - Taken to the limit as $t \\rightarrow 0$, $Var[X[n]] = t$, which is independent of the number of time steps, which preserves the brownian motion definition\n",
    "\n",
    "- Hence, for $\\{X[n]\\} \\rightarrow \\{X(t)\\}$, we just scale the step size by $\\sqrt{\\frac{t}{n}}$"
   ]
  }
 ],
 "metadata": {
  "kernelspec": {
   "display_name": "kaggle",
   "language": "python",
   "name": "python3"
  },
  "language_info": {
   "codemirror_mode": {
    "name": "ipython",
    "version": 3
   },
   "file_extension": ".py",
   "mimetype": "text/x-python",
   "name": "python",
   "nbconvert_exporter": "python",
   "pygments_lexer": "ipython3",
   "version": "3.10.4"
  },
  "orig_nbformat": 4
 },
 "nbformat": 4,
 "nbformat_minor": 2
}
