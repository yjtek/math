{
 "cells": [
  {
   "cell_type": "code",
   "execution_count": 65,
   "metadata": {},
   "outputs": [],
   "source": [
    "import numpy as np\n",
    "import scipy\n",
    "import matplotlib.pyplot as plt"
   ]
  },
  {
   "attachments": {},
   "cell_type": "markdown",
   "metadata": {},
   "source": [
    "## Motivating Example"
   ]
  },
  {
   "cell_type": "markdown",
   "metadata": {},
   "source": [
    "- In the last lesson, we discussed computing the PDF of the random variable $S_n = X_1 + X_2 + ... X_n$, where all $X_i$ are independent of each other\n",
    "\n",
    "- This was a truly terrible experience, because (i) we need to recompute convolutions every time we add a new random variable to the sum, and (ii) computing convolutions is not easy\n",
    "    - If you need to be convinced of (ii) again, re-do Exercise 45 Q2\n",
    "\n",
    "- IRL, we work with hundreds of thousands of random variables, so it is exceedingly impractical to work with convolutions; we need an approximation that is accurate and easy to use.\n",
    "    - This is where the **Central Limit Theorem** comes in"
   ]
  },
  {
   "attachments": {},
   "cell_type": "markdown",
   "metadata": {},
   "source": [
    "## Theory"
   ]
  },
  {
   "cell_type": "markdown",
   "metadata": {},
   "source": [
    "- **Theorem 46.1 (Central Limit Theorem of Sums)**: Let $X_1, X_2, ... X_n$ be independent and identically distributed (i.i.d) random variables. Then, if $n$ is large, the sum $S_n = X_1 + X_2 + ... X_n$ is approximately normally distributed\n",
    "    - $$\\begin{align}\n",
    "        \\mu &= E[S_n] \\\\\n",
    "        &= E[X_1 + X_2 + ... X_n] \\\\\n",
    "        &= E[X_1] + E[X_2] + ... E[X_n] & \\text{Linearity of expectation} \\\\\n",
    "        &= n \\cdot E[X_1] & \\text{i.i.d.} \n",
    "        \\end{align}$$\n",
    "    - $$\\begin{align}\n",
    "        \\sigma^2 &= Var[S_n] \\\\\n",
    "        &= Cov[S_n, S_n] \\\\\n",
    "        &= Cov[X_1 + X_2 + ... X_n, X_1 + X_2 + ... X_n] \\\\\n",
    "        &= \\sum_{i = j} Cov[X_i, X_j] + \\sum_{i \\neq j} Cov[X_i, X_j] \\\\\n",
    "        &= \\sum_{i = j} Cov[X_i, X_j] & Cov[X_i, X_j] = 0 \\text{ if } i \\neq j \\\\\n",
    "        &= n \\cdot Cov[X_i, X_i] \\\\\n",
    "        &= n \\cdot Var[X_1] \n",
    "        \\end{align}$$\n",
    "    - $$\\begin{align}\n",
    "        SD[S_n] &= \\sqrt{Var[S_n]} \\\\\n",
    "        &= \\sqrt{n} \\cdot SD[X_1] \n",
    "        \\end{align}$$\n",
    "\n",
    "- **Theorem 46.2 (Central Limit Theorem of Means)**: Let $X_1, X_2, ... X_n$ be independent and identically distributed (i.i.d) random variables. Then, if $n$ is large, the mean $\\bar{X_n} = \\frac{X_1 + X_2 + ... X_n}{n}$ is approximately normally distributed\n",
    "    - $$\\begin{align}\n",
    "        \\mu &= E[\\bar{X_n}] \\\\\n",
    "        &= E[\\frac{S_n}{n}] \\\\\n",
    "        &= \\frac{1}{n} \\cdot E[S_n] \\\\\n",
    "        &= \\frac{1}{n} \\cdot n \\cdot E[X_1] \\\\\n",
    "        &= E[X_1] \\\\\n",
    "        \\end{align}$$\n",
    "    - $$\\begin{align}\n",
    "        \\sigma^2 &= Var[\\bar{X_n}] \\\\\n",
    "        &= Var[\\frac{S_n}{n}] \\\\\n",
    "        &= \\frac{1}{n^2} Var[S_n] \\\\\n",
    "        &= \\frac{1}{n^2} \\cdot n \\cdot Var[X_1] \\\\\n",
    "        &= \\frac{Var[X_1]}{n} \\\\\n",
    "        \\end{align}$$\n",
    "    - $$\\begin{align}\n",
    "        SD[\\bar{X_n}] &= \\sqrt{Var[\\bar{X_n}]} \\\\\n",
    "        &= \\sqrt{\\frac{Var[X_1]}{n}} \\\\\n",
    "        &= \\frac{SD[X_1]}{\\sqrt{n}} \\\\\n",
    "        \\end{align}$$\n"
   ]
  },
  {
   "cell_type": "markdown",
   "metadata": {},
   "source": [
    "- Let's think through what this actually means\n",
    "    - The random variable $\\bar{X_n}$ represents the value of the sample mean with $n$ observations\n",
    "    - All we are saying is that the expectation of the sample mean will be the same as the expectation for each same\n",
    "    - As we get more samples (i.e. as $n$ increases), the standard deviation of $\\bar{X_n}$ decreases\n",
    "        - This means that we get less uncertain about the sample mean as we increase the sample size!"
   ]
  },
  {
   "cell_type": "markdown",
   "metadata": {},
   "source": [
    "## Worked examples"
   ]
  },
  {
   "cell_type": "markdown",
   "metadata": {},
   "source": [
    "### Example 46.1"
   ]
  },
  {
   "cell_type": "markdown",
   "metadata": {},
   "source": [
    "- Since the 1200s, coins struck by the Royal Mint in England have been evaluated for their metal content in a ceremony called the Trial of the Pyx. This ceremony does not have much meaning today (see the video below), but in the 1700s, English coins were made of gold. The Master of the Mint had an incentive to make coins weigh less than the standard, because he could keep the shortfall himself (as long as he was not caught). In the Trial, 100 guineas (i.e., gold coins) would be chosen randomly and independently from all coins made at the Mint that year, put in the Pyx (a ceremonial box), and weighed. The Master of the Mint was allowed a margin of error, which was set according to the manufacturing tolerances of the time. If the actual weight of the coins in the Pyx differed from its target weight by more than this margin on either side, the Master of the Mint was exposed to serious penalties. In 1799, each guinea was supposed to weigh 128 grains. Due to manufacturing variability, the standard deviation of guinea weights was about 0.1 grains. To give the Master of the Mint some wiggle room, the allowable margin of error for each guinea was set at 0.32 grains. The British government reasoned that the total weight of 100 guineas should be 12,800 grains on average, with an allowable margin of 32 grains. Let’s suppose the Master of the Mint makes the guineas weigh 127.7 grains on average, and skims 0.1 grains from each coin. What is the probability he gets caught?\n",
    "\n",
    "    - Summarising information\n",
    "        - Let the weight of the 100 coins be $W$\n",
    "        - From the question, $W \\sim \\text{Normal}(\\mu = 127.7*100 = 12770, \\sigma = 0.1^2 * 100 = 1)$ by C.L.T\n",
    "        - $$\\begin{align}\n",
    "            P(W < 12800-32) &= P(W < 12768) \\\\\n",
    "            &= P(Z < \\frac{12768 - 12770}{1}) \\\\\n",
    "            &= P(Z < \\frac{12768 - 12770}{1}) \\\\\n",
    "            &= P(Z < -2) \\\\\n",
    "            &= 0.023\n",
    "            \\end{align}$$"
   ]
  },
  {
   "cell_type": "code",
   "execution_count": 4,
   "metadata": {},
   "outputs": [
    {
     "data": {
      "text/plain": [
       "0.022750131948179195"
      ]
     },
     "execution_count": 4,
     "metadata": {},
     "output_type": "execute_result"
    }
   ],
   "source": [
    "scipy.stats.norm.cdf(-2)"
   ]
  },
  {
   "cell_type": "markdown",
   "metadata": {},
   "source": [
    "### Example 46.2"
   ]
  },
  {
   "cell_type": "markdown",
   "metadata": {},
   "source": [
    "-  Not satisfied with a 1-in-50 chance of being caught (and likely executed), the Master of the Mint wants to reduce his chances of getting caught to 0.1%? What should he make the guineas weigh on average?\n",
    "    - We want $x$ such that $P(W < x) = 0.001$\n",
    "    - $$\\begin{align}\n",
    "        P(W < w) &= 0.001 \\\\\n",
    "        P(Z < \\frac{w - 12770}{1}) &= 0.001 \\\\\n",
    "        \\text{Solving via scipy below, CDF of } Z &= 0.001 \\text{ when } x = -3.090 \\\\\n",
    "        \\frac{w - 12770}{1} &= -3.09 \\\\\n",
    "        w = 12766.91\n",
    "        \\frac{w}{n} = 127.67\n",
    "        \\end{align}$$\n",
    "\n",
    "- How is it possible that, at the govt mandated margin of 32g, the probability of getting caught is so low?\n",
    "    - Notice that the uncertainty associated with the variance of the sum $SD[W] = \\sqrt{n} SD[X]$\n",
    "    - So at a 100 coins, the standard deviation of $W$ is $10 * 0.32 = 3.2$, which is 10x lower than the allowed margin at $32$\n",
    "        - i.e. 12800 +- 3.2, not 12800 +- 32\n",
    "    - If the margin was 3.2, probability of getting caught is:\n",
    "        - $$\\begin{align}\n",
    "            P(W < 12800 - 3.2) &= P(W < 12796.8) \\\\\n",
    "            &= P(Z < \\frac{12796.8 - 12770}{1}) \\\\\n",
    "            &= P(Z < 26.78) \\\\\n",
    "            &= 1\n",
    "            \\end{align}$$\n",
    "    - Let's say the master wants to pass the more stringent test with at least 999/1000 times. He needs to adjust the mean weight to do so (assume the production process is fixed, so SD can't change). What should the new $\\mu_w$ be?\n",
    "        - $$\\begin{align}\n",
    "            P(W < 12796.8) &= 0.001 \\\\\n",
    "            P(Z < \\frac{12796.8 - \\mu_w}{1}) &= 0.001 \\\\\n",
    "            \\text{Solving via scipy below, CDF of } Z &= 0.001 \\text{ when } x = -3.090 \\\\\n",
    "            \\frac{12796.8 - \\mu_w}{1} &= -3.09 \\\\\n",
    "            \\mu_w = 12799.89 \\\\\n",
    "            \\frac{w}{n} = 127.999 \n",
    "            \\end{align}$$"
   ]
  },
  {
   "cell_type": "code",
   "execution_count": null,
   "metadata": {},
   "outputs": [
    {
     "data": {
      "text/plain": [
       "12799.89"
      ]
     },
     "execution_count": 11,
     "metadata": {},
     "output_type": "execute_result"
    }
   ],
   "source": [
    "scipy.stats.norm.ppf(0.001)\n",
    "12800 - 12766.91\n",
    "12800 - 3.2\n",
    "12796.8 - 12770\n",
    "scipy.stats.norm.cdf(26.78)\n",
    "12796.8+ 3.09"
   ]
  },
  {
   "cell_type": "markdown",
   "metadata": {},
   "source": [
    "### Example 46.3"
   ]
  },
  {
   "cell_type": "markdown",
   "metadata": {},
   "source": [
    "- Suppose salaries at a very large corporation have a mean of $62,000 and a standard deviation of $32,000. If a single employee is randomly selected, what is the probability their salary exceeds $66,000? If 100 employees are randomly selected, what is the probability their average salary exceeds $66,000?\n",
    "    - For a single employee, without knowing the underlying distribution, we cannot conclude what the probability is for a given value. \n",
    "    - However, if we are randomly selecting 100 employees, the average salary $S$ follows a normal distribution by CLT. $S \\sim \\text{Normal}(\\mu=62000, \\sigma = \\frac{32000}{\\sqrt{100}})$\n",
    "    - $$\\begin{align}\n",
    "        P(S > 66000) &= P(Z > \\frac{66000-62000}{3200}) \\\\\n",
    "        &= P(Z > 1.25) \\\\\n",
    "        &= 1 - P(Z \\le 1.25) \\\\\n",
    "        &= 1 - 0.894 \\\\\n",
    "        &= 0.106 \\\\\n",
    "        \\end{align}"
   ]
  },
  {
   "cell_type": "code",
   "execution_count": 17,
   "metadata": {},
   "outputs": [
    {
     "name": "stdout",
     "output_type": "stream",
     "text": [
      "1.25\n",
      "0.8943502263331446\n",
      "0.10564977366685535\n"
     ]
    }
   ],
   "source": [
    "print(4000/3200)\n",
    "print(scipy.stats.norm.cdf(1.25))\n",
    "print(1 - scipy.stats.norm.cdf(1.25))"
   ]
  },
  {
   "cell_type": "markdown",
   "metadata": {},
   "source": [
    "### Example 46.4"
   ]
  },
  {
   "cell_type": "markdown",
   "metadata": {},
   "source": [
    "- The Central Limit Theorem works for discrete random variables as well. For example, suppose a casino suspects that one of its roulette wheels is defective. They notice that the ball has landed in the 0 or 00 pockets 22 times in the last 300 spins. Is this evidence that the roulette wheel is biased towards 0 and 00?\n",
    "\n",
    "- Let's solve using binomial first"
   ]
  },
  {
   "cell_type": "code",
   "execution_count": 22,
   "metadata": {},
   "outputs": [
    {
     "data": {
      "text/plain": [
       "0.07497808822239194"
      ]
     },
     "execution_count": 22,
     "metadata": {},
     "output_type": "execute_result"
    }
   ],
   "source": [
    "roulette = scipy.stats.binom(n=300, p = 2/38)\n",
    "\n",
    "## What is the probability of less than 22 0 & 00 outcomes in 300 spins?\n",
    "1 - roulette.cdf(21)"
   ]
  },
  {
   "cell_type": "markdown",
   "metadata": {},
   "source": [
    "- Next, let's solve using CLT\n",
    "    - Let $S$ be a random variable that is 1 when a spin lands on `0` or `00`, and 0 otherwise\n",
    "    - $S = X_1 + X_2 + ... X_{300}$\n",
    "    - By normal approximation:\n",
    "        $S \\sim \\text{Normal}(\\mu = 300 * \\frac{2}{38}, \\sigma = \\sqrt{300 * \\frac{2}{38} * \\frac{36}{38}})$\n",
    "\n",
    "    - One confusion you may have with the approximation above might be the formula:\n",
    "        - From **Theorem 46.1**, shouldn't $\\sigma = \\sqrt{n} SD[X_1] = \\sqrt{300} \\sqrt{300 * \\frac{2}{38} * \\frac{36}{38}}$?\n",
    "        - This confusion occurs because there is a misunderstanding of the term $SD[X_1]$\n",
    "            - In the case above, each $X_i$ has $SD[X_1]$. Hence, a sample of multiple $X_i$ terms will give $Var[S_n] = n \\cdot Var[X_1]$\n",
    "            - In the case of a binomial, however, each $Var[X_1]$ is $p \\cdot q$\n",
    "            - Hence, for 300 observations, $Var[X_1]$ is $n \\cdot p \\cdot q$, which respects the result in **Theorem 46.1**"
   ]
  },
  {
   "cell_type": "code",
   "execution_count": 64,
   "metadata": {},
   "outputs": [
    {
     "name": "stdout",
     "output_type": "stream",
     "text": [
      "15.789473684210526 14.958448753462605\n",
      "0.054161500900249515\n",
      "0.06990512804450799\n"
     ]
    }
   ],
   "source": [
    "N = 300\n",
    "P = 2/38\n",
    "Q = 1 - P\n",
    "print(N * P, N * P * Q)\n",
    "\n",
    "## Find P(count of 0/00 > 22) = 1 - P(count of 0/00 <= 22)\n",
    "roulette_norm = scipy.stats.norm(loc=N*P, scale=np.sqrt(N*P*Q))\n",
    "print(1 - roulette_norm.cdf(22))\n",
    "\n",
    "## With continuity correction\n",
    "print(1 - roulette_norm.cdf(21.5))"
   ]
  },
  {
   "cell_type": "code",
   "execution_count": 55,
   "metadata": {},
   "outputs": [
    {
     "name": "stdout",
     "output_type": "stream",
     "text": [
      "15.8037 15.012546309999998\n"
     ]
    }
   ],
   "source": [
    "roulette_draws_binom = np.random.binomial(n=N, p=P, size=100_000)\n",
    "print(np.mean(roulette_draws), np.var(roulette_draws))"
   ]
  },
  {
   "cell_type": "code",
   "execution_count": 58,
   "metadata": {},
   "outputs": [
    {
     "name": "stdout",
     "output_type": "stream",
     "text": [
      "15.8037 15.012546309999998\n"
     ]
    }
   ],
   "source": [
    "roulette_draws_normal = np.random.normal(loc = N*P, scale = N*P*Q, size=100_000)\n",
    "print(np.mean(roulette_draws), np.var(roulette_draws))"
   ]
  },
  {
   "cell_type": "code",
   "execution_count": 79,
   "metadata": {},
   "outputs": [
    {
     "data": {
      "image/png": "[encoded data removed]",
      "text/plain": [
       "<Figure size 640x480 with 1 Axes>"
      ]
     },
     "metadata": {},
     "output_type": "display_data"
    }
   ],
   "source": [
    "plt.hist(roulette_draws_binom, bins=np.arange(0,35,1), alpha=0.4, density=True);\n",
    "plt.plot(scipy.stats.norm.pdf(x=np.arange(0,35,1), loc=N*P, scale=np.sqrt(N*P*Q)), alpha=1);\n",
    "# N*P"
   ]
  }
 ],
 "metadata": {
  "kernelspec": {
   "display_name": "kaggle",
   "language": "python",
   "name": "python3"
  },
  "language_info": {
   "codemirror_mode": {
    "name": "ipython",
    "version": 3
   },
   "file_extension": ".py",
   "mimetype": "text/x-python",
   "name": "python",
   "nbconvert_exporter": "python",
   "pygments_lexer": "ipython3",
   "version": "3.10.4"
  },
  "orig_nbformat": 4
 },
 "nbformat": 4,
 "nbformat_minor": 2
}
