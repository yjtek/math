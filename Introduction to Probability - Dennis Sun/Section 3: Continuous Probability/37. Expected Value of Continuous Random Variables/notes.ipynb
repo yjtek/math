{
 "cells": [
  {
   "attachments": {},
   "cell_type": "markdown",
   "metadata": {},
   "source": [
    "## Theory"
   ]
  },
  {
   "cell_type": "markdown",
   "metadata": {},
   "source": [
    "- Expectation of a continuous random variable just follows from the definition in the discrete random variable case. Recall that:\n",
    "    - $$\n",
    "        E[X] = \\sum_x x \\cdot f(x)\n",
    "        $$\n",
    "- In a continuous case\n",
    "    - $$\n",
    "        E[X] = \\int_{-\\inf}^{\\inf} x \\cdot f(x) dx\n",
    "        $$\n",
    "\n"
   ]
  },
  {
   "cell_type": "markdown",
   "metadata": {},
   "source": [
    "#### Example 37.1"
   ]
  },
  {
   "cell_type": "markdown",
   "metadata": {},
   "source": [
    "- Let $X \\sim \\text{Uniform}(a,b)$. What is $E[X]$?\n",
    "    - Recall that PDF of a uniform variable is $f(x) = \\begin{Bmatrix} \\frac{1}{b-a} & a \\le x \\le b \\\\ 0 & \\text{otherwise} \\end{Bmatrix}$\n",
    "\n",
    "- Applying the integral for expectations:\n",
    "    - $$\\begin{align}\n",
    "        E[X] &= \\int_a^b x \\cdot \\frac{1}{b-a} dx \\\\\n",
    "        &= \\frac{1}{b-a} [\\frac{x^2}{2}]^b_a \\\\\n",
    "        &= \\frac{1}{b-a} \\frac{b^2 - a^2}{2}\\\\\n",
    "        &= \\frac{1}{b-a} \\frac{(b-a)(b+a)}{2}\\\\\n",
    "        &= \\frac{a+b}{2}\n",
    "        \\end{align}$$"
   ]
  },
  {
   "cell_type": "markdown",
   "metadata": {},
   "source": [
    "#### Example 37.2"
   ]
  },
  {
   "cell_type": "markdown",
   "metadata": {},
   "source": [
    "- Let $X$ be an $\\text{Exponential}(\\lambda)$ random variable. What is $E[X]$?Does the random variable have an equal chance of being above as below the expected value?\n",
    "\n",
    "- Let's plug the PDF of the exponential distribution into the definition for expectation and work our way through from there\n",
    "\n",
    "$$\\begin{align}\n",
    "    E[X] &= \\int_{-\\inf}^{\\inf} x \\cdot f_{X} dx \\\\\n",
    "    &= \\int_{0}^{\\inf} x \\cdot \\lambda e^{-\\lambda x} dx & \\text{by } \\int u dv = uv - \\int v du \\\\\n",
    "    &= -x e^{-\\lambda x} | ^{\\inf}_{0} - \\int_{0}^{\\inf} -e^{-\\lambda x} dx & \\text{where } u = x, dv = \\lambda e^{-\\lambda x}, du = 1, v = -e^{-\\lambda x} \\\\\n",
    "    &= (-0+0) - \\frac{1}{\\lambda} e^{-\\lambda x} | ^{\\inf}_{0} \\\\ \n",
    "    &= \\frac{1}{\\lambda}\n",
    "\\end{align}$$"
   ]
  },
  {
   "cell_type": "markdown",
   "metadata": {},
   "source": [
    "- What is the probability that random variable X is below the expected value?\n",
    "\n",
    "$$\\begin{align}\n",
    "    P(X < E[X]) &= P(X < \\frac{1}{\\lambda}) \\\\ \n",
    "    &= \\int_0^{\\frac{1}{\\lambda}} \\lambda e^{-\\lambda x} dx \\\\\n",
    "    &= 1 - e^{-1} \\\\\n",
    "    &= 0.632\n",
    "\\end{align}$$"
   ]
  },
  {
   "cell_type": "markdown",
   "metadata": {},
   "source": [
    "- What is the median value of X?\n",
    "\n",
    "$$\\begin{align}\n",
    "    P(X < m) &= 0.5 \\\\\n",
    "    &= \\int_0^m \\lambda e^{-\\lambda x} dx \\\\\n",
    "    &= 1 - e^{-\\lambda x} \\\\\n",
    "\n",
    "    x = \\text{Median value} = \\frac{-\\text{log}(0.5)}{\\lambda}\n",
    "\n",
    "\\end{align}$$"
   ]
  }
 ],
 "metadata": {
  "language_info": {
   "name": "python"
  },
  "orig_nbformat": 4
 },
 "nbformat": 4,
 "nbformat_minor": 2
}
