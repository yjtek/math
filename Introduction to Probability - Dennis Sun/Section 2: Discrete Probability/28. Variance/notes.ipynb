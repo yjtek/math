{
 "cells": [
  {
   "attachments": {},
   "cell_type": "markdown",
   "metadata": {},
   "source": [
    "## Motivating Example"
   ]
  },
  {
   "attachments": {},
   "cell_type": "markdown",
   "metadata": {},
   "source": [
    "- In Lesson 22, you showed that in roulette, every bet has exactly the same expected payoff. That is, their p.m.f.s have the same center of mass.\n",
    "\n",
    "- Does that mean that all bets are alike? No! A bet on a single number is riskier because you have a small chance (1/38) of making a lot of money ($35). A bet on reds, on the other hand, is smaller risk and smaller reward. How do we quantify how “risky” a bet is?"
   ]
  },
  {
   "attachments": {},
   "cell_type": "markdown",
   "metadata": {},
   "source": [
    "## Theory"
   ]
  },
  {
   "attachments": {},
   "cell_type": "markdown",
   "metadata": {},
   "source": [
    "- While two bets can have the same expected value, they can still be distributed very differently. We also need to know how “spread out” this distribution is. The variance measures the “spread” of a distribution around its center.\n",
    "\n",
    "- Definition 28.1: Let X be a random variable. Then, the variance of X, symbolized Var[X] is defined as $Var(X) = E[(X - E[X])^2]$\n",
    "    - In general, we need to use LOTUS to compute this (see section 24)\n",
    "\n",
    "- Definition 28.2: Note that variance is defined in units of X squared. To quantify dispersion in the same units as X, we define another metric called standard deviation, which is the square root of variance\n",
    "        - i.e. $\\sqrt{Var[x]} = SD[X]$"
   ]
  },
  {
   "attachments": {},
   "cell_type": "markdown",
   "metadata": {},
   "source": [
    "- Theorem 28.1 (Shortcut Formula for Variance) The variance can also be computed as:\n",
    "    - $Var[X] = E[X^2] - E[X]^2$\n",
    "\n",
    "- Proof\n",
    "    - $\\begin{align}\n",
    "        Var[X] &= E[(X-E[X])^2] \\\\\n",
    "        &= E[X^2 - XE[X] - XE[X] + E[X]^2] \\\\\n",
    "        &= E[X^2] - 2E[X]E[X] + E[X]^2 \\\\\n",
    "        &= E[X^2] - E[X]^2\n",
    "        \\end{align}$"
   ]
  },
  {
   "attachments": {},
   "cell_type": "markdown",
   "metadata": {},
   "source": [
    "### Example 28.1"
   ]
  },
  {
   "attachments": {},
   "cell_type": "markdown",
   "metadata": {},
   "source": [
    "- Let's compare the 2 possible bets in roulette we covered so far\n",
    "    - Bet on 1 number (pays 35 to 1)\n",
    "    - Bet on colour (pays 1 to 1)\n",
    "\n",
    "- Bet on 1 number\n",
    "    | x | -1 | 35 |\n",
    "    | --- | --- | --- |\n",
    "    | f(x) | 37/38 | 1/38 |\n",
    "    \n",
    "    - E[X] is -2/38 (based on 35 to 1 payout)\n",
    "    - $\\begin{align}\n",
    "        Var[X] &= E[(X - -\\frac{2}{38})^2] \\\\\n",
    "        &= (35 - -\\frac{2}{38})^2 \\cdot \\frac{1}{38} + (-1 - -\\frac{2}{38})^2 \\cdot \\frac{37}{38} \\\\\n",
    "        &\\approx 33.21\n",
    "    \\end{align}$\n",
    "\n",
    "- Bet on colour\n",
    "    | x | -1 | 1 |\n",
    "    | --- | --- | --- |\n",
    "    | f(x) | 20/38 | 18/38 |\n",
    "\n",
    "    - E[X] is -2/38 (based on 35 to 1 payout)\n",
    "    - $\\begin{align}\n",
    "        Var[X] &= E[(X - -\\frac{2}{38})^2] \\\\\n",
    "        &= (-1 - -\\frac{2}{38})^2 \\cdot \\frac{20}{38} + (1 - -\\frac{2}{38})^2 \\cdot \\frac{18}{38} \\\\\n",
    "        &\\approx 0.997\n",
    "    \\end{align}$\n"
   ]
  },
  {
   "attachments": {},
   "cell_type": "markdown",
   "metadata": {},
   "source": [
    "### Example 28.2"
   ]
  },
  {
   "attachments": {},
   "cell_type": "markdown",
   "metadata": {},
   "source": [
    "- The SD of the bet on 1 number is simply $\\sqrt{33.21} = \\$5.76$"
   ]
  },
  {
   "attachments": {},
   "cell_type": "markdown",
   "metadata": {},
   "source": [
    "### Example 28.3 (Variance of a Binomial Random Variable)"
   ]
  },
  {
   "attachments": {},
   "cell_type": "markdown",
   "metadata": {},
   "source": [
    "- The p.m.f. for a binomial random variable X is\n",
    "  - $f(x) = \\binom{n}{x} p^{x} (1-p)^{n-x}$\n",
    "\n",
    "- We know that $Var[X] = E[X^2] - E[X]^2$\n",
    "  - From result in examples 24.3 and 26.4, we know that when X is binomial, $E[X(X-1)] = E[X^2] - E[X] = n(n-1)p^2$\n",
    "  - Hence, $E[X^2] = E[X] + n(n-1)p^2 = np + n(n-1)p^2$\n",
    "\n",
    "- Applying theorem 28.1 above\n",
    "  - $\\begin{align}\n",
    "      Var[X] &= E[X^2] - E[X]^2 = np + n(n-1)p^2 - (np)^2 \\\\\n",
    "      &= np \\cdot (1 + (n-1)p - np) \\\\\n",
    "      &= np \\cdot (1 + np - p - np) \\\\\n",
    "      &= np(1-p)\n",
    "      \\end{align}$"
   ]
  }
 ],
 "metadata": {
  "language_info": {
   "name": "python"
  },
  "orig_nbformat": 4
 },
 "nbformat": 4,
 "nbformat_minor": 2
}
