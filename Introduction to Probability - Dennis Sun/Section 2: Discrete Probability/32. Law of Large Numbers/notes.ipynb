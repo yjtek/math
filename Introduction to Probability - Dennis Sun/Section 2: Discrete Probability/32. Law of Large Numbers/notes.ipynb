{
 "cells": [
  {
   "attachments": {},
   "cell_type": "markdown",
   "metadata": {},
   "source": [
    "## Motivating Example"
   ]
  },
  {
   "attachments": {},
   "cell_type": "markdown",
   "metadata": {},
   "source": [
    "- We have calculated that most casino games have negative expected value for players\n",
    "- But there is also a ton of variance, so how can casinos be sure that they won't lose all their money on a stroke of bad luck\n",
    "- Law of large numbers! The more a player bets on a game with negative expected value for them, the more certain the casino becomes of making money"
   ]
  },
  {
   "attachments": {},
   "cell_type": "markdown",
   "metadata": {},
   "source": [
    "## Theory"
   ]
  },
  {
   "attachments": {},
   "cell_type": "markdown",
   "metadata": {},
   "source": [
    "- Theorem 32.1 (Law of Large Numbers): If X_1, X_2 ... X_n are independent random variables, then the average of the random variables approaches the expected value\n",
    "    - $\\frac{X_1 + X_2 + ... X_n}{n} \\rightarrow E[X] \\text{as n } \\rightarrow \\inf$\n",
    "\n",
    "    - Proof\n",
    "        - Let $\\bar{E[X_n]} = E[\\frac{X_1 + ... X_n}{n}] = \\frac{1}{n} E[X_1 + ... X_n] = \\frac{1}{n}(E[X_1] + ... E[X_n]) = n \\cdot \\frac{1}{n} E[X_1] = E[X_1]$\n",
    "        - $Var[\\bar{X_n}] = Var[\\frac{X_1 + X_2 + ...}{n}] = \\frac{1}{n^2} Var[X_1 + X_2 + ...] = \\frac{1}{n^2} Var[X_1] + Var[X_2] + ... = \\frac{n}{n^2} Var[X_1] = \\frac{Var[X_1]}{n}$"
   ]
  },
  {
   "cell_type": "code",
   "execution_count": 50,
   "metadata": {},
   "outputs": [
    {
     "data": {
      "text/plain": [
       "29.976"
      ]
     },
     "execution_count": 50,
     "metadata": {},
     "output_type": "execute_result"
    }
   ],
   "source": [
    "sumx=np.sum([scipy.stats.binom.rvs(n = sample_size, p=p) for _ in range(n)])\n",
    "# sumx/500\n",
    "# 500 * 0.3\n",
    "np.sum([scipy.stats.binom.rvs(n=sample_size, p=p) for _ in range(500)]) / 500"
   ]
  },
  {
   "cell_type": "code",
   "execution_count": 56,
   "metadata": {},
   "outputs": [
    {
     "name": "stdout",
     "output_type": "stream",
     "text": [
      "Theoretical E[X]: 30.0 | Simulated E[X]:30.0642\n",
      "Theoretical Var[X]: 21.0 | Simulated Var[X]:21.193671999999985\n"
     ]
    }
   ],
   "source": [
    "import numpy as np\n",
    "import scipy\n",
    "\n",
    "sample_size=100\n",
    "number_of_X = 200\n",
    "p = 0.3\n",
    "xbar_iterations = 100\n",
    "\n",
    "xbar = []\n",
    "for _ in range(xbar_iterations):\n",
    "    sumx=np.sum([scipy.stats.binom.rvs(n=sample_size, p=p) for _ in range(number_of_X)]) #X1+X2+...Xn\n",
    "    xbar.append(sumx/number_of_X)\n",
    "\n",
    "print(f'Theoretical E[X]: {sample_size * p} | Simulated E[X]:{np.mean(xbar)}')\n",
    "print(f'Theoretical Var[X]: {sample_size * p * (1-p)} | Simulated Var[X]:{np.var(xbar) * number_of_X}')"
   ]
  },
  {
   "attachments": {},
   "cell_type": "markdown",
   "metadata": {},
   "source": []
  }
 ],
 "metadata": {
  "kernelspec": {
   "display_name": "leetcode",
   "language": "python",
   "name": "python3"
  },
  "language_info": {
   "codemirror_mode": {
    "name": "ipython",
    "version": 3
   },
   "file_extension": ".py",
   "mimetype": "text/x-python",
   "name": "python",
   "nbconvert_exporter": "python",
   "pygments_lexer": "ipython3",
   "version": "3.10.4"
  },
  "orig_nbformat": 4
 },
 "nbformat": 4,
 "nbformat_minor": 2
}
