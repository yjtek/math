{
 "cells": [
  {
   "attachments": {},
   "cell_type": "markdown",
   "metadata": {},
   "source": [
    "## Motivating Example"
   ]
  },
  {
   "attachments": {},
   "cell_type": "markdown",
   "metadata": {},
   "source": [
    "Expectation can give funny answers when dealing with infnity. For example, in Pascal's wager!\n",
    "\n",
    "| | Believe in God | Don't believe in god |\n",
    "| --- | --- | --- |\n",
    "| God exists | $p \\cdot +\\inf$ | $p \\cdot -\\inf$ |\n",
    "| God doesn't exist | $(1-p) \\cdot j$ | $(1-p) \\cdot k$ |\n",
    "\n",
    "- Expected value of believing: $p \\cdot +\\inf + (1-p) \\cdot j = +\\inf$\n",
    "- Expected value of not believing: $p \\cdot -\\inf + (1-p) \\cdot k = -\\inf$"
   ]
  },
  {
   "attachments": {},
   "cell_type": "markdown",
   "metadata": {},
   "source": [
    "## Theory"
   ]
  },
  {
   "attachments": {},
   "cell_type": "markdown",
   "metadata": {},
   "source": [
    "- There is a more realistic application, where expectation can be infinite even if random variable is finite\n",
    "    - This is the St. Petersburg Paradox\n",
    "\n",
    "- How much would you pay to play this game?\n",
    "    - You start with $1 in a jar\n",
    "    - On each turn, you flip a coin. If heads, double money in jar. If tails, you cash out whatever is in the jar\n",
    "    - Example: If you get HHHT, you will cash out $1*2*2*2 = 8$\n",
    "    - How much will you pay to play this game?\n",
    "\n",
    "- Let's try computing the expected value of the game\n",
    "    - 1 Toss: 1/2^1 chance, $2^0 payout, expectation: 0.5\n",
    "    - 2 Toss: 1/2^2 chance, $2^1 payout, expectation: 0.5\n",
    "    - 3 Toss: 1/2^3 chance, $2^2 payout, expectation: 0.5\n",
    "    - ...\n",
    "\n",
    "    - Total expected value = $\\sum^{\\inf} 0.5$, so the expected value of the game is actually $\\$\\inf$!!!\n",
    "\n",
    "    - But in all likelihood, you won't meet anyone willing to pay any amount to play this"
   ]
  },
  {
   "attachments": {},
   "cell_type": "markdown",
   "metadata": {},
   "source": []
  }
 ],
 "metadata": {
  "language_info": {
   "name": "python"
  },
  "orig_nbformat": 4
 },
 "nbformat": 4,
 "nbformat_minor": 2
}
