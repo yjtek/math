{
 "cells": [
  {
   "cell_type": "code",
   "execution_count": 2,
   "metadata": {},
   "outputs": [],
   "source": [
    "import scipy\n",
    "import numpy as np\n",
    "import matplotlib.pyplot as plt"
   ]
  },
  {
   "cell_type": "markdown",
   "metadata": {},
   "source": [
    "### 1. Let X and Y be continuous random variables with joint p.d.f. \n",
    "\n",
    "$$f(x,y) = \\begin{Bmatrix} \\frac{1}{12} (1 + \\frac{1}{18} (x-2)(2y-3)) & 0 \\lt x \\lt 4 , 0 \\lt y \\lt 3 \\\\ 0 & \\text{otherwise} \\end{Bmatrix}$$"
   ]
  },
  {
   "cell_type": "markdown",
   "metadata": {},
   "source": [
    "#### a. Find the marginal p.d.f.s of X and Y. Are these named distributions? (Feel free to set up and the integral and use Wolfram Alpha to do the rest.)"
   ]
  },
  {
   "cell_type": "markdown",
   "metadata": {},
   "source": [
    "- Looks like uniform marginal distribution"
   ]
  },
  {
   "cell_type": "markdown",
   "metadata": {},
   "source": [
    "$$\\begin{align}\n",
    "    f_X(x) &= \\int_{y=0}^{3} f(x,y) dy \\\\\n",
    "    &= \\int_{y=0}^{3} \\frac{1}{12} + \\frac{1}{216}(x-2)(2y-3) dy \\\\\n",
    "    &= \\int_{y=0}^{3} \\frac{18}{216} + \\frac{2xy - 3x - 4y + 6}{216} dy \\\\\n",
    "    &= \\int_{y=0}^{3} \\frac{2xy - 3x - 4y + 24}{216} dy \\\\\n",
    "    &= [\\frac{xy^2 - 3xy - 2y^2 + 24y}{216}]^3_0 \\\\\n",
    "    &= [\\frac{9x - 9x - 18 + 72}{216}] - [0] \\\\\n",
    "    &= \\frac{54}{216} \\\\\n",
    "    &= \\frac{1}{4}\n",
    "\\end{align}$$\n",
    "\n",
    "\n",
    "$$\\begin{align}\n",
    "    f_Y(y) &= \\int_{x=0}^{4} f(x,y) dx \\\\\n",
    "    &= \\int_{x=0}^{4} \\frac{1}{12} + \\frac{1}{216}(x-2)(2y-3) dx \\\\\n",
    "    &= \\int_{x=0}^{4} \\frac{18}{216} + \\frac{2xy - 3x - 4y + 6}{216} dx \\\\\n",
    "    &= \\int_{x=0}^{4} \\frac{2xy - 3x - 4y + 24}{216} dx \\\\\n",
    "    &= [\\frac{x^2y - 1.5x^2 - 4xy + 24x}{216}]^4_0 \\\\\n",
    "    &= \\frac{16y - 24 - 16y + 96}{216} \\\\\n",
    "    &= \\frac{72}{216} \\\\\n",
    "    &= \\frac{1}{3}\n",
    "\\end{align}$$"
   ]
  },
  {
   "cell_type": "markdown",
   "metadata": {},
   "source": [
    "#### b. Are X and Y independent? (Hint: According to Theorem 42.1, what would their joint p.d.f. have to be if they were independent?)"
   ]
  },
  {
   "cell_type": "markdown",
   "metadata": {},
   "source": [
    "- If X and Y are independent, $f(x,y) = f_X(x) \\cdot f_Y(y)$\n",
    "- $ f_X(x) \\cdot f_Y(y) = \\frac{1}{12} $ for all values of X and Y\n",
    "- However, $f(x,y)$ is not $\\frac{1}{12}$ across all values of X and Y\n",
    "- For example, at $X=3, Y=2$\n",
    "\n",
    "$$\\begin{align}\n",
    "    \\frac{1}{12} (1 + \\frac{1}{18} (x-2)(2y-3)) &= \\frac{1}{12} (1 + \\frac{1}{18} (1)(1)) \\\\\n",
    "    &= \\frac{1}{12} + \\frac{1}{12} \\cdot \\frac{1}{18} \n",
    "\\end{align}$$\n",
    "\n",
    "- Hence, X and Y are not independent"
   ]
  },
  {
   "cell_type": "markdown",
   "metadata": {},
   "source": [
    "### 2. Harry and Sally independently go to Katz’s Deli for lunch on weekdays from their respective jobs. Let H be the time that Harry arrives and S be the time that Sally arrives (in minutes after 12 p.m.). H and S are independent $\\text{Uniform}(a=0, b=90)$ random variables."
   ]
  },
  {
   "cell_type": "markdown",
   "metadata": {},
   "source": [
    "#### a. What is the joint p.d.f. of H and S? Sketch a bird’s-eye view of the joint p.d.f."
   ]
  },
  {
   "cell_type": "code",
   "execution_count": 11,
   "metadata": {},
   "outputs": [
    {
     "data": {
      "image/png": "[encoded data removed]",
      "text/plain": [
       "<Figure size 640x480 with 1 Axes>"
      ]
     },
     "metadata": {},
     "output_type": "display_data"
    }
   ],
   "source": [
    "hvals = np.arange(0,90,0.1)\n",
    "svals = np.arange(0,90,0.1)\n",
    "plt.xlim(-10, 100)\n",
    "plt.ylim(-10, 100)\n",
    "plt.fill_between(hvals, 0, 90, alpha=0.3);"
   ]
  },
  {
   "cell_type": "markdown",
   "metadata": {},
   "source": [
    "####  b. If they each take 20 minutes to eat their lunch after they arrive, what is the probability that Harry meets Sally? (Hint: The two are able to meet if they arrive within 20 minutes of each other. Sketch the region of times that correspond to Harry and Sally meeting. You can calculate this probability by geometry, without using integration.) "
   ]
  },
  {
   "cell_type": "markdown",
   "metadata": {},
   "source": [
    "- Area within 20 mins of each other is\n",
    "$$ \\frac{90^2 - 2*0.5*70*70}{90^2} = \\frac{3200}{8100} = 0.395$$"
   ]
  },
  {
   "cell_type": "code",
   "execution_count": 14,
   "metadata": {},
   "outputs": [
    {
     "data": {
      "image/png": "[encoded data removed]",
      "text/plain": [
       "<Figure size 640x480 with 1 Axes>"
      ]
     },
     "metadata": {},
     "output_type": "display_data"
    }
   ],
   "source": [
    "hvals = np.arange(0,90,0.1)\n",
    "svals = np.arange(0,90,0.1)\n",
    "\n",
    "svals_ul = hvals + 20\n",
    "svals_ul = np.where(svals_ul > 90, 90, svals_ul)\n",
    "svals_ll = hvals - 20\n",
    "svals_ll = np.where(svals_ll < 0, 0, svals_ll)\n",
    "\n",
    "plt.xlim(-10, 100)\n",
    "plt.ylim(-10, 100)\n",
    "plt.fill_between(hvals, 0, 90, alpha=0.3);\n",
    "plt.fill_between(hvals, svals_ll, svals_ul, alpha=0.3);"
   ]
  },
  {
   "cell_type": "markdown",
   "metadata": {},
   "source": [
    "#### c. What is the probability that Harry arrives after Sally arrives?"
   ]
  },
  {
   "cell_type": "markdown",
   "metadata": {},
   "source": [
    "- 0.5, because these are independent uniform distributions"
   ]
  }
 ],
 "metadata": {
  "kernelspec": {
   "display_name": "leetcode",
   "language": "python",
   "name": "python3"
  },
  "language_info": {
   "codemirror_mode": {
    "name": "ipython",
    "version": 3
   },
   "file_extension": ".py",
   "mimetype": "text/x-python",
   "name": "python",
   "nbconvert_exporter": "python",
   "pygments_lexer": "ipython3",
   "version": "3.10.4"
  },
  "orig_nbformat": 4
 },
 "nbformat": 4,
 "nbformat_minor": 2
}
