{
 "cells": [
  {
   "attachments": {},
   "cell_type": "markdown",
   "metadata": {},
   "source": [
    "## Theory"
   ]
  },
  {
   "cell_type": "markdown",
   "metadata": {},
   "source": [
    "- **Theorem 39.1**: Recall the definition of variance from the earlier chapters (e.g. 28) \n",
    "\n",
    "$$\\begin{align}\n",
    "    Var[X] &= E[(X - E[X])^2] \\\\\n",
    "    &= E[X^2 - 2X E[X] + (E[X])^2] \\\\\n",
    "    &= E[X^2] - 2E[X]^2 + E[X]^2 \\\\\n",
    "    &= E[X^2] - E[X]^2\n",
    "\\end{align}$$\n",
    "\n",
    "- Standard deviation is simply defined as $SD[X] = \\sqrt{Var[X]}$"
   ]
  },
  {
   "cell_type": "markdown",
   "metadata": {},
   "source": [
    "#### Example 39.1 (Variance of Uniform Distribution)"
   ]
  },
  {
   "cell_type": "markdown",
   "metadata": {},
   "source": [
    "- Let $X \\sim \\text{Uniform}(a,b)$ random varible\n",
    "- From examples 37.1 and 38.1\n",
    "    - $E[X^2] = \\frac{b^3 - a^3}{3 (b-a)}$\n",
    "    - $E[X]^2 = (\\frac{a+b}{2})^2$\n",
    "- Consequently\n",
    "    - $$\\begin{align}\n",
    "        Var[X] &= E[X^2] - E[X]^2 \\\\\n",
    "        &= \\frac{b^3 - a^3}{3 (b-a)} - (\\frac{a+b}{2})^2 \\\\\n",
    "        &= \\frac{b^3 - a^3}{3 (b-a)} - \\frac{a^2 + 2ab + b^2}{4} \\\\\n",
    "        &= \\frac{4b^3 - 4a^3}{12 (b-a)} - \\frac{3(b-a)(a^2 + 2ab + b^2)}{12 (b-a)} \\\\\n",
    "        &= \\frac{4b^3 - 4a^3 - 3a^2b + 3a^3 - 6ab^2 + 6a^2b - 3b^3 + 3ab^2}{12 (b-a)} \\\\\n",
    "        &= \\frac{b^3 - a^3 + 3a^2b - 3ab^2}{12(b-a)} \\\\\n",
    "        &= \\frac{(b-a)^3}{12(b-a)} \\\\\n",
    "        &= \\frac{(b-a)^2}{12} \\\\\n",
    "        \\end{align}$$"
   ]
  },
  {
   "cell_type": "markdown",
   "metadata": {},
   "source": [
    "#### Example 39.2 (Variance of the Exponential Distribution)"
   ]
  },
  {
   "cell_type": "markdown",
   "metadata": {},
   "source": [
    "- Let $X$ be a $\\text{Exponential}(\\lambda)$ random variable. We calculated $E[X]$ in example 37.2 and E[X^2] in example 38.2, so most of the work has already been done.\n",
    "\n",
    "$$\\begin{align}\n",
    "    Var[X] &= E[X^2] - E[X]^2 \\\\\n",
    "    &= \\frac{2}{\\lambda^2} - (\\frac{1}{\\lambda})^2 \\\\\n",
    "    &= \\frac{1}{\\lambda^2}\n",
    "\\end{align}$$"
   ]
  }
 ],
 "metadata": {
  "language_info": {
   "name": "python"
  },
  "orig_nbformat": 4
 },
 "nbformat": 4,
 "nbformat_minor": 2
}
