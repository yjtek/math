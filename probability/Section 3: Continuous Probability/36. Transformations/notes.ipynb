{
 "cells": [
  {
   "attachments": {},
   "cell_type": "markdown",
   "metadata": {},
   "source": [
    "## Motivating Example"
   ]
  },
  {
   "cell_type": "markdown",
   "metadata": {},
   "source": [
    "You buy fencing for a square enclosure. The length of fencing that you buy is uniformly distributed between 0 and 4 meters. What is the distribution of the area of the enclosure?\n",
    "\n",
    "Most people realize that the area must be between 0 and 1 square meters, since the length of each side must be between 0 and 1 meters, and the square of a number between 0 and 1 is also between 0 and 1. But how likely are the values in between?"
   ]
  },
  {
   "cell_type": "markdown",
   "metadata": {},
   "source": [
    "- Motivating qn:\n",
    "    - Let length of total fencing be L\n",
    "    - Let area enclosed by fencing of length L be A\n",
    "    - $L \\sim \\text{Uniform}(a=0,b=4)$\n",
    "    - $A = (\\frac{L}{4})^2$\n",
    "    - What is the PDF/CDF of A?"
   ]
  },
  {
   "attachments": {},
   "cell_type": "markdown",
   "metadata": {},
   "source": [
    "## Theory"
   ]
  },
  {
   "cell_type": "markdown",
   "metadata": {},
   "source": [
    "- Generally, the strategy to solve this type of problems comes in 2 parts\n",
    "    - Calculate the CDF of Y by rewriting in terms of X, and use known CDF of X\n",
    "    - Take derivative of $F_Y(y)$ to find PDF of Y"
   ]
  },
  {
   "cell_type": "markdown",
   "metadata": {},
   "source": [
    "#### Example 36.1 (Solving motivating example)"
   ]
  },
  {
   "cell_type": "markdown",
   "metadata": {},
   "source": [
    "$$\\begin{align}\n",
    "    F_A(a) &= P(A \\le a) \\\\\n",
    "    &= P((\\frac{L}{4})^2 \\le a) \\\\ \n",
    "    &= P(L \\le 4 \\sqrt{a}) \\\\ \n",
    "    &= \\begin{Bmatrix} 0 & a\\lt 0 \\\\ \\sqrt{a} & 0 \\le a \\le 1 \\\\ 1 & a \\gt 1 \\end{Bmatrix}\n",
    "    \\\\ \\\\\n",
    "\n",
    "    f_A(a) &= \\frac{\\partial}{\\partial a} F_A(a) \\\\\n",
    "    &= \\begin{Bmatrix} \\frac{1}{2\\sqrt{a}} & 0 \\le a \\le 1 \\\\ 0 & \\text{otherwise} \\end{Bmatrix}\n",
    "\\end{align}$$"
   ]
  },
  {
   "cell_type": "markdown",
   "metadata": {},
   "source": [
    "- There are 2 common types of transformations; the shift, and the scale"
   ]
  },
  {
   "cell_type": "markdown",
   "metadata": {},
   "source": [
    "#### Theorem 36.1: Shift Transformation"
   ]
  },
  {
   "cell_type": "markdown",
   "metadata": {},
   "source": [
    "- Let X be random variable with PDF $f_X$. \n",
    "- The PDF of Y = X + b is $f_Y(y) = f_X(y - b)$\n",
    "\n",
    "- **Proof:**\n",
    "    - Let's start with the CDF of Y\n",
    "    - $$\\begin{align}\n",
    "        F_Y(y) &= P(Y \\le y) \\\\\n",
    "        &= P(X + b \\le y) \\\\\n",
    "        &= P(X \\le y - b) \\\\\n",
    "        &= F_X(y-b)\n",
    "        \\end{align}$$\n",
    "    - Taking the first derivative:\n",
    "    - $$\\begin{align}\n",
    "        f_Y(y) &= \\frac{\\partial}{\\partial y} F_Y(y) \\\\\n",
    "        &= \\frac{\\partial}{\\partial y} F_X(y-b) \\\\\n",
    "        &= f_X(y-b)\n",
    "        \\end{align}$$"
   ]
  },
  {
   "cell_type": "markdown",
   "metadata": {},
   "source": [
    "#### Theorem 36.2: Scale Transformation"
   ]
  },
  {
   "cell_type": "markdown",
   "metadata": {},
   "source": [
    "- Let X be random variable with PDF $f_X$\n",
    "- The PDF of $Y = aX$ is \n",
    "$$\n",
    "    f_Y(y) = \\frac{1}{a} f_X(\\frac{y}{a})\n",
    "$$\n",
    "\n",
    "- **Proof**\n",
    "    - $$\\begin{align}\n",
    "        F_Y(y) &= P(Y \\le y) \\\\\n",
    "        &= P(aX \\le y) \\\\\n",
    "        &= P(X \\le \\frac{y}{a}) \\\\\n",
    "        &= F_X(\\frac{y}{a}) \\\\\n",
    "        \\end{align}$$\n",
    "    - After taking first derivative...\n",
    "    - $$\\begin{align}\n",
    "        f_Y(y) &= F'_{Y}(y) \\\\\n",
    "        &= F'_{X}(\\frac{y}{a}) \\\\\n",
    "        &= \\frac{1}{a} f_X(\\frac{y}{a})\n",
    "        \\end{align}$$\n"
   ]
  }
 ],
 "metadata": {
  "kernelspec": {
   "display_name": "Python 3",
   "language": "python",
   "name": "python3"
  },
  "language_info": {
   "name": "python",
   "version": "3.10.4"
  },
  "orig_nbformat": 4
 },
 "nbformat": 4,
 "nbformat_minor": 2
}
