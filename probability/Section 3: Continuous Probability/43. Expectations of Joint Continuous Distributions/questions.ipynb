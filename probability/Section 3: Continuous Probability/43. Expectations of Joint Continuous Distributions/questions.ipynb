{
 "cells": [
  {
   "cell_type": "code",
   "execution_count": 2,
   "metadata": {},
   "outputs": [],
   "source": [
    "import scipy\n",
    "import numpy as np\n",
    "import matplotlib.pyplot as plt"
   ]
  },
  {
   "cell_type": "markdown",
   "metadata": {},
   "source": [
    "### 1. The magnetizing force H at a point P, which is X meters from a wire carrying a current I (in Amperes), is given by $H = \\frac{2I}{X}$ (See the figure below. This follows from the Biot-Savart Law.) Suppose that the point P is chosen randomly so that X is a continuous random variable uniformly distributed over (3,5). Assume that the current I is also a continuous random variable, uniformly distributed over (10, 20). Suppose, in addition, that the random variables X and I are independent. Find the expected magnetizing force E[H]. (Hint: Use independence so that you do not have do any double integrals.)\n",
    "\n",
    "![Alt text](image.png)"
   ]
  },
  {
   "cell_type": "markdown",
   "metadata": {},
   "source": [
    "- Recapping facts\n",
    "    - $H = \\frac{2I}{X}$\n",
    "    - $X \\sim \\text{Uniform}(a=3, b=5)$\n",
    "        - $ E[X] = \\int_{3}^{5} x \\cdot \\frac{1}{5-3} dx = [\\frac{x^2}{4}]^5_3 = 4$\n",
    "    - $I \\sim \\text{Uniform}(a=10, b=20)$\n",
    "        - $ E[I] = \\int_{10}^{20} x \\cdot \\frac{1}{20-10} dx = [\\frac{x^2}{20}]^{20}_{10} = 15$\n",
    "    - X and I are independent\n",
    "    - What is $E[H]$?\n",
    "\n",
    "- There are 2 approaches here. Use the linearty of expectations, OR do a double integral. We'll show both\n",
    "\n",
    "- Approach 1: Linearity of Expectations\n",
    "    - $$\\begin{align}\n",
    "        E[H] &= E[\\frac{2I}{X}] \\\\\n",
    "        &= 2 \\cdot E[I] \\cdot E[\\frac{1}{X}] \\\\\n",
    "        &= 2 \\cdot 15 \\cdot \\int_{3}^{5} \\frac{1}{X} f(x) dx \\\\\n",
    "        &= 2 \\cdot 15 \\cdot [ln(X)]^5_3 \\cdot \\frac{1}{2}\\\\\n",
    "        &= 15 \\cdot ln(\\frac{5}{3}) \\\\\n",
    "        \\end{align}$$\n",
    "\n",
    "- Approach 2: Double integral\n",
    "    - $$\\begin{align}\n",
    "        E[H] &= E[\\frac{2I}{X}] \\\\\n",
    "        &= \\int_{i=10}^{20} \\int_{x=3}^{5} \\frac{2I}{X} f(x,i) dx di & f(x,i) = f(x) \\cdot f(i) = \\frac{1}{2} \\cdot \\frac{1}{10} = \\frac{1}{20} \\\\\n",
    "        &= \\frac{1}{20} \\int_{i=10}^{20} \\int_{x=3}^{5} \\frac{2I}{X} dx di \\\\\n",
    "        &= \\frac{1}{20} \\int_{i=10}^{20} 2I \\int_{x=3}^{5} \\frac{1}{X} dx di \\\\\n",
    "        &= \\frac{1}{20} \\int_{i=10}^{20} 2I [ln(X)]^5_3 di \\\\\n",
    "        &= \\frac{1}{20} \\int_{i=10}^{20} 2I [ln(\\frac{5}{3})] di \\\\\n",
    "        &= \\frac{\\ln(\\frac{5}{3})}{20} \\int_{i=10}^{20} 2I di \\\\\n",
    "        &= \\frac{\\ln(\\frac{5}{3})}{20} [I^2]^{20}_{10} \\\\\n",
    "        &= \\frac{300 \\ln(\\frac{5}{3})}{20} \\\\\n",
    "        &= 15 \\ln(\\frac{5}{3})\n",
    "        \\end{align}$$"
   ]
  },
  {
   "cell_type": "markdown",
   "metadata": {},
   "source": [
    "### 2. Let A be a $\\text{Exponential}(\\lambda = 1.5)$ random variable, and let $\\theta$ be a $\\text{Uniform}(a=−\\pi, b=\\pi)$ random variable. Assume $A$ and $\\theta$ are independent. Let s,t be constants, so your answers may depend on s,t. Calculate:"
   ]
  },
  {
   "cell_type": "markdown",
   "metadata": {},
   "source": [
    "#### a. $E[A \\cos(\\Theta + 2 \\pi t)]$"
   ]
  },
  {
   "cell_type": "markdown",
   "metadata": {},
   "source": [
    "$$\\begin{align}\n",
    "    E[A \\cos(\\Theta + 2 \\pi t)] &= E[A] \\cdot E[\\cos(\\Theta + 2 \\pi t)] \\\\\n",
    "    &= \\frac{1}{\\lambda} \\cdot \\int_{-\\pi}^{\\pi} \\cos(\\Theta + 2\\pi t) \\cdot \\frac{1}{2\\pi}\\text{ } d\\Theta \\\\\n",
    "    &= \\frac{1}{\\lambda} \\cdot \\frac{1}{2\\pi} \\cdot \\int_{-\\pi}^{\\pi} \\cos(U) \\text{ } dU & \\text{where } U = \\Theta + 2\\pi t, dU = 1 d\\Theta \\\\\n",
    "    &= \\frac{1}{2 \\pi \\lambda} \\cdot [-\\sin(U)]^{\\pi}_{-\\pi} \\\\\n",
    "    &= \\frac{1}{2 \\pi \\lambda} \\cdot 0 \\\\\n",
    "    &= 0\n",
    "\\end{align}$$"
   ]
  },
  {
   "cell_type": "markdown",
   "metadata": {},
   "source": [
    "#### b. $E[A^2 \\cos^2(\\Theta + 2 \\pi t)]$"
   ]
  },
  {
   "cell_type": "markdown",
   "metadata": {},
   "source": [
    "$$\\begin{align}\n",
    "    E[A^2 \\cos^2(\\Theta + 2 \\pi t)] &= E[A^2] \\cdot E[\\cos^2(\\Theta + 2 \\pi t)] \\\\\n",
    "    &= (Var[A] + E[A]^2) \\cdot E[\\cos^2(\\Theta + 2 \\pi t)] \\\\\n",
    "    &= \\frac{2}{\\lambda^2} \\cdot \\int_{-\\pi}^{\\pi} \\cos^2(\\Theta + 2 \\pi t) f(\\Theta) d\\Theta \\\\\n",
    "    &= \\frac{8}{9} \\cdot \\int_{-\\pi}^{\\pi} \\cos^2(\\Theta + 2 \\pi t) \\frac{1}{2\\pi} d\\Theta \\\\\n",
    "    &= \\frac{1}{2\\pi} \\frac{8}{9}\\cdot \\int_{-\\pi}^{\\pi} \\cos^2(\\Theta + 2 \\pi t) d\\Theta & \\cos^2(x) = \\frac{1 + \\cos(2x)}{2} \\\\\n",
    "    &= \\frac{1}{2\\pi} \\frac{8}{9}\\cdot \\int_{-\\pi}^{\\pi} \\frac{1 + \\cos(2\\Theta + 4\\pi t)}{2} d\\Theta \\\\\n",
    "    &= \\frac{1}{2\\pi} \\frac{8}{9}\\cdot [\\int_{-\\pi}^{\\pi} \\frac{1}{2} d\\Theta + \\int_{-\\pi}^{\\pi} \\frac{\\cos(2\\Theta + 4\\pi t)}{2} d\\Theta] \\\\\n",
    "    &= \\frac{4}{9\\pi} \\cdot [ [\\frac{\\Theta}{2}]^{\\pi}_{-\\pi} + \\int_{-\\pi}^{\\pi} \\frac{\\cos(2\\Theta + 4\\pi t)}{2} d\\Theta ]\\\\\n",
    "    &= \\frac{4}{9\\pi} \\cdot [\\pi + \\int_{-\\pi}^{\\pi} \\frac{\\cos(2\\Theta + 4\\pi t)}{2} d\\Theta] \\\\\n",
    "    &= \\frac{4}{9\\pi} \\cdot [\\pi + \\frac{1}{2}\\int_{-\\pi}^{\\pi} \\frac{\\cos(U)}{2} dU] & U = 2\\Theta + 4\\pi t, dU = 2 d\\Theta \\rightarrow d\\Theta = \\frac{dU}{2} \\\\\n",
    "    &= \\frac{4}{9\\pi} \\cdot [\\pi + \\frac{1}{4} [-\\sin(U)]^{\\pi}_{-\\pi}] \\\\\n",
    "    &= \\frac{4}{9\\pi} \\cdot [\\pi + 0] \\\\\n",
    "    &= \\frac{4}{9}\n",
    "\\end{align}$$"
   ]
  },
  {
   "cell_type": "markdown",
   "metadata": {},
   "source": [
    "#### c. $E[A^2 \\cos(\\Theta + 2 \\pi s) \\cos(\\Theta + 2 \\pi t)]$"
   ]
  },
  {
   "cell_type": "markdown",
   "metadata": {},
   "source": [
    "$$\\begin{align}\n",
    "    E[A^2 \\cos(\\Theta + 2 \\pi s) \\cos(\\Theta + 2 \\pi t)] &= E[A^2] \\cdot E[\\cos(\\Theta + 2 \\pi s) \\cos(\\Theta + 2 \\pi t)] \\\\\n",
    "    &= \\frac{8}{9} \\cdot E[\\cos(\\Theta + 2 \\pi s) \\cos(\\Theta + 2 \\pi t)] & \\text{Use } E[A^2] \\text{ from part b.} \\\\\n",
    "    &= \\frac{8}{9} \\cdot \\int_{-\\pi}^{\\pi} \\cos(\\Theta + 2 \\pi s) \\cos(\\Theta + 2 \\pi t) f(\\Theta) d\\Theta \\\\\n",
    "    &= \\frac{8}{9} \\cdot \\int_{-\\pi}^{\\pi} \\cos(\\Theta + 2 \\pi s) \\cos(\\Theta + 2 \\pi t) \\frac{1}{2\\pi} d\\Theta \\\\\n",
    "    &= \\frac{4}{9\\pi} \\cdot \\int_{-\\pi}^{\\pi} \\cos(\\Theta + 2 \\pi s) \\cos(\\Theta + 2 \\pi t) d\\Theta \\\\\n",
    "    &= \\frac{4}{9\\pi} \\cdot \\int_{-\\pi}^{\\pi} \\frac{1}{2} [\\cos(\\Theta + 2 \\pi s + \\Theta + 2 \\pi t) + \\cos(\\Theta + 2 \\pi s - \\Theta - 2 \\pi t)] d\\Theta & \\text{by product-sum identity}\\\\\n",
    "    &= \\frac{2}{9\\pi} \\cdot \\int_{-\\pi}^{\\pi} [\\cos(2\\Theta + 2 \\pi s + 2 \\pi t) + \\cos(2 \\pi s - 2 \\pi t)] d\\Theta \\\\\n",
    "    &= \\frac{2}{9\\pi} \\cdot [ \\int_{-\\pi}^{\\pi} \\cos(2\\Theta + 2 \\pi s + 2 \\pi t) d\\Theta + \\int_{-\\pi}^{\\pi} \\cos(2 \\pi s - 2 \\pi t) d\\Theta ] \\\\\n",
    "    &= \\frac{2}{9\\pi} \\cdot [ \\int_{-\\pi}^{\\pi} \\frac{\\cos(U)}{2} dU + [\\cos(2 \\pi s - 2 \\pi t) \\Theta]^{\\pi}_{-\\pi} ] & U = 2\\Theta + 2 \\pi s + 2 \\pi t, dU = 2 d\\Theta \\\\\n",
    "    &= \\frac{2}{9\\pi} \\cdot [ \\frac{1}{2} \\cdot [-\\sin(U)]^{\\pi}_{-\\pi} + [\\cos(2 \\pi s - 2 \\pi t) \\Theta]^{\\pi}_{-\\pi} ] \\\\\n",
    "    &= \\frac{2}{9\\pi} \\cdot [0 + 2 \\pi \\cos(2 \\pi s - 2 \\pi t)] \\\\\n",
    "    &= \\frac{4}{9} \\cdot [\\cos(2 \\pi s - 2 \\pi t)] \n",
    "\\end{align}$$\n",
    "\n",
    "- Note that when $s == t$\n",
    "    - $E[A^2 \\cos(\\Theta + 2 \\pi s) \\cos(\\Theta + 2 \\pi t)] = E[A^2 \\cos^2(\\Theta + 2 \\pi s)]$, which reduces to the question in part b.\n",
    "    - The answer $\\frac{4}{9} \\cdot [\\cos(2 \\pi s - 2 \\pi t)] = \\frac{4}{9} \\cdot [\\cos(0)] = \\frac{4}{9}$, which is the same as part b"
   ]
  },
  {
   "cell_type": "markdown",
   "metadata": {},
   "source": [
    "### 3. In a standby system, a component is used until it wears out and is then immediately replaced by another, not necessarily identical, component. (The second component is said to be “in standby mode,” i.e., waiting to be used.) The overall lifetime of a standby system is just the sum of the lifetimes of its individual components. Let X and Y denote the lifetimes of the two components of a standby system, and suppose X and Y are independent exponentially distributed random variables with expected lifetimes 3 weeks and 4 weeks, respectively. Let $T = X+Y$, the lifetime of the standby system. What is the expected lifetime of the system?"
   ]
  },
  {
   "cell_type": "markdown",
   "metadata": {},
   "source": [
    "- By linearity of expectations, $E[T] = E[X] + E[Y]$ regardless of their joint distribution\n",
    "- $E[T] = E[X] + E[Y] = 3 + 4 = 7$"
   ]
  }
 ],
 "metadata": {
  "kernelspec": {
   "display_name": "leetcode",
   "language": "python",
   "name": "python3"
  },
  "language_info": {
   "codemirror_mode": {
    "name": "ipython",
    "version": 3
   },
   "file_extension": ".py",
   "mimetype": "text/x-python",
   "name": "python",
   "nbconvert_exporter": "python",
   "pygments_lexer": "ipython3",
   "version": "3.10.4"
  },
  "orig_nbformat": 4
 },
 "nbformat": 4,
 "nbformat_minor": 2
}
