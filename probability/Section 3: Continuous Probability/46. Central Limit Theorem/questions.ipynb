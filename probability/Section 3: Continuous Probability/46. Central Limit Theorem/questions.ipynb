{
 "cells": [
  {
   "cell_type": "code",
   "execution_count": 12,
   "metadata": {},
   "outputs": [],
   "source": [
    "import scipy\n",
    "import numpy as np\n",
    "import matplotlib.pyplot as plt"
   ]
  },
  {
   "cell_type": "markdown",
   "metadata": {},
   "source": [
    "### 1. There are 40 students in an elementary statistics class. From years of experience, the instructor knows that the time needed to grade a randomly chosen paper from an exam is a random variable with an expected value of 6 min and a standard deviation of 6 min. If grading times are independent and the instructor begins grading at 8:00 p.m. and grades continuously, what is the (approximate) probability that she is done grading before the late night shows begin at 11:30 p.m.?"
   ]
  },
  {
   "cell_type": "markdown",
   "metadata": {},
   "source": [
    "- Let T be the total time taken for all papers\n",
    "- Let p be the time taken for 1 paper\n",
    "- By CLT, $T \\sim \\text{Normal}(\\mu = 6 * 40, \\sigma^2 = 40 * 6^2)$\n",
    "    - $E[T] = 240$\n",
    "    - $Var[T] = 40 * 36 = 1440$\n",
    "    - $SD[T] = \\sqrt{1440} = 37.95$\n",
    "\n",
    "$$\\begin{align}\n",
    "    P(T < 210) &= P(Z < \\frac{210 - 240}{37.95}) \\\\\n",
    "    &= P(Z < \\frac{210 - 240}{37.95}) \\\\\n",
    "    &= P(Z < -0.7905) \\\\\n",
    "    &= 0.215\n",
    "\\end{align}$$"
   ]
  },
  {
   "cell_type": "code",
   "execution_count": 13,
   "metadata": {},
   "outputs": [
    {
     "data": {
      "text/plain": [
       "0.21429"
      ]
     },
     "execution_count": 13,
     "metadata": {},
     "output_type": "execute_result"
    }
   ],
   "source": [
    "times = np.random.normal(loc=240, scale=37.95, size=100_000)\n",
    "len(times[times < 210]) / 100_000"
   ]
  },
  {
   "cell_type": "markdown",
   "metadata": {},
   "source": [
    "### 2. In roulette, a bet on a single number has a 1/38 probability of success and pays 35-to-1. Consider betting on a single number on each of n spins of a roulette wheel. Let $\\bar{X_n}$ be your average net winnings per bet."
   ]
  },
  {
   "cell_type": "markdown",
   "metadata": {},
   "source": [
    "- Let $X_i$ be a random variable representing the winning for a single bet\n",
    "    - There are 2 possible outcomes; (i) $\\frac{37}{38}$ change of $-1$, and (ii) $\\frac{1}{38}$ of $35$\n",
    "    - $E[X_i] = \\frac{37}{38} * -1 + \\frac{1}{38} * 35 = -0.0526$\n",
    "    - $$\\begin{align}\n",
    "        Var[X_i] &= \\frac{37}{38} * (-1 - (-0.0526))^2 + \\frac{1}{38} * (35 - (-0.0526))^2 \\\\\n",
    "        &= \\frac{37}{38} * 0.8976 + \\frac{1}{38} * 1228.68 \\\\\n",
    "        &= 0.8740 + 32.33 \\\\\n",
    "        &= 33.204\n",
    "        \\end{align}$$\n",
    "    - $SD[X_i] = \\sqrt{33.204} = 5.76$"
   ]
  },
  {
   "cell_type": "code",
   "execution_count": 158,
   "metadata": {},
   "outputs": [],
   "source": [
    "def get_winnings_per_bet(bet_count: int):\n",
    "    count_wins = np.random.binomial(n=bet_count, p=1/38, size=1_000_000)\n",
    "    winnings_per_bet = (((bet_count - count_wins) * -1) + (count_wins * 35))/bet_count\n",
    "    #print(np.mean(winnings_per_bet), np.var(winnings_per_bet))\n",
    "    return winnings_per_bet"
   ]
  },
  {
   "cell_type": "markdown",
   "metadata": {},
   "source": [
    "#### a. For which of the following values of n is $\\bar{X_n}$ close to normally distributed? Do a simulation to find out. (Copy the code below into a Colab and modify.) n = 10/100/1000/10000"
   ]
  },
  {
   "cell_type": "code",
   "execution_count": 157,
   "metadata": {},
   "outputs": [
    {
     "data": {
      "image/png": "[encoded data removed]",
      "text/plain": [
       "<Figure size 640x480 with 1 Axes>"
      ]
     },
     "metadata": {},
     "output_type": "display_data"
    }
   ],
   "source": [
    "def plot_winning_per_bet_dist(bet_count: int):\n",
    "    MAP_COUNT_TO_LIMITS = {\n",
    "        10000: 0.5,\n",
    "        1000: 1,\n",
    "        100: 2,\n",
    "        10: 7.5,\n",
    "    }\n",
    "    winnings_per_bet = get_winnings_per_bet(bet_count)\n",
    "    plt.hist(winnings_per_bet, bins=np.arange(-MAP_COUNT_TO_LIMITS.get(bet_count), MAP_COUNT_TO_LIMITS.get(bet_count), MAP_COUNT_TO_LIMITS.get(bet_count)/200));\n",
    "\n",
    "# plot_winning_per_bet_dist(10)\n",
    "# plot_winning_per_bet_dist(100)\n",
    "# plot_winning_per_bet_dist(1000)\n",
    "plot_winning_per_bet_dist(10000)"
   ]
  },
  {
   "cell_type": "markdown",
   "metadata": {},
   "source": [
    "#### b. For each n, calculate the approximate probability that you come out ahead, i.e., $P(\\bar{X_n} > 0)$. I encourage you to use a combination of simulation and the Central Limit Theorem (but first double check that it works!). (Hint: We calculated the expected value and variance of this bet in previous lessons.)"
   ]
  },
  {
   "cell_type": "markdown",
   "metadata": {},
   "source": [
    "- We know that $\\bar{X_n} = \\frac{\\sum X_i}{n}$, where $X_i$ is the winnings from the $i$-th spin\n",
    "    - We defined above that each spin can have 2 outcomes, -1 or 35\n",
    "- As such \n",
    "    - $$\\begin{align} \n",
    "        E[\\bar{X_n}] &= E[\\frac{\\sum X_i}{n}] \\\\ \n",
    "        &= \\frac{1}{n} E[\\sum X_i] \\\\ \n",
    "        &= \\frac{1}{n} \\cdot n \\cdot E[X_i] \\\\ \n",
    "        &= E[X_i] \n",
    "        \\end{align}$$\n",
    "    - $$\\begin{align} \n",
    "        Var[\\bar{X_n}] &= Var[\\frac{\\sum X_i}{n}] \\\\ \n",
    "        &= \\frac{1}{n^2} Var[\\sum X_i] \\\\ \n",
    "        &= \\frac{1}{n^2} \\cdot n \\cdot Var[X_i] \\\\ \n",
    "        &= \\frac{\\sigma_{X_i}}{n}\n",
    "        \\end{align}$$\n",
    "    \n",
    "- By CLT (assuming the count of $n$ is large), $\\bar{X_n} \\sim \\text{Normal}(\\mu = E[X_1], \\sigma^2 = \\frac{Var[X_1]}{n})$\n",
    "    - $E[\\bar{X_n}] = -0.0526$ for all values of n (10,100,1000,10000)\n",
    "    - However, variance value differs depending on sample size\n",
    "        - $$\\begin{align}\n",
    "            Var[\\bar{X_{10}}] &= \\frac{33.204}{10} = 3.32 \\\\\n",
    "            Var[\\bar{X_{100}}] &= \\frac{33.204}{100} = 0.332 \\\\\n",
    "            Var[\\bar{X_{1000}}] &= \\frac{33.204}{1000} = 0.0332 \\\\\n",
    "            Var[\\bar{X_{10000}}] &= \\frac{33.204}{10000} = 0.00332 \\\\\n",
    "            \\end{align}$$\n",
    "\n",
    "- $$\\begin{align}\n",
    "    P(\\bar{X_n} > 0) &= P(Z > \\frac{0 - -0.0526}{\\sigma_n})\n",
    "    \\end{align}$$\n",
    "\n",
    "- We compute the probabilities for each value of $n$ in [10,100,1000,10000]"
   ]
  },
  {
   "cell_type": "code",
   "execution_count": 160,
   "metadata": {},
   "outputs": [
    {
     "name": "stdout",
     "output_type": "stream",
     "text": [
      "0.48848493348981026 0.4636316250377528 0.38641313309786596 0.1806511647142881\n"
     ]
    }
   ],
   "source": [
    "p_x10_gt_0 = 1 - scipy.stats.norm.cdf(0.0526 / np.sqrt(3.32))\n",
    "p_x100_gt_0 = 1 - scipy.stats.norm.cdf(0.0526 / np.sqrt(0.332))\n",
    "p_x1000_gt_0 = 1 - scipy.stats.norm.cdf(0.0526 / np.sqrt(0.0332))\n",
    "p_x10000_gt_0 = 1 - scipy.stats.norm.cdf(0.0526 / np.sqrt(0.00332))\n",
    "print(p_x10_gt_0, p_x100_gt_0, p_x1000_gt_0, p_x10000_gt_0)"
   ]
  },
  {
   "cell_type": "markdown",
   "metadata": {},
   "source": [
    "- Compare these probabilities with simulations"
   ]
  },
  {
   "cell_type": "code",
   "execution_count": 166,
   "metadata": {},
   "outputs": [
    {
     "name": "stdout",
     "output_type": "stream",
     "text": [
      "0.234156 0.491064 0.39526 0.184436\n"
     ]
    }
   ],
   "source": [
    "def proportion_greater_than_0(bet_count: int):\n",
    "    winnings = get_winnings_per_bet(bet_count)\n",
    "    return len(winnings[winnings > 0]) / len(winnings)\n",
    "\n",
    "psim_x10_gt_0 = proportion_greater_than_0(10)\n",
    "psim_x100_gt_0 = proportion_greater_than_0(100)\n",
    "psim_x1000_gt_0 = proportion_greater_than_0(1000)\n",
    "psim_x10000_gt_0 = proportion_greater_than_0(10000)\n",
    "\n",
    "print(psim_x10_gt_0, psim_x100_gt_0, psim_x1000_gt_0, psim_x10000_gt_0)"
   ]
  },
  {
   "cell_type": "markdown",
   "metadata": {},
   "source": [
    "- The normal approximation works pretty well for n > 100, but it sucks when n=10"
   ]
  },
  {
   "cell_type": "markdown",
   "metadata": {},
   "source": [
    "#### c. The casino wants to determine how many bets on a single number are needed before they have (at least) a 99% probability of making a profit. (Remember, the casino profits if you lose: $\\bar{X_n} < 0$.) Determine the minimum number of bets, keeping in mind that n must be an integer."
   ]
  },
  {
   "cell_type": "markdown",
   "metadata": {},
   "source": [
    "- The question here is asking for the value of $n$ such that $P(\\bar{X_n} < 0) > 0.99$\n",
    "\n",
    "$$\\begin{align}\n",
    "    P(\\bar{X_n} < 0) > 0.99 &= P(Z < \\frac{0.0526}{\\frac{\\sigma}{\\sqrt{n}}}) > 0.99 \\\\\n",
    "    &= P(Z < \\frac{0.0526}{\\frac{\\sigma}{\\sqrt{n}}}) > 0.99 \n",
    "    \\end{align}$$\n",
    "\n",
    "- CDF of standard normal variable is 0.99 when Z = 2.33\n",
    "\n",
    "$$\\begin{align}\n",
    "    \\frac{0.0526}{\\frac{\\sigma}{\\sqrt{n}}} &= 2.33 \\\\\n",
    "    \\frac{\\sigma}{\\sqrt{n}} &= 0.0226 \\\\\n",
    "    \\frac{33.204}{\\sqrt{n}} &= 0.0226 \\\\\n",
    "    \\frac{33.204}{0.0226} &= \\sqrt{n} \\\\\n",
    "    \\frac{33.204}{0.0226} &= \\sqrt{n} \\\\\n",
    "    \\sqrt{n} &= 1469.20 \\\\\n",
    "    n &= 2158559.04142846 \\\\\n",
    "    n &= 2158560 & \\text{Round up}\n",
    "    \\end{align}$$"
   ]
  },
  {
   "cell_type": "markdown",
   "metadata": {},
   "source": [
    "### 3. In San Luis Obispo, radioactive particles reach a Geiger counter according to a Poisson process at a rate of $\\lambda = 0.8$ particles per second. What is the probability that the 100th particle is detected between 90 and 120 seconds? Calculate this probability in two ways:"
   ]
  },
  {
   "cell_type": "markdown",
   "metadata": {},
   "source": [
    "#### a. Argue that the time the 100th particle is detected approximately follows a normal distribution. Use the normal approximation to calculate an approximate probability."
   ]
  },
  {
   "cell_type": "markdown",
   "metadata": {},
   "source": [
    "- Since particles arrive at ~0.8 particles per second, it takes $\\frac{1}{0.8} = 1.25$ seconds for each particle to arrive\n",
    "\n",
    "- Let $T$ be the time that the 100th particle arrives, and $X_i$ be the interarrival times of the particles. Hence $T = X_1 + X_2 + ... X_{100}$\n",
    "\n",
    "- Each $X_i$ follows an exponential distribution with parameter $\\lambda = 0.8$\n",
    "    - $E[X_i] = \\frac{1}{0.8} = 1.25$\n",
    "    - $Var[X_i] = \\frac{1}{0.8^2} = 1.56$\n",
    "\n",
    "- By CLT, $T \\sim \\text{Normal}(\\mu = 100 * 1.25 = 125, \\sigma = \\sqrt{100 * 1.56} = 12.49)$\n",
    "\n",
    "$$\\begin{align}\n",
    "    P(90 < T < 120) &= P(T < 120) - P(T < 90) \\\\\n",
    "    &= P(Z < \\frac{120 - 125}{12.49}) - P(Z < \\frac{90 - 125}{12.49}) \\\\\n",
    "    &= P(Z < -0.400) - P(Z < -2.802) \\\\\n",
    "    &= 0.345 - 0.00254 \\\\\n",
    "    &= 0.342\n",
    "\\end{align}$$"
   ]
  },
  {
   "cell_type": "code",
   "execution_count": 18,
   "metadata": {},
   "outputs": [
    {
     "data": {
      "text/plain": [
       "0.34246"
      ]
     },
     "execution_count": 18,
     "metadata": {},
     "output_type": "execute_result"
    }
   ],
   "source": [
    "1/(0.8**2)\n",
    "np.sqrt(156)\n",
    "(90 -125) / 12.49\n",
    "scipy.stats.norm.cdf(-2.802)\n",
    "0.345 - 0.00254"
   ]
  },
  {
   "cell_type": "markdown",
   "metadata": {},
   "source": [
    "#### b. We derived the exact p.d.f. of the r-th arrival time in Example 45.2. Integrate this p.d.f. to get the exact probability."
   ]
  },
  {
   "cell_type": "markdown",
   "metadata": {},
   "source": [
    "- From example 45.2\n",
    "\n",
    "$$\\begin{align}\n",
    "    f_{S_r}(t) &= \\frac{\\lambda^r}{(r-1)!} \\cdot e^{-\\lambda t} \\cdot t^{r-1} \n",
    "\\end{align}$$\n",
    "\n",
    "- Applying to this context\n",
    "\n",
    "$$\\begin{align}\n",
    "    \\int_{90}^{120} \\frac{0.8^{100}}{(100-1)!} \\cdot e^{-0.8 t} \\cdot t^{100-1} dt\n",
    "    &= 0.35391 & \\text{from wolfram alpha}\n",
    "\\end{align}$$"
   ]
  },
  {
   "cell_type": "markdown",
   "metadata": {},
   "source": [
    "#### c. How good was the normal approximation?"
   ]
  },
  {
   "cell_type": "markdown",
   "metadata": {},
   "source": [
    "- Excellent tbh"
   ]
  },
  {
   "cell_type": "markdown",
   "metadata": {},
   "source": [
    "### 4. A randomly selected apple from the Cal Poly Orchard weighs 4.9 oz. on average, with a standard deviation of 0.3 oz. However, the distribution of the weights of apples is unknown."
   ]
  },
  {
   "cell_type": "markdown",
   "metadata": {},
   "source": [
    "#### a. With the information given, is it possible to determine the probability that a randomly selected apple weighs more than 5.0 oz? If so, calculate it."
   ]
  },
  {
   "cell_type": "markdown",
   "metadata": {},
   "source": [
    "- No"
   ]
  },
  {
   "cell_type": "markdown",
   "metadata": {},
   "source": [
    "#### b. The apples are packed into crates of 60 apples each. The apples are randomly and independently selected from the Cal Poly Orchard. With the information given, is it possible to determine the probability that the total weight of the apples in a crate exceeds 300 oz? If so, calculate it."
   ]
  },
  {
   "cell_type": "markdown",
   "metadata": {},
   "source": [
    "- Let X be weight of 60 apples\n",
    "- $E[X] = 60 * 4.9 = 294$\n",
    "- $Var[X] = 60 * 0.3^2 = 5.34$ \n",
    "- $SD[X] = 2.32$ \n",
    "\n",
    "- $$\\begin{align}\n",
    "    P(X > 300) &= P(Z > \\frac{300 - 294}{2.32}) \\\\\n",
    "    &= P(Z > 2.586) \\\\\n",
    "    &= 1 - P(Z \\le 2.586) \\\\\n",
    "    &= 1 - 0.9951 \\\\\n",
    "    &= 0.00485\n",
    "    \\end{align}$$"
   ]
  },
  {
   "cell_type": "code",
   "execution_count": 19,
   "metadata": {},
   "outputs": [
    {
     "data": {
      "text/plain": [
       "0.00492"
      ]
     },
     "execution_count": 19,
     "metadata": {},
     "output_type": "execute_result"
    }
   ],
   "source": [
    "weights = np.random.normal(loc=294, scale=2.32, size=100_000)\n",
    "len(weights[weights > 300]) / 100_000"
   ]
  }
 ],
 "metadata": {
  "kernelspec": {
   "display_name": "leetcode",
   "language": "python",
   "name": "python3"
  },
  "language_info": {
   "codemirror_mode": {
    "name": "ipython",
    "version": 3
   },
   "file_extension": ".py",
   "mimetype": "text/x-python",
   "name": "python",
   "nbconvert_exporter": "python",
   "pygments_lexer": "ipython3",
   "version": "3.10.4"
  },
  "orig_nbformat": 4
 },
 "nbformat": 4,
 "nbformat_minor": 2
}
