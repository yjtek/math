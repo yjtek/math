{
 "cells": [
  {
   "attachments": {},
   "cell_type": "markdown",
   "metadata": {},
   "source": [
    "### 1. Complete the sentence: The geometric distribution is a special case of the negative binomial distribution where ___"
   ]
  },
  {
   "attachments": {},
   "cell_type": "markdown",
   "metadata": {},
   "source": [
    "- r = 1"
   ]
  },
  {
   "attachments": {},
   "cell_type": "markdown",
   "metadata": {},
   "source": [
    "### 2. Calculate the following probabilities.\n",
    "- You toss a coin 4 times. The probability that you get (exactly) 2 heads.\n",
    "- You toss a coin until you get 2 heads. The probability that it takes (exactly) 4 tosses."
   ]
  },
  {
   "attachments": {},
   "cell_type": "markdown",
   "metadata": {},
   "source": [
    "- You toss a coin 4 times. The probability that you get (exactly) 2 heads.\n",
    "    - Binomial\n",
    "        - $$\n",
    "            \\binom{4}{2} 0.5^{2} \\cdot 0.5^{2} = 0.375\n",
    "            $$\n",
    "\n",
    "- You toss a coin until you get 2 heads. The probability that it takes (exactly) 4 tosses.\n",
    "    - Negative binomial \n",
    "        - $$\n",
    "            \\binom{4-1}{2-1} 0.5^{2} \\cdot 0.5^{2} = 0.1875\n",
    "            $$\n",
    "\n",
    "- Proof by simulation below\n",
    "\n",
    "- The first is larger.\n",
    "    - Intuitively, in the first case, getting 2 heads in 4 tosses allows you to arrange the heads however you like. i.e. HHTT is a valid combination, HTHT is a valid combination\n",
    "    - Conversely, in the second case, you must have 2 heads in 4 tosses AND your 4th toss must be a head\n",
    "        - So the only valid combinations are HTTH, THT, TTHH\n",
    "    - Hence, the first must be larger, because the second is a subset of the first"
   ]
  },
  {
   "cell_type": "code",
   "execution_count": 4,
   "metadata": {},
   "outputs": [
    {
     "name": "stdout",
     "output_type": "stream",
     "text": [
      "0.375\n",
      "0.18750000000000006\n"
     ]
    }
   ],
   "source": [
    "import scipy\n",
    "import numpy as np\n",
    "print(scipy.stats.binom.pmf(n=4, p=0.5, k=2)) #n is the number of tosses, p is the probability of heads, k is the number of heads\n",
    "print(scipy.stats.nbinom.pmf(n=2, p=0.5, k=2)) #n is the number of heads, k is the number of tails, p is the probability of heads\n"
   ]
  },
  {
   "cell_type": "code",
   "execution_count": 5,
   "metadata": {},
   "outputs": [
    {
     "data": {
      "text/plain": [
       "0.37775"
      ]
     },
     "execution_count": 5,
     "metadata": {},
     "output_type": "execute_result"
    }
   ],
   "source": [
    "population=[0] + [1]\n",
    "np.mean([np.sum(np.random.choice(population, size=4, replace=True))==2 for _ in range(20_000)])"
   ]
  },
  {
   "cell_type": "code",
   "execution_count": 7,
   "metadata": {},
   "outputs": [
    {
     "name": "stdout",
     "output_type": "stream",
     "text": [
      "0.18865\n"
     ]
    }
   ],
   "source": [
    "population=[0] + [1]\n",
    "n=20_000\n",
    "counter=0\n",
    "for _ in range(n):\n",
    "    sample=np.random.choice(population, size=4, replace=True)\n",
    "    if (sum(sample)==2) & (sample[-1]==1):\n",
    "        counter+=1\n",
    "print(counter/n)"
   ]
  },
  {
   "attachments": {},
   "cell_type": "markdown",
   "metadata": {},
   "source": [
    "### 3. In Major League Baseball’s Home Run Derby, each contestant is allowed to keep swinging the bat until they have made 10 “outs”. (An “out” is anything that is not a home run.) If Barry Bonds has a 70% chance of hitting a home run on any given swing, what is the probability that he hits at least 10 home runs before his turn is up?"
   ]
  },
  {
   "attachments": {},
   "cell_type": "markdown",
   "metadata": {},
   "source": [
    "- Let outs be 1s, home runs be 0s, and swings be draws\n",
    "- Let X be the total number of draws (swings) if BB draws (swings) up to 10 1s (outs) \n",
    "- X~NB(n=10, p=0.3), where n is the number of 1s (outs) before seqeunce ends, and p is the probability of making an out\n",
    "- To have at least 10 home runs before striking out, BB has to swing a minimum of 20 times (10 to strike out, and the 10 home runs)\n",
    "    - So probability of hitting at least 10 home runs is $P(X >= 20) = 1 - P(X <= 19) = 1 - F(19) = 1 - f(19) - f(18) ...$\n",
    "\n",
    "    - $f(19) = P(X = 19) = \\binom{19-1}{10-1} * 0.3^{10} * 0.7^{9} = 0.01158$\n",
    "    - $f(18) = P(X = 18) = \\binom{18-1}{10-1} * 0.3^{10} * 0.7^{8} = 0.00827$\n",
    "    - ...\n"
   ]
  },
  {
   "cell_type": "code",
   "execution_count": 19,
   "metadata": {},
   "outputs": [
    {
     "name": "stdout",
     "output_type": "stream",
     "text": [
      "0.011585368759430456\n",
      "0.011585368759430455\n"
     ]
    }
   ],
   "source": [
    "from math import comb\n",
    "import scipy\n",
    "print(comb(18, 9) * 0.3**10 * 0.7**9)\n",
    "print(scipy.stats.nbinom.pmf(n=10, k=9, p=0.3)) ##equal"
   ]
  },
  {
   "cell_type": "code",
   "execution_count": 39,
   "metadata": {},
   "outputs": [
    {
     "name": "stdout",
     "output_type": "stream",
     "text": [
      "0.9674466431186991\n",
      "0.9674466431186991\n"
     ]
    }
   ],
   "source": [
    "sum_f1_to_f19 = np.sum(scipy.stats.nbinom.pmf(n=10, k=range(10), p=0.3))\n",
    "cdf_f1_to_f19 = scipy.stats.nbinom.cdf(k=9, n=10, p=0.3)\n",
    "print(1 - sum_f1_to_f19) #probability of at least 10 home runs before striking out\n",
    "print(1 - cdf_f1_to_f19)"
   ]
  },
  {
   "cell_type": "code",
   "execution_count": 32,
   "metadata": {},
   "outputs": [
    {
     "data": {
      "text/plain": [
       "0.9697"
      ]
     },
     "execution_count": 32,
     "metadata": {},
     "output_type": "execute_result"
    }
   ],
   "source": [
    "population = [0]*7 + [1]*3\n",
    "\n",
    "def make_sample():\n",
    "    out_counter=0\n",
    "    homerun_counter=0\n",
    "    while out_counter < 10:\n",
    "        val=np.random.choice(population, size=1, replace=True)[0]\n",
    "        if val==0:\n",
    "            homerun_counter+=1\n",
    "        else:\n",
    "            out_counter+=1\n",
    "    return homerun_counter >= 10\n",
    "\n",
    "np.mean([make_sample() for _ in range(10_000)])"
   ]
  },
  {
   "attachments": {},
   "cell_type": "markdown",
   "metadata": {},
   "source": [
    "### 4. A medical researcher is recruiting 20 subjects for a study on an experimental drug for COVID-19. Each person that she interviews has a 60% chance of being eligible to participate in the study. What is the probability that she will have to interview more than 40 people?"
   ]
  },
  {
   "attachments": {},
   "cell_type": "markdown",
   "metadata": {},
   "source": [
    "- X~NB(n = 20, p = 0.6)\n",
    "- Pr(X > 40) = 1 - Pr(X <= 40)"
   ]
  },
  {
   "cell_type": "code",
   "execution_count": 43,
   "metadata": {},
   "outputs": [
    {
     "data": {
      "text/plain": [
       "0.07435155675691418"
      ]
     },
     "execution_count": 43,
     "metadata": {},
     "output_type": "execute_result"
    }
   ],
   "source": [
    "import scipy\n",
    "import numpy as np\n",
    "1 - np.sum(scipy.stats.nbinom.pmf(n=20, k=range(0,21), p=0.6))"
   ]
  },
  {
   "cell_type": "code",
   "execution_count": 44,
   "metadata": {},
   "outputs": [
    {
     "data": {
      "text/plain": [
       "0.07505"
      ]
     },
     "execution_count": 44,
     "metadata": {},
     "output_type": "execute_result"
    }
   ],
   "source": [
    "population = [1]*6 + [0]*4\n",
    "def make_sample():\n",
    "    recruited=0\n",
    "    interviewed=0\n",
    "    while recruited < 20:\n",
    "        sampled=np.random.choice(population, size=1, replace=True)\n",
    "        interviewed+=1\n",
    "        if sampled==1:\n",
    "            recruited+=1\n",
    "    return interviewed > 40\n",
    "np.mean([make_sample() for _ in range(10_000)])"
   ]
  },
  {
   "attachments": {},
   "cell_type": "markdown",
   "metadata": {},
   "source": [
    "### 5. Your coach tells you that you cannot leave basketball practice until you have made at least 20 free throws. If you free throw probability is 80%, find the probability that you are out of practice after taking an even amount of free throws."
   ]
  },
  {
   "attachments": {},
   "cell_type": "markdown",
   "metadata": {},
   "source": [
    "- 50%.. by intuition? lol\n",
    "\n",
    "- p=0.8, n=20\n",
    "- X~NB(n=20, p=0.8)\n",
    "- P(X % 2 == 0)??"
   ]
  },
  {
   "cell_type": "code",
   "execution_count": 47,
   "metadata": {},
   "outputs": [
    {
     "data": {
      "text/plain": [
       "0.5016"
      ]
     },
     "execution_count": 47,
     "metadata": {},
     "output_type": "execute_result"
    }
   ],
   "source": [
    "import scipy\n",
    "import numpy as np\n",
    "\n",
    "population=[1]*4 + [0]*1\n",
    "\n",
    "def make_sample():\n",
    "    scored=0\n",
    "    attempt=0\n",
    "    while scored < 20:\n",
    "        shot=np.random.choice(population, size=1, replace=True)\n",
    "        attempt+=1\n",
    "        if shot==1:\n",
    "            scored+=1\n",
    "    return attempt % 2 == 0\n",
    "\n",
    "np.mean([make_sample() for _ in range(20_000)])"
   ]
  },
  {
   "attachments": {},
   "cell_type": "markdown",
   "metadata": {},
   "source": [
    "### 6. You have two coins. One coin is a fair coin with a .5 probability of landing on heads. The other coin is a biased coin with a .25 probability of landing on heads. You pick one of these two coins at random, and begin flipping until you get 5 heads. It takes you 12 flips in order to get your 5 heads. What is the probability that the coin you picked was the fair coin? What is the probability you picked the biased coin?"
   ]
  },
  {
   "attachments": {},
   "cell_type": "markdown",
   "metadata": {},
   "source": [
    "- Assume you have the fair coin\n",
    "    - X~NB(n=5, p=0.5)\n",
    "    - You want to know P(X=12)=f(12)\n",
    "    - $\\binom{12-1}{5-1} \\cdot 0.5^{5} \\cdot 0.5^{7}$\n",
    "    - Let this be A\n",
    "\n",
    "- Assume you have the biased coin\n",
    "    - X~NB(n=5, p=0.25)\n",
    "    - You want to know P(X=12)=f(12)\n",
    "    - $\\binom{12-1}{5-1} \\cdot 0.25^{5} \\cdot 0.75^{7}$\n",
    "    - Let this be B\n",
    "\n",
    "- Probability of biased coin is B/(A+B)\n",
    "\n",
    "- Proof by simulation below"
   ]
  },
  {
   "cell_type": "code",
   "execution_count": 67,
   "metadata": {},
   "outputs": [
    {
     "data": {
      "text/plain": [
       "0.6519178736272482"
      ]
     },
     "execution_count": 67,
     "metadata": {},
     "output_type": "execute_result"
    }
   ],
   "source": [
    "from math import comb\n",
    "fair_coin_f12=comb(11, 4) * 0.5**12 \n",
    "bias_coin_f12=comb(11, 4) * 0.25**5 * 0.75**7 \n",
    "\n",
    "fair_coin_f12/(fair_coin_f12+bias_coin_f12)"
   ]
  },
  {
   "cell_type": "code",
   "execution_count": 70,
   "metadata": {},
   "outputs": [
    {
     "data": {
      "text/plain": [
       "0.6529266281945589"
      ]
     },
     "execution_count": 70,
     "metadata": {},
     "output_type": "execute_result"
    }
   ],
   "source": [
    "from collections import Counter\n",
    "coin_population=[0.5] + [0.25]\n",
    "coinflip_population={\n",
    "    \"0.5\": [1] + [0],\n",
    "    \"0.25\": [1] + [0]*3\n",
    "}\n",
    "\n",
    "def get_sample():\n",
    "    choose_coin=str(np.random.choice(coin_population, size=1, replace=True)[0])\n",
    "    sample=np.random.choice(coinflip_population.get(choose_coin), size=12, replace=True)\n",
    "    if (np.sum(sample) == 5) & (sample[-1] == 1):\n",
    "       return choose_coin\n",
    "    \n",
    "counts=Counter([get_sample() for _ in range(20_000)])\n",
    "counts['0.5']/(counts['0.5'] + counts['0.25'])"
   ]
  }
 ],
 "metadata": {
  "kernelspec": {
   "display_name": "leetcode",
   "language": "python",
   "name": "python3"
  },
  "language_info": {
   "codemirror_mode": {
    "name": "ipython",
    "version": 3
   },
   "file_extension": ".py",
   "mimetype": "text/x-python",
   "name": "python",
   "nbconvert_exporter": "python",
   "pygments_lexer": "ipython3",
   "version": "3.10.4"
  },
  "orig_nbformat": 4
 },
 "nbformat": 4,
 "nbformat_minor": 2
}
