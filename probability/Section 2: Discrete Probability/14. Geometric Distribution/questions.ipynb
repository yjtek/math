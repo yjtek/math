{
 "cells": [
  {
   "attachments": {},
   "cell_type": "markdown",
   "metadata": {},
   "source": [
    "### 1. Carl is a bad driver, so each time he takes the driving test, he only has a 30% chance of passing, independently of all previous attempts. If he takes the driving test over and over until he passes, what is the probability that he passes within his first 5 attempts?"
   ]
  },
  {
   "attachments": {},
   "cell_type": "markdown",
   "metadata": {},
   "source": [
    "- `0.7**4 * 0.3 + 0.7**3 * 0.3 + 0.7**2 * 0.3 + 0.7**1 * 0.3 + 0.3`"
   ]
  },
  {
   "cell_type": "code",
   "execution_count": 1,
   "metadata": {},
   "outputs": [
    {
     "name": "stdout",
     "output_type": "stream",
     "text": [
      "0.8319300000000001\n",
      "0.8319299999999998\n"
     ]
    }
   ],
   "source": [
    "import scipy\n",
    "print(sum(scipy.stats.geom.pmf(range(1,6), 0.3)))\n",
    "print(0.7**4 * 0.3 + 0.7**3 * 0.3 + 0.7**2 * 0.3 + 0.7**1 * 0.3 + 0.3)"
   ]
  },
  {
   "attachments": {},
   "cell_type": "markdown",
   "metadata": {},
   "source": [
    "### 2. Samuel Pepys was interested in the probability of getting at least 1 ⚅ in 6 throws of a die. Previously, we saw how this probability could be calculated using the complement rule or the binomial distribution. Show how this probability can also be calculated by defining an appropriate geometric random variable."
   ]
  },
  {
   "attachments": {},
   "cell_type": "markdown",
   "metadata": {},
   "source": [
    "- Recall that probabilty of at least one 6 in six throws is the same as 1 - P(no 6 in six throws)\n",
    "    - $1 - (5/6)^6$\n",
    "\n",
    "- Let's reconceptualise this as a geometric random variable\n",
    "    - Let's X be the number of times we throw the dice. We throw until we hit a 6, then the sequence terminates\n",
    "    - X~Geom(1/6)\n",
    "    - From above, the solution is $1 - P(\\text{no 6 in six throws})$\n",
    "    - $P(\\text{no 6 in six throws})$ is equivalent to computing $P(X >= 7)$\n",
    "    - $P(X >= 7) = 1 - P(X <= 6) = 1 - F(6)$\n",
    "    - So overall solution is $1 - (1 - F(6)) = F(6)$"
   ]
  },
  {
   "cell_type": "code",
   "execution_count": 16,
   "metadata": {},
   "outputs": [
    {
     "name": "stdout",
     "output_type": "stream",
     "text": [
      "0.6651020233196159\n",
      "0.6651020233196159\n"
     ]
    }
   ],
   "source": [
    "import scipy\n",
    "print(scipy.stats.geom.cdf(6, 1/6))\n",
    "print(1 - (5/6)**6)"
   ]
  }
 ],
 "metadata": {
  "kernelspec": {
   "display_name": "leetcode",
   "language": "python",
   "name": "python3"
  },
  "language_info": {
   "codemirror_mode": {
    "name": "ipython",
    "version": 3
   },
   "file_extension": ".py",
   "mimetype": "text/x-python",
   "name": "python",
   "nbconvert_exporter": "python",
   "pygments_lexer": "ipython3",
   "version": "3.10.4"
  },
  "orig_nbformat": 4
 },
 "nbformat": 4,
 "nbformat_minor": 2
}
