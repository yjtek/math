{
 "cells": [
  {
   "attachments": {},
   "cell_type": "markdown",
   "metadata": {},
   "source": [
    "## Motivating Example"
   ]
  },
  {
   "attachments": {},
   "cell_type": "markdown",
   "metadata": {},
   "source": [
    "A bet on a single number in roulette has a $\\frac{1}{38}$ chance of success. We would not play this game if we were only offered a 1-to-1 payout on this bet—that is, a chance to win $1 for each $1 we wager. What would the payout have to be to make this game fair?"
   ]
  },
  {
   "attachments": {},
   "cell_type": "markdown",
   "metadata": {},
   "source": [
    "## Theory"
   ]
  },
  {
   "attachments": {},
   "cell_type": "markdown",
   "metadata": {},
   "source": [
    "- We have discussed everything in terms of PMF/CDF so far. But when summarising a distribution, usually people want to know the expectation of a process\n",
    "\n",
    "- Definition 22.2:  Let X be a random variable with p.m.f. $f(x)$. Then the expected value of X is $E[X]$, and is defined as $E[X] = \\sum_{x} x \\cdot f(x)$\n",
    "    - The expected value is a weighted average of the possible values of a random variable, where the weights are the probabilities."
   ]
  },
  {
   "attachments": {},
   "cell_type": "markdown",
   "metadata": {},
   "source": [
    "### Example 22.1: Motivating question"
   ]
  },
  {
   "attachments": {},
   "cell_type": "markdown",
   "metadata": {},
   "source": [
    "- In roulette, suppose betting on a single number pays 35-to-1. That is, for each $1 you bet, you win $35 if the ball lands in that pocket.\n",
    "\n",
    "- Let X represent your net winnings on this bet. \n",
    "    - If you win the best: X=35\n",
    "    - If you lose the best: X=-1\n",
    "\n",
    "- You win with probability $\\frac{1}{38}$, and lose with probability $\\frac{37}{38}$\n",
    "\n",
    "- So the expectation is simply $\\frac{1}{38} * 35+ \\frac{37}{38} * -1 = -0.053$\n",
    "    - Each bet is a losing proposition!\n",
    "    \n",
    "- Interpreting expectations\n",
    "    - You can interpret this as the long run average value per bet if you make an infinite number of bets\n",
    "    - If you imagine the PMF as a scale, you can think about the expectation as the center of gravity around which the PMF is perfectly balanced\n"
   ]
  },
  {
   "attachments": {},
   "cell_type": "markdown",
   "metadata": {},
   "source": [
    "- Theorem 22.2: The expected value of a random variable X with p.m.f. f(x) is the center of mass of the p.m.f.\n",
    "    - $$\\begin{align}\n",
    "        \\text{Torque} &= \\sum \\text{mass} \\cdot \\text{distance from pivot} \\\\\n",
    "        &= \\sum_{x} f(x) \\cdot (x - E[X]) \\\\\n",
    "        &= \\sum_{x} f(x) \\cdot x - \\sum_{x} f(x) \\cdot E[X] \\\\\n",
    "        &= E[X] - E[X] \\sum_{x} f(x) \\\\\n",
    "        &= E[X] - E[X] \\cdot 1 \\\\\n",
    "        &= 0\n",
    "        \\end{align}$$\n"
   ]
  },
  {
   "attachments": {},
   "cell_type": "markdown",
   "metadata": {},
   "source": [
    "- So for the payout to be fair, the expectation must be 0!\n",
    "    - That is, $\\frac{1}{38} * payout + \\frac{37}{38} -1 = 0$\n",
    "    - Payout = 37\n",
    "    "
   ]
  },
  {
   "attachments": {},
   "cell_type": "markdown",
   "metadata": {},
   "source": [
    "### Example 22.2: Expected Value of a Binomial Random Variable"
   ]
  },
  {
   "attachments": {},
   "cell_type": "markdown",
   "metadata": {},
   "source": [
    "- The p.m.f. for a binomial random variable X is $f(x) = \\binom{n}{x} \\frac{N_1^{x} N_0^{n-x}}{N^n}, x=0,1,...$\n",
    "\n",
    "- Taking expectation\n",
    "    - $\\begin{align}\n",
    "        E[X] &= \\sum_{x=0}^{n} f(x) \\cdot x \\\\\n",
    "        &= \\sum_{x=0}^{n} \\binom{n}{x} \\frac{N_1^{x} N_0^{n-x}}{N^n} \\cdot x \\\\\n",
    "        &= \\sum_{x=0}^{n} \\frac{n!}{x! (n-x)!} p^{x} (1-p)^{n-x} \\cdot x \\\\\n",
    "        &= \\sum_{x=0}^{n} x \\cdot \\frac{n (n-1)!}{x (x-1)! (n-x)!} p^{x} (1-p)^{n-x} \\\\\n",
    "        &= \\sum_{x=0}^{n} n \\binom{n-1}{x-1} p^{x} (1-p)^{n-x} \\\\\n",
    "        &= n \\cdot p \\sum_{x=0}^{n} \\binom{n-1}{x-1} p^{x-1} (1-p)^{n-1-x+1} \\\\\n",
    "        &= np & \\text{because } \\sum_{x=0}^{n} \\binom{n-1}{x-1} p^{x-1} (1-p)^{n-1-x+1} = 1\n",
    "        \\end{align}$\n"
   ]
  }
 ],
 "metadata": {
  "kernelspec": {
   "display_name": "leetcode",
   "language": "python",
   "name": "python3"
  },
  "language_info": {
   "name": "python",
   "version": "3.10.4"
  },
  "orig_nbformat": 4
 },
 "nbformat": 4,
 "nbformat_minor": 2
}
