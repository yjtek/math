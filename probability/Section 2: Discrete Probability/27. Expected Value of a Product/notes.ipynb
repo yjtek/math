{
 "cells": [
  {
   "attachments": {},
   "cell_type": "markdown",
   "metadata": {},
   "source": [
    "## Theory"
   ]
  },
  {
   "attachments": {},
   "cell_type": "markdown",
   "metadata": {},
   "source": [
    "- Theorem 27.1 (Expected Value of a Product): If X and Y are independent random variables, then\n",
    "    - $E[XY] = E[X]E[Y]$\n",
    "    - $E[g(X)h(Y)] = E[g(X)]E[h(Y)]$\n"
   ]
  },
  {
   "attachments": {},
   "cell_type": "markdown",
   "metadata": {},
   "source": [
    "### Example 27.1 (Xavier and Yolanda Revisited)"
   ]
  },
  {
   "attachments": {},
   "cell_type": "markdown",
   "metadata": {},
   "source": [
    "- In Lesson 25, we calculated E[XY], the expected product of the numbers of times that Xavier and Yolanda win. There, we used 2D LOTUS. Now, let’s repeat the calculation using Theorem 27.1.\n",
    "    - That is, we made use of the fact that $E[XY] = \\sum_{x,y} (x*y) \\cdot f(x,y)$\n",
    "\n",
    "- In this example, recall that Xavier and Yolanda share the outcome of the first 3 roulette wheel spins, and Yolanda spins 2 more independently\n",
    "    - You may be tempted to say that E[XY] = E[X]E[Y], but it is not true because X and Y are not independent\n",
    "\n",
    "- BUT, you can rewrite Y (number of times Yolanda wins), as 2 genuinely independent random variables X (representing the first 3 rolls), and Z (representing the latter 2 rolls)\n",
    "    - $X \\sim \\text{Binom}(3, \\frac{18}{38})$\n",
    "    - $Z \\sim \\text{Binom}(2, \\frac{18}{38})$\n",
    "\n",
    "$\\begin{align}\n",
    "    E[XY] &= E[X(X+Z)] \\\\\n",
    "    &= E[X^2 + XZ] \\\\\n",
    "    &= E[X^2] + E[XZ] \\\\\n",
    "    &= E[X^2] + E[X]E[Z]\n",
    "\\end{align}$\n",
    "\n",
    "- We found in Examples 24.3 and 26.4 that $E[X(X-1)] = n(n-1)p^2$\n",
    "    - $\n",
    "        E[X(X-1)] = E[X^2] - E[X] \\\\\n",
    "        E[X^2] = E[X(X-1)] + E[X] \\\\\n",
    "        E[X^2] = n(n-1)p^2 + np \n",
    "    $\n",
    "\n",
    "- The expectation of a binomial variable is just n*p\n",
    "    - $\n",
    "        E[X] = 3 * \\frac{18}{38} \n",
    "        E[Z] = 2 * \\frac{18}{38}\n",
    "    $\n",
    "\n",
    "- So $E[XY] = E[X^2] + E[X]E[Z] = n(n-1)p^2 + np  + 6 * \\frac{18}{38} = 3(2) \\frac{18^2}{38^2} + 3 * \\frac{18}{38} + 6 * \\frac{18^2}{38^2} \\approx 4.11$"
   ]
  }
 ],
 "metadata": {
  "kernelspec": {
   "display_name": "leetcode",
   "language": "python",
   "name": "python3"
  },
  "language_info": {
   "name": "python",
   "version": "3.10.4"
  },
  "orig_nbformat": 4
 },
 "nbformat": 4,
 "nbformat_minor": 2
}
