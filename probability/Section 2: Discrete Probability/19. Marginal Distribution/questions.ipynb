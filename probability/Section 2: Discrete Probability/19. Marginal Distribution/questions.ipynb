{
 "cells": [
  {
   "attachments": {},
   "cell_type": "markdown",
   "metadata": {},
   "source": [
    "### 1.  Let X be the number of times a certain numerical control machine will malfunction on a given day. Let Y be the number of times a technician is called on an emergency call. Their joint p.m.f. is given by\n",
    "\n",
    "$$\\begin{array}{rr|ccc}\n",
    " & 5 & 0 & 0.20 & 0.10 \\\\\n",
    "y & 3 & 0.05 & 0.10 & 0.35 \\\\\n",
    " & 1 & 0.05 & 0.05 & 0.10 \\\\\n",
    " \\hline\n",
    " & & 1 & 2 & 3 \\\\\n",
    " & & & x & \n",
    "\\end{array}$$\n",
    "\n",
    "1. Calculate the marginal distribution of X\n",
    "2. Calculate the marginal distribution of Y\n",
    "3. Are X and Y independent? How do you know?"
   ]
  },
  {
   "attachments": {},
   "cell_type": "markdown",
   "metadata": {},
   "source": [
    "- $f_X(1) = 0.1$, $f_X(2) = 0.35$, $f_X(3) = 0.55$\n",
    "- $f_Y(1) = 0.2$, $f_Y(3) = 0.50$, $f_Y(5) = 0.30$\n",
    "\n",
    "- For independence, $P(X,Y)=P(X) \\cdot P(Y|X) = P(X) \\cdot P(Y)$\n",
    "    - $P(Y=1 | X=1) = 0.5 \\neq P(Y=1) = 0.2$\n",
    "    - So not independent"
   ]
  },
  {
   "attachments": {},
   "cell_type": "markdown",
   "metadata": {},
   "source": [
    "### 2. Use the joint p.m.f. of the smaller and the larger of two dice rolls that you calculated in Lesson 18 to find the p.m.f. of the larger number. Use this p.m.f. to solve the “last banana” problem from Lesson 7."
   ]
  },
  {
   "attachments": {},
   "cell_type": "markdown",
   "metadata": {},
   "source": [
    "- From lesson 18, in (S, L, Sum)\n",
    "\n",
    "$$\\begin{array}{rr|cccccc}\n",
    " & 1 & (1,1,2) & (1,2,3) & (1,3,4) & (1,4,5) & (1,5,6) & (1,6,7) \\\\\n",
    " & 2 & (2,1,3) & (2,2,4) & (2,3,5) & (2,4,6) & (2,5,7) & (2,6,8) \\\\\n",
    "\\text{dice 1} & 3 & (3,1,4) & (3,2,5) & (3,3,6) & (3,4,7) & (3,5,8) & (3,6,9) \\\\\n",
    " & 4 & (4,1,5) & (4,2,6) & (4,3,7) & (4,4,8) & (4,5,9) & (4,6,10) \\\\\n",
    " & 5 & (5,1,6) & (5,2,7) & (5,3,8) & (5,4,9) & (5,5,10) & (5,6,11) \\\\\n",
    " & 6 & (6,1,7) & (6,2,8) & (6,3,9) & (6,4,10) & (6,5,11) & (6,6,12) \\\\\n",
    "\\hline\n",
    "& & 1 & 2 & 3 & 4 & 5 & 6 \\\\\n",
    "& & & & & \\text{dice 2} & & \n",
    "\\end{array}$$\n",
    "\n",
    "- From lesson 7, player 1 wins if largest number is 1,2,3,4. Else player 2 wins if 5,6\n",
    "    - Largest value is 5/6 in the last 2 columns and last 2 rows, adding up to 20 cases\n",
    "    - So it is better to be player 2"
   ]
  },
  {
   "attachments": {},
   "cell_type": "markdown",
   "metadata": {},
   "source": [
    "### 3. Suppose two random variables X and Y both have marginal Binomial(n=3, p=0.5) distributions. In this exercise, you will see that there are many joint distributions that could have those marginal distributions. What is the joint p.m.f. if X and Y are independent? Can you find at least 2 more joint p.m.f.s with the same marginal distributions? (Hint: What happens if you define X and Y based on just 3 tosses of a coin? What about 4 tosses of a coin?)"
   ]
  },
  {
   "attachments": {},
   "cell_type": "markdown",
   "metadata": {},
   "source": [
    "- If X and Y are independent\n",
    "    - $f(x) = \\binom{3}{x} p^x (1-p)^{3-x}$\n",
    "    - $f(y) = \\binom{3}{y} p^y (1-p)^{3-y}$\n",
    "    - $f(x,y) = f(x) \\cdot f(y)$"
   ]
  },
  {
   "attachments": {},
   "cell_type": "markdown",
   "metadata": {},
   "source": [
    "### 4. Two tickets are drawn without replacement from a box with $N_1$ 1s and $N_0$ 0s. Let X be the number of 1s on the first draw and Y be the number of 1s on the second draw. It is clear that the first draw has a $\\frac{N1}{N}$ probability of being a 1. But what about the second draw? In Lesson 18, you found the joint distribution of X and Y. Use this joint p.m.f. to show that the probability that the second draw is a 1 is $\\frac{N_1}{N}$ "
   ]
  }
 ],
 "metadata": {
  "language_info": {
   "name": "python"
  },
  "orig_nbformat": 4
 },
 "nbformat": 4,
 "nbformat_minor": 2
}
