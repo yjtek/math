{
 "cells": [
  {
   "attachments": {},
   "cell_type": "markdown",
   "metadata": {},
   "source": [
    "### 1. Two tickets are drawn from a box with $N_1$ 1s and $N_0$ 0s. Let X be the number of 1s on the first draw and Y be the number of 1s on the second draw. (Note that X and Y can only be 0 or 1). \n",
    "- Calculate E[XY] when the draws are made with replacement.\n",
    "- Calculate E[XY] when the draws are made without replacement.\n",
    "\n",
    "(Hint: You worked out the joint p.m.f. of X and Y in Lesson 18. Use it!)"
   ]
  },
  {
   "attachments": {},
   "cell_type": "markdown",
   "metadata": {},
   "source": [
    "- With replacement\n",
    "    - X and Y are binomial\n",
    "    - Both are 1 with $\\frac{N1}{N}$ probability and 0 with $\\frac{N0}{N}$\n",
    "    - $\\begin{align}\n",
    "        E[XY] &= \\sum_{x,y} x \\cdot y \\cdot f(x,y) \\\\\n",
    "        &= 1 \\times 1 \\times \\frac{N1^2}{N^2} & \\text{any term with 0 is just 0} \\\\\n",
    "        &= \\frac{N1^2}{N^2}\n",
    "        \\end{align}$\n",
    "\n",
    "- Without replacement\n",
    "    - X and Y are binomial\n",
    "    - X is 1 with probability $\\frac{N1}{N}$, Y is 1 with probability $\\frac{N1}{N} \\cdot \\frac{N1-1}{N-1} + \\frac{N0}{N} \\cdot \\frac{N1}{N-1}$\n",
    "    - $\\begin{align}\n",
    "        E[XY] &= \\sum_{x,y} x \\cdot y \\cdot f(x,y) \\\\\n",
    "        &= 1 \\times 1 \\times \\frac{N1}{N} \\times \\frac{N1-1}{N-1} & \\text{any term with 0 is just 0} \\\\\n",
    "        &= \\frac{N1}{N} \\times \\frac{N1-1}{N-1}\n",
    "        \\end{align}$"
   ]
  },
  {
   "attachments": {},
   "cell_type": "markdown",
   "metadata": {},
   "source": [
    "### 2. You roll two fair, six-sided dice. Let X be the number on the first die. Let Y be the number on the second die. Calculate $E[max(X,Y)]$, the expected value of the larger of the two numbers. There are several ways you can do this. You should try to do this by applying 2D LOTUS to the joint distribution of X and Y, which is extremely simple. To check your answer, you can use the p.m.f. of $L = max(X,Y)$ that you derived in Lesson 19."
   ]
  },
  {
   "attachments": {},
   "cell_type": "markdown",
   "metadata": {},
   "source": [
    "$$\\begin{array}{rr|cccccc}\n",
    " & 1 & 1 & 2 & 3 & 4 & 5 & 6 \\\\\n",
    " & 2 & 2 & 2 & 3 & 4 & 5 & 6 \\\\\n",
    "\\text{dice 2} & 3 & 3 & 3 & 3 & 4 & 5 & 6 \\\\\n",
    " & 4 & 4 & 4 & 4 & 4 & 5 & 6 \\\\\n",
    " & 5 & 5 & 5 & 5 & 5 & 5 & 6 \\\\\n",
    " & 6 & 6 & 6 & 6 & 6 & 6 & 6 \\\\\n",
    "\\hline\n",
    "& & 1 & 2 & 3 & 4 & 5 & 6 \\\\\n",
    "& & & & & \\text{dice 1} & & \n",
    "\\end{array}$$\n",
    "\n",
    "- PMF of max(X,Y) from table\n",
    "    - 1: $\\frac{1}{36}$\n",
    "    - 2: $\\frac{3}{36}$\n",
    "    - 3: $\\frac{5}{36}$\n",
    "    - 4: $\\frac{7}{36}$\n",
    "    - 5: $\\frac{9}{36}$\n",
    "    - 6: $\\frac{11}{36}$\n",
    "\n",
    "- $\\begin{align}\n",
    "    E[max(X,Y)] &= \\sum_{x,y} max(x,y) \\cdot f(x,y) \\\\\n",
    "    &= 1 \\times \\frac{1}{36} + 2 \\times \\frac{3}{36} ... \\\\\n",
    "    &= 4.47\n",
    "    \\end{align}$"
   ]
  },
  {
   "attachments": {},
   "cell_type": "markdown",
   "metadata": {},
   "source": [
    "### 3. Consider the following three scenarios: \n",
    "\n",
    "- Scenario 1: A fair coin is tossed 3 times. X is the number of heads and Y is the number of tails.\n",
    "- Scenario 2: A fair coin is tossed 4 times. X is the number of heads in the first 3 tosses, Y is the number of heads in the last 3 tosses.\n",
    "- Scenario 3: A fair coin is tossed 6 times. X is the number of heads in the first 3 tosses, Y is the number of heads in the last 3 tosses.\n",
    "\n",
    "In all three scenarios, X and Y are both marginally $\\text{Binomial}(n=3, p=1/2)$. However, they have different joint distributions. In Lessons 18 and 19, you worked out the joint p.m.f.s.\n",
    "\n",
    "Calculate E[X+Y] and E[XY] for each of the scenarios. Does E[X+Y] change, depending on the joint distribution? What about E[XY]?"
   ]
  },
  {
   "attachments": {},
   "cell_type": "markdown",
   "metadata": {},
   "source": [
    "$$\\begin{array}{rr|cccc}\n",
    " & 0 & 0 & 0 & 0 & \\frac{1}{8} \\\\\n",
    "X & 1 & 0 & 0 & \\frac{3}{8} & 0 \\\\\n",
    " & 2 & 0 & \\frac{3}{8} & 0 & 0 \\\\\n",
    " & 3 & \\frac{1}{8} & 0 & 0 & 0 \\\\\n",
    "\\hline\n",
    " & & 0 & 1 & 2 & 3 \\\\\n",
    " & & & & Y & \\\\\n",
    "\\end{array}$$\n",
    "\n",
    "- Scenario 1\n",
    "    - Y = 3 - X\n",
    "    - E[X + Y]\n",
    "        - $E[X+Y] = E[X + 3 - X] = E[3] = 3$\n",
    "    - E[XY]\n",
    "        - $\\begin{align}\n",
    "            E[XY] &= E[X(3-X)] \\\\\n",
    "            &= E[3X - X^2] \\\\\n",
    "            &= \\sum_{x} 3x - x^2 f_X(x) \\\\\n",
    "            &= \\frac{3}{8} \\times 2 \\times 1 + \\frac{3}{8} \\times 1 \\times 2 \\\\\n",
    "            &= \\frac{4}{3}\n",
    "        \\end{align}$"
   ]
  },
  {
   "attachments": {},
   "cell_type": "markdown",
   "metadata": {},
   "source": [
    "$$\\begin{array}{rr|ccccc}\n",
    " & 0 & 0.5^4 & 0.5^4 & 0 & 0 \\\\\n",
    "X & 1 & 0.5^4 & 3 \\times 0.5^4 & 2 \\times 0.5^4 & 0 \\\\\n",
    " & 2 & 0 & 2 \\times 0.5^4 & 3 \\times 0.5^4 & 0.5^4 \\\\\n",
    " & 3 & 0 & 0 & 0.5^4 & 0.5^4 \\\\\n",
    "\\hline\n",
    " & & 0 & 1 & 2 & 3 \\\\\n",
    " & & & & Y & & \\\\\n",
    "\\end{array}$$\n",
    "\n",
    "- Scenario 2\n",
    "    - The joint PMF is given above\n",
    "        - Each cell is derived based on the number of ways to achieve the stated (x,y) value\n",
    "        - For example, (x=2, y=2) can be achieved in 3 ways. HHTH, HTHH, THHT, and each sequence occurs with 0.5^4 probability\n",
    "    - E[X+Y]\n",
    "        - $\\begin{align}\n",
    "            E[X+Y] &= \\sum_{x,y} x+y \\cdot f(x,y) \\\\\n",
    "            &= 0 \\times 0.0625 + 1 \\times 0.0625 + ... \\\\\n",
    "            &= 3.0\n",
    "            \\end{align}$\n",
    "    - E[XY]\n",
    "        - $\\begin{align}\n",
    "            E[XY] &= \\sum_{x,y} x \\cdot y \\cdot f(x,y) \\\\\n",
    "            &= 1 \\times 3 \\times 0.5^4 + 2 \\times 2 \\times 0.5^4 + ... \\\\\n",
    "            &= 2.75\n",
    "            \\end{align}$\n",
    "    "
   ]
  },
  {
   "attachments": {},
   "cell_type": "markdown",
   "metadata": {},
   "source": [
    "$$\\begin{array}{rr|ccccc}\n",
    " & 0 & 0.5^6 & 0.5^6 * 3 & 0.5^6 * 3 & 0.5^6 \\\\\n",
    "X & 1 & 0.5^6 * 3 & 0.5^6 * 9 & 0.5^6 * 9 & 0.5^6 * 3 \\\\\n",
    " & 2 & 0.5^6 * 3 & 0.5^6 * 9 & 0.5^6 * 9 & 0.5^6 * 3 \\\\\n",
    " & 3 & 0.5^6 & 0.5^6 * 3 & 0.5^6 * 3 & 0.5^6 \\\\\n",
    "\\hline\n",
    " & & 0 & 1 & 2 & 3 \\\\\n",
    " & & & & Y & & \\\\\n",
    "\\end{array}$$\n",
    "\n",
    "- Scenario 3\n",
    "    - The joint PMF is given above\n",
    "        - Each cell is derived based on the number of ways to achieve the stated (x,y) value\n",
    "        - For example, (x=2, y=2) can be achieved in 9 ways because\n",
    "            - There are 3 ways to have x=2: HHT, HTH, THH\n",
    "            - There are 3 ways to have y=2: HHT, HTH, THH\n",
    "            - Hence, there are 3*3 ways to have (x=2, y=2) by independence\n",
    "    - E[X+Y]\n",
    "        - $\\begin{align}\n",
    "            E[X+Y] &= \\sum_{x,y} x+y \\cdot f(x,y) \\\\\n",
    "            &= 0 \\times 0.015625 + 1 \\times 3 \\times 0.015625 + ... \\\\\n",
    "            &= 3.0\n",
    "            \\end{align}$\n",
    "    - E[XY]\n",
    "        - $\\begin{align}\n",
    "            E[XY] &= \\sum_{x,y} x \\cdot y \\cdot f(x,y) \\\\\n",
    "            &= 2.25\n",
    "            \\end{align}$"
   ]
  },
  {
   "cell_type": "code",
   "execution_count": 2,
   "metadata": {},
   "outputs": [
    {
     "data": {
      "text/plain": [
       "2.25"
      ]
     },
     "execution_count": 2,
     "metadata": {},
     "output_type": "execute_result"
    }
   ],
   "source": [
    "import numpy as np\n",
    "base=np.array([0.5**6]*16).reshape(4,4)\n",
    "mults=np.array([[1,3,3,1], [3,9,9,3], [3,9,9,3], [1,3,3,1]]).reshape(4,4)\n",
    "xplusy_sums=np.array([[0,1,2,3],[1,2,3,4],[2,3,4,5],[3,4,5,6]])\n",
    "xtimesy_sums=np.array([[0,0,0,0],[0,1,2,3],[0,2,4,6],[0,3,6,9]])\n",
    "np.sum(np.multiply(np.multiply(base, mults), xtimesy_sums))"
   ]
  }
 ],
 "metadata": {
  "kernelspec": {
   "display_name": "leetcode",
   "language": "python",
   "name": "python3"
  },
  "language_info": {
   "codemirror_mode": {
    "name": "ipython",
    "version": 3
   },
   "file_extension": ".py",
   "mimetype": "text/x-python",
   "name": "python",
   "nbconvert_exporter": "python",
   "pygments_lexer": "ipython3",
   "version": "3.10.4"
  },
  "orig_nbformat": 4
 },
 "nbformat": 4,
 "nbformat_minor": 2
}
