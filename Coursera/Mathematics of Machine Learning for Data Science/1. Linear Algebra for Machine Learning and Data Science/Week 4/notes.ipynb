{
 "cells": [
  {
   "attachments": {},
   "cell_type": "markdown",
   "metadata": {},
   "source": [
    "### Transformation of basis\n",
    "\n",
    "- A matrix can also be thought of as a transformation of basis vectors. A single matrix transforms each of the basis vectors of a space to some new vector, and these collectively form the basis of the new space\n",
    "\n",
    "- Since a matrix is simply some linear transformation of basis vectors, it stands to reason that there must be some matrix to \"undo\" the change that the matrix makes\n",
    "    - This is the inverse of the matrix\n",
    "\n",
    "### Inverse of matrix\n",
    "\n",
    "- When does a matrix not have an inverse? When the original transformation reduces the dimensionality of the space spanned by the basis vectors! i.e. The basis vectors no longer span the entire plane\n",
    "    - If it spans from plane --> line, then rank of matrix transforming is 1 \n",
    "    - If it spans from plane --> point, then rank of matrix transforming is 0\n",
    "\n",
    "- Geometrically, when taking a matrix transformation from the standard basis veectors, the determinant is simply the area of the parallelogram formed by the fundamental basis after transformation\n",
    "    - Negative area is possible if there is rotation of the basis vectors (e.g. y vector goes to x axis, and vice versa)\n",
    "\n",
    "- Determinant of matrix product $\\text{det } A \\cdot B$ is $\\text{det } A \\cdot \\text{det } B$\n",
    "    - If anyone of the matrices are singular, then determinant of the product is singular\n",
    "\n",
    "- Determinant of matrix $X^{-1}$ is simply $1 / \\text{det }X$\n",
    "\n",
    "### Basis\n",
    "\n",
    "- Basis of a plane is 2 vectors that collectively spans the plane\n",
    "- A span of a set of vectors is simply the set of points that can be reached by any combination of the vectors in the set\n",
    "- A `basis` is the minimum set of vectors that spans a space (minimum spanning set)\n",
    "- Number of elements in the basis is the dimension\n",
    "\n",
    "### Eigenbases\n",
    "\n",
    "- We know that a matrix represents a transformation of basis vectors\n",
    "    - For a given matrix transformation, a square basis $\\begin{bmatrix} 0 \\\\ 1 \\end{bmatrix}$ and $\\begin{bmatrix} 1 \\\\ 0 \\end{bmatrix}$, goes to a parallelogram of some kind\n",
    "        - i.e. the basis vectors undergo some change in direction, on top of a change in magnitude\n",
    "    - However, for a given matrix transformation, there can be cases where the basis vectors do not change direction, only magnitude!!\n",
    "        - For example, matrix $\\begin{bmatrix} 2 & 0 \\\\ 0 & 2 \\end{bmatrix}$ transforms basis vectors to $\\begin{bmatrix} 0 \\\\ 2 \\end{bmatrix}$ and $\\begin{bmatrix} 2 \\\\ 0 \\end{bmatrix}$\n",
    "    \n",
    "    - The vectors that do not have their direction changed with the applied transformation is known as the set of eigenvectors\n",
    "    - The set of basis vectors that do not have a change in direction is known as the eigenbasis of a matrix transformation\n",
    "    - The extent to which each of their magnitudes change after the transformation is known as the eigenvalues\n"
   ]
  },
  {
   "cell_type": "code",
   "execution_count": null,
   "metadata": {
    "vscode": {
     "languageId": "plaintext"
    }
   },
   "outputs": [],
   "source": []
  },
  {
   "cell_type": "code",
   "execution_count": null,
   "metadata": {
    "vscode": {
     "languageId": "plaintext"
    }
   },
   "outputs": [],
   "source": []
  },
  {
   "cell_type": "markdown",
   "metadata": {},
   "source": []
  }
 ],
 "metadata": {
  "language_info": {
   "name": "python"
  },
  "orig_nbformat": 4
 },
 "nbformat": 4,
 "nbformat_minor": 2
}
