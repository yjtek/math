{
 "cells": [
  {
   "attachments": {},
   "cell_type": "markdown",
   "metadata": {},
   "source": [
    "We want your learning experience to be as efficient as possible. If you already know some linear algebra you might be able to skip some of the lectures in this course. Have a look at the questions below. If you already know how to answer them feel free to skip the videos listed in parentheses.\n",
    "\n",
    "\n",
    "1. Solve the system of equations below (Videos: Solving non-singular system of linear equations)\n",
    "\n",
    "$$\n",
    "y = -26/23 \\\\\n",
    "x = 54/23\n",
    "$$\n",
    "\n",
    "$$\n",
    "\\begin{align}\n",
    "4x+3y=6 \\\\\n",
    "x−5y=8\n",
    "\\end{align}\n",
    "​$$\n",
    " \n",
    "2. Solve the system of equations below: (Videos:  Solving singular system of linear equations, Solving  systems of equations with more variables)\n",
    "\n",
    "$$\n",
    "Singular, no solution\n",
    "$$\n",
    "\n",
    "$$ \n",
    "\\begin{align} \n",
    "4x+3y+z=6 \\\\\n",
    "x−5y+7z=8 \\\\\n",
    "5x−2y+8z=14\n",
    "\\end{align}\n",
    "​$$\n",
    " \n",
    "3. Is the matrix above in row echelon form? If not, compute the row echelon form of the matrix.  (Videos: Row echelon form, Row echelon form in general, Reduced row echelon form)\n",
    "\n",
    "4. What is the rank of matrix $M$\n",
    "\n",
    "- Number of linearly independent rows/columns\n",
    "\n",
    "5. What are the operations that can be done in a row of a matrix that preserves its singularity? (Videos: Matrix row-reduction, Row operations that preserve singularity)\n",
    "\n",
    "- "
   ]
  }
 ],
 "metadata": {
  "language_info": {
   "name": "python"
  },
  "orig_nbformat": 4
 },
 "nbformat": 4,
 "nbformat_minor": 2
}
