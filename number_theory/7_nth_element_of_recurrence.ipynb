{
 "cells": [
  {
   "cell_type": "markdown",
   "metadata": {},
   "source": [
    "### N-th element of recurrence"
   ]
  },
  {
   "cell_type": "markdown",
   "metadata": {},
   "source": [
    "- Recurrence is an equation that defines a sequence based on a rule giving the next term as a function of previous term \n",
    "    - e.g. Fibonacci series $F(n) = F(n-1) + F(n-2)$\n",
    "\n",
    "- Recurrence can also be expressed in matrix form below. In this example, this is the matrix recurrence for Fibonacci sequence\n",
    "    - The [F1 F2] matrix is a 1 x k matrix, where $k$ is the number of look back terms in your recurrence. i.e. 2 in the fibonacci sequence\n",
    "    - The [A B C D] matrix is a transition matrix\n",
    "    - Iteratively deriving higher values of F_n will require exponentiation of the transition matrix!\n",
    "$$\\begin{aligned}\n",
    "    \\begin{bmatrix}\n",
    "        F_1 & F_2\n",
    "    \\end{bmatrix} \\times \n",
    "    \\begin{bmatrix}\n",
    "        A & B \\\\\n",
    "        C & D \n",
    "    \\end{bmatrix} =\n",
    "    \\begin{bmatrix}\n",
    "        F_2 & F_3\n",
    "    \\end{bmatrix}\n",
    "\\end{aligned}$$"
   ]
  },
  {
   "cell_type": "markdown",
   "metadata": {},
   "source": [
    "- How do we know what the matrix $\\begin{bmatrix}A & B \\\\ C & D \\end{bmatrix}$ should be? Simply work it out!\n",
    "$$\\begin{aligned}\n",
    "    A \\cdot F_1 + C \\cdot F_2 &= F_2 \\qquad (1) \\\\\n",
    "    B \\cdot F_1 + D \\cdot F_2 &= F_3 \\qquad (2) \\\\\n",
    "\\end{aligned}$$\n",
    "\n",
    "- We know from equation 1 that $A = 0$ and $C = 1$\n",
    "- We know from equation 2 that $B = 1$ and $D = 1$, because by definition of Fibonacci sequence, $F_3 = F_1 + F_2$\n",
    "- So transition matrix $\\begin{bmatrix}A & B \\\\ C & D \\end{bmatrix} = \\begin{bmatrix}0 & 1 \\\\ 1 & 1 \\end{bmatrix}$\n",
    "- The $n$-th Fibonacci number is simply $(F_0, F_1) \\cdot (\\begin{bmatrix}A & B \\\\ C & D \\end{bmatrix})^{n-1}$"
   ]
  },
  {
   "cell_type": "markdown",
   "metadata": {},
   "source": [
    "### Practise Question"
   ]
  },
  {
   "cell_type": "markdown",
   "metadata": {},
   "source": [
    "- Suppose we have some modified Fibonacci relation $F(N) = 2\\cdot F(N-1) + 3 F(N-2)$. \n",
    "    - $F(1) = 0, F(2) = 1$\n",
    "    - Figure out the transition matrix for this recurrence\n",
    "\n",
    "$$\\begin{aligned}\n",
    "    \\begin{bmatrix}\n",
    "        F_1 & F_2\n",
    "    \\end{bmatrix} \\times \n",
    "    \\begin{bmatrix}\n",
    "        A & B \\\\\n",
    "        C & D \n",
    "    \\end{bmatrix} =\n",
    "    \\begin{bmatrix}\n",
    "        F_2 & F_3\n",
    "    \\end{bmatrix}\n",
    "\\end{aligned}$$\n",
    "\n",
    "- Using the same logic\n",
    "    - $F_1 \\cdot A + F_2 \\cdot C = F_2$\n",
    "    - $F_1 \\cdot B + F_2 \\cdot D = F_3$\n",
    "\n",
    "    - $A=0, C = 1$\n",
    "    - Since $F_3 = 3 F_1 + 2 F_2$, then $B = 3$, and $D = 2$\n",
    "    - So $\\begin{bmatrix} A & B \\\\ C & D \\end{bmatrix} = \\begin{bmatrix} 0 & 3 \\\\ 1 & 2 \\end{bmatrix}$"
   ]
  },
  {
   "cell_type": "markdown",
   "metadata": {},
   "source": [
    "### Practise Qn 2: Fibonacci"
   ]
  },
  {
   "cell_type": "markdown",
   "metadata": {},
   "source": [
    "- You are given 3 numbers; $A$, $B$, and $N$, and all you have to do is to find the number $F_N$ where \n",
    "    $$\\begin{aligned}\n",
    "        F_0 &= A \\\\\n",
    "        F_1 &= B \\\\\n",
    "        F_i &= F_{i-1} + F_{i-2} \\qquad \\forall i \\ge 2\n",
    "    \\end{aligned}$$\n",
    "    - As the number can be very large, output the number with modulo $10^9 + 7$\n",
    "\n",
    "- Simply use the transition matrix logic above to get the answer\n",
    "$$\\begin{aligned}\n",
    "    \\begin{bmatrix} F_1 & F_2 \\end{bmatrix} \\times \\begin{bmatrix} A & B \\\\ C & D \\end{bmatrix} = \\begin{bmatrix} F_2 & F_3 \\end{bmatrix}\n",
    "\\end{aligned}$$"
   ]
  },
  {
   "cell_type": "code",
   "execution_count": 29,
   "metadata": {},
   "outputs": [
    {
     "data": {
      "text/plain": [
       "39.0"
      ]
     },
     "execution_count": 29,
     "metadata": {},
     "output_type": "execute_result"
    }
   ],
   "source": [
    "import numpy as np\n",
    "\n",
    "def matrix_exponential(base: np.array, exponent: int) -> np.array:\n",
    "    '''\n",
    "    Time complexity: O(log(N)), where N is the exponent, because we halve the exponent at each step\n",
    "    '''\n",
    "    row, col = base.shape\n",
    "    result = np.identity(row)\n",
    "    while exponent > 0:\n",
    "        if exponent % 2 == 1:\n",
    "            result = np.dot(result, base)\n",
    "            exponent -= 1\n",
    "        \n",
    "        base = np.dot(base, base)\n",
    "        exponent //= 2\n",
    "\n",
    "    return result\n",
    "\n",
    "def custom_nth_fibonacci(a: int, b: int, n: int) -> int:\n",
    "    '''\n",
    "    Time complexity: O(log(N)) from computing matrix exponential\n",
    "    '''\n",
    "    matrix = np.array([a,b]).reshape(1, -1)\n",
    "    transition_matrix = np.array([0, 1, 1, 1]).reshape(2,-1) ## we know the transition matrix by solving the system of linear equations, similar to the previous worked example\n",
    "\n",
    "    if n in [0,1]:\n",
    "        return matrix[0][n]\n",
    "\n",
    "    return np.dot(matrix, matrix_exponential(transition_matrix, n-1))[0][-1]\n",
    "\n",
    "custom_nth_fibonacci(3, 6, 5)"
   ]
  }
 ],
 "metadata": {
  "kernelspec": {
   "display_name": "kaggle",
   "language": "python",
   "name": "python3"
  },
  "language_info": {
   "codemirror_mode": {
    "name": "ipython",
    "version": 3
   },
   "file_extension": ".py",
   "mimetype": "text/x-python",
   "name": "python",
   "nbconvert_exporter": "python",
   "pygments_lexer": "ipython3",
   "version": "3.10.4"
  }
 },
 "nbformat": 4,
 "nbformat_minor": 2
}
