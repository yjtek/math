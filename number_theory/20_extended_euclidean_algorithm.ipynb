{
 "cells": [
  {
   "cell_type": "markdown",
   "metadata": {},
   "source": [
    "### Extended Euclidean Algorithm"
   ]
  },
  {
   "cell_type": "markdown",
   "metadata": {},
   "source": [
    "- Let $d = \\text{GCD}(a,b)$\n",
    "- Rewrite $a$ and $b$ as some multiple of GCD and remainder:\n",
    "    $$\\begin{aligned}\n",
    "        a &= x \\cdot d + r_a \\\\\n",
    "        \\frac{a - r_a}{x} &= d \\\\ \\\\\n",
    "\n",
    "        b &= y \\cdot d + r_b \\\\\n",
    "        \\frac{b - r_b}{y} &= d \\\\ \\\\\n",
    "        \\therefore \n",
    "\n",
    "        \\end{aligned}$$"
   ]
  },
  {
   "cell_type": "markdown",
   "metadata": {},
   "source": [
    "- Recall the Euclidean algorithm used to compute the GCD of 2 numbers\n",
    "    - Euclidean algorithm is used to find the GCD of 2 numbers\n",
    "    - $\\text{gcd}(a,b) = \\text{gcd}(b, a \\mod b)$\n",
    "    - See notes 8 for proof\n",
    "\n",
    "- From the Euclidean algorithm proof, it must be true that \n",
    "\n",
    "- The extended Euclidean algorithm gives the GCD of 2 numbers, as well as 2 integers $a$ and $b$ such that $$ax + by = \\text{gcd}(a,b)$$  "
   ]
  },
  {
   "cell_type": "markdown",
   "metadata": {},
   "source": [
    "- Proof that solution exists:\n",
    "    - Bezout's Lemma: Given integers $a$ and $b$ and their gcd $d$, there exists $x$ and $y$ such that $ax + by = d$\n",
    "\n",
    "- We'll first solve the algorithm by hand, then we'll program the solution\n",
    "\n",
    "- Purpose of Extended Euclidean Algorithm\n",
    "    - Finding modulo inverse\n",
    "    - Find solution of Linear Diophantine Equations (LDEs) \n",
    "        - LDE is simply an equation of the form $ax + by = c$"
   ]
  },
  {
   "cell_type": "markdown",
   "metadata": {},
   "source": [
    "### Solving by hand"
   ]
  },
  {
   "cell_type": "markdown",
   "metadata": {},
   "source": [
    "- Problem: Given 2 integers $a$ and $b$, find solution $(x,y)$ such that $ax + by = \\text{gcd}(a,b)$. \n",
    "\n",
    "- Let's suppose $a = 57, b = 81$\n",
    "    - Step 1: Find GCD of $a, b$ using Euclidean algorithm.\n",
    "        $$\\begin{aligned}\n",
    "            81 &= 1(57) + 24 \\\\\n",
    "            57 &= 2(24) + 9 \\\\ \n",
    "            24 &= 2(9) + 6 \\\\\n",
    "            9 &= 1(6) + 3 \\\\\n",
    "            6 &= 2(3) + 0 \\\\ \\\\\n",
    "\n",
    "            \\therefore \\text{gcd}(81,57) &= 3 \\\\ \\\\\n",
    "\n",
    "            3 &= 9 - 1(6) & \\text{Rearrange second last equation from above} \\\\\n",
    "            &= 9 - 1(24 - 2(9)) \\\\\n",
    "            &= 3(9) - 1(24) \\\\\n",
    "            &= 3(57 - 2(24)) - 1(24) \\\\\n",
    "            &= 3(57) - 7(24) \\\\\n",
    "            &= 3(57) - 7(81 - 1(57)) \\\\\n",
    "            &= 3(57) - 7(81) + 7(57) \\\\\n",
    "            &= 10(57) - 7(81) \\\\\n",
    "            \\end{aligned}$$\n",
    "    \n",
    "    - The basis of this solution is that $\\text{GCD}(a,b) = \\text{GCD}(b, a \\mod b)$, as proven in section 8"
   ]
  },
  {
   "cell_type": "markdown",
   "metadata": {},
   "source": [
    "### Programming a solution"
   ]
  },
  {
   "cell_type": "markdown",
   "metadata": {},
   "source": [
    "- In the previous segment, we've seen how we can use Euclidean algorithm to solve the extended Euclidean problem; finding $(x,y)$ such that $ax + by = \\text{GCD}(a,b)$\n",
    "    - The problem with the steps above, is that there isn't a clear way to generalise them. \n",
    "\n",
    "- Let's introduce a new concept; **Bezout's Lemma** (BL)\n",
    "    - BL states that for any integers $(a,b)$, there must exist integers $(x,y)$ such that $ax + by = \\text{GCD}(a,b)$\n",
    "\n",
    "- At first glance, the lemma doesn't really benefit us. All this tells us is that a solution definitely exists for any input integers $(a,b)$, but it doesn't seem to tell us how to get to the solution\n",
    "    - However, this becomes crucial when combined iteratively with the Euclidean algorithm!\n",
    "\n",
    "- Let's see how we can use both the Euclidean Algorithm (EA) and Bezout's Lemma (BL) to solve the problem\n",
    "    - Let inputs be $(a,b) = (81, 57)$\n",
    "    - By BL: $ax_1 + by_1 = \\text{GCD}(a,b)$ \n",
    "    - By EA, we know that $\\text{GCD}(a,b) = \\text{GCD}(b, a \\mod b)$\n",
    "        - Let's call $c = a \\mod b$\n",
    "    - By BL: $bx_2 + cy_2 = \\text{GCD}(b,c) = \\text{GCD}(a,b)$ \n",
    "\n",
    "    - Let's apply this insight to the example above:\n",
    "        - First, solve for $\\text{GCD}(a,b)$ using EA\n",
    "        $$\\begin{aligned}\n",
    "            \\text{GCD}(81,57) &= \\text{GCD}(57,24) \\\\\n",
    "            &= \\text{GCD}(24,9) \\\\\n",
    "            &= \\text{GCD}(9,6) \\\\\n",
    "            &= \\text{GCD}(6,3) \\\\\n",
    "            &= \\text{GCD}(3,0) \\\\\n",
    "            &= 3\n",
    "            \\end{aligned}$$\n",
    "\n",
    "        - Then with this knowledge, let's substitute the values back to Bezout's Lemma\n",
    "        $$\\begin{aligned}\n",
    "            81 \\cdot x_1 + 57 \\cdot y_1 &= 3 \\\\\n",
    "            57 \\cdot x_2 + 24 \\cdot y_2 &= 3 \\\\\n",
    "            24 \\cdot x_3 + 9 \\cdot y_3 &= 3 \\\\\n",
    "            9 \\cdot x_4 + 6 \\cdot y_4 &= 3 \\\\\n",
    "            6 \\cdot x_5 + 3 \\cdot y_5 &= 3 \\\\\n",
    "            3 \\cdot x_6 + 0 \\cdot y_6 &= 3 \\\\\n",
    "            \\end{aligned}$$\n",
    "\n",
    "        - EA is guaranteed to terminate, and it must be true that at termination step $k$, $x_k = 1$ and $y_k = 0$\n",
    "\n",
    "        - Let $\\text{GCD}(a,b) = d$\n",
    "\n",
    "        - Then \n",
    "        $$\\begin{aligned}\n",
    "            a \\cdot x_1 + b \\cdot y_1 &= d & (1) \\\\ \\\\ \n",
    "\n",
    "            a \\mod b &= a - \\lfloor \\frac{a}{b} \\rfloor \\cdot b & \\text{By definition} \\\\ \\\\\n",
    "\n",
    "            d &= b \\cdot x_2 + c \\cdot y_2 \\\\\n",
    "            &= b \\cdot x_2 + (a \\mod b) \\cdot y_2 \\\\ \n",
    "            &= b \\cdot x_2 + (a - \\lfloor \\frac{a}{b} \\rfloor \\cdot b) \\cdot y_2 \\\\ \n",
    "            &= a \\cdot y_2 + b \\cdot (x_2 - \\lfloor \\frac{a}{b} \\rfloor y_2) \\\\\n",
    "            \\end{aligned}$$\n",
    "\n",
    "        - Comparing coefficients between $(1)$ and $(2)$\n",
    "            - $x_1 = y_2$\n",
    "            - $y_1 = x_2 - \\lfloor \\frac{a}{b} \\rfloor y_2$\n",
    "\n",
    "        - Therefore, there is a recurrence relation between every successive value of $(x_1, y_1)$ and $(x_2, y_2)$!!\n",
    "\n",
    "- With this proven, the algorithmic solution is now trivial"
   ]
  },
  {
   "cell_type": "code",
   "execution_count": 55,
   "metadata": {},
   "outputs": [
    {
     "name": "stdout",
     "output_type": "stream",
     "text": [
      "22\n",
      "22 -1 6\n"
     ]
    }
   ],
   "source": [
    "def egcd_recurs(a: int, b: int) -> tuple[int, int, int]:\n",
    "    ## Ensure a > b for clarity\n",
    "    if a < b:\n",
    "        a,b = b,a\n",
    "\n",
    "    ## The GCD of any number with 0 is just itself by definition\n",
    "    if b == 0:\n",
    "        return a, 1, 0 #coefficient of x must be 1 in base case, coef of y can be anything, since y is 0 in base case\n",
    "    \n",
    "    ## We proved 2 things above: \n",
    "    ##    - in the base case, x_1=1 and y_1=0\n",
    "    ##    - For the next case after the base case: x_2 = y_1 + \\lfloor a/b \\rfloor y_2\n",
    "    ##      - y_2 = x_1\n",
    "    ##      - x_2 = y_1 + \\lfloor a/b \\rfloor y_2 = y_1 + \\lfloor a/b \\rfloor x_1\n",
    "    gcd, x, y = egcd_recurs(b, a%b)\n",
    "    x, y = y, x - ((a//b) * y)\n",
    "    return gcd, x, y\n",
    "\n",
    "a=1298\n",
    "b=220\n",
    "gcd, x,y = egcd_recurs(a, b)\n",
    "print(a*x + b*y)\n",
    "print(gcd, x, y)"
   ]
  },
  {
   "cell_type": "markdown",
   "metadata": {},
   "source": [
    "### EGCD Iterative solution"
   ]
  },
  {
   "cell_type": "markdown",
   "metadata": {},
   "source": [
    "- We previously discussed the recursive relationship between $x_1, y_1$ and $x_2, y_2$\n",
    "\n",
    "- However, the recursion order is wrong if we use an interative approach, because we'll be starting from the values of $a, b$ iterating downwards till $b = 0$, rather tha iterating upwards from $b=0$\n",
    "    - Since $x$ and $y$ depend on on the consecutive values of $a, b$, this will create an error\n",
    "\n",
    "- To resolve this, we derive another recursive relationship:\n",
    "    - Let's suppose we are given integers $(a_0,b_0)$ \n",
    "    - We want to find $(x_0,y_0)$ such that $a_0 x_0 + b_0 y_0 = \\text{GCD}[a_0,b_0]$\n",
    "    \n",
    "    - Let there exist a recurrence relation \n",
    "        $$r_i = q_i \\cdot r_{i+1} + r_{i+2}$$\n",
    "        \n",
    "        - Let $r_0 = a_0$ and $r_1 = b_0$\n",
    "        - This is simply the Euclidean algorithm, where we write $a_0$ as some integer multiple $q_i$ of $b_0$ with some remainder $r_{i+2}$\n",
    "        - Rearranging the recurrence above gives us \n",
    "\n",
    "        $$\\begin{aligned}\n",
    "            r_{i+2} &= r_{i} - q_{i} \\cdot r_{i+1} \\\\\n",
    "            \\therefore r_{i} &= r_{i-2} - q_{i-2} \\cdot r_{i-1} \\\\ \\\\\n",
    "\n",
    "            q_i &= \\lfloor \\frac{r_i}{r_{i+1}} \\rfloor \\\\\n",
    "            \\therefore q_{i-2} &= \\lfloor \\frac{r_{i-2}}{r_{i-1}} \\rfloor\n",
    "\n",
    "        \\end{aligned}$$\n",
    "\n",
    "    \n",
    "    - The above recurrence implies that every $r_i$ can be expressed as some linear function of the initial values $(a_0, b_0)$:\n",
    "        $$\\begin{aligned}\n",
    "            r_0 &= q_0 \\cdot r_{1} + r_{2} \\\\\n",
    "            a_0 &= q_0 \\cdot b_0 + r_2 \\\\\n",
    "            \\therefore r_2 &= a_0 - q_0 \\cdot b_0 \\\\ \\\\\n",
    "\n",
    "            r_1 &= q_1 \\cdot r_{2} + r_{3} \\\\\n",
    "            b_0 &= q_1 \\cdot (a_0 - q_0 \\cdot b_0) + r_3 \\\\\n",
    "            r_3 &= b_0 - (q_1 \\cdot (a_0 - q_0 \\cdot b_0)) \\\\\n",
    "            &= b_0 - (q_1 \\cdot a_0 - q_1 \\cdot q_0 \\cdot b_0) \\\\\n",
    "            &= b_0 - q_1 \\cdot a_0 + q_1 \\cdot q_0 \\cdot b_0 \\\\\n",
    "            &= -q_1 \\cdot a_0 + (1 + q_0 \\cdot q_1) \\cdot b_0 \\\\ \\\\\n",
    "\n",
    "         \\end{aligned}$$\n",
    "\n",
    "        - For convenience, let's designate the coefficients of $a_0$ and $b_0$ at every stage to be $s_i$ and $t_i$; therefore:\n",
    "        $$r_i = s_i \\cdot a_0 + t_i \\cdot b_0$$\n",
    "\n",
    "        \n",
    "    - This means that the following are equivalent representations of the recurrence:\n",
    "        $$\\begin{aligned}\n",
    "            r_{i} &= r_{i-2} - q_{i-2} \\cdot r_{i-1} \\\\\n",
    "            r_{i} &= (s_{i-2} \\cdot a_0 + t_{i-2} \\cdot b_0) - q_{i-2} \\cdot (s_{i-1} \\cdot a_0 + t_{i-1} \\cdot b_0) \\\\ \n",
    "            r_{i} &= (s_{i-2} - (q_{i-2} \\cdot s_{i-1})) \\cdot a_0 + (t_{i-2} - (q_{i-2} \\cdot t_{i-1})) \\cdot b_0 & (1) \\\\ \\\\\n",
    "\n",
    "            r_i &= s_i \\cdot a_0 + t_i \\cdot b_0 & (2) \\\\ \\\\\n",
    "\n",
    "            \\therefore &\\text{ Comparing (1) and (2)...} \\\\\n",
    "            s_i &= s_{i-2} - (q_{i-2} \\cdot s_{i-1}) \\\\\n",
    "            t_i &= t_{i-2} - (q_{i-2} \\cdot t_{i-1})\n",
    "\n",
    "            \\end{aligned}$$\n",
    "\n",
    "    - Taking these all together:\n",
    "        - We start from initial values $a$ and $b$\n",
    "        - In the recurrence relation $r_i = q_{i-2} \\cdot r_{i+1} + r_{i+2}$, we designate $r_0 = a$ and $r_1 = b$, as per the usual Euclidean algorithm\n",
    "        - In the base case\n",
    "            - $r_0 = a = s_0 \\cdot a + t_0 \\cdot b$\n",
    "                - Then, $s_0 = 1$ and $t_0 = 0$\n",
    "            - $r_1 = b = s_1 \\cdot a + t_1 \\cdot b$\n",
    "                - Then, $s_1 = 0$ and $t_1 = 1$\n",
    "        - We have derived that that:\n",
    "            - $r_2 = s_2 \\cdot a + t_2 \\cdot b$\n",
    "            - $q_0 = \\lfloor \\frac{r_0}{r_1} \\rfloor = \\lfloor \\frac{a}{b} \\rfloor$\n",
    "            - Therefore, coefficients are:\n",
    "                - $s_2 = s_0 - q_0 \\cdot s_{1} = 1 - \\lfloor \\frac{a}{b} \\rfloor \\cdot 0 = 1$ \n",
    "                - $t_2 = t_0 - q_0 \\cdot t_{1} = 0 - \\lfloor \\frac{a}{b} \\rfloor \\cdot 1 = - \\lfloor \\frac{a}{b} \\rfloor$\n",
    "                \n",
    "        - This forms the entire of the recurrence, all that is left is to implement it\n",
    "    "
   ]
  },
  {
   "cell_type": "code",
   "execution_count": 115,
   "metadata": {},
   "outputs": [
    {
     "name": "stdout",
     "output_type": "stream",
     "text": [
      "3\n",
      "3 -7 10\n"
     ]
    }
   ],
   "source": [
    "def egcd_iter(a: int, b: int) -> tuple[int, int, int]:\n",
    "    s_prev2, t_prev2, s_prev, t_prev = 1,0, 0,1\n",
    "    while b != 0:\n",
    "        q, r = a//b, a%b\n",
    "        s, t = s_prev2 - (s_prev*q), t_prev2 - (t_prev*q)\n",
    "        a,b = b,r\n",
    "        s_prev2, t_prev2, s_prev, t_prev = s_prev, t_prev, s,t\n",
    "    \n",
    "    return gcd, s_prev2, t_prev2\n",
    "\n",
    "a=81\n",
    "b=57\n",
    "gcd,x,y = egcd_iter(a, b)\n",
    "print(a*x + b*y)\n",
    "print(gcd, x, y)"
   ]
  }
 ],
 "metadata": {
  "kernelspec": {
   "display_name": "number-theory-zXVtR_zR-py3.12",
   "language": "python",
   "name": "python3"
  },
  "language_info": {
   "codemirror_mode": {
    "name": "ipython",
    "version": 3
   },
   "file_extension": ".py",
   "mimetype": "text/x-python",
   "name": "python",
   "nbconvert_exporter": "python",
   "pygments_lexer": "ipython3",
   "version": "3.12.2"
  }
 },
 "nbformat": 4,
 "nbformat_minor": 2
}
