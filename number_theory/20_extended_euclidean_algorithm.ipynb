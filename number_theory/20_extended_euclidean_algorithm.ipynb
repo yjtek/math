{
 "cells": [
  {
   "cell_type": "markdown",
   "metadata": {},
   "source": [
    "### Extended Euclidean Algorithm"
   ]
  },
  {
   "cell_type": "markdown",
   "metadata": {},
   "source": [
    "- Recall the Euclidean algorithm used to compute the GCD of 2 numbers\n",
    "    - $\\text{gcd}(a,b) = \\text{gcd}(b, a \\mod b) = $\n",
    "    - See notes 8 for proof\n",
    "\n",
    "- "
   ]
  }
 ],
 "metadata": {
  "language_info": {
   "name": "python"
  }
 },
 "nbformat": 4,
 "nbformat_minor": 2
}
