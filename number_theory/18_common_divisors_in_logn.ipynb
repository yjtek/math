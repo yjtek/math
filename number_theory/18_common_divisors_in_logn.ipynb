{
 "cells": [
  {
   "cell_type": "markdown",
   "metadata": {},
   "source": [
    "### Common divisors in O(log(N)) time"
   ]
  },
  {
   "cell_type": "markdown",
   "metadata": {},
   "source": [
    "- Problem: Given $Q$ queries, you are given $N$ and $K$. Find count of common divisors between $N$ and $K$\n",
    "    - $N \\le 10^{12}$\n",
    "    - $K \\le 10^{12}$\n",
    "    - $Q \\le 5 * 10^{5}$\n",
    "\n",
    "- Examples: N=12, Q=3 \n",
    "    - K=5 --> 1 {1}\n",
    "    - K=8 --> 3 {1,2,4}\n",
    "    - K=6 --> 4 {1,2,3,6}\n",
    "\n",
    "- Naive approach: \n",
    "    - Generate all divisors of $N$ in $O(\\sqrt{N})$. \n",
    "    - For each divisor $d$ of $N$, if it also divides $K$, add to count of divisors\n",
    "    - Time complexity: $O(N^{1/2})$\n",
    "\n",
    "- Naive approach 2: \n",
    "    - Calculate GCD between $N$ and $K$, let this be $G$\n",
    "        - $O(\\log(\\max(N,K)))$\n",
    "    - Find number of divisors of $G$\n",
    "        - $O(\\sqrt{G})$\n",
    "    - Time complexity: $O(\\log(\\max(N,K)) + \\sqrt{G})$\n",
    "    - Logic: If we multiply all the common divisors of $N$ and $K$, this must make up the GCD (i.e. these are the primes that $N$ and $K$ share in common). So by definition, it must be true that the number of divisors of $G$ is simply the common divisors of $N$ and $K$\n",
    "    - Example:\n",
    "        - Let $N=18$, $K=48$\n",
    "            - Divisors of 18: 1,2,3,6,9,18\n",
    "            - Divisors of 48: 1,2,3,4,6,8,12,16,24,48\n",
    "            - 4 Common divisors: 1,2,3,6\n",
    "        - $G = 6$ --> 4 divisors\n",
    "    "
   ]
  },
  {
   "cell_type": "markdown",
   "metadata": {},
   "source": [
    "- Better solution: Prime factorisation!\n",
    "    - We can answer the query in $O(\\log(N))$ time!\n",
    "    - How?\n",
    "\n",
    "- Approach\n",
    "    - Given $N$\n",
    "    - Find and store prime factorisation of $N$\n",
    "        - This requires $O(\\sqrt{N})$ time\n",
    "    - How many primes can there be in $N$?\n",
    "        - Has to be $\\log(N)$ primes at most\n",
    "        - Why? Because the smallest prime is 2. So each time we divide $N$, we are at least dividing it by 2. Therefore, worst case is when all factors are 2, thus $log(N)$\n",
    "    - Then, for a given $K$, we use the primes identified in $N$ to try to factorise $K$ as much as possible\n",
    "        - For example, if $N = 1800$, primes are $[2,2,2,3,3,5,5] = 2^3 * 3^2 * 5^2$\n",
    "        - Then if $K=200$, we factorise $K$ using only $[2,3,5]$, which gives us $2^3 * 3^0 * 5^2$\n",
    "    - What is the time complexity of factorising $K$ in this way?\n",
    "        - It is no worse than $\\log(N)$, because there are only $\\log(N)$ primes in $N$\n",
    "        - And for each prime $p$, we run another loop to divide $K$ by $p$ until it cannot be further divided\n",
    "            - This takes us another $\\log(P)$ time\n",
    "        - Total time complexity is $O(\\log(N) \\cdot \\log(P)) \\approx O(\\log(N)^2)$\n",
    "    - Then we compare the two array: $[2^3, 3^2, 5^2]$ and $[2^3, 3^0, 5^1]$ and take the minimum power for each prime\n",
    "        - For 2, compare 3 and 3, so minimum is 3\n",
    "        - For 3, compare 2 and 0, minimum is 0\n",
    "        - For 5, compare 2 and 1, so minimum is 1\n",
    "    - Since we now have the prime factorisation of $G = gcd(N,K)$, we can make use of the formula from section 13 on total divisors to count the number of divisors in $G$, which is $(3+1) * (0+1) * (1+1) = 8$ \n",
    "        - This is done in $O(N)$\n",
    "    - So overall time complexity is $O(\\log{N}^2)$"
   ]
  }
 ],
 "metadata": {
  "language_info": {
   "name": "python"
  }
 },
 "nbformat": 4,
 "nbformat_minor": 2
}
