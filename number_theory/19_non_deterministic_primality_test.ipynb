{
 "cells": [
  {
   "cell_type": "markdown",
   "metadata": {},
   "source": [
    "### Non-Deterministic Primality Test"
   ]
  },
  {
   "cell_type": "markdown",
   "metadata": {},
   "source": [
    "- What are deteriministic vs non-deterministic algorithms?\n",
    "    - Deterministic: Tests primality with 100% accuracy\n",
    "    - Non-deterministic: Tests primality with some small amount of error (e.g. Fermat's primality test)\n",
    "    - So far, we've only looked at deterministic test\n",
    "\n",
    "- Why study primality test with errors?\n",
    "    - Because deterministic tests run in $O(\\sqrt{N})$ time, which is extremely slow\n",
    "    - Imagine you are asked to test primality of numbers up to $10^{19}$. WIth $O(\\sqrt{N})$, you need $10^{9+}$ operations!     \n",
    "    - Non-deterministic tests run in $O(\\log{N})$ time"
   ]
  },
  {
   "cell_type": "markdown",
   "metadata": {},
   "source": [
    "- Problem: You are given 2 integers $N$ and $K$. Can $N$ be represented as a sum of $K$ prime numbers?\n",
    "    - $1 \\le N, K \\le 10^{12}$"
   ]
  },
  {
   "cell_type": "markdown",
   "metadata": {},
   "source": []
  }
 ],
 "metadata": {
  "language_info": {
   "name": "python"
  }
 },
 "nbformat": 4,
 "nbformat_minor": 2
}
