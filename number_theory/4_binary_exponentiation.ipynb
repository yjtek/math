{
 "cells": [
  {
   "cell_type": "markdown",
   "metadata": {},
   "source": [
    "### Binary Exponentiation"
   ]
  },
  {
   "cell_type": "markdown",
   "metadata": {},
   "source": [
    "- Imagine we are asked to compute $a^n$\n",
    "\n",
    "- Of course, in the usual brute force approach, we need to run a loop n times"
   ]
  },
  {
   "cell_type": "code",
   "execution_count": 5,
   "metadata": {},
   "outputs": [
    {
     "data": {
      "text/plain": [
       "8192"
      ]
     },
     "execution_count": 5,
     "metadata": {},
     "output_type": "execute_result"
    }
   ],
   "source": [
    "def binary_exponentiation_naive(base: int, exponent: int) -> int:\n",
    "    '''\n",
    "    Time complexity: O(N), where N is the value of the exponent\n",
    "    '''\n",
    "    retval = 1\n",
    "    for i in range(exponent):\n",
    "        retval *= base\n",
    "    return retval\n",
    "\n",
    "binary_exponentiation_naive(2, 13)"
   ]
  },
  {
   "cell_type": "markdown",
   "metadata": {},
   "source": [
    "- Notice that most of the time comes from the loop! So we want to rewrite the exponentiation such that the loop is minimised. \n",
    "    - Imagine we want to do exponentiation of $2^{13}$. Rules:\n",
    "        - Whenever exponent is odd, multiply the `result` by the base, and subtract one from the exponent \n",
    "        - Whenever exponent is even, square the base, and halve the power \n",
    "        - Keep going until power reaches 0 \n",
    "\n",
    "    - Example: Recall that 2^13 previously took 13 steps (because it loops 13 times). Now, we simply take 7 steps!  \n",
    "        - result = 1; base = 2; power = 13\n",
    "        - result = 2; base = 2; power = 12\n",
    "        - result = 2; base = 4; power = 6\n",
    "        - result = 2; base = 16; power = 3\n",
    "        - result = 32; base = 16; power = 2\n",
    "        - result = 32; base = 256; power = 1\n",
    "        - result = 8192; base = 256; power = 0\n",
    "\n",
    "    - Time complexity:\n",
    "        - Let the exponent be $N$\n",
    "        - We reduce the exponent by half every step, so we have complexity of $O(\\log_2(N))$"
   ]
  },
  {
   "cell_type": "code",
   "execution_count": 4,
   "metadata": {},
   "outputs": [
    {
     "data": {
      "text/plain": [
       "8192"
      ]
     },
     "execution_count": 4,
     "metadata": {},
     "output_type": "execute_result"
    }
   ],
   "source": [
    "def binary_exponentiation(base: int, exponent: int) -> int:\n",
    "    '''\n",
    "    Time complexity: O(log(N)) due to halving of exponent every step\n",
    "    '''\n",
    "    result = 1\n",
    "\n",
    "    while exponent > 0:\n",
    "        if exponent % 2 == 1:\n",
    "            result *= base\n",
    "        \n",
    "        exponent = exponent // 2\n",
    "        base *= base\n",
    "    \n",
    "    return result\n",
    "\n",
    "binary_exponentiation(2, 13)"
   ]
  },
  {
   "cell_type": "markdown",
   "metadata": {},
   "source": [
    "### Extension: Modular Exponentiation"
   ]
  },
  {
   "cell_type": "markdown",
   "metadata": {},
   "source": [
    "- A simple extension of this exponentiation is when we wish to take the mod of the exponentiation; $A^B \\mod C$\n",
    "    - Recall from modular arithmetic that when $A \\equiv B (\\mod N)$, then $A^k \\equiv B^k (\\mod N)$\n",
    "    - It is trivially true that $A \\equiv A (\\mod N)$\n",
    "    - Then \n"
   ]
  }
 ],
 "metadata": {
  "kernelspec": {
   "display_name": "kaggle",
   "language": "python",
   "name": "python3"
  },
  "language_info": {
   "codemirror_mode": {
    "name": "ipython",
    "version": 3
   },
   "file_extension": ".py",
   "mimetype": "text/x-python",
   "name": "python",
   "nbconvert_exporter": "python",
   "pygments_lexer": "ipython3",
   "version": "3.10.4"
  }
 },
 "nbformat": 4,
 "nbformat_minor": 2
}
