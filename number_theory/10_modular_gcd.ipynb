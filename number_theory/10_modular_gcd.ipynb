{
 "cells": [
  {
   "cell_type": "markdown",
   "metadata": {},
   "source": [
    "### Modular GCD"
   ]
  },
  {
   "cell_type": "markdown",
   "metadata": {},
   "source": [
    "- Given integers A, B, N, calculate $A^N + B^N$ and $|A - B|$. Assume that $\\text{GCD}(0,a) = a$ for any positive integer $a$. Since this number could be large, take modulo $10^9 + 7$\n",
    "    - $1 \\le A,B,N \\le 10^{12}$\n",
    "    - $B \\le A$"
   ]
  },
  {
   "cell_type": "markdown",
   "metadata": {},
   "source": [
    "- Given the contraints, $A^N$ and $B^N$ can be ridiculously large. So we can't necessarily store $A^N + B^N$ to compute the GCD. This is where our modular arithmetic comes in\n",
    "    - Recall that $A^N \\mod M = ((A \\mod M) * (A \\mod M) * ...) \\mod M$\n",
    "    - Recall that $(A + B) \\mod M = (A \\mod M + B \\mod M) \\mod M$\n",
    "\n",
    "- At first glance, you maybe tempted to simply compute the modulo exponentials for $A^N, B^N$, and find the gcd of that value and the $|A - B|$ term. \n",
    "    - This is wrong\n",
    "    - Let $X = A^N + B^N$ and $Y = |A - B|$\n",
    "    - $\\text{GCD}(X, Y) \\neq \\text{GCD}(X \\mod M, Y \\mod M)$\n",
    "        - If $X = 100, Y = 20$, then $\\text{GCD}(100, 20) = 20$, but $\\text{GCD}(100 \\mod 10, 20 \\mod 10) = 2$\n",
    "\n",
    "- There isn't really a shortcut, we need to try out a full list of candidate GCDs \n",
    "    - Get a list of all candidate divisors $d$ of smaller term (most likely the smaller term is $|A - B|$) [$O(\\sqrt{|A - B|})$]\n",
    "    - For each divisor, compute $A^N \\mod d$ and $B^N \\mod d$ [$O(\\log(N))$]\n",
    "        - This can be done easily, because modular product is $A^N \\mod d = (A \\mod N * A \\mod N * ...) \\mod N$\n",
    "        - If $(A^N \\mod d + B^N \\mod d) \\mod d = 0$, then $d$ is a divisor of both $A^N + B^N$ and $|A - B|$\n",
    "        - Since we want the greatest common divisor, iterate from largest to samllest in the divisor list"
   ]
  },
  {
   "cell_type": "code",
   "execution_count": 459,
   "metadata": {},
   "outputs": [],
   "source": [
    "import numpy as np\n",
    "import random\n",
    "\n",
    "# A, B, N = np.random.randint(1, 1e12+1, 3)\n",
    "A, B, N = random.randint(1, 1e2+1), random.randint(1, 1e2+1), random.randint(20, 30)\n",
    "# A, B, N = 9, 1, 5\n",
    "modulo = int(1e9 + 7)\n",
    "\n",
    "def modular_exponential(base: int, exponent: int, modulo: int) -> int:\n",
    "    result = 1\n",
    "    # base = base % modulo\n",
    "    while exponent > 0:\n",
    "        if exponent % 2 == 1:\n",
    "            result = (result * base) % modulo\n",
    "            exponent -= 1\n",
    "        \n",
    "        base = (base * base) % modulo\n",
    "        exponent //= 2\n",
    "    return result \n",
    "\n",
    "def gcd(A: int, B: int) -> int:\n",
    "    assert A >= 0\n",
    "    assert B >= 0\n",
    "\n",
    "    if A == 0:\n",
    "        return B\n",
    "    elif B == 0:\n",
    "        return A\n",
    "\n",
    "    return gcd(B, A % B)    \n",
    "\n",
    "def modular_gcd(A: int, B: int, N: int) -> int:\n",
    "    modulo = 1e9 + 7\n",
    "    \n",
    "    abs_diff = abs(A-B)\n",
    "    gcd = 1\n",
    "\n",
    "    if abs_diff == 0:\n",
    "        return (modular_exponential(base=A, exponent=N, modulo=modulo) + modular_exponential(base=B, exponent=N, modulo=modulo)) % modulo\n",
    "\n",
    "    for candidate_divisor in range(1, int(abs_diff**0.5//1)+1):\n",
    "        candidate_divisor_conjugate = abs_diff / candidate_divisor\n",
    "        if abs_diff % candidate_divisor == 0:\n",
    "            an_conj = modular_exponential(base=A, exponent=N, modulo=candidate_divisor_conjugate)\n",
    "            bn_conj = modular_exponential(base=B, exponent=N, modulo=candidate_divisor_conjugate)\n",
    "\n",
    "            an = modular_exponential(base=A, exponent=N, modulo=candidate_divisor)\n",
    "            bn = modular_exponential(base=B, exponent=N, modulo=candidate_divisor)\n",
    "\n",
    "            if (((an_conj % candidate_divisor_conjugate) + (bn_conj % candidate_divisor_conjugate)) % candidate_divisor_conjugate) == 0:\n",
    "                gcd = max(gcd, candidate_divisor_conjugate)\n",
    "            elif (((an % candidate_divisor) + (bn % candidate_divisor)) % candidate_divisor) == 0:\n",
    "                gcd = max(gcd, candidate_divisor)\n",
    "                \n",
    "    return gcd\n",
    "\n",
    "for _ in range(10_000):\n",
    "    A, B, N = random.randint(1, 1e2+1), random.randint(1, 1e2+1), random.randint(20, 30)\n",
    "\n",
    "    ## Special case, will not match actual modulo value\n",
    "    if A == B:\n",
    "        continue\n",
    "\n",
    "    if modular_gcd(A, B, N) != gcd(pow(A,N) + pow(B,N), abs(A-B)):\n",
    "        print(f\"{A=}, {B=}, {N=}, {modular_gcd(A, B, N)=}, {gcd(pow(A,N) + pow(B,N), abs(A-B))=}\")\n",
    "        break"
   ]
  },
  {
   "cell_type": "markdown",
   "metadata": {},
   "source": [
    "### "
   ]
  }
 ],
 "metadata": {
  "kernelspec": {
   "display_name": "kaggle",
   "language": "python",
   "name": "python3"
  },
  "language_info": {
   "codemirror_mode": {
    "name": "ipython",
    "version": 3
   },
   "file_extension": ".py",
   "mimetype": "text/x-python",
   "name": "python",
   "nbconvert_exporter": "python",
   "pygments_lexer": "ipython3",
   "version": "3.10.4"
  }
 },
 "nbformat": 4,
 "nbformat_minor": 2
}
