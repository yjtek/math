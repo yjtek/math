{
 "cells": [
  {
   "cell_type": "markdown",
   "metadata": {},
   "source": [
    "### Linear Diophantine Equation (LDE)"
   ]
  },
  {
   "cell_type": "markdown",
   "metadata": {},
   "source": [
    "- 2 variable LDE refers to any equation of the form $$ax + by = c$$ where $a,b,c$ are known, and $x,y$ are unknown\n",
    "    - Having gone through the last section, this should be familiar to you\n",
    "    - The Extended Euclidean algorithm is one example of finding a solution to an LDE, for the case where $c = \\text{GCD}[a, b]$\n",
    "\n",
    "- Degenerate case of LDE: when $a = b = 0$\n",
    "    - If $a=b=0$ and $c=0$, then there are infinite solutions\n",
    "    - If $a=b=0$ and $c \\neq 0$, then there are 0 solutions\n",
    "\n",
    "- To solve an LDE, we can simply make use of the Extended Euclidean Algorithm (EEA) discussed in the last section. Approach:\n",
    "    - The EEA will find the solution to $$ax + by = d, \\quad d = \\text{GCD}[a,b]$$\n",
    "    - Let $x_0, y_0$ be the solution to the EEA\n",
    "    - To solve for a case where $c \\neq d$, we can rewrite the EEA as:\n",
    "    $$\\begin{aligned}\n",
    "        ax_0 + by_0 &= d \\\\\n",
    "        a \\cdot \\frac{c}{d} \\cdot x_0 + b \\cdot \\frac{c}{d} \\cdot y_0 &= d \\cdot \\frac{c}{d} \\\\\n",
    "    \\end{aligned}$$\n",
    "\n",
    "    - That is, the solution $x_{\\text{LDE}},y_{\\text{LDE}}$ is simply $x_{0} \\cdot \\frac{c}{d}, y_{0} \\cdot \\frac{c}{d}$"
   ]
  },
  {
   "cell_type": "markdown",
   "metadata": {},
   "source": [
    "### When does an LDE solution exist?"
   ]
  },
  {
   "cell_type": "markdown",
   "metadata": {},
   "source": [
    "- By Bezout's Lemma, an integer solution always exists for $ax + by = d$, where $d = \\text{GCD}[a,b]$\n",
    "\n",
    "- Under what conditions do integer solutions $x_i, y_i$ exist, such that $ax_i + by_i = c$ in the general case, where $d \\neq \\text{GCD}[a,b]$?\n",
    "    - We know that $a x_0 + b y_0 = d$\n",
    "    - By definition, $a$ and $b$ are multiples of $d$, so we can rewrite these as $a = s \\cdot d$ and $b = r \\cdot d$\n",
    "    - So for an arbitrary constant $c$, \n",
    "    $$\\begin{aligned}\n",
    "        a x_0 + b y_0 &= c \\\\\n",
    "        s \\cdot d \\cdot x_0 + r \\cdot d \\cdot y_0 &= c \\\\\n",
    "        d (s \\cdot x_0 + r \\cdot y_0) &= c\n",
    "        \\end{aligned}$$\n",
    "    - Therefore, solutions exist for any arbitrary $s$ and $r$ IFF $c$ is a multiple of $d$"
   ]
  },
  {
   "cell_type": "markdown",
   "metadata": {},
   "source": [
    "### General solution of LDE"
   ]
  },
  {
   "cell_type": "markdown",
   "metadata": {},
   "source": [
    "- So we know that for an LDE $ax + by = c$, for $a,b,c \\in \\mathbb{Z}$, integer solution $(x,y)$ exists when $d | c$ (i.e. d divides c)\n",
    "\n",
    "- However, there are infinitely many solutions to the LDE\n",
    "    - Suppose we have $x$ and $y$ which fulfills the equation\n",
    "    - Suppose we increase $x$ to $x'$\n",
    "        - The whole equation increases by $(x' - x) \\cdot a$\n",
    "    - Then we decrease $y$ to $y'$\n",
    "        - The whole equation decreases by $(y' - y) \\cdot b$\n",
    "    - So long as $(x' - x) \\cdot a = (y' - y) \\cdot b$, the equation will hold\n",
    "\n",
    "- Let's generalise this intuition\n",
    "    - Suppose we know a solution $x_0, y_0$ such that $a \\cdot x_0 + b \\cdot y_0 = c$\n",
    "    - We can rewrite $a \\cdot x_0 + b \\cdot y_0$ as \n",
    "    $$\\begin{aligned}\n",
    "        a \\cdot x_0 + b \\cdot y_0 &= a \\cdot (x_0 + \\frac{b}{d}) + b \\cdot (x_0 - \\frac{a}{d}) \\\\ \n",
    "        &= a x_0 + b x_0 + \\frac{ab}{d} - \\frac{ab}{d} \n",
    "        \\end{aligned}$$\n",
    "    - Therefore, the general solution for $x,y$ is\n",
    "    $$\\begin{aligned}\n",
    "        x &= x_0 + (t \\cdot \\frac{b}{d}) \\\\\n",
    "        y &= y_0 - (t \\cdot \\frac{a}{d}) & \\forall k \\in \\mathbb{Z}\n",
    "        \\end{aligned}$$"
   ]
  },
  {
   "cell_type": "markdown",
   "metadata": {},
   "source": [
    "### Minimum value of x+y"
   ]
  },
  {
   "cell_type": "markdown",
   "metadata": {},
   "source": [
    "- Recap\n",
    "    - Given a LDE of the form $ax + by = c$, we know that a solution $x,y$ exists IFF $\\text{GCD}[a,b] | c$\n",
    "    - If a solution exists, we know that the set of solutions $x,y$ is given by $x = x_0 + (t \\cdot \\frac{b}{g})$ and $y = y_0 - (t \\cdot \\frac{a}{g})$\n",
    "\n",
    "- Extension: Given an LDE, find solution $x,y$ such that $x+y$ is minimum among all solutions\n",
    "    - Using the solution we've found: \n",
    "    $$\\begin{aligned}\n",
    "        x+y &= x_0 + (t \\cdot \\frac{b}{d}) + y_0 - (t \\cdot \\frac{a}{d}) \\\\\n",
    "        &= x_0 + y_0 + t \\cdot \\frac{b-a}{d}\n",
    "        \\end{aligned}$$\n",
    "\n",
    "    - $x_0, y_0, a, b, d$ are fixed values. So we are trying to find the value of $t$ that minimises this equation\n",
    "\n",
    "    - Thereby, minimising $x+y$ gives us:\n",
    "        - If $b-a \\lt 0$, then choose $t$ as large as possible\n",
    "        - If $b-a \\gt 0$, then choose $t$ as small as possible\n",
    "        - If $b-a = 0$, then it doesn't matter what you choose, because $x_0, y_0$ is the only solution\n"
   ]
  },
  {
   "cell_type": "markdown",
   "metadata": {},
   "source": []
  }
 ],
 "metadata": {
  "language_info": {
   "name": "python"
  }
 },
 "nbformat": 4,
 "nbformat_minor": 2
}
