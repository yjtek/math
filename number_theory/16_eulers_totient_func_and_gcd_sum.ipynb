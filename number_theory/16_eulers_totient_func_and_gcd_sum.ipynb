{
 "cells": [
  {
   "cell_type": "markdown",
   "metadata": {},
   "source": [
    "### Euler's Totient Function (ETF) and GCD sum"
   ]
  },
  {
   "cell_type": "markdown",
   "metadata": {},
   "source": [
    "- Problem: Can we find $x = \\sum_{i=1}^{N} \\text{GCD}(i, N)$ for a given value of $N$?\n",
    "\n",
    "- Brute force: Loop from 1 to N, adding GCD of $(i, N)$ for each iteration. \n",
    "    - Recall that $GCD$ can be computed using Euclid's algorithm, which has $O(\\log(N))$ time complexity\n",
    "    - We have $N$ iterations, so the `gcd()` function is called $N$ times\n",
    "    - This gives us a total of $O(N \\log(N))$ for each query input $N$\n",
    "\n",
    "- We will explore how we can solve this in $O(\\sqrt{N})$ time!"
   ]
  },
  {
   "cell_type": "markdown",
   "metadata": {},
   "source": [
    "- Some observations first\n",
    "    - Imagine $N=12$\n",
    "    - Note 1: `gcd(i, N)` must be a divisor of $N$. \n",
    "        - Recall that we can get all the divisors of $N$ in $O(\\sqrt{N})$ time (looping over 1 to $\\sqrt{N}$ to find candidate divisors)\n",
    "    - Note 2: \n",
    "        - Since $N=12$, we want go find $S = \\{\\text{gcd}(1,12), \\text{gcd}(2,12), ... \\text{gcd}(12,12)\\}$\n",
    "        - In the brute force way, we loop from 1 to 12 and compute the `gcd` function\n",
    "        - Let's make use of **Note 1**; that the `gcd` must return a divisor of 12\n",
    "            - So instead of looping from 1 to 12, we can instead loop over the divisors of 12, which can be attained in $O(\\sqrt{N})$ time!\n",
    "            - But there is a catch, since we know the value of the divisors, we now need a way to know how many times they appear!\n",
    "                - For example, 1 is a divisor of 4 items in $S$; $\\text{gcd}(1,12), \\text{gcd}(5,12), \\text{gcd}(7,12), \\text{gcd}(11,12)$\n",
    "                - So the contribution of 1 to $x = \\sum_{i=1}^{N} \\text{GCD}(i, N)$ is $4 * 1$\n",
    "        - So how do we find out how many times this appears?\n",
    "        "
   ]
  },
  {
   "cell_type": "markdown",
   "metadata": {},
   "source": []
  }
 ],
 "metadata": {
  "language_info": {
   "name": "python"
  }
 },
 "nbformat": 4,
 "nbformat_minor": 2
}
