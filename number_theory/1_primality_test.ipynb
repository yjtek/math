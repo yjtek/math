{
 "cells": [
  {
   "cell_type": "markdown",
   "metadata": {},
   "source": [
    "### Primality test"
   ]
  },
  {
   "cell_type": "markdown",
   "metadata": {},
   "source": [
    "- As the name suggests, test whether the number is or isn't a prime\n",
    "\n",
    "- Let's start with the naive idea, try every possible value up N and if any values divides N, the number is not prime."
   ]
  },
  {
   "cell_type": "code",
   "execution_count": 4,
   "metadata": {},
   "outputs": [
    {
     "data": {
      "text/plain": [
       "True"
      ]
     },
     "execution_count": 4,
     "metadata": {},
     "output_type": "execute_result"
    }
   ],
   "source": [
    "def is_prime_naive(num: int) -> bool:\n",
    "    '''\n",
    "    Naively, we just iterate through every possible value from 1 to N, and see if any of them divide the input. If they do, then input is not prime. Else it is prime\n",
    "\n",
    "    Time complexity: O(|N|) where |N| is the value of the input num. The larger the input, the more values we need to test\n",
    "    '''\n",
    "    for i in range(2, num):\n",
    "        if num % i == 0:\n",
    "            return False\n",
    "    return True\n",
    "\n",
    "is_prime_naive(101)"
   ]
  },
  {
   "cell_type": "markdown",
   "metadata": {},
   "source": [
    "- This is obviously a lousy method, so let's do something smarter. \n",
    "    - Divisors must come in a pair. i.e. if 2 is a divisor of 12, there must be another divisor of 12 that it can be multiplied with to give 12. So (1,12), (2,6), (3,4)\n",
    "- Since divisors come in pairs, one divisor must be upper bounded by $\\sqrt{n}$, and the other must be lower bounded by $\\sqrt{n}$. \n",
    "    - $\\sqrt{n} * \\sqrt{n} = n$ by definition\n",
    "    - Let's imagine there is a divisor $x \\gt \\sqrt{n}$. Then $\\sqrt{n} * x > n$. So any divisor greater than $\\sqrt{n}$ must be paired with one less than $\\sqrt{n}$\n",
    "    - Same for the other direction"
   ]
  },
  {
   "cell_type": "code",
   "execution_count": 9,
   "metadata": {},
   "outputs": [
    {
     "data": {
      "text/plain": [
       "61.0"
      ]
     },
     "execution_count": 9,
     "metadata": {},
     "output_type": "execute_result"
    }
   ],
   "source": [
    "3809 ** 0.5 // 1"
   ]
  },
  {
   "cell_type": "code",
   "execution_count": 16,
   "metadata": {},
   "outputs": [
    {
     "data": {
      "text/plain": [
       "False"
      ]
     },
     "execution_count": 16,
     "metadata": {},
     "output_type": "execute_result"
    }
   ],
   "source": [
    "def is_prime_better(num: int) -> bool:\n",
    "    '''\n",
    "    Since we know that divisors are paired, and one of the pair must be upper bounded by sqrt(n), we only need to iterate up to this point\n",
    "\n",
    "    Time complexity: O(sqrt(|N|)) where |N| is the value of the input num. The larger the input, the more values we need to test\n",
    "    '''\n",
    "    if num == 1:\n",
    "        return False\n",
    "    \n",
    "    if num in [2,3]:\n",
    "        return True\n",
    "\n",
    "    for i in range(2, int(num**0.5 // 1)+1):\n",
    "        if num % i == 0:\n",
    "            return False\n",
    "    return True\n",
    "\n",
    "# is_prime_naive(12961)"
   ]
  }
 ],
 "metadata": {
  "kernelspec": {
   "display_name": "Python 3",
   "language": "python",
   "name": "python3"
  },
  "language_info": {
   "codemirror_mode": {
    "name": "ipython",
    "version": 3
   },
   "file_extension": ".py",
   "mimetype": "text/x-python",
   "name": "python",
   "nbconvert_exporter": "python",
   "pygments_lexer": "ipython3",
   "version": "3.10.4"
  }
 },
 "nbformat": 4,
 "nbformat_minor": 2
}
