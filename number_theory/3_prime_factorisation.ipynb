{
 "cells": [
  {
   "cell_type": "markdown",
   "metadata": {},
   "source": [
    "### Prime factorisation"
   ]
  },
  {
   "cell_type": "markdown",
   "metadata": {},
   "source": [
    "- Given $N$, find the prime factors of $N$\n",
    "    - e.g. N = 100 -> {2, 2, 5, 5}\n",
    "\n",
    "- We can brute force a solution by computing a list of primes up to a given number, and checking every prime for divisibility"
   ]
  },
  {
   "cell_type": "code",
   "execution_count": 22,
   "metadata": {},
   "outputs": [
    {
     "data": {
      "text/plain": [
       "array([2.000000e+00, 2.000000e+00, 2.000000e+00, 2.410589e+06])"
      ]
     },
     "execution_count": 22,
     "metadata": {},
     "output_type": "execute_result"
    }
   ],
   "source": [
    "import numpy as np\n",
    "\n",
    "def get_primes_up_to_n(n: int) -> np.array:\n",
    "    '''\n",
    "    Time complexity: O(N log log(N)), by sum of prime reciprocals\n",
    "    '''\n",
    "    is_prime = np.ones(n+1)\n",
    "    is_prime[0], is_prime[1] = 0, 0\n",
    "\n",
    "    for num in range(2, n+1):\n",
    "        if is_prime[num]:\n",
    "            is_prime[num**2 : (n+1) : num] = 0\n",
    "    \n",
    "    return np.flatnonzero(is_prime)\n",
    "\n",
    "def prime_factorise_naive(n: int) -> np.array:\n",
    "    '''\n",
    "    Time complexity: O(|p| * log (N)) where |p| is the number of distinct prime factors, and log(N) because for a given prime p, it executes log_p(N) times in the while loop. \n",
    "        - If you had not precomputed the primes, you will have a time complexity of O(N), to try every number from 1 to N\n",
    "        \n",
    "    '''\n",
    "    prime_factors = np.array([])\n",
    "    for prime in primes:\n",
    "        while n % prime == 0:\n",
    "            prime_factors = np.append(prime_factors, prime)\n",
    "            n /= prime\n",
    "    \n",
    "    return prime_factors\n",
    "\n",
    "primes = get_primes_up_to_n(int(1e8))\n",
    "prime_factorise(19284712)"
   ]
  },
  {
   "cell_type": "markdown",
   "metadata": {},
   "source": [
    "### Better solution"
   ]
  },
  {
   "cell_type": "markdown",
   "metadata": {},
   "source": [
    "- We see that the time complexity isn't too great. We get some polynomial time function through this process! Let's see how this can be better\n",
    "\n",
    "- Claim: For any given composite number $N$, there is at least 1 prime divisor <= $\\sqrt{N}$ \n",
    "    - Basically, since divisors must come in pairs (see section 1), we just need to test up to $\\sqrt{N}$ to see if a number if prime. If there is no valid divisor up to $\\sqrt{N}$, there cannot be one above $\\sqrt{N}$\n",
    "\n",
    "- This improves on the O(N) solution (where you loop for every number between 1 and N), but not the precomputed hash solution"
   ]
  },
  {
   "cell_type": "code",
   "execution_count": 24,
   "metadata": {},
   "outputs": [
    {
     "data": {
      "text/plain": [
       "array([2., 2., 5., 5.])"
      ]
     },
     "execution_count": 24,
     "metadata": {},
     "output_type": "execute_result"
    }
   ],
   "source": [
    "def prime_factorise_better_solution(n: int) -> np.array:\n",
    "    '''\n",
    "    Time complexity: O(\\sqrt{N}) \n",
    "    '''\n",
    "    prime_factors = np.array([])\n",
    "    for divisor in range(2, int((n**0.5)//1)):    \n",
    "        while n % divisor == 0:\n",
    "            prime_factors = np.append(prime_factors, divisor)\n",
    "            n /= divisor\n",
    "    \n",
    "    return prime_factors\n",
    "\n",
    "prime_factorise_better_solution(100)"
   ]
  }
 ],
 "metadata": {
  "kernelspec": {
   "display_name": "kaggle",
   "language": "python",
   "name": "python3"
  },
  "language_info": {
   "codemirror_mode": {
    "name": "ipython",
    "version": 3
   },
   "file_extension": ".py",
   "mimetype": "text/x-python",
   "name": "python",
   "nbconvert_exporter": "python",
   "pygments_lexer": "ipython3",
   "version": "3.10.4"
  }
 },
 "nbformat": 4,
 "nbformat_minor": 2
}
