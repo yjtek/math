{
 "cells": [
  {
   "cell_type": "markdown",
   "metadata": {},
   "source": [
    "# Test 48: The signed rank test for two means (paired observations)"
   ]
  },
  {
   "cell_type": "markdown",
   "metadata": {},
   "source": [
    "## Objective"
   ]
  },
  {
   "cell_type": "markdown",
   "metadata": {},
   "source": [
    "- I have 2 samples, each of which is an array of values, from 2 different populations\n",
    "- Every pair of values in the same array index position was obtained under similar conditions\n",
    "- Is there a significant difference in the means of the 2 samples?"
   ]
  },
  {
   "cell_type": "markdown",
   "metadata": {},
   "source": [
    "## Assumptions"
   ]
  },
  {
   "cell_type": "markdown",
   "metadata": {},
   "source": [
    "- Observations in the two samples should be taken in pairs, one from each distribution, under the same conditions \n",
    "- Different pairs don't have to be taken under similar conditions. \n",
    "- Any pair of observations giving equal values will be ignored in the analysis"
   ]
  },
  {
   "cell_type": "markdown",
   "metadata": {},
   "source": [
    "## Method"
   ]
  },
  {
   "cell_type": "markdown",
   "metadata": {},
   "source": [
    "- I have a sample arrays $x$ and $y$\n",
    "\n",
    "- Compute difference between pairs $d = x-y$\n",
    "\n",
    "- Rank $d$ according to absolute value, ignoring sign\n",
    "\n",
    "- Then, where $d$ is negative, add a negative value to the rank\n",
    "\n",
    "- Sum all positive ranks as $N_1$ and negative ranks as $N_2$\n",
    "\n",
    "- The test statistic is $\\min{(N_1, N_2)}$\n",
    "\n",
    "- Find the critical value from Table 19 (signed rank test for paired differences)"
   ]
  },
  {
   "cell_type": "markdown",
   "metadata": {},
   "source": [
    "## Proof"
   ]
  },
  {
   "cell_type": "code",
   "execution_count": 1,
   "metadata": {},
   "outputs": [],
   "source": [
    "import numpy as np\n",
    "import scipy\n",
    "import matplotlib.pyplot as plt\n",
    "import seaborn as sns"
   ]
  },
  {
   "cell_type": "code",
   "execution_count": 4,
   "metadata": {},
   "outputs": [],
   "source": [
    "population = np.random.normal(10,5,10_00)\n",
    "true_mean = np.mean(population)\n",
    "sample_size=50\n",
    "critical_value_alpha5pct_n50 = 434\n",
    "\n",
    "def get_test_statistic():\n",
    "    sample1 = np.random.choice(population, sample_size) \n",
    "    sample2 = np.random.choice(population, sample_size) \n",
    "    diffs = sample1-sample2\n",
    "    diffs = np.delete(diffs, np.where(diffs==0))\n",
    "\n",
    "    sorted_diffs = np.array(sorted(diffs, key=lambda x: abs(x)))\n",
    "    ranks = np.array([np.where(sorted_diffs == x)[0][0] for x in diffs])\n",
    "\n",
    "    assert all(sorted_diffs[ranks] == diffs)\n",
    "\n",
    "    signed_ranks = [-r if x < 0 else r for r, x in zip(ranks, diffs)]\n",
    "    n1 = -np.sum([x for x in signed_ranks if x < 0])\n",
    "    n2 = np.sum([x for x in signed_ranks if x > 0])\n",
    "    test_statistic = min(n1, n2)\n",
    "    return test_statistic < critical_value_alpha5pct_n50"
   ]
  },
  {
   "cell_type": "code",
   "execution_count": 17,
   "metadata": {},
   "outputs": [
    {
     "data": {
      "text/plain": [
       "0.06"
      ]
     },
     "execution_count": 17,
     "metadata": {},
     "output_type": "execute_result"
    }
   ],
   "source": [
    "np.mean([get_test_statistic() for _ in range(1_000)])"
   ]
  }
 ],
 "metadata": {
  "kernelspec": {
   "display_name": "100_statistical_tests_-_gopal_kanji-JR8uAaSp-py3.12",
   "language": "python",
   "name": "python3"
  },
  "language_info": {
   "codemirror_mode": {
    "name": "ipython",
    "version": 3
   },
   "file_extension": ".py",
   "mimetype": "text/x-python",
   "name": "python",
   "nbconvert_exporter": "python",
   "pygments_lexer": "ipython3",
   "version": "3.12.2"
  }
 },
 "nbformat": 4,
 "nbformat_minor": 2
}
