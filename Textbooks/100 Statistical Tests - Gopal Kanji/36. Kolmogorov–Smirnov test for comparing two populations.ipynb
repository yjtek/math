{
 "cells": [
  {
   "cell_type": "markdown",
   "metadata": {},
   "source": [
    "# Test 36: Kolmogorov–Smirnov test for comparing two populations"
   ]
  },
  {
   "cell_type": "markdown",
   "metadata": {},
   "source": [
    "**Note**: The distribution doesn't seem to match the critical values in the table exactly, but it is probably overlooked because of the lack of assumptions needed in this test"
   ]
  },
  {
   "cell_type": "markdown",
   "metadata": {},
   "source": [
    "## Objective"
   ]
  },
  {
   "cell_type": "markdown",
   "metadata": {},
   "source": [
    "- I have 2 population distributions\n",
    "- I want to know if the two two populations differ from each other"
   ]
  },
  {
   "cell_type": "markdown",
   "metadata": {},
   "source": [
    "## Assumptions"
   ]
  },
  {
   "cell_type": "markdown",
   "metadata": {},
   "source": [
    "- Samples must be sufficiently large (i.e. at least $n=30$)"
   ]
  },
  {
   "cell_type": "markdown",
   "metadata": {},
   "source": [
    "## Method"
   ]
  },
  {
   "cell_type": "markdown",
   "metadata": {},
   "source": [
    "- Take sample of size $n_1$ from population $X$\n",
    "\n",
    "- Take sample of size $n_2$ from population $Y$\n",
    "\n",
    "- Plot the CDF of both samples, denoted as $S_{n_1}(X)$ and $S_{n_2}(Y)$\n",
    "\n",
    "- Find the maximum distance between the 2 CDFs $D$, and this is your test statistic\n",
    "\n",
    "- If the test statistic exceeds Kolmogorov-Smirnov critical value, then reject the null that the 2 populations are the same"
   ]
  },
  {
   "cell_type": "markdown",
   "metadata": {},
   "source": [
    "## Proof"
   ]
  },
  {
   "cell_type": "markdown",
   "metadata": {},
   "source": [
    "- See `Test 35`, it is the exact same test"
   ]
  }
 ],
 "metadata": {
  "kernelspec": {
   "display_name": "100_statistical_tests_-_gopal_kanji-JR8uAaSp-py3.12",
   "language": "python",
   "name": "python3"
  },
  "language_info": {
   "codemirror_mode": {
    "name": "ipython",
    "version": 3
   },
   "file_extension": ".py",
   "mimetype": "text/x-python",
   "name": "python",
   "nbconvert_exporter": "python",
   "pygments_lexer": "ipython3",
   "version": "3.12.2"
  }
 },
 "nbformat": 4,
 "nbformat_minor": 2
}
