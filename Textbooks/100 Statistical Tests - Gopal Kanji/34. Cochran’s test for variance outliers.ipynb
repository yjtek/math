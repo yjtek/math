{
 "cells": [
  {
   "cell_type": "markdown",
   "metadata": {},
   "source": [
    "# Test 34: Cochran’s test for variance outliers"
   ]
  },
  {
   "cell_type": "markdown",
   "metadata": {},
   "source": [
    "## Objective"
   ]
  },
  {
   "cell_type": "markdown",
   "metadata": {},
   "source": [
    "- You have many sample variances \n",
    "- One looks oddly large\n",
    "- Is the larger one significantly different from the rest?"
   ]
  },
  {
   "cell_type": "markdown",
   "metadata": {},
   "source": [
    "## Assumptions"
   ]
  },
  {
   "cell_type": "markdown",
   "metadata": {},
   "source": [
    "- All $K$ samples taken from normally distributed population\n",
    "- Each sample has equal size"
   ]
  },
  {
   "cell_type": "markdown",
   "metadata": {},
   "source": [
    "## Method"
   ]
  },
  {
   "cell_type": "markdown",
   "metadata": {},
   "source": [
    "- Test statistic is simply\n",
    "$$\\begin{aligned}\n",
    "    C &= \\frac{\\max(s_i^2)}{\\sum s_i^2}\n",
    "\\end{aligned}$$\n",
    "\n",
    "- Test statistic follows Cochran test table (Table 15)\n",
    "\n",
    "- If the test statistic is larger than the critical value, the variance differs significantly from the others"
   ]
  },
  {
   "cell_type": "markdown",
   "metadata": {},
   "source": [
    "## Proof"
   ]
  },
  {
   "cell_type": "code",
   "execution_count": 3,
   "metadata": {},
   "outputs": [],
   "source": [
    "import numpy as np\n",
    "import scipy\n",
    "import matplotlib.pyplot as plt\n",
    "import seaborn as sns"
   ]
  },
  {
   "cell_type": "code",
   "execution_count": 9,
   "metadata": {},
   "outputs": [],
   "source": [
    "K = 4\n",
    "MEAN = [5] * K\n",
    "SIGMA = [2] * K\n",
    "SAMPLE_SIZE = [145] * K\n",
    "CRITICAL_VALUE_K4_DOF144 = 0.3093\n",
    "\n",
    "def get_test_statistic():\n",
    "    samples = [np.random.normal(x,y,z) for x,y,z in zip(MEAN, SIGMA, SAMPLE_SIZE)]\n",
    "    sample_variance = [np.var(x, ddof=1) for x in samples]\n",
    "    test_statistic = max(sample_variance) / sum(sample_variance)\n",
    "    return test_statistic"
   ]
  },
  {
   "cell_type": "code",
   "execution_count": 14,
   "metadata": {},
   "outputs": [
    {
     "data": {
      "text/plain": [
       "0.3097090184248026"
      ]
     },
     "execution_count": 14,
     "metadata": {},
     "output_type": "execute_result"
    }
   ],
   "source": [
    "test_statistic_distribution = [get_test_statistic() for _ in range(3_000)]\n",
    "np.percentile(test_statistic_distribution, 95)"
   ]
  }
 ],
 "metadata": {
  "kernelspec": {
   "display_name": "100_statistical_tests_-_gopal_kanji-JR8uAaSp-py3.12",
   "language": "python",
   "name": "python3"
  },
  "language_info": {
   "codemirror_mode": {
    "name": "ipython",
    "version": 3
   },
   "file_extension": ".py",
   "mimetype": "text/x-python",
   "name": "python",
   "nbconvert_exporter": "python",
   "pygments_lexer": "ipython3",
   "version": "3.12.2"
  }
 },
 "nbformat": 4,
 "nbformat_minor": 2
}
