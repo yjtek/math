{
 "cells": [
  {
   "cell_type": "markdown",
   "metadata": {},
   "source": [
    "# Test 19: Discriminant test for the origin of a p-fold sample"
   ]
  },
  {
   "cell_type": "markdown",
   "metadata": {},
   "source": [
    "## Objective"
   ]
  },
  {
   "cell_type": "markdown",
   "metadata": {},
   "source": [
    "- This is very similar to `Test 18`\n",
    "    - In `Test 18`, we had 2 groups of values and some $n$ observations of $k$ features in each group\n",
    "    - We wanted to know, are the 2 groups sufficiently different such that we can reject the null that they are the same\n",
    "\n",
    "- In this case, we have a set of observations that we know are from group 1, and another that we know are from group 2.\n",
    "\n",
    "- Given a 3rd set of observations from an unknown distribution, is this more likely to have come from group 1 or 2?"
   ]
  },
  {
   "cell_type": "markdown",
   "metadata": {},
   "source": [
    "## Assumptions"
   ]
  },
  {
   "cell_type": "markdown",
   "metadata": {},
   "source": [
    "- This uses Hotelling's $T^2$ statistic, so the same assumptions apply:\n",
    "\n",
    "- All the variables (values in the series) are assumed to be independent of each other\n",
    "- All variables follow a multivariate normal distribution\n",
    "    - It is ok if the variables are correlated"
   ]
  },
  {
   "cell_type": "markdown",
   "metadata": {},
   "source": [
    "## Method"
   ]
  },
  {
   "cell_type": "markdown",
   "metadata": {},
   "source": [
    "- From population 1, we have $n_1$ observations and $k=3$ features. Let's call this $x$\n",
    "\n",
    "- From population 2, we have $n_2$ observations and $k=3$ features. Let's call this $y$\n",
    "\n",
    "- We have an unknown set of $n_3$ observations and $k=3$  features, which we'll call $z$\n",
    "\n",
    "- Compute the column means of each of the matrix $x$, $y$, $z$, giving you $\\bar{x}, \\bar{y}, \\bar{z}$\n",
    "    - Each of these is a $k \\times 1$ array \n",
    "\n",
    "- Let $x_{ij}$ represent the covariance of the $i$-th column and $j$-th column in matrix $x$\n",
    "\n",
    "- We now want to solve for the unknown coefficients in the same manner as Hotelling's $T^2$:\n",
    "\n",
    "- Find $k=3$ coefficients $\\alpha_{1}, \\alpha_{2}, \\alpha_{3}$ such that:\n",
    "$$\\begin{aligned}\n",
    "    \\alpha_1 \\cdot [x_{00} + y_{00}] + \\alpha_2 \\cdot [x_{01} + y_{01}] + \\alpha_3 \\cdot [x_{02} + y_{02}] &= (n_1 + n_2 - 2) \\cdot (\\bar{x_0} - \\bar{y_0}) \\\\\n",
    "\n",
    "    \\alpha_1 \\cdot [x_{10} + y_{10}] + \\alpha_2 \\cdot [x_{11} + y_{11}] + \\alpha_3 \\cdot [x_{12} + y_{12}] &= (n_1 + n_2 - 2) \\cdot (\\bar{x_1} - \\bar{y_1}) \\\\\n",
    "\n",
    "    \\alpha_1 \\cdot [x_{20} + y_{20}] + \\alpha_2 \\cdot [x_{21} + y_{21}] + \\alpha_3 \\cdot [x_{22} + y_{22}] &= (n_1 + n_2 - 2) \\cdot (\\bar{x_2} - \\bar{y_2}) \\\\\n",
    "\\end{aligned}$$\n",
    "\n",
    "- Define matrices\n",
    "$$\\begin{aligned}\n",
    "    B &= \\begin{bmatrix}\n",
    "        x_{00} + y_{00} & x_{01} + y_{01} & x_{02} + y_{02} \\\\\n",
    "        x_{10} + y_{10} & x_{11} + y_{11} & x_{12} + y_{12} \\\\\n",
    "        x_{20} + y_{20} & x_{21} + y_{21} & x_{22} + y_{22} \\\\\n",
    "    \\end{bmatrix} \\\\ \\\\\n",
    "\n",
    "    \\alpha &= \\begin{bmatrix}\n",
    "        \\alpha_0 \\\\\n",
    "        \\alpha_1 \\\\\n",
    "        \\alpha_2\n",
    "    \\end{bmatrix} \\\\ \\\\ \n",
    "\n",
    "    N &= \\begin{bmatrix}\n",
    "        (n_1 + n_2 - 2) \\cdot (\\bar{x_0} - \\bar{y_0}) \\\\\n",
    "        (n_1 + n_2 - 2) \\cdot (\\bar{x_1} - \\bar{y_1}) \\\\\n",
    "        (n_1 + n_2 - 2) \\cdot (\\bar{x_2} - \\bar{y_2}) \n",
    "        \\end{bmatrix}\n",
    "\\end{aligned}$$\n",
    "\n",
    "- Then we want to solve for matrix $\\alpha = \\begin{bmatrix} \\alpha_0 \\\\ \\alpha_1 \\\\ \\alpha_2 \\end{bmatrix}$\n",
    "$$\\begin{aligned}\n",
    "    B \\cdot \\alpha &= N \\\\\n",
    "    \\alpha &= B^{-1} \\cdot N\n",
    "\\end{aligned}$$\n",
    "\n",
    "- Finally, we can compute the the statistics $D_x$ and $D_y$ and $D_z$ using the values of $\\alpha$ we just found. Note that $\\bar{x_i}$ just refers to the mean of the i-th column in matrix $x$\n",
    "$$\\begin{aligned}\n",
    "    D_x &= \\alpha_0 \\bar{x_0} + \\alpha_1 \\bar{x_1} + \\alpha_2 \\bar{x_2} \\\\\n",
    "    D_y &= \\alpha_0 \\bar{y_0} + \\alpha_1 \\bar{y_1} + \\alpha_2 \\bar{y_2} \\\\\n",
    "    D_z &= \\alpha_0 \\bar{z_0} + \\alpha_1 \\bar{z_1} + \\alpha_2 \\bar{z_2} \\\\\n",
    "\\end{aligned}$$\n",
    "\n",
    "- Remember, the point is to decide if the sample $z$ was more likely to come from $x$ or $y$\n",
    "    - So if $D_x - D_z < D_y - D_z$, we say that the series came from the same population as $x$ (i.e. if the distance from $x$ to $z$ is shorter than the distance from $y$ to $z$)\n",
    "\n",
    "- Distances are not guaranteed to follow any distribution, so there isn't really a \"hypothesis test\" framework here"
   ]
  },
  {
   "cell_type": "markdown",
   "metadata": {},
   "source": [
    "## Simulated Example"
   ]
  },
  {
   "cell_type": "code",
   "execution_count": 5,
   "metadata": {},
   "outputs": [],
   "source": [
    "import numpy as np\n",
    "import scipy\n",
    "import seaborn as sns\n",
    "import matplotlib.pyplot as plt\n",
    "from sklearn.datasets import make_spd_matrix"
   ]
  },
  {
   "cell_type": "code",
   "execution_count": null,
   "metadata": {},
   "outputs": [],
   "source": [
    "def compute_covariance(matrix, index1, index2):\n",
    "    cov = np.sum(\n",
    "        (matrix[:,index1] - np.mean(matrix[:,index1])) *\n",
    "        (matrix[:,index2] - np.mean(matrix[:,index2])) \n",
    "    )\n",
    "    return cov\n",
    "\n",
    "def make_variance_covariance_matrix(matrix, n_features):\n",
    "    B = np.array([\n",
    "        compute_covariance(matrix, i, j)  \n",
    "        for i in range(n_features)\n",
    "        for j in range(n_features)\n",
    "    ]).reshape(n_features, n_features)\n",
    "\n",
    "    for i in range(n_features):\n",
    "        for j in range(n_features):\n",
    "            assert B[i][j] == B[j][i]\n",
    "\n",
    "    return B"
   ]
  },
  {
   "cell_type": "code",
   "execution_count": 32,
   "metadata": {},
   "outputs": [],
   "source": [
    "N_FEATURES = 3\n",
    "MEANS = np.random.uniform(-10,10,N_FEATURES)\n",
    "COV = make_spd_matrix(N_FEATURES)\n",
    "\n",
    "MEANS_2 = np.random.uniform(-3,3,N_FEATURES)\n",
    "COV_2 = make_spd_matrix(N_FEATURES)**2\n",
    "\n",
    "SAMPLE_SIZE_1 = 100\n",
    "SAMPLE_SIZE_2 = 123\n",
    "SAMPLE_SIZE_3 = 231\n",
    "\n",
    "def get_distance_sample():\n",
    "    ## In this case, z is clearly closer to x than to y.\n",
    "    ## Lets see if our method of classifying it will give us that conclusion\n",
    "    x = np.random.multivariate_normal(MEANS, COV, SAMPLE_SIZE_1)\n",
    "    y = np.random.multivariate_normal(MEANS_2, COV_2, SAMPLE_SIZE_2)\n",
    "    z = np.random.multivariate_normal(MEANS, COV, SAMPLE_SIZE_3)\n",
    "\n",
    "    xbar = np.mean(x, axis=0)\n",
    "    ybar = np.mean(y, axis=0)\n",
    "    zbar = np.mean(z, axis=0)\n",
    "\n",
    "    B = (\n",
    "        make_variance_covariance_matrix(x, N_FEATURES) +\n",
    "        make_variance_covariance_matrix(y, N_FEATURES)\n",
    "    )\n",
    "\n",
    "    N = np.array([\n",
    "        (SAMPLE_SIZE_1 + SAMPLE_SIZE_2 - 2) * (xbar[0] - ybar[0]),\n",
    "        (SAMPLE_SIZE_1 + SAMPLE_SIZE_2 - 2) * (xbar[1] - ybar[1]),\n",
    "        (SAMPLE_SIZE_1 + SAMPLE_SIZE_2 - 2) * (xbar[2] - ybar[2]),\n",
    "    ]).reshape(N_FEATURES, -1)\n",
    "\n",
    "    alpha = np.linalg.inv(B) @ N\n",
    "\n",
    "    Dx = (alpha[0] * xbar[0]) + (alpha[1] * xbar[1]) + (alpha[2] * xbar[2])\n",
    "    Dy = (alpha[0] * ybar[0]) + (alpha[1] * ybar[1]) + (alpha[2] * ybar[2])\n",
    "    Dz = (alpha[0] * zbar[0]) + (alpha[1] * zbar[1]) + (alpha[2] * zbar[2])\n",
    "\n",
    "    return (Dx - Dz)[0], (Dy - Dz)[0]\n",
    "    # print(f\"Distance x from z: {abs(Dx - Dz)}\")\n",
    "    # print(f\"Distance y from z: {abs(Dy - Dz)}\")"
   ]
  },
  {
   "cell_type": "code",
   "execution_count": 36,
   "metadata": {},
   "outputs": [
    {
     "data": {
      "text/plain": [
       "<Axes: ylabel='Density'>"
      ]
     },
     "execution_count": 36,
     "metadata": {},
     "output_type": "execute_result"
    },
    {
     "data": {
      "image/png": "[encoded data removed]",
      "text/plain": [
       "<Figure size 640x480 with 1 Axes>"
      ]
     },
     "metadata": {},
     "output_type": "display_data"
    }
   ],
   "source": [
    "distance_from_same_population = [get_distance_sample()[0] for _ in range(500)]\n",
    "distance_from_diff_population = [get_distance_sample()[1] for _ in range(500)]\n",
    "\n",
    "sns.kdeplot(distance_from_same_population, label='same population')\n",
    "sns.kdeplot(distance_from_diff_population, label='different population')"
   ]
  }
 ],
 "metadata": {
  "kernelspec": {
   "display_name": "100_statistical_tests_-_gopal_kanji-JR8uAaSp-py3.12",
   "language": "python",
   "name": "python3"
  },
  "language_info": {
   "codemirror_mode": {
    "name": "ipython",
    "version": 3
   },
   "file_extension": ".py",
   "mimetype": "text/x-python",
   "name": "python",
   "nbconvert_exporter": "python",
   "pygments_lexer": "ipython3",
   "version": "3.12.2"
  }
 },
 "nbformat": 4,
 "nbformat_minor": 2
}
