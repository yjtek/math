{
 "cells": [
  {
   "cell_type": "markdown",
   "metadata": {},
   "source": [
    "# Test 35: Kolmogorov–Smirnov test for goodness of fit"
   ]
  },
  {
   "cell_type": "markdown",
   "metadata": {},
   "source": [
    "**Note**: The distribution doesn't seem to match the critical values in the table exactly, but it is probably overlooked because of the lack of assumptions needed in this test"
   ]
  },
  {
   "cell_type": "markdown",
   "metadata": {},
   "source": [
    "## Objective"
   ]
  },
  {
   "cell_type": "markdown",
   "metadata": {},
   "source": [
    "- I have some observed distribution\n",
    "- I want to know if it follows some pre-defined distribution"
   ]
  },
  {
   "cell_type": "markdown",
   "metadata": {},
   "source": [
    "## Assumptions"
   ]
  },
  {
   "cell_type": "markdown",
   "metadata": {},
   "source": [
    "- The population distribution is continuous"
   ]
  },
  {
   "cell_type": "markdown",
   "metadata": {},
   "source": [
    "## Method"
   ]
  },
  {
   "cell_type": "markdown",
   "metadata": {},
   "source": [
    "- You have a sample $x$ of size $n$\n",
    "- Get the CDF of $x$, which we'll call $S_n(x)$\n",
    "- Get the CDF of the desired function you want to compare it to, which we'll call $F(x)$\n",
    "- Find the maximum distance between the 2 functions $D$, which is the test statistic\n",
    "$$\\begin{aligned}\n",
    "    D &= | F - S_n |\n",
    "\\end{aligned}$$\n",
    "\n",
    "- Compare $D$ against values in the Kolmogorov-Smirnov table (Table 16)\n",
    "\n",
    "- If $D$ is greater than the critical value, we reject the null hypothesis that the distributions are the same"
   ]
  },
  {
   "cell_type": "markdown",
   "metadata": {},
   "source": [
    "## Proof"
   ]
  },
  {
   "cell_type": "code",
   "execution_count": 1,
   "metadata": {},
   "outputs": [],
   "source": [
    "import numpy as np\n",
    "import scipy\n",
    "import matplotlib.pyplot as plt\n",
    "import seaborn as sns"
   ]
  },
  {
   "cell_type": "code",
   "execution_count": 105,
   "metadata": {},
   "outputs": [
    {
     "name": "stdout",
     "output_type": "stream",
     "text": [
      "CRITICAL_VALUE_GT35=0.08601395235657992\n"
     ]
    }
   ],
   "source": [
    "n = 250\n",
    "CRITICAL_VALUE_GT35 = 1.36/(n**0.5)\n",
    "# CRITICAL_VALUE_35 = 0.23\n",
    "print(f\"{CRITICAL_VALUE_GT35=}\")\n",
    "\n",
    "normal_distribution = np.random.normal(0,1,n)\n",
    "exponential_distribution = np.random.beta(1,2,n)\n",
    "\n",
    "def get_test_statistic(comparison_distribution):\n",
    "    sample = np.random.beta(1,2,n)\n",
    "    val_range = np.linspace(-1,1,500)\n",
    "\n",
    "    empirical_cdf_sample = np.array([\n",
    "        np.sum(sample <= x) / len(sample)\n",
    "        for x in val_range\n",
    "    ])\n",
    "\n",
    "    empirical_cdf_comparison = np.array([\n",
    "        np.sum(comparison_distribution <= x) / len(comparison_distribution)\n",
    "        for x in val_range\n",
    "    ])\n",
    "\n",
    "    return max(abs(empirical_cdf_comparison - empirical_cdf_sample))\n",
    "\n",
    "    # cdf_sample = np.array([scipy.stats.percentileofscore(sample, x)/100 for x in val_range])\n",
    "    # comparison_dist = np.array([scipy.stats.percentileofscore(comparison_distribution, x)/100 for x in val_range])\n",
    "\n",
    "    "
   ]
  },
  {
   "cell_type": "code",
   "execution_count": 106,
   "metadata": {},
   "outputs": [
    {
     "data": {
      "text/plain": [
       "0.488"
      ]
     },
     "execution_count": 106,
     "metadata": {},
     "output_type": "execute_result"
    }
   ],
   "source": [
    "test_statistic_same_distribution = [get_test_statistic(normal_distribution) for _ in range(500)]\n",
    "np.percentile(test_statistic_same_distribution, 95)"
   ]
  },
  {
   "cell_type": "code",
   "execution_count": 112,
   "metadata": {},
   "outputs": [
    {
     "data": {
      "text/plain": [
       "0.0921999999999999"
      ]
     },
     "execution_count": 112,
     "metadata": {},
     "output_type": "execute_result"
    }
   ],
   "source": [
    "test_statistic_same_distribution = [get_test_statistic(exponential_distribution) for _ in range(500)]\n",
    "np.percentile(test_statistic_same_distribution, 95)"
   ]
  }
 ],
 "metadata": {
  "kernelspec": {
   "display_name": "100_statistical_tests_-_gopal_kanji-JR8uAaSp-py3.12",
   "language": "python",
   "name": "python3"
  },
  "language_info": {
   "codemirror_mode": {
    "name": "ipython",
    "version": 3
   },
   "file_extension": ".py",
   "mimetype": "text/x-python",
   "name": "python",
   "nbconvert_exporter": "python",
   "pygments_lexer": "ipython3",
   "version": "3.12.2"
  }
 },
 "nbformat": 4,
 "nbformat_minor": 2
}
