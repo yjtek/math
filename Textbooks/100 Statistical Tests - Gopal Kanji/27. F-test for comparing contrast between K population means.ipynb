{
 "cells": [
  {
   "cell_type": "markdown",
   "metadata": {},
   "source": [
    "# Test 27: F-test for multiple comparison of contrasts between K population means (Contrast Analysis)"
   ]
  },
  {
   "cell_type": "markdown",
   "metadata": {},
   "source": [
    "## Objective"
   ]
  },
  {
   "cell_type": "markdown",
   "metadata": {},
   "source": [
    "- In `Test 26`, we looked at how we can test 2 hypotheses:\n",
    "    - For $K$ given samples from $K$ different populations, is $\\mu_0 = \\mu_1 = ... \\mu_K$\n",
    "    - For $K$ given samples from $K$ different populations, is the overall mean equal to some hypothesised mean $\\mu_0$, i.e. $\\mu = \\mu_0$\n",
    "\n",
    "- You can see this as an extension:\n",
    "    - We want to test if two specific means in the set are equal, i.e. $\\mu_i = \\mu_j$\n",
    "\n",
    "    OR \n",
    "\n",
    "    - We want to test if some specific combination of means differ from some other specific combination, i.e. $\\mu_a + \\mu_b = \\mu_y + \\mu_z$"
   ]
  },
  {
   "cell_type": "markdown",
   "metadata": {},
   "source": [
    "## Assumptions"
   ]
  },
  {
   "cell_type": "markdown",
   "metadata": {},
   "source": [
    "- Similar to `Test 26`\n",
    "    - Each of the $K$ samples are independent of each other\n",
    "    - The subpopulations should all be normally distributed \n",
    "    - The subpopulations should all have the same variance\n",
    "\n",
    "- In addition, the comparisons to be examined should be decided on at or before the start of the analysis."
   ]
  },
  {
   "cell_type": "markdown",
   "metadata": {},
   "source": [
    "## Method"
   ]
  },
  {
   "cell_type": "markdown",
   "metadata": {},
   "source": [
    "- Let each of the $K$ samples be $x_1, x_2 ... x_k$\n",
    "\n",
    "- Each of these samples will have their own means, which we'll denote as $\\mu_1, \\mu_2, ... \\mu_k$\n",
    "\n",
    "- We'll first define a new concept, called a contrast $\\gamma$, which measures the degree of difference between all the sample means. This is written as:\n",
    "$$\\begin{aligned}\n",
    "    \\gamma &= \\alpha_1 \\bar{x_1} + \\alpha_2 \\bar{x_2} + ... \\alpha_k \\bar{x_k} \\quad \\text{s.t} \\sum_{i=1}^{k} \\alpha_i = 0\n",
    "\\end{aligned}$$\n",
    "\n",
    "- Intuitively, if the means are all equal, then contrast $\\gamma = 0$\n",
    "\n",
    "- How does this help us test the hypothesis that the difference between 2 means, or 2 linear combinations of means, are 0?\n",
    "    - If we want to test $H_0: \\mu_1 = \\mu_2$\n",
    "    $$\\begin{aligned}\n",
    "        \\gamma &= 1 \\cdot \\bar{x_1} + (-1) \\cdot \\bar{x_2} + ... (0) \\bar{x_k} \n",
    "    \\end{aligned}$$\n",
    "\n",
    "    - If we want to test $H_0: 0.5 \\mu_1 + 0.5 \\mu_2 = 0.333 \\mu_3 + 0.333 \\mu_4 + 0.333 \\mu_5 $\n",
    "    $$\\begin{aligned}\n",
    "        \\gamma &= 0.5 \\bar{x_1} + 0.5 \\bar{x_2} + (-0.333) \\bar{x_3} + (-0.333) \\bar{x_4} + (-0.333) \\bar{x_5} + ... (0) \\bar{x_k} \n",
    "    \\end{aligned}$$\n",
    "\n",
    "- Once we have defined this, the test statistic is:\n",
    "$$\\begin{aligned}\n",
    "    F &= \\frac{1}{s^2} \\cdot \\frac{(\\sum_{j=1}^{K} \\alpha_j \\bar{x_j})^2}{\\sum_{j=1}^K \\frac{\\alpha_j^2}{n_j}} \\\\ \\\\\n",
    "\n",
    "    s^2 &= \\frac{\\sum_{j=1}^{K} \\sum_{i=1}^{n_j} (x_{ij}^2 - \\sum_{j=1}^{K} n_j \\bar{x_j}^2)}{N - K}\n",
    "\\end{aligned}$$\n",
    "\n",
    "- What happens in the special case where we only want to test $H_0: \\mu_1 = \\mu_2$? Recall that $\\alpha_1 = 1$ and $\\alpha_2 = -1$\n",
    "$$\\begin{aligned}\n",
    "    F &= \\frac{1}{s^2} \\cdot \\frac{(\\sum_{j=1}^{K} \\alpha_j \\bar{x_j})^2}{\\sum_{j=1}^K \\frac{\\alpha_j^2}{n_j}} \\\\\n",
    "    &= \\frac{1}{s^2} \\cdot \\frac{(\\bar{x_1} - \\bar{x_2})^2}{\\frac{1}{n_1} + \\frac{1}{n_2}} \\\\\n",
    "\\end{aligned}$$\n",
    "\n",
    "- The test statistic follows an $F$ distribution with $(1, N-K)$ degrees of freedom"
   ]
  },
  {
   "cell_type": "markdown",
   "metadata": {},
   "source": [
    "## Proof that test statistic follows an F distribution"
   ]
  },
  {
   "cell_type": "code",
   "execution_count": 1,
   "metadata": {},
   "outputs": [],
   "source": [
    "import numpy as np\n",
    "import scipy\n",
    "import matplotlib.pyplot as plt\n",
    "import seaborn as sns"
   ]
  },
  {
   "cell_type": "code",
   "execution_count": 59,
   "metadata": {},
   "outputs": [],
   "source": [
    "K = 4\n",
    "MEAN = [5] * K\n",
    "SIGMA = [2] * K\n",
    "SAMPLE_SIZE = np.random.randint(500,600,K)\n",
    "TOTAL_SAMPLE_SIZE = np.sum(SAMPLE_SIZE)\n",
    "\n",
    "def make_constrast_weights(set1, set2):\n",
    "    alpha = np.zeros(K)\n",
    "    set1_coef = 1/len(set1)\n",
    "    set2_coef = -1/len(set2)\n",
    "    alpha[set1] = set1_coef\n",
    "    alpha[set2] = set2_coef\n",
    "\n",
    "    assert np.sum(alpha) == 0\n",
    "\n",
    "    return alpha\n",
    "\n",
    "def get_test_statistic_contrast(lhs_sample_index, rhs_sample_index):\n",
    "    samples = [np.random.normal(x,y,z) for x,y,z in zip(MEAN, SIGMA, SAMPLE_SIZE)]\n",
    "    sample_means = [np.mean(x) for x in samples]\n",
    "    \n",
    "    alpha = make_constrast_weights(lhs_sample_index, rhs_sample_index)\n",
    "    \n",
    "    s_sq = (\n",
    "        (\n",
    "            np.sum([np.sum(x**2) for x in samples]) - \n",
    "            np.sum([n * xbar**2 for n, xbar in zip(SAMPLE_SIZE, sample_means)])\n",
    "        ) /\n",
    "        (TOTAL_SAMPLE_SIZE - K)\n",
    "    )\n",
    "\n",
    "    test_statistic = (\n",
    "        (1/s_sq) *\n",
    "        np.sum([a*xbar for a, xbar in zip(alpha, sample_means)])**2 *\n",
    "        (1 / np.sum([a**2/n for a,n in zip(alpha, SAMPLE_SIZE)]))\n",
    "    )\n",
    "    \n",
    "    return test_statistic"
   ]
  },
  {
   "cell_type": "code",
   "execution_count": 66,
   "metadata": {},
   "outputs": [
    {
     "data": {
      "text/plain": [
       "<matplotlib.legend.Legend at 0x1325d2930>"
      ]
     },
     "execution_count": 66,
     "metadata": {},
     "output_type": "execute_result"
    },
    {
     "data": {
      "image/png": "[encoded data removed]",
      "text/plain": [
       "<Figure size 640x480 with 1 Axes>"
      ]
     },
     "metadata": {},
     "output_type": "display_data"
    }
   ],
   "source": [
    "test_statistic_distribution_single = [get_test_statistic_contrast([0],[1]) for _ in range(3_000)]\n",
    "test_statistic_distribution_multiple = [get_test_statistic_contrast([0,1],[2]) for _ in range(3_000)]\n",
    "true_f_distribution = np.random.f(dfnum=1, dfden=np.sum(SAMPLE_SIZE)-K, size=3_000)\n",
    "\n",
    "sns.kdeplot(test_statistic_distribution_single, label='test statistic single')\n",
    "sns.kdeplot(test_statistic_distribution_multiple, label='test statistic multiple')\n",
    "sns.kdeplot(true_f_distribution, label='f distribution')\n",
    "plt.legend()"
   ]
  },
  {
   "cell_type": "code",
   "execution_count": null,
   "metadata": {},
   "outputs": [],
   "source": []
  }
 ],
 "metadata": {
  "kernelspec": {
   "display_name": "100_statistical_tests_-_gopal_kanji-JR8uAaSp-py3.12",
   "language": "python",
   "name": "python3"
  },
  "language_info": {
   "codemirror_mode": {
    "name": "ipython",
    "version": 3
   },
   "file_extension": ".py",
   "mimetype": "text/x-python",
   "name": "python",
   "nbconvert_exporter": "python",
   "pygments_lexer": "ipython3",
   "version": "3.12.2"
  }
 },
 "nbformat": 4,
 "nbformat_minor": 2
}
