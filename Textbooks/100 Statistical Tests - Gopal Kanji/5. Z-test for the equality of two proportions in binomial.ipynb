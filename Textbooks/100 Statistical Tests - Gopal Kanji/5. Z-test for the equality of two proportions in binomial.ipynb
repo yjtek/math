{
 "cells": [
  {
   "cell_type": "markdown",
   "metadata": {},
   "source": [
    "# 5. Z-test for the equality of two proportions (binomial distribution)"
   ]
  },
  {
   "cell_type": "markdown",
   "metadata": {},
   "source": [
    "## Objective"
   ]
  },
  {
   "cell_type": "markdown",
   "metadata": {},
   "source": [
    "- To investigate the assumption that the proportions $\\hat{p_1}$ and $\\hat{p_2}$ of elements from two populations are equal, based on two samples, one from each population.\n",
    "\n",
    "- In layman's terms:\n",
    "    - Assume I have two populations\n",
    "    \n",
    "    - I draw $n_1$ observations from population 1, and using this, I compute $\\hat{p_1}$ (the proportion of 1s in my sample)\n",
    "\n",
    "    - I draw $n_2$ observations from population 2, and using this, I compute $\\hat{p_2}$\n",
    "\n",
    "    - I want to know test if $\\hat{p_1} = \\hat{p_2}$ "
   ]
  },
  {
   "cell_type": "markdown",
   "metadata": {},
   "source": [
    "## Assumptions"
   ]
  },
  {
   "cell_type": "markdown",
   "metadata": {},
   "source": [
    "- Assumes that the number of observations in both the samples are large (i.e. $n_1 \\ge 30$, $n_2 \\ge 30$) to justify the normal approximation to the binomial\n",
    "    - i.e. $\\hat{p}$ is normally distributed I.F.F. you take a sufficient sample $n$ by central limit theorem"
   ]
  },
  {
   "cell_type": "markdown",
   "metadata": {},
   "source": [
    "## Method"
   ]
  },
  {
   "cell_type": "markdown",
   "metadata": {},
   "source": [
    "- Take sample $n_1$ from population 1, and $n_2$ from population 2\n",
    "- Compute $\\hat{p_1}$ and $\\hat{p_2}$\n",
    "\n",
    "- Let's define the pooled proportion (basically just taking a sample-weighted average of the 2 proportions) to be \n",
    "\n",
    "$$\\begin{aligned}\n",
    "    p_{pooled} &= \\frac{\\hat{p_1} n_1 + \\hat{p_2} n_2}{n_1 + n_2}\n",
    "\\end{aligned}$$\n",
    "\n",
    "- The test statistic is \n",
    "$$\\begin{aligned}\n",
    "    Z = \\frac{\\hat{p_1} - \\hat{p_2}}{\\sqrt{p_{pooled} \\cdot (1 - p_{pooled}) \\cdot (\\frac{1}{n_1} + \\frac{1}{n_2})}}\n",
    "\\end{aligned}$$"
   ]
  },
  {
   "cell_type": "markdown",
   "metadata": {},
   "source": [
    "### Proof that the test statistic is Gaussian"
   ]
  },
  {
   "cell_type": "markdown",
   "metadata": {},
   "source": [
    "## Example"
   ]
  },
  {
   "cell_type": "markdown",
   "metadata": {},
   "source": [
    "- Problem\n",
    "    - Two random samples are taken from two populations representing two production processes for clock mechanisms\n",
    "    - The first sample has size $n_1 = 952$, and the proportion of mechanisms with bad accuracy is $\\hat{p_1} = 0.325\\%$. \n",
    "    - The second sample has size $n_2 = 1168$, and the proportion of mechanisms with bad accuracy is $\\hat{p_2} = 5.73\\%$. \n",
    "\n",
    "- Question\n",
    "    - Do the two populations of clock mechanisms have different quality? (two-tailed test)\n",
    "    - Is quality of process 1 better/worse than process 2 (one-tailed test)?"
   ]
  },
  {
   "cell_type": "code",
   "execution_count": 11,
   "metadata": {},
   "outputs": [
    {
     "data": {
      "text/plain": [
       "-6.926541825079652"
      ]
     },
     "execution_count": 11,
     "metadata": {},
     "output_type": "execute_result"
    }
   ],
   "source": [
    "n1 = 952\n",
    "n2 = 1168\n",
    "phat1 = 0.00325\n",
    "phat2 = 0.0573\n",
    "\n",
    "def compute_ppool(n1, n2, phat1, phat2):\n",
    "    return ((n1 * phat1) + (n2 * phat2)) / (n1 + n2)\n",
    "\n",
    "def compute_z_statistic(n1, n2, phat1, phat2):\n",
    "    ppool = compute_ppool(n1, n2, phat1, phat2)\n",
    "    z = (phat1 - phat2) / ((ppool * (1-ppool) * (1/n1 + 1/n2))**0.5)\n",
    "    return z\n",
    "\n",
    "compute_z_statistic(n1, n2, phat1, phat2)"
   ]
  },
  {
   "cell_type": "markdown",
   "metadata": {},
   "source": []
  }
 ],
 "metadata": {
  "kernelspec": {
   "display_name": "100_statistical_tests_-_gopal_kanji-JR8uAaSp-py3.12",
   "language": "python",
   "name": "python3"
  },
  "language_info": {
   "codemirror_mode": {
    "name": "ipython",
    "version": 3
   },
   "file_extension": ".py",
   "mimetype": "text/x-python",
   "name": "python",
   "nbconvert_exporter": "python",
   "pygments_lexer": "ipython3",
   "version": "3.12.2"
  }
 },
 "nbformat": 4,
 "nbformat_minor": 2
}
