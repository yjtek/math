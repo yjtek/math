{
 "cells": [
  {
   "cell_type": "markdown",
   "metadata": {},
   "source": [
    "# Test 31: Bartlett’s test for equality of K variances"
   ]
  },
  {
   "cell_type": "markdown",
   "metadata": {},
   "source": [
    "## Objective"
   ]
  },
  {
   "cell_type": "markdown",
   "metadata": {},
   "source": [
    "- You have $K$ populations\n",
    "- Are the variances of all populations equal?"
   ]
  },
  {
   "cell_type": "markdown",
   "metadata": {},
   "source": [
    "## Assumptions"
   ]
  },
  {
   "cell_type": "markdown",
   "metadata": {},
   "source": [
    "- All populations are normally distributed"
   ]
  },
  {
   "cell_type": "markdown",
   "metadata": {},
   "source": [
    "## Method"
   ]
  },
  {
   "cell_type": "markdown",
   "metadata": {},
   "source": [
    "- You have $K$ populations\n",
    "- Draw a sample from each of $K$ populations \n",
    "- Each sample has size $n_1, n_2, ... n_K$ \n",
    "- Compute the variances $s_1^2, s_2^2, ... s_K^2$ for each sample\n",
    "\n",
    "- The overall variance is therefore\n",
    "$$\\begin{aligned}\n",
    "    s^2 &= \\frac{\\sum_{j=1}^{K} (n_j - 1) \\cdot s_j^2}{\\sum_{j=1}^{K} (n_j - 1)}\n",
    "\\end{aligned}$$\n",
    "\n",
    "- Finally, compute the following statistics\n",
    "$$\\begin{aligned}\n",
    "    B &= \\frac{\\ln(10)}{C} \\cdot [\\sum (n_j - 1) \\cdot \\log s^2 - \\sum (n_j - 1) \\log s_j^2] \\\\ \\\\\n",
    "\n",
    "    C &= 1 + \\frac{1}{3 (K+1)} \\cdot [\\sum \\frac{1}{(n_j -1)} - \\frac{1}{\\sum (n_j - 1)}]\n",
    "\\end{aligned}$$\n",
    "\n",
    "- There are 2 cases to consider (i) $n_j \\gt 6$ and (ii) $n_j \\le 6$\n",
    "    1. For $n_j \\gt 6$: \n",
    "        - The test statistic is $B$\n",
    "        - $B$ follows a $\\chi^2$ distribution with $K-1$ degrees of freedom. \n",
    "        - The null hypothesis (all variances are equal) will be rejected if $B$ exceeds the relevant critical value\n",
    "\n",
    "    2. For $n_j \\le 6$\n",
    "        - The test statistic is $B \\cdot C$\n",
    "        - $B \\cdot C$ follows the Bartlett critical values (Table 12)\n",
    "        - The null hypothesis (all variances are equal) will be rejected if $B \\cdot C$ exceeds the relevant critical value"
   ]
  },
  {
   "cell_type": "markdown",
   "metadata": {},
   "source": [
    "## Proof that test statistic distributions are correct"
   ]
  },
  {
   "cell_type": "code",
   "execution_count": 1,
   "metadata": {},
   "outputs": [],
   "source": [
    "import numpy as np\n",
    "import scipy\n",
    "import matplotlib.pyplot as plt\n",
    "import seaborn as sns"
   ]
  },
  {
   "cell_type": "markdown",
   "metadata": {},
   "source": [
    "### Proof that B is $\\chi^2$ when $n \\gt 6$"
   ]
  },
  {
   "cell_type": "code",
   "execution_count": 22,
   "metadata": {},
   "outputs": [],
   "source": [
    "K = 4\n",
    "MEAN = [5] * K\n",
    "VARIANCE = [2] * K\n",
    "SAMPLE_SIZE = [200] * K\n",
    "\n",
    "def get_test_statistic_for_large_n():\n",
    "    samples = [np.random.normal(x,y,z) for x,y,z in zip(MEAN, VARIANCE, SAMPLE_SIZE)]\n",
    "    sample_variance = [np.var(x, ddof=1) for x in samples]\n",
    "    overall_variance = (\n",
    "        np.sum([(n-1)*var for n, var in zip(SAMPLE_SIZE, sample_variance)]) /\n",
    "        np.sum([(n-1) for n in SAMPLE_SIZE])\n",
    "    )\n",
    "\n",
    "    C = (\n",
    "        1 +\n",
    "        (\n",
    "            (1/(3 * (K+1))) * \n",
    "            (np.sum([1/(n-1) for n in SAMPLE_SIZE]) - 1/np.sum([(n-1) for n in SAMPLE_SIZE]))\n",
    "        )\n",
    "    )\n",
    "    B = (\n",
    "        np.log(10)/C * \n",
    "        (\n",
    "            np.sum([(n-1) * np.log10(overall_variance) for n in SAMPLE_SIZE]) -\n",
    "            np.sum([(n-1) * np.log10(var) for n, var in zip(SAMPLE_SIZE, sample_variance)])\n",
    "        )\n",
    "    )\n",
    "    return B"
   ]
  },
  {
   "cell_type": "code",
   "execution_count": 23,
   "metadata": {},
   "outputs": [
    {
     "data": {
      "text/plain": [
       "<matplotlib.legend.Legend at 0x12027eba0>"
      ]
     },
     "execution_count": 23,
     "metadata": {},
     "output_type": "execute_result"
    },
    {
     "data": {
      "image/png": "[encoded data removed]",
      "text/plain": [
       "<Figure size 640x480 with 1 Axes>"
      ]
     },
     "metadata": {},
     "output_type": "display_data"
    }
   ],
   "source": [
    "test_statistic_distribution = [get_test_statistic_for_large_n() for _ in range(3_000)]\n",
    "true_chisq_distribution = np.random.chisquare(df=K-1, size=3_000)\n",
    "\n",
    "sns.kdeplot(test_statistic_distribution, label='test statistic')\n",
    "sns.kdeplot(true_chisq_distribution, label='chisq distribution')\n",
    "plt.legend()"
   ]
  },
  {
   "cell_type": "markdown",
   "metadata": {},
   "source": [
    "### Proof that B*C follows critical values in Bartlett table when $n \\lt 6$"
   ]
  },
  {
   "cell_type": "code",
   "execution_count": 53,
   "metadata": {},
   "outputs": [],
   "source": [
    "K = 4\n",
    "MEAN = [5] * K\n",
    "VARIANCE = [2] * K\n",
    "SAMPLE_SIZE = [4] * K\n",
    "\n",
    "def compute_C():\n",
    "    C = (\n",
    "        1 +\n",
    "        (\n",
    "            (1/(3 * (K+1))) * \n",
    "            (np.sum([1/(n-1) for n in SAMPLE_SIZE]) - 1/np.sum([(n-1) for n in SAMPLE_SIZE]))\n",
    "        )\n",
    "    )\n",
    "    return C\n",
    "\n",
    "def get_test_statistic_for_small_n():\n",
    "    samples = [np.random.normal(x,y,z) for x,y,z in zip(MEAN, VARIANCE, SAMPLE_SIZE)]\n",
    "    sample_variance = [np.var(x, ddof=1) for x in samples]\n",
    "    overall_variance = (\n",
    "        np.sum([(n-1)*var for n, var in zip(SAMPLE_SIZE, sample_variance)]) /\n",
    "        np.sum([(n-1) for n in SAMPLE_SIZE])\n",
    "    )\n",
    "\n",
    "    C = compute_C()\n",
    "    B = (\n",
    "        np.log(10)/C * \n",
    "        (\n",
    "            np.sum([(n-1) * np.log10(overall_variance) for n in SAMPLE_SIZE]) -\n",
    "            np.sum([(n-1) * np.log10(var) for n, var in zip(SAMPLE_SIZE, sample_variance)])\n",
    "        )\n",
    "    )\n",
    "    return B*C"
   ]
  },
  {
   "cell_type": "code",
   "execution_count": 56,
   "metadata": {},
   "outputs": [
    {
     "name": "stdout",
     "output_type": "stream",
     "text": [
      "C=1.0833333333333333\n",
      "8.390868968663527\n",
      "8.91773641932785\n"
     ]
    }
   ],
   "source": [
    "test_statistic_small_n_distribution = [get_test_statistic_for_small_n() for _ in range(3_000)]\n",
    "test_statistic_large_n_distribution = [get_test_statistic_for_large_n() for _ in range(3_000)]\n",
    "C = compute_C()\n",
    "print(f\"{C=}\")\n",
    "\n",
    "CRITICAL_VALUE_K4_C1 = 8.63\n",
    "\n",
    "print(np.percentile(test_statistic_small_n_distribution, 95))\n",
    "print(np.percentile(test_statistic_large_n_distribution, 95))"
   ]
  }
 ],
 "metadata": {
  "kernelspec": {
   "display_name": "100_statistical_tests_-_gopal_kanji-JR8uAaSp-py3.12",
   "language": "python",
   "name": "python3"
  },
  "language_info": {
   "codemirror_mode": {
    "name": "ipython",
    "version": 3
   },
   "file_extension": ".py",
   "mimetype": "text/x-python",
   "name": "python",
   "nbconvert_exporter": "python",
   "pygments_lexer": "ipython3",
   "version": "3.12.2"
  }
 },
 "nbformat": 4,
 "nbformat_minor": 2
}
