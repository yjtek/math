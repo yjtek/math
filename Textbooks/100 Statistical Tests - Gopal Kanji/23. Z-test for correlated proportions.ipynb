{
 "cells": [
  {
   "cell_type": "markdown",
   "metadata": {},
   "source": [
    "# Test 23: Z-test for correlated proportions"
   ]
  },
  {
   "cell_type": "markdown",
   "metadata": {},
   "source": [
    "- UNABLE TO GET IT TO CONVERGE, PLEASE DO NOT USE\n",
    "- SEE DISCUSSION UNDER \"Proof by simulation...\" SECTION "
   ]
  },
  {
   "cell_type": "markdown",
   "metadata": {},
   "source": [
    "## Objective"
   ]
  },
  {
   "cell_type": "markdown",
   "metadata": {},
   "source": [
    "- You have some $2 \\times 2$ confusion matrix\n",
    "- Each column represents a response before some treatment, and each row represents a response after\n",
    "- Can you conclude that there is significant difference before and after treatment?"
   ]
  },
  {
   "cell_type": "markdown",
   "metadata": {},
   "source": [
    "## Assumptions"
   ]
  },
  {
   "cell_type": "markdown",
   "metadata": {},
   "source": [
    "- The **same people** are questioned\n",
    "- The response has only 2 outcomes\n",
    "- The sample size $n$ is quite large"
   ]
  },
  {
   "cell_type": "markdown",
   "metadata": {},
   "source": [
    "## Method"
   ]
  },
  {
   "cell_type": "markdown",
   "metadata": {},
   "source": [
    "- I have $N$ people in the following $2 \\times 2$ table, and $A,B,C,D$ are counts such that $A + B + C + D = N$\n",
    "\n",
    "| | (Before) Yes | (Before) No |\n",
    "| - | - | - |\n",
    "| (After) Yes | A | B |\n",
    "| (After) No | C | D |\n",
    "\n",
    "- We want to know if there has been a significant change in the responses from before to after treatment\n",
    "\n",
    "- Our test statistic is \n",
    "$$\\begin{aligned}\n",
    "    Z &= \\frac{b-c}{N \\sigma} \\\\ \\\\\n",
    "    \n",
    "    \\text{where } \\sigma &= \\sqrt{\\frac{(b+c) - \\frac{(b-c)^2}{N}}{N(N-1)}}\n",
    "\n",
    "\\end{aligned}$$\n",
    "\n",
    "- Z follows a standard normal distribution"
   ]
  },
  {
   "cell_type": "markdown",
   "metadata": {},
   "source": [
    "## Example"
   ]
  },
  {
   "cell_type": "markdown",
   "metadata": {},
   "source": [
    "- Problem\n",
    "    - Sampled panels of potential buyers of a financial product are asked if they might buy the product. \n",
    "    - They are then shown a product advertisement of 30 seconds duration and asked again if they would buy the product. \n",
    "    - Has the advertising stimulus produced a significant change in the proportion of the panel responding ‘yes’?\n",
    "\n",
    "| | (Before) Yes | (Before) No |\n",
    "| - | - | - |\n",
    "| (After) Yes | 30 | 15 |\n",
    "| (After) No | 9 | 51 |"
   ]
  },
  {
   "cell_type": "code",
   "execution_count": 1,
   "metadata": {},
   "outputs": [
    {
     "data": {
      "text/plain": [
       "0.7054131098174972"
      ]
     },
     "execution_count": 1,
     "metadata": {},
     "output_type": "execute_result"
    }
   ],
   "source": [
    "a = 38\n",
    "b = 5\n",
    "c = 3\n",
    "d = 59\n",
    "N = a+b+c+d\n",
    "\n",
    "sigma = (\n",
    "    ((b+c) - (((b-c)**2)/N)) /\n",
    "    (N * (N-1))\n",
    ")**0.5\n",
    "\n",
    "## Do not reject null that the alues are equal\n",
    "Z = (b-c)/(N * sigma)\n",
    "Z"
   ]
  },
  {
   "cell_type": "markdown",
   "metadata": {},
   "source": [
    "## Proof by simulation that test statistic is Gaussian"
   ]
  },
  {
   "cell_type": "markdown",
   "metadata": {},
   "source": [
    "**NOTE**\n",
    "\n",
    "- As of 20240429, I have **not** been able to show that the test statistic is actually Gaussian\n",
    "- At best, it has the bell curve shape, but does not converge to a Gaussian because there is no theoretical bound on the values that can be taken by $a,b,c,d$\n",
    "- This is the case regardless of how large the sample is\n",
    "- Therefore, be very careful when using this"
   ]
  },
  {
   "cell_type": "code",
   "execution_count": 2,
   "metadata": {},
   "outputs": [],
   "source": [
    "import numpy as np\n",
    "import scipy\n",
    "import seaborn as sns\n",
    "import matplotlib.pyplot as plt"
   ]
  },
  {
   "cell_type": "code",
   "execution_count": 3,
   "metadata": {},
   "outputs": [],
   "source": [
    "def get_mostly_no_change(n_total):\n",
    "    rand = np.random.randint(20,40)\n",
    "    a = d = n_total//2.5\n",
    "    b = np.random.randint(1, n_total-a-d)\n",
    "    c = n_total - a - b - d\n",
    "    assert a+b+c+d == n_total\n",
    "    return a, b, c, d\n",
    "\n",
    "def get_random_change(n_total):\n",
    "    a,b,c = np.random.randint(450, 550, 3)\n",
    "    d = n_total - a - b - c\n",
    "    # print(a,b,c,d)\n",
    "    assert a+b+c+d == n_total\n",
    "    return a, b, c, d\n",
    "\n",
    "def get_test_statistic(abcd_tup):\n",
    "    a,b,c,d = abcd_tup\n",
    "    N_TOTAL = a+b+c+d\n",
    "    # N_TOTAL = np.random.randint(1000,1001,1)[0]\n",
    "    # a, b, c, d = get_random_change(N_TOTAL)\n",
    "    # a, b, c, d = get_mostly_no_change(N_TOTAL)\n",
    "    \n",
    "    sigma = (\n",
    "        ((b+c) - ((b-c)**2/N_TOTAL)) /\n",
    "        (N_TOTAL * (N_TOTAL - 1))\n",
    "    )**0.5\n",
    "\n",
    "    Z = (b-c) / (N_TOTAL * sigma)  # Corrected N to N_TOTAL\n",
    "    return Z"
   ]
  },
  {
   "cell_type": "code",
   "execution_count": 29,
   "metadata": {},
   "outputs": [],
   "source": [
    "def get_all_combinations_summing_to_n(n, num_features):\n",
    "    if num_features == 1:\n",
    "        yield (n,)\n",
    "        return\n",
    "    for val in range(1, n + 1):\n",
    "        for result in get_all_combinations_summing_to_n(n - val, num_features - 1):\n",
    "            yield (val,) + result\n",
    "\n",
    "combinations = get_all_combinations_summing_to_n(500, 4)"
   ]
  },
  {
   "cell_type": "code",
   "execution_count": 30,
   "metadata": {},
   "outputs": [],
   "source": [
    "import polars as pl\n",
    "\n",
    "list_of_arrays = np.array([\n",
    "    np.array((combi[0],combi[1],combi[2],combi[3],get_test_statistic(combi)))\n",
    "    for combi in combinations\n",
    "])\n",
    "\n",
    "df = (\n",
    "    pl.DataFrame(list_of_arrays, schema=['a','b','c','d','test_statistic'])\n",
    "    # .sort(['a','b','c','d'])\n",
    "    # .sort('test_statistic', descending=True)\n",
    ")\n",
    "# display(df.head())\n",
    "# display(df.tail())"
   ]
  },
  {
   "cell_type": "code",
   "execution_count": 34,
   "metadata": {},
   "outputs": [
    {
     "data": {
      "text/plain": [
       "<matplotlib.legend.Legend at 0x398323770>"
      ]
     },
     "execution_count": 34,
     "metadata": {},
     "output_type": "execute_result"
    },
    {
     "data": {
      "image/png": "[encoded data removed]",
      "text/plain": [
       "<Figure size 640x480 with 1 Axes>"
      ]
     },
     "metadata": {},
     "output_type": "display_data"
    }
   ],
   "source": [
    "sns.kdeplot(df['test_statistic'], label='test statistic')\n",
    "sns.kdeplot(np.random.normal(0,1,3_000), label='true normal distribution')\n",
    "plt.legend()"
   ]
  },
  {
   "cell_type": "code",
   "execution_count": 159,
   "metadata": {},
   "outputs": [
    {
     "data": {
      "text/plain": [
       "<matplotlib.legend.Legend at 0x324e593d0>"
      ]
     },
     "execution_count": 159,
     "metadata": {},
     "output_type": "execute_result"
    },
    {
     "data": {
      "image/png": "[encoded data removed]",
      "text/plain": [
       "<Figure size 640x480 with 1 Axes>"
      ]
     },
     "metadata": {},
     "output_type": "display_data"
    }
   ],
   "source": [
    "test_statistic_distribution = [get_test_statistic() for _ in range(3_000)]\n",
    "true_normal_distribution = np.random.normal(0,1,3_000)\n",
    "sns.kdeplot(test_statistic_distribution, label='test statistic')\n",
    "sns.kdeplot(true_normal_distribution, label='true normal')\n",
    "plt.legend()"
   ]
  },
  {
   "cell_type": "code",
   "execution_count": null,
   "metadata": {},
   "outputs": [],
   "source": []
  },
  {
   "cell_type": "code",
   "execution_count": null,
   "metadata": {},
   "outputs": [],
   "source": []
  }
 ],
 "metadata": {
  "kernelspec": {
   "display_name": "100_statistical_tests_-_gopal_kanji-JR8uAaSp-py3.12",
   "language": "python",
   "name": "python3"
  },
  "language_info": {
   "codemirror_mode": {
    "name": "ipython",
    "version": 3
   },
   "file_extension": ".py",
   "mimetype": "text/x-python",
   "name": "python",
   "nbconvert_exporter": "python",
   "pygments_lexer": "ipython3",
   "version": "3.12.2"
  }
 },
 "nbformat": 4,
 "nbformat_minor": 2
}
