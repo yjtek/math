{
 "cells": [
  {
   "cell_type": "markdown",
   "metadata": {},
   "source": [
    "# Test 29: The Link–Wallace test for multiple comparison of K population means (equal sample sizes)"
   ]
  },
  {
   "cell_type": "markdown",
   "metadata": {},
   "source": [
    "## Objective"
   ]
  },
  {
   "cell_type": "markdown",
   "metadata": {},
   "source": [
    "- You have $K$ populations \n",
    "- You want to know if the means are equal"
   ]
  },
  {
   "cell_type": "markdown",
   "metadata": {},
   "source": [
    "## Assumptions"
   ]
  },
  {
   "cell_type": "markdown",
   "metadata": {},
   "source": [
    "- The $K$ populations are normally distributed\n",
    "- The $K$ populations have equal variances\n",
    "- The $K$ populations have equal sample sizes $n$"
   ]
  },
  {
   "cell_type": "markdown",
   "metadata": {},
   "source": [
    "## Method"
   ]
  },
  {
   "cell_type": "markdown",
   "metadata": {},
   "source": [
    "- You have $K$ samples of size $n$; $x_1, x_2 ... x_k$\n",
    "\n",
    "- Compute the sample means $\\bar{x_1}, \\bar{x_2} ... \\bar{x_k}$\n",
    "\n",
    "- Compute the range of values in each sample, and call this $w(x_i)$\n",
    "    - i.e. Find the difference between the maximum and minimum of each sample\n",
    "\n",
    "- Compute the range of values for the sample means, and call this $w(\\bar{x})$\n",
    "\n",
    "- The test statistic is\n",
    "$$\\begin{aligned}\n",
    "    K_L &= \\frac{n \\cdot w(\\bar{x})}{\\sum_{i=1}^{k} w(x_i)}\n",
    "\\end{aligned}$$\n",
    "\n",
    "- This test statistic follows the Link-Wallace distribution in Table 10"
   ]
  },
  {
   "cell_type": "markdown",
   "metadata": {},
   "source": [
    "## Proof that test statistic follows Link Wallace table"
   ]
  },
  {
   "cell_type": "markdown",
   "metadata": {},
   "source": [
    "- Using $\\alpha=0.05$, we will try to find that the critical value for $K=4$ and $n=50$ is 1.45"
   ]
  },
  {
   "cell_type": "code",
   "execution_count": 1,
   "metadata": {},
   "outputs": [],
   "source": [
    "import numpy as np\n",
    "import scipy\n",
    "import seaborn as sns\n",
    "import matplotlib.pyplot as plt"
   ]
  },
  {
   "cell_type": "code",
   "execution_count": 9,
   "metadata": {},
   "outputs": [],
   "source": [
    "K = 4\n",
    "MEANS = [5] * K\n",
    "SIGMA = [2] * K\n",
    "SAMPLE_SIZE = [50] * K\n",
    "\n",
    "def get_test_statistic():\n",
    "    samples = [np.random.normal(x,y,z) for x,y,z in zip(MEANS, SIGMA, SAMPLE_SIZE)]\n",
    "    sample_means = [np.mean(x) for x in samples]\n",
    "    sample_ranges = [max(x) - min(x) for x in samples]\n",
    "    sample_means_range = max(sample_means) - min(sample_means)\n",
    "\n",
    "    test_statistic = (\n",
    "        (SAMPLE_SIZE[0] * sample_means_range) /\n",
    "        np.sum(sample_ranges)\n",
    "    )\n",
    "    return test_statistic"
   ]
  },
  {
   "cell_type": "code",
   "execution_count": 15,
   "metadata": {},
   "outputs": [
    {
     "data": {
      "text/plain": [
       "1.4498520053636055"
      ]
     },
     "execution_count": 15,
     "metadata": {},
     "output_type": "execute_result"
    }
   ],
   "source": [
    "test_statistic_distribution = [get_test_statistic() for _ in range(3_000)]\n",
    "np.percentile(test_statistic_distribution, q=95)"
   ]
  }
 ],
 "metadata": {
  "kernelspec": {
   "display_name": "100_statistical_tests_-_gopal_kanji-JR8uAaSp-py3.12",
   "language": "python",
   "name": "python3"
  },
  "language_info": {
   "codemirror_mode": {
    "name": "ipython",
    "version": 3
   },
   "file_extension": ".py",
   "mimetype": "text/x-python",
   "name": "python",
   "nbconvert_exporter": "python",
   "pygments_lexer": "ipython3",
   "version": "3.12.2"
  }
 },
 "nbformat": 4,
 "nbformat_minor": 2
}
