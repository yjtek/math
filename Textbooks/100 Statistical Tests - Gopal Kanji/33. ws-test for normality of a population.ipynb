{
 "cells": [
  {
   "cell_type": "markdown",
   "metadata": {},
   "source": [
    "# Test 33: The w/s-test for normality of a population"
   ]
  },
  {
   "cell_type": "markdown",
   "metadata": {},
   "source": [
    "**Note:** This works much better for lower sample sizes than for large sample sizes"
   ]
  },
  {
   "cell_type": "markdown",
   "metadata": {},
   "source": [
    "## Objective"
   ]
  },
  {
   "cell_type": "markdown",
   "metadata": {},
   "source": [
    "- I have some sample of values\n",
    "- Did my sample come from a normal distribution?"
   ]
  },
  {
   "cell_type": "markdown",
   "metadata": {},
   "source": [
    "## Assumptions"
   ]
  },
  {
   "cell_type": "markdown",
   "metadata": {},
   "source": [
    "- Can be used for any population with continuous distribution"
   ]
  },
  {
   "cell_type": "markdown",
   "metadata": {},
   "source": [
    "## Method"
   ]
  },
  {
   "cell_type": "markdown",
   "metadata": {},
   "source": [
    "- This has the same objective as `Test 20` (Fisher's cumulant test), but is simpler to compute\n",
    "\n",
    "- Compute the standard deviation $s$ of the sample\n",
    "\n",
    "- Compute the range $w$ of the sample\n",
    "\n",
    "- Find the Studentized range $q = \\frac{w}{s}$, which is also the test statistic\n",
    "\n",
    "- Check $q$ against the critical values in the w/s table (Table 14). \n",
    "\n",
    "- If $q$ lies outside the range in the table, then we reject the null hypothesis that the sample came from a normal distribution\n",
    "\n",
    "- Note that this works much better for lower sample sizes than for large sample sizes"
   ]
  },
  {
   "cell_type": "markdown",
   "metadata": {},
   "source": [
    "## Proof"
   ]
  },
  {
   "cell_type": "code",
   "execution_count": 7,
   "metadata": {},
   "outputs": [],
   "source": [
    "import numpy as np\n",
    "import scipy\n",
    "import matplotlib.pyplot as plt\n",
    "import seaborn as sns"
   ]
  },
  {
   "cell_type": "code",
   "execution_count": 102,
   "metadata": {},
   "outputs": [],
   "source": [
    "def get_test_statistic():\n",
    "    sample = np.random.normal(10,5,10)\n",
    "    sample_sd = np.std(sample, ddof=1)\n",
    "    sample_range = max(sample) - min(sample)\n",
    "    test_statistic = sample_range/sample_sd\n",
    "    return test_statistic"
   ]
  },
  {
   "cell_type": "code",
   "execution_count": 106,
   "metadata": {},
   "outputs": [
    {
     "data": {
      "text/plain": [
       "0.102"
      ]
     },
     "execution_count": 106,
     "metadata": {},
     "output_type": "execute_result"
    }
   ],
   "source": [
    "test_statistic_distribution = [get_test_statistic() for _ in range(3_000)]\n",
    "# critical_value_n500_alpha5pct = (5.47, 6.94)\n",
    "critical_value_n10_alpha5pct = (2.67, 3.685)\n",
    "# critical_value_n50_alpha5pct = (3.83, 5.35)\n",
    "\n",
    "pct_outside_range = [\n",
    "    (critical_value_n10_alpha5pct[0] > x) or (x > critical_value_n10_alpha5pct[1])\n",
    "    for x in test_statistic_distribution\n",
    "]\n",
    "np.mean(pct_outside_range)"
   ]
  }
 ],
 "metadata": {
  "kernelspec": {
   "display_name": "100_statistical_tests_-_gopal_kanji-JR8uAaSp-py3.12",
   "language": "python",
   "name": "python3"
  },
  "language_info": {
   "codemirror_mode": {
    "name": "ipython",
    "version": 3
   },
   "file_extension": ".py",
   "mimetype": "text/x-python",
   "name": "python",
   "nbconvert_exporter": "python",
   "pygments_lexer": "ipython3",
   "version": "3.12.2"
  }
 },
 "nbformat": 4,
 "nbformat_minor": 2
}
