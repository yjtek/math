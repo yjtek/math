{
 "cells": [
  {
   "cell_type": "markdown",
   "metadata": {},
   "source": [
    "# Test 28: Tukey test for multiple comparison of K population means (unequal sample sizes)"
   ]
  },
  {
   "cell_type": "markdown",
   "metadata": {},
   "source": [
    "## Objective"
   ]
  },
  {
   "cell_type": "markdown",
   "metadata": {},
   "source": [
    "- You have $K$ populations\n",
    "- You want to know if any of the population means are significantly different from another"
   ]
  },
  {
   "cell_type": "markdown",
   "metadata": {},
   "source": [
    "## Assumptions"
   ]
  },
  {
   "cell_type": "markdown",
   "metadata": {},
   "source": [
    "- Each of the $K$ populations are normally distributed\n",
    "- Each of the $K$ populations have the same variance"
   ]
  },
  {
   "cell_type": "markdown",
   "metadata": {},
   "source": [
    "## Method"
   ]
  },
  {
   "cell_type": "markdown",
   "metadata": {},
   "source": [
    "- You have $K$ populations, each of sizes $n_1, n_2, ... n_k$\n",
    "\n",
    "- For each of $K$ populations, compute sample means $\\bar{x_i}$\n",
    "\n",
    "- For each of $K$ populations, compute variance $s_j^2$ using\n",
    "$$\\begin{aligned}\n",
    "    s_j^2 &= \\frac{\\sum_{i=1}^{n_j} (x_{ij} - \\bar{x_{.j}})}{n_j - 1}\n",
    "\\end{aligned}$$\n",
    "\n",
    "- Then, compute the overall variance of the samples by taking\n",
    "$$\\begin{aligned}\n",
    "    s^2 &= \\frac{\\sum_{j=1}^{K} (n_j - 1) \\cdot s_j^2}{N - K}\n",
    "\\end{aligned}$$\n",
    "\n",
    "- The critical value here follows a Studentized range, and degrees of freedom $v$ is\n",
    "$$\\begin{aligned}\n",
    "    v &= (\\sum_{j=1}^{K} n_j) - K\n",
    "\\end{aligned}$$\n",
    "\n",
    "- As such, find a value $q$ from the Studentized range distribution with $v$ degrees of freedom for the degree of confidence $\\alpha$ (Table 9)\n",
    "    - e.g. For $\\alpha = 0.05$, $q = 5.29$\n",
    "\n",
    "- Finally, compute \n",
    "$$\\begin{aligned}\n",
    "    W &= \\frac{q \\cdot s}{\\sqrt{\\eta}} \\\\ \\\\\n",
    "\n",
    "    \\eta &= \\frac{K}{(\\frac{1}{n_1} + \\frac{1}{n_2} + ... \\frac{1}{n_k})}\n",
    "\\end{aligned}$$\n",
    "\n",
    "- If the largest difference between the 2 sample means $\\bar{x_i} - \\bar{x_j} < W$, then the population means do not differ significantly "
   ]
  },
  {
   "cell_type": "markdown",
   "metadata": {},
   "source": [
    "## What distribution does $W$ follow?"
   ]
  },
  {
   "cell_type": "code",
   "execution_count": 1,
   "metadata": {},
   "outputs": [],
   "source": [
    "import numpy as np\n",
    "import scipy\n",
    "import matplotlib.pyplot as plt\n",
    "import seaborn as sns"
   ]
  },
  {
   "cell_type": "code",
   "execution_count": 60,
   "metadata": {},
   "outputs": [],
   "source": [
    "K = 4\n",
    "# MEAN = [5] * K\n",
    "MEAN = [5,5,5,5]\n",
    "SIGMA = [2] * K\n",
    "SAMPLE_SIZE = np.random.randint(1000,1050,4)\n",
    "CRITICAL_VALUE_5PCT = scipy.stats.studentized_range.ppf(k=K, df=np.sum(SAMPLE_SIZE)-K, q=0.95)\n",
    "\n",
    "def get_max_diff_exceed_test_statistic_check():\n",
    "    samples = [np.random.normal(x,y,z) for x,y,z in zip(MEAN, SIGMA, SAMPLE_SIZE)]\n",
    "    sample_means = [np.mean(x) for x in samples]\n",
    "    sample_variance = [np.var(x, ddof=1) for x in samples]\n",
    "    overall_variance = np.sum([(n-1)*s_sq for n, s_sq in zip(SAMPLE_SIZE, sample_variance)]) / (np.sum(SAMPLE_SIZE) - K)\n",
    "\n",
    "    eta = K / np.sum([1/size for size in SAMPLE_SIZE])\n",
    "    \n",
    "    test_statistic = (CRITICAL_VALUE_5PCT * overall_variance**0.5) / eta**0.5\n",
    "    max_diff = max(sample_means) - min(sample_means)\n",
    "\n",
    "    return max_diff > test_statistic"
   ]
  },
  {
   "cell_type": "code",
   "execution_count": 63,
   "metadata": {},
   "outputs": [
    {
     "data": {
      "text/plain": [
       "0.049666666666666665"
      ]
     },
     "execution_count": 63,
     "metadata": {},
     "output_type": "execute_result"
    }
   ],
   "source": [
    "## 5% exceeds when means are all equal, as we expected by taking 5pct critical value\n",
    "\n",
    "proportion_exceeds_test_statistic_when_all_means_equal = np.mean([get_max_diff_exceed_test_statistic_check() for _ in range(3_000)])\n",
    "proportion_exceeds_test_statistic_when_all_means_equal"
   ]
  }
 ],
 "metadata": {
  "kernelspec": {
   "display_name": "100_statistical_tests_-_gopal_kanji-JR8uAaSp-py3.12",
   "language": "python",
   "name": "python3"
  },
  "language_info": {
   "codemirror_mode": {
    "name": "ipython",
    "version": 3
   },
   "file_extension": ".py",
   "mimetype": "text/x-python",
   "name": "python",
   "nbconvert_exporter": "python",
   "pygments_lexer": "ipython3",
   "version": "3.12.2"
  }
 },
 "nbformat": 4,
 "nbformat_minor": 2
}
