{
 "cells": [
  {
   "cell_type": "markdown",
   "metadata": {},
   "source": [
    "# Test 32: Hartley’s test for equality of K variances"
   ]
  },
  {
   "cell_type": "markdown",
   "metadata": {},
   "source": [
    "## Objective"
   ]
  },
  {
   "cell_type": "markdown",
   "metadata": {},
   "source": [
    "- You have $K$ populations\n",
    "- Is there a significance difference between the variances?"
   ]
  },
  {
   "cell_type": "markdown",
   "metadata": {},
   "source": [
    "## Assumptions"
   ]
  },
  {
   "cell_type": "markdown",
   "metadata": {},
   "source": [
    "- All $K$ populations are normally distributed\n",
    "- The $K$ samples should be approximately equally sized"
   ]
  },
  {
   "cell_type": "markdown",
   "metadata": {},
   "source": [
    "## Method"
   ]
  },
  {
   "cell_type": "markdown",
   "metadata": {},
   "source": [
    "- You have $K$ populations\n",
    "- From this, get $K$ samples\n",
    "- Compute the maximum variance among the $K$ samples $s_{\\text{max}}^2$ and minimum variance $s_{\\text{min}}^2$\n",
    "\n",
    "- The test statistic is\n",
    "$$\\begin{aligned}\n",
    "    F_{\\text{max}} = \\frac{s_{\\text{max}}^2}{s_{\\text{min}}^2}\n",
    "\\end{aligned}$$\n",
    "\n",
    "- The test statistic follow the Hartley test distribution (Table 13)"
   ]
  },
  {
   "cell_type": "markdown",
   "metadata": {},
   "source": [
    "## Proof"
   ]
  },
  {
   "cell_type": "code",
   "execution_count": 1,
   "metadata": {},
   "outputs": [],
   "source": [
    "import numpy as np\n",
    "import scipy\n",
    "import matplotlib.pyplot as plt\n",
    "import seaborn as sns"
   ]
  },
  {
   "cell_type": "code",
   "execution_count": 10,
   "metadata": {},
   "outputs": [],
   "source": [
    "K = 4\n",
    "MEAN = [5] * K\n",
    "SIGMA = [2] * K\n",
    "SAMPLE_SIZE = [61] * K\n",
    "\n",
    "def get_test_statistic():\n",
    "    samples = [np.random.normal(x,y,z) for x,y,z in zip(MEAN, SIGMA, SAMPLE_SIZE)]\n",
    "    sample_variance = [np.var(x, ddof=1) for x in samples]\n",
    "    test_statistic = max(sample_variance) / min(sample_variance)\n",
    "    return test_statistic"
   ]
  },
  {
   "cell_type": "code",
   "execution_count": 17,
   "metadata": {},
   "outputs": [
    {
     "data": {
      "text/plain": [
       "1.9536598006253667"
      ]
     },
     "execution_count": 17,
     "metadata": {},
     "output_type": "execute_result"
    }
   ],
   "source": [
    "test_statistic_distribution = [get_test_statistic() for _ in range(3_000)]\n",
    "critical_value_n61_k4 = 1.96\n",
    "np.percentile(test_statistic_distribution,95)"
   ]
  }
 ],
 "metadata": {
  "kernelspec": {
   "display_name": "100_statistical_tests_-_gopal_kanji-JR8uAaSp-py3.12",
   "language": "python",
   "name": "python3"
  },
  "language_info": {
   "codemirror_mode": {
    "name": "ipython",
    "version": 3
   },
   "file_extension": ".py",
   "mimetype": "text/x-python",
   "name": "python",
   "nbconvert_exporter": "python",
   "pygments_lexer": "ipython3",
   "version": "3.12.2"
  }
 },
 "nbformat": 4,
 "nbformat_minor": 2
}
