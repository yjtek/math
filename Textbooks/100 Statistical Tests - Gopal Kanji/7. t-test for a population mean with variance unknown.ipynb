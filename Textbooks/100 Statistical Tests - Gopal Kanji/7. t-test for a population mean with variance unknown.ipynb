{
 "cells": [
  {
   "cell_type": "markdown",
   "metadata": {},
   "source": [
    "# Test 7: t-test for a population mean (variance unknown)"
   ]
  },
  {
   "cell_type": "markdown",
   "metadata": {},
   "source": [
    "## Objective"
   ]
  },
  {
   "cell_type": "markdown",
   "metadata": {},
   "source": [
    "- To investigate the significance of the difference between an assumed population mean $\\mu$ and a sample mean  $\\bar{x}$"
   ]
  },
  {
   "cell_type": "markdown",
   "metadata": {},
   "source": [
    "## Assumptions"
   ]
  },
  {
   "cell_type": "markdown",
   "metadata": {},
   "source": [
    "- We don't need to know population variance $\\sigma^2$! If we do, use Test 1: Z-test\n",
    "- The population MUST be normally distributed!\n",
    "    - Else the test is approximate"
   ]
  },
  {
   "cell_type": "markdown",
   "metadata": {},
   "source": [
    "## Method"
   ]
  },
  {
   "cell_type": "markdown",
   "metadata": {},
   "source": [
    "- Let's suppose we have a population of unknown variance, and an assumed mean of $\\mu$\n",
    "- A random sample of size $n$ is taken\n",
    "- Using this, we compute the sample mean $\\bar{x}$\n",
    "- We also compute the sample standard deviation $s$:\n",
    "$$\\begin{aligned}\n",
    "    s &= \\sqrt{\n",
    "        \\frac{\\sum_{1}^{n} (x_i - \\bar{x})}{n-1}\n",
    "    }\n",
    "\\end{aligned}$$\n",
    "\n",
    "- The test statistic $t$ is\n",
    "\n",
    "$$\\begin{aligned}\n",
    "    t &= \\frac{\\bar{x} - \\mu}{\\frac{s}{\\sqrt{n}}}\n",
    "\\end{aligned}$$\n",
    "\n",
    "- $t$ follows a student's t-distribution with $n-1$ degrees of freedom"
   ]
  },
  {
   "cell_type": "markdown",
   "metadata": {},
   "source": [
    "## Example"
   ]
  },
  {
   "cell_type": "markdown",
   "metadata": {},
   "source": [
    "- Problem\n",
    "    - A sample of nine plastic nuts yielded an average diameter $\\bar{x}$ of 3.1 cm with estimated standard deviation $s$ of 1.0 cm. \n",
    "    - It is assumed from design and manufacturing requirements that the population mean of nuts $\\mu = 4$. \n",
    "    - What does this say about the mean diameter of plastic nuts being produced? \n",
    "    \n",
    "- Question\n",
    "    - Two-tailed test: Is the sample mean the same as the population mean?\n",
    "    - One-tailed test: Is the sample mean bigger/smaller than the population mean?"
   ]
  },
  {
   "cell_type": "code",
   "execution_count": 1,
   "metadata": {},
   "outputs": [
    {
     "name": "stdout",
     "output_type": "stream",
     "text": [
      "8\n"
     ]
    },
    {
     "data": {
      "text/plain": [
       "-2.6999999999999997"
      ]
     },
     "execution_count": 1,
     "metadata": {},
     "output_type": "execute_result"
    }
   ],
   "source": [
    "mu = 4\n",
    "n = 9\n",
    "xbar = 3.1\n",
    "s = 1\n",
    "degrees_of_freedom=n-1\n",
    "\n",
    "def compute_test_statistic(xbar, mu, s, n):\n",
    "    return (xbar - mu) / (s/n**0.5)\n",
    "\n",
    "## Compare against student's t-distribution\n",
    "print(degrees_of_freedom)\n",
    "compute_test_statistic(xbar, mu, s, n) \n"
   ]
  }
 ],
 "metadata": {
  "kernelspec": {
   "display_name": "100_statistical_tests_-_gopal_kanji-JR8uAaSp-py3.12",
   "language": "python",
   "name": "python3"
  },
  "language_info": {
   "codemirror_mode": {
    "name": "ipython",
    "version": 3
   },
   "file_extension": ".py",
   "mimetype": "text/x-python",
   "name": "python",
   "nbconvert_exporter": "python",
   "pygments_lexer": "ipython3",
   "version": "3.12.2"
  }
 },
 "nbformat": 4,
 "nbformat_minor": 2
}
