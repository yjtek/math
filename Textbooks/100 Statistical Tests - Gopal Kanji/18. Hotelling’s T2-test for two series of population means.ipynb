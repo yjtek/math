{
 "cells": [
  {
   "cell_type": "markdown",
   "metadata": {},
   "source": [
    "# Test 18: Hotelling’s $T^2$-test for two series of population means"
   ]
  },
  {
   "cell_type": "markdown",
   "metadata": {},
   "source": [
    "## Objective"
   ]
  },
  {
   "cell_type": "markdown",
   "metadata": {},
   "source": [
    "- You have 2 groups\n",
    "- Every sample in each the groups are measured along $k$ different dimensions \n",
    "- Taking some samples from each of the 2 groups, I now have an $n_1 \\text{ x } k$ matrix for group 1, and $n_2 \\text{ x } k$ matrix for group 2\n",
    "- Based on the samples, are the two groups sufficiently different from each other?"
   ]
  },
  {
   "cell_type": "markdown",
   "metadata": {},
   "source": [
    "## Assumptions"
   ]
  },
  {
   "cell_type": "markdown",
   "metadata": {},
   "source": [
    "- All the variables (values in the series) are assumed to be independent of each other\n",
    "- All variables follow a multivariate normal distribution\n",
    "    - It is ok if the variables are correlated"
   ]
  },
  {
   "cell_type": "markdown",
   "metadata": {},
   "source": [
    "## Method"
   ]
  },
  {
   "cell_type": "markdown",
   "metadata": {},
   "source": [
    "### Book Method"
   ]
  },
  {
   "cell_type": "markdown",
   "metadata": {},
   "source": [
    "- Let the experiment results from group 1 by $x$ and group 2 be $y$, with $n_1$ observations in $x$ and $n_2$ in $y$\n",
    "\n",
    "- Suppose there are $k=3$ features that we want to use in our computation\n",
    "\n",
    "- Let's compute the feature means of $x$ and $y$, giving us $\\bar{x}$ and $\\bar{y}$\n",
    "    - In this case, $\\bar{x}$ and $\\bar{y}$ are arrays of length $k$ where each element represents the column means of the matrix\n",
    "\n",
    "- Then, we need to find $k=3$ coefficients $\\alpha_{1}, \\alpha_{2}, \\alpha_{3}$ that fulfill the following conditions:\n",
    "$$\\begin{aligned}\n",
    "    \\alpha_1 \\cdot [x_{11} + y_{11}] + \\alpha_2 \\cdot [x_{12} + y_{12}] + \\alpha_3 \\cdot [x_{13} + y_{13}] &= (n_1 + n_2 - 2) \\cdot (\\bar{x_1} - \\bar{y_1}) \\\\\n",
    "\n",
    "    \\alpha_1 \\cdot [x_{21} + y_{21}] + \\alpha_2 \\cdot [x_{22} + y_{22}] + \\alpha_3 \\cdot [x_{23} + y_{23}] &= (n_1 + n_2 - 2) \\cdot (\\bar{x_2} - \\bar{y_2}) \\\\\n",
    "\n",
    "    \\alpha_1 \\cdot [x_{31} + y_{31}] + \\alpha_2 \\cdot [x_{32} + y_{32}] + \\alpha_3 \\cdot [x_{33} + y_{33}] &= (n_1 + n_2 - 2) \\cdot (\\bar{x_3} - \\bar{y_3}) \\\\\n",
    "\\end{aligned}$$\n",
    "\n",
    "- Let's define the following matrices:\n",
    "$$\\begin{aligned}\n",
    "    B &= \\begin{bmatrix}\n",
    "        x_{00} + y_{00} & x_{01} + y_{01} & x_{02} + y_{02} \\\\\n",
    "        x_{10} + y_{10} & x_{11} + y_{11} & x_{12} + y_{12} \\\\\n",
    "        x_{20} + y_{20} & x_{21} + y_{21} & x_{22} + y_{22} \\\\\n",
    "    \\end{bmatrix} \\\\ \\\\\n",
    "\n",
    "    \\alpha &= \\begin{bmatrix}\n",
    "        \\alpha_0 \\\\\n",
    "        \\alpha_1 \\\\\n",
    "        \\alpha_2\n",
    "    \\end{bmatrix} \\\\ \\\\ \n",
    "\n",
    "    N &= \\begin{bmatrix}\n",
    "        (n_1 + n_2 - 2) \\cdot (\\bar{x_0} - \\bar{y_0}) \\\\\n",
    "        (n_1 + n_2 - 2) \\cdot (\\bar{x_1} - \\bar{y_1}) \\\\\n",
    "        (n_1 + n_2 - 2) \\cdot (\\bar{x_2} - \\bar{y_2}) \n",
    "    \\end{bmatrix}\n",
    "\\end{aligned}$$\n",
    "\n",
    "- Then to solve for $\\alpha$:\n",
    "$$\\begin{aligned}\n",
    "    B \\cdot \\alpha &= N \\\\\n",
    "    \\alpha &= B^{-1} N\n",
    "\\end{aligned}$$\n",
    "\n",
    "- Once we know the values ofor the matrix $\\alpha$, we can use it to compute Hotelling's $T^2$ statistic:\n",
    "$$\\begin{aligned}\n",
    "    T^2 &= \\frac{n_1 \\cdot n_2}{n_1 + n_2} \\cdot [\\alpha_1 (\\bar{x_0} - \\bar{y_0}) + \\alpha_2 (\\bar{x_1} - \\bar{y_1}) + \\alpha_3 (\\bar{x_2} - \\bar{y_2})]\n",
    "\\end{aligned}$$\n",
    "\n",
    "- Finally, the test statistic can be computed as\n",
    "$$\\begin{aligned}\n",
    "    F &= \\frac{n_1 + n_2 - k - 1}{k \\cdot (n_1 + n_2 - 2)} \\cdot T^2\n",
    "\\end{aligned}$$\n",
    "\n",
    "- In this case, test statistic $F$ follows an F-distribution with $(k, n_1 + n_2 - k - 1)$ degrees of freedom, where $k$ is the number of features"
   ]
  },
  {
   "cell_type": "markdown",
   "metadata": {},
   "source": [
    "### Alternative (equivalent) method"
   ]
  },
  {
   "cell_type": "markdown",
   "metadata": {},
   "source": [
    "- Let the experiment results from group 1 be $x$ and group 2 be $y$ \n",
    "    - Each row is one of $n_1$ or $n_2$ observations\n",
    "    - Each column is an is one of $k$ features\n",
    "\n",
    "- Compute the mean matrices $\\bar{x}, \\bar{y}$, which are a $k \\times 1$ matrix where each element $\\bar{x_k}$ is the mean of the respective feature column $k$ in the original matrix\n",
    "$$\\begin{aligned}\n",
    "    \\bar{x_{k}} &= \\frac{\\sum^i x_{i,k}}{n_1} \\\\ \n",
    "    \\bar{y_{k}} &= \\frac{\\sum^i y_{i,k}}{n_2}\n",
    "\\end{aligned}$$\n",
    "\n",
    "- Compute the variance-covariance matrices for each of the $n \\times k$ matrices.  Let's call these $S_x$ and $S_y$\n",
    "    - Remember, the variance-covariance matrix is just a $k \\times k$ matrix for each experiment\n",
    "    - The diagonal of the variance-covariance matrix is the variance $Var[x_k]$ of a specific column $k$ in the original matrix $n \\times k$ matrix $x$\n",
    "    - The off diagonal elements are the covariances of the feature columns $Cov[x_{k=a}, x_{k=b}]$ in matrix $x$\n",
    "$$\\begin{aligned}\n",
    "    Var[x_k] &= \\frac{\\sum^i (x_{i,k} - \\bar{x_k})^2}{n_1 - 1} \\\\\n",
    "    Cov[x_a, x_b] &= \\frac{\\sum (x_{i,k=a} - \\bar{x_{k=a}}) \\cdot (x_{i, k=b} - \\bar{x_{k=b}})}{n_1 - 1} \\\\ \n",
    "\\end{aligned}$$\n",
    "\n",
    "- Compute the pooled sample variance-covariance matrix $S$ using\n",
    "$$\\begin{aligned}\n",
    "    S &= \\frac{(n_1 - 1) \\cdot S_x + (n_2 - 1) \\cdot S_y}{(n_1 - 1) + (n_2 - 1)}\n",
    "\\end{aligned}$$\n",
    "\n",
    "- Using these, we compute Hotelling's $T^2$ statistic:\n",
    "$$\\begin{aligned}\n",
    "    T^2 &= (\\frac{n_1 + n_2}{n_1 \\cdot n_2}) \\cdot (\\bar{x} - \\bar{y})^T \\cdot S^{-1} \\cdot (\\bar{x} - \\bar{y})\n",
    "\\end{aligned}$$\n",
    "\n",
    "- Finally, the test statistic is the following transformation of $T^2$\n",
    "$$\\begin{aligned}\n",
    "    F &= \\frac{n_1 + n_2 - k  - 1}{k \\cdot (n_1 + n_2 - 2)} \\cdot T^2\n",
    "\\end{aligned}$$\n",
    "\n",
    "- $F$ follows an $F$ distribution with $(k, n_1 + n_2 - k - 1)$ degrees of freedom"
   ]
  },
  {
   "cell_type": "markdown",
   "metadata": {},
   "source": [
    "## Example"
   ]
  },
  {
   "cell_type": "markdown",
   "metadata": {},
   "source": [
    "- Problem\n",
    "    - Two sets of visual stimulus are applied in two experiments on young male and female volunteer students. \n",
    "    - A researcher wishes to know if the multivariate pattern of responses is the same for males and females. "
   ]
  },
  {
   "cell_type": "markdown",
   "metadata": {},
   "source": [
    "## Proof by simulation that the test statistic follows an $F$ distribution"
   ]
  },
  {
   "cell_type": "markdown",
   "metadata": {},
   "source": [
    "### Book Method"
   ]
  },
  {
   "cell_type": "code",
   "execution_count": 15,
   "metadata": {},
   "outputs": [],
   "source": [
    "import numpy as np\n",
    "import scipy\n",
    "import seaborn as sns\n",
    "import matplotlib.pyplot as plt\n",
    "from sklearn.datasets import make_spd_matrix"
   ]
  },
  {
   "cell_type": "code",
   "execution_count": 16,
   "metadata": {},
   "outputs": [],
   "source": [
    "SAMPLE_SIZE_1 = 100\n",
    "SAMPLE_SIZE_2 = 123\n",
    "N_FEATURES = 3\n",
    "\n",
    "MEANS = np.random.normal(0,10,N_FEATURES)\n",
    "\n",
    "## variance covariance matrix must be symmetric, and positive definite\n",
    "COV = make_spd_matrix(N_FEATURES) "
   ]
  },
  {
   "cell_type": "code",
   "execution_count": 33,
   "metadata": {},
   "outputs": [
    {
     "data": {
      "text/plain": [
       "3.140818306531549"
      ]
     },
     "execution_count": 33,
     "metadata": {},
     "output_type": "execute_result"
    }
   ],
   "source": [
    "def compute_covariance(matrix, index1, index2):\n",
    "    cov = np.sum(\n",
    "        (matrix[:, index1] - np.mean(matrix[:, index1])) * \n",
    "        (matrix[:, index2] - np.mean(matrix[:, index2]))\n",
    "    )\n",
    "    return cov\n",
    "\n",
    "def make_variance_covariance_matrix(matrix, n_features):\n",
    "    B = np.array([\n",
    "        compute_covariance(matrix, i, j) \n",
    "        for j in range(n_features) \n",
    "        for i in range(n_features)\n",
    "    ]).reshape(N_FEATURES, N_FEATURES)\n",
    "    \n",
    "    for i in range(n_features):\n",
    "        for j in range(n_features):\n",
    "            assert B[i,j] == B[j,i]\n",
    "    return B\n",
    "\n",
    "def get_test_statistic_book_method():\n",
    "\n",
    "    x = np.random.multivariate_normal(MEANS, COV, size=SAMPLE_SIZE_1)\n",
    "    y = np.random.multivariate_normal(MEANS, COV, size=SAMPLE_SIZE_2)\n",
    "\n",
    "    xbar = np.mean(x, axis=0)\n",
    "    ybar = np.mean(y, axis=0)\n",
    "\n",
    "    B = make_variance_covariance_matrix(x, N_FEATURES)\n",
    "    print(B)\n",
    "    B_inv = np.linalg.inv(B)\n",
    "    N = np.array([\n",
    "        (SAMPLE_SIZE_1 + SAMPLE_SIZE_2 - 2) * (xbar[0] - ybar[0]),\n",
    "        (SAMPLE_SIZE_1 + SAMPLE_SIZE_2 - 2) * (xbar[1] - ybar[1]),\n",
    "        (SAMPLE_SIZE_1 + SAMPLE_SIZE_2 - 2) * (xbar[2] - ybar[2]),\n",
    "    ]).reshape(N_FEATURES, -1)\n",
    "\n",
    "    alpha = B_inv @ N\n",
    "\n",
    "    t_sq = (\n",
    "        ((SAMPLE_SIZE_1 * SAMPLE_SIZE_2)/(SAMPLE_SIZE_1 + SAMPLE_SIZE_2)) *\n",
    "        (\n",
    "            (alpha[0] * (xbar[0] - ybar[0])) +\n",
    "            (alpha[1] * (xbar[1] - ybar[1])) +\n",
    "            (alpha[2] * (xbar[2] - ybar[2])) \n",
    "        )\n",
    "    )\n",
    "\n",
    "    test_statistic = (\n",
    "        ((SAMPLE_SIZE_1 + SAMPLE_SIZE_2 - N_FEATURES - 1) / \n",
    "        (N_FEATURES * (SAMPLE_SIZE_1 + SAMPLE_SIZE_2 - 2))) *\n",
    "        t_sq\n",
    "    )\n",
    "\n",
    "    return test_statistic[0]\n",
    "\n",
    "get_test_statistic_book_method()"
   ]
  },
  {
   "cell_type": "code",
   "execution_count": 35,
   "metadata": {},
   "outputs": [
    {
     "data": {
      "text/plain": [
       "<matplotlib.legend.Legend at 0x31e9b2810>"
      ]
     },
     "execution_count": 35,
     "metadata": {},
     "output_type": "execute_result"
    },
    {
     "data": {
      "image/png": "[encoded data removed]",
      "text/plain": [
       "<Figure size 640x480 with 1 Axes>"
      ]
     },
     "metadata": {},
     "output_type": "display_data"
    }
   ],
   "source": [
    "test_statistic_distribution = [get_test_statistic_book_method() for _ in range(3_000)]\n",
    "true_f_distribution = np.random.f(\n",
    "    dfnum=N_FEATURES, \n",
    "    dfden=SAMPLE_SIZE_1+SAMPLE_SIZE_2-N_FEATURES-1,\n",
    "    size=3_000\n",
    ")\n",
    "\n",
    "sns.kdeplot(test_statistic_distribution, label='test statistic')\n",
    "sns.kdeplot(true_f_distribution, label='true f distribution')\n",
    "plt.legend()"
   ]
  },
  {
   "cell_type": "markdown",
   "metadata": {},
   "source": [
    "### Alternative (equivalent) method"
   ]
  },
  {
   "cell_type": "code",
   "execution_count": 10,
   "metadata": {},
   "outputs": [],
   "source": [
    "import numpy as np\n",
    "import scipy\n",
    "import seaborn as sns\n",
    "import matplotlib.pyplot as plt\n",
    "from sklearn.datasets import make_spd_matrix"
   ]
  },
  {
   "cell_type": "code",
   "execution_count": 14,
   "metadata": {},
   "outputs": [],
   "source": [
    "SAMPLE_SIZE_1 = 100\n",
    "SAMPLE_SIZE_2 = 123\n",
    "N_FEATURES = 3\n",
    "\n",
    "MEANS = np.random.normal(0,10,N_FEATURES)\n",
    "\n",
    "## variance covariance matrix must be symmetric, and positive definite\n",
    "COV = make_spd_matrix(N_FEATURES) "
   ]
  },
  {
   "cell_type": "code",
   "execution_count": 9,
   "metadata": {},
   "outputs": [],
   "source": [
    "# def get_test_statistic_book_method():\n",
    "x1 = np.random.multivariate_normal(mean=MEANS, cov=COV, size=SAMPLE_SIZE_1)\n",
    "x2 = np.random.multivariate_normal(mean=MEANS, cov=COV, size=SAMPLE_SIZE_2)\n",
    "\n",
    "def compute_covariance(matrix, index1, index2):\n",
    "    cov_ij = np.sum(\n",
    "        (matrix[:,index1] - np.mean(matrix[:,index1], axis=0)) * \n",
    "        (matrix[:,index2] - np.mean(matrix[:,index2], axis=0))\n",
    "    )\n",
    "    return cov_ij\n",
    "\n",
    "cov_00_x1 = compute_covariance(x1, 0, 0)\n",
    "cov_01_x1 = cov_10_x1 = compute_covariance(x1, 0, 1)\n",
    "cov_02_x1 = cov_20_x1 = compute_covariance(x1, 0, 2)\n",
    "cov_11_x1 = compute_covariance(x1, 1, 1)\n",
    "cov_12_x1 = cov_21_x1 = compute_covariance(x1, 1, 2)\n",
    "cov_22_x1 = compute_covariance(x1, 2, 2)\n",
    "\n"
   ]
  },
  {
   "cell_type": "code",
   "execution_count": 12,
   "metadata": {},
   "outputs": [],
   "source": [
    "def get_test_statistic_equivalent_method():\n",
    "    x1 = np.random.multivariate_normal(mean=MEANS, cov=COV, size=SAMPLE_SIZE_1)\n",
    "    x2 = np.random.multivariate_normal(mean=MEANS, cov=COV, size=SAMPLE_SIZE_2)\n",
    "\n",
    "    x1bar = np.mean(x1, axis=0)\n",
    "    x2bar = np.mean(x2, axis=0)\n",
    "    x1cov = np.cov(x1, rowvar=False, ddof=1)\n",
    "    x2cov = np.cov(x2, rowvar=False, ddof=1)\n",
    "\n",
    "    pooled_cov = (\n",
    "        (((SAMPLE_SIZE_1 - 1) * x1cov) + ((SAMPLE_SIZE_2 - 1) * x2cov)) /\n",
    "        (SAMPLE_SIZE_1 + SAMPLE_SIZE_2 - 2)\n",
    "    )\n",
    "    \n",
    "    t_sq = (\n",
    "        (\n",
    "            (SAMPLE_SIZE_1 * SAMPLE_SIZE_2)/\n",
    "            (SAMPLE_SIZE_1 + SAMPLE_SIZE_2)\n",
    "        ) *\n",
    "        (\n",
    "            ((x1bar - x2bar).reshape(1,-1) @\n",
    "            np.linalg.inv(pooled_cov)) @\n",
    "            (x1bar - x2bar).reshape(-1,1)\n",
    "        )\n",
    "        \n",
    "    )[0][0]\n",
    "\n",
    "    F = (\n",
    "        (((SAMPLE_SIZE_1 + SAMPLE_SIZE_2 - N_FEATURES - 1)) /\n",
    "        (N_FEATURES * (SAMPLE_SIZE_1 + SAMPLE_SIZE_2 - 2))) *\n",
    "        t_sq\n",
    "    )\n",
    "\n",
    "    return F"
   ]
  },
  {
   "cell_type": "code",
   "execution_count": 13,
   "metadata": {},
   "outputs": [
    {
     "data": {
      "text/plain": [
       "<matplotlib.legend.Legend at 0x31c7cbec0>"
      ]
     },
     "execution_count": 13,
     "metadata": {},
     "output_type": "execute_result"
    },
    {
     "data": {
      "image/png": "[encoded data removed]",
      "text/plain": [
       "<Figure size 640x480 with 1 Axes>"
      ]
     },
     "metadata": {},
     "output_type": "display_data"
    }
   ],
   "source": [
    "test_statistic_distribution = [get_test_statistic_equivalent_method() for _ in range(3_000)]\n",
    "true_f_distribution = np.random.f(\n",
    "    dfnum=N_FEATURES, \n",
    "    dfden=SAMPLE_SIZE_1 + SAMPLE_SIZE_2 - N_FEATURES - 1, \n",
    "    size=3_000\n",
    ")\n",
    "\n",
    "sns.kdeplot(test_statistic_distribution, label='test statistic')\n",
    "sns.kdeplot(true_f_distribution, label='true f statistic')\n",
    "plt.legend()"
   ]
  }
 ],
 "metadata": {
  "kernelspec": {
   "display_name": "100_statistical_tests_-_gopal_kanji-JR8uAaSp-py3.12",
   "language": "python",
   "name": "python3"
  },
  "language_info": {
   "codemirror_mode": {
    "name": "ipython",
    "version": 3
   },
   "file_extension": ".py",
   "mimetype": "text/x-python",
   "name": "python",
   "nbconvert_exporter": "python",
   "pygments_lexer": "ipython3",
   "version": "3.12.2"
  }
 },
 "nbformat": 4,
 "nbformat_minor": 2
}
