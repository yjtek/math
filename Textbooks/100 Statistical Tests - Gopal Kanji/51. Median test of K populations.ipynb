{
 "cells": [
  {
   "cell_type": "markdown",
   "metadata": {},
   "source": [
    "# Test 51: The median test of K populations"
   ]
  },
  {
   "cell_type": "markdown",
   "metadata": {},
   "source": [
    "## Objective"
   ]
  },
  {
   "cell_type": "markdown",
   "metadata": {},
   "source": [
    "- You have $K$ random samples from $K$ populations\n",
    "- Do all $K$ samples come from populations with the same frequency distribution?"
   ]
  },
  {
   "cell_type": "markdown",
   "metadata": {},
   "source": [
    "## Assumptions"
   ]
  },
  {
   "cell_type": "markdown",
   "metadata": {},
   "source": [
    "- The $K$ samples are all reasonably large"
   ]
  },
  {
   "cell_type": "markdown",
   "metadata": {},
   "source": [
    "## Method"
   ]
  },
  {
   "cell_type": "markdown",
   "metadata": {},
   "source": [
    "- Same idea as `Test 50`; combine all $K$ samples into a single massive sample, and find the median $M$\n",
    "\n",
    "- Then, create the table below\n",
    "\n",
    "| | Sample 1 | ... | Sample K | Total |\n",
    "| - | - | - | - | - |\n",
    "| Above Median | $a_{11}$ | ... | $a_{1K}$ | $r_1$ |\n",
    "| Below Median | $a_{21}$ | ... | $a_{2K}$ | $r_2$ |\n",
    "| Total | $a_{1}$ | ... | $a_{K}$ | N |"
   ]
  },
  {
   "cell_type": "markdown",
   "metadata": {},
   "source": [
    "-  From this table, compute the expected frequencies in each cell. The asssumption here is that rows and columns are independent, so the expected counts is just the product of marginal probabilities\n",
    "$$\\begin{aligned}\n",
    "    e_{ij} &= \\frac{r_i}{N} \\cdot \\frac{a_j}{N} \\cdot N \\\\\n",
    "    &= \\frac{r_i \\cdot a_j}{N}\n",
    "\\end{aligned}$$\n",
    "\n",
    "- The test statistic is\n",
    "$$\\begin{aligned}\n",
    "    \\chi^2 &= \\sum_{i=1}^{2} \\sum_{j=1}^{K} \\frac{(a_{ij} - e_{ij})^2}{e_{ij}} \n",
    "\\end{aligned}$$"
   ]
  },
  {
   "cell_type": "markdown",
   "metadata": {},
   "source": [
    "- This follows a chi-square distribution with $K-1$ degrees of freedom. If the test statistic exceeds the critical value, reject the null that the $K$ populations have the same frequency distribution"
   ]
  },
  {
   "cell_type": "markdown",
   "metadata": {},
   "source": [
    "## Proof"
   ]
  },
  {
   "cell_type": "code",
   "execution_count": 1,
   "metadata": {},
   "outputs": [],
   "source": [
    "import numpy as np\n",
    "import scipy\n",
    "import matplotlib.pyplot as plt\n",
    "import seaborn as sns"
   ]
  },
  {
   "cell_type": "code",
   "execution_count": 224,
   "metadata": {},
   "outputs": [
    {
     "name": "stdout",
     "output_type": "stream",
     "text": [
      "overall_median=-104.2078088841944\n",
      "above_median=array([13, 18, 13, 16])\n",
      "below_median=array([17, 12, 17, 14])\n",
      "col_sums=array([30, 30, 30, 30])\n",
      "row_sums=array([60, 60])\n",
      "expected_freqs=array([[13., 18., 13., 16.],\n",
      "       [17., 12., 17., 14.]])\n",
      "120.0\n"
     ]
    },
    {
     "data": {
      "text/plain": [
       "0.0"
      ]
     },
     "execution_count": 224,
     "metadata": {},
     "output_type": "execute_result"
    }
   ],
   "source": [
    "K = 4\n",
    "verbose=False\n",
    "\n",
    "def get_test_statistic(verbose=False):\n",
    "    sample1 = np.random.normal(50,5000,30)\n",
    "    sample2 = np.random.normal(50,5000,30)\n",
    "    sample3 = np.random.normal(50,5000,30)\n",
    "    sample4 = np.random.normal(50,5000,30)\n",
    "    overall_median = np.median(np.concatenate((sample1,sample2,sample3,sample4)))\n",
    "    if verbose:\n",
    "        print(f\"{overall_median=}\")\n",
    "\n",
    "    above_median = np.array([np.sum(s >= overall_median) for s in [sample1,sample2,sample3,sample4]])\n",
    "    below_median = np.array([np.sum(s < overall_median) for s in [sample1,sample2,sample3,sample4]])\n",
    "    if verbose:\n",
    "        print(f'{above_median=}')\n",
    "        print(f'{below_median=}')\n",
    "\n",
    "    table = np.concatenate((above_median, below_median)).reshape(2,-1)\n",
    "    col_sums = np.sum(table, axis=0)\n",
    "    row_sums = np.sum(table, axis=1)\n",
    "    overall_count = np.sum(col_sums)\n",
    "    if verbose:\n",
    "        print(f\"{col_sums=}\")\n",
    "        print(f\"{row_sums=}\")\n",
    "\n",
    "    expected_freqs = np.concatenate((\n",
    "        np.array((row_sums[0]/overall_count) * above_median * 2),\n",
    "        np.array((row_sums[1]/overall_count) * below_median * 2),\n",
    "    )).reshape(2, -1)\n",
    "    if verbose:\n",
    "        print(f\"{expected_freqs=}\")\n",
    "        print(np.sum(expected_freqs))\n",
    "\n",
    "    test_statistic = np.sum((table - expected_freqs)**2 / expected_freqs)\n",
    "    return test_statistic\n",
    "\n",
    "get_test_statistic(verbose=True)"
   ]
  },
  {
   "cell_type": "code",
   "execution_count": 214,
   "metadata": {},
   "outputs": [
    {
     "name": "stderr",
     "output_type": "stream",
     "text": [
      "/var/folders/hs/wbbxdff91wj8m8np2cv6jnnw0000gq/T/ipykernel_27863/4032765553.py:4: UserWarning: Dataset has 0 variance; skipping density estimate. Pass `warn_singular=False` to disable this warning.\n",
      "  sns.kdeplot(test_statistic_distribution, label='test statistic')\n"
     ]
    },
    {
     "data": {
      "text/plain": [
       "<matplotlib.legend.Legend at 0x32324f9e0>"
      ]
     },
     "execution_count": 214,
     "metadata": {},
     "output_type": "execute_result"
    },
    {
     "data": {
      "image/png": "[encoded data removed]",
      "text/plain": [
       "<Figure size 640x480 with 1 Axes>"
      ]
     },
     "metadata": {},
     "output_type": "display_data"
    }
   ],
   "source": [
    "test_statistic_distribution = [get_test_statistic() for _ in range(3_000)]\n",
    "true_chisq_distribution = np.random.chisquare(K-1, 3_000)\n",
    "\n",
    "sns.kdeplot(test_statistic_distribution, label='test statistic')\n",
    "sns.kdeplot(true_chisq_distribution, label='chisq distribution')\n",
    "plt.legend()"
   ]
  }
 ],
 "metadata": {
  "kernelspec": {
   "display_name": "100_statistical_tests_-_gopal_kanji-JR8uAaSp-py3.12",
   "language": "python",
   "name": "python3"
  },
  "language_info": {
   "codemirror_mode": {
    "name": "ipython",
    "version": 3
   },
   "file_extension": ".py",
   "mimetype": "text/x-python",
   "name": "python",
   "nbconvert_exporter": "python",
   "pygments_lexer": "ipython3",
   "version": "3.12.2"
  }
 },
 "nbformat": 4,
 "nbformat_minor": 2
}
