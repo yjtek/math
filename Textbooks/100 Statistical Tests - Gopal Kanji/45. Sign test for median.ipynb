{
 "cells": [
  {
   "cell_type": "markdown",
   "metadata": {},
   "source": [
    "# Test 45: The sign test for a median"
   ]
  },
  {
   "cell_type": "markdown",
   "metadata": {},
   "source": [
    "- Because this test is nonparametric, it does not strictly follow the cutoff values of the tables. \n",
    "\n",
    "- Keep in mind that this means that the confidence level $\\alpha$ isn't going to be precisely accurate"
   ]
  },
  {
   "cell_type": "markdown",
   "metadata": {},
   "source": [
    "## Objective"
   ]
  },
  {
   "cell_type": "markdown",
   "metadata": {},
   "source": [
    "- From a population, I have some sample of size $N$\n",
    "- Is the population median equal to some specified $M_0$?"
   ]
  },
  {
   "cell_type": "markdown",
   "metadata": {},
   "source": [
    "## Assumptions"
   ]
  },
  {
   "cell_type": "markdown",
   "metadata": {},
   "source": [
    "- Observations in the sample are independent of each other \n",
    "- Any sample values equal to $M_0$ should be discarded "
   ]
  },
  {
   "cell_type": "markdown",
   "metadata": {},
   "source": [
    "## Method"
   ]
  },
  {
   "cell_type": "markdown",
   "metadata": {},
   "source": [
    "- The sign test forms the basis for many other tests, so it's useful understand the computation from scratch"
   ]
  },
  {
   "cell_type": "markdown",
   "metadata": {},
   "source": [
    "### Sign Test from Binomial"
   ]
  },
  {
   "cell_type": "markdown",
   "metadata": {},
   "source": [
    "- Let's suppose we have some population $X$ with median $M$\n",
    "\n",
    "- I have a hypothesis that the median of $X$ is $M_0$\n",
    "\n",
    "- I draw a sample $x$ of size $n$, and I sort the array \n",
    "\n",
    "- Remove all values in $x$ that are equal to $M_0$\n",
    "\n",
    "- Comparing the values in $x$ to $M_0$: \n",
    "    - Count the number of values that are smaller than $M_0$, call it $N_1$\n",
    "    - Count the number of values that are larger than $M_0$, call it $N_2$\n",
    "    - Let the total count be $N$\n",
    "\n",
    "- What's the idea here? If $M_0$ is truly the median value (i.e. the middle of the dataset), then it must be true that 50% of all values in the population are above it, and 50% are below it\n",
    "\n",
    "- Get $T = \\min{(N_1, N_2)}$ as the test statistic\n",
    "\n",
    "- Under the null hypothesis, we know that $T \\sim \\text{Bin}(n, 0.5)$ \n",
    "\n",
    "- The question simply reduces to this: if every value we draw is either above or below $M_0$ with probability 50%, what is the likelihood of observing the test statistic of **at most** $T$?\n",
    "\n",
    "- This is simply the binomial CDF \n",
    "$$\\begin{aligned}\n",
    "    P(X \\le T) &= \\sum_{i=0}^{T} \\binom{N}{i} p^{i} (1-p)^{N-i} \n",
    "\\end{aligned}$$\n",
    "\n",
    "- For one tailed test:\n",
    "    - If $P(X \\le T) \\le \\alpha$, then we reject the null hypothesis that $M_0 = M$\n",
    "\n",
    "- For two tailed test:\n",
    "    - If $2 \\cdot P(X \\le T) \\le \\alpha$, then we reject the null hypothesis that $M_0 = M$"
   ]
  },
  {
   "cell_type": "markdown",
   "metadata": {},
   "source": [
    "### [Deprecated] Book Method"
   ]
  },
  {
   "cell_type": "markdown",
   "metadata": {},
   "source": [
    "**DOES NOT CONVERGE WTH**\n",
    "\n",
    "- I have a sample of size $N$\n",
    "\n",
    "- Count the number of observations below the median value to test $M_0$, and call this $N_1$\n",
    "\n",
    "- Count the number of observations above the median value to test $M_0$, and call this $N_2$\n",
    "\n",
    "- For a two sided test (median $\\neq$ $M_0$), critical value is $\\min{(N_1, N_2)}$\n",
    "- Else for one sided test (median $\\gt \\text{or} \\lt M_0$), critical value is $N_2 \\text{ or } N_1$\n",
    "\n",
    "- Read the critical value from Table 17, with the relevant value of $N$"
   ]
  },
  {
   "cell_type": "markdown",
   "metadata": {},
   "source": [
    "## Proof"
   ]
  },
  {
   "cell_type": "markdown",
   "metadata": {},
   "source": [
    "### Proof of Sign Test"
   ]
  },
  {
   "cell_type": "code",
   "execution_count": 122,
   "metadata": {},
   "outputs": [],
   "source": [
    "import numpy as np\n",
    "import scipy\n",
    "import matplotlib.pyplot as plt\n",
    "import seaborn as sns"
   ]
  },
  {
   "cell_type": "code",
   "execution_count": 289,
   "metadata": {},
   "outputs": [],
   "source": [
    "sample_size = 20\n",
    "population = np.random.randint(0,10, size=10_00)\n",
    "true_median = np.median(population)\n",
    "\n",
    "def get_test_statistic_binom(hypothesized_median, type, alpha):\n",
    "    sample = np.random.choice(population, size=sample_size)\n",
    "    sample = np.delete(sample, np.where(sample == hypothesized_median))\n",
    "    # print(sample)\n",
    "\n",
    "    n1 = np.sum(sample < hypothesized_median)\n",
    "    n2 = np.sum(sample > hypothesized_median)\n",
    "    test_statistic = min(n1, n2)\n",
    "    corrected_sample_size = len(sample)\n",
    "\n",
    "    cdf = scipy.stats.binom(corrected_sample_size, 0.5).cdf(test_statistic)\n",
    "\n",
    "    ## Reject if test statistic lower than critical value\n",
    "    if type == 'one-tailed':\n",
    "        return cdf < alpha\n",
    "    \n",
    "    if type == 'two-tailed':\n",
    "        return (2*cdf) < alpha\n",
    "\n",
    "def get_test_statistic(hypothesized_median):\n",
    "    sample = np.random.choice(population, size=sample_size)\n",
    "    sample = np.delete(sample, np.where(sample == hypothesized_median))\n",
    "    # print(sample)\n",
    "\n",
    "    n1 = np.sum(sample < hypothesized_median)\n",
    "    n2 = np.sum(sample > hypothesized_median)\n",
    "    test_statistic = min(n1, n2)\n",
    "    corrected_sample_size = len(sample)\n",
    "\n",
    "    #https://openpress.usask.ca/app/uploads/sites/76/2020/11/Sign-Test-Critical-Values-Table.pdf\n",
    "    critical_value = {\n",
    "        8: 0,\n",
    "        9: 1,\n",
    "        10: 1,    \n",
    "        11: 1,\n",
    "        12: 2,\n",
    "        13: 2,\n",
    "        14: 3,\n",
    "        15: 3,\n",
    "        16: 3,\n",
    "        17: 4,\n",
    "        18: 4,\n",
    "        19: 4,\n",
    "        20: 5,\n",
    "        21: 5,\n",
    "        22: 5,\n",
    "        23: 6,\n",
    "        24: 6,\n",
    "        25: 6,\n",
    "    }\n",
    "\n",
    "    ## Reject if test statistic lower than critical value\n",
    "    return test_statistic < critical_value.get(corrected_sample_size)"
   ]
  },
  {
   "cell_type": "code",
   "execution_count": 291,
   "metadata": {},
   "outputs": [
    {
     "data": {
      "text/plain": [
       "0.050666666666666665"
      ]
     },
     "execution_count": 291,
     "metadata": {},
     "output_type": "execute_result"
    }
   ],
   "source": [
    "test_statistic = [get_test_statistic_binom(true_median, 'two-tailed', 0.05) for _ in range(3_000)]\n",
    "np.mean(test_statistic)"
   ]
  },
  {
   "cell_type": "markdown",
   "metadata": {},
   "source": [
    "### [Deprecated] Book Method"
   ]
  },
  {
   "cell_type": "code",
   "execution_count": 4,
   "metadata": {},
   "outputs": [],
   "source": [
    "import numpy as np\n",
    "import scipy\n",
    "import matplotlib.pyplot as plt\n",
    "import seaborn as sns"
   ]
  },
  {
   "cell_type": "code",
   "execution_count": 119,
   "metadata": {},
   "outputs": [
    {
     "data": {
      "text/plain": [
       "40"
      ]
     },
     "execution_count": 119,
     "metadata": {},
     "output_type": "execute_result"
    }
   ],
   "source": [
    "mu = 50\n",
    "m0 = 50\n",
    "\n",
    "def get_test_statistic(mu):\n",
    "    population = np.random.choice([\n",
    "        mu-5, mu-4, mu-4, mu-2, mu-1, mu+1, mu+2, mu+3, mu+4, mu+5\n",
    "    ],10_000)\n",
    "    m0 = np.median(population)\n",
    "\n",
    "    sample_size = 100\n",
    "    sample = np.random.choice(population, sample_size)\n",
    "\n",
    "    n1 = np.sum(sample < m0)\n",
    "    n2 = np.sum(sample > m0)\n",
    "\n",
    "    return min(n1,n2)\n",
    "# min(n1, n2)\n",
    "\n",
    "get_test_statistic(mu)"
   ]
  },
  {
   "cell_type": "code",
   "execution_count": 121,
   "metadata": {},
   "outputs": [
    {
     "data": {
      "text/plain": [
       "0.9996666666666667"
      ]
     },
     "execution_count": 121,
     "metadata": {},
     "output_type": "execute_result"
    }
   ],
   "source": [
    "test_reject_null = [get_test_statistic(50) > 22 for _ in range(3_000)]\n",
    "np.mean(test_reject_null)"
   ]
  },
  {
   "cell_type": "code",
   "execution_count": null,
   "metadata": {},
   "outputs": [],
   "source": []
  }
 ],
 "metadata": {
  "kernelspec": {
   "display_name": "100_statistical_tests_-_gopal_kanji-JR8uAaSp-py3.12",
   "language": "python",
   "name": "python3"
  },
  "language_info": {
   "codemirror_mode": {
    "name": "ipython",
    "version": 3
   },
   "file_extension": ".py",
   "mimetype": "text/x-python",
   "name": "python",
   "nbconvert_exporter": "python",
   "pygments_lexer": "ipython3",
   "version": "3.12.2"
  }
 },
 "nbformat": 4,
 "nbformat_minor": 2
}
