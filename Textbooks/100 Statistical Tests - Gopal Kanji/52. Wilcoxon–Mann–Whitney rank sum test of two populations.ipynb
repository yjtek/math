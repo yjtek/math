{
 "cells": [
  {
   "cell_type": "markdown",
   "metadata": {},
   "source": [
    "# Test 52: Wilcoxon–Mann–Whitney rank sum test of two populations"
   ]
  },
  {
   "cell_type": "markdown",
   "metadata": {},
   "source": [
    "## Objective"
   ]
  },
  {
   "cell_type": "markdown",
   "metadata": {},
   "source": [
    "- You have 2 random samples\n",
    "- Did they come from 2 populations with the same mean?"
   ]
  },
  {
   "cell_type": "markdown",
   "metadata": {},
   "source": [
    "## Assumptions"
   ]
  },
  {
   "cell_type": "markdown",
   "metadata": {},
   "source": [
    "- The two populations have continuous frequency distributions with the same shape and spread"
   ]
  },
  {
   "cell_type": "markdown",
   "metadata": {},
   "source": [
    "## Method"
   ]
  },
  {
   "cell_type": "markdown",
   "metadata": {},
   "source": [
    "- You have 2 samples with sizes $n_1, n_2$, which we'll call $x$ and $y$\n",
    "\n",
    "- Combine them into a sample of size $n_1 + n_2 = N$, and arrange them in order of increasing values, then assign ranks to each observations\n",
    "\n",
    "- Compute the sum of ranks for $x$ and $y$, which we denote as $r_1$ and $r_2$\n",
    "    - Let's assume that $n_1 < n_2$\n",
    "    - Then $R = r_1$\n",
    "    - Else $R = r_2$\n",
    "\n",
    "- Let $n = \\min(n_1, n_2)$\n",
    "\n",
    "- Next, compute $R^1 = n \\cdot (N + 1) - R$\n",
    "\n",
    "- Find the critical value from the Wilcoxon tables (Table 21); if either $R$ or $R^1$ less than the critical value, then the null hypothesis of equal means is rejected\n",
    "\n"
   ]
  },
  {
   "cell_type": "markdown",
   "metadata": {},
   "source": [
    "## Proof"
   ]
  },
  {
   "cell_type": "code",
   "execution_count": 23,
   "metadata": {},
   "outputs": [],
   "source": [
    "import numpy as np\n",
    "import scipy\n",
    "import matplotlib.pyplot as plt\n",
    "import seaborn as sns"
   ]
  },
  {
   "cell_type": "code",
   "execution_count": 41,
   "metadata": {},
   "outputs": [],
   "source": [
    "# def get_test_statistic():\n",
    "#     ...\n",
    "\n",
    "critical_val = 51\n",
    "\n",
    "def get_test_statistic():\n",
    "    sample1 = np.random.normal(10,5, 9)\n",
    "    sample2 = np.random.normal(10,5, 8)\n",
    "    concat = np.concatenate((sample1, sample2))\n",
    "    ranks = concat.argsort().argsort()\n",
    "\n",
    "    r1 = np.sum(ranks[:len(sample1)])\n",
    "    r2 = np.sum(ranks[len(sample1):])\n",
    "    if len(sample1) < len(sample2):\n",
    "        r = r1\n",
    "    elif len(sample1) > len(sample2):\n",
    "        r = r2\n",
    "    elif len(sample1) == len(sample2):\n",
    "        r = min(r1, r2)\n",
    "\n",
    "    R = (min(len(sample1), len(sample1)) * (len(sample1) + len(sample2) + 1)) - r\n",
    "\n",
    "    if (r < critical_val) or (R < critical_val):\n",
    "        return True\n",
    "    return False"
   ]
  },
  {
   "cell_type": "code",
   "execution_count": 46,
   "metadata": {},
   "outputs": [
    {
     "data": {
      "text/plain": [
       "0.101"
      ]
     },
     "execution_count": 46,
     "metadata": {},
     "output_type": "execute_result"
    }
   ],
   "source": [
    "test_statistic_distribution = [get_test_statistic() for _ in range(3_000)]\n",
    "np.mean(test_statistic_distribution)"
   ]
  }
 ],
 "metadata": {
  "kernelspec": {
   "display_name": "100_statistical_tests_-_gopal_kanji-JR8uAaSp-py3.12",
   "language": "python",
   "name": "python3"
  },
  "language_info": {
   "codemirror_mode": {
    "name": "ipython",
    "version": 3
   },
   "file_extension": ".py",
   "mimetype": "text/x-python",
   "name": "python",
   "nbconvert_exporter": "python",
   "pygments_lexer": "ipython3",
   "version": "3.12.2"
  }
 },
 "nbformat": 4,
 "nbformat_minor": 2
}
