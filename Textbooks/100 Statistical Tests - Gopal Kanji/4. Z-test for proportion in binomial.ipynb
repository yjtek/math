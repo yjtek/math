{
 "cells": [
  {
   "cell_type": "markdown",
   "metadata": {},
   "source": [
    "# Test 4: Z-test for a proportion (binomial distribution)"
   ]
  },
  {
   "cell_type": "markdown",
   "metadata": {},
   "source": [
    "## Objective"
   ]
  },
  {
   "cell_type": "markdown",
   "metadata": {},
   "source": [
    "- To investigate the significance of the difference between an assumed proportion $p_0$ and an observed proportion $p$\n",
    "\n",
    "- In layman terms:\n",
    "    - Assume I have some population $P$ \n",
    "    - In this population, there are only 2 values; 0 and 1\n",
    "    - It is given that the proportion of 1s in the population is $p$\n",
    "        - That is, every draw from this population follows $\\text{Bernoulli}(p)$ \n",
    "    - Let's assume that I take a sample of $n$ observations from $P$, and find that the proportion of positive cases is $\\hat{p}$\n",
    "    - Does $\\hat{p}$ give me enough proof to say that the true population mean is larger/smaller/not equal to $p$?"
   ]
  },
  {
   "cell_type": "markdown",
   "metadata": {},
   "source": [
    "## Assumptions"
   ]
  },
  {
   "cell_type": "markdown",
   "metadata": {},
   "source": [
    "- The test is approximate \n",
    "- Assumes that the number of observations in the sample is sufficiently large (i.e. $n \\ge 30$) to justify the normal approximation to the binomial\n",
    "    - i.e. $\\hat{p}$ is normally distributed I.F.F. you take a sufficient sample $n$ by central limit theorem"
   ]
  },
  {
   "cell_type": "markdown",
   "metadata": {},
   "source": [
    "## Method"
   ]
  },
  {
   "cell_type": "markdown",
   "metadata": {},
   "source": [
    "- Sample $n$ observations from the population $P$, where there is $p$ proportion of 1s\n",
    "- Compute $\\hat{p}$, the proportion of 1s you get from the sample\n",
    "- Compute test statistic $$ Z = \\frac{|\\hat{p} - p| - \\frac{1}{2n}}{\\sqrt{\\frac{p (1 - p)}{n}}}$$\n",
    "\n",
    "- The test statistic $Z$ follows a Gaussian distribution"
   ]
  },
  {
   "cell_type": "markdown",
   "metadata": {},
   "source": [
    "### Proof that the test statistic is Gaussian"
   ]
  },
  {
   "cell_type": "markdown",
   "metadata": {},
   "source": [
    "- Note that we drop the continuity correction term because it approaches 0 as $n$ gets large\n",
    "\n",
    "- By central limit theorem (assumed) $\\hat{p}$ is normally distributed\n",
    "\n",
    "- We know that the standard error of mean for binomial distribution is $Var[X] = p \\cdot (1-p)$\n",
    "\n",
    "- So the formula is simply the standard $\\frac{x - \\mu}{\\frac{s}{\\sqrt{n}}}$, nothing special"
   ]
  },
  {
   "cell_type": "markdown",
   "metadata": {},
   "source": [
    "$$\\begin{aligned}\n",
    "    E[Z] &= E[\\frac{|\\hat{p} - p| - \\frac{1}{2n}}{\\sqrt{\\frac{p (1 - p)}{n}}}] \\\\\n",
    "    &= \\frac{1}{\\sqrt{\\frac{p (1 - p)}{n}}} \\cdot E[|\\hat{p} - p| - \\frac{1}{2n}] \\\\\n",
    "    &= \\frac{1}{\\sqrt{\\frac{p (1 - p)}{n}}} \\cdot E[|\\hat{p} - p|] & \\text{Dropping the } \\frac{1}{2n} \\text{ continuity correction term } \\\\\n",
    "    &= \\frac{1}{\\sqrt{\\frac{p (1 - p)}{n}}} \\cdot 0 \\\\\n",
    "    &= 0\n",
    "\n",
    "    \\\\ \\\\\n",
    "\n",
    "    Var[Z] &= Var[\\frac{|\\hat{p} - p| - \\frac{1}{2n}}{\\sqrt{\\frac{p (1 - p)}{n}}}] \\\\\n",
    "    &= \\frac{1}{\\frac{p (1 - p)}{n}} \\cdot Var[|\\hat{p} - p| - \\frac{1}{2n}] \\\\\n",
    "    &= \\frac{1}{\\frac{p (1 - p)}{n}} \\cdot Var[|\\hat{p} - p|] & \\text{Dropping the } \\frac{1}{2n} \\text{ continuity correction term } \\\\\n",
    "    &= \\frac{1}{\\frac{p (1 - p)}{n}} \\cdot Var[\\hat{p}] \\\\\n",
    "    &= \\frac{1}{\\frac{p (1 - p)}{n}} \\cdot \\frac{p (1 - p)}{n} & \\text{Standard error of binomial} \\\\\n",
    "    &= 1\n",
    "\\end{aligned}$$"
   ]
  },
  {
   "cell_type": "markdown",
   "metadata": {},
   "source": [
    "## Example"
   ]
  },
  {
   "cell_type": "code",
   "execution_count": 7,
   "metadata": {},
   "outputs": [
    {
     "data": {
      "text/plain": [
       "-2.0999999999999996"
      ]
     },
     "execution_count": 7,
     "metadata": {},
     "output_type": "execute_result"
    }
   ],
   "source": [
    "n=100\n",
    "p=0.5\n",
    "phat=0.4\n",
    "\n",
    "def binomial_z_test(n, p, phat):\n",
    "    return (phat - p - 1/(2*n)) / ((p * (1-p))/n)**0.5\n",
    "\n",
    "binomial_z_test(n, p, phat)"
   ]
  }
 ],
 "metadata": {
  "kernelspec": {
   "display_name": "100_statistical_tests_-_gopal_kanji-JR8uAaSp-py3.12",
   "language": "python",
   "name": "python3"
  },
  "language_info": {
   "codemirror_mode": {
    "name": "ipython",
    "version": 3
   },
   "file_extension": ".py",
   "mimetype": "text/x-python",
   "name": "python",
   "nbconvert_exporter": "python",
   "pygments_lexer": "ipython3",
   "version": "3.12.2"
  }
 },
 "nbformat": 4,
 "nbformat_minor": 2
}
