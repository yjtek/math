{
 "cells": [
  {
   "cell_type": "markdown",
   "metadata": {},
   "source": [
    "# Test 21: Dixon’s test for outliers"
   ]
  },
  {
   "cell_type": "markdown",
   "metadata": {},
   "source": [
    "## Objective"
   ]
  },
  {
   "cell_type": "markdown",
   "metadata": {},
   "source": [
    "- I have some extreme values in my sample\n",
    "- Based on the other values in my sample, how confidently can I say that a value is an outlier?\n",
    "\n",
    "- This test is terrible, please don't use it"
   ]
  },
  {
   "cell_type": "markdown",
   "metadata": {},
   "source": [
    "## Assumptions"
   ]
  },
  {
   "cell_type": "markdown",
   "metadata": {},
   "source": [
    "- The sample size should be greater than 3\n",
    "- The population which is being sampled is assumed normal"
   ]
  },
  {
   "cell_type": "markdown",
   "metadata": {},
   "source": [
    "## Method"
   ]
  },
  {
   "cell_type": "markdown",
   "metadata": {},
   "source": [
    "- For a given array, sort your data\n",
    "\n",
    "- If you are testing an observation $X$ as an outlier, then $X$ must either be at the head or tail of your dataset\n",
    "\n",
    "- Compute the test statistic $r$ by taking\n",
    "$$\\begin{aligned}\n",
    "    r &= \\frac{x_2 - x_1}{x_n - x_1} & \\text{if } 3 \\lt n \\le 7 \\\\\n",
    "    r &= \\frac{x_2 - x_1}{x_{n-1} - x_1} & \\text{if } 8 \\le n \\le 10 \\\\\n",
    "    r &= \\frac{x_3 - x_1}{x_{n-1} - x_1} & \\text{if } 11 \\le n \\le 13 \\\\\n",
    "    r &= \\frac{x_3 - x_1}{x_{n-2} - x_1} & \\text{if } 14 \\le n \\le 25 \\\\\n",
    "\\end{aligned}$$\n",
    "\n",
    "- Critical values are in Table 8, and the null hypothesis is that the outlier belongs to the sample. If $r$ greater than critical value, reject null\n",
    "\n",
    "- To be honest, this test sucks. It is unconvincing, and does not have any asymptotic properties. Best to avoid using it"
   ]
  },
  {
   "cell_type": "markdown",
   "metadata": {},
   "source": [
    "## Example"
   ]
  },
  {
   "cell_type": "markdown",
   "metadata": {},
   "source": []
  }
 ],
 "metadata": {
  "language_info": {
   "name": "python"
  }
 },
 "nbformat": 4,
 "nbformat_minor": 2
}
