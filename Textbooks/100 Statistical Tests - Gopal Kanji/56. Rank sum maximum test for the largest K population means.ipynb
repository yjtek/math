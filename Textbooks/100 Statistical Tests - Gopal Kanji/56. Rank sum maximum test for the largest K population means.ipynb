{
 "cells": [
  {
   "cell_type": "markdown",
   "metadata": {},
   "source": [
    "# Test 56: The rank sum maximum test for the largest K population means"
   ]
  },
  {
   "cell_type": "markdown",
   "metadata": {},
   "source": [
    "## Objective"
   ]
  },
  {
   "cell_type": "markdown",
   "metadata": {},
   "source": [
    "- You have $K$ random samples (with multiple observations each)\n",
    "- Is there a difference between the largest sample mean among all samples,and the $K-1$ remaining means from the samples?"
   ]
  },
  {
   "cell_type": "markdown",
   "metadata": {},
   "source": [
    "## Assumptions"
   ]
  },
  {
   "cell_type": "markdown",
   "metadata": {},
   "source": [
    "- Populations are of continuous frequencies\n",
    "- All $K$ samples have the same size $N$"
   ]
  },
  {
   "cell_type": "markdown",
   "metadata": {},
   "source": [
    "## Method"
   ]
  },
  {
   "cell_type": "markdown",
   "metadata": {},
   "source": [
    "- You have $K$ samples of $N$ observations each\n",
    "- Similar to test 55, we combine all samples together, and rank the observations\n",
    "- Then sum the ranks together within each sample\n",
    "- If any specific sample's rank sum exceeds the critical value from Table 24, we consider it significantly different from the others"
   ]
  },
  {
   "cell_type": "markdown",
   "metadata": {},
   "source": [
    "## Example"
   ]
  },
  {
   "cell_type": "markdown",
   "metadata": {},
   "source": [
    "- Scenario:\n",
    "    - As an alternative to Test 55 the perfume manufacturer uses the rank sum maximum test for the largest 4 population means. The largest R value is R1 at 58 which is greater than the tabulated value of 52. Hence fragrance 1 is significantly greater (in preference) than the other fragrances. \n",
    "    \n",
    "- Results\n",
    "    | | Perfume 1 | Perfume 2 | Perfume 3 | Perfume 4 |\n",
    "    | --- | --- | --- | --- | --- |\n",
    "    | Tester 1 | 70 | 12 | 10 | 29 |\n",
    "    | Tester 2 | 52 | 18 | 43 | 31 |\n",
    "    | Tester 3 | 51 | 35 | 28 | 41 |\n",
    "    | Tester 4 | 67 | 36 | 26 | 44 |\n",
    "\n",
    "- So by the methodology above, we can rewrite the scores as ranks instead\n",
    "    | | Perfume 1 | Perfume 2 | Perfume 3 | Perfume 4 |\n",
    "    | --- | --- | --- | --- | --- |\n",
    "    | Tester 1 | 16 | 2 | 1 | 6 |\n",
    "    | Tester 2 | 14 | 3 | 11 | 7 |\n",
    "    | Tester 3 | 13 | 8 | 5 | 10 |\n",
    "    | Tester 4 | 15 | 9 | 4 | 12 |\n",
    "\n",
    "- Maximum column sum is for P1, which gives 58\n",
    "\n",
    "- This exceeds critical value of 52, so P1 is significantly different from the others"
   ]
  },
  {
   "cell_type": "markdown",
   "metadata": {},
   "source": [
    "## Proof"
   ]
  },
  {
   "cell_type": "code",
   "execution_count": 49,
   "metadata": {},
   "outputs": [],
   "source": [
    "import numpy as np\n",
    "import scipy\n",
    "import matplotlib.pyplot as plt\n",
    "import seaborn as sns"
   ]
  },
  {
   "cell_type": "code",
   "execution_count": 50,
   "metadata": {},
   "outputs": [],
   "source": [
    "# def get_test_statistic():\n",
    "K = 5\n",
    "N = 5\n",
    "critical_value = 98\n",
    "\n",
    "def get_test_statistic():\n",
    "    vals = np.array([np.random.uniform(0, 100, N) for _ in range(K)])\n",
    "    ranks = vals.reshape(-1).argsort().argsort().reshape(N, K)\n",
    "    sample_rank_sum = ranks.sum(axis=1)\n",
    "    if any(sample_rank_sum >= critical_value):\n",
    "        return True\n",
    "    return False"
   ]
  },
  {
   "cell_type": "code",
   "execution_count": 48,
   "metadata": {},
   "outputs": [
    {
     "data": {
      "text/plain": [
       "np.float64(0.018333333333333333)"
      ]
     },
     "execution_count": 48,
     "metadata": {},
     "output_type": "execute_result"
    }
   ],
   "source": [
    "test_statistic_distribution = [get_test_statistic() for _ in range(3_000)]\n",
    "np.mean(test_statistic_distribution)"
   ]
  },
  {
   "cell_type": "code",
   "execution_count": null,
   "metadata": {},
   "outputs": [],
   "source": []
  }
 ],
 "metadata": {
  "kernelspec": {
   "display_name": "100_statistical_tests_-_gopal_kanji-JR8uAaSp-py3.12",
   "language": "python",
   "name": "python3"
  },
  "language_info": {
   "codemirror_mode": {
    "name": "ipython",
    "version": 3
   },
   "file_extension": ".py",
   "mimetype": "text/x-python",
   "name": "python",
   "nbconvert_exporter": "python",
   "pygments_lexer": "ipython3",
   "version": "3.11.10"
  }
 },
 "nbformat": 4,
 "nbformat_minor": 2
}
