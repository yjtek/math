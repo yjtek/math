{
 "cells": [
  {
   "cell_type": "markdown",
   "metadata": {},
   "source": [
    "# 6. Z-test for comparing two counts (Poisson distribution)"
   ]
  },
  {
   "cell_type": "markdown",
   "metadata": {},
   "source": [
    "## Objective"
   ]
  },
  {
   "cell_type": "markdown",
   "metadata": {},
   "source": [
    "- To investigate the significance of the difference between two counts\n",
    "\n",
    "- Layman:\n",
    "    - Suppose I have a count of some process $n_1$ over some time period $t_1$. Then I know the rate of this process is $R_1 = \\frac{n_1}{t_1}$\n",
    "    - Next, suppose I have a count of some process $n_2$ over some time period $t_2$. Then I know the rate of this process is $R_2 = \\frac{n_2}{t_2}$\n",
    "    - I want to know if the rates $R_1$ and $R_2$ are the same"
   ]
  },
  {
   "cell_type": "markdown",
   "metadata": {},
   "source": [
    "## Assumptions"
   ]
  },
  {
   "cell_type": "markdown",
   "metadata": {},
   "source": [
    "- $n_1$ and $n_2$ are large enough for the normal approximation of Poisson distribution to apply"
   ]
  },
  {
   "cell_type": "markdown",
   "metadata": {},
   "source": [
    "## Method"
   ]
  },
  {
   "cell_type": "markdown",
   "metadata": {},
   "source": [
    "- Test statistic is \n",
    "$$\\begin{aligned}\n",
    "    Z &= \\frac{(R_1 - R_2)}{\\sqrt{(\\frac{R_1}{t_1} + \\frac{R_2}{t_2})}}\n",
    "\\end{aligned}$$\n",
    "\n",
    "- Test statistic is Gaussian"
   ]
  },
  {
   "cell_type": "markdown",
   "metadata": {},
   "source": [
    "## Example"
   ]
  },
  {
   "cell_type": "markdown",
   "metadata": {},
   "source": [
    "- Problem\n",
    "    - Two traffic roundabouts are compared for intensity of traffic at non-peak times \n",
    "    - Roundabout one has 476 arrivals over 11 minutes \n",
    "    - Roundabout two has 584 arrivals over 15 minutes \n",
    "    - The arrival rates, per minute, are therefore 476/11 (43.27) and 584/15 (38.93).\n",
    "\n",
    "- Question\n",
    "    - Are these rates the same?\n",
    "    - Is $R_1 > R_2$?\n",
    "    - Is $R_1 < R_2$?"
   ]
  },
  {
   "cell_type": "code",
   "execution_count": 2,
   "metadata": {},
   "outputs": [
    {
     "data": {
      "text/plain": [
       "2.4016300728032665"
      ]
     },
     "execution_count": 2,
     "metadata": {},
     "output_type": "execute_result"
    }
   ],
   "source": [
    "n1 = 952\n",
    "n2 = 1168\n",
    "t1 = 22\n",
    "t2 = 30\n",
    "r1 = n1/t1\n",
    "r2 = n2/t2\n",
    "\n",
    "def compute_test_statistic(r1, r2):\n",
    "    return (r1-r2) / (r1/t1 + r2/t2)**0.5\n",
    "\n",
    "compute_test_statistic(r1, r2)"
   ]
  }
 ],
 "metadata": {
  "kernelspec": {
   "display_name": "100_statistical_tests_-_gopal_kanji-JR8uAaSp-py3.12",
   "language": "python",
   "name": "python3"
  },
  "language_info": {
   "codemirror_mode": {
    "name": "ipython",
    "version": 3
   },
   "file_extension": ".py",
   "mimetype": "text/x-python",
   "name": "python",
   "nbconvert_exporter": "python",
   "pygments_lexer": "ipython3",
   "version": "3.12.2"
  }
 },
 "nbformat": 4,
 "nbformat_minor": 2
}
