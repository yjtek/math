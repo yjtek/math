{
 "cells": [
  {
   "cell_type": "markdown",
   "metadata": {},
   "source": [
    "# Test 30: Dunnett’s test for comparing K treatments with a control"
   ]
  },
  {
   "cell_type": "markdown",
   "metadata": {},
   "source": [
    "## Objective"
   ]
  },
  {
   "cell_type": "markdown",
   "metadata": {},
   "source": [
    "- You have $K$ treatments and 1 control\n",
    "- Which of the treatment means differ significantly from the control?"
   ]
  },
  {
   "cell_type": "markdown",
   "metadata": {},
   "source": [
    "## Assumptions"
   ]
  },
  {
   "cell_type": "markdown",
   "metadata": {},
   "source": [
    "- The $K+1$ samples all have the same size $n$\n",
    "- The samples are all independent\n",
    "- The samples are all from normally distributed populations\n",
    "- The samples all have equal variances"
   ]
  },
  {
   "cell_type": "markdown",
   "metadata": {},
   "source": [
    "## Method"
   ]
  },
  {
   "cell_type": "markdown",
   "metadata": {},
   "source": [
    "- You have $K$ treatment samples and 1 control sample\n",
    "\n",
    "- Let $S_0$ be the control sample, and $S_1 ... S_K$ be the treatment samples\n",
    "\n",
    "- Compute the within group sum of squares for all samples $S_i^2$\n",
    "$$\\begin{aligned}\n",
    "    S_i^2 &= (\\sum x_i - \\bar{x_i})^2\n",
    "\\end{aligned}$$\n",
    "\n",
    "- Then, compute the overall variance in then $K+1$ groups as\n",
    "$$\\begin{aligned}\n",
    "    S_W^2 &= \\frac{S_0^2 + S_1^2 + ... S_K^2}{n(K+1) - K - 1}\n",
    "\\end{aligned}$$\n",
    "\n",
    "- Compute the standard deviation of the differences between treatment means and control means $S(\\bar{d})$\n",
    "$$\\begin{aligned}\n",
    "    S(\\bar{d}) &= \\sqrt{\\frac{2 S_W^2}{n}}\n",
    "\\end{aligned}$$\n",
    "\n",
    "- Next, compute the quotient $D_j$ for each sample. This is your test statistic\n",
    "$$\\begin{aligned}\n",
    "    D_j &= \\frac{\\bar{x_j} - \\bar{x_0}}{S(\\bar{d})} \\quad \\forall j \\in [1, K]\n",
    "\\end{aligned}$$\n",
    "\n",
    "- Compare each $D_j$ with the critical values found in the Dunnett distribution (Table 11)\n",
    "\n",
    "- The degrees of freedom $\\nu = K * n$"
   ]
  },
  {
   "cell_type": "markdown",
   "metadata": {},
   "source": [
    "## Proof that Dunnett distribution is met for given $\\nu$ and $K$"
   ]
  },
  {
   "cell_type": "markdown",
   "metadata": {},
   "source": [
    "- Let's assume $K = 4$\n",
    "- Let's assume $n = 30$, so $\\nu = 120$\n",
    "- Then, the critical value of $\\alpha=0.05$ is 2.18\n",
    "- Let's prove this"
   ]
  },
  {
   "cell_type": "code",
   "execution_count": 4,
   "metadata": {},
   "outputs": [],
   "source": [
    "import numpy as np\n",
    "import scipy \n",
    "import matplotlib.pyplot as plt\n",
    "import seaborn as sns"
   ]
  },
  {
   "cell_type": "code",
   "execution_count": 413,
   "metadata": {},
   "outputs": [],
   "source": [
    "K = 4\n",
    "MEAN = [5] * (K+1)\n",
    "SIGMA = [2] * (K+1)\n",
    "SAMPLE_SIZE = [25] * (K+1)\n",
    "\n",
    "CRITICAL_VALUE_5PCT = 2.18\n",
    "# CRITICAL_VALUE_5PCT = 2.23\n",
    "DEGREES_OF_FREEDOM = np.sum(SAMPLE_SIZE) - (K+1)\n",
    "\n",
    "def get_test_statistic():\n",
    "    samples = [np.random.normal(x,y,z) for x,y,z in zip(MEAN, SIGMA, SAMPLE_SIZE)]\n",
    "    sample_means = [np.mean(x) for x in samples]\n",
    "    sum_squares_within_group = [np.sum((x - np.mean(x))**2) for x in samples]\n",
    "    \n",
    "    # mean_squares_within_group = np.sum(sum_squares_within_group) / ((SAMPLE_SIZE[0]-1) * (K-1))\n",
    "    mean_squares_within_group = np.sum(sum_squares_within_group) / DEGREES_OF_FREEDOM\n",
    "    \n",
    "    sd_bar = np.sqrt((2 * mean_squares_within_group)/SAMPLE_SIZE[0])\n",
    "    quotients = [(x - sample_means[0])/sd_bar for x in sample_means[1:]]\n",
    "    any_value_exceeds_critical_value = any([x > CRITICAL_VALUE_5PCT for x in quotients])\n",
    "    # any_value_exceeds_critical_value = len([x for x in quotients if x > CRITICAL_VALUE_5PCT])\n",
    "\n",
    "    return any_value_exceeds_critical_value"
   ]
  },
  {
   "cell_type": "code",
   "execution_count": 421,
   "metadata": {},
   "outputs": [],
   "source": [
    "test_statistic_distribution = [get_test_statistic() for _ in range(3_000)]\n",
    "np.mean(test_statistic_distribution)\n",
    "\n",
    "# test_statistic_distribution = [get_test_statistic() for _ in range(3_000)]\n",
    "# np.sum(test_statistic_distribution) / (3_000*K)"
   ]
  }
 ],
 "metadata": {
  "kernelspec": {
   "display_name": "100_statistical_tests_-_gopal_kanji-JR8uAaSp-py3.12",
   "language": "python",
   "name": "python3"
  },
  "language_info": {
   "codemirror_mode": {
    "name": "ipython",
    "version": 3
   },
   "file_extension": ".py",
   "mimetype": "text/x-python",
   "name": "python",
   "nbconvert_exporter": "python",
   "pygments_lexer": "ipython3",
   "version": "3.12.2"
  }
 },
 "nbformat": 4,
 "nbformat_minor": 2
}
