{
 "cells": [
  {
   "cell_type": "markdown",
   "metadata": {},
   "source": [
    "# Test 8: t-test for two population means (variances unknown but equal)"
   ]
  },
  {
   "cell_type": "markdown",
   "metadata": {},
   "source": [
    "## Objective"
   ]
  },
  {
   "cell_type": "markdown",
   "metadata": {},
   "source": [
    "- To investigate the significance of the difference between the means of two populations."
   ]
  },
  {
   "cell_type": "markdown",
   "metadata": {},
   "source": [
    "## Assumptions"
   ]
  },
  {
   "cell_type": "markdown",
   "metadata": {},
   "source": [
    "- Assume variance of both populations are equal\n",
    "- If the variance is known, use **Test 2: Z-test for two population means**\n",
    "- The test is accurate only if the populations are normally distributed. \n",
    "    - If the populations are not normal, the test will give an approximate guide"
   ]
  },
  {
   "cell_type": "markdown",
   "metadata": {},
   "source": [
    "## Method"
   ]
  },
  {
   "cell_type": "markdown",
   "metadata": {},
   "source": [
    "- Assume you have 2 populations with means $mu_1$ and $mu_2$\n",
    "- I take samples of both populations of size $n_1$ and $n_2$\n",
    "- From this, I compute the sample means $\\bar{x_1}$ and $\\bar{x_2}$\n",
    "- For the sample, I compute the sum of squared differences for each population\n",
    "$$\\begin{aligned}\n",
    "    s_1^2 &= \\sum_{i=1}^{n_1} (x_i - \\bar{x_1})^2 \\\\\n",
    "    s_2^2 &= \\sum_{i=1}^{n_2} (x_i - \\bar{x_2})^2 \\\\\n",
    "\\end{aligned}$$\n",
    "\n",
    "- Using these, we compute a pooled estimate of population variance\n",
    "$$\\begin{aligned}\n",
    "    s^2 &= \\frac{[(n_1 - 1) \\cdot s_1^2 + (n_2 - 1) \\cdot s_2^2]}{n_1 + n_2 - 2}\n",
    "\\end{aligned}$$\n",
    "\n",
    "- Finally, we can compute the test statistic as\n",
    "$$\\begin{aligned}\n",
    "    t &= \\frac{(\\bar{x_1} - \\bar{x_2}) - (\\mu_1 - \\mu_2)}{s \\cdot \\sqrt{\\frac{1}{n_1} + \\frac{1}{n_2}}}\n",
    "\\end{aligned}$$"
   ]
  },
  {
   "cell_type": "markdown",
   "metadata": {},
   "source": [
    "## Example"
   ]
  },
  {
   "cell_type": "markdown",
   "metadata": {},
   "source": [
    "- Problem\n",
    "    - Two snack foods are made and sold in 30 gm packets. \n",
    "    - Samples of size $n_1=12, n_2=12$ are taken from two production lines of each snack food and means $\\mu_1, \\mu_2$ and sum of squared differences $s_1, s_2$ obtained (see formulas above)\n",
    "    - From these, it is found that \n",
    "        - $\\bar{x_1} = 31.75$\n",
    "        - $s_1^2 = 112.25$ \n",
    "        - $\\bar{x_2} = 28.67$\n",
    "        - $s_2^2 = 66.64$ \n",
    "\n",
    "- Question\n",
    "    - Do the 2 processes produce outputs of the same weight?\n",
    "    - Is process 1 producing heavier/lighter products?"
   ]
  },
  {
   "cell_type": "code",
   "execution_count": 7,
   "metadata": {},
   "outputs": [
    {
     "name": "stdout",
     "output_type": "stream",
     "text": [
      "degrees_of_freedom=22\n"
     ]
    },
    {
     "data": {
      "text/plain": [
       "0.7977160084385088"
      ]
     },
     "execution_count": 7,
     "metadata": {},
     "output_type": "execute_result"
    }
   ],
   "source": [
    "n1 = n2 = 12\n",
    "mu1=mu2=30\n",
    "xbar1 = 31.75\n",
    "xbar2 = 28.67\n",
    "s1_sq = 112.25\n",
    "s2_sq = 66.64\n",
    "degrees_of_freedom = n1 + n2 - 2\n",
    "\n",
    "def compute_pooled_variance(n1, n2, s1_sq, s2_sq):\n",
    "    return (((n1-1) * s1_sq) + ((n2-1) * s2_sq))/(n1 + n2 - 2)\n",
    "\n",
    "s_sq = compute_pooled_variance(n1, n2, s1_sq, s2_sq)\n",
    "\n",
    "def compute_test_statistic(xbar1, xbar2, mu1, mu2, n1, n2, s_sq):\n",
    "    return ((xbar1 - xbar2) - (mu1 - mu2)) / (s_sq * (1/n1 + 1/n2))**0.5\n",
    "\n",
    "print(f'{degrees_of_freedom=}')\n",
    "compute_test_statistic(xbar1, xbar2, mu1, mu2, n1, n2, s_sq)"
   ]
  },
  {
   "cell_type": "code",
   "execution_count": null,
   "metadata": {},
   "outputs": [],
   "source": []
  }
 ],
 "metadata": {
  "kernelspec": {
   "display_name": "100_statistical_tests_-_gopal_kanji-JR8uAaSp-py3.12",
   "language": "python",
   "name": "python3"
  },
  "language_info": {
   "codemirror_mode": {
    "name": "ipython",
    "version": 3
   },
   "file_extension": ".py",
   "mimetype": "text/x-python",
   "name": "python",
   "nbconvert_exporter": "python",
   "pygments_lexer": "ipython3",
   "version": "3.12.2"
  }
 },
 "nbformat": 4,
 "nbformat_minor": 2
}
