{
 "cells": [
  {
   "cell_type": "markdown",
   "metadata": {},
   "source": [
    "# Test 8: t-test for two population means (variances unknown but equal)"
   ]
  },
  {
   "cell_type": "markdown",
   "metadata": {},
   "source": [
    "## Objective"
   ]
  },
  {
   "cell_type": "markdown",
   "metadata": {},
   "source": [
    "- To investigate the significance of the difference between the means of two populations."
   ]
  },
  {
   "cell_type": "markdown",
   "metadata": {},
   "source": [
    "## Assumptions"
   ]
  },
  {
   "cell_type": "markdown",
   "metadata": {},
   "source": [
    "- Assume variance of both populations are equal\n",
    "- If the variance is known, use **Test 2: Z-test for two population means**\n",
    "- The test is accurate only if the populations are normally distributed. \n",
    "    - If the populations are not normal, the test will give an approximate guide"
   ]
  },
  {
   "cell_type": "markdown",
   "metadata": {},
   "source": [
    "## Method"
   ]
  },
  {
   "cell_type": "markdown",
   "metadata": {},
   "source": [
    "- Assume you have 2 populations with means $mu_1$ and $mu_2$\n",
    "- I take samples of both populations of size $n_1$ and $n_2$\n",
    "- From this, I compute the sample means $\\bar{x_1}$ and $\\bar{x_2}$\n",
    "- For the sample, I compute the sum of squared differences for each population\n",
    "$$\\begin{aligned}\n",
    "    s_1^2 &= \\frac{\\sum_{i=1}^{n_1} (x_i - \\bar{x_1})^2}{n-1} \\\\\n",
    "    s_2^2 &= \\frac{\\sum_{i=1}^{n_2} (x_i - \\bar{x_2})^2}{n-1} \\\\\n",
    "\\end{aligned}$$\n",
    "\n",
    "- Using these, we compute a pooled estimate of population variance\n",
    "$$\\begin{aligned}\n",
    "    s^2 &= \\frac{[(n_1 - 1) \\cdot s_1^2 + (n_2 - 1) \\cdot s_2^2]}{n_1 + n_2 - 2}\n",
    "\\end{aligned}$$\n",
    "\n",
    "- Finally, we can compute the test statistic as\n",
    "$$\\begin{aligned}\n",
    "    t &= \\frac{(\\bar{x_1} - \\bar{x_2}) - (\\mu_1 - \\mu_2)}{s \\cdot \\sqrt{\\frac{1}{n_1} + \\frac{1}{n_2}}}\n",
    "\\end{aligned}$$"
   ]
  },
  {
   "cell_type": "markdown",
   "metadata": {},
   "source": [
    "## Example"
   ]
  },
  {
   "cell_type": "markdown",
   "metadata": {},
   "source": [
    "- Problem\n",
    "    - Two snack foods are made and sold in 30 gm packets. \n",
    "    - Samples of size $n_1=12, n_2=12$ are taken from two production lines of each snack food and means $\\mu_1, \\mu_2$ and sum of squared differences $s_1, s_2$ obtained (see formulas above)\n",
    "    - From these, it is found that \n",
    "        - $\\bar{x_1} = 31.75$\n",
    "        - $s_1^2 = 112.25$ \n",
    "        - $\\bar{x_2} = 28.67$\n",
    "        - $s_2^2 = 66.64$ \n",
    "\n",
    "- Question\n",
    "    - Do the 2 processes produce outputs of the same weight?\n",
    "    - Is process 1 producing heavier/lighter products?"
   ]
  },
  {
   "cell_type": "code",
   "execution_count": 7,
   "metadata": {},
   "outputs": [
    {
     "name": "stdout",
     "output_type": "stream",
     "text": [
      "degrees_of_freedom=22\n"
     ]
    },
    {
     "data": {
      "text/plain": [
       "0.7977160084385088"
      ]
     },
     "execution_count": 7,
     "metadata": {},
     "output_type": "execute_result"
    }
   ],
   "source": [
    "n1 = n2 = 12\n",
    "mu1=mu2=30\n",
    "xbar1 = 31.75\n",
    "xbar2 = 28.67\n",
    "s1_sq = 112.25\n",
    "s2_sq = 66.64\n",
    "degrees_of_freedom = n1 + n2 - 2\n",
    "\n",
    "def compute_pooled_variance(n1, n2, s1_sq, s2_sq):\n",
    "    return (((n1-1) * s1_sq) + ((n2-1) * s2_sq))/(n1 + n2 - 2)\n",
    "\n",
    "s_sq = compute_pooled_variance(n1, n2, s1_sq, s2_sq)\n",
    "\n",
    "def compute_test_statistic(xbar1, xbar2, mu1, mu2, n1, n2, s_sq):\n",
    "    return ((xbar1 - xbar2) - (mu1 - mu2)) / (s_sq * (1/n1 + 1/n2))**0.5\n",
    "\n",
    "print(f'{degrees_of_freedom=}')\n",
    "compute_test_statistic(xbar1, xbar2, mu1, mu2, n1, n2, s_sq)"
   ]
  },
  {
   "cell_type": "markdown",
   "metadata": {},
   "source": [
    "## Proof by simulation that test statistic is t-distribution"
   ]
  },
  {
   "cell_type": "code",
   "execution_count": 23,
   "metadata": {},
   "outputs": [],
   "source": [
    "import numpy as np\n",
    "import matplotlib.pyplot as plt\n",
    "import seaborn as sns\n",
    "\n",
    "## Assume equal mean and variance under null hypothesis\n",
    "POPULATION_MEAN_1 = 5\n",
    "POPULATION_MEAN_2 = 5\n",
    "UNKNOWN_POPULATION_SIGMA_1 = 2\n",
    "UNKNOWN_POPULATION_SIGMA_2 = 2\n",
    "SAMPLE_SIZE_1 = 100\n",
    "SAMPLE_SIZE_2 = 234\n",
    "\n",
    "def compute_sample_mean_and_variance(population_mean, unknown_population_sigma, sample_size):\n",
    "    sample = np.random.normal(population_mean, unknown_population_sigma, sample_size)\n",
    "    \n",
    "    sample_mean = np.mean(sample)\n",
    "    sample_variance = np.sum((sample - sample_mean)**2)/(sample_size-1)\n",
    "\n",
    "    return sample_mean, sample_variance\n",
    "\n",
    "def compute_pooled_population_variance(sample_variance_1, sample_variance_2, sample_size_1, sample_size_2):\n",
    "    return (\n",
    "        (((sample_size_1 - 1) * sample_variance_1) + ((sample_size_2 - 1) * sample_variance_2)) / (sample_size_1 + sample_size_2 - 2)\n",
    "    )\n",
    "\n",
    "tuples_1 = [compute_sample_mean_and_variance(POPULATION_MEAN_1, UNKNOWN_POPULATION_SIGMA_1, SAMPLE_SIZE_1) for _ in range(10_000)]\n",
    "\n",
    "tuples_2 = [compute_sample_mean_and_variance(POPULATION_MEAN_2, UNKNOWN_POPULATION_SIGMA_2, SAMPLE_SIZE_2) for _ in range(10_000)]\n",
    "\n",
    "sample_means_1 = np.array([x[0] for x in tuples_1])\n",
    "sample_variance_1 = np.array([x[1] for x in tuples_1])\n",
    "sample_means_2 = np.array([x[0] for x in tuples_2])\n",
    "sample_variance_2 = np.array([x[1] for x in tuples_2])\n",
    "\n",
    "S_SQ = compute_pooled_population_variance(sample_variance_1, sample_variance_2, SAMPLE_SIZE_1, SAMPLE_SIZE_2)"
   ]
  },
  {
   "cell_type": "code",
   "execution_count": 22,
   "metadata": {},
   "outputs": [
    {
     "name": "stdout",
     "output_type": "stream",
     "text": [
      "0.01495123182564589\n",
      "0.9965888362462519\n"
     ]
    },
    {
     "data": {
      "text/plain": [
       "<matplotlib.legend.Legend at 0x31c455550>"
      ]
     },
     "execution_count": 22,
     "metadata": {},
     "output_type": "execute_result"
    },
    {
     "data": {
      "image/png": "[encoded data removed]",
      "text/plain": [
       "<Figure size 640x480 with 1 Axes>"
      ]
     },
     "metadata": {},
     "output_type": "display_data"
    }
   ],
   "source": [
    "test_statistic_distribution = (\n",
    "    ((sample_means_1 - sample_means_2) - (POPULATION_MEAN_1 - POPULATION_MEAN_2)) / (S_SQ**0.5 * (1/SAMPLE_SIZE_1 + 1/SAMPLE_SIZE_2)**0.5)\n",
    ")\n",
    "\n",
    "degrees_of_freedom = SAMPLE_SIZE_1+SAMPLE_SIZE_2-2\n",
    "true_students_t_distribution = np.random.standard_t(degrees_of_freedom, 10_000)\n",
    "\n",
    "print(test_statistic_distribution.mean())\n",
    "print(test_statistic_distribution.var())\n",
    "sns.kdeplot(test_statistic_distribution, label='test statistic')\n",
    "sns.kdeplot(true_students_t_distribution, label=\"true student's t distribution\")\n",
    "plt.legend()\n",
    "# test_statistic_distribution"
   ]
  },
  {
   "cell_type": "code",
   "execution_count": null,
   "metadata": {},
   "outputs": [],
   "source": []
  }
 ],
 "metadata": {
  "kernelspec": {
   "display_name": "100_statistical_tests_-_gopal_kanji-JR8uAaSp-py3.12",
   "language": "python",
   "name": "python3"
  },
  "language_info": {
   "codemirror_mode": {
    "name": "ipython",
    "version": 3
   },
   "file_extension": ".py",
   "mimetype": "text/x-python",
   "name": "python",
   "nbconvert_exporter": "python",
   "pygments_lexer": "ipython3",
   "version": "3.12.2"
  }
 },
 "nbformat": 4,
 "nbformat_minor": 2
}
