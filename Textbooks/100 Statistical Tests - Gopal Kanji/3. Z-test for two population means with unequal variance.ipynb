{
 "cells": [
  {
   "cell_type": "markdown",
   "metadata": {},
   "source": [
    "# 3. Z -test for two population means (variances known and unequal)"
   ]
  },
  {
   "cell_type": "markdown",
   "metadata": {},
   "source": [
    "## Objective"
   ]
  },
  {
   "cell_type": "markdown",
   "metadata": {},
   "source": [
    "- To investigate the significance of the difference between the means of two populations.\n",
    "\n",
    "- In layman's terms\n",
    "    - We know that the difference between 2 population means is some value\n",
    "    - Has that difference changed based on the sample means we have?"
   ]
  },
  {
   "cell_type": "markdown",
   "metadata": {},
   "source": [
    "## Assumptions"
   ]
  },
  {
   "cell_type": "markdown",
   "metadata": {},
   "source": [
    "- Variances $\\sigma_1^2, \\sigma_2^2$ are known for both populations\n",
    "- The populations are normally distributed \n",
    "    - If not normal, the test may be regarded as approximate\n",
    "- Sample sizes (both $n_1$ and $n_2$) are sufficiently large for central limit theorem assumption to hold\n",
    "- All observations in the samples are i.i.d"
   ]
  },
  {
   "cell_type": "markdown",
   "metadata": {},
   "source": [
    "## Method"
   ]
  },
  {
   "cell_type": "markdown",
   "metadata": {},
   "source": [
    "- Assume 2 populations with means $\\mu_1, \\mu_2$ and standard deviations $\\sigma_1, \\sigma_2$\n",
    "- We take independent samples of sizes $n_1, n_2$ from each population\n",
    "- Using this, we compute sample means $\\bar{x_1}, \\bar{x_2}$\n",
    "- The test statistic is $$Z = \\frac{(\\bar{x_1} - \\bar{x_2}) - (\\mu_1 - \\mu_2)}{\\sqrt{(\\frac{\\sigma_1^2}{n_1} + \\frac{\\sigma_2^2}{n_2})}}$$\n",
    "\n",
    "- As with `Test 1` and `Test 2` $Z$ follows a Gaussian distribution"
   ]
  },
  {
   "cell_type": "markdown",
   "metadata": {},
   "source": [
    "### Proof that Z is a gaussian distribution"
   ]
  },
  {
   "cell_type": "markdown",
   "metadata": {},
   "source": [
    "- See Proof section in `Test 2`, follows the same logic"
   ]
  },
  {
   "cell_type": "markdown",
   "metadata": {},
   "source": [
    "## Example"
   ]
  },
  {
   "cell_type": "markdown",
   "metadata": {},
   "source": [
    "- Problem \n",
    "    - Brand A of a jumbo-sized pack of potato crisp is known to have a more variable weight than brand B of potato crisp. \n",
    "    - Population variances are 0.000576 gm2 and 0.001089 gm2 respectively. \n",
    "    - Means are 80.02 gm and 79.98 gm respectively\n",
    "    - Sample sizes are 13 and 8 respectively\n",
    "    - The implication is that the population has the same mean for both brands\n",
    "\n",
    "- Question\n",
    "    - Is there a difference between the two brands in terms of the weights of the jumbo packs? \n",
    "        - 2.98 > 1.645, so reject null that the difference between two means are unchanged\n",
    "    - Has the difference in weights between brand A and B gone up?\n",
    "        - 2.98 > 1.96, so reject null that it has not gone up\n",
    "    - Has the difference in weights between brand A and B gone down?\n",
    "        - 2.98 > -1.96, so do not reject null that it is not changed\n",
    "    "
   ]
  },
  {
   "cell_type": "code",
   "execution_count": 2,
   "metadata": {},
   "outputs": [
    {
     "data": {
      "text/plain": [
       "2.977846975345824"
      ]
     },
     "execution_count": 2,
     "metadata": {},
     "output_type": "execute_result"
    }
   ],
   "source": [
    "mu1 = 80\n",
    "mu2 = 80\n",
    "sigma1 = 0.000576**0.5\n",
    "sigma2 = 0.001089**0.5\n",
    "n1 = 13\n",
    "n2 = 8\n",
    "xbar1 = 80.02\n",
    "xbar2 = 79.98\n",
    "\n",
    "def compute_test_statistic(mu1, mu2, sigma1, sigma2, n1, n2, xbar1, xbar2):\n",
    "    return ((xbar1 - xbar2) - (mu1 - mu2)) / ((sigma1**2 / n1) + (sigma2**2 / n2))**0.5\n",
    "\n",
    "compute_test_statistic(mu1, mu2, sigma1, sigma2, n1, n2, xbar1, xbar2)"
   ]
  },
  {
   "cell_type": "code",
   "execution_count": null,
   "metadata": {},
   "outputs": [],
   "source": []
  }
 ],
 "metadata": {
  "kernelspec": {
   "display_name": "100_statistical_tests_-_gopal_kanji-JR8uAaSp-py3.12",
   "language": "python",
   "name": "python3"
  },
  "language_info": {
   "codemirror_mode": {
    "name": "ipython",
    "version": 3
   },
   "file_extension": ".py",
   "mimetype": "text/x-python",
   "name": "python",
   "nbconvert_exporter": "python",
   "pygments_lexer": "ipython3",
   "version": "3.12.2"
  }
 },
 "nbformat": 4,
 "nbformat_minor": 2
}
