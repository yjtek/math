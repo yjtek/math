{
 "cells": [
  {
   "cell_type": "markdown",
   "metadata": {},
   "source": [
    "# Test 14: Z-test for two correlation coefficients"
   ]
  },
  {
   "cell_type": "markdown",
   "metadata": {},
   "source": [
    "## Objective"
   ]
  },
  {
   "cell_type": "markdown",
   "metadata": {},
   "source": [
    "- To investigate the significance of the difference between the correlation coefficients for a pair of variables occurring from two different samples and the difference between two specified values $\\rho_1$ and $\\rho_2$"
   ]
  },
  {
   "cell_type": "markdown",
   "metadata": {},
   "source": [
    "## Assumptions"
   ]
  },
  {
   "cell_type": "markdown",
   "metadata": {},
   "source": [
    "- $x$ and $y$ values originate from normal distributions\n",
    "- $Var[y] \\perp x$\n",
    "- $x$ and $y$ have a linear relationship"
   ]
  },
  {
   "cell_type": "markdown",
   "metadata": {},
   "source": [
    "## Method"
   ]
  },
  {
   "cell_type": "markdown",
   "metadata": {},
   "source": [
    "- Recall the following definitions from `Test 12` and `Test 13`:\n",
    "    - $r$: Correlation coefficient\n",
    "    - $Z_1$: Fisher Z transformation of the correlation coefficient (to turn [-1,+1] bounded correlation into normal distribution)\n",
    "    - Under the null hypothesis that $r = \\rho$, we expect that the test statistic $Z_1 \\sim N(\\mu_Z, \\sigma_Z)$ where\n",
    "        - $\\mu_Z = \\frac{1}{2} \\cdot \\ln{(\\frac{1 + \\rho}{1 - \\rho})}$\n",
    "        - $\\sigma_Z = \\frac{1}{\\sqrt{n - 3}}$\n",
    "    - $n$ is the number of samples taken of this correlation coefficient\n",
    "    \n",
    "$$\\begin{aligned}\n",
    "    r &= \\frac{\\sum (x_i - \\bar{x}) \\cdot (y_i - \\bar{y})}{\\sqrt{[\\sum (x_i - \\bar{x_i})^2 \\cdot \\sum (y_i - \\bar{y_i})^2]}} \\\\ \\\\\n",
    "\n",
    "    Z_1 &= 0.5 \\cdot \\ln({\\frac{1+r}{1-r}})\n",
    "\\end{aligned}$$\n",
    "    \n",
    "\n",
    "- In this case, we have 2 correlation coefficients to deal with, $r_1$ and $r_2$, and so 2 corresponding values of $Z_1$ and $Z_2$\n",
    "\n",
    "- Similar to `Test 3`, the test statistic is now\n",
    "$$\n",
    "    Z = \\frac{(Z_1 - Z_2) - (\\mu_{Z_1} - \\mu_{Z_2})}{\\sqrt{\\sigma_{Z_1}^2 + \\sigma_{Z_2}^2}}\n",
    "$$\n",
    "\n",
    "- Z follows a standard normal distribution"
   ]
  },
  {
   "cell_type": "markdown",
   "metadata": {},
   "source": [
    "## Example"
   ]
  },
  {
   "cell_type": "markdown",
   "metadata": {},
   "source": [
    "- Problem \n",
    "\n",
    "    - A market research company is keen to categorize a variety of brands of potato crisp based on the correlation coefficients of consumer preferences. \n",
    "\n",
    "    - The market research company has found that if consumers’ preferences for brands are similar then marketing programmes can be merged. \n",
    "\n",
    "    - Two brands of potato crisp are compared for two advertising regions. Panels are selected of sizes $n_1 = 28$ and $n_2 = 35$ for the two regions \n",
    "\n",
    "    - Correlation coefficients are $r_1 = 0.5$ and $r_2 = 0.3$\n",
    "\n",
    "- Question\n",
    "    - Are the two associations statistically different or can marketing programmes be merged?\n",
    "\n",
    " The calculated Z value\n",
    "is 0.8985 and the acceptance region for the null hypothesis is −1.96 < Z < 1.96.\n",
    "So we accept the null hypothesis and conclude that we can go ahead and merge the\n",
    "marketing programmes. This, of course, assumes that the correlation coefficient is a\n",
    "good measure to use for grouping market research programmes"
   ]
  },
  {
   "cell_type": "code",
   "execution_count": null,
   "metadata": {},
   "outputs": [],
   "source": []
  }
 ],
 "metadata": {
  "kernelspec": {
   "display_name": "100_statistical_tests_-_gopal_kanji-JR8uAaSp-py3.12",
   "language": "python",
   "name": "python3"
  },
  "language_info": {
   "name": "python",
   "version": "3.12.2"
  }
 },
 "nbformat": 4,
 "nbformat_minor": 2
}
