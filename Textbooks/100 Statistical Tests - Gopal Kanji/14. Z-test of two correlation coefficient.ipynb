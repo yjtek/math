{
 "cells": [
  {
   "cell_type": "markdown",
   "metadata": {},
   "source": [
    "# Test 14: Z-test for two correlation coefficients"
   ]
  },
  {
   "cell_type": "markdown",
   "metadata": {},
   "source": [
    "## Objective"
   ]
  },
  {
   "cell_type": "markdown",
   "metadata": {},
   "source": [
    "- To investigate the significance of the difference between the correlation coefficients for a pair of variables occurring from two different samples and the difference between two specified values $\\rho_1$ and $\\rho_2$"
   ]
  },
  {
   "cell_type": "markdown",
   "metadata": {},
   "source": [
    "## Assumptions"
   ]
  },
  {
   "cell_type": "markdown",
   "metadata": {},
   "source": [
    "- $x$ and $y$ values originate from normal distributions\n",
    "- $Var[y] \\perp x$\n",
    "- $x$ and $y$ have a linear relationship"
   ]
  },
  {
   "cell_type": "markdown",
   "metadata": {},
   "source": [
    "## Method"
   ]
  },
  {
   "cell_type": "markdown",
   "metadata": {},
   "source": [
    "- Recall the following definitions from `Test 12` and `Test 13`:\n",
    "    - $r$: Correlation coefficient\n",
    "    - $Z_1$: Fisher Z transformation of the correlation coefficient (to turn [-1,+1] bounded correlation into normal distribution)\n",
    "    - Under the null hypothesis that $r = \\rho$, we expect that the test statistic $Z_1 \\sim N(\\mu_Z, \\sigma_Z)$ where\n",
    "        - $\\mu_Z = \\frac{1}{2} \\cdot \\ln{(\\frac{1 + \\rho}{1 - \\rho})}$\n",
    "        - $\\sigma_Z = \\frac{1}{\\sqrt{n - 3}}$\n",
    "    - $n$ is the number of samples taken of this correlation coefficient\n",
    "    \n",
    "$$\\begin{aligned}\n",
    "    r &= \\frac{\\sum (x_i - \\bar{x}) \\cdot (y_i - \\bar{y})}{\\sqrt{[\\sum (x_i - \\bar{x_i})^2 \\cdot \\sum (y_i - \\bar{y_i})^2]}} \\\\ \\\\\n",
    "\n",
    "    Z_1 &= 0.5 \\cdot \\ln({\\frac{1+r}{1-r}})\n",
    "\\end{aligned}$$\n",
    "    \n",
    "\n",
    "- In this case, we have 2 correlation coefficients to deal with, $r_1$ and $r_2$, and so 2 corresponding values of $Z_1$ and $Z_2$\n",
    "\n",
    "- Similar to `Test 3`, the test statistic is now\n",
    "$$\n",
    "    Z = \\frac{(Z_1 - Z_2) - (\\mu_{Z_1} - \\mu_{Z_2})}{\\sqrt{\\sigma_{Z_1}^2 + \\sigma_{Z_2}^2}}\n",
    "$$\n",
    "\n",
    "- Z follows a standard normal distribution"
   ]
  },
  {
   "cell_type": "markdown",
   "metadata": {},
   "source": [
    "## Example"
   ]
  },
  {
   "cell_type": "markdown",
   "metadata": {},
   "source": [
    "- Problem \n",
    "\n",
    "    - A market research company is keen to categorize a variety of brands of potato crisp based on the correlation coefficients of consumer preferences. \n",
    "\n",
    "    - The market research company has found that if consumers’ preferences for brands are similar then marketing programmes can be merged. \n",
    "\n",
    "    - Two brands of potato crisp are compared for two advertising regions. Panels are selected of sizes $n_1 = 28$ and $n_2 = 35$ for the two regions \n",
    "\n",
    "    - Correlation coefficients are $r_1 = 0.5$ and $r_2 = 0.3$\n",
    "\n",
    "- Question\n",
    "    - Are the two associations statistically different or can marketing programmes be merged?\n"
   ]
  },
  {
   "cell_type": "code",
   "execution_count": 2,
   "metadata": {},
   "outputs": [
    {
     "data": {
      "text/plain": [
       "0.898322685179623"
      ]
     },
     "execution_count": 2,
     "metadata": {},
     "output_type": "execute_result"
    }
   ],
   "source": [
    "import numpy as np\n",
    "import seaborn as sns\n",
    "import matplotlib.pyplot as plt\n",
    "\n",
    "rho1 = rho2 = 0.5\n",
    "r1 = 0.5\n",
    "r2 = 0.3\n",
    "\n",
    "n1 = 28\n",
    "n2 = 35\n",
    "\n",
    "mu1 = 0.5 * np.log((1+rho1)/(1-rho1))\n",
    "mu2 = 0.5 * np.log((1+rho2)/(1-rho2))\n",
    "sigma1 = 1 / (n1-3)**0.5\n",
    "sigma2 = 1 / (n2-3)**0.5\n",
    "\n",
    "z1 = 0.5 * np.log((1+r1)/(1-r1))\n",
    "z2 = 0.5 * np.log((1+r2)/(1-r2))\n",
    "\n",
    "## Do not reject null that the correlations are equal\n",
    "test_statistic = ((z1 - z2) - (mu1 - mu2)) / (sigma1**2 + sigma2**2)**0.5\n",
    "test_statistic"
   ]
  },
  {
   "cell_type": "markdown",
   "metadata": {},
   "source": [
    "## Proof that test statistic is standard normal by simulation"
   ]
  },
  {
   "cell_type": "code",
   "execution_count": 3,
   "metadata": {},
   "outputs": [],
   "source": [
    "import numpy as np\n",
    "import seaborn as sns\n",
    "import matplotlib.pyplot as plt"
   ]
  },
  {
   "cell_type": "code",
   "execution_count": 66,
   "metadata": {},
   "outputs": [],
   "source": [
    "def generate_correlated_data(correlation):\n",
    "    '''\n",
    "    If you're not sure why this works, see `Test 13` under `Proof by simulation that test statistic is normal`\n",
    "    '''\n",
    "    X1_POPULATION = np.random.normal(0,20,10_000)\n",
    "    X2_POPULATION = (correlation * X1_POPULATION) + (((1 - correlation**2)**0.5) * np.random.normal(0,20,10_000))\n",
    "\n",
    "    # print(np.corrcoef(X1_POPULATION, X2_POPULATION))\n",
    "    assert(abs(np.corrcoef(X1_POPULATION, X2_POPULATION)[0,1] - correlation) < 0.05)\n",
    "    \n",
    "    return X1_POPULATION, X2_POPULATION\n",
    "\n",
    "def fisher_z_transform(correlation):\n",
    "    return 0.5 * np.log((1+correlation)/(1-correlation))\n",
    "\n",
    "X1_PLACE1_POPULATION, X2_PLACE1_POPULATION = generate_correlated_data(0.5)\n",
    "X1_PLACE2_POPULATION, X2_PLACE2_POPULATION = generate_correlated_data(0.3)\n",
    "\n",
    "SAMPLE_SIZE_1 = 50\n",
    "SAMPLE_SIZE_2 = 75\n",
    "RHO1 = RHO2 = 0.5\n",
    "\n",
    "def get_test_statistic():\n",
    "    sample_index1 = np.random.choice(range(len(X1_PLACE1_POPULATION)), SAMPLE_SIZE_1)\n",
    "    x11 = X1_PLACE1_POPULATION[sample_index1]\n",
    "    x21 = X2_PLACE1_POPULATION[sample_index1]\n",
    "    sample_corr1 = np.sum(\n",
    "        (x11 - np.mean(x11)) * (x21 - np.mean(x21))\n",
    "    ) / (\n",
    "        np.sum((x11 - np.mean(x11))**2) *\n",
    "        np.sum((x21 - np.mean(x21))**2)\n",
    "    )**0.5\n",
    "    mu1 = 0.5 * np.log((1+RHO1)/(1-RHO1))\n",
    "    sigma1 = 1 / (SAMPLE_SIZE_1 - 3)**0.5\n",
    "    z1 = fisher_z_transform(sample_corr1)\n",
    "\n",
    "    sample_index2 = np.random.choice(range(len(X1_PLACE2_POPULATION)), SAMPLE_SIZE_2)\n",
    "    x12 = X1_PLACE1_POPULATION[sample_index2]\n",
    "    x22 = X2_PLACE1_POPULATION[sample_index2]\n",
    "    sample_corr2 = np.sum(\n",
    "        (x12 - np.mean(x12)) * (x22 - np.mean(x22))\n",
    "    ) / (\n",
    "        np.sum((x12 - np.mean(x12))**2) *\n",
    "        np.sum((x22 - np.mean(x22))**2)\n",
    "    )**0.5\n",
    "    mu2 = 0.5 * np.log((1+RHO2)/(1-RHO2))\n",
    "    sigma2 = 1 / (SAMPLE_SIZE_2 - 3)**0.5\n",
    "    z2 = fisher_z_transform(sample_corr2)\n",
    "\n",
    "    test_statistic = (\n",
    "        (z1-z2) - (mu1 - mu2)\n",
    "    ) / (\n",
    "        (sigma1**2 + sigma2**2)**0.5\n",
    "    )\n",
    "    return test_statistic"
   ]
  },
  {
   "cell_type": "code",
   "execution_count": 68,
   "metadata": {},
   "outputs": [
    {
     "data": {
      "text/plain": [
       "<matplotlib.legend.Legend at 0x30eb63560>"
      ]
     },
     "execution_count": 68,
     "metadata": {},
     "output_type": "execute_result"
    },
    {
     "data": {
      "image/png": "[encoded data removed]",
      "text/plain": [
       "<Figure size 640x480 with 1 Axes>"
      ]
     },
     "metadata": {},
     "output_type": "display_data"
    }
   ],
   "source": [
    "test_statistic_distribution = [get_test_statistic() for _ in range(3_000)]\n",
    "true_normal_distribution = np.random.normal(0,1,10_000)\n",
    "\n",
    "sns.kdeplot(test_statistic_distribution, label='test statistic')\n",
    "sns.kdeplot(true_normal_distribution, label='true normal distribution')\n",
    "plt.legend()"
   ]
  }
 ],
 "metadata": {
  "kernelspec": {
   "display_name": "100_statistical_tests_-_gopal_kanji-JR8uAaSp-py3.12",
   "language": "python",
   "name": "python3"
  },
  "language_info": {
   "codemirror_mode": {
    "name": "ipython",
    "version": 3
   },
   "file_extension": ".py",
   "mimetype": "text/x-python",
   "name": "python",
   "nbconvert_exporter": "python",
   "pygments_lexer": "ipython3",
   "version": "3.12.2"
  }
 },
 "nbformat": 4,
 "nbformat_minor": 2
}
