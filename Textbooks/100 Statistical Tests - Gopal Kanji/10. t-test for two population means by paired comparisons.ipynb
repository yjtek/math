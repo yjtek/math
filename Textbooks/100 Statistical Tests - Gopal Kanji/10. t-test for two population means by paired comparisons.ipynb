{
 "cells": [
  {
   "cell_type": "markdown",
   "metadata": {},
   "source": [
    "# Test 10: t-test for two population means (method of paired comparisons)"
   ]
  },
  {
   "cell_type": "markdown",
   "metadata": {},
   "source": [
    "## Objective"
   ]
  },
  {
   "cell_type": "markdown",
   "metadata": {},
   "source": [
    "- To investigate the significance of the difference between two population means, $\\mu_1$ and $\\mu_2$. \n",
    "- No assumption is made about the population variances."
   ]
  },
  {
   "cell_type": "markdown",
   "metadata": {},
   "source": [
    "## Assumptions"
   ]
  },
  {
   "cell_type": "markdown",
   "metadata": {},
   "source": [
    "- The observations for the two samples must be obtained in pairs. Apart from population differences, the observations in each pair should be carried out under identical, or almost identical, conditions.\n",
    "- The test is accurate if the populations are normally distributed. \n",
    "    - If not normal, the test may be regarded as approximate"
   ]
  },
  {
   "cell_type": "markdown",
   "metadata": {},
   "source": [
    "## Method"
   ]
  },
  {
   "cell_type": "markdown",
   "metadata": {},
   "source": [
    "- The test statistic is computed based on the difference $d$ between random samples from both samples\n",
    "    - $d$ should be computed from **paired samples**; that is, samples obtained in pairs, under identical conditions, from different populations\n",
    "        - e.g. to compare the population of 2 species of migratory birds, you should count the number you see on the same day,\n",
    "\n",
    "- Let the means of the samples from either population be $\\bar{x_1}$ and $\\bar{x_2}$\n",
    "\n",
    "- Let's suppose we get $n$ such pairs of paired samples. Then we can compute the variance of the differences by taking\n",
    "$$\\begin{aligned}\n",
    "    s^2 &= \\sum_{i=1}^{n} \\frac{(d_i - \\bar{d})^2}{n-1}\n",
    "\\end{aligned}$$\n",
    "\n",
    "- Then, the test statistic is:\n",
    "\n",
    "$$\n",
    "    t = \\frac{\\bar{x_1} - \\bar{x_2}}{\\frac{s}{\\sqrt{n}}}\n",
    "$$\n",
    "\n",
    "- And the degree of freedom is simply $n-1$"
   ]
  },
  {
   "cell_type": "markdown",
   "metadata": {},
   "source": [
    "## Example"
   ]
  },
  {
   "cell_type": "markdown",
   "metadata": {},
   "source": [
    "- Problem\n",
    "    - We want to compare the efficacy of two treatments for a respiratory condition\n",
    "    - Choose sample of $n=10$ people to administer both treatments (at different times), to ensure that the physiological differences are minimised\n",
    "        - In this case, the effect $d$ is computed at the person level\n",
    "    - The patients then perform a treadmill exercise and until some maximum exercise rate is reached, and the times are compared.\n",
    "\n",
    "- Question\n",
    "    - Do these two treatments differ? (Two tail)\n",
    "    - Is treatment one better than treatment 2? (One tail)"
   ]
  },
  {
   "cell_type": "code",
   "execution_count": 2,
   "metadata": {},
   "outputs": [
    {
     "name": "stdout",
     "output_type": "stream",
     "text": [
      "degrees_of_freedom=9\n"
     ]
    },
    {
     "data": {
      "text/plain": [
       "-0.10904405724718537"
      ]
     },
     "execution_count": 2,
     "metadata": {},
     "output_type": "execute_result"
    }
   ],
   "source": [
    "xbar1 = 1.1\n",
    "xbar2 = 1.2\n",
    "n=10\n",
    "degrees_of_freedom=n-1\n",
    "dbar = xbar1 - xbar2\n",
    "s = 2.9\n",
    "\n",
    "def compute_critical_value(xbar1, xbar2, s, n):\n",
    "    return (xbar1 - xbar2) / (s/(n**0.5))\n",
    "\n",
    "print(f'{degrees_of_freedom=}')\n",
    "compute_critical_value(xbar1, xbar2, s, n)"
   ]
  }
 ],
 "metadata": {
  "kernelspec": {
   "display_name": "100_statistical_tests_-_gopal_kanji-JR8uAaSp-py3.12",
   "language": "python",
   "name": "python3"
  },
  "language_info": {
   "codemirror_mode": {
    "name": "ipython",
    "version": 3
   },
   "file_extension": ".py",
   "mimetype": "text/x-python",
   "name": "python",
   "nbconvert_exporter": "python",
   "pygments_lexer": "ipython3",
   "version": "3.12.2"
  }
 },
 "nbformat": 4,
 "nbformat_minor": 2
}
