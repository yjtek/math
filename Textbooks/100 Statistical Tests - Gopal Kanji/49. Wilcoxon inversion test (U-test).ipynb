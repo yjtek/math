{
 "cells": [
  {
   "cell_type": "markdown",
   "metadata": {},
   "source": [
    "# Test 49: Wilcoxon inversion test (U-test)"
   ]
  },
  {
   "cell_type": "markdown",
   "metadata": {},
   "source": [
    "## Objective"
   ]
  },
  {
   "cell_type": "markdown",
   "metadata": {},
   "source": [
    "- I have 2 samples from 2 populations\n",
    "- Do these 2 populations have the same frequency distribution?"
   ]
  },
  {
   "cell_type": "markdown",
   "metadata": {},
   "source": [
    "## Assumptions"
   ]
  },
  {
   "cell_type": "markdown",
   "metadata": {},
   "source": [
    "- The two frequency distributions are continuous \n",
    "- The two samples are random and independent"
   ]
  },
  {
   "cell_type": "markdown",
   "metadata": {},
   "source": [
    "## Method"
   ]
  },
  {
   "cell_type": "markdown",
   "metadata": {},
   "source": [
    "- Take 2 samples from 2 populations, of sizes $n_1$ and $n_2$ \n",
    "\n",
    "- Merge the 2 samples, and arrange in ascending order\n",
    "\n",
    "- Let $x = [1,3,5]$ and $y = [2,4,6]$\n",
    "\n",
    "- Then a combined and sorted array is simply $[1,2,3,4,5,6]$\n",
    "\n",
    "- `2` has an inversion value of 1, since it is larger than 1 value from $x$\n",
    "- `4` has an inversion value of 2, since it is larger than 2 values from $x$\n",
    "- `6` has an inversion value of 3, since it is larger than 3 values from $x$\n",
    "\n",
    "- All in all, this gives inversion count of $1+2+3 = 6$ \n",
    "- Thereby, noninversion value is $(n_1 * n_2) - 6 = 9 - 6 = 3$\n",
    "\n",
    "- The test statistic $U$ is $\\min({6,3})=3$\n",
    "\n",
    "- Check this against the Wilcoxon inversion test critical values (Table 20)"
   ]
  },
  {
   "cell_type": "markdown",
   "metadata": {},
   "source": [
    "## Proof"
   ]
  },
  {
   "cell_type": "code",
   "execution_count": 1,
   "metadata": {},
   "outputs": [],
   "source": [
    "import numpy as np\n",
    "import scipy\n",
    "import matplotlib.pyplot as plt\n",
    "import seaborn as sns"
   ]
  },
  {
   "cell_type": "code",
   "execution_count": 33,
   "metadata": {},
   "outputs": [],
   "source": [
    "sample_size = 5\n",
    "\n",
    "def get_test_statistic():\n",
    "    x = np.random.randint(1, 20, sample_size)\n",
    "    y = np.random.randint(1, 20, sample_size)\n",
    "    # x = np.array([1,3,5])\n",
    "    # y = np.array([2,4,6])\n",
    "\n",
    "    xsorted = np.sort(x)\n",
    "    ysorted = np.sort(y)\n",
    "    sorted_arr = np.array([])\n",
    "    inversion_count = 0\n",
    "\n",
    "    xpointer=0\n",
    "    ypointer=0\n",
    "    while (xpointer <= (len(x) - 1)) and (ypointer <= (len(y)-1)):\n",
    "        if xsorted[0] <= ysorted[0]:\n",
    "            if xsorted[xpointer] <= ysorted[ypointer]:\n",
    "                xpointer+=1\n",
    "                continue\n",
    "            \n",
    "            if ysorted[ypointer] < xsorted[xpointer]:\n",
    "                ypointer+=1\n",
    "                inversion_count+=xpointer\n",
    "                continue\n",
    "        else:\n",
    "            if xsorted[xpointer] <= ysorted[ypointer]:\n",
    "                xpointer+=1\n",
    "                inversion_count+=ypointer\n",
    "                continue\n",
    "            \n",
    "            if ysorted[ypointer] < xsorted[xpointer]:\n",
    "                ypointer+=1\n",
    "                continue\n",
    "\n",
    "    if (xsorted[0] <= ysorted[0]) & (xpointer > (len(x) - 1)):\n",
    "        inversion_count += (len(y) - (ypointer)) * len(x)\n",
    "    elif (xsorted[0] <= ysorted[0]) & (ypointer > (len(x) - 1)):\n",
    "        ...\n",
    "    elif (xsorted[0] > ysorted[0]) & (xpointer > (len(x) - 1)):\n",
    "        ...\n",
    "    elif (xsorted[0] > ysorted[0]) & (ypointer > (len(x) - 1)):\n",
    "        inversion_count += (len(x) - (xpointer)) * len(y)\n",
    "\n",
    "    non_inversion_count = (len(x) * len(y)) - inversion_count\n",
    "    test_statistic = min(inversion_count, non_inversion_count)\n",
    "    return test_statistic <= 2\n"
   ]
  },
  {
   "cell_type": "code",
   "execution_count": 47,
   "metadata": {},
   "outputs": [
    {
     "data": {
      "text/plain": [
       "0.035"
      ]
     },
     "execution_count": 47,
     "metadata": {},
     "output_type": "execute_result"
    }
   ],
   "source": [
    "np.mean([get_test_statistic() for _ in range(1_000)])"
   ]
  }
 ],
 "metadata": {
  "kernelspec": {
   "display_name": "100_statistical_tests_-_gopal_kanji-JR8uAaSp-py3.12",
   "language": "python",
   "name": "python3"
  },
  "language_info": {
   "codemirror_mode": {
    "name": "ipython",
    "version": 3
   },
   "file_extension": ".py",
   "mimetype": "text/x-python",
   "name": "python",
   "nbconvert_exporter": "python",
   "pygments_lexer": "ipython3",
   "version": "3.12.2"
  }
 },
 "nbformat": 4,
 "nbformat_minor": 2
}
