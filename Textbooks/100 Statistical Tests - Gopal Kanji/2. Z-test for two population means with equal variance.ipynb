{
 "cells": [
  {
   "cell_type": "markdown",
   "metadata": {},
   "source": [
    "# 2. Z-test for two population means (variances known and equal)"
   ]
  },
  {
   "cell_type": "markdown",
   "metadata": {},
   "source": [
    "## Objective"
   ]
  },
  {
   "cell_type": "markdown",
   "metadata": {},
   "source": [
    "- To investigate the significance of the difference between the means of two populations.\n",
    "\n",
    "- In layman terms, this test is asking:\n",
    "    - We know that there is some difference between 2 population means\n",
    "    - Has that difference changed?"
   ]
  },
  {
   "cell_type": "markdown",
   "metadata": {},
   "source": [
    "## Assumptions"
   ]
  },
  {
   "cell_type": "markdown",
   "metadata": {},
   "source": [
    "- Variance $\\sigma^2$ is equal for both populations\n",
    "- The populations are normally distributed \n",
    "    - If not normal, the test may be regarded as approximate\n",
    "- Sample sizes (both $n_1$ and $n_2$) are sufficiently large for central limit theorem assumption to hold\n",
    "- All observations in the samples are i.i.d"
   ]
  },
  {
   "cell_type": "markdown",
   "metadata": {},
   "source": [
    "## Method"
   ]
  },
  {
   "cell_type": "markdown",
   "metadata": {},
   "source": [
    "- Assume 2 populations with means $\\mu_1$ and $\\mu_2$\n",
    "- Take random samples from both populations of sizes $n_1$ and $n_2$\n",
    "- Using this, we find sample means $\\bar{X_1}$ and $\\bar{X_2}$\n",
    "- Then $$Z = \\frac{(\\bar{X_1} - \\bar{X_2}) - (\\mu_1 - \\mu_2)}{\\sigma (\\frac{1}{n_1} + \\frac{1}{n_2})} $$\n",
    "\n",
    "- As in the case of `Test 1`, the test statistic $Z$ will follow a standard normal distribution if the assumptions hold"
   ]
  },
  {
   "cell_type": "markdown",
   "metadata": {},
   "source": [
    "### Proof that Z is a gaussian distribution"
   ]
  },
  {
   "cell_type": "markdown",
   "metadata": {},
   "source": [
    "- By assumption, both $\\bar{X_1}$ and $\\bar{X_2}$ are normally distributed\n",
    "    - Therefore $\\bar{X_1} - \\bar{X_2}$ is also normally distributed\n",
    "    - Therefore, $Z$ is normally distributed\n",
    "\n",
    "$$\\begin{aligned}\n",
    "    E[Z] &= E[\\frac{(\\bar{X_1} - \\bar{X_2}) - (\\mu_1 - \\mu_2)}{\\sigma \\sqrt{(\\frac{1}{n_1} + \\frac{1}{n_2})}}] \\\\\n",
    "    &= \\frac{1}{\\sigma \\sqrt{(\\frac{1}{n_1} + \\frac{1}{n_2})}} \\cdot (E[(\\bar{X_1} - \\bar{X_2})] - (\\mu_1 - \\mu_2)) \\\\\n",
    "    &= \\frac{1}{\\sigma \\sqrt{(\\frac{1}{n_1} + \\frac{1}{n_2})}} \\cdot (E[\\bar{X_1}] - E[\\bar{X_2}] - (\\mu_1 - \\mu_2)) \\\\\n",
    "    &= \\frac{1}{\\sigma \\sqrt{(\\frac{1}{n_1} + \\frac{1}{n_2})}} \\cdot ((E[\\bar{X_1}] - \\mu_1) + (\\mu_2 - E[\\bar{X_2}])) \\\\\n",
    "    &= \\frac{1}{\\sigma \\sqrt{(\\frac{1}{n_1} + \\frac{1}{n_2})}} \\cdot (0 + 0) & E[\\bar{X_1}] = \\mu_1, E[\\bar{X_2}] = \\mu_2 \\text{ under null hypothesis that } \\mu_1 - \\mu_2 = 0\\\\\n",
    "    &= 0\n",
    "\n",
    "    \\\\ \\\\ \n",
    "\n",
    "    Var[Z] &= Var[\\frac{(\\bar{X_1} - \\bar{X_2}) - (\\mu_1 - \\mu_2)}{\\sigma \\sqrt{(\\frac{1}{n_1} + \\frac{1}{n_2})}}] \\\\\n",
    "    &= \\frac{1}{\\sigma^2 (\\frac{1}{n_1} + \\frac{1}{n_2})} Var[(\\bar{X_1} - \\bar{X_2}) - (\\mu_1 - \\mu_2)] \\\\\n",
    "    &= \\frac{1}{\\sigma^2 (\\frac{1}{n_1} + \\frac{1}{n_2})} \\cdot (Var[(\\bar{X_1} - \\bar{X_2})]) \\\\\n",
    "    &= \\frac{1}{\\sigma^2 (\\frac{1}{n_1} + \\frac{1}{n_2})} \\cdot (Var[\\bar{X_1}] + Var[\\bar{X_2}]) & Var[X+Y] = Var[X] + Var[Y] + 2 Cov[X,Y], Cov[X,Y] = 0 \\text{ by i.i.d} \\\\\n",
    "    &= \\frac{1}{\\sigma^2 (\\frac{1}{n_1} + \\frac{1}{n_2})} \\cdot (\\frac{\\sigma^2}{n_1}  + \\frac{\\sigma^2}{n_2}) \\\\\n",
    "    &= 1\n",
    "\\end{aligned}$$"
   ]
  },
  {
   "cell_type": "markdown",
   "metadata": {},
   "source": [
    "## Example"
   ]
  },
  {
   "cell_type": "markdown",
   "metadata": {},
   "source": [
    "- Problem\n",
    "    - Two teams of financial sales persons are compared to see if it is likely that the training each has received could have led to differing success rates. \n",
    "    - A sample of 9 transactions for team 1 yields an average success rate of 1.2. \n",
    "    - Similarly a sample of 16 transactions for team 2 yields a success rate of 1.7. \n",
    "    - The variances for both teams are equal to 2.0750 (standard deviation 1.4405).\n",
    "    - The success rate is calculated using a range of output measures for a transaction.\n",
    "    - It is implied that, in the absence of training, $\\mu_1 = \\mu_2$. Therefore, we compute the test statistic below with this assumption\n",
    "\n",
    "- Question\n",
    "    - Is there a difference between the two teams' performance?\n",
    "    - Is team 1 better than team 2 after training?\n",
    "    - Is team 2 better than team 1 after training?"
   ]
  },
  {
   "cell_type": "code",
   "execution_count": 19,
   "metadata": {},
   "outputs": [
    {
     "data": {
      "text/plain": [
       "-0.8330440819160013"
      ]
     },
     "execution_count": 19,
     "metadata": {},
     "output_type": "execute_result"
    }
   ],
   "source": [
    "mu1 = 1.2\n",
    "mu2 = 1.2\n",
    "xbar1 = 1.2\n",
    "xbar2 = 1.7\n",
    "\n",
    "# xbar1 = 1.0\n",
    "# xbar2 = 1.4\n",
    "# xbar1 = 1.0\n",
    "# xbar2 = 1.4\n",
    "sigma = 1.4405\n",
    "n1 = 9\n",
    "n2 = 16\n",
    "\n",
    "def compute_test_statistic(mu1, mu2, n1, n2, xbar1, xbar2, sigma):\n",
    "    return ((xbar1 - xbar2) - (mu1 - mu2)) / (sigma * (1/n1 + 1/n2)**0.5)\n",
    "\n",
    "compute_test_statistic(mu1, mu2, n1, n2, xbar1, xbar2, sigma)"
   ]
  },
  {
   "cell_type": "markdown",
   "metadata": {},
   "source": [
    "- Let $\\alpha = 0.05$\n",
    "- Two tailed test: -1.96 < -0.833 < 1.96\n",
    "    - Do not reject null hypothesis that the difference has not changed\n",
    "- One tailed test: -1.645 < -0.833\n",
    "    - Do not reject null hypothesis that the difference has not decreased\n",
    "- One tailed test: -0.833 < 1.645\n",
    "    - Do not reject null hypothesis that the difference has not increased"
   ]
  },
  {
   "cell_type": "markdown",
   "metadata": {},
   "source": []
  }
 ],
 "metadata": {
  "kernelspec": {
   "display_name": "100_statistical_tests_-_gopal_kanji-JR8uAaSp-py3.12",
   "language": "python",
   "name": "python3"
  },
  "language_info": {
   "codemirror_mode": {
    "name": "ipython",
    "version": 3
   },
   "file_extension": ".py",
   "mimetype": "text/x-python",
   "name": "python",
   "nbconvert_exporter": "python",
   "pygments_lexer": "ipython3",
   "version": "3.12.2"
  }
 },
 "nbformat": 4,
 "nbformat_minor": 2
}
