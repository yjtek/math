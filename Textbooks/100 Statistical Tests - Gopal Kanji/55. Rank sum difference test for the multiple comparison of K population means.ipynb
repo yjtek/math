{
 "cells": [
  {
   "cell_type": "markdown",
   "metadata": {},
   "source": [
    "# Test 55: The rank sum difference test for the multiple comparison of K population means"
   ]
  },
  {
   "cell_type": "markdown",
   "metadata": {},
   "source": [
    "## Objective"
   ]
  },
  {
   "cell_type": "markdown",
   "metadata": {},
   "source": [
    "- You have $K$ random samples (with multiple observations each)\n",
    "- Do they come from $K$ populations with the same mean?"
   ]
  },
  {
   "cell_type": "markdown",
   "metadata": {},
   "source": [
    "## Assumptions"
   ]
  },
  {
   "cell_type": "markdown",
   "metadata": {},
   "source": [
    "- The K samples must have the same size \n",
    "- The frequency distributions of the population are assumed continuous"
   ]
  },
  {
   "cell_type": "markdown",
   "metadata": {},
   "source": [
    "## Method"
   ]
  },
  {
   "cell_type": "markdown",
   "metadata": {},
   "source": [
    "- The $K$ samples are combined and sorted, then assigned a rank. \n",
    "- The largest value is assigned rank 1. \n",
    "- Compute the rank sum for each sample\n",
    "- The test statistic for 2 samples is $R_i - R_j$\n",
    "- The test statistic follows a the two-sided rank-sum difference test table (Table 23). If the test statistic exceeds the critical value, then the null hypothesis of equal means is rejected"
   ]
  },
  {
   "cell_type": "markdown",
   "metadata": {},
   "source": [
    "## Proof"
   ]
  },
  {
   "cell_type": "code",
   "execution_count": 1,
   "metadata": {},
   "outputs": [],
   "source": [
    "import numpy as np\n",
    "import scipy\n",
    "import matplotlib.pyplot as plt\n",
    "import seaborn as sns"
   ]
  },
  {
   "cell_type": "code",
   "execution_count": 8,
   "metadata": {},
   "outputs": [],
   "source": [
    "K = 5\n",
    "sample_size=25\n",
    "\n",
    "def get_test_statistic():\n",
    "    samples = np.random.normal(10,5,K*sample_size).reshape(K, sample_size)\n",
    "    ranks = samples.reshape(-1).argsort().argsort().reshape(K, sample_size)\n",
    "    rank_sums = np.sum(ranks, axis=1)\n",
    "    test_statistic = rank_sums[0] - rank_sums[1]\n",
    "    return test_statistic"
   ]
  },
  {
   "cell_type": "code",
   "execution_count": 18,
   "metadata": {},
   "outputs": [
    {
     "data": {
      "text/plain": [
       "415.0"
      ]
     },
     "execution_count": 18,
     "metadata": {},
     "output_type": "execute_result"
    }
   ],
   "source": [
    "test_statistic_distribution = [get_test_statistic() for _ in range(3_000)]\n",
    "np.percentile(test_statistic_distribution, 95)"
   ]
  }
 ],
 "metadata": {
  "kernelspec": {
   "display_name": "100_statistical_tests_-_gopal_kanji-JR8uAaSp-py3.12",
   "language": "python",
   "name": "python3"
  },
  "language_info": {
   "codemirror_mode": {
    "name": "ipython",
    "version": 3
   },
   "file_extension": ".py",
   "mimetype": "text/x-python",
   "name": "python",
   "nbconvert_exporter": "python",
   "pygments_lexer": "ipython3",
   "version": "3.12.2"
  }
 },
 "nbformat": 4,
 "nbformat_minor": 2
}
