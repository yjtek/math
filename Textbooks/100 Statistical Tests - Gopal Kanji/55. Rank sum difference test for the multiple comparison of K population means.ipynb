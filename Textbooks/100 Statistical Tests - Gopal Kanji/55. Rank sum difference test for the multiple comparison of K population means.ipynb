{
 "cells": [
  {
   "cell_type": "markdown",
   "metadata": {},
   "source": [
    "# Test 55: The rank sum difference test for the multiple comparison of K population means"
   ]
  },
  {
   "cell_type": "markdown",
   "metadata": {},
   "source": [
    "## Objective"
   ]
  },
  {
   "cell_type": "markdown",
   "metadata": {},
   "source": [
    "- You have $K$ random samples (with multiple observations each)\n",
    "- Do they come from $K$ populations with the same mean?"
   ]
  },
  {
   "cell_type": "markdown",
   "metadata": {},
   "source": [
    "## Assumptions"
   ]
  },
  {
   "cell_type": "markdown",
   "metadata": {},
   "source": [
    "- The K samples must have the same size \n",
    "- The frequency distributions of the population are assumed continuous"
   ]
  },
  {
   "cell_type": "markdown",
   "metadata": {},
   "source": [
    "## Method"
   ]
  },
  {
   "cell_type": "markdown",
   "metadata": {},
   "source": [
    "- The $K$ samples are combined and sorted, then assigned a rank. \n",
    "- The largest value is assigned rank 1. \n",
    "- Compute the rank sum for each sample\n",
    "- The test statistic for 2 samples is $R_i - R_j$\n",
    "- The test statistic follows a the two-sided rank-sum difference test table (Table 23). If the test statistic exceeds the critical value, then the null hypothesis of equal means is rejected"
   ]
  },
  {
   "cell_type": "markdown",
   "metadata": {},
   "source": [
    "## Example"
   ]
  },
  {
   "cell_type": "markdown",
   "metadata": {},
   "source": [
    "- Scenario: \n",
    "    - A perfume manufacturer has four floral fragrances and wishes to compare each one against the others in a preference test. Selected perfume testers can give a perfume a score between 1 and 100. For each of these four fragrances four testers\n",
    "\n",
    "- Results\n",
    "    | | Perfume 1 | Perfume 2 | Perfume 3 | Perfume 4 |\n",
    "    | --- | --- | --- | --- | --- |\n",
    "    | Tester 1 | 70 | 12 | 10 | 29 |\n",
    "    | Tester 2 | 52 | 18 | 43 | 31 |\n",
    "    | Tester 3 | 51 | 35 | 28 | 41 |\n",
    "    | Tester 4 | 67 | 36 | 26 | 44 |\n",
    "\n",
    "- So by the methodology above, we can rewrite the scores as ranks instead\n",
    "    | | Perfume 1 | Perfume 2 | Perfume 3 | Perfume 4 |\n",
    "    | --- | --- | --- | --- | --- |\n",
    "    | Tester 1 | 16 | 2 | 1 | 6 |\n",
    "    | Tester 2 | 14 | 3 | 11 | 7 |\n",
    "    | Tester 3 | 13 | 8 | 5 | 10 |\n",
    "    | Tester 4 | 15 | 9 | 4 | 12 |\n",
    "\n",
    "- Then to find out if fragrances are different from each other:\n",
    "    - P1 = 16+14+13+15 = 58\n",
    "    - P2 = 22\n",
    "    - P3 = 21\n",
    "    - P4 = 35\n",
    "\n",
    "- Critical value from table is 34.6\n",
    "\n",
    "- So P1 - P2 = 36 > 34.6, so 1 and 2 are different"
   ]
  },
  {
   "cell_type": "markdown",
   "metadata": {},
   "source": [
    "## Proof"
   ]
  },
  {
   "cell_type": "code",
   "execution_count": 9,
   "metadata": {},
   "outputs": [],
   "source": [
    "import numpy as np\n",
    "import scipy\n",
    "import matplotlib.pyplot as plt\n",
    "import seaborn as sns"
   ]
  },
  {
   "cell_type": "markdown",
   "metadata": {},
   "source": [
    "- Here there is a small trick to get rank of an array\n",
    "    - Let $a$ be the element $i$ in `array.argsort()`, (that is; `a = array.argsort()[i]`) \n",
    "    - This tells us that, for `array` to be sorted `array[a]` should be placed at index $i$\n",
    "    - For example:\n",
    "        - `array = [1,7,3,2,5,4]`\n",
    "        - `array.argsort() = [0,3,2,5,4,1]`\n",
    "        - Since `array.argsort()[1] = 3`, it tells us that `array[3]=2` should be placed at index `1` for array to be sorted\n",
    "    \n",
    "    - What happens when we do `array.argsort().argsort()`?\n",
    "        - Using same example; `array.argsort() = [0,3,2,5,4,1]`\n",
    "            - Recall that array.argsort() tells you where the index `i` of each value in array should be\n",
    "            - Then the argsort() of `array.argsort()` tells you where `array[i]` is ranked\n",
    "            - That is, array.argsort() tells us `array[1]` should be in position `5`\n",
    "            - Since \n",
    "                - `array.argsort()[5] = 1`\n",
    "                - we know that `array.argsort()` of size $n$ must contains non-repeating values between $[0, n-1]$\n",
    "                - So sorting the argsort() simply tells us the rank of the argsorted index!\n",
    "                - That is, if `array.argsort()[5] = 1`, then `array[1]` must belong to index `5`\n",
    "\n",
    "    - That is\n",
    "        - array.argsort() answers: \"If sorted, where does each element go?\"\n",
    "        - array.argsort().argsort() on that result answers: \"Where does my original index appear in the sorted order?\""
   ]
  },
  {
   "cell_type": "code",
   "execution_count": 20,
   "metadata": {},
   "outputs": [
    {
     "data": {
      "text/plain": [
       "array([False, False, False, False, False, False, False, False, False,\n",
       "       False])"
      ]
     },
     "execution_count": 20,
     "metadata": {},
     "output_type": "execute_result"
    }
   ],
   "source": [
    "from itertools import combinations\n",
    "\n",
    "K = 5\n",
    "sample_size=5\n",
    "critical_value = 63.5\n",
    "def get_test_statistic():\n",
    "    samples = np.random.normal(10,5,K*sample_size).reshape(K, sample_size)\n",
    "    ranks = samples.reshape(-1).argsort().argsort().reshape(K, sample_size)\n",
    "    rank_sums = list(np.sum(ranks, axis=1))\n",
    "\n",
    "    test_statistics = np.array([\n",
    "        (max(x) - min(x)) for x in combinations(rank_sums, 2)\n",
    "    ])\n",
    "    return test_statistics\n",
    "\n",
    "get_test_statistic() > critical_value"
   ]
  },
  {
   "cell_type": "code",
   "execution_count": 45,
   "metadata": {},
   "outputs": [
    {
     "data": {
      "text/plain": [
       "np.float64(0.03133333333333333)"
      ]
     },
     "execution_count": 45,
     "metadata": {},
     "output_type": "execute_result"
    }
   ],
   "source": [
    "test_statistic_distribution = [any(get_test_statistic() > critical_value) for _ in range(3_000)]\n",
    "np.mean(test_statistic_distribution)"
   ]
  }
 ],
 "metadata": {
  "kernelspec": {
   "display_name": "100_statistical_tests_-_gopal_kanji-JR8uAaSp-py3.12",
   "language": "python",
   "name": "python3"
  },
  "language_info": {
   "codemirror_mode": {
    "name": "ipython",
    "version": 3
   },
   "file_extension": ".py",
   "mimetype": "text/x-python",
   "name": "python",
   "nbconvert_exporter": "python",
   "pygments_lexer": "ipython3",
   "version": "3.11.10"
  }
 },
 "nbformat": 4,
 "nbformat_minor": 2
}
