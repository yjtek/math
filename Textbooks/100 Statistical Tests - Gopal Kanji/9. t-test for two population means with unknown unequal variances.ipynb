{
 "cells": [
  {
   "cell_type": "markdown",
   "metadata": {},
   "source": [
    "# Test 9: t-test for two population means (variances unknown and unequal)\n"
   ]
  },
  {
   "cell_type": "markdown",
   "metadata": {},
   "source": [
    "## Objective"
   ]
  },
  {
   "cell_type": "markdown",
   "metadata": {},
   "source": [
    "- To investigate the significance of the difference between the means of two populations"
   ]
  },
  {
   "cell_type": "markdown",
   "metadata": {},
   "source": [
    "## Assumptions"
   ]
  },
  {
   "cell_type": "markdown",
   "metadata": {},
   "source": [
    "- The great thing about this test is that we need to know nothing about the variance of the original 2 populations\n",
    "    - If we know the variance of the populations, use **Test 3: Z-test for two population means** \n",
    "\n",
    "- The test is approximate if the populations are normally distributed / if the sample sizes are sufficiently large\n",
    "\n",
    "- The test **can only be used as two tail test**"
   ]
  },
  {
   "cell_type": "markdown",
   "metadata": {},
   "source": [
    "## Method"
   ]
  },
  {
   "cell_type": "markdown",
   "metadata": {},
   "source": [
    "- You have two populations with means $\\mu_1$ and $\\mu_2$\n",
    "- Take a sample from each population of size $n_1$ and $n_2$\n",
    "- Use this to compute sample means $\\bar{x_1}$ and $\\bar{x_2}$\n",
    "- Use this to compute sample variance \n",
    "$$\\begin{aligned}\n",
    "    s_1^2 &= \\frac{\\sum_{i=1}^{n_1} (x_i - \\bar{x_1})^2}{n_1 - 1} \\\\\n",
    "    s_2^2 &= \\frac{\\sum_{i=1}^{n_1} (x_i - \\bar{x_2})^2}{n_2 - 1} \\\\\n",
    "\\end{aligned}$$\n",
    "\n",
    "- Finally, compute the test statistic using\n",
    "\n",
    "$$\\begin{aligned}\n",
    "    t &= \\frac{(\\bar{x_1} - \\bar{x_2}) - (\\mu_1 - \\mu_2)}{\\sqrt{\\frac{s_1^2}{n_1} + \\frac{s_2^2}{n_2}}}\n",
    "\\end{aligned}$$\n",
    "\n",
    "- The test statistic follows a students' t-distribution with degrees of freedom given by:\n",
    "\n",
    "$$\\begin{aligned}\n",
    "    v &= \\frac{(\\frac{s_1^2}{n_1} + \\frac{s_2^2}{n_2})^2}{\\frac{s_1^4}{n_1^2 \\cdot (n_1 -1)} + \\frac{s_2^4}{n_2^2 \\cdot (n_2 - 1)}}\n",
    "\\end{aligned}$$"
   ]
  },
  {
   "cell_type": "markdown",
   "metadata": {},
   "source": [
    "## Example"
   ]
  },
  {
   "cell_type": "markdown",
   "metadata": {},
   "source": [
    "- Problem\n",
    "    - Two financial organizations are about to merge and, as part of the rationalization process, some consideration is to be made of service duplication. \n",
    "    - Two sales teams responsible for identical products are compared by selecting samples from each and reviewing their respective profit contribution levels per employee over two weeks \n",
    "    - Assume the population means $\\mu_1 = \\mu_2$ are equal\n",
    "    - The sample sizes are $n_1 = 4$ and $n_2 = 9$\n",
    "    - The sample means are $x_1 = 3166$ and $x_2 = 2240$ \n",
    "    - The sample variances are $s_1^2 = 6328.27$ and $s_2^2 = 221661.3$\n",
    "\n",
    "- Question\n",
    "    - Are the means significantly different?\n",
    "    - Remember, only 2 tail test possible\n",
    "    "
   ]
  },
  {
   "cell_type": "code",
   "execution_count": 6,
   "metadata": {},
   "outputs": [
    {
     "data": {
      "text/plain": [
       "8.96217028679"
      ]
     },
     "execution_count": 6,
     "metadata": {},
     "output_type": "execute_result"
    }
   ],
   "source": [
    "mu1 = mu2 = 0\n",
    "n1=4\n",
    "n2=9\n",
    "xbar1 = 3166\n",
    "xbar2 = 2240\n",
    "s1_sq = 6328.27\n",
    "s2_sq = 221661.3\n",
    "\n",
    "def compute_test_statistic(xbar1, xbar2, mu1, mu2, s1_sq, s2_sq, n1, n2):\n",
    "    return ((xbar1-xbar2) - (mu1-mu2)) / ((s1_sq/n1 + s2_sq/n2)**0.5)\n",
    "\n",
    "compute_test_statistic(xbar1, xbar2, mu1, mu2, s1_sq, s2_sq, n1, n2)\n",
    "\n",
    "def compute_degrees_of_freedom(s1_sq, s2_sq, n1, n2):\n",
    "    numerator = (s1_sq/n1 + s2_sq/n2)**2\n",
    "    denom1 = s1_sq**2 / (n1**2 * (n1-1))\n",
    "    denom2 = s2_sq**2 / (n2**2 * (n2-1))\n",
    "    return numerator / (denom1 + denom2)\n",
    "\n",
    "compute_degrees_of_freedom(s1_sq, s2_sq, n1, n2)"
   ]
  }
 ],
 "metadata": {
  "kernelspec": {
   "display_name": "100_statistical_tests_-_gopal_kanji-JR8uAaSp-py3.12",
   "language": "python",
   "name": "python3"
  },
  "language_info": {
   "codemirror_mode": {
    "name": "ipython",
    "version": 3
   },
   "file_extension": ".py",
   "mimetype": "text/x-python",
   "name": "python",
   "nbconvert_exporter": "python",
   "pygments_lexer": "ipython3",
   "version": "3.12.2"
  }
 },
 "nbformat": 4,
 "nbformat_minor": 2
}
