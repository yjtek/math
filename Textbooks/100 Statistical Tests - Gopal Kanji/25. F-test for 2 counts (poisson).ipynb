{
 "cells": [
  {
   "cell_type": "markdown",
   "metadata": {},
   "source": [
    "# Test 25: F-test for two counts (Poisson distribution)"
   ]
  },
  {
   "cell_type": "markdown",
   "metadata": {},
   "source": [
    "- THE TEST STATISTIC SEEMS OFF. PLEASE DO NOT USE\n",
    "- SEE DISCUSSION UNDER \"Proof by simulation...\" SECTION "
   ]
  },
  {
   "cell_type": "markdown",
   "metadata": {},
   "source": [
    "## Objective"
   ]
  },
  {
   "cell_type": "markdown",
   "metadata": {},
   "source": [
    "- You have 2 counts that come from separate data generating processes, both of which are assumed to be Poisson\n",
    "- Can we conclude that the means of the 2 poisson distributions are the same?"
   ]
  },
  {
   "cell_type": "markdown",
   "metadata": {},
   "source": [
    "## Assumptions"
   ]
  },
  {
   "cell_type": "markdown",
   "metadata": {},
   "source": [
    "- Both counts are obtained from Poisson distributions"
   ]
  },
  {
   "cell_type": "markdown",
   "metadata": {},
   "source": [
    "## Method"
   ]
  },
  {
   "cell_type": "markdown",
   "metadata": {},
   "source": [
    "- Let's define the means of the 2 Poisson populations as $\\mu_1$ and $\\mu_2$, and the sampled counts as $N_1$ and $N_2$\n",
    "\n",
    "- Let's further assume that $N_1$ and $N_2$ were obtained over time periods $t_1$ and $t_2$\n",
    "\n",
    "- If $t_1 = t_2$:\n",
    "    - To test the hypothesis that $\\mu_1 = \\mu_2$, we can compute the test statistic as\n",
    "    $$\\begin{aligned}\n",
    "        F &= \\frac{N_1}{N_2 + 1}\n",
    "    \\end{aligned}$$\n",
    "\n",
    "    - This follows an $F$ distribution with $(2 \\cdot (N_2 + 1), 2 \\cdot N_1)$ degrees of freedom\n",
    "\n",
    "- Else if $t_1 \\neq t_2$\n",
    "    - To test the hypothesis that $\\mu_1 = \\mu_2$, we can compute the test statistic as\n",
    "    $$\\begin{aligned}\n",
    "        F &= \\frac{\\frac{1}{t_1} (N_1 + 0.5)}{\\frac{1}{t_2} (N_2 + 0.5)}\n",
    "    \\end{aligned}$$\n",
    "\n",
    "    - This follows an $F$ distribution with $(2N_1 + 1, 2N_2 + 1)$ degrees of freedom"
   ]
  },
  {
   "cell_type": "markdown",
   "metadata": {},
   "source": [
    "## Example"
   ]
  },
  {
   "cell_type": "markdown",
   "metadata": {},
   "source": [
    "- Problem\n",
    "    - Two automated kiln processes (producing baked plant pots) are compared over their standard cycle times, i.e. 4 hours. \n",
    "        - $t_1 = t_2 = 4$\n",
    "    - Kiln 1 produced 13 triggered process corrections and kiln 2 produced 3 corrections. \n",
    "        - $N_1 = 13$, $N_2 = 3$\n",
    "    - What can we say about the two kiln mean correction rates, are they the same? \n",
    "\n",
    "<!-- The calculated F statistic is 3.25 and the critical value from\n",
    "Table 3 is 2.32. Since the calculated value exceeds the critical value we conclude that\n",
    "there is a statistical difference between the two counts. Kiln 1 has a higher error rate\n",
    "than kiln 2 -->"
   ]
  },
  {
   "cell_type": "code",
   "execution_count": 13,
   "metadata": {},
   "outputs": [
    {
     "name": "stdout",
     "output_type": "stream",
     "text": [
      "test_statistic=3.25 | critical_value=2.3205272350337474\n",
      "test_statistic=3.857142857142857 | critical_value=3.391307068507873\n"
     ]
    }
   ],
   "source": [
    "import scipy\n",
    "\n",
    "n1 = 13 \n",
    "n2 = 3\n",
    "t1 = t2 = 4\n",
    "\n",
    "test_statistic = n1 / (n2+1)\n",
    "critical_value = scipy.stats.f(dfn = 2*(n2+1), dfd = 2*n1).ppf(q=0.95) ##0.95 one tailed or 0.975 for two tailed\n",
    "print(f\"{test_statistic=} | {critical_value=}\")\n",
    "\n",
    "test_statistic = (\n",
    "    ((1/t1) * (n1 + 0.5)) /\n",
    "    ((1/t2) * (n2 + 0.5))\n",
    ")\n",
    "critical_value = scipy.stats.f(dfn = (2*n1)+1, dfd = (2*n2)+1).ppf(q=0.95) ##0.95 one tailed or 0.975 for two tailed\n",
    "print(f\"{test_statistic=} | {critical_value=}\")"
   ]
  },
  {
   "cell_type": "markdown",
   "metadata": {},
   "source": [
    "## Proof by simulation that test statistic follows f distribution"
   ]
  },
  {
   "cell_type": "markdown",
   "metadata": {},
   "source": [
    "- The test statistic depends entirely on $N_1$ and $N_2$\n",
    "- However, the F distribution it follows also depends on $N_1 and N_2$\n",
    "- This means that there is no randomness in the test statistic. For a given $N_1$ and $N_2$, the test statistic is always the same. So it cannot possibly follow an F-distribution"
   ]
  },
  {
   "cell_type": "code",
   "execution_count": 14,
   "metadata": {},
   "outputs": [],
   "source": [
    "import numpy as np\n",
    "import scipy\n",
    "import seaborn as sns\n",
    "import matplotlib.pyplot as plt"
   ]
  },
  {
   "cell_type": "code",
   "execution_count": 16,
   "metadata": {},
   "outputs": [
    {
     "data": {
      "text/plain": [
       "3.797719989256451"
      ]
     },
     "execution_count": 16,
     "metadata": {},
     "output_type": "execute_result"
    }
   ],
   "source": [
    "MU1 = np.random.randint(1,11,1)[0]\n",
    "T1 = np.random.uniform(1,11,1) \n",
    "MU2 = MU1\n",
    "T2 = T1\n",
    "\n",
    "def get_test_statistic_nonrate():\n",
    "    N1 = np.random.poisson(MU1, size=1)[0]\n",
    "    N2 = np.random.poisson(MU2, size=1)[0]\n",
    "\n",
    "    test_statistic = N1 / (N2+1)\n",
    "    degrees_of_freedom = (2*(N2+1), 2*N1)\n",
    "    return test_statistic, degrees_of_freedom\n",
    "\n",
    "def get_test_statistic_rate():\n",
    "    N1 = np.random.poisson(MU1, size=1)[0]\n",
    "    N2 = np.random.poisson(MU2, size=1)[0]\n",
    "\n",
    "    test_statistic = ((N1+0.5)/T1) / ((N2+0.5)/T2)\n",
    "    degrees_of_freedom = (((2*N1)+1), ((2*N2)+1))\n",
    "    return test_statistic, degrees_of_freedom\n"
   ]
  },
  {
   "cell_type": "code",
   "execution_count": 17,
   "metadata": {},
   "outputs": [
    {
     "data": {
      "text/plain": [
       "<Axes: ylabel='Density'>"
      ]
     },
     "execution_count": 17,
     "metadata": {},
     "output_type": "execute_result"
    },
    {
     "data": {
      "image/png": "[encoded data removed]",
      "text/plain": [
       "<Figure size 640x480 with 1 Axes>"
      ]
     },
     "metadata": {},
     "output_type": "display_data"
    }
   ],
   "source": [
    "true_f_distribution = np.random.f(2*(5+1), 2*4, size=3_000)\n",
    "sns.kdeplot(true_f_distribution, label='true f distribution')"
   ]
  }
 ],
 "metadata": {
  "kernelspec": {
   "display_name": "100_statistical_tests_-_gopal_kanji-JR8uAaSp-py3.12",
   "language": "python",
   "name": "python3"
  },
  "language_info": {
   "codemirror_mode": {
    "name": "ipython",
    "version": 3
   },
   "file_extension": ".py",
   "mimetype": "text/x-python",
   "name": "python",
   "nbconvert_exporter": "python",
   "pygments_lexer": "ipython3",
   "version": "3.12.2"
  }
 },
 "nbformat": 4,
 "nbformat_minor": 2
}
