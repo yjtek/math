{
 "cells": [
  {
   "cell_type": "markdown",
   "metadata": {},
   "source": [
    "# Test 46: The sign test for two medians (paired observations)"
   ]
  },
  {
   "cell_type": "markdown",
   "metadata": {},
   "source": [
    "## Objective"
   ]
  },
  {
   "cell_type": "markdown",
   "metadata": {},
   "source": [
    "- You have a sample with some set of values\n",
    "- After some treatment applied to the sameple, you get another set of values\n",
    "- Has the median changed between the 2 sets?"
   ]
  },
  {
   "cell_type": "markdown",
   "metadata": {},
   "source": [
    "## Assumptions"
   ]
  },
  {
   "cell_type": "markdown",
   "metadata": {},
   "source": [
    "- The observations in the two samples should be taken in pairs, one from each distribution.\n",
    "\n",
    "- Each one of a pair of observations should be taken under the **same conditions**, \n",
    "    - It is not necessary that different pairs should be taken under similar conditions."
   ]
  },
  {
   "cell_type": "markdown",
   "metadata": {},
   "source": [
    "## Method"
   ]
  },
  {
   "cell_type": "markdown",
   "metadata": {},
   "source": [
    "- You have a \"before\" sample $x$, and an after sample $y$\n",
    "\n",
    "- Compute $y-x$ and record the sign (either positive or negative)\n",
    "    - Count the number of positives as $N_1$\n",
    "    - Count the number of negatives as $N_2$\n",
    "    - Remove all 0s\n",
    "\n",
    "- Let test statistic $r = \\min{(N_1, N_2)}$ be the number of times that the least frequent sign occurs\n",
    "\n",
    "- Method 1\n",
    "    \n",
    "    - If this is less than the critical value in Table 18 (Critical values of r for the sign test for paired observations), we reject the null hypothesis that the two population medians are equal\n",
    "\n",
    "- Method 2\n",
    "    - Alternatively, assume that, under the null hypothesis that the medians are the same, each observation has a 0.5 probability of being positive or negative\n",
    "    - So the p-value that the test statistic $r = r_0$ is simply the binomial CDF:\n",
    "    $$\\begin{aligned}\n",
    "        P(r <= r_0) &= \\sum_{i=1}^{r_0} \\binom{N}{i} p^{i} (1-p)^{N-i}\n",
    "    \\end{aligned}$$\n",
    "\n",
    "    - This can be compared with the desired $\\alpha$ value to determine whether the CDF $r=r_0$ lies in the rejection region"
   ]
  },
  {
   "cell_type": "markdown",
   "metadata": {},
   "source": [
    "## Proof"
   ]
  },
  {
   "cell_type": "code",
   "execution_count": 1,
   "metadata": {},
   "outputs": [],
   "source": [
    "import numpy as np\n",
    "import scipy\n",
    "import matplotlib.pyplot as plt\n",
    "import seaborn as sns"
   ]
  },
  {
   "cell_type": "code",
   "execution_count": 79,
   "metadata": {},
   "outputs": [],
   "source": [
    "population = np.random.randint(1, 10, 10_00)\n",
    "true_median = np.median(population)\n",
    "\n",
    "def get_test_statistic(type, alpha):\n",
    "    sample1 = np.random.choice(population, 50)\n",
    "    sample2 = np.random.choice(population, 50)\n",
    "    diffs = sample1-sample2\n",
    "    diffs = np.delete(diffs, np.where(diffs == 0))\n",
    "    corrected_sample_size = len(diffs)\n",
    "\n",
    "    n1 = np.sum(diffs < 0)\n",
    "    n2 = np.sum(diffs > 0)\n",
    "    r = min(n1,n2)\n",
    "\n",
    "    ## Method 1\n",
    "    # if type == 'one-tailed':\n",
    "    #     return r < 17\n",
    "    # if type == 'two-tailed':\n",
    "    #     return (2*r) < 17\n",
    "\n",
    "    ## Method 2\n",
    "    pval = scipy.stats.binom(corrected_sample_size, 0.5).cdf(r)\n",
    "    if type == 'one-tailed':\n",
    "        return pval < alpha\n",
    "    if type == 'two-tailed':\n",
    "        return (2*pval) < alpha"
   ]
  },
  {
   "cell_type": "code",
   "execution_count": 81,
   "metadata": {},
   "outputs": [
    {
     "data": {
      "text/plain": [
       "0.06866666666666667"
      ]
     },
     "execution_count": 81,
     "metadata": {},
     "output_type": "execute_result"
    }
   ],
   "source": [
    "test_statistic = [get_test_statistic('one-tailed', 0.05) for _ in range(3_000)]\n",
    "np.mean(test_statistic)"
   ]
  }
 ],
 "metadata": {
  "kernelspec": {
   "display_name": "100_statistical_tests_-_gopal_kanji-JR8uAaSp-py3.12",
   "language": "python",
   "name": "python3"
  },
  "language_info": {
   "codemirror_mode": {
    "name": "ipython",
    "version": 3
   },
   "file_extension": ".py",
   "mimetype": "text/x-python",
   "name": "python",
   "nbconvert_exporter": "python",
   "pygments_lexer": "ipython3",
   "version": "3.12.2"
  }
 },
 "nbformat": 4,
 "nbformat_minor": 2
}
