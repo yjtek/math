{
 "cells": [
  {
   "attachments": {},
   "cell_type": "markdown",
   "metadata": {},
   "source": [
    "### 1. A point is chosen uniformly along the length of a stick, and the stick is broken at that point. What is the probability the left segment is more than twice as long as the right segment? (Hint: Assume the length of the stick is 1. Let $X$ be the point at which the stick is broken, and observe that $X$ is the length of the left segment.)\n",
    "\n"
   ]
  },
  {
   "cell_type": "markdown",
   "metadata": {},
   "source": [
    "- Let left segment of stick be of length X, and right segment be of length Y. Assume X + Y = 1 (stick of length 1)\n",
    "- $$ X > 2Y \\\\ X > 2 (1 - X) \\\\ X > 2 - 2X \\\\ 3X > 2 \\\\ X > \\frac{2}{3} $$\n",
    "- Thus\n",
    "    - $\\begin{align}\n",
    "        P(X > 2Y) &= P(X > \\frac{2}{3}) \\\\\n",
    "        &= 1 - P(X \\le \\frac{1}{3}) \\\\\n",
    "        &= 1 - \\frac{1}{3} \\\\\n",
    "        &= \\frac{2}{3}\n",
    "        \\end{align}$"
   ]
  },
  {
   "cell_type": "markdown",
   "metadata": {},
   "source": [
    "### 2. You inflate a spherical balloon in a single breath. If the volume of air you exhale in a single breath (in cubic inches) is $\\text{Uniform}(a = 36\\pi, b=288\\pi)$  random variable, what is the probability that the radius of the balloon is less than 5 inches?"
   ]
  },
  {
   "cell_type": "markdown",
   "metadata": {},
   "source": [
    "- Volume of a sphere: $\\frac{4}{3} \\pi r^3$, Surface area of a sphere: $4\\pi r^2$\n",
    "- If volume is $\\frac{4}{3} \\pi r^3 = 36\\pi$, radius is 3\n",
    "- If volume is $\\frac{4}{3} \\pi r^3 = 288\\pi$, radius is 6\n",
    "- Hence, distribution of radius R is $R \\sim \\text{Uniform(3,6)}$\n",
    "\n",
    "- Hence\n",
    "    - $ P(R < 5) = F(5) = \\frac{5-3}{6} = 0.33 $"
   ]
  }
 ],
 "metadata": {
  "kernelspec": {
   "display_name": "leetcode",
   "language": "python",
   "name": "python3"
  },
  "language_info": {
   "codemirror_mode": {
    "name": "ipython",
    "version": 3
   },
   "file_extension": ".py",
   "mimetype": "text/x-python",
   "name": "python",
   "nbconvert_exporter": "python",
   "pygments_lexer": "ipython3",
   "version": "3.10.4"
  },
  "orig_nbformat": 4
 },
 "nbformat": 4,
 "nbformat_minor": 2
}
