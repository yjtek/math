{
 "cells": [
  {
   "attachments": {},
   "cell_type": "markdown",
   "metadata": {},
   "source": [
    "### 1. Here are some things we already know about a deck of cards:\n",
    "- The top card in a shuffled deck of cards has a $\\frac{13}{52}$ chance of being a diamond.\n",
    "- If the top card is a diamond, then the second card has a $\\frac{12}{51}$ chance of being a diamond.\n",
    "- If the top card is not a diamond, then the second card has a $\\frac{13}{51}$ chance of being a diamond.\n",
    "- Now, suppose we “burn” (i.e., discard) the top card without looking at it. What is the probability that the second card is a diamond? Use the Law of Total Probability, conditioning on the top card. Does burning cards affect probabilities?"
   ]
  },
  {
   "attachments": {},
   "cell_type": "markdown",
   "metadata": {},
   "source": [
    "- $\\frac{13}{52}$ chance of diamond for burnt card \n",
    "    - If D1, then probability of D2 is $\\frac{12}{51}$\n",
    "- $\\frac{39}{52}$ chance of not diamond for burnt card\n",
    "    - If not D1, then probability of D2 is $\\frac{13}{51}$\n",
    "\n",
    "- Weighting the two:\n",
    "\n",
    "$$\\begin{align}\n",
    "    \\frac{13}{52} * \\frac{12}{51} + \\frac{39}{52} * \\frac{13}{51} &= \\frac{1}{4} * \\frac{12}{51} + \\frac{3}{4} * \\frac{13}{51} \\\\\n",
    "    &= \\frac{12}{204} + \\frac{39}{204} \\\\\n",
    "    &= \\frac{51}{204} \\\\\n",
    "    &= \\frac{1}{4}\n",
    "\\end{align}$$\n",
    "\n",
    "- So the probability of diamond before burning and after burning is the same\n",
    "\n",
    "\n"
   ]
  },
  {
   "attachments": {},
   "cell_type": "markdown",
   "metadata": {},
   "source": [
    "### 2. Anny is a fan of chess competitor Hikaru Nakamura, and tomorrow is the World Chess Championship. She is superstitious and believes that the weather influences how he will perform. Hikaru has a 60% chance of winning if it rains, a 25% chance if it is cloudy, and a 10% chance if it is sunny. Anny checks the weather the night before, and the forecast says that the chance of rain tomorrow is 40%; otherwise, it is equally likely to be cloudy as sunny. What is the probability that Hikaru wins the World Chess Championship?"
   ]
  },
  {
   "attachments": {},
   "cell_type": "markdown",
   "metadata": {},
   "source": [
    "- Hikaru wins if rain: 0.6 prob of rain * 0.4 prob of win = 0.24\n",
    "- Hikaru wins if cloudy: 0.3 prob of cloudy * 0.25 prob of win = 0.075\n",
    "- Hikaru wins if sunny: 0.3 prob of sunny * 0.1 prob of win = 0.03\n",
    "\n",
    "- Total prob of Hikaru win = 0.24 + 0.075 + 0.03 = 0.345"
   ]
  }
 ],
 "metadata": {
  "language_info": {
   "name": "python"
  },
  "orig_nbformat": 4
 },
 "nbformat": 4,
 "nbformat_minor": 2
}
