{
 "cells": [
  {
   "attachments": {},
   "cell_type": "markdown",
   "metadata": {},
   "source": [
    "## Motivating Example"
   ]
  },
  {
   "attachments": {},
   "cell_type": "markdown",
   "metadata": {},
   "source": [
    "You watch a magician place 4 ordinary quarters and 1 double-headed quarter into a box. If you select a coin from the box at random and toss it, what is the probability that it lands heads?"
   ]
  },
  {
   "attachments": {},
   "cell_type": "markdown",
   "metadata": {},
   "source": [
    "## Theory"
   ]
  },
  {
   "attachments": {},
   "cell_type": "markdown",
   "metadata": {},
   "source": [
    "- Let there be 2 events A and B\n",
    "    - Event A has 1 of 3 outcomes: $A_1$, $A_2$, $A_3$ with probabilities $0.5, 0.3, 0.2$\n",
    "    - The probability of event B is can be computed by taking:\n",
    "        - $\\begin{align} Pr(B) &= Pr(B | A = A_1) * Pr(A_1) + \\\\ & Pr(B | A = A_2) * Pr(A_2) + \\\\ & Pr(B | A = A_3) * Pr(A_3)\\end{align}$\n",
    "    - Basically, probability of event B is the sum of the probability of B conditioning on A across the universe of values that can be taken by A, weighted by the probability of observing that A\n",
    "\n",
    "- Theorem 8.1 (Law of total probability)\n",
    "    - Let $A_1, A_2, ..., A_n$ be a partition of possible outcomes. Then:\n",
    "        - $P(B) = \\sum_{i=1}^{n} P(A_i) P(B|A_i)$\n",
    "    - Note: A partition is a collection of non-overlapping events that cover all possible outcomes\n",
    "\n",
    "- Let's address the question in the motivation section\n",
    "    - You have a 0.8 probability of drawing a normal coin, with $\\frac{1}{2}$ probability of heads\n",
    "    - You have a 0.2 probability of drawing a double headed coin, with probability $1$ of heads\n",
    "    - In this case, the partitioning event is the type of coin drawn, because a coin cannot be both normal and double headed\n",
    "    - So since you have an 80% chance of getting a 0.5 chance of heads, and a 20% chance of getting a guaranteed head on a flip, the overall probability of heads with a draw of a coin is $0.8*0.5 + 0.2 = 0.6$\n"
   ]
  }
 ],
 "metadata": {
  "language_info": {
   "name": "python"
  },
  "orig_nbformat": 4
 },
 "nbformat": 4,
 "nbformat_minor": 2
}
