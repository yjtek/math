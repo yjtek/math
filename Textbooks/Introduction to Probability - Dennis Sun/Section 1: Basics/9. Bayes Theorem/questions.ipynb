{
 "cells": [
  {
   "attachments": {},
   "cell_type": "markdown",
   "metadata": {},
   "source": [
    "### 1. The rare mineral unobtanium is present in only 1% of rocks in a mine. You have an unobtanium detector, which never fails to detect unobtanium when it is present. Otherwise, it is still reliable, returning accurate readings 90% of the time when unobtanium is not present. (i) What is $P(\\text{unobtanium detected} | \\text{unobtanium present})$? (ii) What is $P(\\text{unobtanium present} | \\text{unobtanium detected})$?"
   ]
  },
  {
   "attachments": {},
   "cell_type": "markdown",
   "metadata": {},
   "source": [
    "- What is $P(\\text{unobtanium detected} | \\text{unobtanium present})$?\n",
    "    - Given in qn, probability is 1\n",
    "\n",
    "- What is $P(\\text{unobtanium present} | \\text{unobtanium detected})$?\n",
    "\n",
    "$$\\begin{align}\n",
    "    P(\\text{present} | \\text{detected}) &= \\frac{P(\\text{detected} | \\text{present}) * P(\\text{present})}{P(\\text{detected} | \\text{present}) * P(\\text{present}) + P(\\text{detected} | \\text{not present}) * P(\\text{not present})} \\\\\n",
    "    &= \\frac{1 * 0.01}{(1 * 0.01) + (0.1 * 0.99)} \\\\\n",
    "    &= 0.092\n",
    "\\end{align}$$"
   ]
  },
  {
   "attachments": {},
   "cell_type": "markdown",
   "metadata": {},
   "source": [
    "### 2. One application where Bayes’ Theorem has been extremely successful is spam filtering. From historical data, 80% of all e-mail is spam, and the phrase “free money” is used in 10% of spam e-mails. That is, $P(\\text{\"free money\" | spam}) = 0.1$. The phrase is also used in 1% of non-spam e-mails. A new e-mail has just arrived which contains the phrase “free money”. Given this information, what is the probability that it is spam, $P(\\text{spam | \"free money\"})$?"
   ]
  },
  {
   "attachments": {},
   "cell_type": "markdown",
   "metadata": {},
   "source": [
    "- Let T = \"free money\"\n",
    "$$\\begin{align}\n",
    "    P(S | T) &= \\frac{P(S,T)}{P(S,T) + P(S,!T)} \\\\\n",
    "    &= \\frac{P(T | S) * P(S)}{P(T | S) * P(S) + P(T | !S) * P(!S)} \\\\\n",
    "    &= \\frac{0.1 * 0.8}{0.1*0.8 + 0.01 * 0.2} \\\\\n",
    "    &\\approx 0.98\n",
    "\\end{align}$$"
   ]
  },
  {
   "attachments": {},
   "cell_type": "markdown",
   "metadata": {},
   "source": [
    "### 3. A certain disease afflicts 10% of the population. A test for the disease is 90% accurate for patients with the disease and 80% accurate for patients without the disease. Suppose you test positive for the disease. What is the probability that you actually have the disease?"
   ]
  },
  {
   "attachments": {},
   "cell_type": "markdown",
   "metadata": {},
   "source": [
    "$$\\begin{align}\n",
    "    P(D | P) &= \\frac{P(D,P)}{P(D,P) + P(!D,P)} \\\\\n",
    "    &= \\frac{P(P | D) * P(D)}{P(P | D) * P(D) + P(P | !D) * P(!D)} \\\\\n",
    "    &= \\frac{0.9 * 0.1}{0.9*0.1 + 0.2*0.9} \\\\\n",
    "    &\\approx 0.66\n",
    "\\end{align}$$"
   ]
  }
 ],
 "metadata": {
  "language_info": {
   "name": "python"
  },
  "orig_nbformat": 4
 },
 "nbformat": 4,
 "nbformat_minor": 2
}
