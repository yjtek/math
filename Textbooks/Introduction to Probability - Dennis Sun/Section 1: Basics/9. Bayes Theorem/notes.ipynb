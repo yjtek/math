{
 "cells": [
  {
   "attachments": {},
   "cell_type": "markdown",
   "metadata": {},
   "source": [
    "## Motivating Example"
   ]
  },
  {
   "attachments": {},
   "cell_type": "markdown",
   "metadata": {},
   "source": [
    "The ELISA test is used to screen blood for HIV.\n",
    "\n",
    "- When the blood contains HIV, it gives a positive result 98% of the time.\n",
    "- When the blood does not contain HIV, it gives a negative result 94% of the time.\n",
    "\n",
    "The prevalence of HIV is about 1% in the adult male population. A patient has just tested positive and wants to know the probability that he has HIV. What would you tell him?"
   ]
  },
  {
   "attachments": {},
   "cell_type": "markdown",
   "metadata": {},
   "source": [
    "## Theory"
   ]
  },
  {
   "attachments": {},
   "cell_type": "markdown",
   "metadata": {},
   "source": [
    "- Theorem 9.1: Bayes theorem is actually super intuitive. I'll put it in its raw form first, we'll break down the details later.\n",
    "\n",
    "$$\n",
    "    Pr(A|B) = \\frac{Pr(B|A) \\cdot P(A)}{P(B)}\n",
    "$$\n",
    "\n",
    "- The derivation of Bayes theorem is actually very simple. \n",
    "    - We want to compute conditional probability $Pr(A|B)$\n",
    "    - Let's break down the conditional probability as a venn diagram, with A and B as intersecting circles\n",
    "        - In the Venn diagram, $Pr(A|B)$ is simply the intersection of A and B, divided by the area of B\n",
    "        - Intuitively, since you are already \"given\" that B has occurred, your probability space should only include the area with B. That is, $P(B)$\n",
    "        - Hence, $Pr(A|B)$ is simply the area where both A and B occurs (i.e. $Pr(A,B)$) as a proportion where area B occurs $Pr(B)$\n",
    "        - $Pr(A|B) = \\frac{Pr(A,B)}{Pr(B)}$\n",
    "    \n",
    "    - We now have an intermediate representation that is somewhat closer to Bayes theorem formula above. Let's think a little more closely about $Pr(A,B)$\n",
    "        - We know that $Pr(A,B)$ is the intersection of circles A and B in the Venn diagram\n",
    "        - We also know from the argument above that $Pr(A|B) = \\frac{Pr(A,B)}{Pr(B)}$\n",
    "        - By symmetry, this must also mean that $Pr(B|A) = \\frac{Pr(A,B)}{Pr(A)}$\n",
    "        - Rearranging, it must follow that $Pr(A,B) = Pr(A|B)\\cdot Pr(B) = Pr(B|A)\\cdot Pr(A)$\n",
    "        - Hence, $Pr(A|B) = \\frac{Pr(A,B)}{Pr(B)} = \\frac{Pr(B|A)\\cdot Pr(A)}{Pr(B)}$\n",
    "\n",
    "- Let's extend the logic above to a more realistic scenario\n",
    "    - Assume $A$ can take on values $A_1$, $A_2$, and $A_3$. That is, $A$ is a partition of $B$ (see section 8 notes)\n",
    "    - We want to know, what is $Pr(A_1 | B)$\n",
    "    - Let's further suppose that $Pr(B | A_1)$, $Pr(B | A_2)$, and $Pr(B | A_3)$ are known\n",
    "    - In such a case, given that A **must** be either $A_1$, $A_2$, or $A_3$\n",
    "        - $Pr(A_1) + Pr(A_2) + Pr(A_3) = 1$\n",
    "        - $Pr(B | A_1) * Pr(A_1) + Pr(B | A_2) * Pr(A_2) + Pr(B | A_3) * Pr(A_3) = Pr(B)$\n",
    "        - $B$ must occur with $A_1$, $A_2$, or $A_3$, so summing the weighted probabilities that $B$ occurs conditioning on each value of $A$ must give you the probability of $B$. See section 8 notes, law of total probability\n",
    "    - $Pr(A_1 | B)$ must occur when both $A_1$ and $B$ occur as a percentage of the probability of $B$ occurring\n",
    "    - So this is simply $\\frac{Pr(B | A_1) * Pr(A_1)}{Pr(B | A_1) * Pr(A_1) + Pr(B | A_2) * Pr(A_2) + Pr(B | A_3) * Pr(A_3)} = \\frac{Pr(B | A_1) * Pr(A_1)}{P(B)}$\n",
    "    - Bayes theorem pops up naturally!\n",
    "    "
   ]
  },
  {
   "attachments": {},
   "cell_type": "markdown",
   "metadata": {},
   "source": [
    "### Solving the motivating question"
   ]
  },
  {
   "attachments": {},
   "cell_type": "markdown",
   "metadata": {},
   "source": [
    "- Let $P$ represent whether the test returns positive\n",
    "- Let $H$ represent whether the user has HIV\n",
    "\n",
    "- Given\n",
    "    - $Pr(P | H) = 0.98$\n",
    "    - $Pr(!P | !H) = 0.94$\n",
    "    - $Pr(H) = 0.01$\n",
    "\n",
    "- Deduced\n",
    "    - $Pr(!P | H) = 0.02$\n",
    "    - $Pr(P | !H) = 0.06$\n",
    "    - $Pr(!H) = 0.99$\n",
    "\n",
    "- Question: What is $Pr(H | P)$?\n",
    "\n",
    "- For simplicity, let's assume 10000 people \n",
    "    - 0.01 * 10000=100 people have HIV, and 0.99*10000=9900 do not\n",
    "    - When applying the test to the 100 HIV+ people, 0.98 * 100 = 98 will be positive, and 0.02 * 100 = 2 will not be positive\n",
    "    - When applying the test to the 9900 HIV- people, 0.06 * 9900 = 594 will be positive, and 0.94 * 9900 = 9306 will not be positive\n",
    "    - In total, 594 + 98 = 692 people test positive\n",
    "    - 98/692 ~ 14.2% of people who test positive actually have HIV\n",
    "    - Generally, we are trying to find $\\frac{Pr(H, P)}{Pr(H, P) + Pr(H, !P)}$\n",
    "\n",
    "\n",
    "- Let's generalise this procedure\n",
    "\n",
    "$$\\begin{align}\n",
    "    Pr(H|P) &= \\frac{0.98 * 0.01}{(0.98 * 0.01) + (0.06 * 0.99)} \\\\\n",
    "    &= \\frac{Pr(H, P)}{Pr(H, P) + Pr(H, !P)} \\\\\n",
    "    &= \\frac{Pr(P|H) * Pr(H)}{Pr(P|H) * Pr(H) + Pr(P|!H) * Pr(!H)} \\\\\n",
    "    &= \\frac{Pr(P|H) * Pr(H)}{Pr(P)} \\\\\n",
    "    &= \\frac{Pr(P|H) * Pr(H)}{Pr(P)} \\\\\n",
    "    &= 0.142\n",
    "\\end{align}$$\n"
   ]
  }
 ],
 "metadata": {
  "kernelspec": {
   "display_name": "leetcode",
   "language": "python",
   "name": "python3"
  },
  "language_info": {
   "codemirror_mode": {
    "name": "ipython",
    "version": 3
   },
   "file_extension": ".py",
   "mimetype": "text/x-python",
   "name": "python",
   "nbconvert_exporter": "python",
   "pygments_lexer": "ipython3",
   "version": "3.10.4"
  },
  "orig_nbformat": 4
 },
 "nbformat": 4,
 "nbformat_minor": 2
}
