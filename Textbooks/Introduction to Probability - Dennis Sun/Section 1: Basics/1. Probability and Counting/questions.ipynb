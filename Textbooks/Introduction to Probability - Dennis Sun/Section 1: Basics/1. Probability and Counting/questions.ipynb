{
 "cells": [
  {
   "attachments": {},
   "cell_type": "markdown",
   "metadata": {},
   "source": [
    "### 1. In the casino game craps, two dice are rolled by a player, called the “shooter”. The first roll is called the “come-out roll”. The shooter wins on the come-out roll if they roll a 7 or a 11. On the other hand, they lose if the come-out roll is a 2, 3, or 12. Otherwise, the game continues.\n",
    "\n",
    "- What is the probability that the shooter wins on the come-out roll?\n",
    "- What is the probability that the shooter loses on the come-out roll?\n",
    "- What is the probability that the game continues?\n",
    "- If you add up the three probabilities you just calculated, what do you get? Why does this make sense?\n"
   ]
  },
  {
   "attachments": {},
   "cell_type": "markdown",
   "metadata": {},
   "source": [
    "- What is the probability that the shooter wins on the come-out roll?\n",
    "    - $\\frac{8}{36} = \\text{6 ways to roll 6} + \\text{2 ways to roll 11}$\n",
    "\n",
    "- What is the probability that the shooter loses on the come-out roll?\n",
    "    - $\\frac{4}{36} = \\text{1 way to roll 2} + \\text{2 ways to roll 3} + \\text{1 way to roll 12}$\n",
    "    \n",
    "- What is the probability that the game continues?\n",
    "    - $1 - \\frac{8}{36} - \\frac{4}{36} = \\frac{24}{36}$\n",
    "\n",
    "- If you add up the three probabilities you just calculated, what do you get? Why does this make sense?\n",
    "    - 1, because that accounts for all possible outcomes from the first roll\n",
    "\n"
   ]
  },
  {
   "attachments": {},
   "cell_type": "markdown",
   "metadata": {},
   "source": [
    "### 2. Many examples in this book will be based on a standard deck of 52 playing cards, consisting of 13 cards of each suit. Familiarize yourself with the terminology. Suppose you draw one card from a shuffled deck of cards.\n",
    "- What is the probability that the card is a heart?\n",
    "- What is the probability that the card is an ace?\n",
    "- What is the probability that the card is a face card (also known as a “court card”)?\n"
   ]
  },
  {
   "attachments": {},
   "cell_type": "markdown",
   "metadata": {},
   "source": [
    "- What is the probability that the card is a heart?\n",
    "    - $\\frac{13}{52}$\n",
    "\n",
    "- What is the probability that the card is an ace?\n",
    "    - $\\frac{4}{52}$\n",
    "\n",
    "- What is the probability that the card is a face card (also known as a “court card”)?\n",
    "    - $\\frac{12}{52}$"
   ]
  },
  {
   "attachments": {},
   "cell_type": "markdown",
   "metadata": {},
   "source": [
    "### 3. Many examples in this book will be based on the casino game roulette. Familiarize yourself with the roulette wheel. (Click the wheel to spin it.) You win if the ball lands in a pocket that matches your bet.\n",
    "- What is the probability that you win if you bet on red?\n",
    "- What is the probability that you win if you bet on the number 10?\n",
    "- What is the probability that you win if you bet on odd (i.e., that the number is odd)?"
   ]
  },
  {
   "attachments": {},
   "cell_type": "markdown",
   "metadata": {},
   "source": [
    "- What is the probability that you win if you bet on red?\n",
    "    - $\\frac{18}{38}$\n",
    "\n",
    "- What is the probability that you win if you bet on the number 10?\n",
    "    - $\\frac{1}{38}$\n",
    "\n",
    "- What is the probability that you win if you bet on odd (i.e., that the number is odd)?\n",
    "    - $\\frac{1}{2}$"
   ]
  },
  {
   "attachments": {},
   "cell_type": "markdown",
   "metadata": {},
   "source": [
    "### 4. In standard poker, each player is dealt 5 cards off the top of a (shuffled) deck of cards. The hand is called a “flush” if all 5 cards are the same suit. What is the probability that you get a flush of hearts (i.e., all 5 cards are hearts)?\n"
   ]
  },
  {
   "attachments": {},
   "cell_type": "markdown",
   "metadata": {},
   "source": [
    "- $4 \\cdot \\prod_{i=0}^{5} \\frac{13-i}{52-i}$\n"
   ]
  }
 ],
 "metadata": {
  "language_info": {
   "name": "python"
  },
  "orig_nbformat": 4
 },
 "nbformat": 4,
 "nbformat_minor": 2
}
