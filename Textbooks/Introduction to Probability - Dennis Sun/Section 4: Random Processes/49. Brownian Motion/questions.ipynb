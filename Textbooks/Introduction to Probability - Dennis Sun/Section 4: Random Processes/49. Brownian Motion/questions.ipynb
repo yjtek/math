{
 "cells": [
  {
   "cell_type": "code",
   "execution_count": 4,
   "metadata": {},
   "outputs": [],
   "source": [
    "import scipy\n",
    "import numpy as np\n",
    "import matplotlib.pyplot as plt"
   ]
  },
  {
   "cell_type": "markdown",
   "metadata": {},
   "source": [
    "### 1. Brownian motion is used in finance to model short-term asset price fluctuation. Suppose the price (in dollars) of a barrel of crude oil varies according to a Brownian motion process; specifically, suppose the change in a barrel’s price $t$ days from now is modeled by Brownian motion $B(t)$ with $\\alpha = 0.15$"
   ]
  },
  {
   "cell_type": "markdown",
   "metadata": {},
   "source": [
    "- Recall definition of Brownian motion $B(t)$\n",
    "    - $E[B(t_1 - t_0)] = 0$\n",
    "    - $Var[B(t_1 - t_0)] = \\alpha (t_1 - t_0)$"
   ]
  },
  {
   "cell_type": "markdown",
   "metadata": {},
   "source": [
    "#### a. Find the probability that the price of a barrel of crude oil has changed by more than $1, in either direction, after 5 days."
   ]
  },
  {
   "cell_type": "markdown",
   "metadata": {},
   "source": [
    "$$\\begin{align}\n",
    "    P(| B(5) - B(0) | > 1) &= P(Z > \\frac{1 - 0}{\\sqrt{0.15 (5-0)}}) + P(Z < \\frac{-1 - 0}{\\sqrt{0.15 (5-0)}}) \\\\\n",
    "    &= 2 * P(Z > \\frac{1 - 0}{0.866}) \\\\\n",
    "    &= 2 * P(Z > 1.155) \\\\\n",
    "    &= 2 * (1 - P(Z < 1.155)) \\\\\n",
    "    &= 2 * 0.124 \\\\\n",
    "    &= 0.248 \n",
    "\\end{align}$$"
   ]
  },
  {
   "cell_type": "code",
   "execution_count": 28,
   "metadata": {},
   "outputs": [
    {
     "data": {
      "text/plain": [
       "0.2519"
      ]
     },
     "execution_count": 28,
     "metadata": {},
     "output_type": "execute_result"
    }
   ],
   "source": [
    "sims = np.random.normal(loc=0, scale=np.sqrt(0.15*5), size=10_000)\n",
    "len(sims[np.abs(sims) > 1])/len(sims)"
   ]
  },
  {
   "cell_type": "markdown",
   "metadata": {},
   "source": [
    "#### b. Repeat (a) for a time interval of 10 days."
   ]
  },
  {
   "cell_type": "markdown",
   "metadata": {},
   "source": [
    "$$\\begin{align}\n",
    "    P(| B(10) - B(0) | > 1) &= P(Z > \\frac{1 - 0}{\\sqrt{0.15 (10-0)}}) + P(Z > \\frac{-1 - 0}{\\sqrt{0.15 (10-0)}}) \\\\\n",
    "    &= 2 * P(Z > \\frac{1 - 0}{1.225}) \\\\\n",
    "    &= 2 * P(Z > 0.8165) \\\\\n",
    "    &= 2 * (1 - P(Z < 0.8165)) \\\\\n",
    "    &= 0.414\n",
    "\\end{align}$$"
   ]
  },
  {
   "cell_type": "code",
   "execution_count": 39,
   "metadata": {},
   "outputs": [
    {
     "data": {
      "text/plain": [
       "0.4077"
      ]
     },
     "execution_count": 39,
     "metadata": {},
     "output_type": "execute_result"
    }
   ],
   "source": [
    "sims = np.random.normal(loc=0, scale=np.sqrt(0.15*10), size=10_000)\n",
    "len(sims[np.abs(sims) > 1])/len(sims)"
   ]
  },
  {
   "cell_type": "markdown",
   "metadata": {},
   "source": [
    "#### c. Given that the price has increased by $1 after one week (7 days), what is the probability that the price has increased by at least $2 after two weeks (14 days)?"
   ]
  },
  {
   "cell_type": "markdown",
   "metadata": {},
   "source": [
    "- By independence of non overlapping time periods, $P(\\delta P_{14} \\ge 2 | \\delta P_{7} = 1) = P(\\delta P_{7} \\ge 1)$\n",
    "    - The probability that price increases by at least $2 in 14 days given that it increases $1 in 7 days, is simply the probability that the price increases by $1 in the last 7 days\n",
    "\n",
    "$$\\begin{align}\n",
    "    P(B(7) - B(0) > 1) &= P(Z > \\frac{1-0}{\\sqrt{0.15 (7-0)}}) \\\\\n",
    "    &= P(Z > \\frac{1-0}{\\sqrt{0.15 (7-0)}}) \\\\\n",
    "    &= P(Z > 0.976) \\\\\n",
    "    &= 1 - P(Z \\le 0.976) \\\\\n",
    "    &= 0.165\n",
    "\\end{align}$$"
   ]
  },
  {
   "cell_type": "code",
   "execution_count": 89,
   "metadata": {},
   "outputs": [
    {
     "data": {
      "text/plain": [
       "0.1715"
      ]
     },
     "execution_count": 89,
     "metadata": {},
     "output_type": "execute_result"
    }
   ],
   "source": [
    "sims = np.random.normal(loc=0, scale=np.sqrt(0.15*7), size=10000)\n",
    "len(sims[sims > 1]) / len(sims)"
   ]
  }
 ],
 "metadata": {
  "kernelspec": {
   "display_name": "kaggle",
   "language": "python",
   "name": "python3"
  },
  "language_info": {
   "codemirror_mode": {
    "name": "ipython",
    "version": 3
   },
   "file_extension": ".py",
   "mimetype": "text/x-python",
   "name": "python",
   "nbconvert_exporter": "python",
   "pygments_lexer": "ipython3",
   "version": "3.10.4"
  },
  "orig_nbformat": 4
 },
 "nbformat": 4,
 "nbformat_minor": 2
}
