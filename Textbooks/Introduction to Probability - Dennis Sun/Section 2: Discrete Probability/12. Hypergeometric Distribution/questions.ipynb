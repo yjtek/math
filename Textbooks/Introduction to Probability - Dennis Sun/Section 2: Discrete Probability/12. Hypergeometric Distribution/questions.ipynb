{
 "cells": [
  {
   "attachments": {},
   "cell_type": "markdown",
   "metadata": {},
   "source": [
    "### 1. Recall in the example from Lesson 10, there was another player, Bob, who had two Jacks and was looking to get a four-of-a-kind. For Bob, the random variable of interest was the number of Jacks among the community cards. Use a box model to argue that Bob’s random variable also has a hypergeometric distribution. What are its parameters?"
   ]
  },
  {
   "attachments": {},
   "cell_type": "markdown",
   "metadata": {},
   "source": [
    "- Recall that there are 48 cards in the deck, of which 2 are Jacks\n",
    "- Let X be the random variable representing the number of jacks in the community cards\n",
    "\n",
    "- $X \\sim Hypergeometric(48, 2, 5)$\n",
    "\n",
    "- From combinations perspective\n",
    "$$\n",
    "    \\frac{\\binom{2}{x} \\binom{46}{5-x}}{\\binom{48}{5}}\n",
    "$$"
   ]
  },
  {
   "attachments": {},
   "cell_type": "markdown",
   "metadata": {},
   "source": [
    "### 2. In order to ensure safety, a random sample of cars on each production line are crash-tested before being released to the public. The process of crash testing destroys the car. Suppose that a production line contains 10 defective and 190 working cars. If 4 of these cars are chosen at random for crash-testing, what is:\n",
    "- the probability that at least 1 car will be found defective?\n",
    "- the probability that exactly 2 cars will be found defective?"
   ]
  },
  {
   "attachments": {},
   "cell_type": "markdown",
   "metadata": {},
   "source": [
    "- Let number of defective cars be X\n",
    "- X ~ Hypergeometric(200, 10, 4)\n",
    "\n",
    "- the probability that at least 1 car will be found defective? --> 18.7%\n",
    "- the probability that exactly 2 cars will be found defective? --> 1.2%"
   ]
  },
  {
   "cell_type": "code",
   "execution_count": 4,
   "metadata": {},
   "outputs": [
    {
     "data": {
      "text/plain": [
       "0.012490927178578581"
      ]
     },
     "execution_count": 4,
     "metadata": {},
     "output_type": "execute_result"
    }
   ],
   "source": [
    "from scipy import stats\n",
    "import numpy as np\n",
    "1 - np.sum(stats.hypergeom(200, 10, 4).pmf(0)) \n",
    "stats.hypergeom(200, 10, 4).cdf(2) - stats.hypergeom(200, 10, 4).cdf(1)"
   ]
  },
  {
   "attachments": {},
   "cell_type": "markdown",
   "metadata": {},
   "source": [
    "### 3. The state proposes a lottery in which you select 6 numbers from 1 to 15. When it is time to draw, the lottery selects 8 different numbers, and you win if at least 4 of the 6 numbers you picked are among the 8 numbers that the lottery drew. What is the probability you win the prize?\n",
    "\n"
   ]
  },
  {
   "attachments": {},
   "cell_type": "markdown",
   "metadata": {},
   "source": [
    "- There are 15 numbers\n",
    "    - 8 are positive (i.e. have been selected by the lottery)\n",
    "    - 7 are negative (i.e. have not been selected by the lottery)\n",
    "- Let X be the number of positives in a sample of 6\n",
    "    - Therefore, X~Hypergeometric(15, 8, 6)\n",
    "    - To win, you need $X \\geq 4$. So compute $P(X \\geq 4)$\n",
    "\n",
    "$$\\begin{align}\n",
    "    P(X \\geq 4) &= 1 - P(X \\leq 3) \\\\\n",
    "    &= 1 - F(3) \\\\\n",
    "    &= 1 - f(3) - f(2) - f(1) - f(0) \\\\\n",
    "    &\\approx 0.378\n",
    "\\end{align}$$\n",
    "\n",
    "- From the hypergeometric PMF, $f(3)$ is shown below. $f(2)$, $f(1)$, and $f(0)$ follows the same logic\n",
    "\n",
    "$$\n",
    "    f(3) = \\frac{\\binom{8}{3} \\binom{7}{3}}{\\binom{15}{6}}\n",
    "$$\n",
    "\n",
    "- We'll compute this below\n"
   ]
  },
  {
   "cell_type": "code",
   "execution_count": 98,
   "metadata": {},
   "outputs": [
    {
     "data": {
      "text/plain": [
       "0.3776223776223776"
      ]
     },
     "execution_count": 98,
     "metadata": {},
     "output_type": "execute_result"
    }
   ],
   "source": [
    "import scipy\n",
    "import numpy as np\n",
    "prob = np.sum(scipy.stats.hypergeom(15,8,6).pmf([4,5,6]))\n",
    "prob2 = 1-np.sum(scipy.stats.hypergeom(15,8,6).pmf([0,1,2,3]))\n",
    "assert(prob==prob2)\n",
    "prob"
   ]
  },
  {
   "cell_type": "code",
   "execution_count": 101,
   "metadata": {},
   "outputs": [
    {
     "data": {
      "text/plain": [
       "0.3785"
      ]
     },
     "execution_count": 101,
     "metadata": {},
     "output_type": "execute_result"
    }
   ],
   "source": [
    "population = [1] * 8 + [0] * 7\n",
    "simulate_lottery=[np.sum(np.random.choice(population, 6, replace=False))>=4 for _ in range(10_000)]\n",
    "win_rate=np.mean(simulate_lottery)\n",
    "win_rate"
   ]
  },
  {
   "attachments": {},
   "cell_type": "markdown",
   "metadata": {},
   "source": [
    "### 4. You are enrolled in 3 courses this quarter, and the breakdown of majors by class is as follows:\n",
    "\n",
    "- Class 1: 4 Statistics majors and 6 Computer Science majors\n",
    "- Class 2: 17 Statistics majors and 13 Computer Science majors\n",
    "- Class 3: 11 Statistics majors and 9 Computer Science majors\n",
    "\n",
    "(i) If you take a simple random sample of 20% of the students in Class 1, what is the probability that the number of Statistics majors in your sample is equal to the number of Computer Science majors? (Note: In a simple random sample, each student can be selected at most once.)\n",
    "\n",
    "(ii) Now, suppose you pick one of your 3 classes at random and then choose a random sample of 20% of students from that class. What is the probability that the number of Statistics majors in your sample is equal to the number of Computer Science majors in your sample? "
   ]
  },
  {
   "attachments": {},
   "cell_type": "markdown",
   "metadata": {},
   "source": [
    "(i)\n",
    "\n",
    "- 20% of students in class 1 is 2 students\n",
    "- So the question is, if I randomly sample 2 students without replacement, what is the probability I get 1 of each major\n",
    "- Let X be the number of comp science students\n",
    "- X~Hypergeom(10, 6, 2)\n",
    "- Find P(X=1), or f(1)\n",
    "\n",
    "$$\\begin{align}\n",
    "    f(1) = \\frac{\\binom{6}{1}\\binom{4}{1}}{\\binom{10}{2}} = 0.53\n",
    "\\end{align}$$\n"
   ]
  },
  {
   "attachments": {},
   "cell_type": "markdown",
   "metadata": {},
   "source": [
    "(ii)\n",
    "\n",
    "- This is the same procedure, just weighted across all classes\n",
    "- i.e. $\\frac{1}{3} * f(1)_{class1,N=2} + \\frac{1}{3} * f(6)_{class2,N=12} + \\frac{1}{3} * f(2)_{class3,N=4}$"
   ]
  },
  {
   "attachments": {},
   "cell_type": "markdown",
   "metadata": {},
   "source": [
    "### 5. In Texas Hold’em, each player has 2 cards of their own, and all players share 5 cards in the center of the table. A player has a flush when there are at least 5 cards of the same suit out of the 7 total cards. The deck is shuffled between hands, so that the probability you obtain a flush is independent from hand to hand. What is the probability that you get a flush at least once in 10 hands of Texas Hold’em? (Hint: First, calculate the probability of a flush of spades. Then, repeat for the other suits, and add the probabilities together to obtain the overall probability of a flush.)\n"
   ]
  },
  {
   "attachments": {},
   "cell_type": "markdown",
   "metadata": {},
   "source": [
    "- Assumptions\n",
    "    - Assume a only 1 player. \n",
    "    - Hence, total of 7 cards drawn (2 in hand, 5 in river)\n",
    "    - 52 cards in a deck\n",
    "\n",
    "- A flush can be diamonds, clubs, hearts, spades, with the last 2 cards taking on any suit\n",
    "- Let's compute for spades flush first. Whatever value we get can simply be applied directly to the other suits\n",
    "    - Let any spades card be tagged as a 1. In a deck, there are 13 1s and 39 0s\n",
    "    - You want to choose 5 from the 13\n",
    "    - You want to choose 2 from the 39\n",
    "\n",
    "- Let X be the number of spades you draw\n",
    "- X~Hypergeom(52, 13, 7)\n",
    "- Compute $P(X >= 5) = 1 - P(X <= 4) = 1 - F(4)$\n",
    "\n",
    "- Multiply by 4 to get the answer"
   ]
  },
  {
   "cell_type": "code",
   "execution_count": 105,
   "metadata": {},
   "outputs": [
    {
     "data": {
      "text/plain": [
       "0.007641442330863835"
      ]
     },
     "execution_count": 105,
     "metadata": {},
     "output_type": "execute_result"
    }
   ],
   "source": [
    "import scipy\n",
    "import numpy as np\n",
    "\n",
    "np.sum(scipy.stats.hypergeom(52, 13, 7).pmf([5,6,7]))\n",
    "1 - np.sum(scipy.stats.hypergeom(52, 13, 7).pmf([0,1,2,3,4]))"
   ]
  },
  {
   "cell_type": "code",
   "execution_count": 127,
   "metadata": {},
   "outputs": [
    {
     "data": {
      "text/plain": [
       "0.00774"
      ]
     },
     "execution_count": 127,
     "metadata": {},
     "output_type": "execute_result"
    }
   ],
   "source": [
    "population=[0]*39 + [1]*13\n",
    "flush_draws=[np.sum(np.random.choice(population, 7, replace=False)) >= 5 for _ in range(25_000)]\n",
    "np.mean(flush_draws)"
   ]
  },
  {
   "attachments": {},
   "cell_type": "markdown",
   "metadata": {},
   "source": [
    "### 6. There are 25 coins in a jar. 15 are quarters, 7 are dimes, and 3 are pennies. Each time you reach in the jar, you are equally likely to pick any of the coins in the jar. The coins are not replaced in the jar after each draw. What is the minimum number of times you must reach in the jar to have at least a 50% chance of getting all 3 pennies? (Hint: In this question, n is unknown. You will have to try a few different values of n to get the answer.)"
   ]
  },
  {
   "attachments": {},
   "cell_type": "markdown",
   "metadata": {},
   "source": [
    "- Let X be the number of pennies drawn\n",
    "- X ~ Hypergeom(25, 3, n)\n",
    "- You want to find $n$ such that f(3) >= 0.5\n",
    "- For simplicity, just use python \n",
    "- At least 21 draws! higher than expected"
   ]
  },
  {
   "cell_type": "code",
   "execution_count": 148,
   "metadata": {},
   "outputs": [
    {
     "name": "stdout",
     "output_type": "stream",
     "text": [
      "21\n"
     ]
    }
   ],
   "source": [
    "import numpy as np\n",
    "import scipy\n",
    "probs=[scipy.stats.hypergeom(25, 3, x).pmf(3) for x in range(26)]\n",
    "print([i for i,x in enumerate(probs) if x >= 0.5][0])\n",
    "probs;\n",
    "\n"
   ]
  },
  {
   "cell_type": "code",
   "execution_count": null,
   "metadata": {},
   "outputs": [],
   "source": []
  }
 ],
 "metadata": {
  "kernelspec": {
   "display_name": "leetcode",
   "language": "python",
   "name": "python3"
  },
  "language_info": {
   "codemirror_mode": {
    "name": "ipython",
    "version": 3
   },
   "file_extension": ".py",
   "mimetype": "text/x-python",
   "name": "python",
   "nbconvert_exporter": "python",
   "pygments_lexer": "ipython3",
   "version": "3.10.4"
  },
  "orig_nbformat": 4
 },
 "nbformat": 4,
 "nbformat_minor": 2
}
