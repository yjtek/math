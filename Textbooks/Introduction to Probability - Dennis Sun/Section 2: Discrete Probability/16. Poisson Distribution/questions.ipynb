{
 "cells": [
  {
   "attachments": {},
   "cell_type": "markdown",
   "metadata": {},
   "source": [
    "### 1. If you buy a lottery ticket in 50 lotteries, in each of which your chances of winning a prize of $\\frac{1}{100}$, what is the probability that you will win a prize:\n",
    "- at least once?\n",
    "    - 1 - f(0) = 0.39\n",
    "- exactly twice?\n",
    "    - f(2) = 0.076\n",
    "- at least twice?\n",
    "    - 1 - f(0) - f(1) = 0.090\n",
    "\n",
    "Calculate both the exact probabilities (using the binomial distribution) and the approximate probabilities (using the Poisson distribution)."
   ]
  },
  {
   "cell_type": "code",
   "execution_count": 13,
   "metadata": {},
   "outputs": [
    {
     "name": "stdout",
     "output_type": "stream",
     "text": [
      "0.3934693402873666\n",
      "0.07581633246407918\n",
      "0.09020401043104986\n",
      "0.3934693402873666\n",
      "0.07581633246407919\n",
      "0.09020401043104986\n"
     ]
    }
   ],
   "source": [
    "import numpy as np\n",
    "from math import factorial\n",
    "print(1 - np.exp(-0.5) * 0.5**0 / factorial(0))\n",
    "print(np.exp(-0.5) * 0.5**2 / factorial(2))\n",
    "print(1 - np.exp(-0.5) * 0.5**0/factorial(0) - np.exp(-0.5) * 0.5**1/factorial(1))\n",
    "\n",
    "import scipy\n",
    "print(1 - scipy.stats.poisson.pmf(mu=0.5, k=0))\n",
    "print(scipy.stats.poisson.pmf(mu=0.5, k=2))\n",
    "print(1 - np.sum(scipy.stats.poisson.pmf(mu=0.5, k=[0,1])))"
   ]
  },
  {
   "attachments": {},
   "cell_type": "markdown",
   "metadata": {},
   "source": [
    "### 2. The number of organisms in V cubic meters of ballast water discharged from a ship follows a $Poisson(\\mu = 10V)$ distribution. (See “Counting at Low Concentrations: The Statistical Challenges of Verifying Ballast Water Discharge Standards”, Ecological Applications, 2013:339–351.) What is the probability that there are at least 12 organisms in 1.5 cubic meters of discharge? For what amount of discharge would the probability of containing at least one organism be .999?"
   ]
  },
  {
   "attachments": {},
   "cell_type": "markdown",
   "metadata": {},
   "source": [
    "- V = 1.5\n",
    "- So $\\mu = 15$\n",
    "- Pr(X>=12) = 1 - P(X<=11) = 1 - f(11) - f(10) - ..."
   ]
  },
  {
   "cell_type": "code",
   "execution_count": 23,
   "metadata": {},
   "outputs": [
    {
     "name": "stdout",
     "output_type": "stream",
     "text": [
      "0.8152482009760685\n",
      "0.8152482009760685\n"
     ]
    },
    {
     "data": {
      "text/plain": [
       "[(0, 0.0),\n",
       " (1, 0.6321205588285577),\n",
       " (2, 0.8646647167633873),\n",
       " (3, 0.950212931632136),\n",
       " (4, 0.9816843611112658),\n",
       " (5, 0.9932620530009145),\n",
       " (6, 0.9975212478233336),\n",
       " (7, 0.9990881180344455),\n",
       " (8, 0.9996645373720975),\n",
       " (9, 0.9998765901959134),\n",
       " (10, 0.9999546000702375),\n",
       " (11, 0.9999832982992097),\n",
       " (12, 0.9999938557876467),\n",
       " (13, 0.999997739670593),\n",
       " (14, 0.9999991684712809)]"
      ]
     },
     "execution_count": 23,
     "metadata": {},
     "output_type": "execute_result"
    }
   ],
   "source": [
    "from math import factorial\n",
    "import numpy as np\n",
    "import scipy\n",
    "\n",
    "print(1 - np.sum(scipy.stats.poisson.pmf(mu=15, k=range(12)))) ## at least 12 organisms\n",
    "print(1 - np.sum(scipy.stats.poisson.cdf(mu=15, k=11))) ## at least 12 organisms\n",
    "\n",
    "## At least 0.999 of 1 organism first occurs at mu=7\n",
    "[(x, 1 - scipy.stats.poisson.pmf(mu=x, k=0)) for x in range(15)] "
   ]
  },
  {
   "attachments": {},
   "cell_type": "markdown",
   "metadata": {},
   "source": [
    "### 3. Thelma calculates the exact probability of winning more than 50% of the time when she places 1000 bets on red in roulette. Louise calculates an approximate probability using the Poisson distribution. They get very different answers. What answers did they get, and why did the Poisson approximation fail in this case?"
   ]
  },
  {
   "attachments": {},
   "cell_type": "markdown",
   "metadata": {},
   "source": [
    "- 18 reds in 38 slots in roulette\n",
    "- If X is binom\n",
    "    - X~Binom(n=1000, p=18/38)\n",
    "- Using poisson approximation\n",
    "    - X~Poisson(mu=1000*18/38)\n",
    "\n",
    "- P(win > 50% of time) = 1 - P(win <= 50% of time) = 1 - F(500) = 1 - f(500) - f(499) ...\n",
    "\n",
    "- Fails because p is not small, so poisson approximation does not hold"
   ]
  },
  {
   "cell_type": "code",
   "execution_count": 26,
   "metadata": {},
   "outputs": [
    {
     "name": "stdout",
     "output_type": "stream",
     "text": [
      "0.04479590690358959\n",
      "0.10966148163332257\n"
     ]
    }
   ],
   "source": [
    "import scipy\n",
    "\n",
    "print(1 - np.sum(scipy.stats.binom.pmf(n=1000, p=18/38, k=range(501))))\n",
    "print(1 - np.sum(scipy.stats.poisson.pmf(mu=1000*18/38, k=range(501))))"
   ]
  }
 ],
 "metadata": {
  "kernelspec": {
   "display_name": "leetcode",
   "language": "python",
   "name": "python3"
  },
  "language_info": {
   "codemirror_mode": {
    "name": "ipython",
    "version": 3
   },
   "file_extension": ".py",
   "mimetype": "text/x-python",
   "name": "python",
   "nbconvert_exporter": "python",
   "pygments_lexer": "ipython3",
   "version": "3.10.4"
  },
  "orig_nbformat": 4
 },
 "nbformat": 4,
 "nbformat_minor": 2
}
