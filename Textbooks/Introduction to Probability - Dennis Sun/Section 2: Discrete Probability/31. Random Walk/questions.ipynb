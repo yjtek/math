{
 "cells": [
  {
   "attachments": {},
   "cell_type": "markdown",
   "metadata": {},
   "source": [
    "### Answer the following questions about the random walk. You should use linearity of expectation and properties of covariance as much as possible.\n",
    "\n",
    "- What is the distribution of $X_2$, the drunkard’s position after just 2 steps? (This is not a named distribution. Just make a table showing the possible values and their probabilities.)\n",
    "- Calculate $E[Z_i]$ and $Var[Z_i]$\n",
    "- Calculate $E[X_3]$ and $Var[X_3]$\n",
    "- Consider $X_3$ and $X_5$ Do you think their covariance is positive, negative, or zero? Calculate $Cov[X_3, X_5]$"
   ]
  },
  {
   "attachments": {},
   "cell_type": "markdown",
   "metadata": {},
   "source": [
    "- Possible values of $X_2$\n",
    "    - -2: (-1,-1) --> 0.25\n",
    "    - 0: (-1,1), (1, -1) --> 0.5\n",
    "    - 2: (1,1) --> 0.25\n",
    "\n",
    "- $E[Z_i] = 0$\n",
    "- $Var[Z_i] = ((1-0)^2 + (-1-0)^2)/2 = 1$\n",
    "\n",
    "- $E[X_3] = E[Z_0] + E[Z_1] + E[Z_2] + E[Z_3] = 0$\n",
    "- $\\begin{align}\n",
    "    Var[X_3] &= Var[Z_0 + Z_1 + Z_2 + Z_3] \\\\\n",
    "    &= Cov[Z_0 + Z_1 + Z_2 + Z_3, Z_0 + Z_1 + Z_2 + Z_3] \\\\\n",
    "    &= Cov[Z_0, Z_0] + Cov[Z_0, Z_1] + ... Cov[Z_3, Z_3] \\\\\n",
    "    &= Cov[Z_0, Z_0] + Cov[Z_1, Z_1] + Cov[Z_2, Z_2] + Cov[Z_3, Z_3] & \\text{covariance is 0 between steps} \\\\\n",
    "    &= 4\n",
    "    \\end{align}$\n",
    "\n",
    "- $\\begin{align}\n",
    "    Cov[X_3, X_5] &= Cov[Z_0 + ... Z_3, Z_0 + ... Z_5] \\\\\n",
    "    &= Cov[Z_0, Z_0] + Cov[Z_1, Z_1] + ... Cov[Z_3, Z_3] \\\\\n",
    "    &= 4\n",
    "    \\end{align}$\n",
    "\n",
    "- Covariance between X3 and X5 is positive because position of 5 is related to position of 3 (for example, if you are at -3 at step 3, you cannot possibly reach 3 at step 5)"
   ]
  },
  {
   "attachments": {},
   "cell_type": "markdown",
   "metadata": {},
   "source": []
  }
 ],
 "metadata": {
  "language_info": {
   "name": "python"
  },
  "orig_nbformat": 4
 },
 "nbformat": 4,
 "nbformat_minor": 2
}
