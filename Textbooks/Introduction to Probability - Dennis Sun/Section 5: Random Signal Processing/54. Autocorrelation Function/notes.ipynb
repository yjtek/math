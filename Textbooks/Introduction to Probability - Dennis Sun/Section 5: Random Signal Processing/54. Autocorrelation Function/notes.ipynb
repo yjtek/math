{
 "cells": [
  {
   "cell_type": "code",
   "execution_count": null,
   "metadata": {},
   "outputs": [],
   "source": [
    "import numpy as np\n",
    "import matplotlib.pyplot as plt\n",
    "import scipy"
   ]
  },
  {
   "attachments": {},
   "cell_type": "markdown",
   "metadata": {},
   "source": [
    "## Theory"
   ]
  },
  {
   "cell_type": "markdown",
   "metadata": {},
   "source": [
    "- Having looked at **mean function** and **autocovariance function** of random processes, we finally get to the most important concept, the **autocorrelation function**\n",
    "\n",
    "- **Definition 54.1 (Autocorrelation Function)**: The autocorrelation function $R_X(s,t)$ of a random process $\\{X(t)\\}$ is a function of two times $s$ and $t$. It specifies $$R_X(s,t) = E[X(s)X(t)]$$\n",
    "\n",
    "- Recall that $Cov[X(s)X(t)] = E[X(s)X(t)] - E[X(s)]E[X(t)]$. Let's make use of this to rewrite the autocorrelation function as \n",
    "    - $$R_X(s,t) = E[X(t)X(s)] = Cov[X(t)X(s)] + E[X(s)]E[X(t)] = C_X(s,t) + \\mu_X(s)\\mu_X(t)$$\n",
    "    - $$R_X[m,n] = E[X[m]X[n]] = Cov[X[m]X[n]] + E[X[m]]E[X[n]] = C_X[m,n] + \\mu_X[m]\\mu_X[n]$$\n",
    "\n",
    "- If a process is stationary\n",
    "    - $$R_X(s,t) = C_X(s,t) + \\mu_X(s)\\mu_X(t) = C_X(\\tau) + \\mu_X^2$$\n",
    "\n"
   ]
  },
  {
   "cell_type": "markdown",
   "metadata": {},
   "source": [
    "## Examples"
   ]
  },
  {
   "cell_type": "markdown",
   "metadata": {},
   "source": [
    "### Example 54.1 (Random Amplitude Process)"
   ]
  },
  {
   "cell_type": "markdown",
   "metadata": {},
   "source": [
    "- Consider the random amplitude process introduced in example 48.1 $$X(t) = A \\cos(2 \\pi ft)$$ \n",
    "- By autocorrelation definition \n",
    "    - $$\\begin{align}\n",
    "        R_X(s,t) &= Cov(X(s), X(t)) + \\mu_X(s)\\mu_X(t) \\\\\n",
    "        &= 1.25 \\cos(2 \\pi ft) \\cos(2 \\pi fs) + 2.5 \\cos(2 \\pi ft) \\cdot 2.5 \\cos(2 \\pi fs) \\\\\n",
    "        &= (1.25 + 2.5^2) \\cos(2 \\pi ft) \\cos(2 \\pi fs) \\\\\n",
    "        \\end{align}$$"
   ]
  },
  {
   "cell_type": "markdown",
   "metadata": {},
   "source": [
    "### Example 54.2 (Poisson Process)"
   ]
  },
  {
   "cell_type": "markdown",
   "metadata": {},
   "source": [
    "- Consider the Poisson process $\\{ N(t); t \\ge 0 \\}$ of rate $\\lambda$, defined in Example 47.1. What is its autocorrelation function?\n",
    "\n",
    "$$\\begin{align}\n",
    "    R_X(s,t) &= C_X(s,t) + \\mu_X(s)\\mu_X(t) \\\\\n",
    "    &= \\lambda \\text{min}(s,t) + \\lambda^2 \\cdot s \\cdot t \\\\\n",
    "\\end{align}$$"
   ]
  },
  {
   "cell_type": "markdown",
   "metadata": {},
   "source": [
    "### Example 52.3 (White Noise)"
   ]
  },
  {
   "cell_type": "markdown",
   "metadata": {},
   "source": [
    "- Consider the white noise process $\\{ Z[n] \\}$ defined in example 47.2, which is simply IID random variables. What is its autocorrelation function?\n",
    "    - $X[n] = Z[n]$, where $Z[n] \\sim \\text{some i.i.d process}$\n",
    "    - $Var[Z[n]] = \\sigma^2$\n",
    "    - $\\delta[k] = \\begin{Bmatrix} 1 & k=0 \\\\ 0 & k \\neq 0 \\end{Bmatrix}$ \n",
    "\n",
    "$$\\begin{align}\n",
    "    R_X[m-n] &= \\sigma^2 \\delta[k] + \\mu^2 & \\text{where } k = m-n\n",
    "\\end{align}$$"
   ]
  },
  {
   "cell_type": "markdown",
   "metadata": {},
   "source": [
    "### Example 52.4 (Random Walk)"
   ]
  },
  {
   "cell_type": "markdown",
   "metadata": {},
   "source": [
    "- Consider the random walk process $\\{ X[n]; n \\ge 0 \\}$ from example 47.3. Recall that random walk means that $$X[n] = X[n-1] + Z[n] = X[n-2] + Z[n-1] + Z[n] = Z[0] + ... Z[n]$$. What is the autocorrelation function?\n",
    "\n",
    "$$\\begin{align}\n",
    "    R_X[m-n] &= C_X[m-n] + \\mu_X[m]\\mu_X[n] \\\\\n",
    "    &= C_X[m-n] \\\\\n",
    "    &= \\text{min}(m,n) Var[Z[1]]\n",
    "\\end{align}$$\n"
   ]
  },
  {
   "cell_type": "markdown",
   "metadata": {},
   "source": [
    "### Example 52.5"
   ]
  },
  {
   "cell_type": "markdown",
   "metadata": {},
   "source": [
    "- Consider the stationary process $\\{ X(t) \\}$ from Example 53.5, whose mean and autocovariance functions are $\\mu_X = 2$ and $C_X(\\tau) = 5 e^{-3\\tau^2}$\n",
    "\n",
    "- Hence, $R_X(t,x) = 5 e^{-3\\tau^2} + 2^2$"
   ]
  },
  {
   "cell_type": "markdown",
   "metadata": {},
   "source": []
  }
 ],
 "metadata": {
  "kernelspec": {
   "display_name": "kaggle",
   "language": "python",
   "name": "python3"
  },
  "language_info": {
   "name": "python",
   "version": "3.10.4"
  },
  "orig_nbformat": 4
 },
 "nbformat": 4,
 "nbformat_minor": 2
}
