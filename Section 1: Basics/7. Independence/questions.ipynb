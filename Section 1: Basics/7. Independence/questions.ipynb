{
 "cells": [
  {
   "attachments": {},
   "cell_type": "markdown",
   "metadata": {},
   "source": [
    "### 1. One card is dealt off the top of a well-shuffled deck of cards. Is the event that the card is a heart independent of the event that the card is an ace?"
   ]
  },
  {
   "attachments": {},
   "cell_type": "markdown",
   "metadata": {},
   "source": [
    "- Yes\n",
    "\n",
    "$$\n",
    "    Pr(H | A) = \\frac{Pr(H, A)}{Pr(A)} = \\frac{\\frac{1}{52}}{\\frac{4}{52}} = \\frac{1}{4} = Pr(H)\n",
    "$$\n",
    "\n",
    "$$\n",
    "    Pr(A | H) = \\frac{Pr(A, H)}{Pr(H)} = \\frac{\\frac{1}{52}}{\\frac{1}{4}} = \\frac{4}{52} = Pr(A)\n",
    "$$"
   ]
  },
  {
   "attachments": {},
   "cell_type": "markdown",
   "metadata": {},
   "source": [
    "### 2. Two cards are dealt off the top of a well-shuffled deck of cards. Is the event that the first card is a heart independent of the event that the second card is a heart?"
   ]
  },
  {
   "attachments": {},
   "cell_type": "markdown",
   "metadata": {},
   "source": [
    "- No\n",
    "\n",
    "- For independence, we need $Pr(\\text{second card heart} | \\text{first card heart}) = Pr(\\text{second card heart})$\n",
    "\n",
    "$$\\begin{align}\n",
    "    Pr(\\text{second card heart} | \\text{first card heart}) &= \\frac{Pr(\\text{second card heart}, \\text{first card heart})}{Pr(\\text{first card heart})} \\\\\n",
    "    &= \\frac{\\frac{13}{52} \\cdot \\frac{12}{51}}{\\frac{13}{52}} \\\\\n",
    "    &= \\frac{12}{51}\n",
    "\\end{align}$$\n",
    "\n",
    "$$\\begin{align}\n",
    "    Pr(\\text{second card heart} | \\text{first card NOT heart}) &= \\frac{Pr(\\text{second card heart}, \\text{first card NOT heart})}{Pr(\\text{first card NOT heart})} \\\\\n",
    "    &= \\frac{\\frac{39}{52} \\cdot \\frac{13}{51}}{\\frac{39}{52}} \\\\\n",
    "    &= \\frac{13}{51}\n",
    "\\end{align}$$\n",
    "\n",
    "- Using $Pr(A) = \\sum_{B} Pr(A|B) \\cdot Pr(B)$\n",
    "\n",
    "$$\\begin{align}\n",
    "    Pr(\\text{H2}) &= Pr(\\text{H2} | \\text{H1}) * Pr(\\text{H1}) + Pr(\\text{H2} | \\text{!H1}) * Pr(\\text{!H1}) \\\\\n",
    "    &= \\frac{12}{51} * \\frac{13}{52} + \\frac{13}{51} * \\frac{39}{52} \\\\\n",
    "    &\\geq \\frac{12}{51} \\\\\n",
    "    &= Pr(\\text{H2 | H1})\n",
    "\\end{align}$$"
   ]
  },
  {
   "attachments": {},
   "cell_type": "markdown",
   "metadata": {},
   "source": [
    "### 3. In the dice game Yahtzee, five dice are rolled. The outcomes of the five dice are independent. What is the probability of rolling a “Yahtzee” (i.e., when all five dice show the same number)?#"
   ]
  },
  {
   "attachments": {},
   "cell_type": "markdown",
   "metadata": {},
   "source": [
    "- Since events are independent, $Pr(A = 6 | B = 6) = Pr(A = 6)$\n",
    "- So we can compute the probability of 5 of the same numbers by\n",
    "    - $\\binom{6}{1}$ ways to choose a number\n",
    "    - $\\frac{1^5}{6^5}$ probability to have the dice show the number\n",
    "    - So there is a $6 \\cdot \\frac{1^5}{6^5}$ probability of a yahtzee"
   ]
  },
  {
   "attachments": {},
   "cell_type": "markdown",
   "metadata": {},
   "source": []
  }
 ],
 "metadata": {
  "language_info": {
   "name": "python"
  },
  "orig_nbformat": 4
 },
 "nbformat": 4,
 "nbformat_minor": 2
}
