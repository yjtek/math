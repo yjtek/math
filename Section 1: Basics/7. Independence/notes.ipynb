{
 "cells": [
  {
   "attachments": {},
   "cell_type": "markdown",
   "metadata": {},
   "source": [
    "## Motivating Example"
   ]
  },
  {
   "attachments": {},
   "cell_type": "markdown",
   "metadata": {},
   "source": [
    "Many gamblers believe that after a string of losses, they are “due” for a win. Consider a gambler who repeatedly bets on reds in roulette, an event with probability $\\frac{18}{38} \\approx 0.474$. The ball has not landed in a red pocket on any of the last 4 spins of the wheel. Does this make it more likely that he will win on the next spin?\n",
    "\n",
    "This is really a conditional probability question in disguise. We want to know the probability that the ball will land in a red pocket on the 5th spin, given that it did not land in a red pocket on any of the first 4 spins: $P(\\text{red on 5th spin} | \\text{not red on first 4 spins})$"
   ]
  },
  {
   "attachments": {},
   "cell_type": "markdown",
   "metadata": {},
   "source": [
    "## Theory"
   ]
  },
  {
   "attachments": {},
   "cell_type": "markdown",
   "metadata": {},
   "source": [
    "- The motivating example is an example of Gambler's fallacy, and it is quite easily disproved by everything we've learnt so far\n",
    "\n",
    "$$\\begin{align}\n",
    "    Pr(\\text{red on 5th spin} | \\text{not red on first 4 spins}) &= \\frac{Pr(\\text{not red on first 4 spins AND red on 5th spin})}{Pr(\\text{red on 5th spin})} \\\\\n",
    "    &= \\frac{\\frac{20^4}{38^4} \\cdot \\frac{18}{38}}{\\frac{20^4}{38^4}} \\\\\n",
    "    &= \\frac{18}{38}\n",
    "\\end{align}$$\n",
    "\n",
    "- So $Pr(\\text{red on 5th spin} | \\text{not red on first 4 spins}) = Pr(\\text{red on 5th spin})$\n",
    "\n",
    "- In general, if $Pr(A|B) = Pr(A)$, we say that A and B are independent\n",
    "\n",
    "- Combining independence definition with theorem 6.1:\n",
    "\n",
    "$$\\begin{align}\n",
    "    Pr(A|B) &= \\frac{Pr(A \\text{ and } B)}{Pr(B)} \\\\\n",
    "    Pr(A) &= \\frac{Pr(A \\text{ and } B)}{Pr(B)} \\\\\n",
    "    Pr(A) \\cdot Pr(B) &= Pr(A \\text{ and } B)\n",
    "\\end{align}$$"
   ]
  },
  {
   "attachments": {},
   "cell_type": "markdown",
   "metadata": {},
   "source": [
    "### Example"
   ]
  },
  {
   "attachments": {},
   "cell_type": "markdown",
   "metadata": {},
   "source": [
    "- You and a fellow castaway are stranded on a desert island, playing dice for the last banana. Two dice will be rolled. If the biggest number is 1, 2, 3, or 4, then Player 1 wins. If the biggest number is 5 or 6, then Player 2 wins. Would you rather be Player 1 or Player 2?\n",
    "    - For the biggest number to be (1,2,3,4), both dice must be in (1,2,3,4)\n",
    "    - Each dice has $\\frac{2}{3}$ chance of this\n",
    "    - So for both dice to be between 1 and 4, it is simply $\\frac{4}{9}$\n",
    "    - Hence, it is better to be player 2!!"
   ]
  },
  {
   "attachments": {},
   "cell_type": "markdown",
   "metadata": {},
   "source": []
  }
 ],
 "metadata": {
  "kernelspec": {
   "display_name": "leetcode",
   "language": "python",
   "name": "python3"
  },
  "language_info": {
   "name": "python",
   "version": "3.10.4"
  },
  "orig_nbformat": 4
 },
 "nbformat": 4,
 "nbformat_minor": 2
}
