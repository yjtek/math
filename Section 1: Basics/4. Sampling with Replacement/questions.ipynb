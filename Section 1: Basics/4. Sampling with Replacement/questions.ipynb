{
 "cells": [
  {
   "attachments": {},
   "cell_type": "markdown",
   "metadata": {},
   "source": [
    "### 1. Here’s a different illustration of the fact that not all unordered outcomes are equally likely when draws are made with replacement. In the Pick 3 Lotto, a winning number is chosen between 000 to 999. Contestants win if the digits in their chosen number matches the winning number, in any order.\n",
    "- What is your chance of winning if you bet on 053?\n",
    "- What is your chance of winning if you bet on 055?\n",
    "- What is your chance of winning if you bet on 555?"
   ]
  },
  {
   "attachments": {},
   "cell_type": "markdown",
   "metadata": {},
   "source": [
    "- What is your chance of winning if you bet on 053?\n",
    "    - $3! = 6$\n",
    "- What is your chance of winning if you bet on 055?\n",
    "    - $\\frac{3!}{2!} = 3$\n",
    "- What is your chance of winning if you bet on 555?\n",
    "    - $\\frac{3!}{3!} = 1$"
   ]
  },
  {
   "attachments": {},
   "cell_type": "markdown",
   "metadata": {},
   "source": [
    "### Complete the solution to Galileo’s problem. What is the probability that the sum is 10 when 3 fair dice are rolled? How does this compare with the probability that the sum is 9?\n",
    "\n",
    "- Done in notes"
   ]
  },
  {
   "attachments": {},
   "cell_type": "markdown",
   "metadata": {},
   "source": []
  }
 ],
 "metadata": {
  "language_info": {
   "name": "python"
  },
  "orig_nbformat": 4
 },
 "nbformat": 4,
 "nbformat_minor": 2
}
