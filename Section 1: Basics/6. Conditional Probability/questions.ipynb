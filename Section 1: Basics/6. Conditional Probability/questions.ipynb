{
 "cells": [
  {
   "attachments": {},
   "cell_type": "markdown",
   "metadata": {},
   "source": [
    "### 1. You and your friend Amy are each dealt two cards: hers face up and yours face down. In which of the following scenarios are you more likely to have a pair:\n",
    "- when she has a pair of queens\n",
    "- when she has a queen and a 5?"
   ]
  },
  {
   "attachments": {},
   "cell_type": "markdown",
   "metadata": {},
   "source": [
    "- Using counting method\n",
    "    - When opponent has Q pair:\n",
    "        - You can theoretically have any pair with equal probability, except for queen pair which will have lower probability\n",
    "    $$\\begin{align}\n",
    "        (12 \\text{ possible suits } * \\binom{4}{2} + 1 * \\binom{2}{2})\n",
    "        &= 12 * 6 + 1 \\\\\n",
    "        &= 73\n",
    "    \\end{align}$$\n",
    "\n",
    "    - When opponent has Q and 5:\n",
    "        - You can theoretically have any pair with equal probability, except for queen and 5 pair which will have lower probability\n",
    "    $$\\begin{align}\n",
    "        11 \\text{ possible suits } * \\binom{4}{2} + 2 * \\binom{3}{2} &= 11 * 6 + 3 * 2 \\\\\n",
    "        &= 72\n",
    "    \\end{align}$$\n",
    "\n",
    "    - So the probabilities of getting a pair when your opponent has Qpair is $\\frac{73}{\\frac{50 * 49}{2!}}$, but $\\frac{72}{\\frac{50 * 49}{2!}}$ with Q-5\n",
    "\n",
    "- Using the conditional probability identity\n",
    "    - Definitions\n",
    "        - E1: You have a pair\n",
    "        - E2: Opponent has Q pair\n",
    "        - E3: Opponent has Q-5\n",
    "    - Recall that $Pr(A | B) = \\frac{Pr(A \\text{ and } B)}{Pr(B)}$\n",
    "    - Computing probs:\n",
    "        - $Pr(E2) = \\frac{\\binom{4}{2}}{\\binom{52}{2}} \\approx 0.00452$\n",
    "        - $Pr(E3) = \\frac{\\binom{4}{1} \\cdot \\binom{4}{1}}{\\binom{52}{2}} \\approx 0.0121$  \n",
    "        - $Pr(E1, E2) = \\frac{(12 * \\binom{4}{2} + 1 * \\binom{2}{2})}{\\binom{50}{2}} * Pr(E2) = \\frac{(12 * 6 + 1)}{1225} * 0.00452$\n",
    "        - $Pr(E1, E3) = \\frac{11 * \\binom{4}{2} + 2 * \\binom{3}{2}}{\\binom{50}{2}} * Pr(E3) = \\frac{(11 * 6 + 6)}{1225} * 0.0121$\n",
    "\n",
    "    - Therefore\n",
    "        - $Pr(E1 | E2) = \\frac{(12 * \\binom{4}{2} + 1 * \\binom{2}{2})}{\\binom{50}{2}} = \\frac{73}{\\binom{50}{2}}$\n",
    "        - $Pr(E1 | E3) = \\frac{(12 * \\binom{4}{2} + 1 * \\binom{2}{2})}{\\binom{50}{2}} = \\frac{72}{\\binom{50}{2}}$\n",
    "        \n",
    "\n",
    "\n",
    "- Simulation below for confirmation"
   ]
  },
  {
   "cell_type": "code",
   "execution_count": 55,
   "metadata": {},
   "outputs": [
    {
     "name": "stdout",
     "output_type": "stream",
     "text": [
      "Pair chance qpair: 0.46834\n",
      "Pair chance q5: 0.40382\n"
     ]
    }
   ],
   "source": [
    "import numpy as np\n",
    "opp_qpair_deck = [y for x in [[x]*4 for x in range(1,11)] for y in x] + ['J'] * 4 + ['Q'] * 2 + ['K'] * 4\n",
    "opp_q5_deck = ([y for x in [[x]*4 for x in range(1,11)] for y in x] + ['J'] * 4 + ['Q'] * 3 + ['K'] * 4)\n",
    "opp_q5_deck.remove(5)\n",
    "\n",
    "assert(len(opp_qpair_deck) == 50)\n",
    "assert(len(opp_q5_deck) == 50)\n",
    "\n",
    "samples_opp_qpair_deck=[np.random.choice(opp_qpair_deck, 2, replace=False) for _ in range(100_000)]\n",
    "samples_opp_qpair_deck=np.mean([x[0]==x[1] for x in samples_opp_qpair_deck])\n",
    "\n",
    "samples_opp_q5_deck=[np.random.choice(opp_q5_deck, 2, replace=False) for _ in range(100_000)]\n",
    "samples_opp_q5_deck=np.mean([x[0]==x[1] for x in samples_opp_q5_deck])\n",
    "\n",
    "print(f'Pair chance qpair: {samples_opp_qpair_deck}')\n",
    "print(f'Pair chance q5: {samples_opp_q5_deck}')\n",
    "print(f'Pr(Pair | Opponent Q pair): {73/((50*49)/2)}')\n",
    "print(f'Pr(Pair | Opponent Q-5): {72/((50*49)/2)}')"
   ]
  },
  {
   "cell_type": "code",
   "execution_count": 53,
   "metadata": {},
   "outputs": [
    {
     "name": "stdout",
     "output_type": "stream",
     "text": [
      "0.4666666666666667\n",
      "0.4\n"
     ]
    }
   ],
   "source": [
    "import math\n",
    "opp_qpair_deck = ['5']*4 + ['Q']*2\n",
    "opp_q5_deck = ['5']*3 + ['Q']*3\n",
    "samples_opp_qpair_deck=[np.random.choice(opp_qpair_deck, 2, replace=False) for _ in range(100_000)]\n",
    "samples_opp_qpair_deck=np.mean([x[0]==x[1] for x in samples_opp_qpair_deck])\n",
    "samples_opp_q5_deck=[np.random.choice(opp_q5_deck, 2, replace=False) for _ in range(100_000)]\n",
    "samples_opp_q5_deck=np.mean([x[0]==x[1] for x in samples_opp_q5_deck])\n",
    "\n",
    "print(f'Pair chance qpair: {samples_opp_qpair_deck}')\n",
    "print(f'Pair chance q5: {samples_opp_q5_deck}')\n",
    "\n",
    "opp_qpair_paircount=1*math.factorial(4)/(math.factorial(2)*math.factorial(2)) + 1*math.factorial(2)/math.factorial(2)\n",
    "opp_q5_paircount=2*math.factorial(3)/math.factorial(2)\n",
    "total_pairs=math.factorial(6)/(math.factorial(4) * math.factorial(2))\n",
    "print(opp_qpair_paircount/total_pairs)\n",
    "print(opp_q5_paircount/total_pairs)"
   ]
  },
  {
   "attachments": {},
   "cell_type": "markdown",
   "metadata": {},
   "source": [
    "### 2. Dr. No has captured James Bond and forces him to play a game of Russian roulette. (Note: Russian roulette is very different from the casino game roulette!) Dr. No shows him an revolver with 6 chambers, all initially empty. He places 2 bullets into adjacent chambers. He makes Bond spin the cylinder, place the muzzle against his head, and pull the trigger. He survives! Luckily for Bond, the cylinder stopped on one of the empty chambers. \n",
    "\n",
    "Now Dr. No gives Bond two options: he can re-spin the cylinder before firing again or he can fire with the gun in its current state. (Keep in mind that the cylinder rotates to the next chamber each time the gun is fired.) What option should Bond choose to maximize his chance of surviving?\n",
    "\n",
    "Clearly write out the conditional probability of interest using $Pr(B|A)$ notation. Find the probability. (Hint: You should not need to do any calculations. You should be able to find the probability just by thinking carefully about the information you have. Make sure you explain your reasoning carefully.)"
   ]
  },
  {
   "attachments": {},
   "cell_type": "markdown",
   "metadata": {},
   "source": [
    "- WLOG, let's assume that the bullets are in chambers 1 and 2, and 3,4,5,6 are empty chambers\n",
    "    - We know the bullets are in adjacent chambers\n",
    "    - We know that Bond has fired once on an empty chamber\n",
    "\n",
    "- As such, the first shot must have been fired on chambers 3,4,5,6\n",
    "    - Of the 4 chambers, 3 of them are safe for Bond (3,4,5, because the next chamber is still empty)\n",
    "    - So there is a 75% chance that the next player survives after the first shot, if the chamber is not spun. As such, Bond should force Dr No to spin the chamber\n",
    "\n",
    "- Let's suppose Bond misplays, and allows Dr No to fire without spinning, and Dr No survives. What should Bond do now?\n",
    "    - We now know that the initial shot on Bond must be either on 3, 4, 5 (it cannot be 6, because Dr No would have been killed if it were)\n",
    "    - If it was 5, then Bond dies. Else, Bond is safe. So again, without spinning, you have $\\frac{2}{3}$ chance of surviving"
   ]
  },
  {
   "attachments": {},
   "cell_type": "markdown",
   "metadata": {},
   "source": []
  }
 ],
 "metadata": {
  "kernelspec": {
   "display_name": "leetcode",
   "language": "python",
   "name": "python3"
  },
  "language_info": {
   "codemirror_mode": {
    "name": "ipython",
    "version": 3
   },
   "file_extension": ".py",
   "mimetype": "text/x-python",
   "name": "python",
   "nbconvert_exporter": "python",
   "pygments_lexer": "ipython3",
   "version": "3.10.4"
  },
  "orig_nbformat": 4
 },
 "nbformat": 4,
 "nbformat_minor": 2
}
