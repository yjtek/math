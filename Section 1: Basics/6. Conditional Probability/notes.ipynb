{
 "cells": [
  {
   "attachments": {},
   "cell_type": "markdown",
   "metadata": {},
   "source": [
    "## Motivating Example"
   ]
  },
  {
   "attachments": {},
   "cell_type": "markdown",
   "metadata": {},
   "source": [
    "You know that your coworker has two children. Absent any other information, the probability that both are boys is $Pr(\\text{both boys}) = \\frac{1}{4}$\n",
    "\n",
    "One day, she mentions to you, “I need to stop by St. Joseph’s after work for a PTA meeting.” St. Joseph’s is a local all-boys school. So now you know that at least one of her children is a boy. What is the probability now that both her children are boys?\n",
    "\n",
    "Most people assume that the answer is $\\frac{1}{2}$ , since the other child is equally likely to be a boy or a girl, and the gender of one child does not affect the gender of another. The actual answer may surprise you…"
   ]
  },
  {
   "attachments": {},
   "cell_type": "markdown",
   "metadata": {},
   "source": [
    "## Theory"
   ]
  },
  {
   "attachments": {},
   "cell_type": "markdown",
   "metadata": {},
   "source": [
    "- This is one of those interesting brain-teaser type problems. The intuitive answer (0.5 because gender of first child is independent of gender of second child) leads us astray, because conditioning on the knowledge that one child is a boy tells us less than we may think\n",
    "    \n",
    "    - Let's list out exhaustively the possibilities. Without any knowledge, your coworker's family might be one of 4 combinations:\n",
    "        - BB\n",
    "        - BG\n",
    "        - GB\n",
    "        - GG\n",
    "\n",
    "    - If you know that there is at least one boy, there are are now 3 combinations possible, which gives us $\\frac{1}{3}$ probability that both children are boys:\n",
    "        - BB\n",
    "        - BG\n",
    "        - GB\n",
    "    \n",
    "    - The confusion comes because the natural assumption made is that the knowledge of 1 boy gives us half of the knowledge we need, i.e. there are 2 children, and I know the gender of 1, so I only need to have 1 more piece of information to have perfect information. Let's try to break this intuition:\n",
    "        - Imagine your colleague has 5 children, and I tell you 4 of them are boys. What is the probability that your colleague has 5 boys? Turns out, it is $\\frac{1}{6}$ chance! \n",
    "            - BBBBG\n",
    "            - BBBGB\n",
    "            - BBGBB\n",
    "            - BGBBB\n",
    "            - GBBBB\n",
    "            - BBBBB\n",
    "        - Intuitively, it is much more likely for there to be at 1 girl than 0 girls in 5 children\n"
   ]
  },
  {
   "attachments": {},
   "cell_type": "markdown",
   "metadata": {},
   "source": [
    "- More formally, we are trying to find the conditional probability of \"second child boy\" when \"first child boy\"\n",
    "\n",
    "$$\n",
    "    Pr(B | A) = \\frac{Pr(A \\text{ and } B)}{Pr(A)} \\tag{\\text{Defn} 6.1}\n",
    "$$\n",
    "\n",
    "- Pr(A and B) is joint probability of A and B\n",
    "- So conditional probability is:\n",
    "\n",
    "$$\\begin{align}\n",
    "    Pr(\\text{both boys} | \\text{at least one boy}) &= \\frac{Pr(\\text{both boys and at least one boy})}{Pr(\\text{at least one boy})} \\\\\n",
    "    &= \\frac{Pr(\\text{both boys})}{Pr(\\text{at least one boy})} \\\\\n",
    "    &= \\frac{1/4}{3/4} \\\\\n",
    "    &= \\frac{1}{3}\n",
    "\\end{align}$$"
   ]
  },
  {
   "attachments": {},
   "cell_type": "markdown",
   "metadata": {},
   "source": [
    "- Rearranging from definition 6.1:\n",
    "$$\n",
    "    Pr(B|A) \\cdot Pr(A) = Pr(A \\text{ and } B) \\tag{Theorem 6.1, Multiplication Rule}\n",
    "$$\n",
    "\n",
    "- Let's relook an earlier example; what is the probability of drawing 2 queens from the top of a shuffled deck of cards?\n",
    "    - Previously, we said that there are 4 queens in a 52 card deck, so there are 4 ways to draw the first queen, and 3 ways to draw the second.\n",
    "    - The total number of ways to draw 2 cards is 52^2\n",
    "    - This gives us $\\frac{4}{52} \\cdot \\frac{3}{51}$\n",
    "\n",
    "- This can be reframed as a conditional probability\n",
    "    - We are after $Pr(\\text{first card queen} \\text{ AND } \\text{second card queen})$\n",
    "    - From theorem 6.1, this is also $Pr(\\text{first card queen}) \\cdot Pr(\\text{second card queen} | \\text{first card queen})$\n",
    "    - This is $\\frac{4}{52} \\cdot \\frac{3}{51}$, which is the same as the counting approach"
   ]
  }
 ],
 "metadata": {
  "language_info": {
   "name": "python"
  },
  "orig_nbformat": 4
 },
 "nbformat": 4,
 "nbformat_minor": 2
}
