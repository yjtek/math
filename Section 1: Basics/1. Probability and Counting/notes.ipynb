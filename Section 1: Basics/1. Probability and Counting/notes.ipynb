{
 "cells": [
  {
   "attachments": {},
   "cell_type": "markdown",
   "metadata": {},
   "source": [
    "# Motivating Example"
   ]
  },
  {
   "attachments": {},
   "cell_type": "markdown",
   "metadata": {},
   "source": [
    "In 1620, the Grand Duke of Tuscany asked the astronomer and mathematician Galileo to determine whether the numbers on three fair dice are more likely to add up to 9 or 10."
   ]
  },
  {
   "attachments": {},
   "cell_type": "markdown",
   "metadata": {},
   "source": [
    "# Theory"
   ]
  },
  {
   "attachments": {},
   "cell_type": "markdown",
   "metadata": {},
   "source": [
    "- For countable events, with all outcomes equally likely, $$P(A) = \\frac{\\text{Number of outcomes where A occurs}}{\\text{Number of possible outcomes}}$$\n",
    "\n",
    "- Example: Probability of even numbers in a dice roll\n",
    "    - 3 even + 3 odd = 6 events\n",
    "    - Probability even = 3/6 "
   ]
  },
  {
   "attachments": {},
   "cell_type": "markdown",
   "metadata": {},
   "source": [
    "- **Theorem 1.1:** If a task can be performed $n_1$ ways, and for each of these, a second task can be performed $n_2$ ways, then the two tasks can be performed $n_1 \\cdot n_2$ ways\n",
    "    - Example: Probability of 7 in 2 dice rolls\n",
    "        - 6 outcomes in the first roll * 6 outcomes in the second roll = 36 outcomes possible\n",
    "        - Of the 36 outcomes, 6 pairs will give you 7: (1,6), (2,5), (3,4), (4,3), (5,2), (6,1)\n",
    "        - So probability of 7 is $\\frac{6}{36}$"
   ]
  },
  {
   "attachments": {},
   "cell_type": "markdown",
   "metadata": {},
   "source": [
    "- One frequent trick you can use is to take the complementary probability. That is, the probability that a dice roll does not turn up as a 6 is simply $1 - Pr(6)$\n",
    "    - Example: Probability that no 6s show up in 3 dice rolls\n",
    "        - Total events: $6 \\cdot 6 \\cdot 6$\n",
    "        - No 6s events: Not 6 first roll * not 6 second roll * not 6 third roll = $5 \\cdot 5 \\cdot 5$\n",
    "        - Probability no 6: $125/216$ --> better than even odds"
   ]
  }
 ],
 "metadata": {
  "language_info": {
   "name": "python"
  },
  "orig_nbformat": 4
 },
 "nbformat": 4,
 "nbformat_minor": 2
}
