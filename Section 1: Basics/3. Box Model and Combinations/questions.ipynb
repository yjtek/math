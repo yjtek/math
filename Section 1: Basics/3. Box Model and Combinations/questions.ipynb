{
 "cells": [
  {
   "attachments": {},
   "cell_type": "markdown",
   "metadata": {},
   "source": [
    "### 1. Prove the identity (3.2) by expanding the combinations using (3.1) and simplifying."
   ]
  },
  {
   "attachments": {},
   "cell_type": "markdown",
   "metadata": {},
   "source": [
    "$$\\binom{N}{n} = \\frac{N!}{(N-n)!n!} \\tag{3.1}$$\n",
    "$$n \\cdot \\binom{N}{n} = N \\cdot \\binom{N-1}{n-1} \\tag{3.2}$$\n"
   ]
  },
  {
   "attachments": {},
   "cell_type": "markdown",
   "metadata": {},
   "source": [
    "$$\\begin{align}\n",
    "    n \\cdot \\binom{N}{n} &= n \\cdot \\frac{N!}{(N-n)!n!} \\\\\n",
    "    &= N \\cdot n \\cdot \\frac{(N-1)!}{(N-n)!n!} \\\\\n",
    "    &= N \\cdot n \\cdot \\frac{(N-1)!}{(N-n)!(n-1)!n} \\\\\n",
    "    &= N \\cdot \\frac{(N-1)!}{(N-n)!(n-1)!} \\\\\n",
    "    &= N \\cdot \\binom{N-1}{n-1} \n",
    "\\end{align}$$\n",
    "\n"
   ]
  },
  {
   "attachments": {},
   "cell_type": "markdown",
   "metadata": {},
   "source": [
    "### 2. Prove the identity below in two ways: using a “story proof” (as in Example 3.1) and using algebra.\n",
    "\n",
    "$$\n",
    "    \\binom{m}{k} = \\binom{m}{m-k}\n",
    "$$\n"
   ]
  },
  {
   "attachments": {},
   "cell_type": "markdown",
   "metadata": {},
   "source": [
    "- Algebra, noting that $m-(m-k) = k$\n",
    "\n",
    "    $$\\begin{align}\n",
    "        \\binom{m}{k} &= \\frac{m!}{(m-k)! k!} \\\\\n",
    "        &= \\frac{m!}{(m-(m-(m-k)))! (m-(m-k))!} \\\\\n",
    "        &= \\frac{m!}{(m-k)! (m-(m-k))!} \\\\\n",
    "        &= \\binom{m}{m-k} \\\\\n",
    "    \\end{align}$$\n",
    "\n",
    "- Story\n",
    "    - When choosing the 5 cards to have a 4 of a kind hand in poker, you are simultaneously also choosing the 47 other cards to not include in your hand.\n",
    "    - Hence, there are the same number of ways to choose 5 cards from 52 as there are to choose 47 cards from 52\n",
    "\n"
   ]
  },
  {
   "attachments": {},
   "cell_type": "markdown",
   "metadata": {},
   "source": [
    "### 3. Calculate $\\binom{m}{1}$. Why does this answer make sense?"
   ]
  },
  {
   "attachments": {},
   "cell_type": "markdown",
   "metadata": {},
   "source": [
    "- In a set of $m$ objects, if I were to pick only 1, there must be $m$ ways to do this by definition\n",
    "\n",
    "$$\\begin{align}\n",
    "    \\binom{m}{1} &= \\frac{m!}{(m-1)! 1!} \\\\\n",
    "    &= m\n",
    "\\end{align}$$\n"
   ]
  },
  {
   "attachments": {},
   "cell_type": "markdown",
   "metadata": {},
   "source": [
    "### 4. In Lesson 1, you calculated the probability of a “flush of hearts” in poker by counting the possible hands. There, you took order into account. Repeat the calculation by counting the possible hands where order does not matter."
   ]
  },
  {
   "attachments": {},
   "cell_type": "markdown",
   "metadata": {},
   "source": [
    "- Previously, we used $\\frac{52}{52} * \\frac{12}{51} * \\frac{11}{50} * \\frac{10}{49} * \\frac{9}{48}$ to get the probability of flush\n",
    "    - The numerator $52 * 12 * 11 * 10 * 9$ will count $[c1, c2, c3, c4, c5]$ as different from $[c5, c4, c3, c2, c1]$\n",
    "    - This is balanced because the denominator of $52^5$ also counts every distinct order of cards as a distinct hand\n",
    "\n",
    "- Now\n",
    "    - To get a flush, there are 4 possible suits\n",
    "    - Once you choose a suit, you must pick 5 cards within the suit, or $\\frac{13!}{(13-5)! 5!}$ ways\n",
    "    - This gives $4 \\cdot \\frac{13!}{(13-5)! 5!}$\n",
    "    - Note that $4 \\cdot \\frac{13!}{(13-5)! 5!} = 4 * 13 * 12 * 11 * 10 * 9 = 52 * 12 * 11 * 10 * 9$, which is the same as the above"
   ]
  },
  {
   "attachments": {},
   "cell_type": "markdown",
   "metadata": {},
   "source": [
    "### 5. How many different 8-letter “words” can be formed by rearranging the letters in LALALAAA? (Hint: Model this situation using $n=3$ draws from the box $[1,2,...8]$. The tickets that you draw correspond to the positions of the three Ls. So, for example, drawing $[3,1,5]$ corresponds to the word LALALAAA. You still need to figure out whether the draws should be made with replacement and whether you should count different orderings of the same 3 tickets.)"
   ]
  },
  {
   "attachments": {},
   "cell_type": "markdown",
   "metadata": {},
   "source": [
    "- There are 8 letters and 8 positions, with a limited number of As and Ls\n",
    "    - So at each position, we are drawing from 5As and 3Ls without replacement\n",
    "    - This gives us $8!$ ways to permute the string\n",
    "- However, since letters are interchangeable, we should exclude permutations of As and Ls from the count\n",
    "    - This gives us $\\frac{8!}{5!3!} = 56$ ways\n",
    "\n",
    "- Proof by brute force simulation"
   ]
  },
  {
   "cell_type": "code",
   "execution_count": 14,
   "metadata": {},
   "outputs": [
    {
     "data": {
      "text/plain": [
       "56"
      ]
     },
     "execution_count": 14,
     "metadata": {},
     "output_type": "execute_result"
    }
   ],
   "source": [
    "import numpy as np\n",
    "sample = ['L'] * 3 + ['A'] * 5\n",
    "\n",
    "unique_strings=set()\n",
    "for _ in range(50000):\n",
    "    sampled=''.join(np.random.choice(sample, 8, replace=False))\n",
    "    if sampled in unique_strings:\n",
    "        continue\n",
    "    unique_strings.add(sampled)\n",
    "len(unique_strings)\n"
   ]
  },
  {
   "attachments": {},
   "cell_type": "markdown",
   "metadata": {},
   "source": [
    "### 6. You toss a coin 60 times. Each toss results in two equally likely outcomes, heads or tails. What is the probability that you get exactly 30 heads in the 60 tosses? (Hint: To count the number of ways of getting exactly 30 heads, you need to count the number of ways of arranging 30 H and 30 Ts. The general strategy from the previous question may be helpful here.)\n"
   ]
  },
  {
   "attachments": {},
   "cell_type": "markdown",
   "metadata": {},
   "source": [
    "- Probability of 30 heads in 60 tosses:\n",
    "    - $0.5^{30} \\cdot 0.5^{60-30} \\cdot \\binom{60}{30} \\approx 0.102$\n",
    "\n",
    "- Proof by simulation below"
   ]
  },
  {
   "cell_type": "code",
   "execution_count": 3,
   "metadata": {},
   "outputs": [
    {
     "data": {
      "text/plain": [
       "0.10142"
      ]
     },
     "execution_count": 3,
     "metadata": {},
     "output_type": "execute_result"
    }
   ],
   "source": [
    "import numpy as np\n",
    "samples = [np.sum(np.random.choice([0,1], 60)) for _ in range(50000)] \n",
    "len([x for x in samples if x == 30])/len(samples)"
   ]
  },
  {
   "attachments": {},
   "cell_type": "markdown",
   "metadata": {},
   "source": [
    "### 7. Use a story proof to show that\n",
    "\n",
    "$$\n",
    "    x (x-1)\\binom{n}{x} = n (n-1) \\binom{n-2}{x-2}\n",
    "$$\n",
    "\n",
    "(Hint: Consider selecting a committee with a chair and a vice-chair.)"
   ]
  },
  {
   "attachments": {},
   "cell_type": "markdown",
   "metadata": {},
   "source": [
    "- Story proof\n",
    "    - Let's assume you have $n$ people, and you want to form a committee of size $x$, of which 1 person will be the chair, and another will be the vice chair\n",
    "    \n",
    "    - Approach 1:\n",
    "        - To do this, you first choose the commitee, which can be done in $\\binom{n}{x}$ ways\n",
    "        - From the $x$ people, you want to choose the chair and vice chair, which can be done in $x (x-1)$ ways, since you have $x$ options for the first choice, and $x-1$ options for the second (chair cannot be vice chair)\n",
    "        - This gives you $x (x-1) \\binom{n}{x}$\n",
    "\n",
    "    - Approach 2:\n",
    "        - Another way to do this, is to choose the chair and vice chair first from $n$ people. Using the same argument above, you can do this in $n$ ways for the first choice, and $n-1$ for the second\n",
    "        - This leaves you with $n-2$ people, from which you form the remaining $x-2$ sized commitee, giving you $\\binom{n-2}{x-2}$\n",
    "\n",
    "    - As a result, both values are equivalent\n"
   ]
  },
  {
   "attachments": {},
   "cell_type": "markdown",
   "metadata": {},
   "source": []
  }
 ],
 "metadata": {
  "kernelspec": {
   "display_name": "leetcode",
   "language": "python",
   "name": "python3"
  },
  "language_info": {
   "codemirror_mode": {
    "name": "ipython",
    "version": 3
   },
   "file_extension": ".py",
   "mimetype": "text/x-python",
   "name": "python",
   "nbconvert_exporter": "python",
   "pygments_lexer": "ipython3",
   "version": "3.10.4"
  },
  "orig_nbformat": 4
 },
 "nbformat": 4,
 "nbformat_minor": 2
}
