{
 "cells": [
  {
   "cell_type": "markdown",
   "metadata": {},
   "source": [
    "# Newton's Method"
   ]
  },
  {
   "cell_type": "markdown",
   "metadata": {},
   "source": [
    "## Intro"
   ]
  },
  {
   "cell_type": "markdown",
   "metadata": {},
   "source": [
    "- Newton's method is used to find the roots for a given function\n",
    "    - That is, given some function $y = f(X)$, we want to know what value of $X$ gives us $y=0$\n",
    "\n",
    "- Newton's Method provides an iterative process that updates the value of $X$ until we reach a point of convergence where $y=0$. That is, we iterative solve for $X$ using\n",
    "$$\\begin{aligned}\n",
    "    X_{i+1} &= X_i - \\frac{f(X)}{f'(X)}\n",
    "\\end{aligned}"
   ]
  },
  {
   "cell_type": "markdown",
   "metadata": {},
   "source": [
    "## Derivation of Newton's Method"
   ]
  },
  {
   "cell_type": "markdown",
   "metadata": {},
   "source": [
    "- This seems like a rather arbitrary rule; why does this work?\n",
    "\n",
    "- Well, Newton's Method can be derived from the Taylor Expansion of some function $f(X)$ evaluated at the root where $f(X) = 0$\n",
    "\n",
    "$$\\begin{aligned}\n",
    "    f(X) &= 0 \\\\\n",
    "    &= f(x_i) + f'(x_i) \\cdot (X - x_i) \\\\ \\\\\n",
    "\n",
    "    f'(x_i) X - x_i f'(x_i) + f(x_i) &= 0 \\\\ \\\\\n",
    "\n",
    "    X &= \\frac{-f(x_i) + x_i f'(x_i)}{f'(x_i)} \\\\\n",
    "    &= x_i - \\frac{f(x_i)}{f'(x_i)}\n",
    "\n",
    "\\end{aligned}$$\n",
    "\n",
    "- What does this tell us?\n",
    "    - When evaluating $f(X) = 0$, and $X$ is unknown, we can solve for $X$ by using the equation above!\n",
    "    - By supplying some value of $x_i$, we basically derive an approximation of $X$ where $f(X) = 0$\n",
    "    - Nonetheless, note that this is only an approximation\n",
    "    - So for this to be more accurate, we simply iteratively fit our estimate of $X$ bacl to the same equation, until we reach a satisfactory point where $f(X) = 0$"
   ]
  },
  {
   "cell_type": "markdown",
   "metadata": {},
   "source": [
    "## Application of Newton's Method"
   ]
  },
  {
   "cell_type": "markdown",
   "metadata": {},
   "source": [
    "- Let's see an example of putting this into practise; we will see how we can use Newton's Method to find the square root of a value $X$\n",
    "\n",
    "- Wait a second, how is finding a square root related to the derivation above? \n",
    "    - To show the link, let's think about what finding a square root means graphically.\n",
    "    - Suppose I provide a number $S$. Let the square root of $S$ be $x$\n",
    "    - Then\n",
    "        $$\\begin{aligned}\n",
    "            \\sqrt{S} &= x \\\\\n",
    "            S &= x^2 \\\\\n",
    "            x^2 - S &= 0\n",
    "        \\end{aligned}$$\n",
    "    \n",
    "    - By rearranging the terms, we suddenly have a function $f(x) = x^2 - S$\n",
    "    - And we wish to find the value of $x$ where $f(x) = 0$!!\n",
    "\n",
    "    - This perfectly sets up the use of Newtons Method above\n",
    "\n",
    "- Let's step through how we would solve this problem\n",
    "    - Imagine we wish to find the square root of $S=100$ \n",
    "    - The square root will be the value of $x$ when $x^2 - S = 0$\n",
    "    - Since we don't know the value of $x$ that will give us $f(x) = 0$, we guess and set $x = S/2 = 50$\n",
    "    - We also know that $f'(x) = 2x$\n",
    "    - Then, the approximation becomes\n",
    "        $$\\begin{aligned}\n",
    "            x_i - \\frac{f(x_i)}{f'(x_i)} &= x_i - \\frac{x^2 - S}{2x} \\\\\n",
    "            &= x_i - 0.5 (x - \\frac{S}{x}) \\\\\n",
    "            &= 0.5 (x + \\frac{S}{x}) \\\\\n",
    "            &= 0.5 (50 + \\frac{100}{50}) \\\\\n",
    "            &= 26\n",
    "        \\end{aligned}$$\n",
    "    - Keep going through this procedure, using the new approximation $X$, until convergence is reached"
   ]
  },
  {
   "cell_type": "code",
   "execution_count": 5,
   "metadata": {},
   "outputs": [
    {
     "data": {
      "text/plain": [
       "356949.0718211773"
      ]
     },
     "execution_count": 5,
     "metadata": {},
     "output_type": "execute_result"
    }
   ],
   "source": [
    "def newton_method(S, tol=1e-6, max_iter=100):\n",
    "    guess = S/2\n",
    "    for _ in range(max_iter):\n",
    "        guess = 0.5 * (guess + S/guess)\n",
    "        if abs(S - guess**2) <= tol:\n",
    "            return guess\n",
    "    return guess\n",
    "\n",
    "newton_method(127412639874)"
   ]
  }
 ],
 "metadata": {
  "kernelspec": {
   "display_name": ".venv",
   "language": "python",
   "name": "python3"
  },
  "language_info": {
   "codemirror_mode": {
    "name": "ipython",
    "version": 3
   },
   "file_extension": ".py",
   "mimetype": "text/x-python",
   "name": "python",
   "nbconvert_exporter": "python",
   "pygments_lexer": "ipython3",
   "version": "3.11.10"
  }
 },
 "nbformat": 4,
 "nbformat_minor": 2
}
