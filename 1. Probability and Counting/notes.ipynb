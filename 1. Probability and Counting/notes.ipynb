{
 "cells": [
  {
   "attachments": {},
   "cell_type": "markdown",
   "metadata": {},
   "source": [
    "- For countable events, with all outcomes equally likely, $$P(A) = \\frac{\\text{Number of outcomes where A occurs}}{\\text{Number of possible outcomes}}$$"
   ]
  },
  {
   "attachments": {},
   "cell_type": "markdown",
   "metadata": {},
   "source": [
    "- Theorem 1.1: If a task can be performed $n_1$ ways, and for each of these, a second task can be performed $n_2$ ways, then the two tasks can be performed $n_1 \\cdot n_2$ ways"
   ]
  },
  {
   "attachments": {},
   "cell_type": "markdown",
   "metadata": {},
   "source": []
  }
 ],
 "metadata": {
  "language_info": {
   "name": "python"
  },
  "orig_nbformat": 4
 },
 "nbformat": 4,
 "nbformat_minor": 2
}
