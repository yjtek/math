{
 "cells": [
  {
   "attachments": {},
   "cell_type": "markdown",
   "metadata": {},
   "source": [
    "## Probability Rules"
   ]
  },
  {
   "attachments": {},
   "cell_type": "markdown",
   "metadata": {},
   "source": [
    "- $\\left | A \\cap B \\right | = \\left | A \\right | + \\left | B \\right | - \\left | A \\cup B \\right |$\n",
    "- Independence: $Pr(A|B) = Pr(A)$\n",
    "- $P(A \\cap B) = P(A) \\cdot P(B)$, assuming independence\n",
    "- $P(A \\cap B) = P(A) \\cdot P(B | A)$, no need for independence assumption"
   ]
  },
  {
   "attachments": {},
   "cell_type": "markdown",
   "metadata": {},
   "source": [
    "- Birthday problem\n",
    "    - 30 ppl at a party. Is it more probable that 2 people have the same birthday, or that no two people have the same birthday?\n",
    "    - Assume 365 days in a year\n",
    "    - Probability no two people have same birthday\n",
    "    $$\n",
    "        \\begin{align}\n",
    "            \\frac{(365 * 364 * 363 * ... * 336)}{(365^{30})} &= \\frac{\\frac{365!}{335!}} {365^{30}}\n",
    "            &= 0.294\n",
    "        \\end{align} \n",
    "    $$\n",
    "\n",
    "    - Probability at least two people have same birthday\n",
    "        - 1 - 0.294 = 0.706"
   ]
  },
  {
   "attachments": {},
   "cell_type": "markdown",
   "metadata": {},
   "source": [
    "- Bayes\n",
    "$$\n",
    "\\begin{align}\n",
    "Pr(A|B) &= \\frac{Pr(A) * Pr(B|A)}{(Pr(A) * Pr(B|A)) + (Pr(A^{'}) * Pr(B | A^{'}))} \\\\\n",
    "&= \\frac{Pr(A) * Pr(B|A)}{Pr(B)} \\\\\n",
    "&= \\frac{Pr(B|A) \\cdot Pr(A)} {Pr(B)}\n",
    "\\end{align}\n",
    "$$\n",
    "\n",
    "- Some examples:\n",
    "    - $$\\begin{align}\n",
    "        Pr(Heads | Heads Prev) &= \\frac{Pr(Heads Prev | Heads) * Pr(Heads)} {Pr(Heads Prev | Heads) * Pr(Heads) + Pr(Heads Prev | Not Heads ) * Pr(Not Heads)} \\\\\n",
    "        &= (0.5 * 0.5) / (0.5*0.5 + 0.5*0.5) \\\\\n",
    "        &= 0.5\n",
    "        \\end{align}$$\n",
    "    - $$\\begin{align}\n",
    "        Pr(Spam | \"lottery\") &= \\frac{Pr(\"lottery\" | spam) * Pr(\"lottery\")} {Pr(\"lottery\" | spam) * Pr(\"lottery\") + Pr(\"lottery\" | Not spam ) * Pr(Not spam)} \n",
    "        \\end{align}$$"
   ]
  },
  {
   "attachments": {},
   "cell_type": "markdown",
   "metadata": {},
   "source": [
    "- Naive Bayes model\n",
    "    - Let's extend the \"spam\" model we have above. Suppose we want to know $Pr(Spam | \"lottery\" \\& \"prize\")$\n",
    "        - From the Bayes formula, we need to compute $Pr(\"lottery\" \\& \"prize\" | spam)$ and $Pr(\"lottery\" \\& \"prize\" | not spam)$\n",
    "        - Since there is 1 more condition here, our population size is reduced\n",
    "    - Imagine if we want to do this for 100s of words. This will be almost impossible to estimate, because it is very unlikely that all 100 words will exist in the same email, even if individually the words carry some information.\n",
    "    \n",
    "    - Naive Bayes model simplifies this by assuming that the existance of these words are independent of each other. That is; $Pr(\"lottery\" \\& \"prize\") = Pr(\"lottery\") * Pr(\"prize\")$. We substitute this expression wherever we find it\n",
    "\n",
    "    - This reduces the formula to\n",
    "    $$\\begin{align}\n",
    "        Pr(Spam | \"lottery\" \\& \"prize\") &= \\frac{Pr(\"lottery\" \\& \"prize\" | spam) * Pr(spam)}{Pr(\"lottery\" \\& \"prize\" | spam) * Pr(spam) + Pr(\"lottery\" \\& \"prize\" | not spam) * Pr(not spam)} \\\\\n",
    "        &= \\frac{Pr(\"lottery\" | spam) * Pr(\"prize\" | spam) * Pr(spam)}{Pr(\"lottery\" | spam) * Pr(\"prize\" | spam) * Pr(spam) + Pr(\"lottery\" | not spam) * Pr(\"prize\" | not spam)  * Pr(not spam)}\n",
    "    \\end{align}$$\n"
   ]
  },
  {
   "attachments": {},
   "cell_type": "markdown",
   "metadata": {},
   "source": []
  }
 ],
 "metadata": {
  "language_info": {
   "name": "python"
  },
  "orig_nbformat": 4
 },
 "nbformat": 4,
 "nbformat_minor": 2
}
