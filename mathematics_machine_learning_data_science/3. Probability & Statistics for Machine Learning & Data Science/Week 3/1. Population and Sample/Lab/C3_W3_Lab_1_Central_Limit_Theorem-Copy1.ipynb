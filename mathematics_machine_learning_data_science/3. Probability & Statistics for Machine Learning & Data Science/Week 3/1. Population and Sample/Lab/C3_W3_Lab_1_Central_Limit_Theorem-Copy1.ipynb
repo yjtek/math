{
 "cells": [
  {
   "cell_type": "markdown",
   "id": "bb5afc1a",
   "metadata": {},
   "source": [
    "# Lab: Central Limit Theorem\n",
    "\n",
    "Welcome! In this ungraded lab see applications of the Central Limit Theorem when working with different distributions of data. You will see how to see the theorem in action, as well as scenarios in which the theorem doesn't hold.\n",
    "\n",
    "Let's get started!"
   ]
  },
  {
   "cell_type": "code",
   "execution_count": 9,
   "id": "dff173ef",
   "metadata": {},
   "outputs": [],
   "source": [
    "import numpy as np\n",
    "import pandas as pd\n",
    "import matplotlib.pyplot as plt\n",
    "import seaborn as sns\n",
    "from scipy.stats import norm\n",
    "from dataclasses import dataclass\n",
    "import utils"
   ]
  },
  {
   "cell_type": "markdown",
   "id": "c4298763",
   "metadata": {},
   "source": [
    "## Gaussian population\n",
    "\n",
    "Begin with the most straightforward scenario: when your population follows a Gaussian distribution. You will generate the data for this population by using the [np.random.normal](https://numpy.org/doc/stable/reference/random/generated/numpy.random.normal.html) function:"
   ]
  },
  {
   "cell_type": "code",
   "execution_count": 2,
   "id": "db0e6232",
   "metadata": {},
   "outputs": [],
   "source": [
    "mu = 10\n",
    "sigma = 5\n",
    "\n",
    "gaussian_population = np.random.normal(mu, sigma, 100_000)"
   ]
  },
  {
   "cell_type": "markdown",
   "id": "2bafe463",
   "metadata": {},
   "source": [
    "The population has a mean of 10 and a standard deviation of 5 and a total of 100'000 observations. You can visualize its histogram by running the next cell:"
   ]
  },
  {
   "cell_type": "code",
   "execution_count": 4,
   "id": "aa13b407",
   "metadata": {},
   "outputs": [
    {
     "data": {
      "image/png": "[encoded data removed]",
      "text/plain": [
       "<Figure size 640x480 with 1 Axes>"
      ]
     },
     "metadata": {},
     "output_type": "display_data"
    }
   ],
   "source": [
    "sns.histplot(gaussian_population, stat=\"probability\")\n",
    "plt.show()"
   ]
  },
  {
   "cell_type": "code",
   "execution_count": 5,
   "id": "9c79dd5f",
   "metadata": {},
   "outputs": [
    {
     "name": "stdout",
     "output_type": "stream",
     "text": [
      "Gaussian population has mean: 9.98 and std: 5.00\n"
     ]
    }
   ],
   "source": [
    "gaussian_pop_mean = np.mean(gaussian_population)\n",
    "gaussian_pop_std = np.std(gaussian_population)\n",
    "\n",
    "print(f\"Gaussian population has mean: {gaussian_pop_mean:.2f} and std: {gaussian_pop_std:.2f}\")"
   ]
  },
  {
   "cell_type": "code",
   "execution_count": 6,
   "id": "4fa3265f",
   "metadata": {},
   "outputs": [],
   "source": [
    "@dataclass\n",
    "class gaussian_params:\n",
    "    mean: float = gaussian_pop_mean\n",
    "    std: float = gaussian_pop_std"
   ]
  },
  {
   "cell_type": "markdown",
   "id": "7dffb432",
   "metadata": {},
   "source": [
    "The CLT works as follows:\n",
    "\n",
    "- You take random samples out of the population (the sampling is done with replacement, which means that once you select an element you put it back in the sampling space so you could choose a particular element more than once)\n",
    "\n",
    "- Compute the mean of each sample"
   ]
  },
  {
   "cell_type": "markdown",
   "id": "774ec0e3",
   "metadata": {},
   "source": [
    "n_samples no me afecta el teorema sino que tan bien se ve el histograma!"
   ]
  },
  {
   "cell_type": "code",
   "execution_count": 8,
   "id": "996fd8ef",
   "metadata": {},
   "outputs": [],
   "source": [
    "def sample_means(data, sample_size):\n",
    "    \n",
    "    means = []\n",
    "\n",
    "    for _ in range(10_000):\n",
    "        sample = np.random.choice(data, size=sample_size)\n",
    "        means.append(np.mean(sample))\n",
    "        \n",
    "    return np.array(means)\n"
   ]
  },
  {
   "cell_type": "code",
   "execution_count": null,
   "id": "723fc103",
   "metadata": {},
   "outputs": [],
   "source": []
  },
  {
   "cell_type": "code",
   "execution_count": null,
   "id": "07799fb7",
   "metadata": {},
   "outputs": [],
   "source": []
  },
  {
   "cell_type": "code",
   "execution_count": null,
   "id": "a8effc29",
   "metadata": {},
   "outputs": [],
   "source": []
  },
  {
   "cell_type": "markdown",
   "id": "8a195c31",
   "metadata": {},
   "source": [
    "arrancar el sample size en 2"
   ]
  },
  {
   "cell_type": "code",
   "execution_count": 14,
   "id": "7f11a103",
   "metadata": {},
   "outputs": [
    {
     "data": {
      "text/plain": [
       "<module 'utils' from '/home/jovyan/work/utils.py'>"
      ]
     },
     "execution_count": 14,
     "metadata": {},
     "output_type": "execute_result"
    }
   ],
   "source": [
    "from importlib import reload\n",
    "reload(utils)"
   ]
  },
  {
   "cell_type": "code",
   "execution_count": 12,
   "id": "b0f89d4d",
   "metadata": {},
   "outputs": [
    {
     "data": {
      "application/vnd.jupyter.widget-view+json": {
       "model_id": "f83d6e58eec14d29a4ca1307845bd432",
       "version_major": 2,
       "version_minor": 0
      },
      "text/plain": [
       "interactive(children=(IntSlider(value=5, continuous_update=False, description='sample_size', min=2, step=10), …"
      ]
     },
     "metadata": {},
     "output_type": "display_data"
    }
   ],
   "source": [
    "utils.gaussian_clt(gaussian_population, gaussian_params)"
   ]
  },
  {
   "cell_type": "markdown",
   "id": "dfa5768e",
   "metadata": {},
   "source": [
    "## Binomial Population"
   ]
  },
  {
   "cell_type": "code",
   "execution_count": 173,
   "id": "37f9dbe5",
   "metadata": {},
   "outputs": [
    {
     "data": {
      "text/plain": [
       "array([2, 8, 5, ..., 7, 4, 7])"
      ]
     },
     "execution_count": 173,
     "metadata": {},
     "output_type": "execute_result"
    }
   ],
   "source": [
    "binomial_population"
   ]
  },
  {
   "cell_type": "code",
   "execution_count": null,
   "id": "36fb0498",
   "metadata": {},
   "outputs": [],
   "source": []
  },
  {
   "cell_type": "code",
   "execution_count": 13,
   "id": "5aca48fd",
   "metadata": {},
   "outputs": [
    {
     "data": {
      "text/plain": [
       "2.999999999999999"
      ]
     },
     "execution_count": 13,
     "metadata": {},
     "output_type": "execute_result"
    }
   ],
   "source": [
    "n = 5\n",
    "p = 0.8\n",
    "sample_size = 3\n",
    "N = n*sample_size\n",
    "\n",
    "\n",
    "binomial_population = np.random.binomial(n, p, 100_000)\n",
    "\n",
    "# np.min([n*p, n*(1-p)])\n",
    "np.min([N*p, N*(1-p)])"
   ]
  },
  {
   "cell_type": "markdown",
   "id": "e224080b",
   "metadata": {},
   "source": [
    "cuando estoy en el mundo de las binomiales: el n que tengo que usar para los test es como n*sample_size"
   ]
  },
  {
   "cell_type": "code",
   "execution_count": null,
   "id": "ee983e19",
   "metadata": {},
   "outputs": [],
   "source": [
    "sns.histplot(binomial_population)\n",
    "plt.show()"
   ]
  },
  {
   "cell_type": "code",
   "execution_count": 79,
   "id": "7d502b5d",
   "metadata": {},
   "outputs": [],
   "source": [
    "binomial_sample_means = sample_means(binomial_population, n_samples=10_000, sample_size=sample_size)"
   ]
  },
  {
   "cell_type": "code",
   "execution_count": null,
   "id": "05f377fc",
   "metadata": {},
   "outputs": [],
   "source": []
  },
  {
   "cell_type": "code",
   "execution_count": 80,
   "id": "87470390",
   "metadata": {},
   "outputs": [
    {
     "data": {
      "image/png": "[encoded data removed]",
      "text/plain": [
       "<Figure size 640x480 with 1 Axes>"
      ]
     },
     "metadata": {},
     "output_type": "display_data"
    }
   ],
   "source": [
    "sns.histplot(binomial_sample_means,stat=\"density\", kde=True)\n",
    "plt.show()"
   ]
  },
  {
   "cell_type": "code",
   "execution_count": 81,
   "id": "077daef2",
   "metadata": {},
   "outputs": [],
   "source": [
    "mu = n*p\n",
    "sigma = np.sqrt(n*p*(1-p))/np.sqrt(sample_size)\n",
    "\n",
    "# norm_data = np.random.normal(mu, sigma, 10_000)"
   ]
  },
  {
   "cell_type": "code",
   "execution_count": 82,
   "id": "a334ff1d",
   "metadata": {},
   "outputs": [],
   "source": [
    "x_range = np.linspace(min(binomial_sample_means), max(binomial_sample_means), 100)"
   ]
  },
  {
   "cell_type": "code",
   "execution_count": 83,
   "id": "60d54d67",
   "metadata": {},
   "outputs": [],
   "source": []
  },
  {
   "cell_type": "code",
   "execution_count": 84,
   "id": "34f1e28d",
   "metadata": {},
   "outputs": [
    {
     "data": {
      "image/png": "[encoded data removed]",
      "text/plain": [
       "<Figure size 640x480 with 1 Axes>"
      ]
     },
     "metadata": {},
     "output_type": "display_data"
    }
   ],
   "source": [
    "sns.histplot(binomial_sample_means,stat=\"density\", kde=True)\n",
    "plt.plot(x_range,norm.pdf(x_range, loc=mu, scale=sigma), color=\"red\")\n",
    "\n",
    "plt.show()"
   ]
  },
  {
   "cell_type": "code",
   "execution_count": null,
   "id": "8325f09a",
   "metadata": {},
   "outputs": [],
   "source": []
  },
  {
   "cell_type": "code",
   "execution_count": 23,
   "id": "9362c358",
   "metadata": {},
   "outputs": [
    {
     "data": {
      "text/plain": [
       "32.0"
      ]
     },
     "execution_count": 23,
     "metadata": {},
     "output_type": "execute_result"
    }
   ],
   "source": [
    "n*p"
   ]
  },
  {
   "cell_type": "code",
   "execution_count": 24,
   "id": "59118b95",
   "metadata": {},
   "outputs": [
    {
     "data": {
      "text/plain": [
       "32.00488"
      ]
     },
     "execution_count": 24,
     "metadata": {},
     "output_type": "execute_result"
    }
   ],
   "source": [
    "np.mean(binomial_population)"
   ]
  },
  {
   "cell_type": "code",
   "execution_count": 25,
   "id": "9bb53274",
   "metadata": {},
   "outputs": [
    {
     "data": {
      "text/plain": [
       "2.529822128134703"
      ]
     },
     "execution_count": 25,
     "metadata": {},
     "output_type": "execute_result"
    }
   ],
   "source": [
    "np.sqrt(n*p*(1-p))"
   ]
  },
  {
   "cell_type": "code",
   "execution_count": 26,
   "id": "cbdf80cc",
   "metadata": {},
   "outputs": [
    {
     "data": {
      "text/plain": [
       "2.5314810261189002"
      ]
     },
     "execution_count": 26,
     "metadata": {},
     "output_type": "execute_result"
    }
   ],
   "source": [
    "np.std(binomial_population)"
   ]
  },
  {
   "cell_type": "code",
   "execution_count": 27,
   "id": "25ee898f",
   "metadata": {},
   "outputs": [
    {
     "data": {
      "text/plain": [
       "31.999527999999998"
      ]
     },
     "execution_count": 27,
     "metadata": {},
     "output_type": "execute_result"
    }
   ],
   "source": [
    "np.mean(binomial_sample_means)"
   ]
  },
  {
   "cell_type": "markdown",
   "id": "b2ab5b28",
   "metadata": {},
   "source": [
    "# Aqui es denominador si es el sample_size"
   ]
  },
  {
   "cell_type": "code",
   "execution_count": 34,
   "id": "1c29380f",
   "metadata": {},
   "outputs": [
    {
     "data": {
      "text/plain": [
       "1.1313708498984758"
      ]
     },
     "execution_count": 34,
     "metadata": {},
     "output_type": "execute_result"
    }
   ],
   "source": [
    "np.sqrt(n*p*(1-p))/np.sqrt(5)"
   ]
  },
  {
   "cell_type": "code",
   "execution_count": 35,
   "id": "d5049f81",
   "metadata": {},
   "outputs": [
    {
     "data": {
      "text/plain": [
       "1.117348504093508"
      ]
     },
     "execution_count": 35,
     "metadata": {},
     "output_type": "execute_result"
    }
   ],
   "source": [
    "np.std(binomial_sample_means)"
   ]
  },
  {
   "cell_type": "code",
   "execution_count": null,
   "id": "72bdbdaf",
   "metadata": {},
   "outputs": [],
   "source": []
  },
  {
   "cell_type": "code",
   "execution_count": 63,
   "id": "b4e10d2d",
   "metadata": {},
   "outputs": [
    {
     "data": {
      "text/plain": [
       "0.47894620319567793"
      ]
     },
     "execution_count": 63,
     "metadata": {},
     "output_type": "execute_result"
    }
   ],
   "source": [
    "real_sigma = np.std(binomial_sample_means)\n",
    "real_sigma"
   ]
  },
  {
   "cell_type": "code",
   "execution_count": 50,
   "id": "9ebe7c1d",
   "metadata": {},
   "outputs": [
    {
     "data": {
      "text/plain": [
       "32.0"
      ]
     },
     "execution_count": 50,
     "metadata": {},
     "output_type": "execute_result"
    }
   ],
   "source": [
    "n*p"
   ]
  },
  {
   "cell_type": "code",
   "execution_count": 51,
   "id": "0dad439b",
   "metadata": {},
   "outputs": [
    {
     "data": {
      "text/plain": [
       "0.46188021535170054"
      ]
     },
     "execution_count": 51,
     "metadata": {},
     "output_type": "execute_result"
    }
   ],
   "source": [
    "theoretical_sigma = np.sqrt(n*p*(1-p))/np.sqrt(30)\n",
    "theoretical_sigma"
   ]
  },
  {
   "cell_type": "code",
   "execution_count": 193,
   "id": "00f161ee",
   "metadata": {},
   "outputs": [
    {
     "data": {
      "text/plain": [
       "0.026950067121424705"
      ]
     },
     "execution_count": 193,
     "metadata": {},
     "output_type": "execute_result"
    }
   ],
   "source": [
    "abs(theoretical_sigma-real_sigma)/theoretical_sigma"
   ]
  },
  {
   "cell_type": "code",
   "execution_count": 65,
   "id": "d1f3e12f",
   "metadata": {},
   "outputs": [
    {
     "data": {
      "text/plain": [
       "<module 'utils' from '/home/jovyan/work/utils.py'>"
      ]
     },
     "execution_count": 65,
     "metadata": {},
     "output_type": "execute_result"
    }
   ],
   "source": [
    "reload(utils)"
   ]
  },
  {
   "cell_type": "code",
   "execution_count": 66,
   "id": "c292889c",
   "metadata": {},
   "outputs": [
    {
     "data": {
      "application/vnd.jupyter.widget-view+json": {
       "model_id": "dffa875687a74f94af6e9df53a75e716",
       "version_major": 2,
       "version_minor": 0
      },
      "text/plain": [
       "interactive(children=(IntSlider(value=2, continuous_update=False, description='sample_size', max=50, min=2), F…"
      ]
     },
     "metadata": {},
     "output_type": "display_data"
    }
   ],
   "source": [
    "utils.binomial_clt()"
   ]
  },
  {
   "cell_type": "markdown",
   "id": "bebe0789",
   "metadata": {},
   "source": [
    "## Poisson Population"
   ]
  },
  {
   "cell_type": "code",
   "execution_count": 197,
   "id": "e91f728b",
   "metadata": {},
   "outputs": [
    {
     "data": {
      "text/plain": [
       "array([2, 1, 4, ..., 4, 5, 1])"
      ]
     },
     "execution_count": 197,
     "metadata": {},
     "output_type": "execute_result"
    }
   ],
   "source": [
    "poisson_population"
   ]
  },
  {
   "cell_type": "code",
   "execution_count": 208,
   "id": "6770dcdf",
   "metadata": {},
   "outputs": [],
   "source": [
    "mu = 3\n",
    "n=15\n",
    "\n",
    "poisson_population = np.random.poisson(mu, 10_000)\n"
   ]
  },
  {
   "cell_type": "code",
   "execution_count": 209,
   "id": "629422c0",
   "metadata": {},
   "outputs": [
    {
     "data": {
      "text/plain": [
       "3.0008"
      ]
     },
     "execution_count": 209,
     "metadata": {},
     "output_type": "execute_result"
    }
   ],
   "source": [
    "np.mean(poisson_population)"
   ]
  },
  {
   "cell_type": "code",
   "execution_count": 211,
   "id": "9a505c8f",
   "metadata": {},
   "outputs": [
    {
     "data": {
      "text/plain": [
       "1.703995117363897"
      ]
     },
     "execution_count": 211,
     "metadata": {},
     "output_type": "execute_result"
    }
   ],
   "source": [
    "poisson_population_std = np.std(poisson_population)\n",
    "\n",
    "poisson_population_std"
   ]
  },
  {
   "cell_type": "code",
   "execution_count": 212,
   "id": "c9790219",
   "metadata": {},
   "outputs": [
    {
     "data": {
      "image/png": "[encoded data removed]",
      "text/plain": [
       "<Figure size 640x480 with 1 Axes>"
      ]
     },
     "metadata": {},
     "output_type": "display_data"
    }
   ],
   "source": [
    "sns.histplot(poisson_population)\n",
    "plt.show()"
   ]
  },
  {
   "cell_type": "code",
   "execution_count": 213,
   "id": "67f24aee",
   "metadata": {},
   "outputs": [],
   "source": [
    "poisson_sample_means = sample_means(poisson_population, 1000, n)"
   ]
  },
  {
   "cell_type": "code",
   "execution_count": 214,
   "id": "0750cc1a",
   "metadata": {},
   "outputs": [
    {
     "data": {
      "image/png": "[encoded data removed]",
      "text/plain": [
       "<Figure size 640x480 with 1 Axes>"
      ]
     },
     "metadata": {},
     "output_type": "display_data"
    }
   ],
   "source": [
    "sns.histplot(poisson_sample_means)\n",
    "plt.show()"
   ]
  },
  {
   "cell_type": "code",
   "execution_count": 215,
   "id": "6b90fba0",
   "metadata": {},
   "outputs": [
    {
     "data": {
      "text/plain": [
       "3.0136"
      ]
     },
     "execution_count": 215,
     "metadata": {},
     "output_type": "execute_result"
    }
   ],
   "source": [
    "np.mean(poisson_sample_means)"
   ]
  },
  {
   "cell_type": "code",
   "execution_count": 216,
   "id": "b9467e38",
   "metadata": {},
   "outputs": [
    {
     "data": {
      "text/plain": [
       "0.4220920594688636"
      ]
     },
     "execution_count": 216,
     "metadata": {},
     "output_type": "execute_result"
    }
   ],
   "source": [
    "np.std(poisson_sample_means)"
   ]
  },
  {
   "cell_type": "code",
   "execution_count": 218,
   "id": "2acdfa50",
   "metadata": {},
   "outputs": [
    {
     "data": {
      "text/plain": [
       "0.4399696474379417"
      ]
     },
     "execution_count": 218,
     "metadata": {},
     "output_type": "execute_result"
    }
   ],
   "source": [
    "poisson_population_std/np.sqrt(n)"
   ]
  },
  {
   "cell_type": "code",
   "execution_count": 40,
   "id": "37d2682a",
   "metadata": {},
   "outputs": [
    {
     "data": {
      "image/png": "[encoded data removed]",
      "text/plain": [
       "<Figure size 640x480 with 1 Axes>"
      ]
     },
     "metadata": {},
     "output_type": "display_data"
    }
   ],
   "source": [
    "mu = 10  # mean\n",
    "sigma = 2  # standard deviation\n",
    "\n",
    "# generate population\n",
    "population = np.random.normal(mu, sigma, size=100000)\n",
    "\n",
    "# simulate sampling distribution of the mean\n",
    "sample_means = []\n",
    "for i in range(10000):\n",
    "    sample = np.random.choice(population, size=100)\n",
    "    sample_mean = np.mean(sample)\n",
    "    sample_means.append(sample_mean)\n",
    "\n",
    "# plot sampling distribution\n",
    "plt.hist(sample_means, bins=50, density=True, alpha=0.5)\n",
    "plt.xlabel('Sample Means')\n",
    "plt.ylabel('Density')\n",
    "plt.title('Sampling Distribution of the Mean')\n",
    "plt.show()"
   ]
  },
  {
   "cell_type": "code",
   "execution_count": 52,
   "id": "ec367a4e",
   "metadata": {},
   "outputs": [
    {
     "data": {
      "image/png": "[encoded data removed]",
      "text/plain": [
       "<Figure size 640x480 with 1 Axes>"
      ]
     },
     "metadata": {},
     "output_type": "display_data"
    }
   ],
   "source": [
    "# define population parameters\n",
    "n = 20  # number of trials\n",
    "p = 0.5  # probability of success\n",
    "\n",
    "# generate population\n",
    "population = np.random.binomial(n, p, size=100000)\n",
    "\n",
    "# simulate sampling distribution of the mean\n",
    "sample_means = []\n",
    "for i in range(10000):\n",
    "    sample = np.random.choice(population, size=100)\n",
    "    sample_mean = np.mean(sample) / n\n",
    "    sample_means.append(sample_mean)\n",
    "\n",
    "# plot sampling distribution\n",
    "plt.hist(sample_means, bins=50, density=True, alpha=0.5)\n",
    "plt.xlabel('Sample Means')\n",
    "plt.ylabel('Density')\n",
    "plt.title('Sampling Distribution of the Mean')\n",
    "plt.show()"
   ]
  },
  {
   "cell_type": "code",
   "execution_count": 68,
   "id": "f45e781e",
   "metadata": {},
   "outputs": [
    {
     "data": {
      "image/png": "[encoded data removed]",
      "text/plain": [
       "<Figure size 640x480 with 1 Axes>"
      ]
     },
     "metadata": {},
     "output_type": "display_data"
    }
   ],
   "source": [
    "# define population parameters\n",
    "n = 20  # number of trials\n",
    "p = 0.5  # probability of success\n",
    "N = 100000  # population size\n",
    "\n",
    "# generate population\n",
    "population = np.random.binomial(n, p, size=N)\n",
    "\n",
    "# compute mean and standard deviation of the sample means\n",
    "mean_sample_means = p\n",
    "std_error = np.sqrt(p*(1-p)/n)\n",
    "std_sample_means = std_error / np.sqrt(N)\n",
    "\n",
    "# generate samples and compute sample means\n",
    "num_samples = 1000  # number of samples\n",
    "sample_means = []\n",
    "for i in range(num_samples):\n",
    "    sample = np.random.choice(population, size=n)\n",
    "    sample_mean = np.mean(sample)\n",
    "    sample_means.append(sample_mean)\n",
    "\n",
    "# plot distribution of sample means\n",
    "plt.hist(sample_means, bins=30, density=True)\n",
    "plt.title('Distribution of Sample Means')\n",
    "plt.xlabel('Sample Mean')\n",
    "plt.ylabel('Density')\n",
    "# plt.xlim([0, 1])\n",
    "# plt.ylim([0, 10])\n",
    "plt.show()"
   ]
  },
  {
   "cell_type": "code",
   "execution_count": 69,
   "id": "c3125121",
   "metadata": {},
   "outputs": [
    {
     "data": {
      "text/plain": [
       "0.4893219773318995"
      ]
     },
     "execution_count": 69,
     "metadata": {},
     "output_type": "execute_result"
    }
   ],
   "source": [
    "np.std(sample_means)"
   ]
  },
  {
   "cell_type": "code",
   "execution_count": 70,
   "id": "f4124654",
   "metadata": {},
   "outputs": [
    {
     "data": {
      "text/plain": [
       "0.0003535533905932737"
      ]
     },
     "execution_count": 70,
     "metadata": {},
     "output_type": "execute_result"
    }
   ],
   "source": [
    "std_sample_means"
   ]
  },
  {
   "cell_type": "code",
   "execution_count": 72,
   "id": "6230f6e0",
   "metadata": {},
   "outputs": [
    {
     "data": {
      "text/plain": [
       "0.5"
      ]
     },
     "execution_count": 72,
     "metadata": {},
     "output_type": "execute_result"
    }
   ],
   "source": [
    "np.sqrt(p*(1-p)*n) / np.sqrt(n)"
   ]
  },
  {
   "cell_type": "code",
   "execution_count": null,
   "id": "c2b46d9c",
   "metadata": {},
   "outputs": [],
   "source": []
  }
 ],
 "metadata": {
  "kernelspec": {
   "display_name": "Python 3 (ipykernel)",
   "language": "python",
   "name": "python3"
  },
  "language_info": {
   "codemirror_mode": {
    "name": "ipython",
    "version": 3
   },
   "file_extension": ".py",
   "mimetype": "text/x-python",
   "name": "python",
   "nbconvert_exporter": "python",
   "pygments_lexer": "ipython3",
   "version": "3.10.9"
  }
 },
 "nbformat": 4,
 "nbformat_minor": 5
}
