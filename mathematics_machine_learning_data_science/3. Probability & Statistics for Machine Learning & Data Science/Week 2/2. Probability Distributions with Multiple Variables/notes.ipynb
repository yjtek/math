{
 "cells": [
  {
   "attachments": {},
   "cell_type": "markdown",
   "metadata": {},
   "source": [
    "## Joint distribution"
   ]
  },
  {
   "attachments": {},
   "cell_type": "markdown",
   "metadata": {},
   "source": [
    "- Discrete joint distribution\n",
    "    - X and Y are discrete random variables\n",
    "    - $Pr(X=x, Y=y) = \\rho_{XY}(x,y)$\n",
    "    - If X and Y and independent, $Pr(X=x, Y=y) = \\rho_{XY}(x,y) = P(x) \\cdot P(y)$\n",
    "\n",
    "- Continuous joint distribution\n",
    "    - X and Y are continuous random variables\n",
    "\n",
    "- Marginal distribution\n",
    "    - Distribution of variable X ignoring variable Y\n",
    "    - e.g. rolling 2 dice, with X and Y representing result\n",
    "        - Marginal distribution of X: \n",
    "            - The distribution of X across all possible X values as if Y doesn't exist\n",
    "\n",
    "-  Conditional distribution\n",
    "    - Distribution of variable X CONDITIONAL on variable Y\n",
    "    - e.g. rolling 2 dice, with X and Y representing result\n",
    "            - Conditional distribution of X: \n",
    "                - For a fixed value of Y, what is the distribution across all possible X values?\n",
    "    - Discrete\n",
    "        - $\\rho_{Y | X=x}(y) = \\frac{\\rho_{XY}(x,y)}{\\rho_X(X)}$\n",
    "            - Conditional distribution of Y is the joint distribution of (x,y) divided by the marginal distribution of X\n",
    "    - Continuous\n",
    "        - $f_{Y | X=x}(y) = \\frac{f_{XY}(x,y)}{f_X(X)}$\n",
    "            - Conditional PDF of Y is the joint PDF of X and Y divided by the marginal distribution of X"
   ]
  },
  {
   "attachments": {},
   "cell_type": "markdown",
   "metadata": {},
   "source": [
    "## Covariance"
   ]
  },
  {
   "attachments": {},
   "cell_type": "markdown",
   "metadata": {},
   "source": [
    "- Definition\n",
    "    - $Cov(x,y) = \\frac{\\sum_{i=1}^{n} (x_i - \\mu_x)(y_i - \\mu_y)} {n} $\n",
    "    - Covariance > 0, feature is positively correlated\n",
    "    - Covariance < 0, feature is negatively correlated\n",
    "    - Assuming every pair of values $(x_i, y_i)$ have the same probability $p$"
   ]
  },
  {
   "attachments": {},
   "cell_type": "markdown",
   "metadata": {},
   "source": [
    "- What is the probabilities were not the same?\n",
    "    - $Cov(x,y) = \\sum_{i=1}^{n} \\rho_{XY}(x,y) (x_i - \\mu_x)(y_i - \\mu_y)$, where $\\rho_{XY}(x,y)$ is the joint probability observing $(X=x, Y=x)$"
   ]
  },
  {
   "attachments": {},
   "cell_type": "markdown",
   "metadata": {},
   "source": [
    "- Also note that this is true\n",
    "$$\\begin{align}\n",
    "    Cov(X,Y) &= E[(X-\\mu_X)(Y-\\mu_Y)] \\\\\n",
    "    &= E[XY] - E[X]\\mu_Y - E[Y]\\mu_X + \\mu_X\\mu_Y \\\\\n",
    "    &= E[XY] - E[X]E[Y] - E[X]E[Y] + E[X]E[Y] \\\\\n",
    "    &= E[XY] - E[X]E[Y]\n",
    "\\end{align}$$"
   ]
  },
  {
   "attachments": {},
   "cell_type": "markdown",
   "metadata": {},
   "source": [
    "- We see how the covariance of 2 random variables can be calculated\n",
    "- In a typical dataset, there are multiple random variables, and so multiple covariances to compute\n",
    "    - e.g. If I have 3 variables, $X_1$, $X_2$, $X_3$, I have to compute covariance $\\sigma_{x_i, x_j}$ for all possible pairs of $i$ and $j$\n",
    "- This is best represented in a variance-covariance matrix\n",
    "\n",
    "| | $x_1$ | $x_2$ | $x_3$ |\n",
    "| --- | --- | --- | --- |\n",
    "| $x_1$ | $Var(x_1)$ | $Cov(x_1, x_2)$ | $Cov(x_1, x_3)$ | \n",
    "| $x_2$ | $Cov(x_2, x_1)$ | $Var(x_2)$ | $Cov(x_2, x_3)$ | \n",
    "| $x_3$ | $Cov(x_3, x_1)$ | $Cov(x_3, x_2)$ | $Var(x_3)$ | "
   ]
  },
  {
   "attachments": {},
   "cell_type": "markdown",
   "metadata": {},
   "source": [
    "## Correlation Coefficient"
   ]
  },
  {
   "attachments": {},
   "cell_type": "markdown",
   "metadata": {},
   "source": [
    "- $Corr(X,Y) = \\frac{Cov(X,Y)}{Std(X) \\cdot Std(Y)}$"
   ]
  },
  {
   "attachments": {},
   "cell_type": "markdown",
   "metadata": {},
   "source": [
    "## Multivariate Gaussian"
   ]
  },
  {
   "attachments": {},
   "cell_type": "markdown",
   "metadata": {},
   "source": [
    "- Let $X \\sim N(\\mu_x, \\sigma_x^2)$, $Y \\sim N(\\mu_y, \\sigma_y^2)$\n",
    "- If X and Y are independent\n",
    "    - PDF of joint distribution:\n",
    "        - $\\begin{align}\n",
    "            f_{XY}(x,y) &= f_{X}(x) \\cdot f_{Y}(y) \\\\\n",
    "            &= \\frac{1}{\\sqrt{2 \\pi } \\cdot \\sigma_x} e^{-0.5 \\cdot (\\frac{x-\\mu_x}{\\sigma_x})^2} * \\frac{1}{\\sqrt{2 \\pi } \\cdot \\sigma_y} e^{-0.5 \\cdot (\\frac{y-\\mu_y}{\\sigma_y})^2} \\\\\n",
    "            &= \\frac{1}{2 \\pi \\sigma_x \\sigma_y} e^{-0.5 \\cdot ( (\\frac{x-\\mu_x}{\\sigma_x})^2 + (\\frac{y-\\mu_y}{\\sigma_y})^2)}\n",
    "        \\end{align}$ \n",
    "    \n",
    "    - Independent multivariate gaussian is symmetric"
   ]
  },
  {
   "attachments": {},
   "cell_type": "markdown",
   "metadata": {},
   "source": [
    "- Let's peel into the equation above a little more\n",
    "    - $(\\frac{x-\\mu_x}{\\sigma_x})^2 + (\\frac{y-\\mu_y}{\\sigma_y})^2$\n",
    "    - This can be rewritten as the square of the L2-Norm of matrix and simplified:\n",
    "        - $\\begin{align}\\begin{vmatrix}\\begin{bmatrix}\n",
    "            \\frac{x - \\mu_x}{\\sigma_x} \\\\ \\frac{y - \\mu_y}{\\sigma_y}\n",
    "        \\end{bmatrix}\\end{vmatrix}_2^2 &= \\begin{bmatrix} \\frac{x - \\mu_x}{\\sigma_x} & \\frac{y - \\mu_y}{\\sigma_y} \\end{bmatrix} \\cdot \\begin{bmatrix} \\frac{x - \\mu_x}{\\sigma_x} \\\\ \\frac{y - \\mu_y}{\\sigma_y} \\end{bmatrix} \\\\\n",
    "        &= (\\begin{bmatrix} x-\\mu_x & y-\\mu_y \\end{bmatrix}) \\cdot \\begin{bmatrix} \\frac{1}{\\sigma_x^2} & 0 \\\\ 0 & \\frac{1}{\\sigma_y^2} \\end{bmatrix} \\cdot (\\begin{bmatrix} x-\\mu_x \\\\ y-\\mu_y \\end{bmatrix}) \\\\\n",
    "        &= (\\begin{bmatrix} x-\\mu_x \\\\ y-\\mu_y \\end{bmatrix})^T \\cdot \\begin{bmatrix} \\sigma_x^2 & 0 \\\\ 0 & \\sigma_y^2 \\end{bmatrix}^{-1} \\cdot (\\begin{bmatrix} x-\\mu_x \\\\ y-\\mu_y \\end{bmatrix}) \\\\\n",
    "        &= (\\begin{bmatrix} x \\\\ y \\end{bmatrix} - \\mathbf{\\mu})^T  \\cdot \\Sigma^{-1} \\cdot (\\begin{bmatrix} x \\\\ y \\end{bmatrix} - \\mathbf{\\mu})\n",
    "        \\end{align}$\n",
    "    - $\\mu$ is the vector of expectations [E[X], E[Y], ...]\n",
    "    - $\\Sigma$ is the covariance matrix of general form $\\begin{bmatrix} Var(X_1) & Cov(X_1, X_2) & ... & Cov(X_1, X_n) \\\\ Cov(X_2, X_1) & Var(X_2) & ... & Cov(X_2, X_n) \\\\ ... \\end{bmatrix}\n"
   ]
  },
  {
   "attachments": {},
   "cell_type": "markdown",
   "metadata": {},
   "source": [
    "- As such, the joint PDF can be rewritten as:\n",
    "    - $\\begin{align}\n",
    "        f_{XY}(x,y) &= \\frac{1}{2 \\pi \\sigma_x \\sigma_y} e^{-0.5 \\cdot ( (\\frac{x-\\mu_x}{\\sigma_x})^2 + (\\frac{y-\\mu_y}{\\sigma_y})^2)} \\\\\n",
    "        &= \\frac{1}{2 \\pi \\sigma_x \\sigma_y} e^{-0.5 \\cdot (\\begin{bmatrix} x \\\\ y \\end{bmatrix} - \\mathbf{\\mu})^T  \\cdot \\Sigma^{-1} \\cdot (\\begin{bmatrix} x \\\\ y \\end{bmatrix} - \\mathbf{\\mu})} \\\\\n",
    "        &= \\frac{1}{2 \\pi \\cdot det(\\Sigma)^{0.5}} e^{-0.5 \\cdot (\\begin{bmatrix} x \\\\ y \\end{bmatrix} - \\mathbf{\\mu})^T  \\cdot \\Sigma^{-1} \\cdot (\\begin{bmatrix} x \\\\ y \\end{bmatrix} - \\mathbf{\\mu})}\n",
    "    \\end{align}$ \n",
    "    - The last line follows because \n",
    "        - $\\begin{align}\n",
    "            det(\\Sigma)^{0.5} &= (\\sigma_x^2 \\cdot \\sigma_y^2 - 0)^{0.5} \\\\\n",
    "            &= \\sigma_x \\cdot \\sigma_y\n",
    "        \\end{align}$\n",
    "\n",
    "    - Note that even in the case where X and Y are not independent, the general expression still holds\n",
    "        - The only caveat is that the covariance matrix is no longer diagonal i.e. $\\Sigma \\ne \\begin{bmatrix}\\sigma_x^2 & 0 & ... \\\\ 0 & \\sigma_y^2 & 0 \\\\ ...\\end{bmatrix}$\n",
    "        - Instead, the off-diagonals will have the Covariance terms i.e. $\\Sigma \\ne \\begin{bmatrix}\\sigma_x^2 & Cov(X,Y) & ... \\\\ Cov(Y,X) & \\sigma_y^2 & ... \\\\ ...\\end{bmatrix}$\n"
   ]
  },
  {
   "attachments": {},
   "cell_type": "markdown",
   "metadata": {},
   "source": [
    "- In the general case with `n` variables:\n",
    "    - $\\begin{align}\n",
    "        f_X(x_1, x_2, ... x_n) = \\frac{1}{ (2 \\pi )^{ \\frac{n}{2} } \\cdot \\begin{vmatrix} \\Sigma \\end{vmatrix}^{\\frac{1}{2}}} \\cdot e^{-0.5 \\cdot (\\mathbf{X} - \\mu)^{T} \\Sigma^{-1} (\\mathbf{X} - \\mu)}\n",
    "    \\end{align}$"
   ]
  },
  {
   "attachments": {},
   "cell_type": "markdown",
   "metadata": {},
   "source": []
  }
 ],
 "metadata": {
  "language_info": {
   "name": "python"
  },
  "orig_nbformat": 4
 },
 "nbformat": 4,
 "nbformat_minor": 2
}
