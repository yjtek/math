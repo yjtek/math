{
 "cells": [
  {
   "cell_type": "markdown",
   "metadata": {},
   "source": [
    "### 1. You inflate a spherical balloon in a single breath. If the volume of air you exhale in a single breath (in cubic inches) is $\\text{Uniform}(a=36\\pi, b=288\\pi)$ random variable, what is the expected radius of the balloon (in inches)? (Use LOTUS, but feel free to check your answer using the p.d.f. you derived in Lesson 36.)"
   ]
  },
  {
   "cell_type": "markdown",
   "metadata": {},
   "source": [
    "- Let V be volume of air exhaled\n",
    "- Let R be radius of the balloon\n",
    "- $V = \\frac{4}{3} \\pi R^3$\n",
    "- When $V = 36\\pi \\rightarrow R = 3$, $V = 288\\pi \\rightarrow R = 6$\n",
    "\n",
    "$$\\begin{align}\n",
    "    E[R] &= E[\\sqrt[3]{\\frac{3}{4\\pi} V}] \\\\\n",
    "    &= \\int_{36\\pi}^{288\\pi} \\sqrt[3]{\\frac{3}{4\\pi} V} \\cdot \\frac{1}{252\\pi} dV \\\\\n",
    "    &= \\frac{1}{252\\pi} \\sqrt[3]{\\frac{3}{4\\pi}} \\int_{36\\pi}^{288\\pi} \\sqrt[3]{V} dV \\\\\n",
    "    &= \\frac{1}{252\\pi} \\sqrt[3]{\\frac{3}{4\\pi}} [\\frac{V^{4/3}}{4/3}]^{288\\pi}_{36\\pi} \\\\\n",
    "    &= 4.82\n",
    "\\end{align}"
   ]
  },
  {
   "cell_type": "code",
   "execution_count": 8,
   "metadata": {},
   "outputs": [
    {
     "data": {
      "text/plain": [
       "4.821428571428569"
      ]
     },
     "execution_count": 8,
     "metadata": {},
     "output_type": "execute_result"
    }
   ],
   "source": [
    "import math\n",
    "c1 = 1/(252*math.pi)\n",
    "c2 = (3/(4*math.pi))**(1/3)\n",
    "c3 = ((288 * math.pi) ** (4/3)) / (4/3)\n",
    "c4 = ((36 * math.pi) ** (4/3)) / (4/3)\n",
    "c1 * c2 * (c3 - c4)"
   ]
  },
  {
   "cell_type": "code",
   "execution_count": 14,
   "metadata": {},
   "outputs": [
    {
     "data": {
      "text/plain": [
       "4.820828392231269"
      ]
     },
     "execution_count": 14,
     "metadata": {},
     "output_type": "execute_result"
    }
   ],
   "source": [
    "import numpy as np\n",
    "V = np.random.uniform(36*math.pi, 288*math.pi, size=100_000)\n",
    "R = (3/(4*math.pi) * V)**(1/3)\n",
    "np.mean(R)"
   ]
  },
  {
   "cell_type": "markdown",
   "metadata": {},
   "source": [
    "### 2. The distance (in hundreds of miles) driven by a trucker in one day is a continuous random variable X whose cumulative distribution function (c.d.f.) is given by:\n",
    "\n",
    "$$\\begin{align}\n",
    "    F(x) &= \\begin{Bmatrix} 0 & x \\lt 0 \\\\ \\frac{x^3}{216} & 0 \\le x \\le 6 \\\\ 1 & x \\gt 6 \\end{Bmatrix}\n",
    "\\end{align}$$"
   ]
  },
  {
   "cell_type": "markdown",
   "metadata": {},
   "source": [
    "#### a. Let the random variable $D$ represent the time (in days) required for the trucker to make a 1500-mile trip, so $D = \\frac{15}{X}$. Calculate the expected value of D."
   ]
  },
  {
   "cell_type": "markdown",
   "metadata": {},
   "source": [
    "- At $X \\rightarrow 0, D \\rightarrow \\inf$\n",
    "- At $X \\rightarrow 6, D \\rightarrow 2.5$\n",
    "\n",
    "$$\\begin{align}\n",
    "    E[D] &= \\int_{2.5}^{inf} D \\cdot f(D) dD \\\\\n",
    "    &= \\int_{0}^{6} \\frac{15}{X} \\cdot f(X) dX \\\\\n",
    "    &= \\int_{0}^{6} \\frac{15}{X} \\cdot \\frac{x^3}{216} dX \\\\\n",
    "    &= [\\frac{15X^2}{216}]^6_0 \\\\\n",
    "    &= 2.51\n",
    "\\end{align}$$"
   ]
  }
 ],
 "metadata": {
  "kernelspec": {
   "display_name": "leetcode",
   "language": "python",
   "name": "python3"
  },
  "language_info": {
   "codemirror_mode": {
    "name": "ipython",
    "version": 3
   },
   "file_extension": ".py",
   "mimetype": "text/x-python",
   "name": "python",
   "nbconvert_exporter": "python",
   "pygments_lexer": "ipython3",
   "version": "3.10.4"
  },
  "orig_nbformat": 4
 },
 "nbformat": 4,
 "nbformat_minor": 2
}
