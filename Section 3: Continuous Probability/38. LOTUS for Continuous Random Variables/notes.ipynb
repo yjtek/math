{
 "cells": [
  {
   "attachments": {},
   "cell_type": "markdown",
   "metadata": {},
   "source": [
    "## Theory"
   ]
  },
  {
   "cell_type": "markdown",
   "metadata": {},
   "source": [
    "- In chapter 22, recall that we defined LOTUS to be:\n",
    "\n",
    "$$\n",
    "    E[g(X)] = \\sum_x g(x) \\cdot f(x) \n",
    "$$\n",
    "\n",
    "- **Theorem 38.1 (LOTUS for Continuous Random Variable)** For a continuous random variable, the expectation follows a similar logic!\n",
    "\n",
    "$$\n",
    "    E[g(X)] = \\int_{-\\inf}^{\\inf} g(x) \\cdot f(x) dx\n",
    "$$"
   ]
  },
  {
   "cell_type": "markdown",
   "metadata": {},
   "source": [
    "#### Example 38.1 (Expected value of uniform)"
   ]
  },
  {
   "cell_type": "markdown",
   "metadata": {},
   "source": [
    "- Suppose the current (in Amperes) flowing through a 1-ohm resistor is a $\\text{Uniform}(a,b)$ random variable $I$ for $a,b > 0$. The power dissipated by this resistor is $X = I^2$. What is the expected power dissipated by the resistor?\n",
    "\n",
    "- Method 1: We can approach this the calculus way that we did in section 37, through the definitions of PDF and CDF\n",
    "    - $$\\begin{align}\n",
    "        CDF &= F_X(x) \\\\ \n",
    "        &= P(X \\le x) \\\\\n",
    "        &= P(I^2 \\le x) \\\\\n",
    "        &= P(I \\le \\sqrt{x}) & x \\ge 0 \\text{ because } a,b \\gt 0 \\\\\n",
    "        &= \\begin{Bmatrix} 0 & x \\lt a^2 \\\\ \\frac{\\sqrt{x} - a}{b - a} & a^2 \\le x \\le b^2 \\\\ 1 & x \\ge b^2 \\end{Bmatrix}\n",
    "        \\end{align}$$\n",
    "    - $$\\begin{align}\n",
    "        PDF &= F'_X(x) \\\\ \n",
    "        &= f_X(x) \\\\\n",
    "        &= \\begin{Bmatrix} \\frac{1}{2(b - a)\\sqrt{x}} & a^2 \\le x \\le b^2 \\\\ 0 & \\text{otherwise} \\end{Bmatrix}\n",
    "        \\end{align}$$\n",
    "    - $$\\begin{align}\n",
    "        E[X] &= \\int_{a^2}^{b^2} x \\cdot \\frac{1}{2(b-a)\\sqrt{x}} dx \\\\\n",
    "        &= \\frac{1}{2(b-a)} [\\frac{x^{\\frac{3}{2}}}{\\frac{3}{2}}]^{b^2}_{a^2} \\\\\n",
    "        &= \\frac{1}{3(b-a)} [x^{\\frac{3}{2}}]^{b^2}_{a^2} \\\\\n",
    "        &= \\frac{1}{3(b-a)} (b^3 - a^3) \\\\\n",
    "        \\end{align}$$\n",
    "\n",
    "\n",
    "\n"
   ]
  },
  {
   "cell_type": "markdown",
   "metadata": {},
   "source": [
    "- Method 2: The easier way is just to apply LOTUS \n",
    "    - $$\\begin{align}\n",
    "        E[X] &= \\int_{a}^{b} x \\cdot f(x) dx \\\\\n",
    "        &= E[I^2] \\\\\n",
    "        &= \\int_{a}^{b} i^2 \\cdot f(i) di \\\\\n",
    "        &= \\frac{1}{b-a} [\\frac{i^3}{3}]^b_a \\\\\n",
    "        &= \\frac{b^3 - a^3}{3(b-a)}\n",
    "        \\end{align}$$"
   ]
  },
  {
   "cell_type": "markdown",
   "metadata": {},
   "source": [
    "#### Example 38.2 (Expected value of square of exponential)"
   ]
  },
  {
   "cell_type": "markdown",
   "metadata": {},
   "source": [
    "- Continuing with the previous example, suppose that the current $I$ instead follows an $\\text{Exponential}(\\lambda)$ distribution. What is the expected power dissipated by the resistor?\n",
    "\n",
    "$$\\begin{align}\n",
    "    E[X] &= \\int^{\\inf}_0 x \\cdot f(x) dx \\\\\n",
    "    &= E[I^2] \\\\\n",
    "    &= \\int^{\\inf}_0 i^2 \\cdot f(i) di \\\\\n",
    "    &= \\int^{\\inf}_0 i^2 \\cdot \\lambda e^{-\\lambda i} di \\\\\n",
    "\n",
    "    \\\\ & \\text{Integrating by parts twice...} \\\\ \\\\\n",
    "\n",
    "    &= -i^2 e^{-\\lambda i} - \\int 2i e^{-\\lambda i} & u = i^2, du = 2i, dv = \\lambda e^{-\\lambda i}, v = -e^{-\\lambda i} \\\\\n",
    "    &= -i^2 e^{-\\lambda i} - \\frac{2i}{\\lambda} e^{-\\lambda i} + \\int \\frac{2}{\\lambda} e^{-\\lambda i} & u = 2i, du = 2, dv = e^{-\\lambda i}, v = \\frac{1}{\\lambda} e^{-\\lambda i} \\\\\n",
    "    &= [-i^2 e^{-\\lambda i} - \\frac{2i}{\\lambda} e^{-\\lambda i} - \\frac{2}{\\lambda^2} e^{-\\lambda i}]^{\\inf}_0 \\\\\n",
    "    &= (0 - 0 - 0) - (0 - 0 - \\frac{2}{\\lambda^2}) \\\\\n",
    "    &= \\frac{2}{\\lambda^2}\n",
    "\\end{align}$$"
   ]
  },
  {
   "cell_type": "markdown",
   "metadata": {},
   "source": [
    "#### Example 38.3 (Expected Value of a Cosine)"
   ]
  },
  {
   "cell_type": "markdown",
   "metadata": {},
   "source": [
    "- Let $\\Theta$ be a random angle, from a $\\text{Uniform}(-\\pi, \\pi)$ distribution. What is the PDF of $\\Theta$? What is the expected value of $\\cos(\\Theta)$?\n",
    "\n",
    "$$\\begin{align}\n",
    "    PDF &= \\begin{Bmatrix} \\frac{1}{\\pi - (-\\pi)} & -\\Theta \\le \\pi \\le \\Theta \\\\ 0 & \\text{otherwise} \\end{Bmatrix} \\\\ \\\\\n",
    "\n",
    "    E[\\cos(\\Theta)] &= \\int_{-\\pi}^{\\pi} \\cos(\\Theta) \\cdot f(\\Theta) d\\Theta \\\\\n",
    "    &= \\int_{-\\pi}^{\\pi} \\cos(\\Theta) \\cdot \\frac{1}{2\\pi} d\\Theta \\\\\n",
    "    &= \\frac{1}{2\\pi} [\\sin(\\Theta)]^{\\pi}_{-\\pi} \\\\\n",
    "    &= \\frac{1}{2\\pi} 0 \\\\\n",
    "    &= 0 \\\\\n",
    "\\end{align}$$"
   ]
  }
 ],
 "metadata": {
  "kernelspec": {
   "display_name": "kaggle",
   "language": "python",
   "name": "python3"
  },
  "language_info": {
   "codemirror_mode": {
    "name": "ipython",
    "version": 3
   },
   "file_extension": ".py",
   "mimetype": "text/x-python",
   "name": "python",
   "nbconvert_exporter": "python",
   "pygments_lexer": "ipython3",
   "version": "3.10.4"
  },
  "orig_nbformat": 4
 },
 "nbformat": 4,
 "nbformat_minor": 2
}
