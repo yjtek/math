{
 "cells": [
  {
   "attachments": {},
   "cell_type": "markdown",
   "metadata": {},
   "source": [
    "### 1. The distance (in hundreds of miles) driven by a trucker in one day is a continuous random variable X whose cumulative distribution function (c.d.f.) is given by:\n",
    "\n",
    "$$\n",
    "    F(x) = \\begin{Bmatrix} 0 & x \\lt 0 \\\\ \\frac{x^3}{216} & 0 \\le x \\le 6 \\\\ 1 & x \\gt 6 \\end{Bmatrix}\n",
    "$$"
   ]
  },
  {
   "cell_type": "markdown",
   "metadata": {},
   "source": [
    "#### a. Calculate E[X], the expected value of X"
   ]
  },
  {
   "cell_type": "markdown",
   "metadata": {},
   "source": [
    "#### b. Calculate the median of X"
   ]
  },
  {
   "cell_type": "markdown",
   "metadata": {},
   "source": [
    "#### c. Sketch a graph of the p.d.f., along with the locations of the expected value and median."
   ]
  },
  {
   "cell_type": "markdown",
   "metadata": {},
   "source": [
    "### 2. Suppose that an electronic device has a lifetime T (in hours) that follows an $\\text{Exponential}(\\lambda = \\frac{1}{1000})$ distribution"
   ]
  },
  {
   "cell_type": "markdown",
   "metadata": {},
   "source": [
    "#### a. What is E[T]?"
   ]
  },
  {
   "cell_type": "markdown",
   "metadata": {},
   "source": [
    "#### b. Suppose that the cost of manufacturing one such item is $2. The manufacturer sells the item for $5, but guarantees a total refund if the lifetime ends up being less than 900 hours. What is the manufacturer’s expected profit per item?\n"
   ]
  },
  {
   "cell_type": "markdown",
   "metadata": {},
   "source": []
  }
 ],
 "metadata": {
  "kernelspec": {
   "display_name": "leetcode",
   "language": "python",
   "name": "python3"
  },
  "language_info": {
   "codemirror_mode": {
    "name": "ipython",
    "version": 3
   },
   "file_extension": ".py",
   "mimetype": "text/x-python",
   "name": "python",
   "nbconvert_exporter": "python",
   "pygments_lexer": "ipython3",
   "version": "3.10.4"
  },
  "orig_nbformat": 4
 },
 "nbformat": 4,
 "nbformat_minor": 2
}
