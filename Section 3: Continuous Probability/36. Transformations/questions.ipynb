{
 "cells": [
  {
   "attachments": {},
   "cell_type": "markdown",
   "metadata": {},
   "source": [
    "### 1. You inflate a spherical balloon in a single breath. If the volume of air you exhale in a single breath (in cubic inches) is $\\text{Uniform}(a=36\\pi, b=288\\pi)$ random variable, what is the p.d.f. of the radius of the balloon (in inches)?"
   ]
  },
  {
   "cell_type": "markdown",
   "metadata": {},
   "source": [
    "- Let breath volume be given by V and radius be given by R\n",
    "\n",
    "- Distribution of V\n",
    "    - PDF of V: $F_V(v) = \\frac{v-a}{b-a}$\n",
    "    - CDF of V: $f_V(v) = \\frac{1}{b-a}$\n",
    "\n",
    "- Relationship between V and R\n",
    "    - $\\begin{align}\n",
    "        V &= \\frac{4}{3} \\pi R^3 \\\\ \n",
    "        \\frac{3}{4 \\pi} V &= R^3 \\\\\n",
    "        R &= \\sqrt[3]{\\frac{3}{4 \\pi} V} \\\\\n",
    "        \\end{align}$\n",
    "\n",
    "\n",
    "- Solving for range of possible R values: \n",
    "    - When $V = 36\\pi = \\frac{4}{3} \\pi r^3$ --> $r = 3$\n",
    "    - When $V = 288\\pi = \\frac{4}{3} \\pi r^3$ --> $r = 6$\n",
    "\n",
    "$$\\begin{align}\n",
    "    F_R(r) &= P(R \\le r) \\\\\n",
    "    &= P(\\sqrt[3]{\\frac{3}{4 \\pi} V} \\le r) \\\\\n",
    "    &= P(V \\le \\frac{4}{3} \\pi r^3) \\\\\n",
    "    &= \\begin{Bmatrix} \\frac{\\frac{4}{3} \\pi r^3 -a}{b-a} & 3 \\le r \\le 6 \\\\ 0 & \\text{otherwise} \\end{Bmatrix}\n",
    "\\end{align}$$\n",
    "\n",
    "$$\\begin{align}\n",
    "    f_R(r) &= F'_R(r) \\\\\n",
    "    &= \\begin{Bmatrix} \\frac{4\\pi r^2}{b-a} & 3 \\le r \\le 6 \\\\ 0 & \\text{otherwise} \\end{Bmatrix}\n",
    "\\end{align}$$"
   ]
  },
  {
   "cell_type": "markdown",
   "metadata": {},
   "source": [
    "### 2. The lifetime of a lightbulb (in hours) follows an $\\text{Exponential}(\\lambda = \\frac{1}{1200})$ distribution. Find the p.d.f. of the lifetime of the lightbulb in days (assuming the lightbulb is on 24 hours per day).\n",
    "\n"
   ]
  },
  {
   "cell_type": "markdown",
   "metadata": {},
   "source": [
    "- At $\\lambda_{\\text{hour}} = \\frac{1}{1200}$, the time in hours for a new lightbulb to arrive is 1200 hours, or 50 days\n",
    "- As such $\\lambda_{\\text{day}} = \\frac{1}{50}$\n",
    "\n",
    "- CDF of Exponential: \n",
    "    - $$\\begin{align}\n",
    "        P(T \\le t) &= 1 - P(T \\ge t) \\\\\n",
    "        &= 1 - P(X_t = 0) \\\\\n",
    "        &= 1 - e^{\\lambda t} \\\\\n",
    "        \\end{align}$$\n",
    "\n",
    "- PDF of exponential:\n",
    "    - $$\\begin{align}\n",
    "        f'_T(t) = \\lambda e^{\\lambda t} = \\frac{1}{50} e^{\\frac{t}{50}}\n",
    "        \\end{align}$$"
   ]
  },
  {
   "cell_type": "markdown",
   "metadata": {},
   "source": [
    "### 3. A lighthouse on a shore is shining light toward the ocean at a random angle U (measured in radians), where $U$ follows a $\\text{Uniform}(a=-\\frac{\\pi}{2}, b = \\frac{\\pi}{2})$ distribution. Consider a line which is parallel to the shore and 1 mile away from the shore, as illustrated below. An angle of 0 would mean the ray of light is perpendicular to the shore, while an angle of $\\frac{\\pi}{2}$ would mean the ray is along the shore, shining to the right from the perspective of the figure.\n",
    "\n",
    "### Let X be the point that the light hits on the line, where the line’s origin is the point on the line that is closest to the lighthouse. Find the p.d.f. of X. (Hint: Use trigonometry to write X as a function of U.)"
   ]
  },
  {
   "cell_type": "markdown",
   "metadata": {},
   "source": [
    "- Whatever the value of angle $U$, there is a triangle formed between the light beam, the horizontal line between the lighthouse and the origin at the opposite, and the distance $X$\n",
    "- Let the length of the light beam be $H$\n",
    "    - $\\frac{1}{H} = \\cos(U) \\rightarrow H = \\frac{1}{\\cos(U)}$\n",
    "\n",
    "- $\\sin(U) = \\frac{X}{H} = \\frac{X}{\\frac{1}{\\cos(U)}} = X \\cos(U) \\\\ \\\\ X = \\frac{\\sin(U)}{\\cos(U)} = \\tan(U)$\n",
    "\n",
    "- CDF of U\n",
    "    - $F_U(u) = \\frac{u + \\frac{\\pi}{2}}{\\frac{\\pi}{2} + \\frac{\\pi}{2}}$\n",
    "    \n",
    "- $$\\begin{align}\n",
    "    F_X(x) &= P(X \\le x) \\\\\n",
    "    &= P(\\tan(U) \\le x) \\\\\n",
    "    &= P(U \\le \\arctan{x}) \\\\\n",
    "    &= \\frac{\\arctan{x} + \\frac{\\pi}{2}}{\\frac{\\pi}{2} + \\frac{\\pi}{2}}\n",
    "    \\end{align}$$\n",
    "\n",
    "- $$\\begin{align}\n",
    "    f_X(x) &= F'_X(x) \\\\\n",
    "    &= \\frac{\\partial}{\\partial x} \\frac{\\arctan{x} + \\frac{\\pi}{2}}{\\frac{\\pi}{2} + \\frac{\\pi}{2}} \\\\\n",
    "    &= \\frac{\\partial}{\\partial x} \\frac{1}{\\pi} \\arctan x \\\\\n",
    "    &= \\frac{\\pi}{1 + x^2}\n",
    "    \n",
    "    \\end{align}$$"
   ]
  },
  {
   "cell_type": "markdown",
   "metadata": {},
   "source": [
    "### 4. The radius of a circle (in inches) is chosen from an $\\text{Exponential}(\\lambda = 1.5)$ distribution. Find the p.d.f. of the area of the circle."
   ]
  },
  {
   "cell_type": "markdown",
   "metadata": {},
   "source": [
    "- Radius $R$ follows an exponential distribution with $\\lambda = 1.5$\n",
    "- Area $A = \\pi R^2$\n",
    "\n",
    "- CDF of R\n",
    "    - $\\begin{align}\n",
    "        F_R(r) &= P(R \\le r) \\\\\n",
    "        &= 1 - e^{-\\lambda r} \\\\\n",
    "        &= 1 - e^{-1.5 r}\n",
    "        \\end{align}$\n",
    "\n",
    "- CDF of A\n",
    "    - $\\begin{align}\n",
    "        F_A(a) &= P(A \\le a) \\\\\n",
    "        &= P(\\pi R^2 \\le a) \\\\\n",
    "        &= P(R \\le \\sqrt{\\frac{a}{\\pi}}) \\\\\n",
    "        &= 1 - e^{-1.5 \\sqrt{\\frac{a}{\\pi}}}\n",
    "        \\end{align}$\n",
    "\n",
    "- PDF of A\n",
    "    - $\\begin{align}\n",
    "        f_A(a) &= F'_A(a) \\\\\n",
    "        &= 1.5 * e^{-1.5 \\sqrt{\\frac{a}{\\pi}}}\n",
    "    \\end{align}$"
   ]
  }
 ],
 "metadata": {
  "kernelspec": {
   "display_name": "leetcode",
   "language": "python",
   "name": "python3"
  },
  "language_info": {
   "codemirror_mode": {
    "name": "ipython",
    "version": 3
   },
   "file_extension": ".py",
   "mimetype": "text/x-python",
   "name": "python",
   "nbconvert_exporter": "python",
   "pygments_lexer": "ipython3",
   "version": "3.10.4"
  },
  "orig_nbformat": 4
 },
 "nbformat": 4,
 "nbformat_minor": 2
}
