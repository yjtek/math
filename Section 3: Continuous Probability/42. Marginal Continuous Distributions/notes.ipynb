{
 "cells": [
  {
   "attachments": {},
   "cell_type": "markdown",
   "metadata": {},
   "source": [
    "## Motivating Example"
   ]
  },
  {
   "cell_type": "markdown",
   "metadata": {},
   "source": [
    "- Recall from section 40 that there is no closed form solution to the integral below, this expression can only be evaluated numerically\n",
    "$$\n",
    "    \\int c \\cdot e^{-\\frac{z^2}{2}} dz\n",
    "$$\n",
    "\n",
    "- But we also know from section 40 that a standard Gaussian distribution follows the form\n",
    "\n",
    "$$\n",
    "    \\int_{-\\inf}^{\\inf} \\frac{1}{\\sqrt{2\\pi}} e^{-0.5 \\cdot (\\frac{x-\\mu}{\\sigma})^2} = 1\n",
    "$$\n",
    "\n",
    "- How can be be sure that $c = \\frac{1}{\\sqrt{2\\pi}}$ for the integral to be 1? Even if we evaluate it numerically, we can only get a float value, not a precise fraction!\n",
    "\n",
    "- Turns out, the value for $c$ pops out once you look at the joint distribution!"
   ]
  },
  {
   "cell_type": "code",
   "execution_count": 6,
   "metadata": {},
   "outputs": [],
   "source": [
    "import numpy as np\n",
    "import pandas as pd\n",
    "import matplotlib.pyplot as plt\n",
    "import seaborn as sns"
   ]
  },
  {
   "attachments": {},
   "cell_type": "markdown",
   "metadata": {},
   "source": [
    "## Theory"
   ]
  },
  {
   "cell_type": "markdown",
   "metadata": {},
   "source": [
    "- Let's start with the definition of the marginal distribution\n",
    "\n",
    "- **Definition 42.1 (Marginal Distribution )**: Suppose we have the joint PDF $f(x,y)$ of 2 continuous variables X and Y. The marginal PDF of X is simply the PDF of X. \n",
    "- If all you have is the joint distribution of X and Y f(x,y), then the marginal PDF of X is simply the integration of the joint distribution across all values of Y\n",
    "- I find it easiest to imagine this as a joint plot below. The marginal PDF of X is simply the histogram at the top, and the marginal PDF of Y is simply the histogram at the side\n",
    "- If you are still struggling with this, look at example in section 19. The marginal PDF of X is simply the sum of the probabilities of all discrete X outcomes across all values of Y\n",
    "- Mathematically:\n",
    "$$ f_X(x) = f(x) = \\int_{y=-\\inf}^{\\inf} f(x,y) dy\n"
   ]
  },
  {
   "cell_type": "code",
   "execution_count": 15,
   "metadata": {},
   "outputs": [
    {
     "data": {
      "text/plain": [
       "<seaborn.axisgrid.JointGrid at 0x143d8e590>"
      ]
     },
     "execution_count": 15,
     "metadata": {},
     "output_type": "execute_result"
    },
    {
     "data": {
      "image/png": "[encoded data removed]",
      "text/plain": [
       "<Figure size 600x600 with 3 Axes>"
      ]
     },
     "metadata": {},
     "output_type": "display_data"
    }
   ],
   "source": [
    "xvals=np.random.normal(0,1, size=100)\n",
    "yvals=np.random.normal(0,1, size=100)\n",
    "data=pd.DataFrame({'x': xvals, 'y': yvals})\n",
    "\n",
    "sns.jointplot(data, x='x', y='y')"
   ]
  },
  {
   "cell_type": "markdown",
   "metadata": {},
   "source": [
    "- **Theorem 42.1 (Joint distribution of Independent random variables)**: Let's start from the definition of a joint distribution. We know that joint distribution $f(x,y) = P(X = x) \\cdot P(Y = y | X = x)$. However, if X and Y are independent, $P(Y = y | X = x) = P(Y = y)$. This gives us the result below\n",
    "$$ f(x,y) = P(X=y) \\cdot P(y=y) = f_X(x) \\cdot f_Y(y) $$\n",
    "\n",
    "- This is usually used to construct the joint PDF, then you just apply the usual integration approach to find the probabilities"
   ]
  },
  {
   "cell_type": "markdown",
   "metadata": {},
   "source": [
    "#### Example 42.1 (Symmetry of Continuous Random Variables)"
   ]
  },
  {
   "cell_type": "markdown",
   "metadata": {},
   "source": [
    "- The lifetimes of two lightbulbs, X and Y, are independent $\\text{Exponential}(\\lambda)$ random variables. What is the probability the second lightbulb lasts longer than the first, $P(Y \\gt X)$?\n",
    "\n",
    "$$\\begin{align}\n",
    "    \\text{Let joint PDF be} \\\\\n",
    "    f(x,y) &= \\lambda e^{-\\lambda x} \\cdot \\lambda e^{-\\lambda y} \\\\\n",
    "    &= \\lambda^2 e^{-\\lambda (x+y)} \\\\ \\\\\n",
    "\n",
    "    \\text{To find P(Y > X)} \\\\\n",
    "    \\int_{x=0}^{\\inf} \\int_{y=x}^{\\inf} \\lambda^2 e^{-\\lambda (x+y)} dy dx &= \\int_{x=0}^{\\inf} [-\\frac{1}{\\lambda} \\cdot \\lambda^2 e^{-\\lambda(x+y)}]^{\\inf}_{x} dx \\\\\n",
    "    &= \\int_{x=0}^{\\inf} \\lambda e^{-2 \\lambda x} dx \\\\\n",
    "    &= [-\\frac{1}{2 \\lambda} \\lambda e^{-2 \\lambda x}]^{\\inf}_{0} \\\\\n",
    "    &= [-\\frac{1}{2} e^{-2 \\lambda x}]^{\\inf}_{0} \\\\\n",
    "    &= 0.5\n",
    "\\end{align}$$\n",
    "\n",
    "- Basically, there is an equal chance of the X < Y and Y > X. Which is intuitive, since these are identical bulbs. In fact, this argument is true for all joint PDFs of IID variables!"
   ]
  },
  {
   "cell_type": "markdown",
   "metadata": {},
   "source": [
    "#### Example 42.2 (Gaussian Integral)"
   ]
  },
  {
   "cell_type": "markdown",
   "metadata": {},
   "source": [
    "- Recall that the PDF of standard normal variable $Z$ is $f(Z) = c \\cdot e^{-\\frac{z^2}{2}}$\n",
    "- For this to be a proper PDF, we need $f(Z) = 1$\n",
    "\n",
    "- Let's imagine we have X and Y that are both independent standard normal. The volume of the joint PDF $f(X,Y) = 1$ by definition\n",
    "\n",
    "$$\\begin{align}\n",
    "    1 &= \\int_{x=-\\inf}^{\\inf} \\int_{y=-\\inf}^{\\inf} c e^{-\\frac{x^2}{2}} \\cdot c e^{-\\frac{y^2}{2}} dy dx\\\\\n",
    "    &= \\int_{x=-\\inf}^{\\inf} \\int_{y=-\\inf}^{\\inf} c^2 e^{-\\frac{x^2 + y^2}{2}} dy dx & \\text{Converting to polar coordinates...} \\\\\n",
    "    &= \\int_{0}^{2\\pi} \\int_{0}^{\\inf} c^2 e^{-U} r dr d\\Theta & \\text{Let } U = \\frac{r^2}{2}, \\frac{dU}{dr} = r \\rightarrow r dr = dU\\\\\n",
    "    &= c^2 \\int_{0}^{2\\pi} \\int_{0}^{\\inf} e^{-U} dU d\\Theta \\\\\n",
    "    &= c^2 \\int_{0}^{2\\pi} [- e^{-U}]^{\\inf}_0 d\\Theta \\\\\n",
    "    &= c^2 \\int_{0}^{2\\pi} 1 d\\Theta \\\\\n",
    "    &= c^2 [\\Theta]^{2\\pi}_0 \\\\\n",
    "    &= c^2 2\\pi \\\\ \\\\\n",
    "\n",
    "    \\text{Simplifying...} \\\\\n",
    "    c^2 2\\pi &= 1 \\\\\n",
    "    c^2 &= \\frac{1}{2\\pi} \\\\\n",
    "    c &= \\frac{1}{\\sqrt{2\\pi}}\n",
    "\\end{align}$$"
   ]
  }
 ],
 "metadata": {
  "kernelspec": {
   "display_name": "kaggle",
   "language": "python",
   "name": "python3"
  },
  "language_info": {
   "codemirror_mode": {
    "name": "ipython",
    "version": 3
   },
   "file_extension": ".py",
   "mimetype": "text/x-python",
   "name": "python",
   "nbconvert_exporter": "python",
   "pygments_lexer": "ipython3",
   "version": "3.10.4"
  },
  "orig_nbformat": 4
 },
 "nbformat": 4,
 "nbformat_minor": 2
}
