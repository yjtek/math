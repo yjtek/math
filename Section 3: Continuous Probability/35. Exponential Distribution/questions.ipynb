{
 "cells": [
  {
   "attachments": {},
   "cell_type": "markdown",
   "metadata": {},
   "source": [
    "### 1. Let X denote the distance (in meters) that an animal moves from its birth site to the first territorial vacancy it encounters. Suppose that for banner-tailed kangaroo rats, X has an exponential distribution with parameter $\\lambda = 0.01386$ (as suggested in the article “Competition and Dispersal from Multiple Nests,” Ecology, 1997: 873–883)."
   ]
  },
  {
   "cell_type": "markdown",
   "metadata": {},
   "source": [
    "#### a. What is the probability that the distance is more than 100 m?"
   ]
  },
  {
   "cell_type": "markdown",
   "metadata": {},
   "source": [
    "- $X \\sim \\text{Exponential}(0.01386)$\n",
    "- Using the logic in the notes from Example 35.1, $\\lambda = 0.01386$ means that the expected count of Poisson \"arrivals\" of territorial vacancy is $\\frac{1}{0.01386} = 72.15$ \n",
    "\n",
    "$$\\begin{align}\n",
    "    P(X > 100) &= 1 - P(X \\le 100) \\\\\n",
    "    &= 1 - F(100) \\\\\n",
    "    &= 1 - (1 - e^{-\\lambda x}) \\\\\n",
    "    &= e^{-0.01386 * 100} \\\\\n",
    "    &= 0.25\n",
    "\\end{align}$$"
   ]
  },
  {
   "cell_type": "markdown",
   "metadata": {},
   "source": [
    "#### b. This probability is higher than it was in 1950, due to environmental changes. Suppose that in 1950, only 12% of banner-tailed kangaroo rats moved more than 100 m from their birth site. What was the value of $\\lambda$ then?"
   ]
  },
  {
   "cell_type": "markdown",
   "metadata": {},
   "source": [
    "$$\\begin{align}\n",
    "    P(X > 100) &= 1 - P(X \\le 100) \\\\\n",
    "    &= 1 - F(100) \\\\\n",
    "    &= 1 - (1 - e^{-\\lambda_{1950} x}) \\\\\n",
    "    &= e^{-\\lambda_{1950} * 100} \\\\\n",
    "    &= 0.12 \\\\\n",
    "\n",
    "    \\therefore \\text{Solving for } \\lambda \\\\\n",
    "    e^{-\\lambda_{1950} * 100} &= 0.12 \\\\\n",
    "    -\\lambda_{1950} * 100 &= ln(0.12) \\\\\n",
    "    \\lambda_{1950} &= -ln(0.12) / 100 \\\\\n",
    "    &= 0.0212\n",
    "\n",
    "\\end{align}$$"
   ]
  },
  {
   "cell_type": "markdown",
   "metadata": {},
   "source": [
    "### 2. Small aircraft arrive at San Luis Obispo airport according to a Poisson process at a rate of 6 per hour."
   ]
  },
  {
   "cell_type": "markdown",
   "metadata": {},
   "source": [
    "- Let $X_t$ be the count of planes within some time period $t$\n",
    "- Let $T_i$ be the time taken for the (i + 1)-th plane to arrive after the i-th plane\n"
   ]
  },
  {
   "cell_type": "markdown",
   "metadata": {},
   "source": [
    "#### a. What is the probability that more than 15 minutes elapse before the first plane lands?"
   ]
  },
  {
   "cell_type": "markdown",
   "metadata": {},
   "source": [
    "$$\\begin{align}\n",
    "    P(T > 15) &= P(X_{15} = 0) \\\\\n",
    "    &= e^{-\\lambda (15/60)} \\frac{((\\lambda (15/60)))^{0}}{0!} \\\\\n",
    "    &= e^{-6 * (15/60)} \\\\\n",
    "    &= 0.223\n",
    "\\end{align}$$"
   ]
  },
  {
   "cell_type": "markdown",
   "metadata": {},
   "source": [
    "#### b. What is the probability that more than 15 minutes elapse between when the first and second planes land?"
   ]
  },
  {
   "cell_type": "markdown",
   "metadata": {},
   "source": [
    "- By memoriless, 0.223 also"
   ]
  },
  {
   "cell_type": "markdown",
   "metadata": {},
   "source": [
    "#### c. What is the probability that it takes more than 15 minutes elapse before the first plane lands and more than 15 minutes elapse between when the first and second planes land?"
   ]
  },
  {
   "cell_type": "markdown",
   "metadata": {},
   "source": [
    "$$\\begin{align}\n",
    "    P(T_1 \\ge 15 \\text{ AND } T_2 \\ge 15) &= P(T_1 \\ge 15) * P(T_2 \\ge 15) \\\\\n",
    "    &= 0.223 ^ 2 \\\\\n",
    "    &= 0.0497\n",
    "\\end{align}$$"
   ]
  },
  {
   "cell_type": "markdown",
   "metadata": {},
   "source": [
    "#### d. What is the probability that more than 30 minutes elapse before two planes have landed? Why is the answer different than your answer to part c? (Hint: You can calculate this using properties of a Poisson process. Rewrite the event in terms of the number of planes that land in the interval (0, 30)"
   ]
  },
  {
   "cell_type": "markdown",
   "metadata": {},
   "source": [
    "$$\\begin{align}\n",
    "    P(T_1 + T_2 \\ge 30) &= P(X_{30} \\lt 2) \\\\\n",
    "    &= e^{-\\lambda * 0.5} \\frac{(\\lambda * 0.5)^{1}}{1!} + e^{-\\lambda * 0.5} \\frac{(\\lambda * 0.5)^{0}}{0!} & \\text{0.5 because the Poisson is given in hourly terms} \\\\\n",
    "    &= e^{-3} * 3 + e^{-3} \\\\\n",
    "    &= 0.199\n",
    "\\end{align}$$\n",
    "\n",
    "- All combinations of T1 and T2 above the line below meet the criteria that T1 + T2 >= 30\n",
    "- But condition that T1 and T2 >= 15 only covers the red square"
   ]
  },
  {
   "cell_type": "code",
   "execution_count": 17,
   "metadata": {},
   "outputs": [
    {
     "data": {
      "text/plain": [
       "(-2.0, 40.0)"
      ]
     },
     "execution_count": 17,
     "metadata": {},
     "output_type": "execute_result"
    },
    {
     "data": {
      "image/png": "[encoded data removed]",
      "text/plain": [
       "<Figure size 640x480 with 1 Axes>"
      ]
     },
     "metadata": {},
     "output_type": "display_data"
    }
   ],
   "source": [
    "import numpy as np\n",
    "import matplotlib\n",
    "import matplotlib.pyplot as plt\n",
    "import matplotlib.patches as patches\n",
    "base = np.arange(0, 30, 0.1)\n",
    "line = 30 - base\n",
    "\n",
    "# plt.plot(base, line)\n",
    "# matplotlib.patches.Rectangle([15,15], 100, 100)\n",
    "fig, ax = plt.subplots()\n",
    "ax.plot(base, line)\n",
    "\n",
    "rectangle = patches.Rectangle((15, 15), 100, 100, color='red', alpha=0.2)\n",
    "ax.add_patch(rectangle)\n",
    "\n",
    "ax.set_xlim(-2,40)\n",
    "ax.set_ylim(-2,40)"
   ]
  },
  {
   "cell_type": "markdown",
   "metadata": {},
   "source": [
    "### 3. A post office has 2 clerks. Alice enters the post office while 2 other customers, Bob and Claire, are being served by the 2 clerks. She is next in line. Assume that the time a clerk spends serving a customer (in minutes) follows an $\\text{Exponential}(\\lambda = 0.2)$ distribution. What is the probability that Alice is the last of the 3 customers to be done being served? (Hint: This can be answered without any calculations, by thinking about the memoryless property.)"
   ]
  },
  {
   "cell_type": "markdown",
   "metadata": {},
   "source": [
    "- Exponential distribution is memoriless. \n",
    "- WHen Alice starts getting served, either Bob or Claire must have completed, and the other must have been there for some time.\n",
    "- But by memoriless property, the odds that Alice finishes after Bob/Claire is simply equal.\n",
    "- One of Bob or Claire must be done by the time alice comes up to the counter, and they each have a 50% chance of being the last customer"
   ]
  }
 ],
 "metadata": {
  "kernelspec": {
   "display_name": "leetcode",
   "language": "python",
   "name": "python3"
  },
  "language_info": {
   "codemirror_mode": {
    "name": "ipython",
    "version": 3
   },
   "file_extension": ".py",
   "mimetype": "text/x-python",
   "name": "python",
   "nbconvert_exporter": "python",
   "pygments_lexer": "ipython3",
   "version": "3.10.4"
  },
  "orig_nbformat": 4
 },
 "nbformat": 4,
 "nbformat_minor": 2
}
