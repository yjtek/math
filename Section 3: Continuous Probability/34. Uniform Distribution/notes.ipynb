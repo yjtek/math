{
 "cells": [
  {
   "attachments": {},
   "cell_type": "markdown",
   "metadata": {},
   "source": [
    "## Motivating Example"
   ]
  },
  {
   "cell_type": "markdown",
   "metadata": {},
   "source": [
    "- How do we model a random variable that is equally likely to take on any real number between a and b?"
   ]
  },
  {
   "attachments": {},
   "cell_type": "markdown",
   "metadata": {},
   "source": [
    "## Theory"
   ]
  },
  {
   "cell_type": "markdown",
   "metadata": {},
   "source": [
    "- **Definition 34.1 (Uniform distribution)**: A random variable X follows a uniform distribution $\\text{Uniform}(a,b)$ if its PDF and CDF are:\n",
    "\n",
    "$$\\begin{align}\n",
    "    \\text{PDF} = f(x) &= \\begin{Bmatrix} \\frac{1}{b-a} & a \\le x \\le b \\\\ 0 & \\text{otherwise} \\end{Bmatrix} \\\\\n",
    "    \\text{CDF} = F(x) &= \\begin{Bmatrix} 0 & x \\lt a \\\\ \\frac{x-a}{b-a} & a \\le x \\le b \\\\ 1 & x \\gt b \\end{Bmatrix} \n",
    "\\end{align}$$"
   ]
  },
  {
   "cell_type": "markdown",
   "metadata": {},
   "source": [
    "- The intuition behind this is quite simple. \n",
    "    - Integrating the PDF between a and b must give you 1.\n",
    "    - The PDF is always a rectangle for uniform distribution\n",
    "    - For this to happen, the height of the line (probability density) must always be the inverse of the base \n",
    "\n"
   ]
  },
  {
   "cell_type": "markdown",
   "metadata": {},
   "source": [
    "#### Example 34.1"
   ]
  },
  {
   "cell_type": "markdown",
   "metadata": {},
   "source": [
    "##### You buy fencing for a square enclosure. The length of fencing that you buy is uniformly distributed between 0 and 4 meters. What is the probability that the enclosed area will be larger than 0.5 square meters?"
   ]
  },
  {
   "cell_type": "markdown",
   "metadata": {},
   "source": [
    "- Let X represent the length of fencing that you buy, and Y represent the area enclosed by that fence\n",
    "- Let's rewrite Y in terms of X\n",
    "    - $Y = (\\frac{X}{4})^2 = \\frac{X^2}{16}$\n",
    "- Therefore\n",
    "    - $\\begin{align}\n",
    "        P(Y \\ge 0.5) &= P(\\frac{X^2}{16} \\ge 0.5) \\\\\n",
    "        &= P(X^2 \\ge 8) \\\\\n",
    "        &= P(X \\ge \\sqrt{8}) \\\\\n",
    "        &= 1 - P(X \\lt \\sqrt{8}) \\\\\n",
    "        &= 1 - \\frac{\\sqrt{8} - 0}{4} \\\\\n",
    "        &= 0.293\n",
    "        \\end{align}$"
   ]
  }
 ],
 "metadata": {
  "kernelspec": {
   "display_name": "Python 3",
   "language": "python",
   "name": "python3"
  },
  "language_info": {
   "codemirror_mode": {
    "name": "ipython",
    "version": 3
   },
   "file_extension": ".py",
   "mimetype": "text/x-python",
   "name": "python",
   "nbconvert_exporter": "python",
   "pygments_lexer": "ipython3",
   "version": "3.10.4"
  },
  "orig_nbformat": 4
 },
 "nbformat": 4,
 "nbformat_minor": 2
}
