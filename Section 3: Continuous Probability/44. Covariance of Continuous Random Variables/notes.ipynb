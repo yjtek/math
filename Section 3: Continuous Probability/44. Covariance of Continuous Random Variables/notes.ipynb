{
 "cells": [
  {
   "attachments": {},
   "cell_type": "markdown",
   "metadata": {},
   "source": [
    "## Theory"
   ]
  },
  {
   "cell_type": "markdown",
   "metadata": {},
   "source": [
    "- Just like discrete random variables, continuous random variables also have covariances. And similar to section 44, though we rewrite these in terms of integrals rather than summations, the underlying logic is exactly the same"
   ]
  },
  {
   "cell_type": "markdown",
   "metadata": {},
   "source": [
    "#### Section 44.1 (Covariance)"
   ]
  },
  {
   "cell_type": "markdown",
   "metadata": {},
   "source": [
    "- **Definition 44.1**: If X and Y are random variables, the covariance of X and Y, symbolized by $Cov[X,Y]$ is defined as $$Cov[X,Y] = E[(X - E[X])(Y - E[Y])]$$"
   ]
  },
  {
   "cell_type": "markdown",
   "metadata": {},
   "source": [
    "- **Theorem 44.1**: The covariance is also defined as $$Cov[X,Y] = E[XY] - E[X]E[Y]$$\n",
    "    - Proof:\n",
    "    - $$\\begin{align}\n",
    "        Cov[X,Y] &= E[(X-E[X])(Y - E[Y])] \\\\\n",
    "        &= E[XY - XE[Y] - YE[X] + E[X]E[Y]] \\\\\n",
    "        &= E[XY] - E[X]E[Y] - E[Y]E[X] + E[X]E[Y] \\\\\n",
    "        &= E[XY] - E[X]E[Y] \n",
    "        \\end{align}$$"
   ]
  },
  {
   "cell_type": "markdown",
   "metadata": {},
   "source": [
    "- **Example 44.1 (Covariance Between the First and Second Arrival Times)**: In Example 41.1, we saw that the joint distribution of the first arrival time X and the second arrival time Y in a Poisson process of rate $\\lambda = 0.8$ is $$ f(x,y) = \\begin{Bmatrix} 0.64 e^{-0.8y} & 0 \\lt x \\lt y \\\\ 0 & \\text{otherwise} \\end{Bmatrix}$$ What is the covariance between X and Y?\n",
    "    - **Note:** This is going to be a big pain to derive, but we'll just do it for practise\n",
    "    - Intuitively, it is quite clear that and later X appears, the later Y appears. Obviously, the second arrival cannot arrive before the first by definition. So we should expect covariance to be positive\n",
    "\n",
    "    - First, we make use of the relationship $Cov[X,Y] = E[XY] - E[X]E[Y]$\n",
    "    - $E[X] = \\frac{1}{\\lambda}$\n",
    "        - because X follows an exponential distribution with $\\lambda = 0.8$\n",
    "    - $E[Y] = \\frac{1}{\\lambda} + \\frac{1}{\\lambda} = \\frac{2}{\\lambda}$\n",
    "        - We know that Y is the sum of 2 exponential distributions (because Y is time for arrival 1 + time for arrival 2). \n",
    "        - Each arrival is independent by Poisson assumption. \n",
    "        - So $E[Y] = E[X_1] + E[X_2] = 2 \\cdot E[X_1] = 2 \\cdot \\frac{1}{\\lambda}$\n",
    "    - $E[XY] = 4.6875$\n",
    "        - $$\\begin{align}\n",
    "            E[XY] &= \\int_{y=0}^{\\inf} \\int_{x=0}^{y} xy \\cdot f(x,y) dx dy \\\\ \n",
    "            &= \\int_{y=0}^{\\inf} y f(x,y) \\int_{x=0}^{y} x dx dy \\\\ \n",
    "            &= \\int_{y=0}^{\\inf} y f(x,y) \\frac{y^2}{2} dy \\\\ \n",
    "            &= \\int_{y=0}^{\\inf} \\frac{y^3}{2} \\cdot 0.64 e^{-0.8y} dy \\\\ \n",
    "            &= \\int_{y=0}^{\\inf} y^3 \\cdot 0.32 e^{-0.8y} dy & u = y^3, du = 3y^2, dv = 0.32 e^{-0.8y}, v = -0.4 e^{-0.8y} \\\\ \n",
    "            &= -y^3 \\cdot 0.4 e^{-0.8y} + \\int_{y=0}^{\\inf} y^2 \\cdot 1.2 e^{-0.8y} dy & u = y^2, du = 2y, dv = 1.2 e^{-0.8y}, v = -1.5 e^{-0.8y} \\\\ \n",
    "            &= -y^3 \\cdot 0.4 e^{-0.8y} - y^2 \\cdot 1.5 e^{-0.8y} + \\int_{y=0}^{\\inf} y \\cdot 3 e^{0.8y} dy & u = y, du = 1, dv = 3 e^{-0.8y}, v = -3.75 e^{-0.8y} \\\\ \n",
    "            &= -y^3 \\cdot 0.4 e^{-0.8y} - y^2 \\cdot 1.5 e^{-0.8y} - y \\cdot 3 e^{-0.8y} + \\int_{y=0}^{\\inf} 3.75 e^{-0.8y} dy \\\\ \n",
    "            &= [-y^3 \\cdot 0.4 e^{-0.8y} - y^2 \\cdot 1.5 e^{-0.8y} - y \\cdot 3 e^{-0.8y} - 4.6875 e^{0.8y}]^{\\inf}_{0} \\\\ \n",
    "            &= (-0-0-0-0) - (-0-0-0-4.6875) \\\\\n",
    "            &= 4.6875 \\\\\n",
    "            \\end{align}$$\n",
    "    - $E[XY] - E[X]E[Y] = 4.6875 - \\frac{2}{0.8^2} = 1.5625$\n",
    "    "
   ]
  },
  {
   "cell_type": "markdown",
   "metadata": {},
   "source": [
    "#### Section 44.2 (Covariance properties)"
   ]
  },
  {
   "cell_type": "markdown",
   "metadata": {},
   "source": [
    "- Let $X, Y, Z$ be random variables, and let $c$ be a constant\n",
    "\n",
    "- Properties\n",
    "    - $Var[X] = Cov[X,X]$ \n",
    "        - $$\\begin{align}\n",
    "            \\text{Proof:} \\\\\n",
    "            Cov[X,X] &= E[(X-E[X])(X-E[X])] \\\\\n",
    "            &= E[X^2 - XE[X] - XE[X] + E[X]^2] \\\\\n",
    "            &= E[X^2] - E[X]E[X] - E[X]E[X] + E[X]^2 \\\\\n",
    "            &= E[X^2] - E[X]^2 \\\\\n",
    "            &= Var[X]\n",
    "            \\end{align}$$\n",
    "    - $Cov[cX, Y] = c \\cdot Cov[X,Y] \\\\ Cov[X, cY] = c \\cdot Cov[X,Y]$\n",
    "        - $$\\begin{align}\n",
    "            \\text{Proof:} \\\\\n",
    "            Cov[cX, Y] &= E[(cX - E[cX])(Y - E[Y])] \\\\\n",
    "            &= E[cXY - cXE[Y] - E[cX]Y + E[cX]E[Y]] \\\\\n",
    "            &= cE[XY] - cE[X]E[Y] - cE[X]E[Y] + cE[X]E[Y] \\\\\n",
    "            &= cE[XY] - cE[X]E[Y] \\\\\n",
    "            &= c \\cdot (E[XY] - E[X]E[Y]) \\\\\n",
    "            &= c \\cdot Cov[X,Y]\n",
    "            \\end{align}$$\n",
    "    - $Cov[X+Y, Z] = Cov[X,Z] + Cov[Y,Z] \\\\ Cov[X, Y+Z] = Cov[X,Y] + Cov[X,Z]$\n",
    "        - $$\\begin{align}\n",
    "            \\text{Proof:} \\\\\n",
    "            Cov[X+Y,Z] &= E[(X+Y - E[X+Y])(Z - E[Z])] \\\\\n",
    "            &= E[XZ + YZ - (X+Y)E[Z] - E[X+Y]Z + E[X+Y]E[Z]] \\\\\n",
    "            &= E[XZ + YZ - E[Z]X - E[Z]Y - E[X+Y]Z + E[X+Y]E[Z]] & \\text{by linearity of expectations} \\\\\n",
    "            &= E[XZ + YZ - E[Z]X - E[Z]Y - E[X]Z - E[Y]Z + E[X]E[Z] + E[Y]E[Z]] \\\\\n",
    "            &= E[XZ] + E[YZ] - E[Z]E[X] - E[Z][Y] - E[X][Z] - E[Y][Z] + E[X]E[Z] + E[Y]E[Z] \\\\\n",
    "            &= (E[XZ] - E[X]E[Z]) + (E[YZ] - E[Y]E[Z]) \\\\\n",
    "            &= Cov(X,Z) + Cov(Y,Z)\n",
    "            \\end{align}$$\n",
    "    - $Cov[X,Y] = Cov[Y,X]$\n",
    "        - $$\\begin{align}\n",
    "            \\text{Proof:} \\\\\n",
    "            Cov[X,Y] &= E[(X-E[X])(Y-E[Y])] \\\\\n",
    "            &= E[(Y-E[Y])(X-E[X])] \\\\\n",
    "            &= Cov[Y,X]\n",
    "            \\end{align}$$\n",
    "    - $Cov[X,c] = 0$\n",
    "        - $$\\begin{align}\n",
    "            \\text{Proof:} \\\\\n",
    "            Cov[X,c] &= E[(X-E[X])(c-E[c])] \\\\\n",
    "            &= E[(X-E[X]) \\cdot 0] \\\\\n",
    "            &= 0\n",
    "            \\end{align}$$\n",
    "    "
   ]
  },
  {
   "cell_type": "markdown",
   "metadata": {},
   "source": [
    "- **Example 44.2**: We solved example 44.1 using integration by parts 4 times. That is a truly terrible way of solving it. We can make it easier to solve by applying the rules here:\n",
    "    - To recap, we want to find $Cov[X,Y]$. The difficulty here is that $X$ and $Y$ are not independent. So trying to compute covariance is tricky. Let's rewrite the problem in another way. \n",
    "    - We know that $Y$ comprises 2 arrivals, and since arrivals are from the same Poisson distribution, they are identical and independent. \n",
    "    - Hence, $Cov[X,Y] = Cov[X, X+A]$, where $A$ is the time between the arrival of the first and the second particle\n",
    "    - $$\\begin{align}\n",
    "        Cov[X, X+A] &= Cov[X,X] + Cov[X,A] \\\\\n",
    "        &= Cov[X,X] & \\text{by independence, } Cov[X,A] = 0 \\\\\n",
    "        &= \\frac{1}{0.8}^2 \\\\\n",
    "        &= 1.5625\n",
    "        \\end{align}$$"
   ]
  },
  {
   "cell_type": "markdown",
   "metadata": {},
   "source": [
    "- **Example 44.3 (Standard deviation of arrival times)**: In example 43.3, we saw that the expecteed value of the $r$-th arrival time in a Poisson process of rate $\\lambda =0.8$ is $\\frac{r}{0.8}$. What is the standard deviation of the $r$-th arrival time?\n",
    "    - Let the arrival time of the r-th arrival by $T_r$\n",
    "    - We know that the arrival time of the r-th arrival is the sum of time between all arrivals, all of which are independent and identical \n",
    "        - $$T_r = t_1 + t_2 + ... + t_r$$\n",
    "    - Hence, the expectation of $T_r$ is\n",
    "        - $$E[T_r] = E[t_1] + E[t_2] + ... + E[t_r] = \\frac{1}{\\lambda} + \\frac{1}{\\lambda} + ... \\frac{1}{\\lambda} = \\frac{r}{\\lambda}$$\n",
    "    - By definition\n",
    "        - $$\\begin{align}\n",
    "            Var[T_r] &= Cov[T_r, T_r] \\\\\n",
    "            &= Cov[t_1 + t_2 + ... t_r, t_1 + t_2 + ... t_r] \\\\\n",
    "            &= \\sum_{i=j} Cov[t_i, t_j] + \\sum_{{i \\neq j}} Cov[t_i, t_j] \\\\\n",
    "            &= \\sum_{i=j} Cov[t_i, t_j] & \\text{by independence } \\sum_{{i \\neq j}} Cov[t_i, t_j] = 0 \\\\\n",
    "            &= \\sum_{i=j} Var[t_i] \\\\\n",
    "            &= r \\cdot Var[t_i] \\\\\n",
    "            &= \\frac{r}{\\lambda^2} \\\\ \\\\\n",
    "\n",
    "            SD[T_r] &= \\sqrt{\\frac{r}{\\lambda^2}} \\\\\n",
    "            &= \\frac{\\sqrt{r}}{\\lambda}\n",
    "            \\end{align}$$\n"
   ]
  },
  {
   "cell_type": "markdown",
   "metadata": {},
   "source": []
  }
 ],
 "metadata": {
  "kernelspec": {
   "display_name": "kaggle",
   "language": "python",
   "name": "python3"
  },
  "language_info": {
   "codemirror_mode": {
    "name": "ipython",
    "version": 3
   },
   "file_extension": ".py",
   "mimetype": "text/x-python",
   "name": "python",
   "nbconvert_exporter": "python",
   "pygments_lexer": "ipython3",
   "version": "3.10.4"
  },
  "orig_nbformat": 4
 },
 "nbformat": 4,
 "nbformat_minor": 2
}
