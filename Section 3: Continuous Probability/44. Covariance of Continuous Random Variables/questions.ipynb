{
 "cells": [
  {
   "cell_type": "code",
   "execution_count": 1,
   "metadata": {},
   "outputs": [],
   "source": [
    "import scipy\n",
    "import numpy as np\n",
    "import matplotlib.pyplot as plt"
   ]
  },
  {
   "cell_type": "markdown",
   "metadata": {},
   "source": [
    "### 1. Let $A$ be a $\\text{Exponential}(\\lambda = 1.5)$ random variable, and let $\\Theta \\sim \\text{Uniform}(a=-\\pi, b=\\pi)$ random variable. What is $Cov[A \\cos(\\Theta + 2\\pi s), A \\cos(\\Theta + 2\\pi t)]$?"
   ]
  },
  {
   "cell_type": "markdown",
   "metadata": {},
   "source": [
    "- In Exercise 43 Q2, we found that\n",
    "    - $E[A \\cos(\\Theta + 2\\pi s)] = 0$ \n",
    "    - $E[A^2 \\cos(\\Theta + 2\\pi s) \\cos(\\Theta + 2 \\pi t)] = \\frac{4}{9} \\cdot \\cos[2 \\pi s - 2\\pi t]$ \n",
    "\n",
    "- $$\\begin{align}\n",
    "    Cov[A \\cos(\\Theta + 2 \\pi s), A \\cos(\\Theta + 2 \\pi t)] &= E[(A \\cos(\\Theta + 2 \\pi s) - E[A \\cos(\\Theta + 2 \\pi s)])(A \\cos(\\Theta + 2 \\pi t) - E[A \\cos(\\Theta + 2 \\pi t)])] \\\\\n",
    "    &= E[(A \\cos(\\Theta + 2\\pi s))(A \\cos(\\Theta + 2\\pi t))] - E[A \\cos(\\Theta + 2 \\pi s)] E[A \\cos(\\Theta + 2 \\pi t)] \\\\\n",
    "    &= \\frac{4}{9} \\cdot \\cos[2 \\pi s - 2 \\pi t] - 0 \\\\\n",
    "    &= \\frac{4}{9} \\cdot \\cos[2 \\pi s - 2 \\pi t]\n",
    "    \\end{align}$$"
   ]
  },
  {
   "cell_type": "markdown",
   "metadata": {},
   "source": [
    "### 2. In a standby system, a component is used until it wears out and is then immediately replaced by another, not necessarily identical, component. (The second component is said to be “in standby mode,” i.e., waiting to be used.) The overall lifetime of a standby system is just the sum of the lifetimes of its individual components. Let $X$ and $Y$ denote the lifetimes of the two components of a standby system, and suppose $X$ and $Y$ are independent exponentially distributed random variables with expected lifetimes 3 weeks and 4 weeks, respectively. Let $T = X+Y$, the lifetime of the standby system. What is the standard deviation of the lifetime of the system?"
   ]
  },
  {
   "cell_type": "markdown",
   "metadata": {},
   "source": [
    "- We found previous in Exercise 43 Q3 that $E[T] = E[X] + E[Y] = 7$ by linearity of expectations\n",
    "    - Note that X and Y both represent lifetimes. \n",
    "    - If $E[X] = 3$, then $\\lambda_x = \\frac{1}{3}$\n",
    "    - If $E[Y] = 4$, then $\\lambda_y = \\frac{1}{4}$\n",
    "\n",
    "- $$\\begin{align}\n",
    "    Var[T] &= Var[X+Y] \\\\\n",
    "    &= Cov[X+Y, X+Y] \\\\\n",
    "    &= E[((X+Y) - E[X+Y])((X+Y) - E[X+Y])] \\\\\n",
    "    &= E[(X+Y)^2 - (X+Y)E[X+Y] - (X+Y)E[X+Y] + E[X+Y]^2] \\\\\n",
    "    &= E[(X+Y)^2] - E[X+Y]^2 \\\\\n",
    "    &= E[(X+Y)^2] - (E[X] + E[Y])^2 \\\\\n",
    "    &= E[X^2+ 2XY + Y^2] - (E[X]^2 + E[Y]^2 + 2E[X]E[Y]) \\\\\n",
    "    &= E[X^2] + 2E[XY] + E[Y^2] - E[X]^2 - E[Y]^2 - 2E[X]E[Y] \\\\\n",
    "    &= (E[X^2] - E[X]^2) + (E[Y^2] - E[Y]^2) + 2(E[XY] - E[X]E[Y]) \\\\\n",
    "    &= Var[X] + Var[Y] + 2Cov[X,Y] \n",
    "    \\end{align}$$\n",
    "\n",
    "- $$\\begin{align}\n",
    "    Var[X] &= E[X^2] - E[X]^2 \\\\ \n",
    "    &= \\int_{0}^{\\inf} x^2 f(X) dx - 3^2\\\\\n",
    "    &= \\int_{0}^{\\inf} x^2 \\lambda e^{-\\lambda x} dx - 3^2 & u=x^2, du=2x, dv = \\lambda e^{-\\lambda x}, v = -e^{-\\lambda x} \\\\\n",
    "    &= -x^2 e^{-\\lambda x} + \\int_{0}^{\\inf} x \\cdot 2 e^{-\\lambda x} dx - 3^2 & u=x, du=1, dv = 2 e^{-\\lambda x}, v = -\\frac{2}{\\lambda} e^{-\\lambda x} \\\\\n",
    "    &= -x^2 e^{-\\lambda x} - \\frac{2x}{\\lambda} e^{-\\lambda x} - \\int_{0}^{\\inf} \\frac{2}{\\lambda} e^{-\\lambda x} dx - 3^2 \\\\\n",
    "    &= [-x^2 e^{-\\lambda x} - \\frac{2x}{\\lambda} e^{-\\lambda x} + \\frac{2}{\\lambda^2} e^{-\\lambda x}]_0^{\\inf} - 3^2 \\\\\n",
    "    &= \\frac{2}{\\lambda^2} - 3^2 \\\\\n",
    "    &= \\frac{2}{\\frac{1}{3}^2} - 3^2 \\\\\n",
    "    &= 3^2 \\\\\n",
    "    &= 9 \\\\ \\\\\n",
    "    Var[Y] &= \\frac{2}{\\lambda^2} - 4^2 & \\text{by symmetry with Var[X]} \\\\\n",
    "    &= \\frac{2}{\\frac{1}{4}^2} - 4^2 \\\\\n",
    "    &= 16 \\\\ \\\\ \n",
    "\n",
    "    Cov[X,Y] &= 0 & \\text{by independence}\n",
    "    \\end{align}$$\n",
    "\n",
    "- $Var[T] = Var[X] + Var[Y] + 2Cov[X,Y] = 9 + 16 + 0 = 25 \\\\ SD[T] = \\sqrt{5} = 5$\n"
   ]
  },
  {
   "cell_type": "code",
   "execution_count": 24,
   "metadata": {},
   "outputs": [
    {
     "name": "stdout",
     "output_type": "stream",
     "text": [
      "6.975997171249902 24.927723579737535 4.9927671265278875\n"
     ]
    }
   ],
   "source": [
    "xvals = np.random.exponential(3, size=100_000)\n",
    "yvals = np.random.exponential(4, size=100_000)\n",
    "t = xvals + yvals\n",
    "print(np.mean(t), np.var(t), np.std(t))"
   ]
  },
  {
   "cell_type": "markdown",
   "metadata": {},
   "source": [
    "### 3. Let $U_1, U_2, ... U_n$ be independent and identically distributed (i.i.d.)  $\\text{Uniform}(a=0, b=1)$ random variables. Let $S_n = U_1 + U_2 + ... U_n$ denote their sum. Calculate $E[S_n]$ and $SD[S_n]$ in terms of n."
   ]
  },
  {
   "cell_type": "markdown",
   "metadata": {},
   "source": [
    "$$\\begin{align}\n",
    "    E[S_n] &= E[U_1 + U_2 + ... U_n] \\\\\n",
    "    &= E[U_1] + E[U_2] + ... E[U_n] & \\text{by i.i.d} \\\\\n",
    "    &= \\frac{n}{2} \\\\ \\\\\n",
    "    \n",
    "    Var[S_n] &= Cov[U_1 + U_2 + ... U_n, U_1 + U_2 + ... U_n] \\\\\n",
    "    &= \\sum_{i=j} Cov[U_i, U_j] + \\sum_{i \\neq j} Cov[U_i, U_j]  \\\\\n",
    "    &= \\sum_{i=j} Cov[U_i, U_j] & \\text{by independence, } \\sum_{i \\neq j} Cov[U_i, U_j] = 0 \\\\\n",
    "    &= n \\cdot Var[U_i] \\\\\n",
    "    &= n \\cdot \\frac{(1-0)^2}{12} \\\\\n",
    "    &= \\frac{n}{12} \\\\ \\\\\n",
    "\n",
    "    SD[S_n] &= \\sqrt{\\frac{n}{12}}\n",
    "\\end{align}$$"
   ]
  },
  {
   "cell_type": "code",
   "execution_count": 31,
   "metadata": {},
   "outputs": [
    {
     "name": "stdout",
     "output_type": "stream",
     "text": [
      "3.5 0.5833333333333334 0.7637626158259734\n",
      "3.501797669095553 0.5847499445628005 0.7646894432139105\n"
     ]
    }
   ],
   "source": [
    "u1 = np.random.uniform(0,1,size=100_000)\n",
    "u2 = np.random.uniform(0,1,size=100_000)\n",
    "u3 = np.random.uniform(0,1,size=100_000)\n",
    "u4 = np.random.uniform(0,1,size=100_000)\n",
    "u5 = np.random.uniform(0,1,size=100_000)\n",
    "u6 = np.random.uniform(0,1,size=100_000)\n",
    "u7 = np.random.uniform(0,1,size=100_000)\n",
    "sn = u1 + u2 + u3 + u4 + u5 + u6 + u7\n",
    "\n",
    "print(7/2, 7/12, np.sqrt(7/12))\n",
    "print(np.mean(sn), np.var(sn), np.std(sn))"
   ]
  }
 ],
 "metadata": {
  "kernelspec": {
   "display_name": "leetcode",
   "language": "python",
   "name": "python3"
  },
  "language_info": {
   "codemirror_mode": {
    "name": "ipython",
    "version": 3
   },
   "file_extension": ".py",
   "mimetype": "text/x-python",
   "name": "python",
   "nbconvert_exporter": "python",
   "pygments_lexer": "ipython3",
   "version": "3.10.4"
  },
  "orig_nbformat": 4
 },
 "nbformat": 4,
 "nbformat_minor": 2
}
