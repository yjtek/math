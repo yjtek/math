{
 "cells": [
  {
   "cell_type": "markdown",
   "metadata": {},
   "source": [
    "### 1. The distance (in hundreds of miles) driven by a trucker in one day is a continuous random variable X whose cumulative distribution function (c.d.f.) is given by:\n",
    "\n",
    "$$\n",
    "    F(x) = \\begin{Bmatrix} 0 & x \\le 0 \\\\ \\frac{x^3}{216} & 0 \\le x \\le 6 \\\\ 1 & 1 \\gt 6 \\end{Bmatrix}\n",
    "$$\n"
   ]
  },
  {
   "cell_type": "code",
   "execution_count": 61,
   "metadata": {},
   "outputs": [
    {
     "name": "stdout",
     "output_type": "stream",
     "text": [
      "1.3432040758859927\n"
     ]
    }
   ],
   "source": [
    "import numpy as np\n",
    "import matplotlib.pyplot as plt\n",
    "probs = np.random.uniform(0,1,size=100_000)\n",
    "inv_cdf = (216 * probs)**(1/3)\n",
    "E_X = np.mean(inv_cdf)\n",
    "inv_cdf_square = inv_cdf ** 2\n",
    "E_Xsq = np.mean(inv_cdf_square)\n",
    "print(E_Xsq - E_X**2)"
   ]
  },
  {
   "cell_type": "markdown",
   "metadata": {},
   "source": [
    "#### a. What is the standard deviation of X?"
   ]
  },
  {
   "cell_type": "markdown",
   "metadata": {},
   "source": [
    "$$\\begin{align}\n",
    "    E[X^2] &= \\int_0^6 x^2 \\frac{x^2}{72} dx \\\\\n",
    "    &= \\frac{1}{72} \\int_0^6 x^4 dx \\\\\n",
    "    &= \\frac{1}{72} [\\frac{x^5}{5}]^6_0 \\\\\n",
    "    &= \\frac{1}{72} [\\frac{x^5}{5}]^6_0 \\\\\n",
    "    &= 21.6\n",
    "\\end{align}$$\n",
    "\n",
    "$$\\begin{align}\n",
    "    E[X]^2 &= \\int_0^6 x \\cdot \\frac{x^2}{72} dx \\\\\n",
    "    &= [\\frac{x^4}{288}]^6_0 \\\\\n",
    "    &= 4.5\n",
    "\\end{align}$$\n",
    "\n",
    "$$\\begin{align}\n",
    "    SD[X] &= \\sqrt{Var[X]} \\\\\n",
    "    &= \\sqrt{E[X^2] - E[X]^2} \\\\\n",
    "    &= \\sqrt{21.6 - 4.5^2} \\\\\n",
    "    &= \\sqrt{1.35} \\\\\n",
    "    &= 1.16\n",
    "\\end{align}$$"
   ]
  },
  {
   "cell_type": "markdown",
   "metadata": {},
   "source": [
    "#### b. What is the probability that X is within 1 standard deviation of the mean (i.e., expected value)?"
   ]
  },
  {
   "cell_type": "markdown",
   "metadata": {},
   "source": [
    "$$\\begin{align}\n",
    "    P(3.34 \\le X \\le 5.66) &= P(X \\le 5.66) - P(X \\le 3.34) \\\\\n",
    "    &= \\frac{5.66^3}{216} - \\frac{3.34^3}{216} \\\\\n",
    "    &= 0.839 - 0.172 \\\\\n",
    "    &= 0.667\n",
    "\\end{align}$$"
   ]
  },
  {
   "cell_type": "markdown",
   "metadata": {},
   "source": [
    "### 2. Small aircraft arrive at San Luis Obispo airport according to a Poisson process at a rate of 6 per hour."
   ]
  },
  {
   "cell_type": "markdown",
   "metadata": {},
   "source": [
    "#### a. What is the expected value and standard deviation of the time between two arrivals (in hours)?"
   ]
  },
  {
   "cell_type": "markdown",
   "metadata": {},
   "source": [
    "- Let number of aircraft in an hour be given by X \n",
    "    - $X \\sim \\text{Poisson}(\\lambda = 6)$ \n",
    "\n",
    "- Let time between 2 arrivals be given by T\n",
    "    - $T \\sim \\text{Exponential}(\\lambda = 6)$\n",
    "\n",
    "$$\\begin{align}\n",
    "    E[T] &= \\int_0^{\\inf} t \\cdot \\lambda e^{-\\lambda t} dt \\\\\n",
    "    &= -t e^{-\\lambda t} - \\int_0^{\\inf} -e^{-\\lambda t} dt & u=t, du=1, dv = \\lambda e^{-\\lambda t}, v = -e^{-\\lambda t} \\\\\n",
    "    &= [-t e^{-\\lambda t} - \\frac{e^{-\\lambda t}}{\\lambda}]^{\\inf}_{0} \\\\\n",
    "    &= \\frac{1}{\\lambda} \\\\\n",
    "    &= \\frac{1}{6} \\\\\n",
    "    &= 0.167 \\\\ \\\\\n",
    "\n",
    "    E[T^2] &= \\int_0^{\\inf} t^2 \\cdot \\lambda e^{-\\lambda t} dt \\\\\n",
    "    &= \\frac{2}{\\lambda^2} & \\text{from example 38.2} \\\\\n",
    "    &= \\frac{1}{18} \\\\\n",
    "    &= 0.0556 \\\\ \\\\\n",
    "\n",
    "    SD[T] &= \\sqrt{Var[T]} \\\\\n",
    "    &= \\sqrt{E[T^2] - E[T]^2} \\\\\n",
    "    &= \\sqrt{\\frac{2}{\\lambda^2} - \\frac{1}{\\lambda^2}} \\\\\n",
    "    &= \\sqrt{\\frac{1}{\\lambda^2}} \\\\\n",
    "    &= \\frac{1}{6} \\\\\n",
    "    &= 0.167\n",
    "\\end{align}$$\n"
   ]
  },
  {
   "cell_type": "markdown",
   "metadata": {},
   "source": [
    "#### b. What is the probability that the time between two arrivals will be more than 1 standard deviation above the mean (i.e., expected value)?\n"
   ]
  },
  {
   "cell_type": "markdown",
   "metadata": {},
   "source": [
    "$$\\begin{align}\n",
    "    P(T \\gt \\frac{1}{3}) &= 1 - P(T \\le \\frac{1}{3}) \\\\\n",
    "    &= 1 - (1 - e^{-\\frac{6}{3}}) \\\\\n",
    "    &= e^{-\\frac{6}{3}} \\\\\n",
    "    &= 0.135\n",
    "\\end{align}$$"
   ]
  },
  {
   "cell_type": "code",
   "execution_count": 90,
   "metadata": {},
   "outputs": [
    {
     "name": "stdout",
     "output_type": "stream",
     "text": [
      "0.16682265386191192\n",
      "0.16711457597954926\n",
      "0.13503\n"
     ]
    }
   ],
   "source": [
    "import numpy as np\n",
    "time = np.random.exponential(1/6, size=100_000)\n",
    "print(np.mean(time))\n",
    "print(np.std(time))\n",
    "print(len(time[time > 1/3]) / len(time))"
   ]
  },
  {
   "cell_type": "markdown",
   "metadata": {},
   "source": [
    "### 3. The article “Modeling Sediment and Water Column Interactions for Hydrophobic Pollutants” (Water Res., 1984: 1169–1174) suggests the uniform distribution on the interval [7.5,20] as a model for depth (cm) of the bioturbation layer in sediment in a certain region."
   ]
  },
  {
   "cell_type": "markdown",
   "metadata": {},
   "source": [
    "#### a. What are the mean and variance of depth?"
   ]
  },
  {
   "cell_type": "markdown",
   "metadata": {},
   "source": [
    "- Let D be depth\n",
    "- $D \\sim \\text{Uniform}(7.5, 20)$\n",
    "\n",
    "$$\\begin{align}\n",
    "    E[D] &= \\int_{7.5}^{20} d \\cdot \\frac{1}{12.5} dD \\\\\n",
    "    &= \\frac{1}{12.5} [\\frac{d^2}{2}]^{20}_{7.5} \\\\\n",
    "    &= \\frac{1}{12.5} (200 - 28.125) \\\\\n",
    "    &= 13.75 \\\\ \\\\\n",
    "\n",
    "    E[D^2] &= \\int_{7.5}^{20} d^2 \\cdot \\frac{1}{12.5} dD \\\\\n",
    "    &= \\frac{1}{12.5} [\\frac{d^3}{3}]^{20}_{7.5} \\\\\n",
    "    &= \\frac{1}{12.5} (2666.67 - 140.625) \\\\\n",
    "    &= 202.0836 \\\\ \\\\ \n",
    "\n",
    "    Var[D] &= E[D^2] - E[D]^2 \\\\\n",
    "    &= 202.0836 - 13.75^2 \\\\\n",
    "    &= 13.0211\n",
    "\\end{align}$$"
   ]
  },
  {
   "cell_type": "markdown",
   "metadata": {},
   "source": [
    "#### b. What is the probability that the observed depth is within 1 standard deviation of the expected value?"
   ]
  },
  {
   "cell_type": "markdown",
   "metadata": {},
   "source": [
    "$Std[D] = \\sqrt{13.0211} = 3.608$\n",
    "\n",
    "$$\\begin{align}\n",
    "    P(10.142 \\le D \\le 17.358) &= P(D \\le 17.358) - P(D \\le 10.142) \\\\\n",
    "    &= \\frac{17.358 - 7.5}{20 - 7.5} - \\frac{10.142 - 7.5}{20 - 7.5} \\\\\n",
    "    &= 0.78864 - 0.21136 \\\\\n",
    "    &= 0.577\n",
    "\\end{align}$$"
   ]
  },
  {
   "cell_type": "code",
   "execution_count": 128,
   "metadata": {},
   "outputs": [
    {
     "name": "stdout",
     "output_type": "stream",
     "text": [
      "13.74648245657617\n",
      "12.992885951996533\n"
     ]
    },
    {
     "data": {
      "text/plain": [
       "0.57772"
      ]
     },
     "execution_count": 128,
     "metadata": {},
     "output_type": "execute_result"
    }
   ],
   "source": [
    "import numpy as np\n",
    "depth = np.random.uniform(7.5, 20, size=100_000)\n",
    "print(np.mean(depth))\n",
    "print(np.var(depth))\n",
    "len(depth[\n",
    "    (depth < (np.mean(depth) + np.sqrt(np.var(depth)))) &\n",
    "    (depth > (np.mean(depth) - np.sqrt(np.var(depth))))\n",
    "]) / len(depth)"
   ]
  }
 ],
 "metadata": {
  "kernelspec": {
   "display_name": "leetcode",
   "language": "python",
   "name": "python3"
  },
  "language_info": {
   "codemirror_mode": {
    "name": "ipython",
    "version": 3
   },
   "file_extension": ".py",
   "mimetype": "text/x-python",
   "name": "python",
   "nbconvert_exporter": "python",
   "pygments_lexer": "ipython3",
   "version": "3.10.4"
  },
  "orig_nbformat": 4
 },
 "nbformat": 4,
 "nbformat_minor": 2
}
