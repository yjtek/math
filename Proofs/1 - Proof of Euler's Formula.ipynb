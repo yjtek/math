{
 "cells": [
  {
   "cell_type": "markdown",
   "id": "0fdb7b46",
   "metadata": {},
   "source": [
    "## Proof of Euler's Formula"
   ]
  },
  {
   "cell_type": "markdown",
   "id": "2d898642",
   "metadata": {},
   "source": [
    "- Prove Euler's Formula:\n",
    "\n",
    "$$\\begin{aligned}\n",
    "    e^{i \\theta} &= \\cos \\theta + i \\sin \\theta\n",
    "\\end{aligned}"
   ]
  },
  {
   "cell_type": "markdown",
   "id": "20d54107",
   "metadata": {},
   "source": [
    "### Proof"
   ]
  },
  {
   "cell_type": "markdown",
   "id": "f2afdb93",
   "metadata": {},
   "source": [
    "- Recall that in Taylor Expansion, any arbitrary function evaluated as a single point $f(x=a)$ can be written as an infinite sum of its derivatives. That is:\n",
    "\n",
    "$$\\begin{aligned}\n",
    "    f(a) &= \\sum_{n=0}^{\\inf} \\frac{f^{(n)}(a)}{n!} \\cdot (x - a)^n\n",
    "\\end{aligned}$$\n",
    "\n",
    "- Applying this to $e^{x}$ where $x = i \\theta$ around $a = 0$:\n",
    "\n",
    "$$\\begin{aligned}\n",
    "    e^x &= \\frac{e^0}{0!} \\cdot (x-0)^0 + \\frac{e^{0}}{1!} \\cdot (x-0)^1 + \\frac{e^{0}}{2!} \\cdot (x-0)^2 + ... \\\\\n",
    "    &= 1 + x + \\frac{x^2}{2!} + ...\n",
    "\\end{aligned}$$\n",
    "\n",
    "- Similarly, we apply the Taylor expansion on both $\\sin(x)$ and $\\cos(x)$ at $a=0$\n",
    "\n",
    "$$\\begin{aligned}\n",
    "    \\sin(x) &= \\frac{\\sin(0)}{0!} (x-0)^0 + \\frac{\\cos(0)}{1!} (x-0)^1 + \\frac{-\\sin(0)}{2!} (x-0)^2 + \\frac{-\\cos(0)}{3!} (x-0)^3 + \\frac{\\sin(0)}{4!} (x-0)^4 + \\frac{\\cos(0)}{5!} (x-0)^5 + ... \\\\\n",
    "    &= x - \\frac{x^3}{3!} + \\frac{x^5}{5!} + ... \\\\ \\\\\n",
    "\n",
    "    \\cos(x) &= \\frac{\\cos(0)}{0!} (x-0)^0 + \\frac{-\\sin(0)}{1!} (x-0)^1 + \\frac{-\\cos(0)}{2!} (x-0)^2 + \\frac{\\sin(0)}{3!} (x-0)^3 + \\frac{\\cos(0)}{4!} (x-0)^4 + \\frac{-\\sin(0)}{5!} (x-0)^5 ... \\\\\n",
    "    &= 1 - \\frac{x^2}{2!} + \\frac{x^4}{4!} + ...\n",
    "\n",
    "\\end{aligned}$$"
   ]
  },
  {
   "cell_type": "markdown",
   "id": "f8a2e086",
   "metadata": {},
   "source": [
    "- So now that we know the Taylor Expansion of $e^x$ around point $a=0$, what happens when $x = i \\theta$?\n",
    "\n",
    "$$\\begin{aligned}\n",
    "    e^{i\\theta} &= 1 + i\\theta + \\frac{(i\\theta)^2}{2!} + \\frac{(i\\theta)^3}{3!} + \\frac{(i\\theta)^4}{4!} + \\frac{(i\\theta)^5}{5!} ... \\\\\n",
    "    &= 1 + i\\theta - \\frac{\\theta^2}{2!} - \\frac{i \\theta^3}{3!} + \\frac{\\theta^4}{4!} + \\frac{i \\theta^5}{5!} + ... \\\\\n",
    "    &= [1 - \\frac{\\theta^2}{2!} + \\frac{\\theta^4}{4!} + ...] + i \\cdot (\\theta - \\frac{\\theta^3}{3!} + \\frac{\\theta^5}{5!} + ...) \\\\\n",
    "    &= \\cos(\\theta) + i \\sin(\\theta) \\qquad Q.E.D\n",
    "\\end{aligned}$$\n"
   ]
  }
 ],
 "metadata": {
  "language_info": {
   "name": "python"
  }
 },
 "nbformat": 4,
 "nbformat_minor": 5
}
