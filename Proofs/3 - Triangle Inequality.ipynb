{
 "cells": [
  {
   "cell_type": "markdown",
   "id": "b5c32f14",
   "metadata": {},
   "source": [
    "## Triangle Inequality"
   ]
  },
  {
   "cell_type": "markdown",
   "id": "3728dd81",
   "metadata": {},
   "source": [
    "### Introduction"
   ]
  },
  {
   "cell_type": "markdown",
   "id": "37ea9132",
   "metadata": {},
   "source": [
    "- The triangle inequality is actually super simple, but it is used in remarkably many proofs that it's probably useful to prove it formally and get familiar with it\n",
    "\n",
    "- It simply states that for any triangle, the length of any one side is always less than or equal to the sum of the other two sides\n",
    "\n",
    "$$\\begin{aligned}\n",
    "    a \\le b + c \\\\ \n",
    "    b \\le c+a \\\\\n",
    "    c \\le a+b\n",
    "\\end{aligned}$$\n",
    "\n",
    "- The boundary case $a = b+c$ is a degenerate case, where the entire triangle lies on a line. \n",
    "\n",
    "- The intuition here in the 2-dimensional case is very simple; the shortest path between 2 points on a plane is a straight line. So no amount of deviation to another point will end up bringing you closer to where you want to go\n",
    "\n",
    "- More generally, the triangle inequality states that\n",
    "\n",
    "$$\\begin{aligned}\n",
    "    \\|x+y\\| \\le \\|x\\| + \\|y\\| && \\forall x,y \\in \\mathbb{R}^n\n",
    "\\end{aligned}$$"
   ]
  },
  {
   "cell_type": "markdown",
   "id": "38d0ba01",
   "metadata": {},
   "source": [
    "### Proof"
   ]
  },
  {
   "cell_type": "markdown",
   "id": "37784b54",
   "metadata": {},
   "source": []
  }
 ],
 "metadata": {
  "language_info": {
   "name": "python"
  }
 },
 "nbformat": 4,
 "nbformat_minor": 5
}
