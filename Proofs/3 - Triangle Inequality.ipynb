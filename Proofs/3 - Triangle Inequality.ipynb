{
 "cells": [
  {
   "cell_type": "markdown",
   "id": "b5c32f14",
   "metadata": {},
   "source": [
    "## Triangle Inequality"
   ]
  },
  {
   "cell_type": "markdown",
   "id": "3728dd81",
   "metadata": {},
   "source": [
    "### Introduction"
   ]
  },
  {
   "cell_type": "markdown",
   "id": "37ea9132",
   "metadata": {},
   "source": [
    "- The triangle inequality is actually super simple, but it is used in remarkably many proofs that it's probably useful to prove it formally and get familiar with it\n",
    "\n",
    "- It simply states that for any triangle, the length of any one side is always less than or equal to the sum of the other two sides\n",
    "\n",
    "$$\\begin{aligned}\n",
    "    a \\le b + c \\\\ \n",
    "    b \\le c+a \\\\\n",
    "    c \\le a+b\n",
    "\\end{aligned}$$\n",
    "\n",
    "- The boundary case $a = b+c$ is a degenerate case, where the entire triangle lies on a line. \n",
    "\n",
    "- The intuition here in the 2-dimensional case is very simple; the shortest path between 2 points on a plane is a straight line. So no amount of deviation to another point will end up bringing you closer to where you want to go\n",
    "\n",
    "- More generally, the triangle inequality states that\n",
    "\n",
    "$$\\begin{aligned}\n",
    "    \\|x+y\\| \\le \\|x\\| + \\|y\\| && \\forall x,y \\in \\mathbb{R}^n\n",
    "\\end{aligned}$$"
   ]
  },
  {
   "cell_type": "markdown",
   "id": "38d0ba01",
   "metadata": {},
   "source": [
    "### Proof"
   ]
  },
  {
   "cell_type": "markdown",
   "id": "d4379861",
   "metadata": {},
   "source": [
    "#### Real numbers"
   ]
  },
  {
   "cell_type": "markdown",
   "id": "37784b54",
   "metadata": {},
   "source": [
    "- Let's start with the real numbers case. Suppose we have real numbers $x$ and $y$ Then the triangle inequality states that\n",
    "\n",
    "$$\\begin{aligned}\n",
    "    |x+y| \\le |x| + |y|\n",
    "\\end{aligned}$$\n",
    "\n",
    "- This can be logically reasoned out. \n",
    "    - If $x$ and $y$ have the same sign, then $|x+y| = |x| + |y|$\n",
    "        - e.g. if $x = 2$ and $y = 2$, $|x + y| = |2 + 2| = 4 = |2| + |2|$\n",
    "        - e.g. if $x = -2$ and $y = -2$, $|x + y| = |-2 + -2| = 4 = |-2| + |-2|$\n",
    "\n",
    "    - If If $x$ and $y$ have different signs, then $|x+y| \\le |x| + |y|$\n",
    "        - e.g. if $x = 2$ and $y = -2$, $|x + y| = |2 + -2| = 0 \\le |2| + |-2|$"
   ]
  },
  {
   "cell_type": "markdown",
   "id": "8effa69b",
   "metadata": {},
   "source": [
    "#### Euclidean Vectors"
   ]
  },
  {
   "cell_type": "markdown",
   "id": "d06c46d2",
   "metadata": {},
   "source": [
    "- Now let's suppose we have \n",
    "    - 2 vectors $x, y \\in \\mathbb{R}^n$ \n",
    "    - Let $\\|.\\|$ be the euclidean norm of a vector\n",
    "    - Let $\\langle x,y \\rangle$ be the inner product of 2 vectors. In $\\mathbb{R}^n$, this is just the dot product\n",
    "\n",
    "$$\\begin{aligned}\n",
    "    \\|x+y\\|^2 &= \\langle x+y, x+y \\rangle \\\\\n",
    "    &= \\|x\\|^2 + 2 \\langle x, y \\rangle + \\|y\\|^2\n",
    "\\end{aligned}$$\n",
    "\n",
    "- The $2 \\langle x,y \\rangle$ term is the crux of the matter here; from the Cauchy-Schwarz Inequality, it must be true that \n",
    "\n",
    "$$\\begin{aligned}\n",
    "    | \\langle x,y \\rangle | &\\le \\|x\\| \\|y\\|\n",
    "\\end{aligned}$$\n",
    "\n",
    "- Therefore\n",
    "\n",
    "$$\\begin{aligned}\n",
    "    \\|x\\|^2 + 2 \\langle x, y \\rangle + \\|y\\|^2 &\\le \\|x\\|^2 + 2 \\|x\\| \\|y\\| + \\|y\\|^2 \\\\\n",
    "    \\| x+y \\|^2 &\\le (\\|x\\| + \\|y\\|)^2 \\\\\n",
    "    \\| x+y \\| &\\le \\|x\\| + \\|y\\|\n",
    "\\end{aligned}$$"
   ]
  }
 ],
 "metadata": {
  "language_info": {
   "name": "python"
  }
 },
 "nbformat": 4,
 "nbformat_minor": 5
}
