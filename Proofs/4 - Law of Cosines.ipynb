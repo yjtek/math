{
 "cells": [
  {
   "cell_type": "markdown",
   "id": "fcd72686",
   "metadata": {},
   "source": [
    "## Law of Cosines"
   ]
  },
  {
   "cell_type": "markdown",
   "id": "7962cf3a",
   "metadata": {},
   "source": [
    "- Let's assume the following triangle imposed on a 2D axis:\n",
    "    - Point $A$ lies at $(0, 0)$\n",
    "    - Point $B$ lies at $(x_b, 0)$\n",
    "    - Point $C$ lies at $(x_c, y_c)$\n",
    "\n",
    "- Additionally, let the 3 angles in the triangle be denoted as:\n",
    "    - $\\angle A$ is the angle at point $A$\n",
    "    - $\\angle B$ is the angle at point $B$\n",
    "    - $\\angle C$ is the angle at point $C$\n",
    "\n",
    "- Finally, let the 3 sides of the triangle be:\n",
    "    - $\\vec{A}$ is the side between points $BC$\n",
    "    - $\\vec{B}$ is the side between points $AC$\n",
    "    - $\\vec{C}$ is the side between points $AB$\n",
    "    - The sides are labelled to be directly opposite their corresponding angle\n",
    "\n",
    "- Without loss of generality, for $\\angle A = \\theta $, it must be true that:\n",
    "\n",
    "$$\\begin{aligned}\n",
    "    \\vec{A}^2 &= \\vec{B}^2 + \\vec{C}^2 - 2 \\vec{B} \\vec{C} \\cos{\\angle{A}}\n",
    "\\end{aligned}$$"
   ]
  },
  {
   "cell_type": "markdown",
   "id": "91487357",
   "metadata": {},
   "source": [
    "### Proof"
   ]
  },
  {
   "cell_type": "markdown",
   "id": "7fbe3d15",
   "metadata": {},
   "source": [
    "- The law of cosines can be proven from first principles using the pythagoras theorem\n",
    "\n",
    "- Let's build on the definitions above to demonstrate\n",
    "\n",
    "- In a 2D plane, we have an inscribed triangle such that the 3 points have the following coordinates:\n",
    "    - $A = (0, 0)$\n",
    "    - $B = (x_b, 0)$\n",
    "    - $C = (x_c, y_c)$"
   ]
  },
  {
   "cell_type": "markdown",
   "id": "33845b59",
   "metadata": {},
   "source": [
    "- By Pythagoras theorem, the following must be true:\n",
    "$$\\begin{aligned}\n",
    "    \\vec{B} &= AC \\\\ \n",
    "    &= \\sqrt{x_c^2 + y_c^2} \\\\ \\\\\n",
    "\n",
    "    \\vec{A} &= BC \\\\ \n",
    "    &= \\sqrt{(x_c - x_b)^2 + y_c^2} \\\\ \\\\\n",
    "\n",
    "    \\vec{C} &= AB \\\\\n",
    "    &= x_b\n",
    "\\end{aligned}$$\n",
    "\n",
    "- If we square both sides:\n",
    "$$\\begin{aligned}\n",
    "    \\vec{B}^2 &= x_c^2 + y_c^2 \\\\ \\\\\n",
    "    \\vec{A}^2 &= (x_c - x_b)^2 + y_c^2 \\\\ \n",
    "    \\vec{A}^2 &= (x_c - \\vec{C})^2 + y_c^2 \\\\ \n",
    "    &= x_c^2 - 2 \\vec{C} x_c + \\vec{C}^2 + y_c^2 \\\\\n",
    "\\end{aligned}$$"
   ]
  },
  {
   "cell_type": "markdown",
   "id": "30518b60",
   "metadata": {},
   "source": [
    "- Then subtracting the two vectors from each other\n",
    "\n",
    "$$\\begin{aligned}\n",
    "    \\vec{A}^2 - \\vec{B}^2 &= x_c^2 - 2 \\vec{C} x_c + \\vec{C}^2 + y_c^2 - x_c^2 - y_c^2 \\\\\n",
    "    &= - 2 \\vec{C} x_c + \\vec{C}^2 \\\\ \\\\\n",
    "\n",
    "    2 \\vec{C} x_c &= \\vec{B}^2 + \\vec{C}^2 - \\vec{A}^2 \\\\    \n",
    "\\end{aligned}$$\n"
   ]
  },
  {
   "cell_type": "markdown",
   "id": "93bd30da",
   "metadata": {},
   "source": [
    "- Without loss of generality, let's consider $\\angle{A} = \\theta$\n",
    "\n",
    "$$\\begin{aligned}\n",
    "    \\cos{\\theta} &= \\frac{x_c}{\\vec{B}} \\\\\n",
    "    x_c &= \\vec{B} \\cos{\\theta}\n",
    "\\end{aligned}$$\n",
    "\n",
    "- Then using the previous expression:\n",
    "\n",
    "$$\\begin{aligned}\n",
    "    2\\vec{C} x_c &= \\vec{B}^2 + \\vec{C}^2 - \\vec{A}^2 \\\\\n",
    "    2 \\vec{C} \\vec{B} \\cos{\\theta} &= \\vec{B}^2 + \\vec{C}^2 - \\vec{A}^2 \\\\\n",
    "    \\vec{A}^2 &= \\vec{B}^2 + \\vec{C}^2 - 2 \\vec{B} \\vec{C} \\cos{\\theta} & \\text{for } \\angle{A} = \\theta \n",
    "\\end{aligned}$$"
   ]
  },
  {
   "cell_type": "markdown",
   "id": "0b2c20f3",
   "metadata": {},
   "source": [
    "### Well Known Applications"
   ]
  },
  {
   "cell_type": "markdown",
   "id": "171d9cf2",
   "metadata": {},
   "source": [
    "- One of the most famous applications of the Law of Cosines is in proving \n",
    "\n",
    "$$\\begin{aligned}\n",
    "    x \\cdot y &= \\|x\\| \\|y\\| \\cos{\\theta}\n",
    "\\end{aligned}$$"
   ]
  },
  {
   "cell_type": "markdown",
   "id": "5609d7cf",
   "metadata": {},
   "source": [
    "- Let $x$ and $y$ be vectors with their tails at origin\n",
    "\n",
    "- Then, using these vectors, we can define a triangle using $x$, $y$, and $x-y$\n",
    "\n",
    "- Using the Law of Cosines derived previously\n",
    "\n",
    "$$\\begin{aligned}\n",
    "    \\|x-y\\|^2 &= \\|x\\|^2 + \\|y\\|^2 - 2 \\|x\\| \\|y\\| \\cos{\\theta} \\\\\n",
    "\\end{aligned}$$"
   ]
  },
  {
   "cell_type": "markdown",
   "id": "8dc6e1f7",
   "metadata": {},
   "source": [
    "- Expanding the expression above:\n",
    "\n",
    "$$\\begin{aligned}\n",
    "    \\|x-y\\|^2 &= (x-y) \\cdot (x-y) \\\\\n",
    "    &= x \\cdot x - 2 x \\cdot y + y \\cdot y & \\text{via expanding the expression}\\\\\n",
    "    &= \\|x\\|^2 - 2 (x \\cdot y) + \\|y\\|^2 & \\text{via expanding the expression}\\\\\n",
    "    &= \\|x\\|^2 + \\|y\\|^2 - 2 \\|x\\| \\|y\\| \\cos{\\theta} & \\text{from law of cosines} \\\\\n",
    "\\end{aligned}$$"
   ]
  },
  {
   "cell_type": "markdown",
   "id": "9ab943ca",
   "metadata": {},
   "source": [
    "- Therefore, it must be true that:\n",
    "\n",
    "$$\\begin{aligned}\n",
    "    2 (x \\cdot y) &= 2 \\|x\\| \\|y\\| \\cos{\\theta} \\\\\n",
    "    x \\cdot y &= \\|x\\| \\|y\\| \\cos{\\theta}\n",
    "\\end{aligned}$$\n",
    "\n",
    "- Or equivalently\n",
    "\n",
    "$$\\begin{aligned}\n",
    "    \\frac{x \\cdot y}{\\|x\\| \\|y\\|} &= \\cos{\\theta}\n",
    "\\end{aligned}$$"
   ]
  }
 ],
 "metadata": {
  "language_info": {
   "name": "python"
  }
 },
 "nbformat": 4,
 "nbformat_minor": 5
}
