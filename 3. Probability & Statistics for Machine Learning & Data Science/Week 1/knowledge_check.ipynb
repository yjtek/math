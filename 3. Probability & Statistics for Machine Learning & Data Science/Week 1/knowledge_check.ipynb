{
 "cells": [
  {
   "attachments": {},
   "cell_type": "markdown",
   "metadata": {},
   "source": [
    "1. When throwing a dice twice, what is the probability of getting exactly two 5's? \n",
    "    - $1/6 * 1/6 = 1/36$\n",
    "\n",
    "2. When throwing five dice and summing the result, what is the probability of obtaining a value greater than 5? \n",
    "    - $1 - (\\frac{1}{6})^5$\n",
    "\n",
    "3. What is the probability of getting an odd number or 1, when throwing a dice?\n",
    "    - $\\frac{1}{2}$\n",
    "    - There is no way to get 1 without getting an odd number, so the or statement is redundant. As a Venn diagram, Pr(1) is completely inside the Pr(odd number) set\n",
    "\n",
    "4. What is the probability of getting an odd number or a prime number when throwing one dice?\n",
    "    - Odds: 1,3,5\n",
    "    - Primes: 1,2,3,5\n",
    "    - So Pr(Odd or Prime) = Pr(1,2,3,5) = $\\frac{2}{3}$\n",
    "\n",
    "5. A factory produces two types of products: Type A and Type B. It is known that 70% of the total products are Type A, while the remaining 30% are Type B. The factory has a quality control system that can correctly identify Type A products with a probability of 80% and Type B products with a probability of 90%. If a randomly selected product is tested and found to be of high quality, what is the probability that it is Type A?\n",
    "    - The question is not phrased very well, but I'm going to assume that the QC system correctly identifies **high quality** type A products 80% of the time, and **high quality** type B products 90% of the time\n",
    "        - That is $Pr(\\text{identified HQ} | \\text{Type A}) = 0.8$, $Pr(\\text{identified HQ} | \\text{type B}) = 0.9$\n",
    "        - We will assume that if product is not HQ, probability of HQ identification by QC system is 0\n",
    "\n",
    "    - Let's compute $Pr(\\text{identified HQ}) = Pr(\\text{HQ} | \\text{A}) \\cdot Pr(\\text{A}) + Pr(\\text{HQ} | \\text{B}) \\cdot Pr(\\text{B}) = 0.8*0.7 + 0.9*0.3 = 0.83$\n",
    "\n",
    "$$\n",
    "    \\begin{align}\n",
    "    Pr(\\text{Type A} | \\text{identified HQ}) &= \\frac{Pr(\\text{identified HQ} | \\text{type A}) \\cdot Pr(\\text{Type A})} {Pr(\\text{identified HQ})} \\\\\n",
    "    &= \\frac{0.8*0.7}{0.83} \\\\\n",
    "    &= 0.675\n",
    "    \\end{align}\n",
    "$$\n",
    "\n",
    "\n",
    "6. When flipping a coin 10 times, you want to investigate how many heads will show up in average. How can you define a random variable to work with this problem?\n",
    "     - Let $X$ be a random variable denoting the number of heads in 10 tosses\n",
    "     - $E[X]$ is the average number of heads\n",
    "\n",
    "7. You throw 10 dice and observe how many even numbers show up. Which random variable and parameters can describe this situation?\n",
    "    - Let X be random variable denoting heads of tails for a single toss\n",
    "    - X ~ Bin(10, 0.5)\n",
    "\n",
    "8. For the given distributions, write down their Probability Density Functions (i) Uniform[0,5], (ii) Normal(5,1)\n",
    "    - (i) $f(x) = \\frac{1}{5-0} $\n",
    "    - (ii) $f(x) = \\frac{1}{\\sqrt{2 \\cdot \\pi \\cdot \\sigma^2}} \\cdot e^{-\\frac{1}{2} \\cdot (\\frac{x - \\mu}{\\sigma})^2}$"
   ]
  }
 ],
 "metadata": {
  "language_info": {
   "name": "python"
  },
  "orig_nbformat": 4
 },
 "nbformat": 4,
 "nbformat_minor": 2
}
