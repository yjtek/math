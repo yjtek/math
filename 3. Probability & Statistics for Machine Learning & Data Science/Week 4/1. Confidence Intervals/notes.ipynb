{
 "cells": [
  {
   "attachments": {},
   "cell_type": "markdown",
   "metadata": {},
   "source": [
    "## Confidence interval"
   ]
  },
  {
   "attachments": {},
   "cell_type": "markdown",
   "metadata": {},
   "source": [
    "- Suppose we have a hypothesis `H`. This could be anything, but simplicity, let's consider `H` to refer to the mean of the population\n",
    "    - \n",
    "    - When talking about CI, we always speak of CI w.r.t some confidence level $\\alpha$\n",
    "    - "
   ]
  }
 ],
 "metadata": {
  "language_info": {
   "name": "python"
  },
  "orig_nbformat": 4
 },
 "nbformat": 4,
 "nbformat_minor": 2
}
