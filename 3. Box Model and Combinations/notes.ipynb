{
 "cells": [
  {
   "attachments": {},
   "cell_type": "markdown",
   "metadata": {},
   "source": [
    "## Motivating Example"
   ]
  },
  {
   "attachments": {},
   "cell_type": "markdown",
   "metadata": {},
   "source": [
    "One of the most coveted hands in poker is a four-of-a-kind, which is when the hand contains all four cards of a particular rank. In this lesson, we will calculate the probability of a four-of-a-kind in two ways: (1) using methods that we have already learned and (2) using combinations, which is a new method that will be introduced in this lesson."
   ]
  },
  {
   "attachments": {},
   "cell_type": "markdown",
   "metadata": {},
   "source": [
    "## Theory"
   ]
  },
  {
   "attachments": {},
   "cell_type": "markdown",
   "metadata": {},
   "source": [
    "- Many probability qns can be reduced to a \"box\" model\n",
    "    - There is a box with $N$ items, and you want to draw $n$ items from it\n",
    "    - Draws can be made **with replacement**, or **without replacement**\n",
    "    - Draw $n$ items with replacement: $N \\cdot N ... N = N^n$\n",
    "    - Draw $n$ items without replacement: $N \\cdot (N-1) ... (N-n+1) = \\frac{N!}{(N-n)!}$\n"
   ]
  },
  {
   "attachments": {},
   "cell_type": "markdown",
   "metadata": {},
   "source": [
    "- Example: Probability of 4 of a kind poker hand\n",
    "    1. Total number of poker hands: $\\frac{52!}{(52-5)!}$\n",
    "    2. To get a 4 of a kind hand, we need to get 4 of the same card number, with the last card taking any value\n",
    "        - From a full deck, any card can form a 4 of a kind. So the 1st card can be anything, i.e. $52$ ways to draw\n",
    "        - The 2nd, 3rd, and 4th cards have to be of the type as the first. So, respectively, $3$, $2$, and $1$ way to draw them\n",
    "        - The last card can be anything, so $48$ probabilities\n",
    "        - Finally, we have only considered the number of ways to get $c_1, c_2, c_3, c_4, k$ where `k` is the kicker. Of course, it is possible to have `k` anywhere in this sequence. e.g. $k, c_1, c_2, c_3, c_4$ works too. Since `k` can be in any of the 5 positions, we multiply the number of ways computed by 5.\n",
    "        - Total number of ways to a 4 of a kind hand: $52 * 3 * 2 * 1 * 48 * 5$\n",
    "    3. Probability of 4 of a kind: 0.024%"
   ]
  },
  {
   "attachments": {},
   "cell_type": "markdown",
   "metadata": {},
   "source": [
    "- Confusion 1: Why do we not do this for the other cards? i.e. Can't $c_1, c_2, c_3, c_4$ also appear in some other order? In which case we should multiply by $5!$ instead of 5\n",
    "    - This confusion disappears if you think more carefully about the product you computed. Since you have taken $52 * 3 * 2 * 1$, this already accounts for all possible combinations of drawing any 4 of a kind.\n",
    "    - For example, suppose we drew an ace of spaces in the first card. We next multiply this by 3, accounting for the probability that the second card is ace of hearts/clubs/diamonds. As such, we no longer have the account for the positions of the 4 of a kind cards\n",
    "\n",
    "- Confusion 2: If we have already accounted for all scenarios with the 4 of a kind cards, and there are 48 kickers, why must you still multiply by 5? \n",
    "    - What does it mean to have a four of a kind hand? It means, when you draw 5 cards, 4 of which have the same value, and 1 additional card that can be anything\n",
    "        - The confusion here is with the word **AND**. The product method we have used deals with ordered outcomes. \n",
    "            - That is, $52 * 3 * 2 * 1 * 48$ means drawing the cards in this exact order $c_1, c_2, c_3, c_4, k$\n",
    "            - It does not include an option like $k, c_1, c_2, c_3, c_4$, where the kicker is drawn first\n",
    "            - So the final count is $(52 * 3 * 2 * 1 * 48) + (52 * 3 * 2 * 48 * 1) + (52 * 3 * 48 * 2 * 1) + (52 * 48 * 3 * 2 * 1) + (48 * 52 * 3 * 2 * 1)$ \n",
    "            - This explains why there is a need for the multiplication by 5, because of the number of ways `k` can be arranged\n",
    "            \n",
    "    - Let's use a brain dead example to illustrate this idea\n",
    "        - Suppose there are 2 black and 1 red balls in a box. Let's call these B1, B2, R1\n",
    "        \n",
    "        - How many ways can I get 1 black and 1 red ball if I draw without replacement? By brute force, 4 ways:\n",
    "            - B1, R1\n",
    "            - B2, R1\n",
    "            - R1, B1\n",
    "            - R1, B2\n",
    "            \n",
    "        - If we used the product method, we can start by saying that there are $3$ ways to draw the first, because it doesn't matter if you draw red or black (both are needed)\n",
    "        - But for next draw, it becomes tricky. \n",
    "            - If B1\n",
    "                - 1 option: R1\n",
    "            - If B2\n",
    "                - 1 option: R1\n",
    "            - If R1\n",
    "                - 2 options: B1, B2\n",
    "            - Since there is an even chance for any of the options above, we just take a weighted sum of the number of options: $\\frac{1}{3} \\cdot 1 + \\frac{1}{3} \\cdot 1 + \\frac{1}{3} \\cdot 2 = \\frac{4}{3}$\n",
    "            - As such, the total number of ways to do this via the product rule is $3 * \\frac{4}{3} = 4 \\text{ ways}$\n",
    "        \n",
    "        - This is **extremely** tedious to do if you have multiple draws, each with branching probabilities\n",
    "    \n",
    "        - To avoid having to compute the weighted probabilities, we can use another approach to computing the number of ways to get 1 red and 1 black. \n",
    "            - First, compute the constituent probabilities separately \n",
    "                - Number of ways to get 1B: 2 ways\n",
    "                - Number of ways to get 1R: 1 way\n",
    "            - Next, compute the number of ways\n",
    "                - Number of ways to get 1B **THEN** 1R: 2*1 = 2 ways\n",
    "                - Number of ways to get 1R **THEN** 1B: 1*2 = 2 ways\n",
    "                - Total ways = 4 ways\n",
    "                \n",
    "- Confusion 3: In this scenario $52 * 3 * 2 * 1 * 48$, the kicker is the last card drawn, so there are 48 cards left in the deck. However, if we draw the kicker second, won't there be more cards in the deck, and hence this product no longer holds?\n",
    "    - It will still hold, because regardless of when you draw the kicker, it is by definition not the same value as the first card you draw. So regardless, there are only 48 kickers\n"
   ]
  },
  {
   "attachments": {},
   "cell_type": "markdown",
   "metadata": {},
   "source": [
    "### Combinatorics when order doesn't matter"
   ]
  },
  {
   "attachments": {},
   "cell_type": "markdown",
   "metadata": {},
   "source": [
    "- What is the difference between ordered and un-ordered counts? Taking the same poker example:\n",
    "    - Number of ordered hands: $52*51*50*49*48 = \\frac{52!}{(52-5)!}$\n",
    "    - Let's take one specific hand to consider: $5_H, 6_H, 7_H, 8_H, 9_H$\n",
    "        - In the ordered scenario, $5_H, 6_H, 7_H, 8_H, 9_H$ is counted separately from $9_H, 8_H, 7_H, 6_H, 5_H$, though the hand is the same\n",
    "        - In the unordered scenario, we say that they are the same hand\n",
    "\n",
    "        - For every 5 card hand, there is `5!` number of ways to arrange the constituents.\n",
    "        - As such, the number of unordered hands is simply the number of ordered hands divided by `5!`\n",
    "    - Number of unordered hands: $\\frac{52*51*50*49*48}{5!} = \\frac{52!}{(52-5)! \\cdot 5!}$"
   ]
  },
  {
   "attachments": {},
   "cell_type": "markdown",
   "metadata": {},
   "source": [
    "- Let's revisit the probability of 4 of a kind hands in poker again\n",
    "    - Previously, we looked at the poker hands from the perspective of ordered hands. This is overkill, because in poker we consider all hands as a set without regard to order\n",
    "    - Let's use what we just learnt to consider **unordered** hands\n",
    "    \n",
    "    - Total number of possible unordered hands: $\\frac{52!}{(52-5)! \\cdot 5!}$\n",
    "    - Total number of 4 of a kind hands\n",
    "        - Choose 1 of 13 suits for your 4 of a kind\n",
    "        - Choose 1 of 48 kickers for each possible suit\n",
    "        - $13 * 48 = 634$\n",
    "    - Probability of 4 of a kind approximately 0.02%, same as what we got previously"
   ]
  }
 ],
 "metadata": {
  "language_info": {
   "name": "python"
  },
  "orig_nbformat": 4
 },
 "nbformat": 4,
 "nbformat_minor": 2
}
