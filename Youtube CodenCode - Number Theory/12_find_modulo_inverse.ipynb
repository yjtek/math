{
 "cells": [
  {
   "cell_type": "markdown",
   "metadata": {},
   "source": [
    "### Finding modulo multiplicative inverse"
   ]
  },
  {
   "cell_type": "markdown",
   "metadata": {},
   "source": [
    "- In the previous section, we defined a modulo multiplicative inverse (MMI) $A$ under $P$ to be $X$ such that $A*X \\equiv 1 (\\mod P)$\n",
    "\n",
    "- However, we saw that finding a modulo multiplicative inverse through brute force is extremely tedious if $P$ is large! Finding MMI is linear time \n",
    "\n",
    "- We'll look at 2 algorithms to compute modulo inverse efficiently\n",
    "    1. Fermat's Little Theorem\n",
    "    2. Extended Euclidean Algorithm"
   ]
  },
  {
   "cell_type": "markdown",
   "metadata": {},
   "source": [
    "### Fermat's Little Theorem"
   ]
  },
  {
   "cell_type": "markdown",
   "metadata": {},
   "source": [
    "- Let $m$ be a prime number, and $a$ be an integer co-prime with $m$s. Then $$a^{m-1} \\equiv 1 (\\mod m)$$\n",
    "    - Dividing both sides by $a$: $$a^{m-2} \\equiv a^{-1} (\\mod m)$$\n",
    "    - So this tells us that, to compute modulo inverse of $a$, we just need to compute $a^{m-2} \\mod m$ "
   ]
  },
  {
   "cell_type": "code",
   "execution_count": 10,
   "metadata": {},
   "outputs": [],
   "source": [
    "def power(base: int, power: int, prime: int):\n",
    "    result: int = 1\n",
    "    while power > 0:\n",
    "        if power % 2 == 1:\n",
    "            result = (result * base) % prime\n",
    "            power -= 1\n",
    "        \n",
    "        base = (base * base) % prime \n",
    "        power = power // 2 \n",
    "    \n",
    "    return result\n",
    "\n",
    "def modulo_inverse_with_fermat_little_theorem(base: int, prime: int):\n",
    "    modulo_inverse = power(base=base, power=prime-2, prime=prime)\n",
    "    assert ((base * modulo_inverse) % prime) == 1\n",
    "    return modulo_inverse\n",
    "\n",
    "# modulo_inverse_with_fermat_little_theorem(9172, 23)"
   ]
  }
 ],
 "metadata": {
  "kernelspec": {
   "display_name": "kaggle",
   "language": "python",
   "name": "python3"
  },
  "language_info": {
   "codemirror_mode": {
    "name": "ipython",
    "version": 3
   },
   "file_extension": ".py",
   "mimetype": "text/x-python",
   "name": "python",
   "nbconvert_exporter": "python",
   "pygments_lexer": "ipython3",
   "version": "3.10.4"
  }
 },
 "nbformat": 4,
 "nbformat_minor": 2
}
