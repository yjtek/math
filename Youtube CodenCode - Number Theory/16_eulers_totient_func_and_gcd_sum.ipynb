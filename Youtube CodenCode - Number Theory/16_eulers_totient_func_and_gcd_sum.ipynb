{
 "cells": [
  {
   "cell_type": "markdown",
   "metadata": {},
   "source": [
    "### Euler's Totient Function (ETF) and GCD sum"
   ]
  },
  {
   "cell_type": "markdown",
   "metadata": {},
   "source": [
    "- Problem: Can we find $x = \\sum_{i=1}^{N} \\text{GCD}(i, N)$ for a given value of $N$?\n",
    "\n",
    "- Brute force: Loop from 1 to N, adding GCD of $(i, N)$ for each iteration. \n",
    "    - Recall that $GCD$ can be computed using Euclid's algorithm, which has $O(\\log(N))$ time complexity\n",
    "    - We have $N$ iterations, so the `gcd()` function is called $N$ times\n",
    "    - This gives us a total of $O(N \\log(N))$ for each query input $N$\n",
    "\n",
    "- We will explore how we can solve this in $O(\\sqrt{N})$ time!"
   ]
  },
  {
   "cell_type": "markdown",
   "metadata": {},
   "source": [
    "- Some observations first\n",
    "    - Imagine $N=12$\n",
    "    - Note 1: `gcd(i, N)` must be a divisor of $N$. \n",
    "        - Recall that we can get all the divisors of $N$ in $O(\\sqrt{N})$ time (looping over 1 to $\\sqrt{N}$ to find candidate divisors)\n",
    "    - Note 2: \n",
    "        - Since $N=12$, we want go find $S = \\{\\text{gcd}(1,12), \\text{gcd}(2,12), ... \\text{gcd}(12,12)\\}$\n",
    "        - In the brute force way, we loop from 1 to 12 and compute the `gcd` function\n",
    "        - Let's make use of **Note 1**; that the `gcd` must return a divisor of 12\n",
    "            - So instead of looping from 1 to 12, we can instead loop over the divisors of 12, which can be attained in $O(\\sqrt{N})$ time!\n",
    "            - But there is a catch, since we know the value of the divisors, we now need a way to know how many times they appear!\n",
    "                - For example, 1 is a divisor of 4 items in $S$; $\\text{gcd}(1,12), \\text{gcd}(5,12), \\text{gcd}(7,12), \\text{gcd}(11,12)$\n",
    "                - So the contribution of 1 to $x = \\sum_{i=1}^{N} \\text{GCD}(i, N)$ is $4 * 1$\n",
    "        \n",
    "- Let's write some pseudo template code based on the observations above. For now, we assume we have a `get_count()` function that allows us to work through this in $O(\\sqrt{N})$ time\n",
    "    - Notice that `get_count` has to be constant time, for the `gcd_sum` function to be $O(\\sqrt{N})$ time complexity"
   ]
  },
  {
   "cell_type": "code",
   "execution_count": 1,
   "metadata": {},
   "outputs": [],
   "source": [
    "def gcd_sum(N):\n",
    "    result = 0\n",
    "    for i in range(1,N+1):\n",
    "        if N % i == 0:\n",
    "            # i divides n, so find the divisor pair (i,j) where j=N/i\n",
    "            divisor1 = i\n",
    "            divisor2 = N/i\n",
    "            result += i * get_count(divisor1, N)\n",
    "            \n",
    "            if divisor1 != divisor2:\n",
    "                result += i * get_count(divisor2, N)\n",
    "    return result"
   ]
  },
  {
   "cell_type": "markdown",
   "metadata": {},
   "source": [
    "### Evaluating `get_count` with Euler's Totient Function"
   ]
  },
  {
   "cell_type": "markdown",
   "metadata": {},
   "source": [
    "- Problem: Count the number of integers $i$ from 1 to N where $\\text{gcd}(i, N) = d$\n",
    "    - Let's assume there are integers $x_1 ... x_m$ between 1 and N that meets the criteria that $\\text{gcd}(x_i, N) = d$\n",
    "    - If $\\text{gcd}(x_i, N) = d$, then $\\text{gcd}(\\frac{x_i}{d}, \\frac{N}{d}) = 1$\n",
    "        - Why? Because if your write $x_i, N$ as a product of prime factors, dividing by their GCD simply means removing all the primes they have in common! That must mean that they are now co-prime after division by GCD\n",
    "    - That must mean that $x_i$ where $\\text{gcd}(x_i, N) = d$ forms a bijection (1:1 mapping) with all numbers meeting $\\text{gcd}(\\frac{x_i}{d}, \\frac{N}{d}) = 1$\n",
    "        - But $\\text{gcd}(\\frac{x_i}{d}, \\frac{N}{d}) = 1$ is just akin to finding all numbers from 1 to N that are co-prime with $N$!!!\n",
    "        - This is simply Euler's Totient Function $\\phi(N)$\n",
    "        - That is; $\\text{count}(x_i, \\text{where } \\text{gcd}(x_i, N) = d) = \\phi(N)$\n",
    "\n",
    "    - So to perform `get_count` in constant time, we just pre-compute $\\phi(X)$ for all values of $X$ between 1 and some large number $N$, then look it up in constant time"
   ]
  },
  {
   "cell_type": "code",
   "execution_count": 9,
   "metadata": {},
   "outputs": [],
   "source": [
    "# list(range(4, 100, 2))\n",
    "N = 100"
   ]
  },
  {
   "cell_type": "code",
   "execution_count": 54,
   "metadata": {},
   "outputs": [],
   "source": [
    "def erastothenes_sieve(n):\n",
    "    '''\n",
    "    O(N log log N)\n",
    "    '''\n",
    "    sieve = [-1] * (n+1)\n",
    "    sieve[0], sieve[1] = 0, 1\n",
    "    for i in range(2, n+1):\n",
    "        sieve[i**i: n+1: i] = [int(i)] * len(sieve[i**i: n+1: i])\n",
    "    return sieve\n",
    "\n",
    "def get_prime_factors(n):\n",
    "    '''\n",
    "    O(log N)\n",
    "    '''\n",
    "    prime_factors = []\n",
    "    while n != 1:\n",
    "        curr_prime = sieve[n]\n",
    "        if sieve[n] == -1:\n",
    "            prime_factors.append(n)\n",
    "            n = 1\n",
    "            continue\n",
    "        n = int(n / sieve[n])\n",
    "        prime_factors.append(int(sieve[n]))\n",
    "    return set(prime_factors)\n",
    "\n",
    "def eulers_totient_function(n):\n",
    "    '''\n",
    "    O(N log log N) for sieve computation\n",
    "    '''\n",
    "    if n == 0:\n",
    "        return 0\n",
    "    result = n\n",
    "    prime_factors = get_prime_factors(n)\n",
    "    for prime in prime_factors:\n",
    "        result *= ((prime-1)/prime)\n",
    "    return result\n",
    "\n",
    "def get_count(divisor, N):\n",
    "    return phi[int(N/divisor)]\n",
    "\n",
    "def gcd_sum(N):\n",
    "    result = 0\n",
    "    for i in range(1,int(N**0.5)+1):\n",
    "        # print(f\"{N=}, {i=}, {N%i=}\")\n",
    "        if N % i == 0:\n",
    "            # i divides n, so find the divisor pair (i,j) where j=N/i\n",
    "            divisor1 = i\n",
    "            divisor2 = N/i\n",
    "            result += (i * get_count(divisor1, N))\n",
    "            if divisor1 != divisor2:\n",
    "                result += (i * get_count(divisor2, N))\n",
    "    return result"
   ]
  },
  {
   "cell_type": "code",
   "execution_count": 57,
   "metadata": {},
   "outputs": [
    {
     "data": {
      "text/plain": [
       "663.0"
      ]
     },
     "execution_count": 57,
     "metadata": {},
     "output_type": "execute_result"
    }
   ],
   "source": [
    "gcd_sum(N)"
   ]
  }
 ],
 "metadata": {
  "kernelspec": {
   "display_name": "kaggle",
   "language": "python",
   "name": "python3"
  },
  "language_info": {
   "codemirror_mode": {
    "name": "ipython",
    "version": 3
   },
   "file_extension": ".py",
   "mimetype": "text/x-python",
   "name": "python",
   "nbconvert_exporter": "python",
   "pygments_lexer": "ipython3",
   "version": "3.10.4"
  }
 },
 "nbformat": 4,
 "nbformat_minor": 2
}
