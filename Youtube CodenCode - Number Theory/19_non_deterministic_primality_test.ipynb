{
 "cells": [
  {
   "cell_type": "markdown",
   "metadata": {},
   "source": [
    "### Non-Deterministic Primality Test"
   ]
  },
  {
   "cell_type": "markdown",
   "metadata": {},
   "source": [
    "- What are deteriministic vs non-deterministic algorithms?\n",
    "    - Deterministic: Tests primality with 100% accuracy\n",
    "    - Non-deterministic: Tests primality with some small amount of error (e.g. Fermat's primality test)\n",
    "    - So far, we've only looked at deterministic test\n",
    "\n",
    "- Why study primality test with errors?\n",
    "    - Because deterministic tests run in $O(\\sqrt{N})$ time, which is extremely slow\n",
    "    - Imagine you are asked to test primality of numbers up to $10^{19}$. WIth $O(\\sqrt{N})$, you need $10^{9+}$ operations!     \n",
    "    - Non-deterministic tests run in $O(\\log{N})$ time"
   ]
  },
  {
   "cell_type": "markdown",
   "metadata": {},
   "source": [
    "### Problem"
   ]
  },
  {
   "cell_type": "markdown",
   "metadata": {},
   "source": [
    "- Problem: You are given 2 integers $N$ and $K$. Can $N$ be represented as a sum of $K$ prime numbers?\n",
    "    - $1 \\le N, K \\le 10^{12}$"
   ]
  },
  {
   "cell_type": "markdown",
   "metadata": {},
   "source": [
    "#### 1. Fermat Primality Test"
   ]
  },
  {
   "cell_type": "markdown",
   "metadata": {},
   "source": [
    "- Based on Fermat's little theorem (FLT) (we also used this in Euler's Totient Function)\n",
    "    - FLT: For a prime number $p$ and a coprime integer $a$, it must be true that $a^{p-1} \\equiv 1 \\mod p$\n",
    "    - $p$ does not hold for composite numbers **in general**\n",
    "        - Can we use this to conclude whether a number if prime? i.e. if FLT holds, then number is prime\n",
    "\n",
    "- Approach\n",
    "    - Choose $a$ such that $2 \\le a \\le p-2$ and compute $a^{p-1}$\n",
    "        - Why do we choose $a$ only up to $a=p-2$?\n",
    "            - $a^n \\mod p = (a \\mod p)^n \\mod p$, by modular arithmetic\n",
    "            - If $a = p-1$, $p-1 \\mod p = p-1$\n",
    "            - Then $a^{n} \\mod p = (a \\mod p)^n \\mod p = ((p-1) \\mod p)^n \\mod p = (p-1)^n \\mod p = (p-1)^{p-1} \\mod p$\n",
    "            - We know that $p$ must be odd, because every prime is odd. Thereby, $p-1$ must be even\n",
    "            - Notice that $(p-1)^{p-1}$ is just binomial expansion $S$. \n",
    "                - Every term of the expansion must contain some polynomial of $p$ except the last term, which will be +1 since $p-1$ is even\n",
    "            - Also keep in mind that $a+b \\mod p = (a \\mod p + b \\mod p) \\mod p$\n",
    "            - So the binomial expansion $S \\mod p$ must be 1\n",
    "            - As such, using $a=p-1$ when $p$ is odd will always give us $a^{p-1} \\equiv 1 \\mod p$, which is useless as a primality test\n",
    "\n",
    "    - Then we compute $r = a^{p-1} \\mod p$\n",
    "    - If the $r \\neq 1$, we can conclude with certainty that $p$ is not a prime!! So $a$ is known as Fermat's witness for compositeness of $p$\n",
    "    - If $r = 1$, we **cannot** conclude with certainty that $p$ is prime! Because there are composite numbers $p'$ that have this property where $a^{p' - 1} \\equiv 1 \\mod p' $  \n",
    "        - So now $p$ is known as a probable prime\n",
    "        - However, it is extremely unlikely for multiple randomly chosen $a$ to meet this property if $p'$ is composite. So if we perform multiple iterations of this, we can become extremely certain about the primality of $p$"
   ]
  },
  {
   "cell_type": "code",
   "execution_count": 55,
   "metadata": {},
   "outputs": [
    {
     "data": {
      "text/plain": [
       "True"
      ]
     },
     "execution_count": 55,
     "metadata": {},
     "output_type": "execute_result"
    }
   ],
   "source": [
    "import random\n",
    "\n",
    "def probable_prime_fermat(n: int, iter: int = 10) -> bool:\n",
    "    '''\n",
    "    NOTE: BINARY EXPONENTIATION is needed when taking power, so don't blindly take (a ** n-1) because you will get an overflow\n",
    "    '''\n",
    "    if n < 4:\n",
    "        return ((n == 2) or (n == 3))\n",
    "    \n",
    "    for i in range(iter):\n",
    "        a = random.randint(2, n-1)\n",
    "        # a = n-1\n",
    "        if pow(a, n-1,n) != 1:\n",
    "            return False\n",
    "    return True\n",
    "\n",
    "probable_prime_fermat(int(9))"
   ]
  },
  {
   "cell_type": "markdown",
   "metadata": {},
   "source": [
    "- For numbers $p$ that are not prime, yet Fermat's little theorem holds for some value $a$, then $a$ is known as a Fermat Liar, and $p$ is a Fermat PseudoPrime\n",
    "\n",
    "- **PROBLEM WITH THIS APPROACH: Carmichael Numbers**\n",
    "    - There are some special non-prime numbers (let's call them $C$) where the condition FLT holds $a^{C-1} \\equiv 1 \\mod C$ holds true for all $\\gcd(a, C) \\neq 1$\n",
    "    - These are called Carmichael numbers\n",
    "    - In other words, if you use Fermat's primality test to test for the primality of a Carmichael number, you can end up assuming the number is prime when it isn't\n",
    "    - Thankfully, there are only 646 such numbers up to $10^9$\n"
   ]
  },
  {
   "cell_type": "markdown",
   "metadata": {},
   "source": [
    "#### 2. Miller-Rabin Primality Test"
   ]
  },
  {
   "cell_type": "markdown",
   "metadata": {},
   "source": [
    "- Based on Fermat's Little Theorem \n",
    "\n",
    "- How does Miller-Rabin Test work?\n",
    "    - For any number $N$, we can write $N-1 = 2^s \\cdot d$, where $s$ is an integer, and $d$ is an odd integer\n",
    "        - e.g. $7 = 2^0 \\cdot 7$\n",
    "    - By Fermat's Little Theorem, $a^{p-1} \\equiv 1 \\mod p$\n",
    "    - Combining both facts\n",
    "        $$\\begin{aligned}\n",
    "            a^{p-1} \\equiv 1 \\mod p &\\Leftrightarrow a^{2^s \\cdot d} \\equiv 1 \\mod p \\\\\n",
    "            &\\Leftrightarrow a^{2^s \\cdot d} - 1 \\equiv 0 \\mod p \\\\\n",
    "            &\\Leftrightarrow (a^{2^{s-1} \\cdot d} + 1)(a^{2^{s-1} \\cdot d} - 1) \\equiv 0 \\mod p & a^{2^s \\cdot d} - 1 \\text{ is } a^2 - b^2\\\\\n",
    "            &\\Leftrightarrow (a^{2^{s-1} \\cdot d} + 1)(a^{2^{s-2} \\cdot d} + 1)(a^{2^{s-2} \\cdot d} - 1) \\equiv 0 \\mod p  \\\\\n",
    "            &\\Leftrightarrow (a^{2^{s-1} \\cdot d} + 1)(a^{2^{s-2} \\cdot d} + 1)...(a^{d} + 1)(a^{d} - 1) \\equiv 0 \\mod p  \\\\\n",
    "            \\end{aligned}$$\n",
    "    - We have transformed Fermat's little theorem into a polynomial product\n",
    "        - So if the number $p$ is truly prime, it must divide one of the factors $(a^{2^{k} \\cdot d} + 1)$ for some value of $k$\n",
    "        - So if $p$ does not divide any of these numbers, it cannot be prime\n",
    "        - But if $p$ divides one or more of these numbers, it is only a **probable prime**\n",
    "\n",
    "    - Miller-Rabin test is a stricter test than Fermat's primality test\n",
    "        - Intuitively, Miller Rabin test does not have a corresponding set of Carmichael numbers, so is less susceptible to that pitfall"
   ]
  },
  {
   "cell_type": "code",
   "execution_count": 86,
   "metadata": {},
   "outputs": [
    {
     "data": {
      "text/plain": [
       "True"
      ]
     },
     "execution_count": 86,
     "metadata": {},
     "output_type": "execute_result"
    }
   ],
   "source": [
    "def check_composite(n: int, a: int, d: int, s: int):\n",
    "    x: int = pow(a, d, n)\n",
    "    \n",
    "    ## Check the last 2 terms in the product; a^d+1 and a^d - 1. \n",
    "    ## If a^d mod n returns n-1. then a^d+1 must return 0\n",
    "    ## If a^d mod n returns 1. then a^d-1 must return 0\n",
    "    ## Then we know for sure that the number is prime, by miller rabin, since n divides one of the products \n",
    "    if ((x == 1) or (x == (n-1))): \n",
    "        return False\n",
    "    \n",
    "    ## After checking the last 2 terms, check the rest of the polynomials in a loop\n",
    "    for _ in range(s):\n",
    "        x = pow(x, 2, n) ##At the first loop, x=a^d. By squaring it, we get a^2d. Then a^4d and so on\n",
    "\n",
    "        ## Since all other polynomial terms are a^{...} + 1, if they are divisible by p, then a^{...} must be 1 less than a number divisible by p\n",
    "        if x == (n-1):\n",
    "            ## Not a prime\n",
    "            return False \n",
    "    return True\n",
    "\n",
    "\n",
    "def miller_rabin(n: int, iter: int = 5) -> bool:\n",
    "    '''\n",
    "    We want to test if input `n` is prime\n",
    "    '''\n",
    "    if (n < 4):\n",
    "        return ((n == 2) or (n == 3))\n",
    "\n",
    "    ## Express n-1 as 2^{s} . d\n",
    "    s = 0\n",
    "    d = n-1\n",
    "\n",
    "    ### bitwise & that returns true if d is odd\n",
    "    ### After this loop, it is guaranteed that 2^{s} . d = n-1\n",
    "    while not (d & 1):\n",
    "        s += 1\n",
    "        d >>= 1 #bitwise operation, rightshift d by 1, equivalent to floor division of d by 2\n",
    "    \n",
    "    for _ in range(iter):\n",
    "        a = random.randrange(2, n-1) #as proved in the last section, you cannot have a = n-1, so a can only go from 2 to n-2\n",
    "        if check_composite(n, a, d, s):\n",
    "            return False\n",
    "\n",
    "    return True\n",
    "    \n",
    "miller_rabin(571)"
   ]
  },
  {
   "cell_type": "markdown",
   "metadata": {},
   "source": [
    "#### 3. Deterministic Miller-Rabin Primality Test "
   ]
  },
  {
   "cell_type": "markdown",
   "metadata": {},
   "source": [
    "- If choosing 32 bit number, you can get a deterministic Miller-Rabin test if you use 2,3,5,7 as the base (i.e. as $a$)\n",
    "- If choosing 64 bit number, you can get a deterministic Miller-Rabin test if you use 2,3,5,7,...37 as the base (i.e. as $a$)\n",
    "- Because the earliest number that gives the wrong answer is bigger than 32 bits. It was proved by brute force"
   ]
  }
 ],
 "metadata": {
  "kernelspec": {
   "display_name": ".venv",
   "language": "python",
   "name": "python3"
  },
  "language_info": {
   "codemirror_mode": {
    "name": "ipython",
    "version": 3
   },
   "file_extension": ".py",
   "mimetype": "text/x-python",
   "name": "python",
   "nbconvert_exporter": "python",
   "pygments_lexer": "ipython3",
   "version": "3.12.2"
  }
 },
 "nbformat": 4,
 "nbformat_minor": 2
}
