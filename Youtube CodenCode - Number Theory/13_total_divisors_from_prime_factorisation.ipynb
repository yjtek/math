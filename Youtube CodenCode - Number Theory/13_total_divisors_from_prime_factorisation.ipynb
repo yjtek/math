{
 "cells": [
  {
   "cell_type": "markdown",
   "metadata": {},
   "source": [
    "### Total divisors from prime factorisation"
   ]
  },
  {
   "cell_type": "markdown",
   "metadata": {},
   "source": [
    "- Problem: Find the total number of divisors from prime factorisation of a given number $N$\n",
    "    - Example: $300 = 2^2 * 3^1 * 5^2$\n",
    "    - Total number of divisors is just the total number of ways to combine the prime factors!\n",
    "    - Rewriting the summation: $300 = a^p + b^q + c^r$\n",
    "    - Then the total number of divisors are $(p+1)(q+1)(r+1)$, because $p$ can be anythin from $[0...p]$, and the values of p,q,r are independently chosen\n",
    "\n",
    "- Problem: Given a number's prime factorisation, find total number of divisors and print it modulo $10^9 + 7$\n",
    "    - Example: $2^{1000} + 3^{1500} + 13^{10^6}$\n",
    "    - Clearly, this number is huge. So if you try to brute force the number of integers, you will definitely get an overflow\n",
    "    - Use the formula $(p+1)(q+1)(r+1) = 1001 * 1501 * 1000001 = 1502502502501$ \n"
   ]
  }
 ],
 "metadata": {
  "kernelspec": {
   "display_name": "kaggle",
   "language": "python",
   "name": "python3"
  },
  "language_info": {
   "codemirror_mode": {
    "name": "ipython",
    "version": 3
   },
   "file_extension": ".py",
   "mimetype": "text/x-python",
   "name": "python",
   "nbconvert_exporter": "python",
   "pygments_lexer": "ipython3",
   "version": "3.10.4"
  }
 },
 "nbformat": 4,
 "nbformat_minor": 2
}
