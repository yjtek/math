{
 "cells": [
  {
   "cell_type": "markdown",
   "metadata": {},
   "source": [
    "### Binomial Coefficient using Modulo Inverse"
   ]
  },
  {
   "cell_type": "markdown",
   "metadata": {},
   "source": [
    "- Recall the binomial theorem; $(a+b)^n = \\sum_{i=0}^{n} \\binom{n}{i} p^{i} (1-p)^{n-i}$\n",
    "    - Most components of the summation are done in constant time O(1), except for the $binom{x}{y}$ term\n",
    "\n",
    "- Problem: What is the best way to compute $\\binom{N}{K} \\mod P$ where $P > N$?\n",
    "    - Assume $P = 10^9 + 7$ for convenience\n",
    "\n",
    "- Let's take this as true: $\\binom{N}{K} = \\frac{N!}{K! (N-K)!} = \\frac{N! \\mod P}{(K! \\mod P) ((N-K)! \\mod P)}$\n",
    "    - Note that the last step (with the modulo division), is not truly division!\n",
    "    - We are simply multiplying $N! \\mod P$ by the inverse of $(K! \\mod P)$ and $((N-K)! \\mod P)$\n",
    "    - Applying Fermat's little theorem from lecture 12 to compute inverse \n"
   ]
  },
  {
   "cell_type": "code",
   "execution_count": 54,
   "metadata": {},
   "outputs": [],
   "source": [
    "prime: int = int(10**9 + 7)\n",
    "\n",
    "def precompute_factorials_up_to_n(n: int = int(1e6), prime: int = prime):\n",
    "    factorials = [None] * (n+1)\n",
    "    factorials[0] = factorials[1] = 1\n",
    "\n",
    "    for factorial_val in range(2, n+1):\n",
    "        factorials[factorial_val] = (factorials[factorial_val-1] * factorial_val) % prime\n",
    "    \n",
    "    return factorials\n",
    "\n",
    "factorials: list[int] = precompute_factorials_up_to_n()\n",
    "\n",
    "def power(base: int, exponent: int, prime: int = prime):\n",
    "    result: int = 1\n",
    "    while exponent > 0:\n",
    "        if exponent % 2 == 1:\n",
    "            result = (result * base) % prime\n",
    "            exponent -= 1\n",
    "\n",
    "        base = (base * base) % prime\n",
    "        exponent //= 2\n",
    "    return int(result)\n",
    "    \n",
    "def inv(base: int, prime: int = prime):\n",
    "    inverse: int = power(base, prime-2, prime)\n",
    "    # assert ((base * inverse) % prime) == 1\n",
    "    return int(inverse)\n",
    "\n",
    "def n_choose_k(n: int, k: int, prime: int = prime):\n",
    "    if k > n:\n",
    "        return 0\n",
    "    \n",
    "    result = factorials[n] \n",
    "    result = (result * (power(factorials[k], prime-2, prime))) % prime\n",
    "    result = (result * (power(factorials[n-k], prime-2, prime))) % prime\n",
    "    return int(result)"
   ]
  },
  {
   "cell_type": "code",
   "execution_count": 58,
   "metadata": {},
   "outputs": [
    {
     "data": {
      "text/plain": [
       "10"
      ]
     },
     "execution_count": 58,
     "metadata": {},
     "output_type": "execute_result"
    }
   ],
   "source": [
    "n_choose_k(5,3)"
   ]
  }
 ],
 "metadata": {
  "kernelspec": {
   "display_name": "kaggle",
   "language": "python",
   "name": "python3"
  },
  "language_info": {
   "codemirror_mode": {
    "name": "ipython",
    "version": 3
   },
   "file_extension": ".py",
   "mimetype": "text/x-python",
   "name": "python",
   "nbconvert_exporter": "python",
   "pygments_lexer": "ipython3",
   "version": "3.10.4"
  }
 },
 "nbformat": 4,
 "nbformat_minor": 2
}
