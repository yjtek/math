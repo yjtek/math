{
 "cells": [
  {
   "cell_type": "markdown",
   "metadata": {},
   "source": [
    "### Prime factorisation with Eratosthenes Sieve"
   ]
  },
  {
   "cell_type": "markdown",
   "metadata": {},
   "source": [
    "- The idea here is quite similar to the original sieve, except instead of marking 0 and 1 in parts of the array depending whether or not they are prime, you want to store the **smallest prime factor** at the relevant indices\n",
    "- Once you have this, for any number, you can traverse the array to get a list of the smallest prime factors by iteratively dividing the index by the smallest prime factor, then moving to the new index to find the new smallest prime factor"
   ]
  },
  {
   "cell_type": "code",
   "execution_count": 49,
   "metadata": {},
   "outputs": [
    {
     "data": {
      "text/plain": [
       "array([  2.,  23., 419.])"
      ]
     },
     "execution_count": 49,
     "metadata": {},
     "output_type": "execute_result"
    }
   ],
   "source": [
    "import numpy as np\n",
    "\n",
    "def prime_factorisation_sieve(num: int) -> list[int]:\n",
    "    '''\n",
    "    Time complexity: \n",
    "        - O(N log log N) for the usual sieve labelling\n",
    "        - log(N) for the factorisation\n",
    "    '''\n",
    "    smallest_prime_factors = np.zeros(num+1) - 1\n",
    "    smallest_prime_factors[0], smallest_prime_factors[1] = 0, 1\n",
    "\n",
    "    for i in range(2, num+1):\n",
    "        if smallest_prime_factors[i] == -1:\n",
    "            smallest_prime_factors[i**2: num+1: i] = np.where(smallest_prime_factors[i**2: num+1: i] == -1, i, smallest_prime_factors[i**2: num+1: i])\n",
    "    \n",
    "    prime_factors = np.array([])\n",
    "    while num != 1:\n",
    "\n",
    "        if smallest_prime_factors[num] == -1:\n",
    "            prime_factors = np.append(prime_factors, int(num))\n",
    "            num = 1\n",
    "            continue\n",
    "        \n",
    "        prime_factors = np.append(prime_factors, int(smallest_prime_factors[num]))\n",
    "        num = int(num / smallest_prime_factors[num])\n",
    "        \n",
    "    return prime_factors\n",
    "\n",
    "prime_factorisation_sieve(19274)"
   ]
  }
 ],
 "metadata": {
  "kernelspec": {
   "display_name": "kaggle",
   "language": "python",
   "name": "python3"
  },
  "language_info": {
   "codemirror_mode": {
    "name": "ipython",
    "version": 3
   },
   "file_extension": ".py",
   "mimetype": "text/x-python",
   "name": "python",
   "nbconvert_exporter": "python",
   "pygments_lexer": "ipython3",
   "version": "3.10.4"
  }
 },
 "nbformat": 4,
 "nbformat_minor": 2
}
